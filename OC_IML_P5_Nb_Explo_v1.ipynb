{
 "cells": [
  {
   "cell_type": "markdown",
   "id": "9aeebeb6",
   "metadata": {},
   "source": [
    "<font size=\"6\">PROJET 5 : Catégorisez automatiquement des questions </font>"
   ]
  },
  {
   "cell_type": "markdown",
   "id": "61164ba2",
   "metadata": {
    "ExecuteTime": {
     "end_time": "2021-07-29T16:09:06.706931Z",
     "start_time": "2021-07-29T16:09:06.682810Z"
    }
   },
   "source": [
    "<font size=\"6\"> Notebook 1 : Exploration </font>"
   ]
  },
  {
   "cell_type": "markdown",
   "id": "ded8af83",
   "metadata": {},
   "source": [
    "**Librairies**"
   ]
  },
  {
   "cell_type": "code",
   "execution_count": 1,
   "id": "dd62d923",
   "metadata": {
    "ExecuteTime": {
     "end_time": "2021-08-20T08:12:52.515096Z",
     "start_time": "2021-08-20T08:12:51.887791Z"
    }
   },
   "outputs": [],
   "source": [
    "# Data analyse\n",
    "import pandas as pd\n",
    "import numpy as np\n",
    "import re\n",
    "from pprint import pprint\n",
    "import string"
   ]
  },
  {
   "cell_type": "code",
   "execution_count": 2,
   "id": "cb2dd85b",
   "metadata": {
    "ExecuteTime": {
     "end_time": "2021-08-20T08:12:53.664834Z",
     "start_time": "2021-08-20T08:12:52.518189Z"
    }
   },
   "outputs": [],
   "source": [
    "# Visualisation\n",
    "import matplotlib.pyplot as plt\n",
    "import seaborn as sns\n",
    "from collections import Counter"
   ]
  },
  {
   "cell_type": "code",
   "execution_count": 3,
   "id": "e00ba040",
   "metadata": {
    "ExecuteTime": {
     "end_time": "2021-08-20T08:12:59.242539Z",
     "start_time": "2021-08-20T08:12:53.670243Z"
    }
   },
   "outputs": [
    {
     "name": "stderr",
     "output_type": "stream",
     "text": [
      "C:\\Users\\EliseAndro\\anaconda3\\lib\\site-packages\\gensim\\similarities\\__init__.py:15: UserWarning: The gensim.similarities.levenshtein submodule is disabled, because the optional Levenshtein package <https://pypi.org/project/python-Levenshtein/> is unavailable. Install Levenhstein (e.g. `pip install python-Levenshtein`) to suppress this warning.\n",
      "  warnings.warn(msg)\n"
     ]
    }
   ],
   "source": [
    "# Preprocessing\n",
    "import gensim\n",
    "from gensim.utils import simple_preprocess\n",
    "from nltk.corpus import stopwords\n",
    "import spacy # for lemmatization\n",
    "nlp = spacy.load(\"en_core_web_md\")"
   ]
  },
  {
   "cell_type": "markdown",
   "id": "6e8f3267",
   "metadata": {},
   "source": [
    "# Chargement des données"
   ]
  },
  {
   "cell_type": "code",
   "execution_count": 5,
   "id": "d7a4ff79",
   "metadata": {
    "ExecuteTime": {
     "end_time": "2021-08-20T08:13:16.003968Z",
     "start_time": "2021-08-20T08:13:13.263553Z"
    }
   },
   "outputs": [],
   "source": [
    "df = pd.read_csv(\"Data/QueryResults.csv\")"
   ]
  },
  {
   "cell_type": "code",
   "execution_count": 6,
   "id": "e8729870",
   "metadata": {
    "ExecuteTime": {
     "end_time": "2021-08-20T08:13:18.553221Z",
     "start_time": "2021-08-20T08:13:18.529507Z"
    }
   },
   "outputs": [
    {
     "data": {
      "text/html": [
       "<div>\n",
       "<style scoped>\n",
       "    .dataframe tbody tr th:only-of-type {\n",
       "        vertical-align: middle;\n",
       "    }\n",
       "\n",
       "    .dataframe tbody tr th {\n",
       "        vertical-align: top;\n",
       "    }\n",
       "\n",
       "    .dataframe thead th {\n",
       "        text-align: right;\n",
       "    }\n",
       "</style>\n",
       "<table border=\"1\" class=\"dataframe\">\n",
       "  <thead>\n",
       "    <tr style=\"text-align: right;\">\n",
       "      <th></th>\n",
       "      <th>Body</th>\n",
       "      <th>Title</th>\n",
       "      <th>Tags</th>\n",
       "    </tr>\n",
       "  </thead>\n",
       "  <tbody>\n",
       "    <tr>\n",
       "      <th>0</th>\n",
       "      <td>&lt;p&gt;Is there any way to tinker with the iPhone ...</td>\n",
       "      <td>How can I develop for iPhone using a Windows d...</td>\n",
       "      <td>&lt;ios&gt;&lt;iphone&gt;&lt;windows&gt;</td>\n",
       "    </tr>\n",
       "    <tr>\n",
       "      <th>1</th>\n",
       "      <td>&lt;p&gt;I have this gigantic ugly string:&lt;/p&gt;\\n&lt;pre...</td>\n",
       "      <td>My regex is matching too much. How do I make i...</td>\n",
       "      <td>&lt;regex&gt;</td>\n",
       "    </tr>\n",
       "    <tr>\n",
       "      <th>2</th>\n",
       "      <td>&lt;p&gt;I am Working with autolayout and constraint...</td>\n",
       "      <td>What is \"Constrain to margin\" in Storyboard in...</td>\n",
       "      <td>&lt;ios&gt;&lt;xcode&gt;&lt;storyboard&gt;&lt;autolayout&gt;&lt;xcode6&gt;</td>\n",
       "    </tr>\n",
       "    <tr>\n",
       "      <th>3</th>\n",
       "      <td>&lt;p&gt;I'm learning objective-c and keep bumping i...</td>\n",
       "      <td>What does the @ symbol represent in objective-c?</td>\n",
       "      <td>&lt;objective-c&gt;</td>\n",
       "    </tr>\n",
       "    <tr>\n",
       "      <th>4</th>\n",
       "      <td>&lt;p&gt;Is there a simple way, in a pretty standard...</td>\n",
       "      <td>Delete all but the most recent X files in bash</td>\n",
       "      <td>&lt;bash&gt;&lt;unix&gt;&lt;scripting&gt;</td>\n",
       "    </tr>\n",
       "    <tr>\n",
       "      <th>...</th>\n",
       "      <td>...</td>\n",
       "      <td>...</td>\n",
       "      <td>...</td>\n",
       "    </tr>\n",
       "    <tr>\n",
       "      <th>44990</th>\n",
       "      <td>&lt;p&gt;Recently, I upgraded the version of Django ...</td>\n",
       "      <td>ImportError: cannot import name 'six' from 'dj...</td>\n",
       "      <td>&lt;django&gt;</td>\n",
       "    </tr>\n",
       "    <tr>\n",
       "      <th>44991</th>\n",
       "      <td>&lt;p&gt;How can I reject a promise that returned by...</td>\n",
       "      <td>How to reject in async/await syntax?</td>\n",
       "      <td>&lt;javascript&gt;&lt;asynchronous&gt;&lt;typescript&gt;&lt;es6-pro...</td>\n",
       "    </tr>\n",
       "    <tr>\n",
       "      <th>44992</th>\n",
       "      <td>&lt;p&gt;I have 2 entities that are related as one t...</td>\n",
       "      <td>.Net Core 3.0 possible object cycle was detect...</td>\n",
       "      <td>&lt;c#&gt;&lt;asp.net-core&gt;&lt;entity-framework-core&gt;</td>\n",
       "    </tr>\n",
       "    <tr>\n",
       "      <th>44993</th>\n",
       "      <td>&lt;h2&gt;Problem&lt;/h2&gt;\\n\\n&lt;p&gt;I want to return a file...</td>\n",
       "      <td>Return file in ASP.Net Core Web API</td>\n",
       "      <td>&lt;c#&gt;&lt;asp.net-core&gt;&lt;.net-core&gt;&lt;asp.net-core-web...</td>\n",
       "    </tr>\n",
       "    <tr>\n",
       "      <th>44994</th>\n",
       "      <td>&lt;p&gt;Using suggested method:\\n&lt;a href=\"https://i...</td>\n",
       "      <td>Wrapping a react-router Link in an html button</td>\n",
       "      <td>&lt;html&gt;&lt;reactjs&gt;&lt;button&gt;&lt;hyperlink&gt;&lt;router&gt;</td>\n",
       "    </tr>\n",
       "  </tbody>\n",
       "</table>\n",
       "<p>44995 rows × 3 columns</p>\n",
       "</div>"
      ],
      "text/plain": [
       "                                                    Body  \\\n",
       "0      <p>Is there any way to tinker with the iPhone ...   \n",
       "1      <p>I have this gigantic ugly string:</p>\\n<pre...   \n",
       "2      <p>I am Working with autolayout and constraint...   \n",
       "3      <p>I'm learning objective-c and keep bumping i...   \n",
       "4      <p>Is there a simple way, in a pretty standard...   \n",
       "...                                                  ...   \n",
       "44990  <p>Recently, I upgraded the version of Django ...   \n",
       "44991  <p>How can I reject a promise that returned by...   \n",
       "44992  <p>I have 2 entities that are related as one t...   \n",
       "44993  <h2>Problem</h2>\\n\\n<p>I want to return a file...   \n",
       "44994  <p>Using suggested method:\\n<a href=\"https://i...   \n",
       "\n",
       "                                                   Title  \\\n",
       "0      How can I develop for iPhone using a Windows d...   \n",
       "1      My regex is matching too much. How do I make i...   \n",
       "2      What is \"Constrain to margin\" in Storyboard in...   \n",
       "3       What does the @ symbol represent in objective-c?   \n",
       "4         Delete all but the most recent X files in bash   \n",
       "...                                                  ...   \n",
       "44990  ImportError: cannot import name 'six' from 'dj...   \n",
       "44991               How to reject in async/await syntax?   \n",
       "44992  .Net Core 3.0 possible object cycle was detect...   \n",
       "44993                Return file in ASP.Net Core Web API   \n",
       "44994     Wrapping a react-router Link in an html button   \n",
       "\n",
       "                                                    Tags  \n",
       "0                                 <ios><iphone><windows>  \n",
       "1                                                <regex>  \n",
       "2           <ios><xcode><storyboard><autolayout><xcode6>  \n",
       "3                                          <objective-c>  \n",
       "4                                <bash><unix><scripting>  \n",
       "...                                                  ...  \n",
       "44990                                           <django>  \n",
       "44991  <javascript><asynchronous><typescript><es6-pro...  \n",
       "44992          <c#><asp.net-core><entity-framework-core>  \n",
       "44993  <c#><asp.net-core><.net-core><asp.net-core-web...  \n",
       "44994         <html><reactjs><button><hyperlink><router>  \n",
       "\n",
       "[44995 rows x 3 columns]"
      ]
     },
     "execution_count": 6,
     "metadata": {},
     "output_type": "execute_result"
    }
   ],
   "source": [
    "df"
   ]
  },
  {
   "cell_type": "markdown",
   "id": "1648f04e",
   "metadata": {},
   "source": [
    "# Preprocess et Analyse :  Body+Titre"
   ]
  },
  {
   "cell_type": "markdown",
   "id": "4ef3fa3a",
   "metadata": {},
   "source": [
    "## Nettoyage"
   ]
  },
  {
   "cell_type": "markdown",
   "id": "1678b9e8",
   "metadata": {},
   "source": [
    "**Liste de fonctions utiles pour le nettoyage et pre-processing**"
   ]
  },
  {
   "cell_type": "code",
   "execution_count": 7,
   "id": "9b2a444e",
   "metadata": {
    "ExecuteTime": {
     "end_time": "2021-08-20T08:13:19.773293Z",
     "start_time": "2021-08-20T08:13:19.733572Z"
    }
   },
   "outputs": [],
   "source": [
    "# NLTK Stop words\n",
    "stop_words = stopwords.words('english')\n",
    "#stop_words.extend([liste de mots à retirer si besoin])\n",
    "\n",
    "def remove_stopwords(texts):\n",
    "    return [[word for word in simple_preprocess(str(doc)) if word not in stop_words] for doc in texts]\n",
    "\n",
    "def make_bigrams(texts):\n",
    "    return [bigram_mod[doc] for doc in texts]\n",
    "\n",
    "def lemmatization(texts, allowed_postags=['NOUN', 'ADJ', 'VERB', 'ADV']):\n",
    "    \"\"\"https://spacy.io/api/annotation\"\"\"\n",
    "    texts_out = []\n",
    "    for sent in texts:\n",
    "        doc = nlp(\" \".join(sent)) \n",
    "        texts_out.append([token.lemma_ for token in doc if token.pos_ in allowed_postags])\n",
    "    return texts_out\n",
    "\n",
    "def remove_non_alphabetical_character(text):\n",
    "    \"\"\"remove all non-alphabetical character\"\"\"\n",
    "    text = re.sub(\"[^a-z]+\", \" \", text.lower()) # remove all non-alphabetical character\n",
    "    text = re.sub(\"\\s+\", \" \", text.lower()) # remove whitespaces left after the last operation\n",
    "    return text\n",
    "\n",
    "def sent_to_words(sentences):\n",
    "    for sentence in sentences:\n",
    "        yield(gensim.utils.simple_preprocess(str(sentence), deacc=True))  # deacc=True removes punctuations\n",
    "\n",
    "# Funtion to remove duplicate words\n",
    "def unique_words(text): \n",
    "    ulist = []\n",
    "    [ulist.append(x) for x in text if x not in ulist]\n",
    "    return ulist\n",
    "\n",
    "def word_count(text):\n",
    "    return len(str(text).split(' '))"
   ]
  },
  {
   "cell_type": "markdown",
   "id": "24f13751",
   "metadata": {},
   "source": [
    "**Nettoyage**"
   ]
  },
  {
   "cell_type": "code",
   "execution_count": 8,
   "id": "ec2e3245",
   "metadata": {
    "ExecuteTime": {
     "end_time": "2021-08-20T08:13:25.024026Z",
     "start_time": "2021-08-20T08:13:20.375686Z"
    }
   },
   "outputs": [],
   "source": [
    "# Nettoyage de la colonne Body\n",
    "df['Body'] = [re.sub('<[^>]+>', '', i) for i in df['Body']]\n",
    "df['Body'] = [re.sub('\\n', '', i) for i in df['Body']]\n",
    "\n",
    "df['Title'] = df['Title'].apply(lambda x: remove_non_alphabetical_character(x)) \n",
    "df['Body'] = df['Body'].apply(lambda x: remove_non_alphabetical_character(x)) \n",
    "\n",
    "# Nettoyage de la colonne Tags\n",
    "tags_nettoye = [re.sub('><', ',', i)[1:-1] for i in df['Tags']]\n",
    "df['Tags'] = tags_nettoye\n",
    "\n",
    "df['content'] = df['Body'] + 3 * df['Title']\n",
    "df = df[['content',\"Tags\"]]"
   ]
  },
  {
   "cell_type": "code",
   "execution_count": 9,
   "id": "6b631eb8",
   "metadata": {
    "ExecuteTime": {
     "end_time": "2021-08-20T08:13:46.399950Z",
     "start_time": "2021-08-20T08:13:31.220261Z"
    }
   },
   "outputs": [
    {
     "name": "stdout",
     "output_type": "stream",
     "text": [
      "[['is', 'there', 'any', 'way', 'to', 'tinker', 'with', 'the', 'iphone', 'sdk', 'on', 'windows', 'machine', 'are', 'there', 'plans', 'for', 'an', 'iphone', 'sdk', 'version', 'for', 'windows', 'the', 'only', 'other', 'way', 'can', 'think', 'of', 'doing', 'this', 'is', 'to', 'run', 'mac', 'vm', 'image', 'on', 'vmware', 'server', 'running', 'on', 'windows', 'although', 'not', 'too', 'sure', 'how', 'legal', 'this', 'is', 'how', 'can', 'develop', 'for', 'iphone', 'using', 'windows', 'development', 'machine', 'how', 'can', 'develop', 'for', 'iphone', 'using', 'windows', 'development', 'machine', 'how', 'can', 'develop', 'for', 'iphone', 'using', 'windows', 'development', 'machine']]\n"
     ]
    }
   ],
   "source": [
    "data_words = list(sent_to_words(df['content'].values.tolist()))\n",
    "\n",
    "print(data_words[:1])"
   ]
  },
  {
   "cell_type": "markdown",
   "id": "1a3cfbb1",
   "metadata": {},
   "source": [
    "**Creating Bigram and Trigram Models**"
   ]
  },
  {
   "cell_type": "code",
   "execution_count": 10,
   "id": "a8f4f21f",
   "metadata": {
    "ExecuteTime": {
     "end_time": "2021-08-20T08:14:33.589073Z",
     "start_time": "2021-08-20T08:13:57.229458Z"
    }
   },
   "outputs": [
    {
     "name": "stdout",
     "output_type": "stream",
     "text": [
      "['is', 'there', 'any', 'way', 'to', 'tinker', 'with', 'the', 'iphone', 'sdk', 'on', 'windows', 'machine', 'are', 'there', 'plans', 'for', 'an', 'iphone', 'sdk', 'version', 'for', 'windows', 'the', 'only', 'other', 'way', 'can', 'think', 'of', 'doing', 'this', 'is', 'to', 'run', 'mac', 'vm', 'image', 'on', 'vmware', 'server', 'running', 'on', 'windows', 'although', 'not', 'too', 'sure', 'how', 'legal', 'this', 'is', 'how', 'can', 'develop', 'for', 'iphone', 'using', 'windows', 'development', 'machine', 'how', 'can', 'develop', 'for', 'iphone', 'using', 'windows', 'development', 'machine', 'how', 'can', 'develop', 'for', 'iphone', 'using', 'windows', 'development', 'machine']\n"
     ]
    }
   ],
   "source": [
    "# Build the bigram and trigram models\n",
    "bigram = gensim.models.Phrases(data_words, min_count=5, threshold=50) # higher threshold fewer phrases.\n",
    "trigram = gensim.models.Phrases(bigram[data_words], threshold=50)  \n",
    "\n",
    "# Faster way to get a sentence clubbed as a trigram/bigram\n",
    "bigram_mod = gensim.models.phrases.Phraser(bigram)\n",
    "trigram_mod = gensim.models.phrases.Phraser(trigram)\n",
    "\n",
    "# See trigram example\n",
    "print(trigram_mod[bigram_mod[data_words[0]]])"
   ]
  },
  {
   "cell_type": "markdown",
   "id": "e4ec74db",
   "metadata": {},
   "source": [
    "**Stopwords, bigrams et lemmatization**"
   ]
  },
  {
   "cell_type": "code",
   "execution_count": 11,
   "id": "59f01281",
   "metadata": {
    "ExecuteTime": {
     "end_time": "2021-08-20T08:28:29.213551Z",
     "start_time": "2021-08-20T08:14:33.594191Z"
    }
   },
   "outputs": [
    {
     "name": "stderr",
     "output_type": "stream",
     "text": [
      "C:\\Users\\ELISEA~1\\AppData\\Local\\Temp/ipykernel_7992/4034995695.py:8: SettingWithCopyWarning: \n",
      "A value is trying to be set on a copy of a slice from a DataFrame.\n",
      "Try using .loc[row_indexer,col_indexer] = value instead\n",
      "\n",
      "See the caveats in the documentation: https://pandas.pydata.org/pandas-docs/stable/user_guide/indexing.html#returning-a-view-versus-a-copy\n",
      "  df['preprocess_content'] = lemmatization(data_words_bigrams, allowed_postags=['NOUN', 'ADJ', 'VERB', 'ADV'])\n"
     ]
    }
   ],
   "source": [
    "# Remove Stop Words\n",
    "data_words_nostops = remove_stopwords(data_words)\n",
    "\n",
    "# Form Bigrams\n",
    "data_words_bigrams = make_bigrams(data_words_nostops)\n",
    "\n",
    "# Do lemmatization keeping only noun, adj, vb, adv\n",
    "df['preprocess_content'] = lemmatization(data_words_bigrams, allowed_postags=['NOUN', 'ADJ', 'VERB', 'ADV'])"
   ]
  },
  {
   "cell_type": "code",
   "execution_count": 12,
   "id": "f3fff1f6",
   "metadata": {
    "ExecuteTime": {
     "end_time": "2021-08-20T08:28:29.240804Z",
     "start_time": "2021-08-20T08:28:29.214548Z"
    }
   },
   "outputs": [
    {
     "data": {
      "text/html": [
       "<div>\n",
       "<style scoped>\n",
       "    .dataframe tbody tr th:only-of-type {\n",
       "        vertical-align: middle;\n",
       "    }\n",
       "\n",
       "    .dataframe tbody tr th {\n",
       "        vertical-align: top;\n",
       "    }\n",
       "\n",
       "    .dataframe thead th {\n",
       "        text-align: right;\n",
       "    }\n",
       "</style>\n",
       "<table border=\"1\" class=\"dataframe\">\n",
       "  <thead>\n",
       "    <tr style=\"text-align: right;\">\n",
       "      <th></th>\n",
       "      <th>content</th>\n",
       "      <th>Tags</th>\n",
       "      <th>preprocess_content</th>\n",
       "    </tr>\n",
       "  </thead>\n",
       "  <tbody>\n",
       "    <tr>\n",
       "      <th>0</th>\n",
       "      <td>is there any way to tinker with the iphone sdk...</td>\n",
       "      <td>ios,iphone,windows</td>\n",
       "      <td>[way, machine, plan, version, way, think, run,...</td>\n",
       "    </tr>\n",
       "    <tr>\n",
       "      <th>1</th>\n",
       "      <td>i have this gigantic ugly string j transaction...</td>\n",
       "      <td>regex</td>\n",
       "      <td>[gigantic, ugly, string, transaction, start, p...</td>\n",
       "    </tr>\n",
       "    <tr>\n",
       "      <th>2</th>\n",
       "      <td>i am working with autolayout and constraints a...</td>\n",
       "      <td>ios,xcode,storyboard,autolayout,xcode6</td>\n",
       "      <td>[work, autolayout_constraint, find, constrain,...</td>\n",
       "    </tr>\n",
       "    <tr>\n",
       "      <th>3</th>\n",
       "      <td>i m learning objective c and keep bumping into...</td>\n",
       "      <td>objective-c</td>\n",
       "      <td>[learn, objective, keep, bump, symbol, use, di...</td>\n",
       "    </tr>\n",
       "    <tr>\n",
       "      <th>4</th>\n",
       "      <td>is there a simple way in a pretty standard uni...</td>\n",
       "      <td>bash,unix,scripting</td>\n",
       "      <td>[simple, way, pretty, standard, unix, environm...</td>\n",
       "    </tr>\n",
       "    <tr>\n",
       "      <th>...</th>\n",
       "      <td>...</td>\n",
       "      <td>...</td>\n",
       "      <td>...</td>\n",
       "    </tr>\n",
       "    <tr>\n",
       "      <th>44990</th>\n",
       "      <td>recently i upgraded the version of django fram...</td>\n",
       "      <td>django</td>\n",
       "      <td>[recently_upgrade, version, django, framework,...</td>\n",
       "    </tr>\n",
       "    <tr>\n",
       "      <th>44991</th>\n",
       "      <td>how can i reject a promise that returned by an...</td>\n",
       "      <td>javascript,asynchronous,typescript,es6-promise...</td>\n",
       "      <td>[reject, promise, return, async_await, functio...</td>\n",
       "    </tr>\n",
       "    <tr>\n",
       "      <th>44992</th>\n",
       "      <td>i have entities that are related as one to man...</td>\n",
       "      <td>c#,asp.net-core,entity-framework-core</td>\n",
       "      <td>[entity, relate, manypublic, class, restaurant...</td>\n",
       "    </tr>\n",
       "    <tr>\n",
       "      <th>44993</th>\n",
       "      <td>problemi want to return a file in my asp net w...</td>\n",
       "      <td>c#,asp.net-core,.net-core,asp.net-core-webapi</td>\n",
       "      <td>[want, return, file, web, api, controller, app...</td>\n",
       "    </tr>\n",
       "    <tr>\n",
       "      <th>44994</th>\n",
       "      <td>using suggested method this is the result a li...</td>\n",
       "      <td>html,reactjs,button,hyperlink,router</td>\n",
       "      <td>[use, suggest, method, result, link, button, c...</td>\n",
       "    </tr>\n",
       "  </tbody>\n",
       "</table>\n",
       "<p>44995 rows × 3 columns</p>\n",
       "</div>"
      ],
      "text/plain": [
       "                                                 content  \\\n",
       "0      is there any way to tinker with the iphone sdk...   \n",
       "1      i have this gigantic ugly string j transaction...   \n",
       "2      i am working with autolayout and constraints a...   \n",
       "3      i m learning objective c and keep bumping into...   \n",
       "4      is there a simple way in a pretty standard uni...   \n",
       "...                                                  ...   \n",
       "44990  recently i upgraded the version of django fram...   \n",
       "44991  how can i reject a promise that returned by an...   \n",
       "44992  i have entities that are related as one to man...   \n",
       "44993  problemi want to return a file in my asp net w...   \n",
       "44994  using suggested method this is the result a li...   \n",
       "\n",
       "                                                    Tags  \\\n",
       "0                                     ios,iphone,windows   \n",
       "1                                                  regex   \n",
       "2                 ios,xcode,storyboard,autolayout,xcode6   \n",
       "3                                            objective-c   \n",
       "4                                    bash,unix,scripting   \n",
       "...                                                  ...   \n",
       "44990                                             django   \n",
       "44991  javascript,asynchronous,typescript,es6-promise...   \n",
       "44992              c#,asp.net-core,entity-framework-core   \n",
       "44993      c#,asp.net-core,.net-core,asp.net-core-webapi   \n",
       "44994               html,reactjs,button,hyperlink,router   \n",
       "\n",
       "                                      preprocess_content  \n",
       "0      [way, machine, plan, version, way, think, run,...  \n",
       "1      [gigantic, ugly, string, transaction, start, p...  \n",
       "2      [work, autolayout_constraint, find, constrain,...  \n",
       "3      [learn, objective, keep, bump, symbol, use, di...  \n",
       "4      [simple, way, pretty, standard, unix, environm...  \n",
       "...                                                  ...  \n",
       "44990  [recently_upgrade, version, django, framework,...  \n",
       "44991  [reject, promise, return, async_await, functio...  \n",
       "44992  [entity, relate, manypublic, class, restaurant...  \n",
       "44993  [want, return, file, web, api, controller, app...  \n",
       "44994  [use, suggest, method, result, link, button, c...  \n",
       "\n",
       "[44995 rows x 3 columns]"
      ]
     },
     "execution_count": 12,
     "metadata": {},
     "output_type": "execute_result"
    }
   ],
   "source": [
    "df"
   ]
  },
  {
   "cell_type": "markdown",
   "id": "6d2b6e4c",
   "metadata": {},
   "source": [
    "## Analyse descriptive"
   ]
  },
  {
   "cell_type": "code",
   "execution_count": 13,
   "id": "b1356e89",
   "metadata": {
    "ExecuteTime": {
     "end_time": "2021-08-20T08:28:29.645165Z",
     "start_time": "2021-08-20T08:28:29.243491Z"
    }
   },
   "outputs": [
    {
     "data": {
      "text/plain": [
       "129.38284253805978"
      ]
     },
     "execution_count": 13,
     "metadata": {},
     "output_type": "execute_result"
    }
   ],
   "source": [
    "# Compte du nombre de mots\n",
    "df['word_count'] = df['content'].apply(word_count)\n",
    "df['word_count'].mean()"
   ]
  },
  {
   "cell_type": "code",
   "execution_count": 14,
   "id": "5d9965a4",
   "metadata": {
    "ExecuteTime": {
     "end_time": "2021-08-20T08:28:29.669938Z",
     "start_time": "2021-08-20T08:28:29.646850Z"
    }
   },
   "outputs": [
    {
     "data": {
      "text/plain": [
       "count    44995.000000\n",
       "mean       129.382843\n",
       "std        129.374465\n",
       "min         13.000000\n",
       "25%         67.000000\n",
       "50%         97.000000\n",
       "75%        149.000000\n",
       "max       4142.000000\n",
       "Name: word_count, dtype: float64"
      ]
     },
     "execution_count": 14,
     "metadata": {},
     "output_type": "execute_result"
    }
   ],
   "source": [
    "df['word_count'].describe()"
   ]
  },
  {
   "cell_type": "code",
   "execution_count": 15,
   "id": "7df537cb",
   "metadata": {
    "ExecuteTime": {
     "end_time": "2021-08-20T08:28:29.992056Z",
     "start_time": "2021-08-20T08:28:29.672932Z"
    }
   },
   "outputs": [
    {
     "data": {
      "image/png": "[encoded data removed]",
      "text/plain": [
       "<Figure size 720x360 with 1 Axes>"
      ]
     },
     "metadata": {
      "needs_background": "light"
     },
     "output_type": "display_data"
    }
   ],
   "source": [
    "# Plot a hist of the word counts\n",
    "fig = plt.figure(figsize=(10,5))\n",
    "\n",
    "plt.hist(\n",
    "    df['word_count'],\n",
    "    bins=50,\n",
    "    color='#60505C')\n",
    "\n",
    "plt.title('Distribution - Nombre de mots', fontsize=16)\n",
    "plt.ylabel('Frequence', fontsize=12)\n",
    "plt.xlabel('Nbre mot', fontsize=12)\n",
    "\n",
    "plt.show()"
   ]
  },
  {
   "cell_type": "code",
   "execution_count": 16,
   "id": "05c2c18b",
   "metadata": {
    "ExecuteTime": {
     "end_time": "2021-08-20T08:28:30.226499Z",
     "start_time": "2021-08-20T08:28:29.995184Z"
    }
   },
   "outputs": [
    {
     "name": "stderr",
     "output_type": "stream",
     "text": [
      "C:\\Users\\EliseAndro\\anaconda3\\lib\\site-packages\\seaborn\\_decorators.py:36: FutureWarning: Pass the following variable as a keyword arg: x. From version 0.12, the only valid positional argument will be `data`, and passing other arguments without an explicit keyword will result in an error or misinterpretation.\n",
      "  warnings.warn(\n",
      "C:\\Users\\EliseAndro\\anaconda3\\lib\\site-packages\\seaborn\\_core.py:1319: UserWarning: Vertical orientation ignored with only `x` specified.\n",
      "  warnings.warn(single_var_warning.format(\"Vertical\", \"x\"))\n"
     ]
    },
    {
     "data": {
      "image/png": "[encoded data removed]",
      "text/plain": [
       "<Figure size 288x648 with 1 Axes>"
      ]
     },
     "metadata": {
      "needs_background": "light"
     },
     "output_type": "display_data"
    }
   ],
   "source": [
    "# Plot a boxplot of the word counts\n",
    "fig = plt.figure(figsize=(4,9))\n",
    "\n",
    "sns.boxplot(\n",
    "    df['word_count'],\n",
    "    orient='v',\n",
    "    width=.5,\n",
    "    color='#ff8080')\n",
    "\n",
    "plt.ylabel(\"Word Count\", fontsize=12)\n",
    "plt.title('Distribution - Article Word Count', fontsize=16)\n",
    "#plt.yticks(np.arange(0, 2700, 100))\n",
    "\n",
    "plt.show()"
   ]
  },
  {
   "cell_type": "code",
   "execution_count": 17,
   "id": "8b780fca",
   "metadata": {
    "ExecuteTime": {
     "end_time": "2021-08-20T08:28:30.882696Z",
     "start_time": "2021-08-20T08:28:30.228419Z"
    }
   },
   "outputs": [
    {
     "data": {
      "text/html": [
       "<div>\n",
       "<style scoped>\n",
       "    .dataframe tbody tr th:only-of-type {\n",
       "        vertical-align: middle;\n",
       "    }\n",
       "\n",
       "    .dataframe tbody tr th {\n",
       "        vertical-align: top;\n",
       "    }\n",
       "\n",
       "    .dataframe thead th {\n",
       "        text-align: right;\n",
       "    }\n",
       "</style>\n",
       "<table border=\"1\" class=\"dataframe\">\n",
       "  <thead>\n",
       "    <tr style=\"text-align: right;\">\n",
       "      <th></th>\n",
       "      <th>word</th>\n",
       "      <th>frequency</th>\n",
       "    </tr>\n",
       "  </thead>\n",
       "  <tbody>\n",
       "    <tr>\n",
       "      <th>0</th>\n",
       "      <td>use</td>\n",
       "      <td>48550</td>\n",
       "    </tr>\n",
       "    <tr>\n",
       "      <th>1</th>\n",
       "      <td>file</td>\n",
       "      <td>28296</td>\n",
       "    </tr>\n",
       "    <tr>\n",
       "      <th>2</th>\n",
       "      <td>get</td>\n",
       "      <td>21798</td>\n",
       "    </tr>\n",
       "    <tr>\n",
       "      <th>3</th>\n",
       "      <td>string</td>\n",
       "      <td>19873</td>\n",
       "    </tr>\n",
       "    <tr>\n",
       "      <th>4</th>\n",
       "      <td>error</td>\n",
       "      <td>16920</td>\n",
       "    </tr>\n",
       "    <tr>\n",
       "      <th>5</th>\n",
       "      <td>way</td>\n",
       "      <td>15804</td>\n",
       "    </tr>\n",
       "    <tr>\n",
       "      <th>6</th>\n",
       "      <td>class</td>\n",
       "      <td>15545</td>\n",
       "    </tr>\n",
       "    <tr>\n",
       "      <th>7</th>\n",
       "      <td>value</td>\n",
       "      <td>15441</td>\n",
       "    </tr>\n",
       "    <tr>\n",
       "      <th>8</th>\n",
       "      <td>code</td>\n",
       "      <td>14672</td>\n",
       "    </tr>\n",
       "    <tr>\n",
       "      <th>9</th>\n",
       "      <td>function</td>\n",
       "      <td>14570</td>\n",
       "    </tr>\n",
       "    <tr>\n",
       "      <th>10</th>\n",
       "      <td>name</td>\n",
       "      <td>14100</td>\n",
       "    </tr>\n",
       "    <tr>\n",
       "      <th>11</th>\n",
       "      <td>new</td>\n",
       "      <td>13685</td>\n",
       "    </tr>\n",
       "    <tr>\n",
       "      <th>12</th>\n",
       "      <td>find</td>\n",
       "      <td>12949</td>\n",
       "    </tr>\n",
       "    <tr>\n",
       "      <th>13</th>\n",
       "      <td>work</td>\n",
       "      <td>12854</td>\n",
       "    </tr>\n",
       "    <tr>\n",
       "      <th>14</th>\n",
       "      <td>try</td>\n",
       "      <td>12391</td>\n",
       "    </tr>\n",
       "    <tr>\n",
       "      <th>15</th>\n",
       "      <td>return</td>\n",
       "      <td>11983</td>\n",
       "    </tr>\n",
       "    <tr>\n",
       "      <th>16</th>\n",
       "      <td>type</td>\n",
       "      <td>11650</td>\n",
       "    </tr>\n",
       "    <tr>\n",
       "      <th>17</th>\n",
       "      <td>object</td>\n",
       "      <td>11163</td>\n",
       "    </tr>\n",
       "    <tr>\n",
       "      <th>18</th>\n",
       "      <td>list</td>\n",
       "      <td>11148</td>\n",
       "    </tr>\n",
       "    <tr>\n",
       "      <th>19</th>\n",
       "      <td>want</td>\n",
       "      <td>10952</td>\n",
       "    </tr>\n",
       "  </tbody>\n",
       "</table>\n",
       "</div>"
      ],
      "text/plain": [
       "        word  frequency\n",
       "0        use      48550\n",
       "1       file      28296\n",
       "2        get      21798\n",
       "3     string      19873\n",
       "4      error      16920\n",
       "5        way      15804\n",
       "6      class      15545\n",
       "7      value      15441\n",
       "8       code      14672\n",
       "9   function      14570\n",
       "10      name      14100\n",
       "11       new      13685\n",
       "12      find      12949\n",
       "13      work      12854\n",
       "14       try      12391\n",
       "15    return      11983\n",
       "16      type      11650\n",
       "17    object      11163\n",
       "18      list      11148\n",
       "19      want      10952"
      ]
     },
     "execution_count": 17,
     "metadata": {},
     "output_type": "execute_result"
    }
   ],
   "source": [
    "# Get the top 20 most common words among all the articles\n",
    "p_text = df['preprocess_content']\n",
    "\n",
    "# Flaten the list of lists\n",
    "p_text = [item for sublist in p_text for item in sublist]\n",
    "\n",
    "# Top 20\n",
    "top_20 = pd.DataFrame(\n",
    "    Counter(p_text).most_common(20),\n",
    "    columns=['word', 'frequency'])\n",
    "\n",
    "top_20"
   ]
  },
  {
   "cell_type": "code",
   "execution_count": 18,
   "id": "03d0a47d",
   "metadata": {
    "ExecuteTime": {
     "end_time": "2021-08-20T08:28:31.374780Z",
     "start_time": "2021-08-20T08:28:30.885718Z"
    }
   },
   "outputs": [
    {
     "data": {
      "image/png": "[encoded data removed]",
      "text/plain": [
       "<Figure size 1440x504 with 1 Axes>"
      ]
     },
     "metadata": {
      "needs_background": "light"
     },
     "output_type": "display_data"
    }
   ],
   "source": [
    "# Plot a bar chart for the top 20 most frequently occuring words\n",
    "fig = plt.figure(figsize=(20,7))\n",
    "\n",
    "g = sns.barplot(\n",
    "    x='word',\n",
    "    y='frequency',\n",
    "    data=top_20,\n",
    "    palette='GnBu_d')\n",
    "\n",
    "g.set_xticklabels(\n",
    "    g.get_xticklabels(),\n",
    "    rotation=45,\n",
    "    fontsize=14)\n",
    "\n",
    "plt.yticks(fontsize=14)\n",
    "plt.xlabel('Words', fontsize=14)\n",
    "plt.ylabel('Frequency', fontsize=14)\n",
    "plt.title('Top 20 Words', fontsize=17)\n",
    "\n",
    "plt.show()"
   ]
  },
  {
   "cell_type": "code",
   "execution_count": 19,
   "id": "7901cd9e",
   "metadata": {
    "ExecuteTime": {
     "end_time": "2021-08-20T08:28:31.636959Z",
     "start_time": "2021-08-20T08:28:31.390504Z"
    }
   },
   "outputs": [
    {
     "data": {
      "text/plain": [
       "82363"
      ]
     },
     "execution_count": 19,
     "metadata": {},
     "output_type": "execute_result"
    }
   ],
   "source": [
    "# Get the number of unique words after processing\n",
    "num_unique_words = len(set(p_text))\n",
    "num_unique_words"
   ]
  },
  {
   "cell_type": "markdown",
   "id": "5a9f7495",
   "metadata": {},
   "source": [
    "# Preprocess et Analyse : Tags"
   ]
  },
  {
   "cell_type": "markdown",
   "id": "4762d300",
   "metadata": {},
   "source": [
    "## Tokenization des tags"
   ]
  },
  {
   "cell_type": "code",
   "execution_count": 20,
   "id": "cea72ce9",
   "metadata": {
    "ExecuteTime": {
     "end_time": "2021-08-20T08:28:32.316306Z",
     "start_time": "2021-08-20T08:28:31.641080Z"
    }
   },
   "outputs": [],
   "source": [
    "df['Tags'] = [i.lower() for i in df['Tags']]\n",
    "df['Tags'] = [i.split(\",\") for i in df['Tags']]"
   ]
  },
  {
   "cell_type": "markdown",
   "id": "10e3abcb",
   "metadata": {},
   "source": [
    "## Une colonne par tags"
   ]
  },
  {
   "cell_type": "code",
   "execution_count": 21,
   "id": "65ff18f7",
   "metadata": {
    "ExecuteTime": {
     "end_time": "2021-08-20T08:29:14.764025Z",
     "start_time": "2021-08-20T08:28:32.319267Z"
    }
   },
   "outputs": [
    {
     "data": {
      "text/plain": [
       "9474"
      ]
     },
     "execution_count": 21,
     "metadata": {},
     "output_type": "execute_result"
    }
   ],
   "source": [
    "tags = []\n",
    "\n",
    "for i in df['Tags']:\n",
    "    tags = tags + i\n",
    "    \n",
    "tags = set(tags)\n",
    "len(tags)"
   ]
  },
  {
   "cell_type": "code",
   "execution_count": 22,
   "id": "e17d8f44",
   "metadata": {
    "ExecuteTime": {
     "end_time": "2021-08-20T08:34:49.131153Z",
     "start_time": "2021-08-20T08:29:14.766245Z"
    }
   },
   "outputs": [],
   "source": [
    "for i in tags:\n",
    "    df[i] = [1 if i in y else 0 for y in df['Tags']]"
   ]
  },
  {
   "cell_type": "code",
   "execution_count": 23,
   "id": "9b3c1e7e",
   "metadata": {
    "ExecuteTime": {
     "end_time": "2021-08-20T08:34:49.184422Z",
     "start_time": "2021-08-20T08:34:49.134654Z"
    }
   },
   "outputs": [
    {
     "data": {
      "text/html": [
       "<div>\n",
       "<style scoped>\n",
       "    .dataframe tbody tr th:only-of-type {\n",
       "        vertical-align: middle;\n",
       "    }\n",
       "\n",
       "    .dataframe tbody tr th {\n",
       "        vertical-align: top;\n",
       "    }\n",
       "\n",
       "    .dataframe thead th {\n",
       "        text-align: right;\n",
       "    }\n",
       "</style>\n",
       "<table border=\"1\" class=\"dataframe\">\n",
       "  <thead>\n",
       "    <tr style=\"text-align: right;\">\n",
       "      <th></th>\n",
       "      <th>content</th>\n",
       "      <th>Tags</th>\n",
       "      <th>preprocess_content</th>\n",
       "      <th>word_count</th>\n",
       "      <th>executable</th>\n",
       "      <th>unity3d</th>\n",
       "      <th>optaplanner</th>\n",
       "      <th>spring-3</th>\n",
       "      <th>haxe</th>\n",
       "      <th>types</th>\n",
       "      <th>...</th>\n",
       "      <th>sessionstorage</th>\n",
       "      <th>bintray</th>\n",
       "      <th>clientid</th>\n",
       "      <th>mutation-events</th>\n",
       "      <th>dirname</th>\n",
       "      <th>beep</th>\n",
       "      <th>asp.net-optimization</th>\n",
       "      <th>stl-algorithm</th>\n",
       "      <th>if-statement</th>\n",
       "      <th>xjc</th>\n",
       "    </tr>\n",
       "  </thead>\n",
       "  <tbody>\n",
       "    <tr>\n",
       "      <th>0</th>\n",
       "      <td>is there any way to tinker with the iphone sdk...</td>\n",
       "      <td>[ios, iphone, windows]</td>\n",
       "      <td>[way, machine, plan, version, way, think, run,...</td>\n",
       "      <td>92</td>\n",
       "      <td>0</td>\n",
       "      <td>0</td>\n",
       "      <td>0</td>\n",
       "      <td>0</td>\n",
       "      <td>0</td>\n",
       "      <td>0</td>\n",
       "      <td>...</td>\n",
       "      <td>0</td>\n",
       "      <td>0</td>\n",
       "      <td>0</td>\n",
       "      <td>0</td>\n",
       "      <td>0</td>\n",
       "      <td>0</td>\n",
       "      <td>0</td>\n",
       "      <td>0</td>\n",
       "      <td>0</td>\n",
       "      <td>0</td>\n",
       "    </tr>\n",
       "    <tr>\n",
       "      <th>1</th>\n",
       "      <td>i have this gigantic ugly string j transaction...</td>\n",
       "      <td>[regex]</td>\n",
       "      <td>[gigantic, ugly, string, transaction, start, p...</td>\n",
       "      <td>144</td>\n",
       "      <td>0</td>\n",
       "      <td>0</td>\n",
       "      <td>0</td>\n",
       "      <td>0</td>\n",
       "      <td>0</td>\n",
       "      <td>0</td>\n",
       "      <td>...</td>\n",
       "      <td>0</td>\n",
       "      <td>0</td>\n",
       "      <td>0</td>\n",
       "      <td>0</td>\n",
       "      <td>0</td>\n",
       "      <td>0</td>\n",
       "      <td>0</td>\n",
       "      <td>0</td>\n",
       "      <td>0</td>\n",
       "      <td>0</td>\n",
       "    </tr>\n",
       "    <tr>\n",
       "      <th>2</th>\n",
       "      <td>i am working with autolayout and constraints a...</td>\n",
       "      <td>[ios, xcode, storyboard, autolayout, xcode6]</td>\n",
       "      <td>[work, autolayout_constraint, find, constrain,...</td>\n",
       "      <td>217</td>\n",
       "      <td>0</td>\n",
       "      <td>0</td>\n",
       "      <td>0</td>\n",
       "      <td>0</td>\n",
       "      <td>0</td>\n",
       "      <td>0</td>\n",
       "      <td>...</td>\n",
       "      <td>0</td>\n",
       "      <td>0</td>\n",
       "      <td>0</td>\n",
       "      <td>0</td>\n",
       "      <td>0</td>\n",
       "      <td>0</td>\n",
       "      <td>0</td>\n",
       "      <td>0</td>\n",
       "      <td>0</td>\n",
       "      <td>0</td>\n",
       "    </tr>\n",
       "    <tr>\n",
       "      <th>3</th>\n",
       "      <td>i m learning objective c and keep bumping into...</td>\n",
       "      <td>[objective-c]</td>\n",
       "      <td>[learn, objective, keep, bump, symbol, use, di...</td>\n",
       "      <td>64</td>\n",
       "      <td>0</td>\n",
       "      <td>0</td>\n",
       "      <td>0</td>\n",
       "      <td>0</td>\n",
       "      <td>0</td>\n",
       "      <td>0</td>\n",
       "      <td>...</td>\n",
       "      <td>0</td>\n",
       "      <td>0</td>\n",
       "      <td>0</td>\n",
       "      <td>0</td>\n",
       "      <td>0</td>\n",
       "      <td>0</td>\n",
       "      <td>0</td>\n",
       "      <td>0</td>\n",
       "      <td>0</td>\n",
       "      <td>0</td>\n",
       "    </tr>\n",
       "    <tr>\n",
       "      <th>4</th>\n",
       "      <td>is there a simple way in a pretty standard uni...</td>\n",
       "      <td>[bash, unix, scripting]</td>\n",
       "      <td>[simple, way, pretty, standard, unix, environm...</td>\n",
       "      <td>131</td>\n",
       "      <td>0</td>\n",
       "      <td>0</td>\n",
       "      <td>0</td>\n",
       "      <td>0</td>\n",
       "      <td>0</td>\n",
       "      <td>0</td>\n",
       "      <td>...</td>\n",
       "      <td>0</td>\n",
       "      <td>0</td>\n",
       "      <td>0</td>\n",
       "      <td>0</td>\n",
       "      <td>0</td>\n",
       "      <td>0</td>\n",
       "      <td>0</td>\n",
       "      <td>0</td>\n",
       "      <td>0</td>\n",
       "      <td>0</td>\n",
       "    </tr>\n",
       "  </tbody>\n",
       "</table>\n",
       "<p>5 rows × 9478 columns</p>\n",
       "</div>"
      ],
      "text/plain": [
       "                                             content  \\\n",
       "0  is there any way to tinker with the iphone sdk...   \n",
       "1  i have this gigantic ugly string j transaction...   \n",
       "2  i am working with autolayout and constraints a...   \n",
       "3  i m learning objective c and keep bumping into...   \n",
       "4  is there a simple way in a pretty standard uni...   \n",
       "\n",
       "                                           Tags  \\\n",
       "0                        [ios, iphone, windows]   \n",
       "1                                       [regex]   \n",
       "2  [ios, xcode, storyboard, autolayout, xcode6]   \n",
       "3                                 [objective-c]   \n",
       "4                       [bash, unix, scripting]   \n",
       "\n",
       "                                  preprocess_content  word_count  executable  \\\n",
       "0  [way, machine, plan, version, way, think, run,...          92           0   \n",
       "1  [gigantic, ugly, string, transaction, start, p...         144           0   \n",
       "2  [work, autolayout_constraint, find, constrain,...         217           0   \n",
       "3  [learn, objective, keep, bump, symbol, use, di...          64           0   \n",
       "4  [simple, way, pretty, standard, unix, environm...         131           0   \n",
       "\n",
       "   unity3d  optaplanner  spring-3  haxe  types  ...  sessionstorage  bintray  \\\n",
       "0        0            0         0     0      0  ...               0        0   \n",
       "1        0            0         0     0      0  ...               0        0   \n",
       "2        0            0         0     0      0  ...               0        0   \n",
       "3        0            0         0     0      0  ...               0        0   \n",
       "4        0            0         0     0      0  ...               0        0   \n",
       "\n",
       "   clientid  mutation-events  dirname  beep  asp.net-optimization  \\\n",
       "0         0                0        0     0                     0   \n",
       "1         0                0        0     0                     0   \n",
       "2         0                0        0     0                     0   \n",
       "3         0                0        0     0                     0   \n",
       "4         0                0        0     0                     0   \n",
       "\n",
       "   stl-algorithm  if-statement  xjc  \n",
       "0              0             0    0  \n",
       "1              0             0    0  \n",
       "2              0             0    0  \n",
       "3              0             0    0  \n",
       "4              0             0    0  \n",
       "\n",
       "[5 rows x 9478 columns]"
      ]
     },
     "execution_count": 23,
     "metadata": {},
     "output_type": "execute_result"
    }
   ],
   "source": [
    "df.head()"
   ]
  },
  {
   "cell_type": "markdown",
   "id": "a9fbc8b1",
   "metadata": {},
   "source": [
    "## Distribution des tags"
   ]
  },
  {
   "cell_type": "markdown",
   "id": "f405f85e",
   "metadata": {},
   "source": [
    "histogramme du nbre d'individu par tags pour savoir si le tags est utile ou non (s'il n'a qu'un individu, sert à rien)"
   ]
  },
  {
   "cell_type": "code",
   "execution_count": 24,
   "id": "14298ba7",
   "metadata": {
    "ExecuteTime": {
     "end_time": "2021-08-20T08:34:50.814399Z",
     "start_time": "2021-08-20T08:34:49.186104Z"
    }
   },
   "outputs": [
    {
     "name": "stdout",
     "output_type": "stream",
     "text": [
      "duplication       1\n",
      "swingx            1\n",
      "magento-1.9       1\n",
      "jaas              1\n",
      "yesod             1\n",
      "               ... \n",
      "android        2863\n",
      "c#             3281\n",
      "java           4000\n",
      "python         4683\n",
      "javascript     4777\n",
      "Length: 9474, dtype: int64\n"
     ]
    }
   ],
   "source": [
    "# Nbre d'occurence des tags\n",
    "sum_column = df.iloc[:,4:].sum(axis=0)\n",
    "print (sum_column.sort_values())"
   ]
  },
  {
   "cell_type": "code",
   "execution_count": 25,
   "id": "ee144ca0",
   "metadata": {
    "ExecuteTime": {
     "end_time": "2021-08-20T08:34:51.038812Z",
     "start_time": "2021-08-20T08:34:50.815781Z"
    }
   },
   "outputs": [
    {
     "data": {
      "text/plain": [
       "<AxesSubplot:>"
      ]
     },
     "execution_count": 25,
     "metadata": {},
     "output_type": "execute_result"
    },
    {
     "data": {
      "image/png": "[encoded data removed]",
      "text/plain": [
       "<Figure size 1440x360 with 1 Axes>"
      ]
     },
     "metadata": {
      "needs_background": "light"
     },
     "output_type": "display_data"
    }
   ],
   "source": [
    "plt.figure(figsize=(20, 5))\n",
    "sum_column.sort_values().plot()"
   ]
  },
  {
   "cell_type": "markdown",
   "id": "e0fc43e7",
   "metadata": {},
   "source": [
    "On ne va garder que les 100 tags les plus utilisés"
   ]
  },
  {
   "cell_type": "code",
   "execution_count": 26,
   "id": "7859e192",
   "metadata": {
    "ExecuteTime": {
     "end_time": "2021-08-20T08:34:51.236398Z",
     "start_time": "2021-08-20T08:34:51.041141Z"
    }
   },
   "outputs": [
    {
     "data": {
      "text/plain": [
       "Text(0.5, 1.0, \"Nombre d'occurence du tag\")"
      ]
     },
     "execution_count": 26,
     "metadata": {},
     "output_type": "execute_result"
    },
    {
     "data": {
      "image/png": "[encoded data removed]",
      "text/plain": [
       "<Figure size 1440x360 with 1 Axes>"
      ]
     },
     "metadata": {
      "needs_background": "light"
     },
     "output_type": "display_data"
    }
   ],
   "source": [
    "plt.figure(figsize=(20, 5))\n",
    "sum_column.sort_values()[-100:].plot()\n",
    "plt.title(\"Nombre d'occurence du tag\")"
   ]
  },
  {
   "cell_type": "code",
   "execution_count": 27,
   "id": "ff506cb2",
   "metadata": {
    "ExecuteTime": {
     "end_time": "2021-08-20T08:34:54.813428Z",
     "start_time": "2021-08-20T08:34:51.238093Z"
    }
   },
   "outputs": [],
   "source": [
    "df2 = df.drop(columns = sum_column.sort_values()[0:-100].index)\n",
    "df2['nbre_tags'] = df2.iloc[:,4:].sum(axis=1)\n",
    "df2.sort_values(by='nbre_tags')\n",
    "\n",
    "# On retire tous les individus qui n'ont pas de tags parmi les 100 premiers \n",
    "df2 = df2.loc[df2['nbre_tags']>0]\n",
    "df2.drop(columns = ['nbre_tags','Tags'], inplace=True)"
   ]
  },
  {
   "cell_type": "code",
   "execution_count": 28,
   "id": "9687693d",
   "metadata": {
    "ExecuteTime": {
     "end_time": "2021-08-20T08:34:54.847310Z",
     "start_time": "2021-08-20T08:34:54.816768Z"
    }
   },
   "outputs": [
    {
     "name": "stdout",
     "output_type": "stream",
     "text": [
      "security        178\n",
      "java-8          178\n",
      "forms           182\n",
      "collections     185\n",
      "class           185\n",
      "               ... \n",
      "android        2863\n",
      "c#             3281\n",
      "java           4000\n",
      "python         4683\n",
      "javascript     4777\n",
      "Length: 98, dtype: int64\n"
     ]
    }
   ],
   "source": [
    "# Nbre d'occurence des 100 premiers tags\n",
    "sum_column2 = df2.iloc[:,4:-1].sum(axis=0)\n",
    "print (sum_column2.sort_values())"
   ]
  },
  {
   "cell_type": "code",
   "execution_count": 29,
   "id": "ea347c4d",
   "metadata": {
    "ExecuteTime": {
     "end_time": "2021-08-20T08:34:54.855411Z",
     "start_time": "2021-08-20T08:34:54.849306Z"
    }
   },
   "outputs": [
    {
     "name": "stdout",
     "output_type": "stream",
     "text": [
      "df2 dimension: (40774, 103)\n",
      "df dimension: (44995, 9478)\n"
     ]
    }
   ],
   "source": [
    "# Regarde la différence de dataset, la perte des individus\n",
    "print('df2 dimension:',df2.shape)\n",
    "print('df dimension:',df.shape)"
   ]
  },
  {
   "cell_type": "code",
   "execution_count": 30,
   "id": "e4fb57b4",
   "metadata": {
    "ExecuteTime": {
     "end_time": "2021-08-20T08:34:54.897151Z",
     "start_time": "2021-08-20T08:34:54.858463Z"
    }
   },
   "outputs": [
    {
     "data": {
      "text/html": [
       "<div>\n",
       "<style scoped>\n",
       "    .dataframe tbody tr th:only-of-type {\n",
       "        vertical-align: middle;\n",
       "    }\n",
       "\n",
       "    .dataframe tbody tr th {\n",
       "        vertical-align: top;\n",
       "    }\n",
       "\n",
       "    .dataframe thead th {\n",
       "        text-align: right;\n",
       "    }\n",
       "</style>\n",
       "<table border=\"1\" class=\"dataframe\">\n",
       "  <thead>\n",
       "    <tr style=\"text-align: right;\">\n",
       "      <th></th>\n",
       "      <th>content</th>\n",
       "      <th>preprocess_content</th>\n",
       "      <th>word_count</th>\n",
       "      <th>r</th>\n",
       "      <th>numpy</th>\n",
       "      <th>gradle</th>\n",
       "      <th>scala</th>\n",
       "      <th>sorting</th>\n",
       "      <th>vim</th>\n",
       "      <th>python</th>\n",
       "      <th>...</th>\n",
       "      <th>file</th>\n",
       "      <th>asp.net-mvc</th>\n",
       "      <th>image</th>\n",
       "      <th>cocoa-touch</th>\n",
       "      <th>java-8</th>\n",
       "      <th>security</th>\n",
       "      <th>typescript</th>\n",
       "      <th>npm</th>\n",
       "      <th>macos</th>\n",
       "      <th>shell</th>\n",
       "    </tr>\n",
       "  </thead>\n",
       "  <tbody>\n",
       "    <tr>\n",
       "      <th>0</th>\n",
       "      <td>is there any way to tinker with the iphone sdk...</td>\n",
       "      <td>[way, machine, plan, version, way, think, run,...</td>\n",
       "      <td>92</td>\n",
       "      <td>0</td>\n",
       "      <td>0</td>\n",
       "      <td>0</td>\n",
       "      <td>0</td>\n",
       "      <td>0</td>\n",
       "      <td>0</td>\n",
       "      <td>0</td>\n",
       "      <td>...</td>\n",
       "      <td>0</td>\n",
       "      <td>0</td>\n",
       "      <td>0</td>\n",
       "      <td>0</td>\n",
       "      <td>0</td>\n",
       "      <td>0</td>\n",
       "      <td>0</td>\n",
       "      <td>0</td>\n",
       "      <td>0</td>\n",
       "      <td>0</td>\n",
       "    </tr>\n",
       "    <tr>\n",
       "      <th>1</th>\n",
       "      <td>i have this gigantic ugly string j transaction...</td>\n",
       "      <td>[gigantic, ugly, string, transaction, start, p...</td>\n",
       "      <td>144</td>\n",
       "      <td>0</td>\n",
       "      <td>0</td>\n",
       "      <td>0</td>\n",
       "      <td>0</td>\n",
       "      <td>0</td>\n",
       "      <td>0</td>\n",
       "      <td>0</td>\n",
       "      <td>...</td>\n",
       "      <td>0</td>\n",
       "      <td>0</td>\n",
       "      <td>0</td>\n",
       "      <td>0</td>\n",
       "      <td>0</td>\n",
       "      <td>0</td>\n",
       "      <td>0</td>\n",
       "      <td>0</td>\n",
       "      <td>0</td>\n",
       "      <td>0</td>\n",
       "    </tr>\n",
       "    <tr>\n",
       "      <th>2</th>\n",
       "      <td>i am working with autolayout and constraints a...</td>\n",
       "      <td>[work, autolayout_constraint, find, constrain,...</td>\n",
       "      <td>217</td>\n",
       "      <td>0</td>\n",
       "      <td>0</td>\n",
       "      <td>0</td>\n",
       "      <td>0</td>\n",
       "      <td>0</td>\n",
       "      <td>0</td>\n",
       "      <td>0</td>\n",
       "      <td>...</td>\n",
       "      <td>0</td>\n",
       "      <td>0</td>\n",
       "      <td>0</td>\n",
       "      <td>0</td>\n",
       "      <td>0</td>\n",
       "      <td>0</td>\n",
       "      <td>0</td>\n",
       "      <td>0</td>\n",
       "      <td>0</td>\n",
       "      <td>0</td>\n",
       "    </tr>\n",
       "    <tr>\n",
       "      <th>3</th>\n",
       "      <td>i m learning objective c and keep bumping into...</td>\n",
       "      <td>[learn, objective, keep, bump, symbol, use, di...</td>\n",
       "      <td>64</td>\n",
       "      <td>0</td>\n",
       "      <td>0</td>\n",
       "      <td>0</td>\n",
       "      <td>0</td>\n",
       "      <td>0</td>\n",
       "      <td>0</td>\n",
       "      <td>0</td>\n",
       "      <td>...</td>\n",
       "      <td>0</td>\n",
       "      <td>0</td>\n",
       "      <td>0</td>\n",
       "      <td>0</td>\n",
       "      <td>0</td>\n",
       "      <td>0</td>\n",
       "      <td>0</td>\n",
       "      <td>0</td>\n",
       "      <td>0</td>\n",
       "      <td>0</td>\n",
       "    </tr>\n",
       "    <tr>\n",
       "      <th>4</th>\n",
       "      <td>is there a simple way in a pretty standard uni...</td>\n",
       "      <td>[simple, way, pretty, standard, unix, environm...</td>\n",
       "      <td>131</td>\n",
       "      <td>0</td>\n",
       "      <td>0</td>\n",
       "      <td>0</td>\n",
       "      <td>0</td>\n",
       "      <td>0</td>\n",
       "      <td>0</td>\n",
       "      <td>0</td>\n",
       "      <td>...</td>\n",
       "      <td>0</td>\n",
       "      <td>0</td>\n",
       "      <td>0</td>\n",
       "      <td>0</td>\n",
       "      <td>0</td>\n",
       "      <td>0</td>\n",
       "      <td>0</td>\n",
       "      <td>0</td>\n",
       "      <td>0</td>\n",
       "      <td>0</td>\n",
       "    </tr>\n",
       "  </tbody>\n",
       "</table>\n",
       "<p>5 rows × 103 columns</p>\n",
       "</div>"
      ],
      "text/plain": [
       "                                             content  \\\n",
       "0  is there any way to tinker with the iphone sdk...   \n",
       "1  i have this gigantic ugly string j transaction...   \n",
       "2  i am working with autolayout and constraints a...   \n",
       "3  i m learning objective c and keep bumping into...   \n",
       "4  is there a simple way in a pretty standard uni...   \n",
       "\n",
       "                                  preprocess_content  word_count  r  numpy  \\\n",
       "0  [way, machine, plan, version, way, think, run,...          92  0      0   \n",
       "1  [gigantic, ugly, string, transaction, start, p...         144  0      0   \n",
       "2  [work, autolayout_constraint, find, constrain,...         217  0      0   \n",
       "3  [learn, objective, keep, bump, symbol, use, di...          64  0      0   \n",
       "4  [simple, way, pretty, standard, unix, environm...         131  0      0   \n",
       "\n",
       "   gradle  scala  sorting  vim  python  ...  file  asp.net-mvc  image  \\\n",
       "0       0      0        0    0       0  ...     0            0      0   \n",
       "1       0      0        0    0       0  ...     0            0      0   \n",
       "2       0      0        0    0       0  ...     0            0      0   \n",
       "3       0      0        0    0       0  ...     0            0      0   \n",
       "4       0      0        0    0       0  ...     0            0      0   \n",
       "\n",
       "   cocoa-touch  java-8  security  typescript  npm  macos  shell  \n",
       "0            0       0         0           0    0      0      0  \n",
       "1            0       0         0           0    0      0      0  \n",
       "2            0       0         0           0    0      0      0  \n",
       "3            0       0         0           0    0      0      0  \n",
       "4            0       0         0           0    0      0      0  \n",
       "\n",
       "[5 rows x 103 columns]"
      ]
     },
     "execution_count": 30,
     "metadata": {},
     "output_type": "execute_result"
    }
   ],
   "source": [
    "df2.head()"
   ]
  },
  {
   "cell_type": "markdown",
   "id": "66320156",
   "metadata": {
    "ExecuteTime": {
     "end_time": "2021-08-10T13:57:39.876662Z",
     "start_time": "2021-08-10T13:57:39.864605Z"
    }
   },
   "source": [
    "## Nombre de tags par individu"
   ]
  },
  {
   "cell_type": "code",
   "execution_count": 31,
   "id": "5f9d5989",
   "metadata": {
    "ExecuteTime": {
     "end_time": "2021-08-20T08:34:59.207063Z",
     "start_time": "2021-08-20T08:34:54.898714Z"
    }
   },
   "outputs": [
    {
     "name": "stdout",
     "output_type": "stream",
     "text": [
      "11319    1\n",
      "16311    1\n",
      "5581     1\n",
      "28853    1\n",
      "5576     1\n",
      "        ..\n",
      "10772    5\n",
      "10769    5\n",
      "10767    5\n",
      "34356    5\n",
      "44994    5\n",
      "Length: 44995, dtype: int64\n"
     ]
    }
   ],
   "source": [
    "# Nbre de tags par individu sur df\n",
    "sum_row = df.iloc[:,4:].sum(axis=1)\n",
    "print (sum_row.sort_values())"
   ]
  },
  {
   "cell_type": "code",
   "execution_count": 32,
   "id": "b8e8a129",
   "metadata": {
    "ExecuteTime": {
     "end_time": "2021-08-20T08:34:59.502582Z",
     "start_time": "2021-08-20T08:34:59.208767Z"
    }
   },
   "outputs": [
    {
     "data": {
      "text/plain": [
       "Text(0.5, 1.0, 'Nombre de tags par individu')"
      ]
     },
     "execution_count": 32,
     "metadata": {},
     "output_type": "execute_result"
    },
    {
     "data": {
      "text/plain": [
       "<Figure size 1440x360 with 0 Axes>"
      ]
     },
     "metadata": {},
     "output_type": "display_data"
    },
    {
     "data": {
      "image/png": "[encoded data removed]",
      "text/plain": [
       "<Figure size 432x288 with 1 Axes>"
      ]
     },
     "metadata": {
      "needs_background": "light"
     },
     "output_type": "display_data"
    }
   ],
   "source": [
    "plt.figure(figsize=(20, 5))\n",
    "sum_row.sort_values().reset_index().drop(columns ='index').plot()\n",
    "plt.title(\"Nombre de tags par individu\")"
   ]
  },
  {
   "cell_type": "code",
   "execution_count": 33,
   "id": "66cad289",
   "metadata": {
    "ExecuteTime": {
     "end_time": "2021-08-20T08:34:59.541745Z",
     "start_time": "2021-08-20T08:34:59.504577Z"
    }
   },
   "outputs": [
    {
     "name": "stdout",
     "output_type": "stream",
     "text": [
      "14439    1\n",
      "18194    1\n",
      "34833    1\n",
      "18192    1\n",
      "34834    1\n",
      "        ..\n",
      "26748    5\n",
      "16726    5\n",
      "30713    5\n",
      "42989    5\n",
      "19781    5\n",
      "Length: 40774, dtype: int64\n"
     ]
    }
   ],
   "source": [
    "# Nbre de tags par individu sur df2\n",
    "sum_row2 = df2.iloc[:,3:].sum(axis=1)\n",
    "print (sum_row2.sort_values())"
   ]
  },
  {
   "cell_type": "code",
   "execution_count": 34,
   "id": "b286e821",
   "metadata": {
    "ExecuteTime": {
     "end_time": "2021-08-20T08:34:59.832008Z",
     "start_time": "2021-08-20T08:34:59.543739Z"
    }
   },
   "outputs": [
    {
     "data": {
      "text/plain": [
       "Text(0.5, 1.0, 'Nombre de tags par individu')"
      ]
     },
     "execution_count": 34,
     "metadata": {},
     "output_type": "execute_result"
    },
    {
     "data": {
      "text/plain": [
       "<Figure size 1440x360 with 0 Axes>"
      ]
     },
     "metadata": {},
     "output_type": "display_data"
    },
    {
     "data": {
      "image/png": "[encoded data removed]",
      "text/plain": [
       "<Figure size 432x288 with 1 Axes>"
      ]
     },
     "metadata": {
      "needs_background": "light"
     },
     "output_type": "display_data"
    }
   ],
   "source": [
    "plt.figure(figsize=(20, 5))\n",
    "sum_row2.sort_values().reset_index().drop(columns ='index').plot()\n",
    "plt.title(\"Nombre de tags par individu\")"
   ]
  },
  {
   "cell_type": "markdown",
   "id": "64507513",
   "metadata": {},
   "source": [
    "# Export des datasets"
   ]
  },
  {
   "cell_type": "code",
   "execution_count": 35,
   "id": "bdbb7521",
   "metadata": {
    "ExecuteTime": {
     "end_time": "2021-08-20T08:35:00.670793Z",
     "start_time": "2021-08-20T08:34:59.833514Z"
    }
   },
   "outputs": [],
   "source": [
    "df2.to_pickle(\"./preprocess_data.pkl\")"
   ]
  }
 ],
 "metadata": {
  "kernelspec": {
   "display_name": "Python 3 (ipykernel)",
   "language": "python",
   "name": "python3"
  },
  "language_info": {
   "codemirror_mode": {
    "name": "ipython",
    "version": 3
   },
   "file_extension": ".py",
   "mimetype": "text/x-python",
   "name": "python",
   "nbconvert_exporter": "python",
   "pygments_lexer": "ipython3",
   "version": "3.8.8"
  },
  "toc": {
   "base_numbering": 1,
   "nav_menu": {},
   "number_sections": true,
   "sideBar": true,
   "skip_h1_title": false,
   "title_cell": "Table of Contents",
   "title_sidebar": "Contents",
   "toc_cell": false,
   "toc_position": {
    "height": "calc(100% - 180px)",
    "left": "10px",
    "top": "150px",
    "width": "285px"
   },
   "toc_section_display": true,
   "toc_window_display": true
  }
 },
 "nbformat": 4,
 "nbformat_minor": 5
}
