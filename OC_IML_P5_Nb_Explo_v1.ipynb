{
 "cells": [
  {
   "cell_type": "markdown",
   "id": "24e47f8b",
   "metadata": {},
   "source": [
    "<font size=\"6\">PROJET 5 : Catégorisez automatiquement des questions </font>"
   ]
  },
  {
   "cell_type": "markdown",
   "id": "28db3fab",
   "metadata": {
    "ExecuteTime": {
     "end_time": "2021-07-29T16:09:06.706931Z",
     "start_time": "2021-07-29T16:09:06.682810Z"
    }
   },
   "source": [
    "<font size=\"6\"> Notebook 1 : Exploration </font>"
   ]
  },
  {
   "cell_type": "code",
   "execution_count": null,
   "id": "20bd627e",
   "metadata": {},
   "outputs": [],
   "source": []
  }
 ],
 "metadata": {
  "kernelspec": {
   "display_name": "Python 3 (ipykernel)",
   "language": "python",
   "name": "python3"
  },
  "language_info": {
   "codemirror_mode": {
    "name": "ipython",
    "version": 3
   },
   "file_extension": ".py",
   "mimetype": "text/x-python",
   "name": "python",
   "nbconvert_exporter": "python",
   "pygments_lexer": "ipython3",
   "version": "3.8.8"
  },
  "toc": {
   "base_numbering": 1,
   "nav_menu": {},
   "number_sections": true,
   "sideBar": true,
   "skip_h1_title": false,
   "title_cell": "Table of Contents",
   "title_sidebar": "Contents",
   "toc_cell": false,
   "toc_position": {},
   "toc_section_display": true,
   "toc_window_display": false
  }
 },
 "nbformat": 4,
 "nbformat_minor": 5
}
