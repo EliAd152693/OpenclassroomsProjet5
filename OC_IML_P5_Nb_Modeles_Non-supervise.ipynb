{
 "cells": [
  {
   "cell_type": "markdown",
   "id": "1047e067",
   "metadata": {},
   "source": [
    "<font size=\"6\">PROJET 5 : Catégorisez automatiquement des questions </font>"
   ]
  },
  {
   "cell_type": "markdown",
   "id": "4b67b6d3",
   "metadata": {},
   "source": [
    "<font size=\"6\"> Notebook 2 : Modèles non supervisés </font>"
   ]
  },
  {
   "cell_type": "markdown",
   "id": "445da9dc",
   "metadata": {},
   "source": [
    "**Librairies**"
   ]
  },
  {
   "cell_type": "code",
   "execution_count": 1,
   "id": "0ab35af1",
   "metadata": {
    "ExecuteTime": {
     "end_time": "2021-08-14T11:46:37.031932Z",
     "start_time": "2021-08-14T11:46:36.100234Z"
    }
   },
   "outputs": [],
   "source": [
    "# Data analyse\n",
    "import pandas as pd\n",
    "import numpy as np\n",
    "from pprint import pprint\n",
    "from operator import itemgetter"
   ]
  },
  {
   "cell_type": "code",
   "execution_count": 2,
   "id": "1dc98eb9",
   "metadata": {
    "ExecuteTime": {
     "end_time": "2021-08-14T11:46:40.512573Z",
     "start_time": "2021-08-14T11:46:37.031932Z"
    }
   },
   "outputs": [],
   "source": [
    "# Visualisation\n",
    "import matplotlib.pyplot as plt\n",
    "import pyLDAvis\n",
    "import pyLDAvis.gensim_models\n",
    "from wordcloud import WordCloud, STOPWORDS\n",
    "import matplotlib.colors as mcolors"
   ]
  },
  {
   "cell_type": "code",
   "execution_count": 3,
   "id": "52252ef0",
   "metadata": {
    "ExecuteTime": {
     "end_time": "2021-08-14T11:46:41.473912Z",
     "start_time": "2021-08-14T11:46:40.512573Z"
    }
   },
   "outputs": [
    {
     "name": "stderr",
     "output_type": "stream",
     "text": [
      "C:\\Users\\EliseAndro\\anaconda3\\lib\\site-packages\\scipy\\sparse\\sparsetools.py:21: DeprecationWarning: `scipy.sparse.sparsetools` is deprecated!\n",
      "scipy.sparse.sparsetools is a private module for scipy.sparse, and should not be used.\n",
      "  _deprecated()\n",
      "C:\\Users\\EliseAndro\\anaconda3\\lib\\site-packages\\gensim\\similarities\\__init__.py:15: UserWarning: The gensim.similarities.levenshtein submodule is disabled, because the optional Levenshtein package <https://pypi.org/project/python-Levenshtein/> is unavailable. Install Levenhstein (e.g. `pip install python-Levenshtein`) to suppress this warning.\n",
      "  warnings.warn(msg)\n"
     ]
    }
   ],
   "source": [
    "# Modèles\n",
    "import gensim\n",
    "import gensim.corpora as corpora\n",
    "from gensim.corpora.dictionary import Dictionary\n",
    "from gensim.models.nmf import Nmf\n",
    "from sklearn.decomposition import NMF\n",
    "\n",
    "from sklearn.model_selection import train_test_split\n",
    "from sklearn.feature_extraction.text import TfidfVectorizer\n",
    "from nltk.tokenize import RegexpTokenizer\n",
    "\n",
    "# Evaluation\n",
    "from gensim.models import CoherenceModel"
   ]
  },
  {
   "cell_type": "markdown",
   "id": "a7a22ef2",
   "metadata": {},
   "source": [
    "**Chargement des données traités dans le Notebook 1**"
   ]
  },
  {
   "cell_type": "code",
   "execution_count": 8,
   "id": "7e2fb218",
   "metadata": {
    "ExecuteTime": {
     "end_time": "2021-08-14T11:48:06.941870Z",
     "start_time": "2021-08-14T11:48:06.455954Z"
    }
   },
   "outputs": [],
   "source": [
    "df = pd.read_pickle(\"./pkl_objects/preprocess_data.pkl\")"
   ]
  },
  {
   "cell_type": "code",
   "execution_count": 9,
   "id": "ef3b0499",
   "metadata": {
    "ExecuteTime": {
     "end_time": "2021-08-14T11:48:09.696702Z",
     "start_time": "2021-08-14T11:48:09.627291Z"
    },
    "scrolled": true
   },
   "outputs": [
    {
     "data": {
      "text/html": [
       "<div>\n",
       "<style scoped>\n",
       "    .dataframe tbody tr th:only-of-type {\n",
       "        vertical-align: middle;\n",
       "    }\n",
       "\n",
       "    .dataframe tbody tr th {\n",
       "        vertical-align: top;\n",
       "    }\n",
       "\n",
       "    .dataframe thead th {\n",
       "        text-align: right;\n",
       "    }\n",
       "</style>\n",
       "<table border=\"1\" class=\"dataframe\">\n",
       "  <thead>\n",
       "    <tr style=\"text-align: right;\">\n",
       "      <th></th>\n",
       "      <th>content</th>\n",
       "      <th>preprocess_content</th>\n",
       "      <th>word_count</th>\n",
       "      <th>version-control</th>\n",
       "      <th>forms</th>\n",
       "      <th>sql</th>\n",
       "      <th>syntax</th>\n",
       "      <th>asp.net-mvc</th>\n",
       "      <th>numpy</th>\n",
       "      <th>http</th>\n",
       "      <th>...</th>\n",
       "      <th>objective-c</th>\n",
       "      <th>exception</th>\n",
       "      <th>sorting</th>\n",
       "      <th>matplotlib</th>\n",
       "      <th>c</th>\n",
       "      <th>android</th>\n",
       "      <th>ios</th>\n",
       "      <th>linq</th>\n",
       "      <th>swift</th>\n",
       "      <th>java-8</th>\n",
       "    </tr>\n",
       "  </thead>\n",
       "  <tbody>\n",
       "    <tr>\n",
       "      <th>0</th>\n",
       "      <td>is there any way to tinker with the iphone sdk...</td>\n",
       "      <td>[way, machine, plan, version, way, think, run,...</td>\n",
       "      <td>70</td>\n",
       "      <td>0</td>\n",
       "      <td>0</td>\n",
       "      <td>0</td>\n",
       "      <td>0</td>\n",
       "      <td>0</td>\n",
       "      <td>0</td>\n",
       "      <td>0</td>\n",
       "      <td>...</td>\n",
       "      <td>0</td>\n",
       "      <td>0</td>\n",
       "      <td>0</td>\n",
       "      <td>0</td>\n",
       "      <td>0</td>\n",
       "      <td>0</td>\n",
       "      <td>1</td>\n",
       "      <td>0</td>\n",
       "      <td>0</td>\n",
       "      <td>0</td>\n",
       "    </tr>\n",
       "    <tr>\n",
       "      <th>1</th>\n",
       "      <td>i have this gigantic ugly string j transaction...</td>\n",
       "      <td>[gigantic, ugly, string, transaction, start, p...</td>\n",
       "      <td>120</td>\n",
       "      <td>0</td>\n",
       "      <td>0</td>\n",
       "      <td>0</td>\n",
       "      <td>0</td>\n",
       "      <td>0</td>\n",
       "      <td>0</td>\n",
       "      <td>0</td>\n",
       "      <td>...</td>\n",
       "      <td>0</td>\n",
       "      <td>0</td>\n",
       "      <td>0</td>\n",
       "      <td>0</td>\n",
       "      <td>0</td>\n",
       "      <td>0</td>\n",
       "      <td>0</td>\n",
       "      <td>0</td>\n",
       "      <td>0</td>\n",
       "      <td>0</td>\n",
       "    </tr>\n",
       "    <tr>\n",
       "      <th>2</th>\n",
       "      <td>i am working with autolayout and constraints a...</td>\n",
       "      <td>[work, autolayout, constraint, find, constrain...</td>\n",
       "      <td>199</td>\n",
       "      <td>0</td>\n",
       "      <td>0</td>\n",
       "      <td>0</td>\n",
       "      <td>0</td>\n",
       "      <td>0</td>\n",
       "      <td>0</td>\n",
       "      <td>0</td>\n",
       "      <td>...</td>\n",
       "      <td>0</td>\n",
       "      <td>0</td>\n",
       "      <td>0</td>\n",
       "      <td>0</td>\n",
       "      <td>0</td>\n",
       "      <td>0</td>\n",
       "      <td>1</td>\n",
       "      <td>0</td>\n",
       "      <td>0</td>\n",
       "      <td>0</td>\n",
       "    </tr>\n",
       "    <tr>\n",
       "      <th>3</th>\n",
       "      <td>i m learning objective c and keep bumping into...</td>\n",
       "      <td>[learn, objective, keep, bump, symbol, use, di...</td>\n",
       "      <td>48</td>\n",
       "      <td>0</td>\n",
       "      <td>0</td>\n",
       "      <td>0</td>\n",
       "      <td>0</td>\n",
       "      <td>0</td>\n",
       "      <td>0</td>\n",
       "      <td>0</td>\n",
       "      <td>...</td>\n",
       "      <td>1</td>\n",
       "      <td>0</td>\n",
       "      <td>0</td>\n",
       "      <td>0</td>\n",
       "      <td>0</td>\n",
       "      <td>0</td>\n",
       "      <td>0</td>\n",
       "      <td>0</td>\n",
       "      <td>0</td>\n",
       "      <td>0</td>\n",
       "    </tr>\n",
       "    <tr>\n",
       "      <th>4</th>\n",
       "      <td>is there a simple way in a pretty standard uni...</td>\n",
       "      <td>[simple, way, pretty, standard, unix, environm...</td>\n",
       "      <td>113</td>\n",
       "      <td>0</td>\n",
       "      <td>0</td>\n",
       "      <td>0</td>\n",
       "      <td>0</td>\n",
       "      <td>0</td>\n",
       "      <td>0</td>\n",
       "      <td>0</td>\n",
       "      <td>...</td>\n",
       "      <td>0</td>\n",
       "      <td>0</td>\n",
       "      <td>0</td>\n",
       "      <td>0</td>\n",
       "      <td>0</td>\n",
       "      <td>0</td>\n",
       "      <td>0</td>\n",
       "      <td>0</td>\n",
       "      <td>0</td>\n",
       "      <td>0</td>\n",
       "    </tr>\n",
       "    <tr>\n",
       "      <th>...</th>\n",
       "      <td>...</td>\n",
       "      <td>...</td>\n",
       "      <td>...</td>\n",
       "      <td>...</td>\n",
       "      <td>...</td>\n",
       "      <td>...</td>\n",
       "      <td>...</td>\n",
       "      <td>...</td>\n",
       "      <td>...</td>\n",
       "      <td>...</td>\n",
       "      <td>...</td>\n",
       "      <td>...</td>\n",
       "      <td>...</td>\n",
       "      <td>...</td>\n",
       "      <td>...</td>\n",
       "      <td>...</td>\n",
       "      <td>...</td>\n",
       "      <td>...</td>\n",
       "      <td>...</td>\n",
       "      <td>...</td>\n",
       "      <td>...</td>\n",
       "    </tr>\n",
       "    <tr>\n",
       "      <th>44990</th>\n",
       "      <td>recently i upgraded the version of django fram...</td>\n",
       "      <td>[recently_upgrade, version, django, framework,...</td>\n",
       "      <td>331</td>\n",
       "      <td>0</td>\n",
       "      <td>0</td>\n",
       "      <td>0</td>\n",
       "      <td>0</td>\n",
       "      <td>0</td>\n",
       "      <td>0</td>\n",
       "      <td>0</td>\n",
       "      <td>...</td>\n",
       "      <td>0</td>\n",
       "      <td>0</td>\n",
       "      <td>0</td>\n",
       "      <td>0</td>\n",
       "      <td>0</td>\n",
       "      <td>0</td>\n",
       "      <td>0</td>\n",
       "      <td>0</td>\n",
       "      <td>0</td>\n",
       "      <td>0</td>\n",
       "    </tr>\n",
       "    <tr>\n",
       "      <th>44991</th>\n",
       "      <td>how can i reject a promise that returned by an...</td>\n",
       "      <td>[reject, promise, return, async_await, functio...</td>\n",
       "      <td>88</td>\n",
       "      <td>0</td>\n",
       "      <td>0</td>\n",
       "      <td>0</td>\n",
       "      <td>0</td>\n",
       "      <td>0</td>\n",
       "      <td>0</td>\n",
       "      <td>0</td>\n",
       "      <td>...</td>\n",
       "      <td>0</td>\n",
       "      <td>0</td>\n",
       "      <td>0</td>\n",
       "      <td>0</td>\n",
       "      <td>0</td>\n",
       "      <td>0</td>\n",
       "      <td>0</td>\n",
       "      <td>0</td>\n",
       "      <td>0</td>\n",
       "      <td>0</td>\n",
       "    </tr>\n",
       "    <tr>\n",
       "      <th>44992</th>\n",
       "      <td>i have entities that are related as one to man...</td>\n",
       "      <td>[entity, relate, manypublic, class, restaurant...</td>\n",
       "      <td>296</td>\n",
       "      <td>0</td>\n",
       "      <td>0</td>\n",
       "      <td>0</td>\n",
       "      <td>0</td>\n",
       "      <td>0</td>\n",
       "      <td>0</td>\n",
       "      <td>0</td>\n",
       "      <td>...</td>\n",
       "      <td>0</td>\n",
       "      <td>0</td>\n",
       "      <td>0</td>\n",
       "      <td>0</td>\n",
       "      <td>0</td>\n",
       "      <td>0</td>\n",
       "      <td>0</td>\n",
       "      <td>0</td>\n",
       "      <td>0</td>\n",
       "      <td>0</td>\n",
       "    </tr>\n",
       "    <tr>\n",
       "      <th>44993</th>\n",
       "      <td>problemi want to return a file in my asp net w...</td>\n",
       "      <td>[want, return, file, web, api, controller, app...</td>\n",
       "      <td>90</td>\n",
       "      <td>0</td>\n",
       "      <td>0</td>\n",
       "      <td>0</td>\n",
       "      <td>0</td>\n",
       "      <td>0</td>\n",
       "      <td>0</td>\n",
       "      <td>0</td>\n",
       "      <td>...</td>\n",
       "      <td>0</td>\n",
       "      <td>0</td>\n",
       "      <td>0</td>\n",
       "      <td>0</td>\n",
       "      <td>0</td>\n",
       "      <td>0</td>\n",
       "      <td>0</td>\n",
       "      <td>0</td>\n",
       "      <td>0</td>\n",
       "      <td>0</td>\n",
       "    </tr>\n",
       "    <tr>\n",
       "      <th>44994</th>\n",
       "      <td>using suggested method this is the result a li...</td>\n",
       "      <td>[use, suggest, method, result, link, button, c...</td>\n",
       "      <td>71</td>\n",
       "      <td>0</td>\n",
       "      <td>0</td>\n",
       "      <td>0</td>\n",
       "      <td>0</td>\n",
       "      <td>0</td>\n",
       "      <td>0</td>\n",
       "      <td>0</td>\n",
       "      <td>...</td>\n",
       "      <td>0</td>\n",
       "      <td>0</td>\n",
       "      <td>0</td>\n",
       "      <td>0</td>\n",
       "      <td>0</td>\n",
       "      <td>0</td>\n",
       "      <td>0</td>\n",
       "      <td>0</td>\n",
       "      <td>0</td>\n",
       "      <td>0</td>\n",
       "    </tr>\n",
       "  </tbody>\n",
       "</table>\n",
       "<p>40730 rows × 103 columns</p>\n",
       "</div>"
      ],
      "text/plain": [
       "                                                 content  \\\n",
       "0      is there any way to tinker with the iphone sdk...   \n",
       "1      i have this gigantic ugly string j transaction...   \n",
       "2      i am working with autolayout and constraints a...   \n",
       "3      i m learning objective c and keep bumping into...   \n",
       "4      is there a simple way in a pretty standard uni...   \n",
       "...                                                  ...   \n",
       "44990  recently i upgraded the version of django fram...   \n",
       "44991  how can i reject a promise that returned by an...   \n",
       "44992  i have entities that are related as one to man...   \n",
       "44993  problemi want to return a file in my asp net w...   \n",
       "44994  using suggested method this is the result a li...   \n",
       "\n",
       "                                      preprocess_content  word_count  \\\n",
       "0      [way, machine, plan, version, way, think, run,...          70   \n",
       "1      [gigantic, ugly, string, transaction, start, p...         120   \n",
       "2      [work, autolayout, constraint, find, constrain...         199   \n",
       "3      [learn, objective, keep, bump, symbol, use, di...          48   \n",
       "4      [simple, way, pretty, standard, unix, environm...         113   \n",
       "...                                                  ...         ...   \n",
       "44990  [recently_upgrade, version, django, framework,...         331   \n",
       "44991  [reject, promise, return, async_await, functio...          88   \n",
       "44992  [entity, relate, manypublic, class, restaurant...         296   \n",
       "44993  [want, return, file, web, api, controller, app...          90   \n",
       "44994  [use, suggest, method, result, link, button, c...          71   \n",
       "\n",
       "       version-control  forms  sql  syntax  asp.net-mvc  numpy  http  ...  \\\n",
       "0                    0      0    0       0            0      0     0  ...   \n",
       "1                    0      0    0       0            0      0     0  ...   \n",
       "2                    0      0    0       0            0      0     0  ...   \n",
       "3                    0      0    0       0            0      0     0  ...   \n",
       "4                    0      0    0       0            0      0     0  ...   \n",
       "...                ...    ...  ...     ...          ...    ...   ...  ...   \n",
       "44990                0      0    0       0            0      0     0  ...   \n",
       "44991                0      0    0       0            0      0     0  ...   \n",
       "44992                0      0    0       0            0      0     0  ...   \n",
       "44993                0      0    0       0            0      0     0  ...   \n",
       "44994                0      0    0       0            0      0     0  ...   \n",
       "\n",
       "       objective-c  exception  sorting  matplotlib  c  android  ios  linq  \\\n",
       "0                0          0        0           0  0        0    1     0   \n",
       "1                0          0        0           0  0        0    0     0   \n",
       "2                0          0        0           0  0        0    1     0   \n",
       "3                1          0        0           0  0        0    0     0   \n",
       "4                0          0        0           0  0        0    0     0   \n",
       "...            ...        ...      ...         ... ..      ...  ...   ...   \n",
       "44990            0          0        0           0  0        0    0     0   \n",
       "44991            0          0        0           0  0        0    0     0   \n",
       "44992            0          0        0           0  0        0    0     0   \n",
       "44993            0          0        0           0  0        0    0     0   \n",
       "44994            0          0        0           0  0        0    0     0   \n",
       "\n",
       "       swift  java-8  \n",
       "0          0       0  \n",
       "1          0       0  \n",
       "2          0       0  \n",
       "3          0       0  \n",
       "4          0       0  \n",
       "...      ...     ...  \n",
       "44990      0       0  \n",
       "44991      0       0  \n",
       "44992      0       0  \n",
       "44993      0       0  \n",
       "44994      0       0  \n",
       "\n",
       "[40730 rows x 103 columns]"
      ]
     },
     "execution_count": 9,
     "metadata": {},
     "output_type": "execute_result"
    }
   ],
   "source": [
    "df"
   ]
  },
  {
   "cell_type": "markdown",
   "id": "b5691e6d",
   "metadata": {},
   "source": [
    "# Latent Dirichlet Allocation"
   ]
  },
  {
   "cell_type": "markdown",
   "id": "7a6737f6",
   "metadata": {},
   "source": [
    "Principes du LDA : "
   ]
  },
  {
   "cell_type": "markdown",
   "id": "50b18dfa",
   "metadata": {},
   "source": [
    "## Create the dictionary and Corpus needed for topic modeling"
   ]
  },
  {
   "cell_type": "markdown",
   "id": "ff46d5e5",
   "metadata": {},
   "source": [
    "Convert document (a list of words) into the bag-of-words format = list of (token_id, token_count) 2-tuples."
   ]
  },
  {
   "cell_type": "code",
   "execution_count": 10,
   "id": "7c0f1716",
   "metadata": {
    "ExecuteTime": {
     "end_time": "2021-08-14T11:48:14.241753Z",
     "start_time": "2021-08-14T11:48:11.034022Z"
    }
   },
   "outputs": [
    {
     "name": "stdout",
     "output_type": "stream",
     "text": [
      "[(0, 1), (1, 1), (2, 1), (3, 1), (4, 1), (5, 2), (6, 1), (7, 2), (8, 1), (9, 1), (10, 1), (11, 1), (12, 1), (13, 1), (14, 2), (15, 2)]\n"
     ]
    }
   ],
   "source": [
    "# Create Dictionary\n",
    "id2word = corpora.Dictionary(df['preprocess_content'])\n",
    "# Create Corpus\n",
    "texts = df['preprocess_content']\n",
    "# Term Document Frequancy\n",
    "corpus = [id2word.doc2bow(text) for text in texts]\n",
    "\n",
    "print(corpus[0])"
   ]
  },
  {
   "cell_type": "code",
   "execution_count": 11,
   "id": "996ca474",
   "metadata": {
    "ExecuteTime": {
     "end_time": "2021-08-14T11:48:14.276338Z",
     "start_time": "2021-08-14T11:48:14.244872Z"
    }
   },
   "outputs": [
    {
     "data": {
      "text/plain": [
       "'develop'"
      ]
     },
     "execution_count": 11,
     "metadata": {},
     "output_type": "execute_result"
    }
   ],
   "source": [
    "#Exemple de mot du dictionnaire\n",
    "id2word[0]"
   ]
  },
  {
   "cell_type": "code",
   "execution_count": 12,
   "id": "78f31493",
   "metadata": {
    "ExecuteTime": {
     "end_time": "2021-08-14T11:48:14.295326Z",
     "start_time": "2021-08-14T11:48:14.278334Z"
    }
   },
   "outputs": [
    {
     "data": {
      "text/plain": [
       "[[('develop', 1),\n",
       "  ('development', 1),\n",
       "  ('image', 1),\n",
       "  ('iphone', 1),\n",
       "  ('legal', 1),\n",
       "  ('machine', 2),\n",
       "  ('plan', 1),\n",
       "  ('run', 2),\n",
       "  ('server', 1),\n",
       "  ('sure', 1),\n",
       "  ('think', 1),\n",
       "  ('use', 1),\n",
       "  ('version', 1),\n",
       "  ('vmware', 1),\n",
       "  ('way', 2),\n",
       "  ('window', 2)]]"
      ]
     },
     "execution_count": 12,
     "metadata": {},
     "output_type": "execute_result"
    }
   ],
   "source": [
    "# Human readable format of corpus (term-frequency)\n",
    "[[(id2word[id], freq) for id, freq in cp] for cp in corpus[:1]]"
   ]
  },
  {
   "cell_type": "markdown",
   "id": "69641d8e",
   "metadata": {},
   "source": [
    "## Find the optimal number of topics for LDA?"
   ]
  },
  {
   "cell_type": "code",
   "execution_count": 13,
   "id": "d5a06a2e",
   "metadata": {
    "ExecuteTime": {
     "end_time": "2021-08-14T11:48:14.313465Z",
     "start_time": "2021-08-14T11:48:14.297380Z"
    }
   },
   "outputs": [],
   "source": [
    "def compute_coherence_values(dictionary, corpus, texts, limit, start=2, step=3):\n",
    "    \"\"\"\n",
    "    Compute c_v coherence for various number of topics\n",
    "\n",
    "    Parameters:\n",
    "    ----------\n",
    "    dictionary : Gensim dictionary\n",
    "    corpus : Gensim corpus\n",
    "    texts : List of input texts\n",
    "    limit : Max num of topics\n",
    "\n",
    "    Returns:\n",
    "    -------\n",
    "    model_list : List of LDA topic models\n",
    "    coherence_values : Coherence values corresponding to the LDA model with respective number of topics\n",
    "    \"\"\"\n",
    "    coherence_values = []\n",
    "    model_list = []\n",
    "    for num_topics in range(start, limit, step):\n",
    "        model = gensim.models.ldamodel.LdaModel(corpus=corpus,\n",
    "                                                id2word=dictionary,\n",
    "                                                num_topics= num_topics, \n",
    "                                                random_state=100, \n",
    "                                                update_every=1,\n",
    "                                                chunksize=200,\n",
    "                                                passes=10,\n",
    "                                                alpha='auto',\n",
    "                                                per_word_topics=True)\n",
    "        \n",
    "        model_list.append(model)\n",
    "        coherencemodel = CoherenceModel(model=model, texts=texts, dictionary=dictionary, coherence='c_v')\n",
    "        coherence_values.append(coherencemodel.get_coherence())\n",
    "\n",
    "    return model_list, coherence_values"
   ]
  },
  {
   "cell_type": "code",
   "execution_count": 14,
   "id": "ac9042d1",
   "metadata": {
    "ExecuteTime": {
     "end_time": "2021-08-14T12:54:39.653560Z",
     "start_time": "2021-08-14T11:48:14.315460Z"
    }
   },
   "outputs": [],
   "source": [
    "# Can take a long time to run.\n",
    "model_list, coherence_values = compute_coherence_values(dictionary=id2word, \n",
    "                                                        corpus=corpus, \n",
    "                                                        texts=df['preprocess_content'], \n",
    "                                                        start=9, \n",
    "                                                        limit=33, \n",
    "                                                        step=3)"
   ]
  },
  {
   "cell_type": "code",
   "execution_count": 15,
   "id": "e4083b14",
   "metadata": {
    "ExecuteTime": {
     "end_time": "2021-08-14T12:54:39.911609Z",
     "start_time": "2021-08-14T12:54:39.656447Z"
    }
   },
   "outputs": [
    {
     "data": {
      "image/png": "[encoded data removed]",
      "text/plain": [
       "<Figure size 432x288 with 1 Axes>"
      ]
     },
     "metadata": {
      "needs_background": "light"
     },
     "output_type": "display_data"
    }
   ],
   "source": [
    "# Show graph\n",
    "limit=33; start=9; step=3;\n",
    "x = range(start, limit, step)\n",
    "plt.plot(x, coherence_values)\n",
    "plt.xlabel(\"Num Topics\")\n",
    "plt.ylabel(\"Coherence score\")\n",
    "plt.legend((\"coherence_values\"), loc='best')\n",
    "plt.show()"
   ]
  },
  {
   "cell_type": "code",
   "execution_count": 16,
   "id": "a9754035",
   "metadata": {
    "ExecuteTime": {
     "end_time": "2021-08-14T12:54:39.928769Z",
     "start_time": "2021-08-14T12:54:39.913575Z"
    }
   },
   "outputs": [
    {
     "name": "stdout",
     "output_type": "stream",
     "text": [
      "Num Topics = 9  has Coherence Value of 0.5219\n",
      "Num Topics = 12  has Coherence Value of 0.4119\n",
      "Num Topics = 15  has Coherence Value of 0.4366\n",
      "Num Topics = 18  has Coherence Value of 0.4434\n",
      "Num Topics = 21  has Coherence Value of 0.3894\n",
      "Num Topics = 24  has Coherence Value of 0.3471\n",
      "Num Topics = 27  has Coherence Value of 0.3417\n",
      "Num Topics = 30  has Coherence Value of 0.3429\n"
     ]
    }
   ],
   "source": [
    "# Print the coherence scores\n",
    "for m, cv in zip(x, coherence_values):\n",
    "    print(\"Num Topics =\", m, \" has Coherence Value of\", round(cv, 4))"
   ]
  },
  {
   "cell_type": "code",
   "execution_count": 17,
   "id": "9d570c32",
   "metadata": {
    "ExecuteTime": {
     "end_time": "2021-08-14T12:54:39.982770Z",
     "start_time": "2021-08-14T12:54:39.930764Z"
    }
   },
   "outputs": [
    {
     "name": "stdout",
     "output_type": "stream",
     "text": [
      "[(18,\n",
      "  '0.188*\"script\" + 0.148*\"php\" + 0.089*\"interface\" + 0.071*\"extension\" + '\n",
      "  '0.051*\"spring\" + 0.047*\"operator\" + 0.041*\"directive\" + 0.031*\"external\" + '\n",
      "  '0.028*\"filename\" + 0.024*\"network\"'),\n",
      " (6,\n",
      "  '0.133*\"component\" + 0.090*\"react\" + 0.089*\"database\" + 0.087*\"state\" + '\n",
      "  '0.081*\"store\" + 0.065*\"render\" + 0.055*\"connect\" + 0.044*\"prop\" + '\n",
      "  '0.039*\"mysql\" + 0.028*\"record\"'),\n",
      " (15,\n",
      "  '0.200*\"element\" + 0.079*\"expect\" + 0.074*\"send\" + 0.058*\"syntax\" + '\n",
      "  '0.055*\"release\" + 0.051*\"break\" + 0.038*\"double\" + 0.034*\"nil\" + '\n",
      "  '0.032*\"strong\" + 0.026*\"assign\"'),\n",
      " (9,\n",
      "  '0.265*\"time\" + 0.063*\"studio\" + 0.056*\"next\" + 0.051*\"implementation\" + '\n",
      "  '0.046*\"language\" + 0.045*\"fast\" + 0.030*\"equivalent\" + 0.026*\"basic\" + '\n",
      "  '0.026*\"master\" + 0.025*\"namespace\"'),\n",
      " (17,\n",
      "  '0.122*\"variable\" + 0.110*\"mean\" + 0.102*\"css\" + 0.078*\"width\" + '\n",
      "  '0.076*\"height\" + 0.047*\"apply\" + 0.037*\"cell\" + 0.034*\"declare\" + '\n",
      "  '0.030*\"div\" + 0.025*\"guess\"'),\n",
      " (16,\n",
      "  '0.176*\"array\" + 0.128*\"json\" + 0.107*\"self\" + 0.098*\"index\" + 0.084*\"row\" + '\n",
      "  '0.059*\"loop\" + 0.048*\"length\" + 0.045*\"none\" + 0.037*\"last\" + 0.037*\"def\"'),\n",
      " (2,\n",
      "  '0.222*\"list\" + 0.183*\"import\" + 0.115*\"key\" + 0.100*\"print\" + '\n",
      "  '0.076*\"convert\" + 0.041*\"sort\" + 0.037*\"org_apache\" + 0.032*\"integer\" + '\n",
      "  '0.025*\"total\" + 0.023*\"dictionary\"'),\n",
      " (10,\n",
      "  '0.274*\"test\" + 0.156*\"result\" + 0.154*\"number\" + 0.067*\"javascript\" + '\n",
      "  '0.061*\"replace\" + 0.055*\"dependency\" + 0.055*\"tag\" + 0.022*\"testing\" + '\n",
      "  '0.015*\"unfortunately\" + 0.013*\"efficient\"'),\n",
      " (23,\n",
      "  '0.089*\"install\" + 0.083*\"package\" + 0.071*\"npm\" + 0.068*\"instal\" + '\n",
      "  '0.065*\"library\" + 0.036*\"framework\" + 0.035*\"configuration\" + '\n",
      "  '0.030*\"warning\" + 0.028*\"stream\" + 0.028*\"warn\"'),\n",
      " (0,\n",
      "  '0.128*\"image\" + 0.086*\"html\" + 0.082*\"field\" + 0.069*\"display\" + '\n",
      "  '0.050*\"browser\" + 0.046*\"leave\" + 0.043*\"position\" + 0.042*\"top\" + '\n",
      "  '0.041*\"block\" + 0.039*\"place\"'),\n",
      " (1,\n",
      "  '0.314*\"string\" + 0.228*\"type\" + 0.080*\"input\" + 0.045*\"format\" + '\n",
      "  '0.035*\"character\" + 0.031*\"empty\" + 0.031*\"match\" + 0.020*\"hide\" + '\n",
      "  '0.019*\"parse\" + 0.016*\"datetime\"'),\n",
      " (12,\n",
      "  '0.108*\"difference\" + 0.065*\"model\" + 0.063*\"search\" + 0.062*\"idea\" + '\n",
      "  '0.056*\"thread\" + 0.053*\"attribute\" + 0.048*\"provide\" + 0.035*\"close\" + '\n",
      "  '0.024*\"rail\" + 0.022*\"tab\"'),\n",
      " (20,\n",
      "  '0.081*\"request\" + 0.079*\"system\" + 0.076*\"button\" + 0.075*\"page\" + '\n",
      "  '0.057*\"form\" + 0.055*\"load\" + 0.051*\"web\" + 0.043*\"click\" + '\n",
      "  '0.042*\"response\" + 0.038*\"url\"'),\n",
      " (13,\n",
      "  '0.166*\"line\" + 0.117*\"module\" + 0.106*\"command\" + 0.069*\"output\" + '\n",
      "  '0.066*\"include\" + 0.044*\"python\" + 0.042*\"delete\" + 0.040*\"run\" + '\n",
      "  '0.040*\"argument\" + 0.037*\"program\"'),\n",
      " (3,\n",
      "  '0.151*\"android\" + 0.119*\"com\" + 0.101*\"text\" + 0.095*\"view\" + '\n",
      "  '0.058*\"content\" + 0.033*\"activity\" + 0.030*\"controller\" + 0.029*\"src\" + '\n",
      "  '0.025*\"color\" + 0.024*\"layout\"'),\n",
      " (8,\n",
      "  '0.229*\"name\" + 0.212*\"value\" + 0.078*\"default\" + 0.072*\"option\" + '\n",
      "  '0.066*\"property\" + 0.058*\"select\" + 0.022*\"insert\" + 0.020*\"auto\" + '\n",
      "  '0.019*\"lt\" + 0.017*\"frame\"'),\n",
      " (21,\n",
      "  '0.272*\"error\" + 0.114*\"project\" + 0.085*\"app\" + 0.052*\"message\" + '\n",
      "  '0.046*\"open\" + 0.045*\"link\" + 0.037*\"fix\" + 0.037*\"source\" + 0.028*\"find\" + '\n",
      "  '0.022*\"target\"'),\n",
      " (11,\n",
      "  '0.129*\"add\" + 0.124*\"set\" + 0.072*\"item\" + 0.068*\"first\" + 0.066*\"update\" + '\n",
      "  '0.056*\"case\" + 0.038*\"contain\" + 0.038*\"right\" + 0.036*\"exist\" + '\n",
      "  '0.034*\"end\"'),\n",
      " (19,\n",
      "  '0.092*\"new\" + 0.073*\"return\" + 0.062*\"object\" + 0.060*\"method\" + '\n",
      "  '0.046*\"call\" + 0.044*\"public\" + 0.019*\"however\" + 0.018*\"still\" + '\n",
      "  '0.018*\"amp\" + 0.018*\"private\"'),\n",
      " (14,\n",
      "  '0.087*\"use\" + 0.044*\"get\" + 0.030*\"code\" + 0.030*\"try\" + 0.029*\"work\" + '\n",
      "  '0.026*\"way\" + 0.023*\"want\" + 0.022*\"find\" + 0.021*\"create\" + '\n",
      "  '0.021*\"follow\"')]\n"
     ]
    }
   ],
   "source": [
    "# Select the model and print the topics\n",
    "optimal_model = model_list[6]\n",
    "model_topics = optimal_model.show_topics(formatted=False)\n",
    "pprint(optimal_model.print_topics(num_words=10))"
   ]
  },
  {
   "cell_type": "markdown",
   "id": "b0799d27",
   "metadata": {},
   "source": [
    "**Compute Model Perplexity and Coherence Score**"
   ]
  },
  {
   "cell_type": "code",
   "execution_count": 18,
   "id": "bac5a24a",
   "metadata": {
    "ExecuteTime": {
     "end_time": "2021-08-14T12:55:23.323144Z",
     "start_time": "2021-08-14T12:54:39.984188Z"
    }
   },
   "outputs": [
    {
     "name": "stdout",
     "output_type": "stream",
     "text": [
      "\n",
      "Perplexity:  -14.768408306995678\n",
      "\n",
      "Coherence Score:  0.34172822355384697\n"
     ]
    }
   ],
   "source": [
    "# Compute Perplexity\n",
    "print('\\nPerplexity: ', optimal_model.log_perplexity(corpus))  # a measure of how good the model is. lower the better.\n",
    "\n",
    "# Compute Coherence Score\n",
    "coherence_model_lda = CoherenceModel(model=optimal_model, texts=df['preprocess_content'], dictionary=id2word, coherence='c_v')\n",
    "coherence_lda = coherence_model_lda.get_coherence()\n",
    "print('\\nCoherence Score: ', coherence_lda)"
   ]
  },
  {
   "cell_type": "markdown",
   "id": "d75ed8c3",
   "metadata": {},
   "source": [
    "## Visualize the topics-keywords"
   ]
  },
  {
   "cell_type": "code",
   "execution_count": 19,
   "id": "14cd5c0f",
   "metadata": {
    "ExecuteTime": {
     "end_time": "2021-08-14T12:55:38.472828Z",
     "start_time": "2021-08-14T12:55:23.324763Z"
    }
   },
   "outputs": [
    {
     "data": {
      "text/html": [
       "\n",
       "<link rel=\"stylesheet\" type=\"text/css\" href=\"https://cdn.jsdelivr.net/gh/bmabey/pyLDAvis@3.3.1/pyLDAvis/js/ldavis.v1.0.0.css\">\n",
       "\n",
       "\n",
       "<div id=\"ldavis_el137617964544910729346967602\"></div>\n",
       "<script type=\"text/javascript\">\n",
       "\n",
       "var ldavis_el137617964544910729346967602_data = {\"mdsDat\": {\"x\": [0.3432657465555569, 0.20489695424967358, 0.036269684752289436, 0.04732738730874102, 0.1539569598346044, -0.023791518439354096, 0.04822723976523435, 0.01777789957703026, 0.05651400252031637, 0.10518031092101673, -0.030317693119235087, 0.039061089708390825, -0.042878682492303095, -0.050434931911915636, -0.0009607589015774937, -0.057440145207103846, -0.053737756519783346, -0.01871249536769398, -0.06487322304688523, -0.05869552741339287, -0.04752132895654453, -0.08403205821449129, -0.09717965652126372, -0.09482201777597245, -0.09435831202783773, -0.11405996031265009, -0.11866120896484994], \"y\": [0.1002521192399582, -0.29919288694373164, -0.10155763713247168, 0.03969458001623185, 0.06273475144446844, -0.03036237545585933, 0.046574785730771166, -0.008704336705876904, -0.0948531805343876, 0.21428167567362974, -0.010609087520035886, 0.1880700807525297, -0.014018172058518987, 0.0005408351173517419, -0.16284535602614286, 0.02827118131759698, 0.007378550090832218, -0.0983952293566662, 0.004657586059592187, 0.011178170050407362, 0.06485625570730291, 0.008219980285938858, 0.010507031967389275, 0.011439243990556586, 0.010034928482792763, 0.003471004167913933, 0.008375501638426652], \"topics\": [1, 2, 3, 4, 5, 6, 7, 8, 9, 10, 11, 12, 13, 14, 15, 16, 17, 18, 19, 20, 21, 22, 23, 24, 25, 26, 27], \"cluster\": [1, 1, 1, 1, 1, 1, 1, 1, 1, 1, 1, 1, 1, 1, 1, 1, 1, 1, 1, 1, 1, 1, 1, 1, 1, 1, 1], \"Freq\": [27.32468043813024, 9.211715901641895, 4.4808245279552805, 3.789258782221848, 3.609362573388723, 3.4827668803322784, 3.3686049240792935, 3.2784395293112674, 3.25161940566667, 3.1363661374000906, 2.9126541359953513, 2.8415097016277464, 2.7349603405983416, 2.5896539964188983, 2.351742830225471, 2.3358721778234486, 2.302992458223359, 2.19082613378861, 2.162103096116215, 1.965456060325084, 1.8454361102443961, 1.8174693042368388, 1.6212160961081012, 1.5467035061764232, 1.391293221683912, 1.3783911733920993, 1.078080556888126]}, \"tinfo\": {\"Term\": [\"file\", \"class\", \"error\", \"string\", \"use\", \"function\", \"name\", \"value\", \"type\", \"d\", \"new\", \"test\", \"user\", \"android\", \"add\", \"set\", \"list\", \"time\", \"line\", \"return\", \"datum\", \"get\", \"com\", \"run\", \"import\", \"object\", \"project\", \"java\", \"method\", \"array\", \"use\", \"get\", \"work\", \"way\", \"want\", \"make\", \"know\", \"see\", \"question\", \"need\", \"seem\", \"also\", \"look\", \"give\", \"show\", \"write\", \"go\", \"read\", \"possible\", \"different\", \"solution\", \"window\", \"repository\", \"thing\", \"help\", \"well\", \"say\", \"current\", \"think\", \"simple\", \"try\", \"example\", \"follow\", \"change\", \"problem\", \"code\", \"create\", \"start\", \"find\", \"check\", \"application\", \"run\", \"new\", \"object\", \"method\", \"call\", \"public\", \"amp\", \"private\", \"understand\", \"else\", \"pass\", \"void\", \"static\", \"context\", \"parameter\", \"point\", \"allow\", \"reason\", \"instance\", \"part\", \"actually\", \"comment\", \"connection\", \"exactly\", \"level\", \"much\", \"non\", \"equal\", \"avoid\", \"invoke\", \"suppose\", \"always\", \"lot\", \"reference\", \"return\", \"still\", \"happen\", \"however\", \"tell\", \"issue\", \"null\", \"add\", \"set\", \"item\", \"first\", \"update\", \"case\", \"right\", \"exist\", \"end\", \"documentation\", \"feature\", \"cause\", \"back\", \"common\", \"pattern\", \"switch\", \"stuff\", \"django\", \"simply\", \"particular\", \"previous\", \"sometimes\", \"choose\", \"slow\", \"determine\", \"dynamically\", \"hope\", \"evaluate\", \"hand\", \"almost\", \"contain\", \"implement\", \"however\", \"android\", \"com\", \"text\", \"view\", \"content\", \"activity\", \"controller\", \"src\", \"color\", \"layout\", \"child\", \"chrome\", \"icon\", \"alert\", \"submit\", \"ui\", \"jquery\", \"layout_height\", \"margin\", \"area\", \"redirect\", \"layout_width\", \"db\", \"building\", \"padding\", \"textview\", \"camera\", \"init_py\", \"com_apk\", \"plain\", \"app\", \"xml\", \"error\", \"project\", \"message\", \"open\", \"link\", \"fix\", \"source\", \"target\", \"visual_studio\", \"enable\", \"range\", \"setting\", \"localhost\", \"behavior\", \"initialize\", \"clean\", \"eclipse\", \"computer\", \"utf\", \"domain\", \"util\", \"previously\", \"thought\", \"processing\", \"ago\", \"gui\", \"concat\", \"ascii\", \"unicode\", \"lack\", \"app\", \"receive\", \"find\", \"application\", \"name\", \"value\", \"default\", \"option\", \"property\", \"select\", \"insert\", \"auto\", \"frame\", \"space\", \"sign\", \"session\", \"person\", \"course\", \"relate\", \"box\", \"initial\", \"engine\", \"later\", \"traceback\", \"remember\", \"love\", \"struggle\", \"revert\", \"clause\", \"entirely\", \"behave\", \"collect\", \"definitely\", \"hibernate\", \"constraint\", \"lt\", \"request\", \"system\", \"button\", \"page\", \"form\", \"load\", \"web\", \"click\", \"response\", \"url\", \"event\", \"http\", \"home\", \"throw\", \"control\", \"address\", \"catch\", \"provider\", \"exit\", \"phone\", \"callback\", \"stack\", \"assembly\", \"normal\", \"lock\", \"complex\", \"embed\", \"fire\", \"navigation\", \"best_practice\", \"exception\", \"handle\", \"application\", \"file\", \"git\", \"path\", \"branch\", \"directory\", \"local\", \"folder\", \"copy\", \"location\", \"merge\", \"download\", \"usr_local\", \"pull\", \"structure\", \"origin\", \"lose\", \"ref\", \"apache\", \"hierarchy\", \"sudo\", \"temporary\", \"checkout\", \"oracle\", \"typically\", \"enclose\", \"preferred\", \"occasionally\", \"log\", \"working\", \"move\", \"tell\", \"change\", \"d\", \"datum\", \"i\", \"table\", \"column\", \"remove\", \"query\", \"data\", \"group\", \"action\", \"remote\", \"sql\", \"drop\", \"begin\", \"sql_server\", \"attach\", \"tostre\", \"postgre\", \"batch\", \"char\", \"prefix\", \"temp\", \"postgresql\", \"regular_expression\", \"metadata\", \"varchar\", \"substre\", \"removeclass\", \"primary_key\", \"msg_level\", \"null\", \"create\", \"constraint\", \"java\", \"version\", \"build\", \"info\", \"support\", \"fail\", \"compile\", \"plugin\", \"task\", \"export\", \"resource\", \"compiler\", \"google\", \"share\", \"stop\", \"org\", \"final\", \"builder\", \"moment\", \"desktop\", \"free\", \"encoding\", \"failure\", \"parser\", \"perhaps\", \"compilation\", \"decode\", \"tip\", \"portion\", \"strip\", \"xml\", \"run\", \"start\", \"string\", \"type\", \"input\", \"format\", \"character\", \"empty\", \"match\", \"hide\", \"parse\", \"datetime\", \"regex\", \"extract\", \"sequence\", \"grep\", \"transaction\", \"checkbox\", \"hit\", \"literal\", \"protect\", \"direct\", \"pool\", \"iis\", \"piece\", \"mail\", \"ugly\", \"occurrence\", \"sender\", \"getbyte\", \"strike\", \"first_occurrence\", \"attr\", \"lt\", \"check\", \"line\", \"module\", \"command\", \"output\", \"include\", \"python\", \"delete\", \"argument\", \"program\", \"tool\", \"bash\", \"px\", \"ignore\", \"ruby\", \"compare\", \"separate\", \"works_fine\", \"shell\", \"args\", \"magic\", \"recent_call\", \"normally\", \"font_size\", \"safari\", \"unix\", \"backup\", \"overload\", \"oppose\", \"impact\", \"parsing\", \"last\", \"run\", \"class\", \"int\", \"date\", \"template\", \"appear\", \"hash\", \"status\", \"constructor\", \"day\", \"join\", \"init\", \"promise\", \"member\", \"head\", \"expression\", \"entry\", \"param\", \"definition\", \"cast\", \"become\", \"diff\", \"beta\", \"initialization\", \"aware\", \"differ\", \"helper\", \"creation\", \"inherit\", \"vendor\", \"cpp\", \"lt\", \"service\", \"size\", \"post\", \"api\", \"map\", \"bar\", \"information\", \"byte\", \"full\", \"standard\", \"foo\", \"approach\", \"memory\", \"people\", \"whole\", \"suggest\", \"cache\", \"valid\", \"ajax\", \"due\", \"purpose\", \"situation\", \"big\", \"track\", \"rest\", \"mongodb\", \"serve\", \"accord\", \"pair\", \"requirement\", \"move\", \"function\", \"user\", \"var\", \"execute\", \"statement\", \"document\", \"detect\", \"product\", \"apple\", \"unit\", \"photo\", \"concern\", \"friend\", \"mainly\", \"nicely\", \"ienumerable\", \"refactor\", \"powerful\", \"illustrate\", \"stored_procedure\", \"return\", \"quot\", \"scope\", \"nav\", \"err\", \"async\", \"closure\", \"login\", \"username_project\", \"password\", \"angular\", \"lt\", \"main\", \"swift\", \"difference\", \"model\", \"search\", \"idea\", \"thread\", \"attribute\", \"provide\", \"close\", \"rail\", \"tab\", \"original\", \"less\", \"wait\", \"upgrade\", \"turn\", \"useful\", \"pretty\", \"present\", \"crash\", \"least\", \"doc\", \"editor\", \"exact\", \"quick\", \"general\", \"unknown\", \"javadoc\", \"explanation\", \"dom\", \"high\", \"complete\", \"finish\", \"server\", \"require\", \"net\", \"false\", \"define\", \"client\", \"host\", \"port\", \"old\", \"fine\", \"bind\", \"runtime\", \"boolean\", \"override\", \"duplicate\", \"manually\", \"active\", \"dynamic\", \"proper\", \"clone\", \"company\", \"manifest\", \"bool\", \"immediately\", \"bound\", \"reach\", \"username_password\", \"compatible\", \"ready\", \"setter\", \"true\", \"side\", \"install\", \"package\", \"npm\", \"instal\", \"library\", \"framework\", \"configuration\", \"warning\", \"stream\", \"warn\", \"random\", \"configure\", \"upload\", \"flag\", \"bundle\", \"recently\", \"properly\", \"year\", \"completely\", \"matter\", \"author\", \"produce\", \"month\", \"alternative\", \"font\", \"refer\", \"apt\", \"face\", \"deal\", \"locally\", \"issue\", \"image\", \"html\", \"field\", \"display\", \"browser\", \"leave\", \"position\", \"top\", \"block\", \"place\", \"screen\", \"disable\", \"center\", \"float\", \"annotation\", \"bottom\", \"hour\", \"str\", \"bean\", \"minute\", \"scale\", \"relative\", \"blue\", \"horizontal\", \"trick\", \"registry\", \"welcome\", \"mind\", \"square\", \"explicit\", \"side\", \"list\", \"import\", \"key\", \"print\", \"convert\", \"sort\", \"org_apache\", \"integer\", \"total\", \"dictionary\", \"entity\", \"iterate\", \"kill\", \"linq\", \"automatic\", \"impl\", \"newinstance\", \"indentation\", \"indent\", \"naturally\", \"ant\", \"persistence\", \"valueof\", \"doctype\", \"mydict\", \"putty\", \"order\", \"angular\", \"std\", \"maven_plugin\", \"swift\", \"main\", \"quot\", \"array\", \"json\", \"self\", \"index\", \"row\", \"loop\", \"length\", \"none\", \"def\", \"dict\", \"foreach\", \"repeat\", \"job\", \"low\", \"typeerror\", \"overwrite\", \"curious\", \"depth\", \"migrate\", \"third\", \"anonymous\", \"readline\", \"loc\", \"thousand\", \"chapter\", \"last\", \"let\", \"numpy\", \"quot\", \"count\", \"main\", \"test\", \"result\", \"number\", \"javascript\", \"replace\", \"dependency\", \"tag\", \"testing\", \"unfortunately\", \"efficient\", \"team\", \"important\", \"unit_test\", \"hear\", \"primary\", \"principle\", \"worth\", \"alt\", \"unit_teste\", \"effort\", \"m\", \"tdd\", \"mock\", \"mymodule\", \"async\", \"runs_ms\", \"jest\", \"org_springframework\", \"count\", \"reading_total\", \"main\", \"quot\", \"container\", \"angular\", \"variable\", \"mean\", \"css\", \"width\", \"height\", \"apply\", \"cell\", \"declare\", \"div\", \"guess\", \"great\", \"fill\", \"timeout\", \"depend\", \"prefer\", \"wrapper\", \"specifically\", \"escape\", \"declaration\", \"selector\", \"comparison\", \"builtin\", \"successful\", \"delay\", \"programmer\", \"knowledge\", \"alia\", \"absolutely\", \"inheritance\", \"colon\", \"time\", \"studio\", \"next\", \"implementation\", \"language\", \"fast\", \"equivalent\", \"basic\", \"master\", \"namespace\", \"real\", \"cookie\", \"various\", \"enough\", \"inline\", \"storage\", \"reduce\", \"obvious\", \"decimal\", \"programming\", \"algorithm\", \"layer\", \"medium\", \"vim\", \"razor\", \"carry\", \"debugger\", \"parallel\", \"pros_con\", \"typical\", \"component\", \"react\", \"database\", \"state\", \"store\", \"render\", \"connect\", \"prop\", \"mysql\", \"record\", \"bad\", \"schema\", \"article\", \"trigger\", \"rename\", \"watch\", \"picture\", \"guide\", \"cover\", \"cycle\", \"quickly\", \"apparently\", \"immutable\", \"react_component\", \"preferably\", \"diagram\", \"overall\", \"wise\", \"handful\", \"angular\", \"quot\", \"element\", \"expect\", \"send\", \"syntax\", \"release\", \"break\", \"double\", \"nil\", \"strong\", \"assign\", \"pointer\", \"vector\", \"sum\", \"deprecate\", \"obviously\", \"introduce\", \"correspond\", \"abstract\", \"strategy\", \"round\", \"panel\", \"clock\", \"alter\", \"die\", \"std_vector\", \"descendant\", \"purely\", \"linear\", \"quit\", \"perl\", \"lt\", \"script\", \"php\", \"interface\", \"extension\", \"spring\", \"operator\", \"directive\", \"external\", \"filename\", \"network\", \"card\", \"running\", \"forget\", \"combine\", \"instantiate\", \"offset\", \"modifier\", \"ip\", \"initializer\", \"ternary_operator\", \"nullable\", \"concatenate\", \"omit\", \"reflection\", \"conditional\", \"iso\", \"bracket\", \"event_handler\", \"closing\", \"generics\", \"implement\"], \"Freq\": [24296.0, 19286.0, 19807.0, 18411.0, 47816.0, 15835.0, 16098.0, 14870.0, 13401.0, 12103.0, 17017.0, 10049.0, 10489.0, 11517.0, 11635.0, 11223.0, 8797.0, 8249.0, 9537.0, 15061.0, 9541.0, 23968.0, 9070.0, 12848.0, 7269.0, 11538.0, 8261.0, 7729.0, 11149.0, 6555.0, 47815.39538557965, 23967.103321223578, 16225.995894174855, 14287.708228835147, 12559.691864056242, 9129.81197506452, 8151.224289080012, 7649.091802219041, 7381.238082235307, 7066.004526060859, 6703.930298768959, 6445.401415642223, 5867.671419084503, 5508.511555999272, 5367.168739490666, 5339.82111733026, 5165.513820062619, 4851.516598642275, 4476.843555903877, 4393.819829650937, 4354.38075099499, 4221.918768136047, 3734.577154150741, 3726.880072552986, 3663.2624414227257, 3652.099774998682, 3648.6639442868072, 3577.6629322650715, 3441.8879826667053, 3412.248011191479, 16458.291395425797, 10641.197866829556, 11513.890146612157, 9137.351052054697, 6244.053271393825, 16460.103318393223, 11602.245502366928, 5916.085467252095, 12013.660772391011, 4616.863340324999, 5474.989955097931, 6674.768188631262, 17016.506799557505, 11537.119704304414, 11148.862720207837, 8589.931891941338, 8195.834256801503, 3323.8025796252873, 3277.690975149324, 3269.281419966642, 2985.7082307412998, 2881.0841014098596, 2769.1375403251436, 2713.0297961387573, 2534.3500094201004, 2500.121705147988, 2363.3532418473865, 2332.3212810722994, 2115.8733806076034, 2061.2935930707254, 1862.354329079101, 1689.2246481664454, 1671.9589974423905, 1477.5354636234106, 1355.1099907867208, 1307.5325164113535, 1232.4629772066219, 1228.5921536945339, 1170.4058869283945, 1157.1747508277756, 1104.4467568194332, 1095.8307934577822, 2143.666453761639, 1844.3185605327187, 3009.0417803906125, 13637.482292832283, 3385.88414142201, 1958.969613534244, 3461.4200230269003, 1593.7125708949147, 2678.105912733162, 2594.9473692964966, 11634.652216561219, 11222.615710447331, 6526.306872670406, 6108.265904753693, 5929.182595936117, 5073.5595759391745, 3404.747556100272, 3215.6130662666437, 3035.0468128646103, 2205.329727681288, 1836.0664312257027, 1740.3820145320792, 1735.490013540738, 1142.7021803870934, 1113.8568555845059, 1094.0766058064225, 1043.8747085786244, 953.0939861652714, 928.5020741794953, 911.4832072006413, 877.525391404678, 697.1658316062305, 609.7132379454475, 589.5396225628191, 540.5964784446894, 529.1334800081324, 526.9799379222567, 519.0702271434377, 472.4848791077268, 414.54972198980363, 3408.4937830253375, 2117.198839138245, 1328.6897453843599, 11516.721778118246, 9069.402165957568, 7747.827413636101, 7276.206606279208, 4454.432448146346, 2498.571657816299, 2300.708136931763, 2237.5804298877188, 1911.7209662475584, 1836.4769999260373, 1644.2306074045894, 1446.311312201597, 1441.304002024486, 1075.576642935732, 996.70457142678, 820.0630364333875, 769.5376931540795, 636.8542888639192, 565.760387136095, 555.417274542751, 553.8361722115162, 504.709633188132, 499.48548611988, 478.37433745852553, 459.631854384106, 426.54470035960634, 411.3404006122494, 394.581605160064, 386.61124874461325, 384.0296590057149, 1196.0372903020773, 445.3189477620752, 19806.8895766792, 8260.777096393136, 3778.7876284934655, 3359.667371174327, 3255.4206039009837, 2728.168303574306, 2684.4617976225877, 1630.3041449907032, 1605.9164096126815, 1589.7856305659664, 1432.8248548600247, 1408.986679726951, 1083.9301297243992, 882.7191154643399, 721.216844367966, 635.2223213187216, 628.8801521441957, 619.1574759487432, 402.9356403421385, 381.05067414869194, 356.9367363255052, 348.770210098623, 328.68584992598466, 315.4392457159642, 189.8094518452767, 170.11871165695902, 162.68782365685294, 156.0572200578362, 140.13863326907716, 139.85082565497672, 6192.853046104041, 730.0056747267198, 2039.1277710866818, 817.1105669712435, 16097.559085767849, 14869.418895616613, 5485.646050016756, 5088.543660629986, 4617.974002339566, 4069.867940057765, 1513.0527484428042, 1436.1970183211893, 1178.5397925781301, 1162.8773626003938, 1067.7538104727341, 1023.0246446598293, 852.5053130507213, 843.632686657073, 780.3276628534483, 734.4018579924563, 595.3127894394994, 587.0122298745333, 579.2597402784795, 420.23147170583525, 378.618791802413, 254.10873097118034, 248.67287010109555, 242.88879321819255, 203.87007904540897, 173.24371079154764, 170.21325722059944, 160.84516432856975, 133.3561729833641, 111.6390475849252, 635.2135516751719, 1329.3577677027354, 5507.408936122222, 5333.52648961822, 5136.657406809257, 5070.930491665173, 3862.915285964778, 3716.3030660255904, 3430.747246895885, 2895.4616319401134, 2845.123564766705, 2586.386921505935, 2458.6788610741223, 2198.950816984889, 1656.6970632641217, 1618.414546532364, 1462.9849558669487, 1045.3091655377327, 1011.3957439089068, 839.5570022895554, 817.384938750007, 767.2655666560081, 745.9582910042121, 723.7488507174309, 662.3200085322135, 653.6680820881534, 520.958715633421, 439.917231688924, 404.75292227072737, 391.5642429286185, 294.32404986845484, 266.7548093257772, 1972.659467078389, 584.5873153662285, 868.8212878057257, 24295.025885329513, 5628.910309905269, 4420.80331115187, 2906.3009590912193, 2778.8386268910444, 2709.0916444515706, 2325.6767555996407, 1924.6175730736668, 1810.1929769499552, 1667.2981043788473, 1577.7624111372502, 1409.349344044605, 1202.6394736820073, 919.6046644248572, 672.6802023630107, 653.1380010499217, 397.48485648541, 334.5580314596547, 162.61550859298868, 162.352795952147, 158.43837298732345, 149.6795461595009, 141.80210616204036, 120.90976529921024, 104.30234254616155, 97.2796611224604, 56.10803326229616, 4176.345174989052, 137.74314739006948, 72.51702126233518, 88.8871901728947, 227.99437981703383, 12101.9228088683, 9540.296025455116, 5710.68009575156, 5605.968049007729, 5275.54410616089, 3821.8827519723727, 2542.657556544906, 2331.153472911858, 2025.9362854932556, 1987.95131401513, 1758.6805054474685, 897.929462608711, 810.9787076249528, 695.4481115269657, 633.8770578531613, 590.0984909078583, 577.9830611049889, 497.28189144491665, 479.85571666955525, 435.6699363447972, 373.4150962886711, 338.8964596438461, 338.41315129737336, 301.0639222873756, 216.9729706128077, 204.48764235113254, 110.77388231135, 57.44953674858198, 33.4073540488793, 14.103898237585538, 1424.8242614168378, 792.8781782140842, 148.26251192879636, 7728.3292774858, 7276.974264785236, 5607.6302422453045, 3538.988582089256, 3253.709832829986, 3234.635711001809, 3102.774535364299, 2393.851162413086, 2321.46969495674, 1974.2479217199052, 1796.7346751126047, 1724.1152021476041, 1395.852022087789, 1162.3415318695497, 1114.662115609562, 1025.228689902034, 966.5908923499504, 613.7351836682691, 532.6536786292356, 525.014066876672, 441.1062317015893, 373.37685336300893, 372.3173991041105, 371.60361811056504, 244.2878059637955, 233.76648451533868, 229.70004675558343, 175.67310542729365, 122.00847184139664, 116.11653271350737, 1242.9620410829384, 3837.3170049823766, 329.49648668494376, 18409.97038728385, 13400.192186682287, 4667.992411336806, 2655.6706567365222, 2028.866007003123, 1833.732546456711, 1819.9987849396036, 1164.9449724194674, 1128.9534529795435, 925.4760126823336, 636.4855757770066, 630.425215566232, 478.697149932477, 431.2870133033051, 430.5006434655306, 397.1103701573836, 380.27309854271516, 374.8151543340159, 355.3124386675019, 308.5705017694024, 273.2979552877943, 233.88409613109272, 226.51209421653036, 225.3651989213344, 222.4323546743136, 209.31077008665144, 93.76136301714307, 65.35474034042491, 18.930995662048208, 15.621046735382157, 764.5157502486536, 692.7909248088095, 282.2874686386011, 9536.571220354259, 6684.843119871704, 6064.391763629355, 3942.8514314654503, 3796.6557134925833, 2526.893562717789, 2414.774870086704, 2266.7796383267987, 2097.776208732921, 1648.3571896010108, 1290.6220428952618, 1032.8408926913817, 1008.7677812414684, 869.6403775911257, 862.2950836770473, 792.5383176874241, 729.1265822564018, 584.9277633727203, 552.8668955239278, 413.5786228523348, 360.7234534855049, 256.46053583775495, 254.09393941238497, 211.48456095362292, 208.5726609573809, 190.8307497580734, 184.60339018061083, 119.89448655651597, 75.23612862985988, 60.140180742684834, 1102.885041011456, 2284.800809718111, 19285.774396480785, 6531.654456011254, 4089.627013779126, 2010.7047294260462, 1510.1811668648063, 1401.2678374125808, 1398.588551557149, 1262.1813744647793, 1175.2470207091026, 1054.8235449460867, 1008.8528943011453, 1004.51017140906, 931.9434238694013, 867.7154272481431, 773.052735572329, 749.766208815823, 685.1204017498417, 546.5059716665282, 475.78340256273935, 462.14394798941737, 438.3310119076931, 379.9790876200271, 350.69112485771655, 323.76799899379176, 310.0235141556694, 286.3642082632791, 279.61025646877624, 255.57290837418944, 254.46976967510744, 196.55953218177694, 890.4205520548397, 4004.8376637667084, 3695.1574329784, 3061.911006811114, 2967.7765277713634, 2918.0062684222717, 2238.913133165225, 2010.2093399298737, 1678.1900572858622, 1592.7321182619748, 1362.1355888234543, 1322.3560400417712, 1274.1136802025894, 1237.204400480508, 1110.580105393684, 1015.8823270564784, 1013.6446879346018, 908.9142894844666, 832.1992067410487, 821.2041256500062, 805.688745156101, 697.2255286358215, 691.0063368325649, 635.9792008014426, 571.4698599298304, 564.2366710484002, 494.50268786677634, 485.5190704848916, 483.8901893902403, 481.49254526336426, 430.0604411631675, 1218.4273682803146, 15834.757363280174, 10488.529371740044, 6861.179006229712, 2547.3534593226327, 1658.6358136240929, 1489.8283305226416, 871.9638618709788, 866.2612333268072, 605.7243399371779, 432.4142448697154, 271.1054856209929, 270.2943628954554, 208.74813569241047, 146.27452160199573, 141.31191947021608, 130.7477424733282, 124.64209132621136, 97.0033526790142, 75.52190686517072, 64.71140945592461, 1423.128972782103, 0.04134670093338568, 0.041346490735455314, 0.041346485345764794, 0.041346479956074274, 0.04134647726122901, 0.04134647187153849, 0.04134647726122901, 0.04134647187153849, 0.041346479956074274, 0.041346490735455314, 72.04374519743531, 0.041346485345764794, 0.041346479956074274, 5063.823998525538, 3077.2302159507376, 2965.504330821871, 2926.0367883484537, 2639.939731877659, 2486.1271450311774, 2282.4259860937, 1670.987286368157, 1134.5748426135945, 1034.4316020319884, 993.5180050927255, 953.8823249101421, 927.2032471329787, 875.1994026726734, 837.301057776041, 765.8239371213976, 743.6695792923183, 721.3883068752558, 709.1552141009853, 668.919737505186, 668.0994851024087, 658.0599886276958, 569.4014657533481, 553.691816668653, 529.9149781859405, 520.9368893729269, 474.14509462485915, 467.6171941135765, 413.055849673311, 383.2039510509518, 891.0455704554996, 613.6200167975145, 5207.69998226372, 4501.637260833841, 3620.5352327300784, 3547.234874788612, 2798.9995602732433, 2015.770566188699, 1547.7461861485497, 1415.6909462699189, 1191.8663659281124, 1165.117394149849, 1092.2719768719658, 924.1646999290843, 895.4077112055519, 808.5796783642077, 788.0815791971883, 748.645720975997, 732.0885961108459, 677.0232215586708, 622.863620810088, 614.6502599096054, 386.50534303610027, 371.2243176525103, 359.92622816687356, 304.2985336374862, 289.11288927498185, 221.71556155371982, 169.2408453564421, 166.88320249016041, 146.16092981948097, 130.29888441714667, 5253.124869277617, 209.30774890979384, 3930.2944802931434, 3656.828626020496, 3117.8438030785064, 3018.099875610769, 2880.1012578002237, 1603.9530467747975, 1564.6170982607975, 1306.899246062127, 1231.0749473948997, 1224.2888677908095, 1040.8565943801705, 868.7196189739487, 788.225031950582, 752.3603959980528, 685.6359739967783, 673.1474585720061, 666.645637002803, 646.6625974083361, 610.5863411997667, 592.1690858437717, 583.5317711602149, 579.9455790311796, 557.1735119689631, 515.9319117382291, 508.0626407944272, 480.3953797278637, 363.9450921753161, 363.60300360981836, 361.4066362527165, 349.2261115912541, 910.3181972809066, 5560.924666187836, 3743.7109037885602, 3574.629028901857, 3024.8082520435996, 2201.0581139690285, 1998.0067511189397, 1859.0243238749574, 1812.7694266049718, 1794.6326007648659, 1703.535894578608, 1684.707218862003, 1233.6573886236542, 1005.8645584346679, 785.0850498991662, 749.861837734563, 631.96155052858, 612.15144167926, 449.298123504575, 441.55374011231146, 424.1280859359147, 352.72149867672096, 348.3184855281732, 338.3599714527652, 290.8222252287821, 264.4640195226539, 263.1905676143269, 235.36871623101828, 223.73050561198616, 210.88332346064308, 207.8444853179333, 871.4311131350494, 8796.077023065403, 7268.697781975821, 4552.478031072828, 3942.662916075717, 2997.173696648146, 1617.3028120706708, 1462.2694964773552, 1251.781415448366, 991.1662022275184, 922.2342737486829, 744.2995152225365, 487.1245700622748, 288.3371531771978, 287.0098020258617, 128.61760149371707, 127.90975652483078, 119.81653624432415, 107.7474801729314, 90.99738169733445, 40.448020364373676, 39.86914116766592, 39.76178961610359, 31.536944451556455, 14.875168618611877, 5.886792231716743, 4.685010892267087, 606.8811898051468, 0.04024935452517331, 0.0402493410119612, 0.04024933650755716, 0.040249345516365234, 0.04024935452517331, 0.04024935902957735, 6554.427485523968, 4744.468834460428, 3975.425205026552, 3660.825732869614, 3113.36798145944, 2196.8713712122803, 1793.1990304005042, 1671.8158160885955, 1359.8330078232566, 560.2500725096899, 540.5509145531464, 444.64881784268374, 417.621067698987, 300.7988256345467, 254.35274706099145, 229.1568591280957, 225.1461644646843, 200.64813210226384, 191.10744654761305, 189.5156345959739, 163.31635840725704, 130.5005334608687, 85.74002104279064, 68.68636609662597, 65.83736951752314, 1389.8268693455843, 277.196256788496, 0.03635197749841633, 0.036352074773329156, 0.03635197749841633, 0.03635197749841633, 10048.777097350994, 5707.0294949864765, 5634.3474826810925, 2440.691508983313, 2252.661674550074, 2011.6144531530779, 2008.564107075911, 794.4715688667927, 567.4199546494623, 458.4092541355219, 426.3878541317954, 420.4651750371572, 176.1735572907129, 175.11861579816542, 140.18355283283194, 134.35887134360812, 126.20652493455492, 120.09435081844433, 112.69264832356623, 21.368240094124946, 17.862484096914798, 3.102695473707108, 0.043073459518580805, 0.043073447022830474, 0.043073451188080585, 0.043073447022830474, 0.043073442857580364, 0.043073451188080585, 0.043073451188080585, 0.043073442857580364, 0.043073459518580805, 0.043073501171081906, 0.043073447022830474, 0.043073447022830474, 3992.4228713572243, 3591.466677062689, 3349.554161511642, 2541.6787581027647, 2474.2182113349195, 1526.1196740377902, 1204.863559420773, 1100.457961076409, 978.4885094315885, 821.9402558433566, 732.5662566192626, 698.3682850559476, 648.3746795097363, 597.5413113207137, 569.5691494542632, 518.5161463529345, 515.7392378732587, 450.4324890079369, 422.7263179256666, 412.435618741761, 357.6499178708122, 272.62150009070035, 269.55945582132335, 264.9804514085946, 229.07900047484736, 149.647255246732, 141.90794002992834, 140.38311186761436, 133.9855906466678, 124.06966483793208, 8248.31047517058, 1977.6386900746088, 1730.9730657917564, 1605.6846991593159, 1443.2576394048465, 1411.172886141367, 933.2585875528007, 823.7987015200731, 797.6885760857426, 767.5041464888252, 621.4259915379768, 600.4284052280967, 533.0988940857125, 486.0416508866639, 480.19842131232343, 473.258764046255, 466.25519350751614, 465.14755703648297, 385.7666044990772, 385.49956839935976, 367.77645563760217, 364.7989566644917, 327.1623149737425, 312.6422125324644, 230.4842558838988, 214.04925255530392, 206.35412066023403, 200.39080324439925, 163.40685516101723, 142.0632195688044, 3720.0519769452185, 2524.701449082851, 2488.1226239021494, 2428.614328471841, 2266.0236154162794, 1819.9612167991488, 1541.183188301907, 1244.536079390923, 1102.310528205524, 794.0965527497427, 595.4228873720886, 591.805867870243, 587.0257517265861, 539.2857124186072, 448.5512707968455, 433.27037296149246, 387.11031455698736, 359.5161810732817, 357.8309342816813, 295.77003248629075, 285.6046388848043, 181.45027233898503, 178.32168133393318, 134.24881301792465, 98.47680646474791, 95.70253443139947, 81.20582175159575, 31.049254441421112, 13.120425677700608, 0.036744321144316625, 0.036744337087045977, 5548.380019315064, 2201.055772389365, 2047.9131345731198, 1598.9741266805663, 1540.9482618817863, 1416.2321532637177, 1065.733318420079, 958.4968903262346, 896.0973789153317, 733.9015141305889, 686.0095040530106, 672.1051233290187, 663.6444068501498, 522.7696552460543, 513.2864337677877, 425.6206302517798, 384.85486825602806, 359.58360750950067, 317.4354763079931, 284.319325957234, 272.7456779921699, 262.3090466842867, 237.72728844848902, 111.99294475724516, 111.82256176179986, 105.1113957958897, 104.08040270072867, 98.73279238685492, 98.46752645507911, 72.59575234204857, 246.71695821212433, 4086.750399490523, 3215.8222963291487, 1944.3534210294067, 1532.3937663356246, 1106.184756227139, 1024.2065353170133, 891.4381623948709, 663.4492448878459, 607.1862597309346, 526.7771413775404, 462.08661576655635, 365.463343205928, 293.1001562616061, 270.4484999430109, 246.82978631238248, 215.94469321753115, 188.50501124468246, 163.27762543374286, 146.84563589465256, 131.6883347206856, 127.6105787496375, 123.8630520335859, 118.66950351834242, 114.93750104847283, 106.11172421140947, 97.45674444267304, 87.15908892962837, 80.94857578811016, 46.916518626034545, 31.919365636401682, 82.95772089535345], \"Total\": [24296.0, 19286.0, 19807.0, 18411.0, 47816.0, 15835.0, 16098.0, 14870.0, 13401.0, 12103.0, 17017.0, 10049.0, 10489.0, 11517.0, 11635.0, 11223.0, 8797.0, 8249.0, 9537.0, 15061.0, 9541.0, 23968.0, 9070.0, 12848.0, 7269.0, 11538.0, 8261.0, 7729.0, 11149.0, 6555.0, 47816.47627956299, 23968.184215206897, 16227.076788158172, 14288.789122818464, 12560.772758039559, 9130.892869047837, 8152.305183063324, 7650.172696202353, 7382.318976218619, 7067.085420044171, 6705.011192752271, 6446.482309625535, 5868.7523130678155, 5509.592449982584, 5368.249633473978, 5340.902011313572, 5166.594714045931, 4852.597492625588, 4477.924449887189, 4394.9007236342495, 4355.4616449783025, 4222.9996621193595, 3735.6580481340575, 3727.9609665363023, 3664.343335406042, 3653.180668981998, 3649.7448382701236, 3578.743826248388, 3442.9688766500217, 3413.328905174795, 16487.331987958867, 10677.348451073834, 11645.959325355114, 9366.386910585898, 6395.077429758398, 17953.76190903223, 12543.164651218942, 6246.657047679696, 14053.83090078581, 4900.188211886063, 7262.935496263073, 12848.700977300716, 17017.588514665986, 11538.201419412893, 11149.944435316316, 8591.013607049817, 8196.915971909983, 3324.8842947337657, 3278.7726902578024, 3270.36313507512, 2986.789945849778, 2882.165816518338, 2770.219255433622, 2714.1115112472357, 2535.431724528579, 2501.2034202564664, 2364.434956955865, 2333.402996180778, 2116.955095716082, 2062.375308179204, 1863.436044187578, 1690.3063632749224, 1673.0407125508675, 1478.6171787318876, 1356.1917058951979, 1308.6142315198306, 1233.544692315099, 1229.673868803011, 1171.4876020368715, 1158.2564659362527, 1105.5284719279102, 1096.9125085662592, 2152.159680365733, 1852.0488097564937, 3077.7914671864805, 15061.651634259077, 3599.1351833346903, 2116.915012195384, 4791.146056770009, 1710.4854394883978, 3666.9212063277723, 4020.812028066337, 11635.733870993878, 11223.69736487999, 6527.3885271030595, 6109.347559186346, 5930.26425036877, 5074.641230371828, 3405.8292105329297, 3216.6947206993013, 3036.128467297268, 2206.411382113946, 1837.148085658359, 1741.4636689647355, 1736.5716679733941, 1143.7838348197497, 1114.9385100171621, 1095.1582602390788, 1044.9563630112807, 954.1756405979279, 929.5837286121517, 912.5648616332978, 878.6070458373345, 698.247486038887, 610.794892378104, 590.6212769954756, 541.6781328773459, 530.2151344407889, 528.0615923549132, 520.1518815760942, 473.5665335403832, 415.63137642246005, 3445.8515061352996, 2201.198297312325, 4791.146056770009, 11517.80839727366, 9070.488785112982, 7748.914032791511, 7277.293225434619, 4455.519067301757, 2499.658276971713, 2301.7947560871767, 2238.6670490431325, 1912.8075854029714, 1837.5636190814503, 1645.3172265600024, 1447.39793135701, 1442.390621179899, 1076.663262091145, 997.791190582193, 821.1496555888006, 770.6243123094926, 637.9409080193323, 566.847006291508, 556.503893698164, 554.9227913669292, 505.79625234354495, 500.572105275293, 479.4609566139385, 460.718473539519, 427.6313195150193, 412.4270197676624, 395.66822431547695, 387.6978679000262, 385.11627816112787, 7389.93841888633, 1689.330400771517, 19807.978121186385, 8261.86564090032, 3779.8761730006486, 3360.75591568151, 3256.5091484081668, 2729.2568481013095, 2685.550342129771, 1631.3926894978856, 1607.004954119864, 1590.8741750731488, 1433.9133993672071, 1410.0752242341334, 1085.0186742315816, 883.8076599715223, 722.3053888751484, 636.310865825904, 629.9686966513781, 620.2460204559256, 404.0241848493208, 382.13921865587423, 358.0252808326875, 349.8587546058053, 329.77439443316695, 316.5277902231465, 190.8979963524589, 171.20725616414123, 163.77636816403515, 157.1457645650184, 141.22717777625937, 140.93937016215892, 7389.93841888633, 1122.480908691586, 14053.83090078581, 7262.935496263073, 16098.643667870996, 14870.50347771976, 5486.7306321198985, 5089.628242733129, 4619.058584442709, 4070.952522160911, 1514.1373305459495, 1437.2816004243346, 1179.6243746812754, 1163.961944703539, 1068.8383925758794, 1024.1092267629747, 853.5898951538668, 844.7172687602185, 781.4122449565938, 735.4864400956018, 596.3973715426449, 588.0968119776788, 580.344322381625, 421.3160538089806, 379.70337390555835, 255.19331307432563, 249.75745220424085, 243.97337532133784, 204.95466114855427, 174.32829289469294, 171.29783932374474, 161.92974643171505, 134.4407550865094, 112.72362968807056, 784.5193279516378, 3232.2444222572417, 5508.49302767078, 5334.610581166778, 5137.741498357815, 5072.0145832137305, 3863.9993775133385, 3717.387157574151, 3431.8313384444455, 2896.545723488674, 2846.2076563152655, 2587.4710130544954, 2459.762952622683, 2200.0349085334497, 1657.781154812682, 1619.4986380809244, 1464.069047415509, 1046.393257086293, 1012.4798354574672, 840.6410938381158, 818.4690302985674, 768.3496582045685, 747.0423825527726, 724.8329422659913, 663.4041000807739, 654.7521736367138, 522.0428071819814, 441.00132323748426, 405.8370138192876, 392.64833447717876, 295.4081414170151, 267.83890087433747, 2202.8605370535233, 1513.6461730048745, 7262.935496263073, 24296.11355124275, 5629.9979758185, 4421.890977065101, 2907.388625004452, 2779.926292804277, 2710.1793103648033, 2326.7644215128735, 1925.705238986899, 1811.2806428631875, 1668.3857702920795, 1578.8500770504825, 1410.4370099578373, 1203.7271395952396, 920.6923303380896, 673.7678682762431, 654.2256669631541, 398.5725223986423, 335.64569737288707, 163.70317450622093, 163.44046186537926, 159.5260389005557, 150.76721207273314, 142.88977207527262, 121.99743121244255, 105.39000845939387, 98.36732703569271, 57.19569917552846, 4267.890694630274, 674.7516130072454, 1291.9875369855063, 1710.4854394883978, 9366.386910585898, 12103.008572295204, 9541.381788882021, 5711.765859178464, 5607.053812434633, 5276.629869587794, 3822.9685153992787, 2543.743319971812, 2332.239236338764, 2027.022048920161, 1989.0370774420355, 1759.766268874374, 899.0152260356167, 812.0645883277882, 696.5338749538714, 634.962821280067, 591.184254334764, 579.0688245318946, 498.3676548718222, 480.9414800964608, 436.7556997717027, 374.50085971557667, 339.9822230707516, 339.4989147242789, 302.14968571428113, 218.05873403971322, 205.57340577803805, 111.85964573825555, 58.535300175487514, 34.493117475784835, 15.189661664491084, 4020.812028066337, 12543.164651218942, 784.5193279516378, 7729.4191514392705, 7278.064138738707, 5608.720116198775, 3540.0784560427282, 3254.7997067834585, 3235.725584955281, 3103.8644093177713, 2394.9410363665584, 2322.5595689102124, 1975.337795673377, 1797.8245490660765, 1725.205076101076, 1396.9418960412609, 1163.4314058230216, 1115.751989563034, 1026.3185638555058, 967.6807663034225, 614.8250576217412, 533.7435525827077, 526.1039408301441, 442.1961056550612, 374.46672731648084, 373.4072730575824, 372.69349206403695, 245.3776799172674, 234.85635846881055, 230.7899207090553, 176.76297938076553, 123.09834579486855, 117.20640666697928, 1689.330400771517, 12848.700977300716, 6246.657047679696, 18411.053977405387, 13401.27577680382, 4669.0760014583375, 2656.754246858055, 2029.9495971246552, 1834.816136578243, 1821.0823750611357, 1166.0285625409995, 1130.0370431010756, 926.559602803866, 637.569165898539, 631.5088056877645, 479.7807400540092, 432.3706034248373, 431.5842335870628, 398.1939602789158, 381.3566886642474, 375.8987444555481, 356.3960287890341, 309.65409189093464, 274.3815454093265, 234.96768625262493, 227.59568433806257, 226.44878904286662, 223.5159447958458, 210.39436020818366, 94.84495313867531, 66.43833046195715, 20.01458578358044, 16.70463685691439, 896.7770240595613, 3232.2444222572417, 4900.188211886063, 9537.655858203696, 6685.927757721141, 6065.476401478792, 3943.936069314888, 3797.740351342021, 2527.9782005672264, 2415.8595079361417, 2267.864276176236, 2098.8608465823586, 1649.4418274504478, 1291.7066807446988, 1033.9255305408187, 1009.8524190909055, 870.7250154405629, 863.3797215264844, 793.6229555368612, 730.211220105839, 586.0124012221575, 553.951533373365, 414.66326070177183, 361.80809133494193, 257.545173687192, 255.17857726182206, 212.56919880306, 209.65729880681798, 191.9153876075105, 185.68802803004792, 120.97912440595306, 76.32076647929696, 61.22481859212192, 2493.7601962501267, 12848.700977300716, 19286.859578931177, 6532.7396384616395, 4090.7121962295128, 2011.7899118764321, 1511.2663493151922, 1402.3530198629667, 1399.673734007535, 1263.2665569151652, 1176.3322031594885, 1055.9087273964726, 1009.9380767515315, 1005.5953538594463, 933.0286063197875, 868.8006096985293, 774.1379180227152, 750.8513912662092, 686.2055842002279, 547.5911541169145, 476.8685850131254, 463.22913043980344, 439.41619435807917, 381.06427007041316, 351.7763073081026, 324.85318144417784, 311.10869660605545, 287.4493907136652, 280.6954389191623, 256.65809082457554, 255.55495212549354, 197.64471463216304, 3232.2444222572417, 4005.9202264787145, 3696.239995690406, 3062.99356952312, 2968.8590904833695, 2919.088831134278, 2239.9956958772314, 2011.2919026418795, 1679.2726199978679, 1593.8146809739806, 1363.21815153546, 1323.4386027537769, 1275.1962429145951, 1238.2869631925137, 1111.6626681056898, 1016.9648897684845, 1014.7272506466079, 909.9968521964727, 833.2817694530547, 822.2866883620122, 806.7713078681071, 698.3080913478276, 692.088899544571, 637.0617635134487, 572.5524226418364, 565.3192337604063, 495.5852505787823, 486.6016331968975, 484.97275210224626, 482.5751079753702, 431.14300387517346, 1291.9875369855063, 15835.843097998768, 10489.615106458637, 6862.264740948306, 2548.4391940412274, 1659.7215483426871, 1490.914065241236, 873.0495965895734, 867.3469680454018, 606.8100746557725, 433.4999795883099, 272.1912203395874, 271.3800976140499, 209.83387041100497, 147.36025632059022, 142.39765418881058, 131.8334771919227, 125.72782604480584, 98.08908739760868, 76.6076415837652, 65.79714417451909, 15061.651634259077, 1.127084402655044, 1.1270814573877534, 1.1270813242424371, 1.1270814034864707, 1.1270813402506228, 1.1270812024017358, 1.127081356294254, 1.1270812154094838, 1.1270814444542692, 1.1270817468245438, 3232.2444222572417, 1.1270819007109403, 1.127081588829862, 5064.905929547612, 3078.312146972813, 2966.5862618439464, 2927.118719370529, 2641.0216628997346, 2487.209076053253, 2283.5079171157754, 1672.0692173902314, 1135.656773635669, 1035.513533054063, 994.5999361148005, 954.964255932217, 928.2851781550537, 876.2813336947484, 838.382988798116, 766.9058681434726, 744.7515103143933, 722.4702378973308, 710.2371451230603, 670.001668527261, 669.1814161244837, 659.1419196497708, 570.4833967754231, 554.773747690728, 530.9969092080155, 522.0188203950019, 475.22702564693395, 468.6991251356513, 414.1377806953858, 384.2858820730266, 1078.8076030929585, 721.6505720550944, 5208.786274553168, 4502.723553123289, 3621.621525019528, 3548.3211670780615, 2800.085856370468, 2016.8568584781478, 1548.8324784379986, 1416.7772385593678, 1192.9526582175613, 1166.2036864392978, 1093.3582691614147, 925.2509922185335, 896.494003495001, 809.6659706536568, 789.1678714866374, 749.7320132654462, 733.174888400295, 678.10951384812, 623.9499130995372, 615.7365521990546, 387.59163532554936, 372.3106099419594, 361.01252045632265, 305.38482592693526, 290.19918156443094, 222.80185384316886, 170.32713764589113, 167.96949477960945, 147.24722210893, 131.3851767065957, 5487.9175067912, 1081.783777170302, 3931.382352606512, 3657.9164983338646, 3118.931675391875, 3019.1877479241375, 2881.1891301135925, 1605.0409190881653, 1565.7049705741654, 1307.987118375495, 1232.1628197082675, 1225.3767401041773, 1041.9444666935383, 869.8074912873168, 789.31290426395, 753.4482683114209, 686.7238463101463, 674.2353308853742, 667.7335093161711, 647.7504697217041, 611.6742135131348, 593.2569581571397, 584.619643473583, 581.0334513445476, 558.2613842823312, 517.0197840515972, 509.15051310779523, 481.48325204123176, 365.0329644886842, 364.6908759231864, 362.49450856608456, 350.31398390462215, 3666.9212063277723, 5562.010370206227, 3744.796607806952, 3575.714732920249, 3025.8939560619915, 2202.1438179874203, 1999.092455137331, 1860.1100278933486, 1813.855130623363, 1795.718304783257, 1704.621598596999, 1685.7929228803941, 1234.7430926420454, 1006.9502624530592, 786.1707539175575, 750.9475417529543, 633.0472545469713, 613.2371456976513, 450.3838275229663, 442.63944413070277, 425.21378995430604, 353.80720269511227, 349.4041895465645, 339.4456754711565, 291.9079292471734, 265.54972354104524, 264.2762716327182, 236.4544202494096, 224.81620963037747, 211.9690274790344, 208.93018933632462, 1081.783777170302, 8797.16385492479, 7269.784613835208, 4553.564862932215, 3943.7497479351046, 2998.2605285075333, 1618.389643930058, 1463.3563283367423, 1252.868247307753, 992.2530340869056, 923.3211056080701, 745.3863470819236, 488.21140192166195, 289.42398503658495, 288.0966338852488, 129.7044333531042, 128.99658838421792, 120.9033681037113, 108.83431203231855, 92.0842135567216, 41.53485222376083, 40.955973027053076, 40.848621475490745, 32.623776310943605, 15.96200047799903, 6.973624091103898, 5.771842751654241, 1972.133616298698, 1.1270817468245438, 1.1270814021676923, 1.1270812905077114, 1.127081588829862, 1.1270819007109403, 1.127084402655044, 6555.518214749998, 4745.559563686458, 3976.515934252582, 3661.9164620956444, 3114.4587106854706, 2197.9621004383107, 1794.2897596265339, 1672.9065453146252, 1360.9237370492863, 561.3408017357197, 541.6416437791762, 445.73954706871353, 418.7117969250168, 301.8895548605765, 255.44347628702124, 230.2475883541255, 226.23689369071408, 201.73886132829364, 192.19817577364284, 190.6063638220037, 164.40708763328684, 131.5912626868985, 86.83075026882044, 69.77709532265577, 66.92809874355294, 2493.7601962501267, 2761.8452005734744, 1.1270812810551376, 1.127084402655044, 1.1270814442919452, 1.1270819007109403, 10049.861105098847, 5708.113502734331, 5635.431490428947, 2441.7755167311675, 2253.745682297929, 2012.6984609009323, 2009.6481148237654, 795.5555766146472, 568.5039623973167, 459.4932618833763, 427.4718618796498, 421.5491827850116, 177.2575650385673, 176.20262354601982, 141.26756058068634, 135.44287909146252, 127.29053268240934, 121.17835856629874, 113.77665607142065, 22.45224784197936, 18.946491844769213, 4.186703221561527, 1.1270813108864515, 1.127081224617509, 1.1270813402506228, 1.1270812724324764, 1.1270812098209755, 1.127081440302642, 1.1270814442919452, 1.1270812357022086, 1.1270819007109403, 1.127084402655044, 1.1270815705230586, 1.1270817468245438, 3993.5058193123464, 3592.549625017811, 3350.6371094667643, 2542.761706057887, 2475.3011592900416, 1527.2026219929119, 1205.9465073758947, 1101.5409090315306, 979.5714573867101, 823.0232037984782, 733.6492045743843, 699.4512412914244, 649.457627464858, 598.6242592758354, 570.6520974093849, 519.5990943080561, 516.8221858283804, 451.5154369630585, 423.8092658807882, 413.5185666968826, 358.7328658259338, 273.70444804582195, 270.64240377644495, 266.0633993637162, 230.16194842996902, 150.73020320185364, 142.99088798505, 141.466059822736, 135.06853860178944, 125.15261279305373, 8249.39394695139, 1978.7221618554206, 1732.0565375725682, 1606.7681709401277, 1444.3411111856583, 1412.2563579221787, 934.3420593336126, 824.882173300885, 798.7720478665545, 768.5876182696371, 622.5094633187887, 601.5118770089086, 534.1823658665244, 487.12512266747575, 481.2818930931353, 474.3422358270669, 467.338665288328, 466.2310288172948, 386.85007627988904, 386.5830401801716, 368.85992741841403, 365.88242844530356, 328.2457867545544, 313.72568431327625, 231.56772766471067, 215.13272433611579, 207.4375924410459, 201.4742750252111, 164.4903269418291, 143.14669134961628, 3721.1423138447185, 2525.791785982351, 2489.2129608016494, 2429.704665371341, 2267.1139523157794, 1821.0515536986484, 1542.2735252014065, 1245.6264162904226, 1103.4008651050235, 795.1868896492425, 596.5132242715883, 592.8962047697428, 588.1160886260859, 540.376049318107, 449.64160769634515, 434.36070986099213, 388.20065145648704, 360.6065179727814, 358.921271181181, 296.8603693857904, 286.69497578430395, 182.54060923848476, 179.41201823343292, 135.33914991742438, 99.56714336424764, 96.7928713308992, 82.29615865109548, 32.13959134092085, 14.21076257720034, 1.1270817468245438, 1.127084402655044, 5549.463728932229, 2202.13948200653, 2048.996844190285, 1600.0578362977312, 1542.0319714989512, 1417.3158628808826, 1066.817028037244, 959.5805999433998, 897.1810885324968, 734.985223747754, 687.0932136701757, 673.1888329461839, 664.728116467315, 523.8533648632194, 514.3701433849528, 426.7043398689448, 385.9385778731931, 360.6673171266657, 318.5191859251581, 285.40303557439904, 273.8293876093349, 263.39275630145175, 238.81099806565408, 113.07665437441021, 112.90627137896492, 106.19510541305476, 105.16411231789372, 99.81650200401998, 99.55123607224417, 73.67946195921363, 3232.2444222572417, 4087.837563518973, 3216.909460357599, 1945.4405850578573, 1533.4809303640752, 1107.2719202555895, 1025.293699345464, 892.5253264233214, 664.5364089162964, 608.2734237593851, 527.8643054059909, 463.17377979500685, 366.55050723437853, 294.1873202900566, 271.5356639714614, 247.916950340833, 217.03185724598168, 189.592175273133, 164.3647894621934, 147.9327999231031, 132.77549874913612, 128.697742778088, 124.95021606203642, 119.75666754679294, 116.02466507692334, 107.19888823985998, 98.54390847112356, 88.24625295807888, 82.03573981656068, 48.00368265448507, 33.0065296648522, 2201.198297312325], \"Category\": [\"Default\", \"Default\", \"Default\", \"Default\", \"Default\", \"Default\", \"Default\", \"Default\", \"Default\", \"Default\", \"Default\", \"Default\", \"Default\", \"Default\", \"Default\", \"Default\", \"Default\", \"Default\", \"Default\", \"Default\", \"Default\", \"Default\", \"Default\", \"Default\", \"Default\", \"Default\", \"Default\", \"Default\", \"Default\", \"Default\", \"Topic1\", \"Topic1\", \"Topic1\", \"Topic1\", \"Topic1\", \"Topic1\", \"Topic1\", \"Topic1\", \"Topic1\", \"Topic1\", \"Topic1\", \"Topic1\", \"Topic1\", \"Topic1\", \"Topic1\", \"Topic1\", \"Topic1\", \"Topic1\", \"Topic1\", \"Topic1\", \"Topic1\", \"Topic1\", \"Topic1\", \"Topic1\", \"Topic1\", \"Topic1\", \"Topic1\", \"Topic1\", \"Topic1\", \"Topic1\", \"Topic1\", \"Topic1\", \"Topic1\", \"Topic1\", \"Topic1\", \"Topic1\", \"Topic1\", \"Topic1\", \"Topic1\", \"Topic1\", \"Topic1\", \"Topic1\", \"Topic2\", \"Topic2\", \"Topic2\", \"Topic2\", \"Topic2\", \"Topic2\", \"Topic2\", \"Topic2\", \"Topic2\", \"Topic2\", \"Topic2\", \"Topic2\", \"Topic2\", \"Topic2\", \"Topic2\", \"Topic2\", \"Topic2\", \"Topic2\", \"Topic2\", \"Topic2\", \"Topic2\", \"Topic2\", \"Topic2\", \"Topic2\", \"Topic2\", \"Topic2\", \"Topic2\", \"Topic2\", \"Topic2\", \"Topic2\", \"Topic2\", \"Topic2\", \"Topic2\", \"Topic2\", \"Topic2\", \"Topic2\", \"Topic2\", \"Topic2\", \"Topic2\", \"Topic2\", \"Topic3\", \"Topic3\", \"Topic3\", \"Topic3\", \"Topic3\", \"Topic3\", \"Topic3\", \"Topic3\", \"Topic3\", \"Topic3\", \"Topic3\", \"Topic3\", \"Topic3\", \"Topic3\", \"Topic3\", \"Topic3\", \"Topic3\", \"Topic3\", \"Topic3\", \"Topic3\", \"Topic3\", \"Topic3\", \"Topic3\", \"Topic3\", \"Topic3\", \"Topic3\", \"Topic3\", \"Topic3\", \"Topic3\", \"Topic3\", \"Topic3\", \"Topic3\", \"Topic3\", \"Topic4\", \"Topic4\", \"Topic4\", \"Topic4\", \"Topic4\", \"Topic4\", \"Topic4\", \"Topic4\", \"Topic4\", \"Topic4\", \"Topic4\", \"Topic4\", \"Topic4\", \"Topic4\", \"Topic4\", \"Topic4\", \"Topic4\", \"Topic4\", \"Topic4\", \"Topic4\", \"Topic4\", \"Topic4\", \"Topic4\", \"Topic4\", \"Topic4\", \"Topic4\", \"Topic4\", \"Topic4\", \"Topic4\", \"Topic4\", \"Topic4\", \"Topic4\", \"Topic5\", \"Topic5\", \"Topic5\", \"Topic5\", \"Topic5\", \"Topic5\", \"Topic5\", \"Topic5\", \"Topic5\", \"Topic5\", \"Topic5\", \"Topic5\", \"Topic5\", \"Topic5\", \"Topic5\", \"Topic5\", \"Topic5\", \"Topic5\", \"Topic5\", \"Topic5\", \"Topic5\", \"Topic5\", \"Topic5\", \"Topic5\", \"Topic5\", \"Topic5\", \"Topic5\", \"Topic5\", \"Topic5\", \"Topic5\", \"Topic5\", \"Topic5\", \"Topic5\", \"Topic5\", \"Topic6\", \"Topic6\", \"Topic6\", \"Topic6\", \"Topic6\", \"Topic6\", \"Topic6\", \"Topic6\", \"Topic6\", \"Topic6\", \"Topic6\", \"Topic6\", \"Topic6\", \"Topic6\", \"Topic6\", \"Topic6\", \"Topic6\", \"Topic6\", \"Topic6\", \"Topic6\", \"Topic6\", \"Topic6\", \"Topic6\", \"Topic6\", \"Topic6\", \"Topic6\", \"Topic6\", \"Topic6\", \"Topic6\", \"Topic6\", \"Topic6\", \"Topic6\", \"Topic7\", \"Topic7\", \"Topic7\", \"Topic7\", \"Topic7\", \"Topic7\", \"Topic7\", \"Topic7\", \"Topic7\", \"Topic7\", \"Topic7\", \"Topic7\", \"Topic7\", \"Topic7\", \"Topic7\", \"Topic7\", \"Topic7\", \"Topic7\", \"Topic7\", \"Topic7\", \"Topic7\", \"Topic7\", \"Topic7\", \"Topic7\", \"Topic7\", \"Topic7\", \"Topic7\", \"Topic7\", \"Topic7\", \"Topic7\", \"Topic7\", \"Topic7\", \"Topic7\", \"Topic8\", \"Topic8\", \"Topic8\", \"Topic8\", \"Topic8\", \"Topic8\", \"Topic8\", \"Topic8\", \"Topic8\", \"Topic8\", \"Topic8\", \"Topic8\", \"Topic8\", \"Topic8\", \"Topic8\", \"Topic8\", \"Topic8\", \"Topic8\", \"Topic8\", \"Topic8\", \"Topic8\", \"Topic8\", \"Topic8\", \"Topic8\", \"Topic8\", \"Topic8\", \"Topic8\", \"Topic8\", \"Topic8\", \"Topic8\", \"Topic8\", \"Topic8\", \"Topic9\", \"Topic9\", \"Topic9\", \"Topic9\", \"Topic9\", \"Topic9\", \"Topic9\", \"Topic9\", \"Topic9\", \"Topic9\", \"Topic9\", \"Topic9\", \"Topic9\", \"Topic9\", \"Topic9\", \"Topic9\", \"Topic9\", \"Topic9\", \"Topic9\", \"Topic9\", \"Topic9\", \"Topic9\", \"Topic9\", \"Topic9\", \"Topic9\", \"Topic9\", \"Topic9\", \"Topic9\", \"Topic9\", \"Topic9\", \"Topic9\", \"Topic9\", \"Topic9\", \"Topic10\", \"Topic10\", \"Topic10\", \"Topic10\", \"Topic10\", \"Topic10\", \"Topic10\", \"Topic10\", \"Topic10\", \"Topic10\", \"Topic10\", \"Topic10\", \"Topic10\", \"Topic10\", \"Topic10\", \"Topic10\", \"Topic10\", \"Topic10\", \"Topic10\", \"Topic10\", \"Topic10\", \"Topic10\", \"Topic10\", \"Topic10\", \"Topic10\", \"Topic10\", \"Topic10\", \"Topic10\", \"Topic10\", \"Topic10\", \"Topic10\", \"Topic10\", \"Topic10\", \"Topic11\", \"Topic11\", \"Topic11\", \"Topic11\", \"Topic11\", \"Topic11\", \"Topic11\", \"Topic11\", \"Topic11\", \"Topic11\", \"Topic11\", \"Topic11\", \"Topic11\", \"Topic11\", \"Topic11\", \"Topic11\", \"Topic11\", \"Topic11\", \"Topic11\", \"Topic11\", \"Topic11\", \"Topic11\", \"Topic11\", \"Topic11\", \"Topic11\", \"Topic11\", \"Topic11\", \"Topic11\", \"Topic11\", \"Topic11\", \"Topic11\", \"Topic11\", \"Topic11\", \"Topic12\", \"Topic12\", \"Topic12\", \"Topic12\", \"Topic12\", \"Topic12\", \"Topic12\", \"Topic12\", \"Topic12\", \"Topic12\", \"Topic12\", \"Topic12\", \"Topic12\", \"Topic12\", \"Topic12\", \"Topic12\", \"Topic12\", \"Topic12\", \"Topic12\", \"Topic12\", \"Topic12\", \"Topic12\", \"Topic12\", \"Topic12\", \"Topic12\", \"Topic12\", \"Topic12\", \"Topic12\", \"Topic12\", \"Topic12\", \"Topic12\", \"Topic12\", \"Topic13\", \"Topic13\", \"Topic13\", \"Topic13\", \"Topic13\", \"Topic13\", \"Topic13\", \"Topic13\", \"Topic13\", \"Topic13\", \"Topic13\", \"Topic13\", \"Topic13\", \"Topic13\", \"Topic13\", \"Topic13\", \"Topic13\", \"Topic13\", \"Topic13\", \"Topic13\", \"Topic13\", \"Topic13\", \"Topic13\", \"Topic13\", \"Topic13\", \"Topic13\", \"Topic13\", \"Topic13\", \"Topic13\", \"Topic13\", \"Topic13\", \"Topic14\", \"Topic14\", \"Topic14\", \"Topic14\", \"Topic14\", \"Topic14\", \"Topic14\", \"Topic14\", \"Topic14\", \"Topic14\", \"Topic14\", \"Topic14\", \"Topic14\", \"Topic14\", \"Topic14\", \"Topic14\", \"Topic14\", \"Topic14\", \"Topic14\", \"Topic14\", \"Topic14\", \"Topic14\", \"Topic14\", \"Topic14\", \"Topic14\", \"Topic14\", \"Topic14\", \"Topic14\", \"Topic14\", \"Topic14\", \"Topic14\", \"Topic15\", \"Topic15\", \"Topic15\", \"Topic15\", \"Topic15\", \"Topic15\", \"Topic15\", \"Topic15\", \"Topic15\", \"Topic15\", \"Topic15\", \"Topic15\", \"Topic15\", \"Topic15\", \"Topic15\", \"Topic15\", \"Topic15\", \"Topic15\", \"Topic15\", \"Topic15\", \"Topic15\", \"Topic15\", \"Topic15\", \"Topic15\", \"Topic15\", \"Topic15\", \"Topic15\", \"Topic15\", \"Topic15\", \"Topic15\", \"Topic15\", \"Topic15\", \"Topic15\", \"Topic15\", \"Topic16\", \"Topic16\", \"Topic16\", \"Topic16\", \"Topic16\", \"Topic16\", \"Topic16\", \"Topic16\", \"Topic16\", \"Topic16\", \"Topic16\", \"Topic16\", \"Topic16\", \"Topic16\", \"Topic16\", \"Topic16\", \"Topic16\", \"Topic16\", \"Topic16\", \"Topic16\", \"Topic16\", \"Topic16\", \"Topic16\", \"Topic16\", \"Topic16\", \"Topic16\", \"Topic16\", \"Topic16\", \"Topic16\", \"Topic16\", \"Topic16\", \"Topic16\", \"Topic17\", \"Topic17\", \"Topic17\", \"Topic17\", \"Topic17\", \"Topic17\", \"Topic17\", \"Topic17\", \"Topic17\", \"Topic17\", \"Topic17\", \"Topic17\", \"Topic17\", \"Topic17\", \"Topic17\", \"Topic17\", \"Topic17\", \"Topic17\", \"Topic17\", \"Topic17\", \"Topic17\", \"Topic17\", \"Topic17\", \"Topic17\", \"Topic17\", \"Topic17\", \"Topic17\", \"Topic17\", \"Topic17\", \"Topic17\", \"Topic17\", \"Topic17\", \"Topic18\", \"Topic18\", \"Topic18\", \"Topic18\", \"Topic18\", \"Topic18\", \"Topic18\", \"Topic18\", \"Topic18\", \"Topic18\", \"Topic18\", \"Topic18\", \"Topic18\", \"Topic18\", \"Topic18\", \"Topic18\", \"Topic18\", \"Topic18\", \"Topic18\", \"Topic18\", \"Topic18\", \"Topic18\", \"Topic18\", \"Topic18\", \"Topic18\", \"Topic18\", \"Topic18\", \"Topic18\", \"Topic18\", \"Topic18\", \"Topic18\", \"Topic19\", \"Topic19\", \"Topic19\", \"Topic19\", \"Topic19\", \"Topic19\", \"Topic19\", \"Topic19\", \"Topic19\", \"Topic19\", \"Topic19\", \"Topic19\", \"Topic19\", \"Topic19\", \"Topic19\", \"Topic19\", \"Topic19\", \"Topic19\", \"Topic19\", \"Topic19\", \"Topic19\", \"Topic19\", \"Topic19\", \"Topic19\", \"Topic19\", \"Topic19\", \"Topic19\", \"Topic19\", \"Topic19\", \"Topic19\", \"Topic19\", \"Topic20\", \"Topic20\", \"Topic20\", \"Topic20\", \"Topic20\", \"Topic20\", \"Topic20\", \"Topic20\", \"Topic20\", \"Topic20\", \"Topic20\", \"Topic20\", \"Topic20\", \"Topic20\", \"Topic20\", \"Topic20\", \"Topic20\", \"Topic20\", \"Topic20\", \"Topic20\", \"Topic20\", \"Topic20\", \"Topic20\", \"Topic20\", \"Topic20\", \"Topic20\", \"Topic20\", \"Topic20\", \"Topic20\", \"Topic20\", \"Topic20\", \"Topic20\", \"Topic20\", \"Topic21\", \"Topic21\", \"Topic21\", \"Topic21\", \"Topic21\", \"Topic21\", \"Topic21\", \"Topic21\", \"Topic21\", \"Topic21\", \"Topic21\", \"Topic21\", \"Topic21\", \"Topic21\", \"Topic21\", \"Topic21\", \"Topic21\", \"Topic21\", \"Topic21\", \"Topic21\", \"Topic21\", \"Topic21\", \"Topic21\", \"Topic21\", \"Topic21\", \"Topic21\", \"Topic21\", \"Topic21\", \"Topic21\", \"Topic21\", \"Topic21\", \"Topic22\", \"Topic22\", \"Topic22\", \"Topic22\", \"Topic22\", \"Topic22\", \"Topic22\", \"Topic22\", \"Topic22\", \"Topic22\", \"Topic22\", \"Topic22\", \"Topic22\", \"Topic22\", \"Topic22\", \"Topic22\", \"Topic22\", \"Topic22\", \"Topic22\", \"Topic22\", \"Topic22\", \"Topic22\", \"Topic22\", \"Topic22\", \"Topic22\", \"Topic22\", \"Topic22\", \"Topic22\", \"Topic22\", \"Topic22\", \"Topic22\", \"Topic22\", \"Topic22\", \"Topic22\", \"Topic23\", \"Topic23\", \"Topic23\", \"Topic23\", \"Topic23\", \"Topic23\", \"Topic23\", \"Topic23\", \"Topic23\", \"Topic23\", \"Topic23\", \"Topic23\", \"Topic23\", \"Topic23\", \"Topic23\", \"Topic23\", \"Topic23\", \"Topic23\", \"Topic23\", \"Topic23\", \"Topic23\", \"Topic23\", \"Topic23\", \"Topic23\", \"Topic23\", \"Topic23\", \"Topic23\", \"Topic23\", \"Topic23\", \"Topic23\", \"Topic24\", \"Topic24\", \"Topic24\", \"Topic24\", \"Topic24\", \"Topic24\", \"Topic24\", \"Topic24\", \"Topic24\", \"Topic24\", \"Topic24\", \"Topic24\", \"Topic24\", \"Topic24\", \"Topic24\", \"Topic24\", \"Topic24\", \"Topic24\", \"Topic24\", \"Topic24\", \"Topic24\", \"Topic24\", \"Topic24\", \"Topic24\", \"Topic24\", \"Topic24\", \"Topic24\", \"Topic24\", \"Topic24\", \"Topic24\", \"Topic25\", \"Topic25\", \"Topic25\", \"Topic25\", \"Topic25\", \"Topic25\", \"Topic25\", \"Topic25\", \"Topic25\", \"Topic25\", \"Topic25\", \"Topic25\", \"Topic25\", \"Topic25\", \"Topic25\", \"Topic25\", \"Topic25\", \"Topic25\", \"Topic25\", \"Topic25\", \"Topic25\", \"Topic25\", \"Topic25\", \"Topic25\", \"Topic25\", \"Topic25\", \"Topic25\", \"Topic25\", \"Topic25\", \"Topic25\", \"Topic25\", \"Topic26\", \"Topic26\", \"Topic26\", \"Topic26\", \"Topic26\", \"Topic26\", \"Topic26\", \"Topic26\", \"Topic26\", \"Topic26\", \"Topic26\", \"Topic26\", \"Topic26\", \"Topic26\", \"Topic26\", \"Topic26\", \"Topic26\", \"Topic26\", \"Topic26\", \"Topic26\", \"Topic26\", \"Topic26\", \"Topic26\", \"Topic26\", \"Topic26\", \"Topic26\", \"Topic26\", \"Topic26\", \"Topic26\", \"Topic26\", \"Topic26\", \"Topic27\", \"Topic27\", \"Topic27\", \"Topic27\", \"Topic27\", \"Topic27\", \"Topic27\", \"Topic27\", \"Topic27\", \"Topic27\", \"Topic27\", \"Topic27\", \"Topic27\", \"Topic27\", \"Topic27\", \"Topic27\", \"Topic27\", \"Topic27\", \"Topic27\", \"Topic27\", \"Topic27\", \"Topic27\", \"Topic27\", \"Topic27\", \"Topic27\", \"Topic27\", \"Topic27\", \"Topic27\", \"Topic27\", \"Topic27\", \"Topic27\"], \"logprob\": [30.0, 29.0, 28.0, 27.0, 26.0, 25.0, 24.0, 23.0, 22.0, 21.0, 20.0, 19.0, 18.0, 17.0, 16.0, 15.0, 14.0, 13.0, 12.0, 11.0, 10.0, 9.0, 8.0, 7.0, 6.0, 5.0, 4.0, 3.0, 2.0, 1.0, -2.4441, -3.1347, -3.5248, -3.652, -3.7809, -4.0999, -4.2133, -4.2768, -4.3125, -4.3561, -4.4087, -4.4481, -4.542, -4.6051, -4.6311, -4.6362, -4.6694, -4.7321, -4.8125, -4.8312, -4.8402, -4.8711, -4.9938, -4.9959, -5.0131, -5.0161, -5.0171, -5.0367, -5.0754, -5.0841, -3.5106, -3.9467, -3.8679, -4.0991, -4.4798, -3.5105, -3.8602, -4.5338, -3.8254, -4.7817, -4.6112, -4.4131, -2.3899, -2.7785, -2.8128, -3.0735, -3.1205, -4.023, -4.037, -4.0395, -4.1303, -4.1659, -4.2056, -4.226, -4.2942, -4.3078, -4.364, -4.3773, -4.4746, -4.5008, -4.6023, -4.6998, -4.7101, -4.8337, -4.9202, -4.956, -5.0151, -5.0182, -5.0668, -5.0781, -5.1248, -5.1326, -4.4616, -4.612, -4.1225, -2.6113, -4.0045, -4.5517, -3.9824, -4.758, -4.239, -4.2705, -2.0495, -2.0855, -2.6276, -2.6938, -2.7236, -2.8794, -3.2783, -3.3354, -3.3932, -3.7126, -3.8958, -3.9493, -3.9522, -4.3701, -4.3956, -4.4135, -4.4605, -4.5515, -4.5776, -4.5961, -4.6341, -4.8642, -4.9982, -5.0319, -5.1185, -5.14, -5.144, -5.1592, -5.2532, -5.384, -3.2772, -3.7534, -4.2193, -1.892, -2.1309, -2.2884, -2.3512, -2.8419, -3.4201, -3.5026, -3.5304, -3.6878, -3.728, -3.8385, -3.9668, -3.9703, -4.263, -4.3391, -4.5342, -4.5978, -4.787, -4.9054, -4.9238, -4.9267, -5.0196, -5.03, -5.0732, -5.1131, -5.1878, -5.2241, -5.2657, -5.2861, -5.2928, -4.1568, -5.1448, -1.3011, -2.1757, -2.9578, -3.0753, -3.1068, -3.2835, -3.2997, -3.7984, -3.8135, -3.8236, -3.9275, -3.9443, -4.2066, -4.4119, -4.614, -4.741, -4.751, -4.7666, -5.1961, -5.252, -5.3174, -5.3405, -5.3998, -5.441, -5.9489, -6.0584, -6.1031, -6.1447, -6.2523, -6.2543, -2.4638, -4.6019, -3.5746, -4.4892, -1.4728, -1.5522, -2.5493, -2.6245, -2.7215, -2.8479, -3.8373, -3.8895, -4.0872, -4.1006, -4.1859, -4.2287, -4.411, -4.4215, -4.4995, -4.5602, -4.7701, -4.7842, -4.7975, -5.1184, -5.2227, -5.6215, -5.6431, -5.6666, -5.8417, -6.0045, -6.0222, -6.0788, -6.2662, -6.444, -4.7053, -3.9668, -2.512, -2.5441, -2.5817, -2.5946, -2.8667, -2.9054, -2.9854, -3.155, -3.1725, -3.2679, -3.3185, -3.4302, -3.7133, -3.7367, -3.8377, -4.1738, -4.2068, -4.393, -4.4198, -4.4831, -4.5112, -4.5414, -4.6301, -4.6433, -4.8702, -5.0393, -5.1226, -5.1557, -5.4412, -5.5396, -3.5388, -4.755, -4.3588, -1.0007, -2.4631, -2.7047, -3.1241, -3.169, -3.1944, -3.347, -3.5363, -3.5976, -3.6798, -3.735, -3.8479, -4.0065, -4.2748, -4.5875, -4.617, -5.1136, -5.286, -6.0074, -6.009, -6.0334, -6.0903, -6.1443, -6.3037, -6.4515, -6.5212, -7.0715, -2.7616, -6.1734, -6.8149, -6.6114, -5.6694, -1.6894, -1.9273, -2.4405, -2.459, -2.5197, -2.842, -3.2496, -3.3364, -3.4768, -3.4957, -3.6182, -4.2905, -4.3923, -4.546, -4.6387, -4.7103, -4.731, -4.8814, -4.9171, -5.0137, -5.1679, -5.2649, -5.2663, -5.3832, -5.7108, -5.77, -6.3831, -7.0396, -7.5818, -8.4441, -3.8287, -4.4149, -6.0916, -2.1018, -2.162, -2.4226, -2.8829, -2.9669, -2.9728, -3.0144, -3.2738, -3.3045, -3.4665, -3.5607, -3.602, -3.8132, -3.9963, -4.0382, -4.1218, -4.1807, -4.6349, -4.7766, -4.791, -4.9652, -5.1319, -5.1347, -5.1366, -5.5561, -5.6001, -5.6177, -5.8858, -6.2504, -6.2999, -3.9292, -2.8019, -5.2569, -1.1598, -1.4774, -2.532, -3.096, -3.3652, -3.4664, -3.4739, -3.92, -3.9514, -4.1502, -4.5245, -4.5341, -4.8094, -4.9137, -4.9155, -4.9962, -5.0396, -5.054, -5.1075, -5.2485, -5.3699, -5.5256, -5.5577, -5.5627, -5.5758, -5.6366, -6.4397, -6.8006, -8.0397, -8.2318, -4.3412, -4.4397, -5.3375, -1.7928, -2.1481, -2.2455, -2.6761, -2.7139, -3.121, -3.1664, -3.2296, -3.3071, -3.5482, -3.7929, -4.0157, -4.0392, -4.1876, -4.1961, -4.2805, -4.3639, -4.5842, -4.6406, -4.9309, -5.0676, -5.4088, -5.418, -5.6016, -5.6154, -5.7043, -5.7375, -6.1691, -6.6351, -6.8591, -3.95, -3.2217, -1.0504, -2.1331, -2.6013, -3.3113, -3.5975, -3.6724, -3.6743, -3.7769, -3.8483, -3.9564, -4.0009, -4.0053, -4.0802, -4.1516, -4.2672, -4.2977, -4.3879, -4.614, -4.7525, -4.7816, -4.8345, -4.9774, -5.0576, -5.1375, -5.1809, -5.2602, -5.2841, -5.374, -5.3783, -5.6365, -4.1258, -2.5677, -2.6481, -2.8361, -2.8674, -2.8843, -3.1492, -3.2569, -3.4374, -3.4897, -3.6461, -3.6757, -3.7129, -3.7423, -3.8503, -3.9394, -3.9416, -4.0507, -4.1388, -4.1521, -4.1712, -4.3158, -4.3248, -4.4078, -4.5147, -4.5274, -4.6594, -4.6777, -4.6811, -4.686, -4.799, -3.7576, -1.0966, -1.5085, -1.9329, -2.9237, -3.3528, -3.4601, -3.9958, -4.0024, -4.3601, -4.6972, -5.164, -5.167, -5.4254, -5.7811, -5.8156, -5.8933, -5.9411, -6.1918, -6.4421, -6.5966, -3.5059, -13.9523, -13.9523, -13.9523, -13.9523, -13.9523, -13.9523, -13.9523, -13.9523, -13.9523, -13.9523, -6.4893, -13.9523, -13.9523, -2.2299, -2.728, -2.765, -2.7784, -2.8813, -2.9413, -3.0268, -3.3386, -3.7258, -3.8182, -3.8585, -3.8992, -3.9276, -3.9853, -4.0296, -4.1188, -4.1482, -4.1786, -4.1957, -4.2541, -4.2553, -4.2705, -4.4152, -4.4432, -4.4871, -4.5042, -4.5983, -4.6121, -4.7362, -4.8112, -3.9674, -4.3404, -2.1877, -2.3334, -2.5512, -2.5717, -2.8086, -3.1368, -3.401, -3.4902, -3.6623, -3.685, -3.7496, -3.9167, -3.9483, -4.0503, -4.076, -4.1273, -4.1497, -4.2279, -4.3113, -4.3246, -4.7885, -4.8288, -4.8597, -5.0276, -5.0788, -5.3442, -5.6143, -5.6283, -5.7609, -5.8758, -2.179, -5.4018, -2.4192, -2.4913, -2.6508, -2.6833, -2.7301, -3.3154, -3.3403, -3.5203, -3.58, -3.5856, -3.7479, -3.9287, -4.0259, -4.0725, -4.1653, -4.1837, -4.1934, -4.2238, -4.2813, -4.3119, -4.3266, -4.3327, -4.3728, -4.4497, -4.4651, -4.5211, -4.7987, -4.7996, -4.8057, -4.84, -3.8819, -2.059, -2.4546, -2.5009, -2.6679, -2.9858, -3.0826, -3.1547, -3.1799, -3.1899, -3.242, -3.2531, -3.5647, -3.7689, -4.0167, -4.0626, -4.2336, -4.2655, -4.5748, -4.5922, -4.6324, -4.8168, -4.8294, -4.8584, -5.0098, -5.1048, -5.1096, -5.2213, -5.272, -5.3312, -5.3457, -3.9123, -1.5051, -1.6958, -2.1637, -2.3075, -2.5817, -3.1986, -3.2994, -3.4548, -3.6882, -3.7603, -3.9747, -4.3986, -4.923, -4.9276, -5.7303, -5.7358, -5.8012, -5.9073, -6.0763, -6.8871, -6.9015, -6.9042, -7.136, -7.8874, -8.8144, -9.0428, -4.1788, -13.7998, -13.7998, -13.7998, -13.7998, -13.7998, -13.7998, -1.7362, -2.0594, -2.2362, -2.3187, -2.4806, -2.8293, -3.0324, -3.1024, -3.309, -4.1957, -4.2315, -4.4268, -4.4895, -4.8177, -4.9854, -5.0897, -5.1074, -5.2226, -5.2713, -5.2796, -5.4284, -5.6527, -6.0728, -6.2946, -6.3369, -3.2872, -4.8994, -13.8386, -13.8386, -13.8386, -13.8386, -1.2936, -1.8594, -1.8722, -2.7088, -2.789, -2.9021, -2.9037, -3.8312, -4.1677, -4.3811, -4.4535, -4.4675, -5.3374, -5.3434, -5.5659, -5.6083, -5.6709, -5.7206, -5.7842, -7.4469, -7.6261, -9.3766, -13.6537, -13.6537, -13.6537, -13.6537, -13.6537, -13.6537, -13.6537, -13.6537, -13.6537, -13.6537, -13.6537, -13.6537, -2.1024, -2.2083, -2.278, -2.554, -2.5809, -3.0641, -3.3004, -3.3911, -3.5086, -3.6829, -3.798, -3.8458, -3.9201, -4.0017, -4.0497, -4.1436, -4.149, -4.2844, -4.3478, -4.3725, -4.515, -4.7865, -4.7978, -4.8149, -4.9605, -5.3863, -5.4394, -5.4502, -5.4968, -5.5737, -1.3298, -2.7579, -2.8911, -2.9662, -3.0729, -3.0953, -3.5088, -3.6336, -3.6658, -3.7044, -3.9155, -3.9499, -4.0688, -4.1612, -4.1733, -4.1879, -4.2028, -4.2052, -4.3923, -4.393, -4.44, -4.4482, -4.5571, -4.6025, -4.9073, -4.9813, -5.0179, -5.0473, -5.2513, -5.3912, -2.0201, -2.4077, -2.4223, -2.4466, -2.5158, -2.7351, -2.9013, -3.1151, -3.2365, -3.5644, -3.8524, -3.8584, -3.8666, -3.9514, -4.1356, -4.1703, -4.2829, -4.3569, -4.3616, -4.552, -4.587, -5.0406, -5.058, -5.3419, -5.6518, -5.6804, -5.8446, -6.8061, -7.6675, -13.5454, -13.5454, -1.611, -2.5356, -2.6077, -2.8552, -2.8922, -2.9766, -3.2609, -3.3669, -3.4343, -3.6339, -3.7014, -3.7219, -3.7346, -3.9732, -3.9915, -4.1788, -4.2794, -4.3474, -4.472, -4.5822, -4.6238, -4.6628, -4.7612, -5.5139, -5.5154, -5.5773, -5.5871, -5.6399, -5.6426, -5.9474, -4.7241, -1.6711, -1.9107, -2.4139, -2.652, -2.9779, -3.0549, -3.1937, -3.4891, -3.5777, -3.7198, -3.8508, -4.0854, -4.3061, -4.3865, -4.4779, -4.6116, -4.7475, -4.8911, -4.9972, -5.1061, -5.1376, -5.1674, -5.2102, -5.2422, -5.3221, -5.4072, -5.5188, -5.5928, -6.1382, -6.5234, -5.5682], \"loglift\": [30.0, 29.0, 28.0, 27.0, 26.0, 25.0, 24.0, 23.0, 22.0, 21.0, 20.0, 19.0, 18.0, 17.0, 16.0, 15.0, 14.0, 13.0, 12.0, 11.0, 10.0, 9.0, 8.0, 7.0, 6.0, 5.0, 4.0, 3.0, 2.0, 1.0, 1.2974, 1.2973, 1.2973, 1.2973, 1.2973, 1.2973, 1.2972, 1.2972, 1.2972, 1.2972, 1.2972, 1.2972, 1.2972, 1.2972, 1.2972, 1.2972, 1.2972, 1.2972, 1.2971, 1.2971, 1.2971, 1.2971, 1.2971, 1.2971, 1.2971, 1.2971, 1.2971, 1.2971, 1.2971, 1.2971, 1.2956, 1.294, 1.286, 1.2726, 1.2735, 1.2105, 1.2194, 1.243, 1.1405, 1.2378, 1.0148, 0.6425, 2.3846, 2.3846, 2.3846, 2.3846, 2.3846, 2.3844, 2.3844, 2.3844, 2.3843, 2.3843, 2.3843, 2.3843, 2.3843, 2.3843, 2.3842, 2.3842, 2.3842, 2.3842, 2.3841, 2.3841, 2.384, 2.384, 2.3839, 2.3839, 2.3838, 2.3838, 2.3838, 2.3838, 2.3837, 2.3837, 2.3807, 2.3805, 2.3621, 2.2854, 2.3236, 2.3072, 2.0596, 2.314, 2.0705, 1.9468, 3.1053, 3.1053, 3.1052, 3.1052, 3.1052, 3.1052, 3.105, 3.105, 3.105, 3.1049, 3.1048, 3.1047, 3.1047, 3.1044, 3.1044, 3.1044, 3.1043, 3.1042, 3.1042, 3.1042, 3.1041, 3.1038, 3.1036, 3.1035, 3.1034, 3.1033, 3.1033, 3.1033, 3.1031, 3.1028, 3.0945, 3.0665, 1.8228, 3.2729, 3.2729, 3.2729, 3.2729, 3.2728, 3.2726, 3.2725, 3.2725, 3.2724, 3.2724, 3.2723, 3.2722, 3.2722, 3.272, 3.2719, 3.2717, 3.2716, 3.2713, 3.2711, 3.271, 3.271, 3.2708, 3.2708, 3.2707, 3.2706, 3.2705, 3.2704, 3.2702, 3.2702, 3.2702, 1.4519, 1.9397, 3.3216, 3.3215, 3.3214, 3.3213, 3.3213, 3.3212, 3.3212, 3.321, 3.321, 3.321, 3.3209, 3.3209, 3.3206, 3.3204, 3.3201, 3.3199, 3.3199, 3.3199, 3.3189, 3.3188, 3.3186, 3.3185, 3.3183, 3.3182, 3.3159, 3.3153, 3.315, 3.3147, 3.3139, 3.3139, 3.1449, 2.8914, 1.3913, 1.1369, 3.3573, 3.3573, 3.3571, 3.3571, 3.3571, 3.3571, 3.3566, 3.3566, 3.3564, 3.3564, 3.3563, 3.3563, 3.3561, 3.3561, 3.356, 3.3559, 3.3555, 3.3555, 3.3555, 3.3548, 3.3545, 3.3531, 3.353, 3.3529, 3.352, 3.3511, 3.351, 3.3506, 3.3492, 3.3477, 3.1462, 2.4689, 3.3905, 3.3905, 3.3905, 3.3905, 3.3904, 3.3904, 3.3904, 3.3903, 3.3903, 3.3903, 3.3902, 3.3902, 3.39, 3.39, 3.3899, 3.3896, 3.3896, 3.3894, 3.3893, 3.3893, 3.3892, 3.3892, 3.389, 3.389, 3.3886, 3.3882, 3.388, 3.3879, 3.387, 3.3866, 3.2803, 2.4393, 1.2673, 3.4178, 3.4176, 3.4176, 3.4174, 3.4174, 3.4174, 3.4173, 3.4172, 3.4172, 3.4172, 3.4171, 3.417, 3.4169, 3.4166, 3.4162, 3.4161, 3.4151, 3.4146, 3.4111, 3.4111, 3.411, 3.4106, 3.4102, 3.4088, 3.4074, 3.4067, 3.3986, 3.3961, 1.8288, 0.5377, 0.4606, -0.2978, 3.4259, 3.4259, 3.4258, 3.4258, 3.4258, 3.4257, 3.4256, 3.4256, 3.4255, 3.4255, 3.4254, 3.4248, 3.4247, 3.4245, 3.4243, 3.4242, 3.4241, 3.4238, 3.4238, 3.4235, 3.4231, 3.4228, 3.4228, 3.4224, 3.421, 3.4207, 3.4163, 3.4073, 3.394, 3.3519, 2.3886, 0.6648, 1.7599, 3.462, 3.462, 3.4619, 3.4618, 3.4618, 3.4618, 3.4618, 3.4617, 3.4616, 3.4616, 3.4615, 3.4615, 3.4613, 3.4612, 3.4611, 3.461, 3.461, 3.4603, 3.4601, 3.46, 3.4596, 3.4592, 3.4592, 3.4592, 3.4577, 3.4575, 3.4574, 3.4559, 3.4532, 3.4528, 3.1553, 2.2536, 0.5199, 3.536, 3.536, 3.5359, 3.5357, 3.5356, 3.5355, 3.5355, 3.5352, 3.5351, 3.5349, 3.5344, 3.5344, 3.5338, 3.5336, 3.5336, 3.5334, 3.5333, 3.5332, 3.5331, 3.5326, 3.5321, 3.5315, 3.5313, 3.5313, 3.5312, 3.5309, 3.5246, 3.5197, 3.4804, 3.469, 3.3765, 1.9959, 0.682, 3.5607, 3.5607, 3.5607, 3.5606, 3.5605, 3.5604, 3.5604, 3.5604, 3.5603, 3.5602, 3.56, 3.5598, 3.5598, 3.5596, 3.5596, 3.5595, 3.5593, 3.559, 3.5589, 3.5582, 3.5578, 3.5566, 3.5566, 3.5557, 3.5556, 3.5552, 3.555, 3.5518, 3.5465, 3.543, 2.745, 1.8339, 3.599, 3.5989, 3.5988, 3.5985, 3.5983, 3.5983, 3.5983, 3.5982, 3.5981, 3.598, 3.598, 3.598, 3.5979, 3.5978, 3.5977, 3.5976, 3.5975, 3.5971, 3.5968, 3.5967, 3.5966, 3.5962, 3.596, 3.5957, 3.5956, 3.5953, 3.5952, 3.5948, 3.5948, 3.5935, 2.3098, 3.6534, 3.6534, 3.6533, 3.6533, 3.6533, 3.6532, 3.6531, 3.653, 3.653, 3.6529, 3.6528, 3.6528, 3.6528, 3.6527, 3.6526, 3.6526, 3.6525, 3.6523, 3.6523, 3.6523, 3.6521, 3.6521, 3.6519, 3.6518, 3.6517, 3.6515, 3.6514, 3.6514, 3.6514, 3.6511, 3.595, 3.7499, 3.7499, 3.7499, 3.7496, 3.7494, 3.7493, 3.7488, 3.7488, 3.7482, 3.7475, 3.746, 3.746, 3.7448, 3.7426, 3.7424, 3.7417, 3.7413, 3.7389, 3.7357, 3.7334, 1.3907, 0.4446, 0.4446, 0.4446, 0.4446, 0.4446, 0.4446, 0.4446, 0.4446, 0.4446, 0.4446, -0.0536, 0.4446, 0.4446, 3.7566, 3.7564, 3.7564, 3.7564, 3.7564, 3.7563, 3.7563, 3.7561, 3.7558, 3.7557, 3.7557, 3.7557, 3.7556, 3.7555, 3.7555, 3.7554, 3.7553, 3.7553, 3.7553, 3.7552, 3.7552, 3.7551, 3.7549, 3.7548, 3.7547, 3.7547, 3.7545, 3.7545, 3.7542, 3.754, 3.5656, 3.5946, 3.7708, 3.7707, 3.7707, 3.7707, 3.7706, 3.7704, 3.7703, 3.7702, 3.77, 3.77, 3.77, 3.7698, 3.7697, 3.7696, 3.7696, 3.7695, 3.7695, 3.7694, 3.7692, 3.7692, 3.7682, 3.768, 3.7679, 3.7674, 3.7672, 3.7661, 3.7646, 3.7645, 3.7636, 3.7627, 3.7272, 2.1284, 3.8206, 3.8206, 3.8205, 3.8205, 3.8205, 3.8202, 3.8202, 3.8201, 3.82, 3.82, 3.8198, 3.8196, 3.8195, 3.8194, 3.8193, 3.8193, 3.8193, 3.8192, 3.8191, 3.8191, 3.819, 3.819, 3.8189, 3.8188, 3.8188, 3.8186, 3.8179, 3.8179, 3.8179, 3.8178, 2.4276, 3.8339, 3.8338, 3.8338, 3.8337, 3.8336, 3.8335, 3.8335, 3.8335, 3.8335, 3.8335, 3.8334, 3.8332, 3.833, 3.8327, 3.8326, 3.8324, 3.8323, 3.8317, 3.8316, 3.8315, 3.831, 3.831, 3.8309, 3.8304, 3.83, 3.83, 3.8295, 3.8292, 3.829, 3.8289, 3.6179, 3.9293, 3.9293, 3.9292, 3.9292, 3.9291, 3.9288, 3.9287, 3.9286, 3.9284, 3.9283, 3.928, 3.9272, 3.9257, 3.9257, 3.921, 3.921, 3.9204, 3.9194, 3.9176, 3.9029, 3.9026, 3.9025, 3.8956, 3.8589, 3.76, 3.7208, 2.7509, 0.5972, 0.5972, 0.5972, 0.5972, 0.5972, 0.5972, 3.9923, 3.9922, 3.9922, 3.9922, 3.9921, 3.992, 3.9918, 3.9918, 3.9917, 3.9905, 3.9904, 3.99, 3.9898, 3.9888, 3.9882, 3.9877, 3.9876, 3.987, 3.9868, 3.9867, 3.9858, 3.9841, 3.9798, 3.9767, 3.976, 3.4078, 1.6935, 0.5583, 0.5583, 0.5583, 0.5583, 4.0076, 4.0075, 4.0075, 4.0073, 4.0072, 4.0072, 4.0072, 4.0064, 4.0058, 4.0054, 4.0052, 4.0052, 4.0016, 4.0016, 4.0, 3.9997, 3.9992, 3.9987, 3.9982, 3.9582, 3.9488, 3.7081, 0.7432, 0.7432, 0.7432, 0.7432, 0.7432, 0.7432, 0.7432, 0.7432, 0.7432, 0.7432, 0.7432, 0.7432, 4.1217, 4.1217, 4.1217, 4.1216, 4.1216, 4.1213, 4.1211, 4.121, 4.1209, 4.1207, 4.1205, 4.1204, 4.1203, 4.1202, 4.1201, 4.1199, 4.1199, 4.1196, 4.1194, 4.1194, 4.119, 4.118, 4.118, 4.1179, 4.1173, 4.1148, 4.1144, 4.1143, 4.1139, 4.1133, 4.1689, 4.1685, 4.1684, 4.1684, 4.1683, 4.1683, 4.1679, 4.1677, 4.1677, 4.1676, 4.1673, 4.1672, 4.167, 4.1668, 4.1668, 4.1668, 4.1667, 4.1667, 4.1662, 4.1662, 4.1661, 4.1661, 4.1657, 4.1656, 4.1644, 4.164, 4.1638, 4.1637, 4.1624, 4.1614, 4.2746, 4.2745, 4.2745, 4.2745, 4.2745, 4.2743, 4.2742, 4.2741, 4.2739, 4.2736, 4.2731, 4.2731, 4.2731, 4.2729, 4.2725, 4.2724, 4.2721, 4.2719, 4.2719, 4.2713, 4.2711, 4.2689, 4.2688, 4.2668, 4.2639, 4.2636, 4.2616, 4.2404, 4.1951, 0.8515, 0.8515, 4.2841, 4.2838, 4.2837, 4.2836, 4.2836, 4.2835, 4.2832, 4.2831, 4.283, 4.2828, 4.2827, 4.2826, 4.2826, 4.2822, 4.2821, 4.2817, 4.2814, 4.2812, 4.2808, 4.2804, 4.2803, 4.2801, 4.2797, 4.2746, 4.2746, 4.274, 4.2739, 4.2733, 4.2733, 4.2694, 1.7116, 4.5297, 4.5297, 4.5294, 4.5293, 4.529, 4.5289, 4.5288, 4.5284, 4.5282, 4.5279, 4.5276, 4.527, 4.5263, 4.526, 4.5256, 4.525, 4.5242, 4.5234, 4.5226, 4.5218, 4.5215, 4.5212, 4.5209, 4.5206, 4.5198, 4.5189, 4.5176, 4.5166, 4.5071, 4.4965, 1.2516]}, \"token.table\": {\"Topic\": [23, 26, 14, 9, 17, 4, 2, 3, 7, 5, 14, 4, 24, 23, 2, 3, 1, 22, 26, 18, 2, 3, 2, 4, 19, 21, 20, 8, 14, 4, 5, 25, 13, 15, 1, 5, 7, 10, 23, 14, 18, 4, 12, 12, 21, 25, 5, 7, 26, 9, 4, 11, 16, 18, 6, 20, 2, 13, 3, 12, 25, 14, 12, 24, 9, 19, 13, 9, 6, 5, 7, 13, 14, 17, 19, 19, 17, 17, 19, 17, 6, 27, 8, 26, 19, 10, 10, 4, 23, 18, 7, 14, 14, 2, 7, 4, 27, 24, 3, 13, 7, 3, 23, 19, 1, 8, 21, 9, 11, 1, 11, 11, 8, 4, 3, 4, 13, 6, 5, 7, 17, 26, 17, 16, 27, 1, 2, 6, 23, 4, 9, 4, 4, 27, 12, 2, 3, 17, 12, 23, 17, 10, 10, 10, 10, 16, 18, 7, 25, 5, 5, 27, 15, 27, 18, 18, 25, 2, 6, 9, 13, 3, 11, 4, 2, 7, 4, 20, 24, 8, 26, 6, 25, 13, 16, 1, 2, 9, 13, 23, 21, 1, 25, 9, 9, 25, 13, 11, 9, 13, 4, 18, 24, 24, 23, 23, 10, 21, 6, 17, 6, 13, 23, 12, 23, 22, 26, 21, 26, 10, 15, 3, 25, 21, 20, 26, 13, 13, 16, 1, 11, 27, 8, 19, 19, 23, 3, 16, 20, 15, 3, 16, 5, 26, 8, 9, 14, 17, 17, 3, 5, 16, 22, 22, 26, 2, 7, 11, 5, 8, 10, 3, 6, 24, 6, 20, 13, 2, 24, 5, 23, 3, 7, 27, 16, 2, 1, 2, 7, 10, 15, 3, 7, 26, 16, 19, 10, 13, 27, 27, 11, 18, 10, 10, 17, 24, 3, 19, 8, 27, 23, 10, 1, 5, 17, 10, 16, 7, 3, 11, 5, 18, 19, 8, 1, 2, 5, 18, 12, 14, 21, 27, 7, 11, 6, 18, 10, 15, 14, 15, 16, 27, 1, 11, 8, 1, 1, 10, 23, 11, 9, 23, 5, 25, 3, 25, 1, 7, 2, 3, 5, 13, 13, 22, 23, 1, 13, 6, 11, 8, 16, 11, 7, 3, 19, 17, 19, 2, 3, 19, 7, 9, 4, 16, 15, 12, 11, 15, 19, 17, 25, 12, 20, 3, 27, 24, 20, 22, 12, 20, 20, 21, 10, 14, 13, 23, 13, 4, 6, 13, 5, 27, 24, 11, 6, 18, 18, 2, 27, 13, 20, 27, 26, 2, 27, 27, 2, 4, 7, 18, 3, 20, 10, 16, 22, 21, 13, 4, 21, 20, 20, 1, 23, 5, 24, 12, 21, 6, 24, 4, 4, 4, 16, 19, 21, 16, 1, 21, 2, 18, 12, 26, 5, 20, 20, 11, 7, 21, 8, 5, 18, 8, 7, 2, 7, 8, 1, 21, 8, 2, 24, 6, 21, 6, 11, 13, 15, 26, 22, 12, 11, 15, 1, 17, 17, 14, 4, 24, 11, 18, 23, 24, 13, 14, 8, 5, 9, 2, 21, 19, 19, 16, 27, 12, 10, 14, 18, 8, 14, 9, 2, 20, 25, 6, 24, 20, 7, 1, 17, 27, 2, 20, 24, 15, 26, 2, 21, 7, 12, 18, 2, 9, 27, 22, 2, 24, 26, 8, 11, 27, 17, 27, 5, 27, 12, 6, 8, 1, 20, 10, 20, 8, 16, 12, 25, 12, 17, 21, 18, 4, 7, 14, 26, 24, 13, 2, 11, 10, 12, 2, 3, 2, 8, 3, 14, 10, 26, 20, 6, 7, 15, 27, 25, 11, 19, 4, 10, 2, 26, 11, 17, 10, 19, 1, 14, 9, 9, 15, 23, 25, 8, 9, 16, 16, 3, 5, 22, 9, 22, 20, 2, 1, 5, 5, 18, 15, 12, 23, 24, 5, 13, 25, 17, 18, 6, 24, 11, 16, 7, 2, 8, 26, 14, 20, 12, 12, 9, 1, 16, 25, 26, 16, 18, 5, 24, 17, 25, 25, 1, 21, 17, 24, 2, 2, 5, 12, 18, 25, 4, 24, 8, 15, 18, 2, 9, 27, 11, 19, 9, 6, 19, 26, 6, 9, 9, 9, 25, 25, 21, 22, 1, 7, 17, 14, 10, 7, 14, 22, 2, 15, 6, 3, 26, 21, 12, 1, 5, 10, 12, 27, 17, 12, 1, 19, 25, 19, 27, 16, 1, 1, 6, 23, 21, 26, 11, 12, 11, 14, 17, 14, 6, 3, 17, 5, 10, 12, 1, 17, 19, 6, 1, 3, 14, 14, 3, 1, 3, 20, 5, 6, 23, 27, 9, 9, 19, 4, 7, 14, 1, 10, 25, 15, 2, 13, 26, 2, 18, 10, 24, 25, 15, 19, 26, 18, 11, 11, 10, 26, 8, 6, 24, 3, 4, 9, 23, 8, 14, 26, 10, 2, 3, 26, 7, 16, 9, 22, 5, 10, 22, 22, 2, 8, 18, 9, 13, 8, 27, 22, 22, 4, 4, 1, 1, 21, 5, 21, 16, 7, 24, 23, 10, 12, 19, 9, 20, 6, 14, 11, 19, 25, 4, 17, 1, 5, 16, 11, 21, 24, 8, 11, 4, 2, 22, 5, 15, 22, 22, 12, 16, 3, 16, 18, 7, 1, 16, 15, 17, 8, 5, 5, 14, 6, 20, 15, 9, 23, 24, 26, 13, 10, 4, 24, 5, 2, 16, 1, 18, 18, 25, 1, 7, 19, 1, 14, 23, 1, 25, 1, 1, 8, 12, 22, 23, 1, 4, 10, 18], \"Freq\": [0.9896366674481988, 0.9981497710078584, 0.9979942128747861, 0.9994786032629571, 0.9983975332231325, 0.9997366532146504, 0.9992271440826908, 0.9999369295480617, 0.9986685148467292, 0.9952959362087755, 0.9984352314342151, 0.9993839651500165, 0.9976686884248107, 0.9930702718263167, 0.9993987338736283, 0.9984809221385195, 0.9997700591494183, 0.9902758332408502, 0.9966040171004557, 0.998027572477777, 0.9962086082923242, 0.003252546762148446, 0.9997340374414935, 0.9999298132729963, 0.9987382051338201, 0.9914414417678551, 0.9766585199569885, 0.9980762530908605, 0.9997106327861355, 0.1618416733951943, 0.8380313405823063, 0.9915601835399158, 0.9991620608003573, 0.998665027675699, 0.7538274300820925, 0.11248895166704467, 0.11964859118563259, 0.013906222911103442, 0.9992125327866825, 0.9990619146494182, 0.997170215873158, 0.9972976043560629, 0.9982822804595006, 0.999618903042252, 0.9997684066003231, 0.9981022647608685, 0.9927089058480839, 0.9978834920064513, 0.9986595325784506, 0.9979968100874125, 0.14607867561881174, 0.8530548614380992, 0.9995138824215086, 0.9989400912533467, 0.9991083164051108, 0.9945689338838059, 0.9989152092190248, 0.9973736398689866, 0.9990949593371932, 0.9952302542337951, 0.9974632175616288, 0.9995554920578357, 0.999452909274812, 0.9989305462895932, 0.9980424227573966, 0.9985553837571829, 0.9973466037452428, 0.9977978458636014, 0.9924234927371625, 0.9990861586653952, 0.996867890095132, 0.9972071113615126, 0.9983333428966243, 0.9987577089781774, 0.9995999902761231, 0.9957410697038639, 0.997195331466502, 0.9983335041961501, 0.9983456929329537, 0.9958677293369117, 0.9979789700875946, 0.9858775538189604, 0.9995223806709191, 0.9990715810671815, 0.9994805888797645, 0.9998716077493873, 0.9986580611646951, 0.9969529184936015, 0.9974262455329042, 0.9989459426608882, 0.9998556762036293, 0.9992421599788428, 0.9989045542365707, 0.9998820154295897, 0.998604654063655, 0.9965399459801002, 0.9974657896318605, 0.9947347650637006, 0.9998736402550016, 0.9981785652474853, 0.9985384050075441, 0.999159517944118, 0.9992151332002658, 0.9990562965337094, 0.9755095627827798, 0.024342364048864373, 0.9861328984241863, 0.9982697426224827, 0.9995322065503497, 0.9422087071677875, 0.05754880992447825, 0.9970015610531121, 0.9949112803627156, 0.9991994087591507, 0.9986985936064247, 0.9990341762090958, 0.9999554318873086, 0.995342086180405, 0.9979398971535673, 0.999466356261481, 0.9995751515658903, 0.9947122452378389, 0.9988037867876707, 0.9993605423871744, 0.9790915488357581, 0.9167995032684073, 0.08315805943983792, 0.9942583345419669, 0.9907903417489202, 0.9995778010244553, 0.9998806303259161, 0.9998358649519058, 0.9981999697243469, 0.9943445220086345, 0.9997565893623077, 0.9993779514490829, 0.999314700211799, 0.9984735601297163, 0.9984019528232084, 0.9979570708575963, 0.9942281496953866, 0.9963536926383695, 0.9997215054513411, 0.9993014882011596, 0.17333952732986682, 0.8259118655128949, 0.9988977571749144, 0.9977294325782669, 0.9996930206510866, 0.997991086738437, 0.99525958370711, 0.9923952427456016, 0.9949145216388985, 0.9888162250603062, 0.9995497423924593, 0.9990716436735654, 0.9991742546438122, 0.99958259734787, 0.8094128179836826, 0.1886505465536772, 0.9989973953571144, 0.9890153403105428, 0.010447345144125453, 0.9996590594095074, 0.9994353133177566, 0.9992698107938309, 0.9996547233044671, 0.9995795800613229, 0.9974865383931791, 0.999633776253696, 0.9975680641246975, 0.9991508771197832, 0.9974332221153983, 0.9967380122794434, 0.9982581238793897, 0.924965933447467, 0.011719530444473164, 0.06322168464263414, 0.9975224431083022, 0.9998098542319118, 0.994532749851114, 0.9997921543746908, 0.9971017708171335, 0.9999166676377051, 0.9994686495624225, 0.9995127131262973, 0.9998258992089032, 0.9983167809181983, 0.9998551793741625, 0.9988674941008073, 0.9968593829765476, 0.9958771552926515, 0.9930697593231349, 0.9978025691811574, 0.9980904950742256, 0.9986011331772641, 0.9965773171262053, 0.9993212426059309, 0.9998668365245377, 0.9996122060443263, 0.9892833457712856, 0.9989204461896982, 0.9960032106397976, 0.9996442227152208, 0.9989571767829949, 0.9996529729045355, 0.9983709852404169, 0.9963375359440972, 0.9887461346885406, 0.997901667817956, 0.9987977812558719, 0.998748088881226, 0.9918085772227102, 0.9976114301123777, 0.998569180754078, 0.9904785441312645, 0.996777100215553, 0.9964363046801634, 0.9998211359578612, 0.9997950525641215, 0.9978876691506308, 0.9982909992824137, 0.9996667923150787, 0.9993981803611831, 0.999704564642723, 0.9983957705434758, 0.998767899170858, 0.9982345353651245, 0.9397318350337736, 0.9993869095056878, 0.9993603268522874, 0.9972526517781707, 0.9970188386842855, 0.9992341441730198, 0.9994615846920244, 0.9986890349079494, 0.9990439572396975, 0.9985201228676006, 0.9983638131814082, 0.9977082237720911, 0.9984623098631293, 0.9982675663377963, 0.9967501985181334, 0.9353183764850455, 0.9997362395712944, 0.9997355201188902, 0.9979375616545899, 0.99955519435328, 0.9994505064656615, 0.9868108136652306, 0.9960831571686174, 0.999628320306791, 0.9981349805757483, 0.9976902799401628, 0.9923805087938575, 0.9981400959551365, 0.9988660988364508, 0.9987301598119477, 0.9985636316804899, 0.999950619837098, 0.996643665223826, 0.9977854899368932, 0.9996898267689294, 0.9873745294565919, 0.9973997546925857, 0.9991212850734762, 0.9965957417948481, 0.003277967386788806, 0.8956536134779656, 0.10395574125010346, 0.999435264516182, 0.9997840265366711, 0.9982051485832866, 0.9994825568426338, 0.9985083711529247, 0.9955478462003055, 0.9993227509359122, 0.9985300835985121, 0.9990342688097702, 0.9976879988881242, 0.997610792321223, 0.9981055848424024, 0.999775758192025, 0.9962312650044034, 0.9996276641781134, 0.9991103896150787, 0.9993750717934382, 0.9998001146697557, 0.9999541675157056, 0.9979064944979599, 0.9979251716120413, 0.9992964970193393, 0.8548558812763463, 0.14508499599820793, 0.9989678591713486, 0.14827120512811162, 0.8508272892398182, 0.9983488164338147, 0.9997794266616375, 0.9578178883533929, 0.9995394907217384, 0.9980778132058533, 0.9985108147158572, 0.9996714658751845, 0.9886690892807931, 0.008071469028347624, 0.0031770675962644905, 0.9977403280991064, 0.9953813628304198, 0.9989129811154189, 0.9988153721440263, 0.9959640670818648, 0.9997413618855235, 0.9997161021351723, 0.99947070042407, 0.9993514688156632, 0.9972950787223932, 0.9960260447497268, 0.9994888483688187, 0.9999467601444678, 0.9981225706012067, 0.9695051350422935, 0.9999505922018846, 0.9783508939499805, 0.9998227395777429, 0.9998924693635759, 0.9998848924526024, 0.9993257442962159, 0.9991151021900707, 0.9968300263385608, 0.9994957879611099, 0.9987567740572126, 0.992948568938084, 0.9983180615364607, 0.99669205184608, 0.9147996055368007, 0.6130891198685781, 0.3864839818137049, 0.9254032347611275, 0.0033066986438631406, 0.07085782808278158, 0.9990351788431283, 0.9990784885627473, 0.993174769354636, 0.9994743430369439, 0.9996334035096923, 0.9949577533976791, 0.9935804969191199, 0.9991178924993415, 0.9957045762347497, 0.9966538399326826, 0.9964424678927244, 0.9995287949736826, 0.9979896429312745, 0.9968896725432744, 0.9994625122796765, 0.9979825982389834, 0.7223741374173974, 0.27738665952837943, 0.9997872760818861, 0.9995295944944167, 0.9998659155159112, 0.9990358914156268, 0.9996178086788466, 0.9936778031674813, 0.9991558973620394, 0.9958816198599133, 0.9920681335281574, 0.9998183444224341, 0.9954653086552945, 0.9921297455580944, 0.9826945333462389, 0.992274304330828, 0.9617488813183567, 0.03770673460057799, 0.9995219155108865, 0.9998920719282777, 0.9963250248173255, 0.9998050547763858, 0.9882258476795944, 0.9923341084558811, 0.9997497315667545, 0.9996953581520525, 0.9993576752135369, 0.9974359241025239, 0.9920889156508925, 0.9990711541894243, 0.998311149911942, 0.997656979038941, 0.9977931790971281, 0.9981927465927102, 0.9936944347461282, 0.9973365025538428, 0.9997695472384683, 0.9992488590545883, 0.9996066001774967, 0.9996483800143235, 0.9993331435972156, 0.9963013810085498, 0.9998867797428685, 0.9993069923277097, 0.9992595070397308, 0.9983493491789628, 0.9986174287078787, 0.9916965825426539, 0.9843327863175229, 0.7303129381069727, 0.0098175002882192, 0.011453750336255734, 0.24816459061887422, 0.9997872767804009, 0.9975186939164188, 0.9998163961079785, 0.9974180221647463, 0.9996823963849856, 0.9983000313575013, 0.9991393883080091, 0.9991898616491588, 0.9996713635840982, 0.9996563433311441, 0.9950799342480031, 0.9998399001222334, 0.9951555614844109, 0.9933349342977897, 0.9990714719845111, 0.4423039559531762, 0.5573912046916726, 0.9976835779557416, 0.9975882185732363, 0.9991490803011044, 0.9985250859327182, 0.9984257448728503, 0.9985049760704883, 0.9994535244557982, 0.9992811865421323, 0.998990270131864, 0.8993987061563834, 0.10029526634674646, 0.9995306244536886, 0.9995872780092206, 0.9999312348638443, 0.9918199697682544, 0.9995365747985371, 0.996193520658469, 0.9998677011200447, 0.9976090783254681, 0.9996268460842652, 0.9904325337942088, 0.9995648589153149, 0.9990611458993524, 0.9962491251705787, 0.9992929627618815, 0.9980024489033561, 0.00046861556283911795, 0.02061908476492119, 0.9784692952080783, 0.9998718103904061, 0.9995622761474737, 0.9981265379439429, 0.9956541049490202, 0.003779598012279361, 0.9953238858026893, 0.9970533764873472, 0.4111694000764618, 0.2144021025229406, 0.27535046355760046, 0.022275543119266553, 0.0764174882008172, 0.9500439525942888, 0.9984004835618923, 0.9936021338467287, 0.9907691778329232, 0.9999022144865084, 0.9964797942713378, 0.9990236334416908, 0.9996269962316101, 0.9985057585519426, 0.9990334565804893, 0.9994056418995877, 0.9978812584667456, 0.9995686559186212, 0.9962047136480509, 0.9988975618616404, 0.9989606906712515, 0.9991693945628433, 0.9997682006074943, 0.9951447299537179, 0.99991529685894, 0.9937659357648952, 0.9963694360307942, 0.9971454595712043, 0.9995737446658541, 0.9968765837921323, 0.999861237250123, 0.9986069104177282, 0.9988190718386014, 0.9977405131039957, 0.05650209302353272, 0.942733552091272, 0.92167951526714, 0.9987477613703644, 0.8603847757802247, 0.9987304114494326, 0.9999600172608155, 0.9992354570179519, 0.9630466429616238, 0.9952332342288858, 0.9998464119251916, 0.9998283848780901, 0.9983626371453055, 0.9999654172701685, 0.9925281808283754, 0.9993900097660502, 0.9901848510302187, 0.9983528221146895, 0.9994519938821934, 0.9994581016392313, 0.9988512086450421, 0.9940003780110873, 0.9997012838084187, 0.6453920207873957, 0.35440602297573753, 0.9945784381060115, 0.9997459838822674, 0.99989587463685, 0.9973596162820445, 0.9973362696055097, 0.9790945963986039, 0.9933726350516052, 0.9952455954666038, 0.9992014283123484, 0.9936816248957722, 0.9997750756971124, 0.9987382158436263, 0.9919066664537302, 0.9998765641215493, 0.9937730177440279, 0.6916367069285886, 0.30778847588391, 0.9987152489471179, 0.9990731387082707, 0.9988603370501956, 0.9993968066023169, 0.9997626560627666, 0.9842500710562846, 0.9962947098025265, 0.9991774748133243, 0.9945815356284788, 0.9997494479892359, 0.9984405367251735, 0.9997999644525691, 0.9967360355945865, 0.9969711519403528, 0.9926825644364441, 0.9982431151421872, 0.9995188635011769, 0.9990822928262336, 0.9981392428931445, 0.979994737097032, 0.999229356868964, 0.9982852050313475, 0.9995955067846352, 0.999798507681505, 0.9991582405588021, 0.9994038946123656, 0.9943854717440809, 0.9907781362520026, 0.9792252114064628, 0.9993089243942368, 0.9982434322835226, 0.9956235901433513, 0.9997172875491814, 0.9969071369355452, 0.9973827081133149, 0.9996353451126568, 0.9971014516279137, 0.9996070732630704, 0.999393107874825, 0.9984089296060192, 0.9949648748888504, 0.9994514038352578, 0.9910774934644626, 0.9994032461108735, 0.9997935539338515, 0.9996756214139637, 0.9972557310683136, 0.9955849204245727, 0.9888969565677167, 0.9988572767674995, 0.9842604366129644, 0.9860997845839953, 0.9959923731103941, 0.9979649848253822, 0.9989909247527728, 0.9993090815283003, 0.997545424847885, 0.9910272353010416, 0.9567125970323487, 0.9893469549588638, 0.9998098895764121, 0.999764335521002, 0.9763759811483463, 0.02345554086679243, 0.9951732825036644, 0.9982213565464154, 0.9984470251294736, 0.9995898505688168, 0.9949516049985884, 0.9959050449304919, 0.9998952245245875, 0.9994079588204526, 0.9994971074134024, 0.9984775811654202, 0.99890149392544, 0.9997708224688308, 0.990939728982628, 0.9960829283261725, 0.9993396488339397, 0.9992373750904934, 0.9998882540807883, 0.9993959265590007, 0.988930517338702, 0.9981267704555695, 0.8662744664287628, 0.9991048382949451, 0.9996130502363482, 0.9997077849930942, 0.9998213330766568, 0.9986052914472814, 0.9975759052546954, 0.9844177115880466, 0.9994216794625665, 0.9990935537125741, 0.9993630024186885, 0.9932299389015874, 0.9964010450122498, 0.999686519693846, 0.9901052288399813, 0.9998768715875372, 0.9955068241247498, 0.991529740995675, 0.997575196189402, 0.9995488351557317, 0.34833554581856285, 0.6503451366945036, 0.9977665194496884, 0.9981678045798164, 0.9985074079254928, 0.9983370815160499, 0.9971355563154568, 0.9960546141284935, 0.9942110981498522, 0.9969194109349732, 0.9776490811934815, 0.022093764546745345, 0.9911685582005861, 0.9975388303223108, 0.9951706915462623, 0.9961949796122962, 0.9981927017835864, 0.9959811885816631, 0.999330771658419, 0.9981475700404672, 0.9995645621308198, 0.9997466588083639, 0.9737713794772604, 0.998573068672109, 0.9994225568757169, 0.9983408538156936, 0.9996691364496954, 0.9998238467960454, 0.9997289589615018, 0.9998393076735108, 0.997348898474752, 0.9995413628841008, 0.9995756963436642, 0.997666391515408, 0.9998049263151833, 0.9054119914034807, 0.0944783503532414, 0.9960103215358815, 0.9997565319686714, 0.9950840201416383, 0.9995316326781069, 0.9991673428146589, 0.519507770613734, 0.003969272854127406, 0.29862941061346776, 0.17783898964080633, 0.9957700038500094, 0.9986479428511242, 0.992617938949312, 0.9997959204538592, 0.9977185238486853, 0.9984884288977852, 0.9995296439618222, 0.999795108414667, 0.9998023782920163, 0.9998467098392517, 0.9998491885064466, 0.9997660198305616, 0.9963276940404088, 0.9996187782778577, 0.999513496473598, 0.991091216657149, 0.9992150484905772, 0.9983727148907201, 0.998763602183279, 0.9998490484132533, 0.9997702833739345, 0.9989168862715154, 0.999937866742365, 0.9894571309997244, 0.9992374703025384, 0.9987696689157115, 0.998272389423763, 0.9997672177042242, 0.19319942155787917, 0.8051516563488648, 0.9992156039849402, 0.9996106718069916, 0.9993720537546164, 0.9984266478695331, 0.9996645251142102, 0.9989480958108451, 0.9996644110091091, 0.9982134041814258, 0.9991413415580914, 0.9994227097122517, 0.9991735600051906, 0.9984091514433294, 0.9988513027086464, 0.9988707354378262, 0.9984836572350394, 0.9954284477757948, 0.9997020329381193, 0.9988508493234491, 0.9991064148213638, 0.9470665597365365, 0.052668170749378046, 0.9997099790022286, 0.9995652593994411, 0.9995904695725913, 0.9995186492457739, 0.9919732414515483, 0.9407815565468105, 0.058903038980485475, 0.9993260244480241, 0.9971703219201501, 0.9995086474084632, 0.9878848210736204, 0.9969274484597346, 0.99523047278692, 0.9990562775554753, 0.9493076801812813, 0.999942753010953, 0.989706990417281, 0.998683556143132, 0.9992480329038524, 0.9969672488345955, 0.9996350362525159, 0.9990847818673263, 0.9992070579599611, 0.9923149610158156, 0.9976263742581315, 0.9911866263167701, 0.9992833043104494, 0.9989046401840431, 0.9997542992332856, 0.9991681118055149, 0.9989423809497396, 0.9993388762120131, 0.9998855434417401, 0.9985383744337951, 0.9998120559441938, 0.9996774983545703, 0.9991463186596022, 0.9993285128480281, 0.7165542531292871, 0.9965568216041687, 0.9318991925922279, 0.05203201263532515, 0.015784992597233472, 0.997110957561604, 0.9996073586651524, 0.9904339196843783, 0.9941593233959427, 0.9999143167164359, 0.9980446663182644, 0.9998820437563711, 0.9985236827000059, 0.9997422273073865, 0.9997185926783735, 0.996818764023168, 0.9976517448102724, 0.9888631746698195, 0.9996131561834245, 0.9990746283783849, 0.9998310243200466, 0.9977556234568408, 0.9956836019429046, 0.9991258694750839, 0.9995285562728105, 0.9981542357546901, 0.9987371829121604, 0.9968763264606639, 0.9972885930083514, 0.9986463046107894, 0.9941640928095121, 0.9974535338495416, 0.04263912489763725, 0.9571936884072156, 0.9982209378703426, 0.0016982735606008987, 0.9983504092800134, 0.999904801839387, 0.9943491362237832, 0.9919893967593311, 0.9918241621767785, 0.9932177330917916, 0.9985999438945435, 0.9995831854082196, 0.9973545260951662, 0.9913106117704658, 0.9965398393104092, 0.9929054365702605, 0.9931738539500307, 0.9968648894621903, 0.9980483071582918, 0.9997868138222186, 0.9985377599117103, 0.9983366491832864, 0.9994314861704445, 0.9999691261322906, 0.9988188013925808, 0.9999413604357839, 0.9922083018347303, 0.9989811597769401, 0.9974650407383341, 0.9971362892857653, 0.9984617814765154, 0.9998988953049228, 0.9808797024293487, 0.999815696275785, 0.9923462581549245, 0.9996229329865843, 0.9977865876111309, 0.9982340275298671, 0.9939153903590568, 0.9998537882164238, 0.9998222930704374, 0.99768688268267, 0.9993746415545967, 0.9995598704213645, 0.998615535198345, 0.9999384784635115, 0.9988764760590606, 0.9992453149105008, 0.9968673274766781, 0.9999447732896273, 0.9997577566137553, 0.9938490460534615, 0.9996768106784253, 0.9990512064101799, 0.9997004414310345, 0.9997632815061941, 0.9645424445870319, 0.9999336425055338, 0.7943663855965387, 0.20451970375433273, 0.9983412743155831, 0.989861518722455, 0.9988470066352715, 0.999831112551464, 0.26341797897958186, 0.7357944895991466, 0.9988414215708302], \"Term\": [\"absolutely\", \"abstract\", \"accord\", \"action\", \"active\", \"activity\", \"actually\", \"add\", \"address\", \"ago\", \"ajax\", \"alert\", \"algorithm\", \"alia\", \"allow\", \"almost\", \"also\", \"alt\", \"alter\", \"alternative\", \"always\", \"always\", \"amp\", \"android\", \"annotation\", \"anonymous\", \"ant\", \"apache\", \"api\", \"app\", \"app\", \"apparently\", \"appear\", \"apple\", \"application\", \"application\", \"application\", \"application\", \"apply\", \"approach\", \"apt\", \"area\", \"args\", \"argument\", \"array\", \"article\", \"ascii\", \"assembly\", \"assign\", \"attach\", \"attr\", \"attr\", \"attribute\", \"author\", \"auto\", \"automatic\", \"avoid\", \"aware\", \"back\", \"backup\", \"bad\", \"bar\", \"bash\", \"basic\", \"batch\", \"bean\", \"become\", \"begin\", \"behave\", \"behavior\", \"best_practice\", \"beta\", \"big\", \"bind\", \"block\", \"blue\", \"bool\", \"boolean\", \"bottom\", \"bound\", \"box\", \"bracket\", \"branch\", \"break\", \"browser\", \"build\", \"builder\", \"building\", \"builtin\", \"bundle\", \"button\", \"byte\", \"cache\", \"call\", \"callback\", \"camera\", \"card\", \"carry\", \"case\", \"cast\", \"catch\", \"cause\", \"cell\", \"center\", \"change\", \"change\", \"chapter\", \"char\", \"character\", \"check\", \"check\", \"checkbox\", \"checkout\", \"child\", \"choose\", \"chrome\", \"class\", \"clause\", \"clean\", \"click\", \"client\", \"clock\", \"clone\", \"close\", \"closing\", \"code\", \"code\", \"collect\", \"colon\", \"color\", \"column\", \"com\", \"com_apk\", \"combine\", \"command\", \"comment\", \"common\", \"company\", \"compare\", \"comparison\", \"compatible\", \"compilation\", \"compile\", \"compiler\", \"complete\", \"complete\", \"completely\", \"complex\", \"component\", \"computer\", \"concat\", \"concatenate\", \"concern\", \"conditional\", \"configuration\", \"configure\", \"connect\", \"connection\", \"constraint\", \"constraint\", \"constructor\", \"contain\", \"contain\", \"content\", \"context\", \"control\", \"controller\", \"convert\", \"cookie\", \"copy\", \"correspond\", \"course\", \"cover\", \"cpp\", \"crash\", \"create\", \"create\", \"create\", \"creation\", \"css\", \"curious\", \"current\", \"cycle\", \"d\", \"data\", \"database\", \"date\", \"datetime\", \"datum\", \"day\", \"db\", \"deal\", \"debugger\", \"decimal\", \"declaration\", \"declare\", \"decode\", \"def\", \"default\", \"define\", \"definitely\", \"definition\", \"delay\", \"delete\", \"depend\", \"dependency\", \"deprecate\", \"depth\", \"descendant\", \"desktop\", \"detect\", \"determine\", \"diagram\", \"dict\", \"dictionary\", \"die\", \"diff\", \"differ\", \"difference\", \"different\", \"direct\", \"directive\", \"directory\", \"disable\", \"display\", \"div\", \"django\", \"doc\", \"doctype\", \"document\", \"documentation\", \"dom\", \"domain\", \"double\", \"download\", \"drop\", \"due\", \"duplicate\", \"dynamic\", \"dynamically\", \"eclipse\", \"editor\", \"efficient\", \"effort\", \"element\", \"else\", \"embed\", \"empty\", \"enable\", \"enclose\", \"encoding\", \"end\", \"engine\", \"enough\", \"entirely\", \"entity\", \"entry\", \"equal\", \"equivalent\", \"error\", \"escape\", \"evaluate\", \"event\", \"event_handler\", \"exact\", \"exactly\", \"example\", \"example\", \"exception\", \"exception\", \"execute\", \"exist\", \"exit\", \"expect\", \"explanation\", \"explicit\", \"export\", \"expression\", \"extension\", \"external\", \"extract\", \"face\", \"fail\", \"failure\", \"false\", \"fast\", \"feature\", \"field\", \"file\", \"filename\", \"fill\", \"final\", \"find\", \"find\", \"fine\", \"finish\", \"finish\", \"fire\", \"first\", \"first_occurrence\", \"fix\", \"flag\", \"float\", \"folder\", \"follow\", \"follow\", \"follow\", \"font\", \"font_size\", \"foo\", \"foreach\", \"forget\", \"form\", \"format\", \"frame\", \"framework\", \"free\", \"friend\", \"full\", \"function\", \"general\", \"generics\", \"get\", \"getbyte\", \"git\", \"give\", \"go\", \"google\", \"great\", \"grep\", \"group\", \"guess\", \"gui\", \"guide\", \"hand\", \"handful\", \"handle\", \"handle\", \"happen\", \"happen\", \"happen\", \"hash\", \"head\", \"hear\", \"height\", \"help\", \"helper\", \"hibernate\", \"hide\", \"hierarchy\", \"high\", \"hit\", \"home\", \"hope\", \"horizontal\", \"host\", \"hour\", \"however\", \"however\", \"html\", \"http\", \"i\", \"icon\", \"idea\", \"ienumerable\", \"ignore\", \"iis\", \"illustrate\", \"image\", \"immediately\", \"immutable\", \"impact\", \"impl\", \"implement\", \"implement\", \"implementation\", \"import\", \"important\", \"include\", \"indent\", \"indentation\", \"index\", \"info\", \"information\", \"inherit\", \"inheritance\", \"init\", \"init_py\", \"initial\", \"initialization\", \"initialize\", \"initializer\", \"inline\", \"input\", \"insert\", \"instal\", \"install\", \"instance\", \"instantiate\", \"int\", \"integer\", \"interface\", \"introduce\", \"invoke\", \"ip\", \"iso\", \"issue\", \"issue\", \"issue\", \"issue\", \"item\", \"iterate\", \"java\", \"javadoc\", \"javascript\", \"job\", \"join\", \"jquery\", \"json\", \"key\", \"kill\", \"know\", \"knowledge\", \"lack\", \"language\", \"last\", \"last\", \"later\", \"layer\", \"layout\", \"layout_height\", \"layout_width\", \"least\", \"leave\", \"length\", \"less\", \"let\", \"let\", \"level\", \"library\", \"line\", \"linear\", \"link\", \"linq\", \"list\", \"literal\", \"load\", \"loc\", \"local\", \"localhost\", \"locally\", \"location\", \"lock\", \"log\", \"log\", \"log\", \"look\", \"loop\", \"lose\", \"lot\", \"lot\", \"love\", \"low\", \"lt\", \"lt\", \"lt\", \"lt\", \"lt\", \"m\", \"magic\", \"mail\", \"mainly\", \"make\", \"manifest\", \"manually\", \"map\", \"margin\", \"master\", \"match\", \"matter\", \"mean\", \"medium\", \"member\", \"memory\", \"merge\", \"message\", \"metadata\", \"method\", \"migrate\", \"mind\", \"minute\", \"model\", \"modifier\", \"module\", \"moment\", \"mongodb\", \"month\", \"move\", \"move\", \"msg_level\", \"much\", \"mydict\", \"mysql\", \"name\", \"namespace\", \"naturally\", \"navigation\", \"need\", \"net\", \"network\", \"new\", \"newinstance\", \"next\", \"nicely\", \"nil\", \"non\", \"none\", \"normal\", \"normally\", \"npm\", \"null\", \"null\", \"nullable\", \"number\", \"object\", \"obvious\", \"obviously\", \"occasionally\", \"occurrence\", \"offset\", \"old\", \"omit\", \"open\", \"operator\", \"oppose\", \"option\", \"oracle\", \"order\", \"order\", \"org\", \"org_apache\", \"origin\", \"original\", \"output\", \"overall\", \"overload\", \"override\", \"overwrite\", \"package\", \"padding\", \"page\", \"pair\", \"panel\", \"parallel\", \"param\", \"parameter\", \"parse\", \"parser\", \"parsing\", \"part\", \"particular\", \"pass\", \"path\", \"pattern\", \"people\", \"perhaps\", \"perl\", \"persistence\", \"person\", \"phone\", \"photo\", \"php\", \"picture\", \"piece\", \"place\", \"plain\", \"plugin\", \"point\", \"pointer\", \"pool\", \"port\", \"portion\", \"position\", \"possible\", \"post\", \"postgre\", \"postgresql\", \"powerful\", \"prefer\", \"preferably\", \"preferred\", \"prefix\", \"present\", \"pretty\", \"previous\", \"previously\", \"primary\", \"primary_key\", \"principle\", \"print\", \"private\", \"problem\", \"problem\", \"processing\", \"produce\", \"product\", \"program\", \"programmer\", \"programming\", \"project\", \"promise\", \"prop\", \"proper\", \"properly\", \"property\", \"pros_con\", \"protect\", \"provide\", \"provider\", \"public\", \"pull\", \"purely\", \"purpose\", \"putty\", \"px\", \"python\", \"query\", \"question\", \"quick\", \"quickly\", \"quit\", \"rail\", \"random\", \"range\", \"razor\", \"reach\", \"react\", \"react_component\", \"read\", \"readline\", \"ready\", \"real\", \"reason\", \"receive\", \"receive\", \"recent_call\", \"recently\", \"record\", \"redirect\", \"reduce\", \"ref\", \"refactor\", \"refer\", \"reference\", \"reference\", \"reflection\", \"regex\", \"registry\", \"regular_expression\", \"relate\", \"relative\", \"release\", \"remember\", \"remote\", \"remove\", \"removeclass\", \"rename\", \"render\", \"repeat\", \"replace\", \"repository\", \"request\", \"require\", \"requirement\", \"resource\", \"response\", \"rest\", \"result\", \"return\", \"return\", \"revert\", \"right\", \"round\", \"row\", \"ruby\", \"run\", \"run\", \"run\", \"run\", \"running\", \"runtime\", \"safari\", \"say\", \"scale\", \"schema\", \"screen\", \"script\", \"search\", \"see\", \"seem\", \"select\", \"selector\", \"self\", \"send\", \"sender\", \"separate\", \"sequence\", \"serve\", \"server\", \"service\", \"session\", \"set\", \"setter\", \"setting\", \"share\", \"shell\", \"show\", \"side\", \"side\", \"sign\", \"simple\", \"simply\", \"situation\", \"size\", \"slow\", \"solution\", \"sometimes\", \"sort\", \"source\", \"space\", \"specifically\", \"spring\", \"sql\", \"sql_server\", \"square\", \"src\", \"stack\", \"standard\", \"start\", \"start\", \"state\", \"statement\", \"static\", \"status\", \"std_vector\", \"still\", \"still\", \"stop\", \"storage\", \"store\", \"stored_procedure\", \"str\", \"strategy\", \"stream\", \"strike\", \"string\", \"strip\", \"strong\", \"structure\", \"struggle\", \"studio\", \"stuff\", \"submit\", \"substre\", \"successful\", \"sudo\", \"suggest\", \"sum\", \"support\", \"suppose\", \"switch\", \"syntax\", \"system\", \"tab\", \"table\", \"tag\", \"target\", \"task\", \"tdd\", \"team\", \"tell\", \"tell\", \"tell\", \"temp\", \"template\", \"temporary\", \"ternary_operator\", \"test\", \"testing\", \"text\", \"textview\", \"thing\", \"think\", \"third\", \"thought\", \"thousand\", \"thread\", \"throw\", \"time\", \"timeout\", \"tip\", \"tool\", \"top\", \"tostre\", \"total\", \"traceback\", \"track\", \"transaction\", \"trick\", \"trigger\", \"true\", \"true\", \"try\", \"try\", \"turn\", \"type\", \"typeerror\", \"typical\", \"typically\", \"ugly\", \"ui\", \"understand\", \"unfortunately\", \"unicode\", \"unit\", \"unit_test\", \"unit_teste\", \"unix\", \"unknown\", \"update\", \"upgrade\", \"upload\", \"url\", \"use\", \"useful\", \"user\", \"username_password\", \"usr_local\", \"utf\", \"util\", \"valid\", \"value\", \"valueof\", \"var\", \"varchar\", \"variable\", \"various\", \"vector\", \"vendor\", \"version\", \"view\", \"vim\", \"visual_studio\", \"void\", \"wait\", \"want\", \"warn\", \"warning\", \"watch\", \"way\", \"web\", \"welcome\", \"well\", \"whole\", \"width\", \"window\", \"wise\", \"work\", \"working\", \"working\", \"works_fine\", \"worth\", \"wrapper\", \"write\", \"xml\", \"xml\", \"year\"]}, \"R\": 30, \"lambda.step\": 0.01, \"plot.opts\": {\"xlab\": \"PC1\", \"ylab\": \"PC2\"}, \"topic.order\": [15, 20, 12, 4, 22, 9, 21, 25, 27, 6, 2, 14, 5, 23, 8, 13, 26, 24, 1, 3, 17, 11, 18, 10, 7, 16, 19]};\n",
       "\n",
       "function LDAvis_load_lib(url, callback){\n",
       "  var s = document.createElement('script');\n",
       "  s.src = url;\n",
       "  s.async = true;\n",
       "  s.onreadystatechange = s.onload = callback;\n",
       "  s.onerror = function(){console.warn(\"failed to load library \" + url);};\n",
       "  document.getElementsByTagName(\"head\")[0].appendChild(s);\n",
       "}\n",
       "\n",
       "if(typeof(LDAvis) !== \"undefined\"){\n",
       "   // already loaded: just create the visualization\n",
       "   !function(LDAvis){\n",
       "       new LDAvis(\"#\" + \"ldavis_el137617964544910729346967602\", ldavis_el137617964544910729346967602_data);\n",
       "   }(LDAvis);\n",
       "}else if(typeof define === \"function\" && define.amd){\n",
       "   // require.js is available: use it to load d3/LDAvis\n",
       "   require.config({paths: {d3: \"https://d3js.org/d3.v5\"}});\n",
       "   require([\"d3\"], function(d3){\n",
       "      window.d3 = d3;\n",
       "      LDAvis_load_lib(\"https://cdn.jsdelivr.net/gh/bmabey/pyLDAvis@3.3.1/pyLDAvis/js/ldavis.v3.0.0.js\", function(){\n",
       "        new LDAvis(\"#\" + \"ldavis_el137617964544910729346967602\", ldavis_el137617964544910729346967602_data);\n",
       "      });\n",
       "    });\n",
       "}else{\n",
       "    // require.js not available: dynamically load d3 & LDAvis\n",
       "    LDAvis_load_lib(\"https://d3js.org/d3.v5.js\", function(){\n",
       "         LDAvis_load_lib(\"https://cdn.jsdelivr.net/gh/bmabey/pyLDAvis@3.3.1/pyLDAvis/js/ldavis.v3.0.0.js\", function(){\n",
       "                 new LDAvis(\"#\" + \"ldavis_el137617964544910729346967602\", ldavis_el137617964544910729346967602_data);\n",
       "            })\n",
       "         });\n",
       "}\n",
       "</script>"
      ],
      "text/plain": [
       "PreparedData(topic_coordinates=              x         y  topics  cluster       Freq\n",
       "topic                                                \n",
       "14     0.343266  0.100252       1        1  27.324680\n",
       "19     0.204897 -0.299193       2        1   9.211716\n",
       "11     0.036270 -0.101558       3        1   4.480825\n",
       "3      0.047327  0.039695       4        1   3.789259\n",
       "21     0.153957  0.062735       5        1   3.609363\n",
       "8     -0.023792 -0.030362       6        1   3.482767\n",
       "20     0.048227  0.046575       7        1   3.368605\n",
       "24     0.017778 -0.008704       8        1   3.278440\n",
       "26     0.056514 -0.094853       9        1   3.251619\n",
       "5      0.105180  0.214282      10        1   3.136366\n",
       "1     -0.030318 -0.010609      11        1   2.912654\n",
       "13     0.039061  0.188070      12        1   2.841510\n",
       "4     -0.042879 -0.014018      13        1   2.734960\n",
       "22    -0.050435  0.000541      14        1   2.589654\n",
       "7     -0.000961 -0.162845      15        1   2.351743\n",
       "12    -0.057440  0.028271      16        1   2.335872\n",
       "25    -0.053738  0.007379      17        1   2.302992\n",
       "23    -0.018712 -0.098395      18        1   2.190826\n",
       "0     -0.064873  0.004658      19        1   2.162103\n",
       "2     -0.058696  0.011178      20        1   1.965456\n",
       "16    -0.047521  0.064856      21        1   1.845436\n",
       "10    -0.084032  0.008220      22        1   1.817469\n",
       "17    -0.097180  0.010507      23        1   1.621216\n",
       "9     -0.094822  0.011439      24        1   1.546704\n",
       "6     -0.094358  0.010035      25        1   1.391293\n",
       "15    -0.114060  0.003471      26        1   1.378391\n",
       "18    -0.118661  0.008376      27        1   1.078081, topic_info=               Term          Freq         Total Category  logprob  loglift\n",
       "68             file  24296.000000  24296.000000  Default  30.0000  30.0000\n",
       "212           class  19286.000000  19286.000000  Default  29.0000  29.0000\n",
       "313           error  19807.000000  19807.000000  Default  28.0000  28.0000\n",
       "46           string  18411.000000  18411.000000  Default  27.0000  27.0000\n",
       "11              use  47816.000000  47816.000000  Default  26.0000  26.0000\n",
       "...             ...           ...           ...      ...      ...      ...\n",
       "652         bracket     87.159089     88.246253  Topic27  -5.5188   4.5176\n",
       "1187  event_handler     80.948576     82.035740  Topic27  -5.5928   4.5166\n",
       "1418        closing     46.916519     48.003683  Topic27  -6.1382   4.5071\n",
       "1196       generics     31.919366     33.006530  Topic27  -6.5234   4.4965\n",
       "607       implement     82.957721   2201.198297  Topic27  -5.5682   1.2516\n",
       "\n",
       "[912 rows x 6 columns], token_table=      Topic      Freq        Term\n",
       "term                             \n",
       "1049     23  0.989637  absolutely\n",
       "1706     26  0.998150    abstract\n",
       "1406     14  0.997994      accord\n",
       "1041      9  0.999479      action\n",
       "832      17  0.998398      active\n",
       "...     ...       ...         ...\n",
       "1058     23  0.998847     wrapper\n",
       "155       1  0.999831       write\n",
       "352       4  0.263418         xml\n",
       "352      10  0.735794         xml\n",
       "1138     18  0.998841        year\n",
       "\n",
       "[877 rows x 3 columns], R=30, lambda_step=0.01, plot_opts={'xlab': 'PC1', 'ylab': 'PC2'}, topic_order=[15, 20, 12, 4, 22, 9, 21, 25, 27, 6, 2, 14, 5, 23, 8, 13, 26, 24, 1, 3, 17, 11, 18, 10, 7, 16, 19])"
      ]
     },
     "execution_count": 19,
     "metadata": {},
     "output_type": "execute_result"
    }
   ],
   "source": [
    "# Visualize the topics\n",
    "pyLDAvis.enable_notebook()\n",
    "vis = pyLDAvis.gensim_models.prepare(optimal_model, corpus, id2word)\n",
    "vis"
   ]
  },
  {
   "cell_type": "markdown",
   "id": "ce56d399",
   "metadata": {},
   "source": [
    "**Word Cloud of Top N words in each topic**"
   ]
  },
  {
   "cell_type": "code",
   "execution_count": 20,
   "id": "6785eb4a",
   "metadata": {
    "ExecuteTime": {
     "end_time": "2021-08-14T12:55:47.426685Z",
     "start_time": "2021-08-14T12:55:38.474105Z"
    }
   },
   "outputs": [
    {
     "ename": "IndexError",
     "evalue": "list index out of range",
     "output_type": "error",
     "traceback": [
      "\u001b[1;31m---------------------------------------------------------------------------\u001b[0m",
      "\u001b[1;31mIndexError\u001b[0m                                Traceback (most recent call last)",
      "\u001b[1;32mC:\\Users\\ELISEA~1\\AppData\\Local\\Temp/ipykernel_1376/2001013033.py\u001b[0m in \u001b[0;36m<module>\u001b[1;34m\u001b[0m\n\u001b[0;32m     20\u001b[0m \u001b[1;32mfor\u001b[0m \u001b[0mi\u001b[0m\u001b[1;33m,\u001b[0m \u001b[0max\u001b[0m \u001b[1;32min\u001b[0m \u001b[0menumerate\u001b[0m\u001b[1;33m(\u001b[0m\u001b[0maxes\u001b[0m\u001b[1;33m.\u001b[0m\u001b[0mflatten\u001b[0m\u001b[1;33m(\u001b[0m\u001b[1;33m)\u001b[0m\u001b[1;33m)\u001b[0m\u001b[1;33m:\u001b[0m\u001b[1;33m\u001b[0m\u001b[1;33m\u001b[0m\u001b[0m\n\u001b[0;32m     21\u001b[0m     \u001b[0mfig\u001b[0m\u001b[1;33m.\u001b[0m\u001b[0madd_subplot\u001b[0m\u001b[1;33m(\u001b[0m\u001b[0max\u001b[0m\u001b[1;33m)\u001b[0m\u001b[1;33m\u001b[0m\u001b[1;33m\u001b[0m\u001b[0m\n\u001b[1;32m---> 22\u001b[1;33m     \u001b[0mtopic_words\u001b[0m \u001b[1;33m=\u001b[0m \u001b[0mdict\u001b[0m\u001b[1;33m(\u001b[0m\u001b[0mtopics\u001b[0m\u001b[1;33m[\u001b[0m\u001b[0mi\u001b[0m\u001b[1;33m]\u001b[0m\u001b[1;33m[\u001b[0m\u001b[1;36m1\u001b[0m\u001b[1;33m]\u001b[0m\u001b[1;33m)\u001b[0m\u001b[1;33m\u001b[0m\u001b[1;33m\u001b[0m\u001b[0m\n\u001b[0m\u001b[0;32m     23\u001b[0m     \u001b[0mcloud\u001b[0m\u001b[1;33m.\u001b[0m\u001b[0mgenerate_from_frequencies\u001b[0m\u001b[1;33m(\u001b[0m\u001b[0mtopic_words\u001b[0m\u001b[1;33m,\u001b[0m \u001b[0mmax_font_size\u001b[0m\u001b[1;33m=\u001b[0m\u001b[1;36m300\u001b[0m\u001b[1;33m)\u001b[0m\u001b[1;33m\u001b[0m\u001b[1;33m\u001b[0m\u001b[0m\n\u001b[0;32m     24\u001b[0m     \u001b[0mplt\u001b[0m\u001b[1;33m.\u001b[0m\u001b[0mgca\u001b[0m\u001b[1;33m(\u001b[0m\u001b[1;33m)\u001b[0m\u001b[1;33m.\u001b[0m\u001b[0mimshow\u001b[0m\u001b[1;33m(\u001b[0m\u001b[0mcloud\u001b[0m\u001b[1;33m)\u001b[0m\u001b[1;33m\u001b[0m\u001b[1;33m\u001b[0m\u001b[0m\n",
      "\u001b[1;31mIndexError\u001b[0m: list index out of range"
     ]
    },
    {
     "data": {
      "image/png": "[encoded data removed]",
      "text/plain": [
       "<Figure size 360x360 with 30 Axes>"
      ]
     },
     "metadata": {
      "needs_background": "light"
     },
     "output_type": "display_data"
    }
   ],
   "source": [
    "#Wordcloud of Top N words in each topic\n",
    "from nltk.corpus import stopwords\n",
    "stop_words = stopwords.words('english')\n",
    "\n",
    "cols = [color for name, color in mcolors.TABLEAU_COLORS.items()]\n",
    "\n",
    "cloud = WordCloud(stopwords=stop_words,\n",
    "                  background_color='white',\n",
    "                  width=2500,\n",
    "                  height=1800,\n",
    "                  max_words=10,\n",
    "                  colormap='tab10',\n",
    "                  color_func=lambda *args, **kwargs: cols[i],\n",
    "                  prefer_horizontal=1.0)\n",
    "\n",
    "topics = optimal_model.show_topics(formatted=False)\n",
    "\n",
    "fig, axes = plt.subplots(10, 3, figsize=(5,5), sharex=True, sharey=True)\n",
    "\n",
    "for i, ax in enumerate(axes.flatten()):\n",
    "    fig.add_subplot(ax)\n",
    "    topic_words = dict(topics[i][1])\n",
    "    cloud.generate_from_frequencies(topic_words, max_font_size=300)\n",
    "    plt.gca().imshow(cloud)\n",
    "    plt.gca().set_title('Topic ' + str(i), fontdict=dict(size=16))\n",
    "    plt.gca().axis('off')\n",
    "\n",
    "\n",
    "plt.subplots_adjust(wspace=0, hspace=0)\n",
    "plt.axis('off')\n",
    "plt.margins(x=0, y=0)\n",
    "plt.tight_layout()\n",
    "plt.show()"
   ]
  },
  {
   "cell_type": "markdown",
   "id": "74df9e9e",
   "metadata": {},
   "source": [
    "## Finding the dominant topic in each sentence"
   ]
  },
  {
   "cell_type": "code",
   "execution_count": null,
   "id": "93a8431f",
   "metadata": {
    "ExecuteTime": {
     "end_time": "2021-08-14T12:55:47.430336Z",
     "start_time": "2021-08-14T12:55:47.430336Z"
    }
   },
   "outputs": [],
   "source": [
    "def format_topics_sentences(ldamodel=optimal_model, corpus=corpus, texts=df['preprocess_content']):\n",
    "    # Init output\n",
    "    sent_topics_df = pd.DataFrame()\n",
    "\n",
    "    # Get main topic in each document\n",
    "    for i, row in enumerate(ldamodel[corpus]):\n",
    "        row = sorted(row[0], key=lambda x: (x[1]), reverse=True)\n",
    "        # Get the Dominant topic, Perc Contribution and Keywords for each document\n",
    "        for j, (topic_num, prop_topic) in enumerate(row):\n",
    "            if j == 0:  # => dominant topic\n",
    "                wp = ldamodel.show_topic(topic_num)\n",
    "                topic_keywords = \", \".join([word for word, prop in wp])\n",
    "                sent_topics_df = sent_topics_df.append(pd.Series([int(topic_num), round(prop_topic,4), topic_keywords]), ignore_index=True)\n",
    "            else:\n",
    "                break\n",
    "    sent_topics_df.columns = ['Dominant_Topic', 'Perc_Contribution', 'Topic_Keywords']\n",
    "\n",
    "    # Add original text to the end of the output\n",
    "    contents = pd.Series(texts)\n",
    "    sent_topics_df = pd.concat([sent_topics_df, contents], axis=1)\n",
    "    return(sent_topics_df)"
   ]
  },
  {
   "cell_type": "code",
   "execution_count": null,
   "id": "db88dd63",
   "metadata": {
    "ExecuteTime": {
     "end_time": "2021-08-14T12:55:47.431336Z",
     "start_time": "2021-08-14T12:55:47.431336Z"
    }
   },
   "outputs": [],
   "source": [
    "df_topic_sents_keywords = format_topics_sentences(ldamodel=optimal_model, corpus=corpus, texts=df['preprocess_content'])"
   ]
  },
  {
   "cell_type": "code",
   "execution_count": null,
   "id": "1db0e650",
   "metadata": {
    "ExecuteTime": {
     "end_time": "2021-08-14T12:55:47.433327Z",
     "start_time": "2021-08-14T12:55:47.433327Z"
    }
   },
   "outputs": [],
   "source": [
    "# Format\n",
    "df_dominant_topic = df_topic_sents_keywords.reset_index()\n",
    "df_dominant_topic.columns = ['Document_No', 'Dominant_Topic', 'Topic_Perc_Contrib', 'Keywords', 'Text']\n",
    "\n",
    "# Show\n",
    "df_dominant_topic.head(10)"
   ]
  },
  {
   "cell_type": "markdown",
   "id": "e0aee0fe",
   "metadata": {},
   "source": [
    "## Find the most representative document for each topic"
   ]
  },
  {
   "cell_type": "code",
   "execution_count": null,
   "id": "258508a9",
   "metadata": {
    "ExecuteTime": {
     "end_time": "2021-08-14T12:55:47.435322Z",
     "start_time": "2021-08-14T12:55:47.435322Z"
    }
   },
   "outputs": [],
   "source": [
    "# Group top 5 sentences under each topic\n",
    "sent_topics_sorteddf = pd.DataFrame()\n",
    "\n",
    "sent_topics_outdf_grpd = df_topic_sents_keywords.groupby('Dominant_Topic')\n",
    "\n",
    "for i, grp in sent_topics_outdf_grpd:\n",
    "    sent_topics_sorteddf = pd.concat([sent_topics_sorteddf, \n",
    "                                    grp.sort_values(['Perc_Contribution'], ascending=[0]).head(1)],\n",
    "                                   axis=0)\n",
    "\n",
    "# Reset Index    \n",
    "sent_topics_sorteddf.reset_index(drop=True, inplace=True)\n",
    "\n",
    "# Format\n",
    "sent_topics_sorteddf.columns = ['Topic_Num', \"Topic_Perc_Contrib\", \"Keywords\", \"Text\"]\n",
    "\n",
    "# Show\n",
    "sent_topics_sorteddf"
   ]
  },
  {
   "cell_type": "markdown",
   "id": "2996f906",
   "metadata": {},
   "source": [
    "**Topic distribution across documents**"
   ]
  },
  {
   "cell_type": "code",
   "execution_count": null,
   "id": "2871bd36",
   "metadata": {
    "ExecuteTime": {
     "end_time": "2021-08-14T12:55:47.437387Z",
     "start_time": "2021-08-14T12:55:47.437387Z"
    }
   },
   "outputs": [],
   "source": [
    "df_dominant_topics = df_topic_sents_keywords[['Dominant_Topic', 'Topic_Keywords']].groupby(['Dominant_Topic', 'Topic_Keywords'])['Topic_Keywords'].count().reset_index(name='Num_Documents')\n",
    "\n",
    "df_dominant_topics['Perc_Documents'] = (df_dominant_topics['Num_Documents'])/(df_dominant_topics['Num_Documents'].sum())\n",
    "\n",
    "df_dominant_topics"
   ]
  },
  {
   "cell_type": "markdown",
   "id": "f61e08f6",
   "metadata": {},
   "source": [
    "# Non-Negative Matrix Factorization"
   ]
  },
  {
   "cell_type": "markdown",
   "id": "ffa1b0d9",
   "metadata": {},
   "source": [
    "Principes de la NMF : "
   ]
  },
  {
   "cell_type": "code",
   "execution_count": null,
   "id": "7faa5b44",
   "metadata": {
    "ExecuteTime": {
     "end_time": "2021-08-14T12:55:47.439646Z",
     "start_time": "2021-08-14T12:55:47.439646Z"
    }
   },
   "outputs": [],
   "source": [
    "def top_words(topic, n_top_words):\n",
    "    return topic.argsort()[:-n_top_words - 1:-1]  \n",
    "\n",
    "\n",
    "def topic_table(model, feature_names, n_top_words):\n",
    "    topics = {}\n",
    "    for topic_idx, topic in enumerate(model.components_):\n",
    "        t = (topic_idx)\n",
    "        topics[t] = [feature_names[i] for i in top_words(topic, n_top_words)]\n",
    "    return pd.DataFrame(topics)\n",
    "\n",
    "\n",
    "def whitespace_tokenizer(text): \n",
    "    pattern = r\"(?u)\\b\\w\\w+\\b\" \n",
    "    tokenizer_regex = RegexpTokenizer(pattern)\n",
    "    tokens = tokenizer_regex.tokenize(text)\n",
    "    return tokens\n"
   ]
  },
  {
   "cell_type": "code",
   "execution_count": null,
   "id": "f4072362",
   "metadata": {
    "ExecuteTime": {
     "end_time": "2021-08-14T12:55:47.441630Z",
     "start_time": "2021-08-14T12:55:47.441630Z"
    }
   },
   "outputs": [],
   "source": [
    "# Use Gensim's NMF to get the best num of topics via coherence score\n",
    "texts = df['preprocess_content']\n",
    "\n",
    "# Create a dictionary\n",
    "# In gensim a dictionary is a mapping between words and their integer id\n",
    "dictionary = Dictionary(texts)\n",
    "\n",
    "# Filter out extremes to limit the number of features\n",
    "dictionary.filter_extremes(\n",
    "    no_below=3,\n",
    "    no_above=0.85,\n",
    "    keep_n=5000\n",
    ")\n",
    "\n",
    "# Create the bag-of-words format (list of (token_id, token_count))\n",
    "corpus = [dictionary.doc2bow(text) for text in texts]\n",
    "\n",
    "# Create a list of the topic numbers we want to try\n",
    "topic_nums = list(np.arange(9, 33, 3))\n",
    "\n",
    "# Run the nmf model and calculate the coherence score\n",
    "# for each number of topics\n",
    "coherence_scores = []\n",
    "\n",
    "for num in topic_nums:\n",
    "    nmf = Nmf(\n",
    "        corpus=corpus,\n",
    "        num_topics=num,\n",
    "        id2word=dictionary,\n",
    "        chunksize=2000,\n",
    "        passes=5,\n",
    "        kappa=.1,\n",
    "        minimum_probability=0.01,\n",
    "        w_max_iter=300,\n",
    "        w_stop_condition=0.0001,\n",
    "        h_max_iter=100,\n",
    "        h_stop_condition=0.001,\n",
    "        eval_every=10,\n",
    "        normalize=True,\n",
    "        random_state=42\n",
    "    )\n",
    "    \n",
    "    # Run the coherence model to get the score\n",
    "    cm = CoherenceModel(\n",
    "        model=nmf,\n",
    "        texts=texts,\n",
    "        dictionary=dictionary,\n",
    "        coherence='c_v'\n",
    "    )\n",
    "    \n",
    "    coherence_scores.append(round(cm.get_coherence(), 5))"
   ]
  },
  {
   "cell_type": "code",
   "execution_count": null,
   "id": "666bf799",
   "metadata": {
    "ExecuteTime": {
     "end_time": "2021-08-14T12:55:47.443624Z",
     "start_time": "2021-08-14T12:55:47.443624Z"
    }
   },
   "outputs": [],
   "source": [
    "# Get the number of topics with the highest coherence score\n",
    "scores = list(zip(topic_nums, coherence_scores))\n",
    "best_num_topics = sorted(scores, key=itemgetter(1), reverse=True)[0][0]"
   ]
  },
  {
   "cell_type": "code",
   "execution_count": null,
   "id": "18c85e4c",
   "metadata": {
    "ExecuteTime": {
     "end_time": "2021-08-14T12:55:47.445620Z",
     "start_time": "2021-08-14T12:55:47.445620Z"
    }
   },
   "outputs": [],
   "source": [
    "# Plot the results\n",
    "fig = plt.figure(figsize=(15, 7))\n",
    "\n",
    "plt.plot(\n",
    "    topic_nums,\n",
    "    coherence_scores,\n",
    "    linewidth=3,\n",
    "    color='#4287f5'\n",
    ")\n",
    "\n",
    "plt.xlabel(\"Topic Num\", fontsize=14)\n",
    "plt.ylabel(\"Coherence Score\", fontsize=14)\n",
    "plt.title('Coherence Score by Topic Number - Best Number of Topics: {}'.format(best_num_topics), fontsize=18)\n",
    "plt.xticks(fontsize=12)\n",
    "plt.yticks(fontsize=12)\n",
    "\n",
    "plt.show()"
   ]
  },
  {
   "cell_type": "code",
   "execution_count": null,
   "id": "7f4527bc",
   "metadata": {
    "ExecuteTime": {
     "end_time": "2021-08-14T12:55:47.447616Z",
     "start_time": "2021-08-14T12:55:47.447616Z"
    }
   },
   "outputs": [],
   "source": [
    "texts"
   ]
  },
  {
   "cell_type": "code",
   "execution_count": null,
   "id": "1a62f3cb",
   "metadata": {
    "ExecuteTime": {
     "end_time": "2021-08-14T12:55:47.449609Z",
     "start_time": "2021-08-14T12:55:47.449609Z"
    }
   },
   "outputs": [],
   "source": [
    "# Now use the number of topics with the highest coherence score to run the sklearn nmf model\n",
    "\n",
    "# Create the tfidf weights\n",
    "tfidf_vectorizer = TfidfVectorizer(\n",
    "    min_df=3,\n",
    "    max_df=0.85,\n",
    "    max_features=5000,\n",
    "    ngram_range=(1, 2),\n",
    "    preprocessor=' '.join)\n",
    "\n",
    "tfidf = tfidf_vectorizer.fit_transform(texts)\n",
    "\n",
    "# Save the feature names for later to create topic summaries\n",
    "tfidf_fn = tfidf_vectorizer.get_feature_names()\n",
    "\n",
    "# Run the nmf model\n",
    "nmf = NMF(\n",
    "    n_components=best_num_topics,\n",
    "    init='nndsvd',\n",
    "    max_iter=500,\n",
    "    l1_ratio=0.0,\n",
    "    solver='cd',\n",
    "    alpha=0.0,\n",
    "    tol=1e-4,\n",
    "    random_state=42).fit(tfidf)"
   ]
  },
  {
   "cell_type": "code",
   "execution_count": null,
   "id": "63e50227",
   "metadata": {
    "ExecuteTime": {
     "end_time": "2021-08-14T12:55:47.451620Z",
     "start_time": "2021-08-14T12:55:47.451620Z"
    }
   },
   "outputs": [],
   "source": [
    "# Use the top words for each cluster by tfidf weight to create 'topics'\n",
    "\n",
    "# Funtion to remove duplicate words\n",
    "def unique_words(text): \n",
    "    ulist = []\n",
    "    [ulist.append(x) for x in text if x not in ulist]\n",
    "    return ulist\n",
    "\n",
    "\n",
    "# Getting a df with each topic by document\n",
    "docweights = nmf.transform(tfidf_vectorizer.transform(texts))\n",
    "\n",
    "n_top_words = 10\n",
    "\n",
    "topic_df = topic_table(\n",
    "    nmf,\n",
    "    tfidf_fn,\n",
    "    n_top_words).T\n",
    "\n",
    "# Cleaning up the top words to create topic summaries\n",
    "topic_df['topics'] = topic_df.apply(lambda x: [' '.join(x)], axis=1) # Joining each word into a list\n",
    "topic_df['topics'] = topic_df['topics'].str[0]  # Removing the list brackets\n",
    "topic_df['topics'] = topic_df['topics'].apply(lambda x: whitespace_tokenizer(x)) # tokenize\n",
    "topic_df['topics'] = topic_df['topics'].apply(lambda x: unique_words(x))  # Removing duplicate words\n",
    "topic_df['topics'] = topic_df['topics'].apply(lambda x: [' '.join(x)])  # Joining each word into a list\n",
    "topic_df['topics'] = topic_df['topics'].str[0]  # Removing the list brackets\n",
    "\n",
    "topic_df"
   ]
  },
  {
   "cell_type": "code",
   "execution_count": null,
   "id": "804c8809",
   "metadata": {
    "ExecuteTime": {
     "end_time": "2021-08-14T12:55:47.453615Z",
     "start_time": "2021-08-14T12:55:47.453615Z"
    }
   },
   "outputs": [],
   "source": [
    "# Create a df with only the created topics and topic num\n",
    "topic_df = topic_df['topics'].reset_index()\n",
    "topic_df.columns = ['topic_num', 'topics']\n",
    "\n",
    "topic_df"
   ]
  },
  {
   "cell_type": "markdown",
   "id": "5bd2fc0e",
   "metadata": {},
   "source": [
    "# Prédiction à partir d'un modèle non supervisé"
   ]
  },
  {
   "cell_type": "code",
   "execution_count": null,
   "id": "d3144423",
   "metadata": {
    "ExecuteTime": {
     "end_time": "2021-08-14T12:55:47.455114Z",
     "start_time": "2021-08-14T12:55:47.455114Z"
    }
   },
   "outputs": [],
   "source": [
    "df.head()"
   ]
  },
  {
   "cell_type": "markdown",
   "id": "6830a43d",
   "metadata": {},
   "source": [
    "## Split en train et test test"
   ]
  },
  {
   "cell_type": "code",
   "execution_count": null,
   "id": "cf1eec09",
   "metadata": {
    "ExecuteTime": {
     "end_time": "2021-08-10T17:13:57.507258Z",
     "start_time": "2021-08-10T17:13:57.507258Z"
    }
   },
   "outputs": [],
   "source": [
    "# 75% random du dataset pour le train\n",
    "dftrain = df.sample(frac = 0.75)\n",
    "\n",
    "# 25% restant pour la prédiction sur data inconnue\n",
    "dftest = df.drop(dftrain.index).reset_index().drop(columns = 'index')\n",
    "\n",
    "dftrain = dftrain.reset_index().drop(columns = 'index')"
   ]
  },
  {
   "cell_type": "code",
   "execution_count": null,
   "id": "b12ef2bf",
   "metadata": {
    "ExecuteTime": {
     "end_time": "2021-08-10T17:13:57.509253Z",
     "start_time": "2021-08-10T17:13:57.508256Z"
    }
   },
   "outputs": [],
   "source": [
    "dftrain"
   ]
  },
  {
   "cell_type": "code",
   "execution_count": null,
   "id": "943fe9b6",
   "metadata": {
    "ExecuteTime": {
     "end_time": "2021-08-10T17:13:57.510250Z",
     "start_time": "2021-08-10T17:13:57.510250Z"
    }
   },
   "outputs": [],
   "source": [
    "dftest.head()"
   ]
  },
  {
   "cell_type": "markdown",
   "id": "1c2de619",
   "metadata": {},
   "source": [
    "## Entrainement du modèle"
   ]
  },
  {
   "cell_type": "code",
   "execution_count": null,
   "id": "0d7a02e7",
   "metadata": {
    "ExecuteTime": {
     "end_time": "2021-08-10T17:13:57.512245Z",
     "start_time": "2021-08-10T17:13:57.512245Z"
    }
   },
   "outputs": [],
   "source": [
    "# Create the tfidf weights\n",
    "tfidf_vectorizer = TfidfVectorizer(\n",
    "    min_df=3,\n",
    "    max_df=0.85,\n",
    "    max_features=5000,\n",
    "    ngram_range=(1, 2),\n",
    "    preprocessor=' '.join)\n",
    "\n",
    "tfidf = tfidf_vectorizer.fit_transform(dftrain['preprocess_content'])\n",
    "\n",
    "# Save the feature names for later to create topic summaries\n",
    "tfidf_fn = tfidf_vectorizer.get_feature_names()\n",
    "\n",
    "# Run the nmf model\n",
    "nmf = NMF(\n",
    "    n_components=best_num_topics,\n",
    "    init='nndsvd',\n",
    "    max_iter=500,\n",
    "    l1_ratio=0.0,\n",
    "    solver='cd',\n",
    "    alpha=0.0,\n",
    "    tol=1e-4,\n",
    "    random_state=42).fit(tfidf)\n",
    "\n",
    "nmf"
   ]
  },
  {
   "cell_type": "markdown",
   "id": "6153937c",
   "metadata": {
    "ExecuteTime": {
     "end_time": "2021-07-31T14:52:20.050943Z",
     "start_time": "2021-07-31T14:52:20.033955Z"
    }
   },
   "source": [
    "## Prédiction sur le test set (données inconnue du modèle)"
   ]
  },
  {
   "cell_type": "code",
   "execution_count": null,
   "id": "32d16a07",
   "metadata": {
    "ExecuteTime": {
     "end_time": "2021-08-10T17:13:57.514240Z",
     "start_time": "2021-08-10T17:13:57.514240Z"
    }
   },
   "outputs": [],
   "source": [
    "# Transform the new data with the fitted models\n",
    "tfidf_new = tfidf_vectorizer.transform(dftest['preprocess_content'])\n",
    "X_new = nmf.transform(tfidf_new)\n",
    "\n",
    "# Get the top predicted topic\n",
    "predicted_topics = [np.argsort(each)[::-1][0] for each in X_new]\n",
    "\n",
    "# Add to the df\n",
    "dftest['topic_num'] = predicted_topics\n",
    "\n",
    "dftest"
   ]
  },
  {
   "cell_type": "code",
   "execution_count": null,
   "id": "b7424b11",
   "metadata": {
    "ExecuteTime": {
     "end_time": "2021-08-10T17:13:57.516238Z",
     "start_time": "2021-08-10T17:13:57.516238Z"
    }
   },
   "outputs": [],
   "source": [
    "# Getting a df with each topic by document\n",
    "docweights = nmf.transform(tfidf_vectorizer.transform(dftrain['preprocess_content']))\n",
    "\n",
    "n_top_words = 10\n",
    "\n",
    "topic_df = topic_table(\n",
    "    nmf,\n",
    "    tfidf_fn,\n",
    "    n_top_words).T\n",
    "\n",
    "# Cleaning up the top words to create topic summaries\n",
    "topic_df['topics'] = topic_df.apply(lambda x: [' '.join(x)], axis=1) # Joining each word into a list\n",
    "topic_df['topics'] = topic_df['topics'].str[0]  # Removing the list brackets\n",
    "topic_df['topics'] = topic_df['topics'].apply(lambda x: whitespace_tokenizer(x)) # tokenize\n",
    "topic_df['topics'] = topic_df['topics'].apply(lambda x: unique_words(x))  # Removing duplicate words\n",
    "topic_df['topics'] = topic_df['topics'].apply(lambda x: [' '.join(x)])  # Joining each word into a list\n",
    "topic_df['topics'] = topic_df['topics'].str[0]  # Removing the list brackets\n",
    "\n",
    "# Create a df with only the created topics and topic num\n",
    "topic_df = topic_df['topics'].reset_index()\n",
    "topic_df.columns = ['topic_num', 'topics']\n",
    "\n",
    "topic_df"
   ]
  },
  {
   "cell_type": "code",
   "execution_count": null,
   "id": "9518f5e3",
   "metadata": {
    "ExecuteTime": {
     "end_time": "2021-08-10T17:13:57.518229Z",
     "start_time": "2021-08-10T17:13:57.518229Z"
    }
   },
   "outputs": [],
   "source": [
    "# Join with the original df to get the topic summary\n",
    "dfpred = pd.merge(dftest, topic_df, on='topic_num', how='left')\n",
    "\n",
    "dfpred"
   ]
  },
  {
   "cell_type": "markdown",
   "id": "3ffa8244",
   "metadata": {},
   "source": [
    "# Extraire des tags à partir des résultats précédents"
   ]
  },
  {
   "cell_type": "code",
   "execution_count": null,
   "id": "46a86dc1",
   "metadata": {
    "ExecuteTime": {
     "end_time": "2021-08-10T17:13:57.519328Z",
     "start_time": "2021-08-10T17:13:57.519328Z"
    }
   },
   "outputs": [],
   "source": [
    "test = dfpred.loc[dfpred['topic_num']==1]"
   ]
  },
  {
   "cell_type": "code",
   "execution_count": null,
   "id": "5e8f6d62",
   "metadata": {
    "ExecuteTime": {
     "end_time": "2021-08-10T17:13:57.519328Z",
     "start_time": "2021-08-10T17:13:57.519328Z"
    },
    "scrolled": true
   },
   "outputs": [],
   "source": [
    "test.iloc[:,3:-2]"
   ]
  },
  {
   "cell_type": "code",
   "execution_count": null,
   "id": "8ec84101",
   "metadata": {
    "ExecuteTime": {
     "end_time": "2021-08-10T17:13:57.519328Z",
     "start_time": "2021-08-10T17:13:57.519328Z"
    }
   },
   "outputs": [],
   "source": [
    "# Nbre d'occurence des tags\n",
    "sum_column1 = test.iloc[:,3:-2].sum(axis=0)\n",
    "print (sum_column1.sort_values()[-5:])"
   ]
  },
  {
   "cell_type": "code",
   "execution_count": null,
   "id": "6014be11",
   "metadata": {
    "ExecuteTime": {
     "end_time": "2021-08-10T13:53:01.866804Z",
     "start_time": "2021-08-10T13:53:01.853338Z"
    }
   },
   "outputs": [],
   "source": []
  },
  {
   "cell_type": "code",
   "execution_count": null,
   "id": "e6d8dac7",
   "metadata": {},
   "outputs": [],
   "source": []
  },
  {
   "cell_type": "code",
   "execution_count": null,
   "id": "32e257af",
   "metadata": {},
   "outputs": [],
   "source": []
  },
  {
   "cell_type": "code",
   "execution_count": null,
   "id": "efbb0d25",
   "metadata": {},
   "outputs": [],
   "source": []
  },
  {
   "cell_type": "code",
   "execution_count": null,
   "id": "b1d91bdd",
   "metadata": {},
   "outputs": [],
   "source": []
  }
 ],
 "metadata": {
  "kernelspec": {
   "display_name": "Python 3 (ipykernel)",
   "language": "python",
   "name": "python3"
  },
  "language_info": {
   "codemirror_mode": {
    "name": "ipython",
    "version": 3
   },
   "file_extension": ".py",
   "mimetype": "text/x-python",
   "name": "python",
   "nbconvert_exporter": "python",
   "pygments_lexer": "ipython3",
   "version": "3.8.8"
  },
  "toc": {
   "base_numbering": 1,
   "nav_menu": {},
   "number_sections": true,
   "sideBar": true,
   "skip_h1_title": false,
   "title_cell": "Table of Contents",
   "title_sidebar": "Contents",
   "toc_cell": false,
   "toc_position": {
    "height": "calc(100% - 180px)",
    "left": "10px",
    "top": "150px",
    "width": "295px"
   },
   "toc_section_display": true,
   "toc_window_display": true
  }
 },
 "nbformat": 4,
 "nbformat_minor": 5
}
