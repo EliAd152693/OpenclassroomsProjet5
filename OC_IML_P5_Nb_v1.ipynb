{
 "cells": [
  {
   "cell_type": "markdown",
   "metadata": {},
   "source": [
    "<font size=\"6\">PROJET 5 : Catégorisez automatiquement des questions </font>"
   ]
  },
  {
   "cell_type": "markdown",
   "metadata": {},
   "source": [
    "**Librairies**"
   ]
  },
  {
   "cell_type": "code",
   "execution_count": 44,
   "metadata": {
    "ExecuteTime": {
     "end_time": "2021-07-23T09:19:03.793009Z",
     "start_time": "2021-07-23T09:19:03.775546Z"
    }
   },
   "outputs": [
    {
     "name": "stderr",
     "output_type": "stream",
     "text": [
      "C:\\Users\\EliseAndro\\anaconda3\\lib\\site-packages\\ipykernel\\ipkernel.py:287: DeprecationWarning: `should_run_async` will not call `transform_cell` automatically in the future. Please pass the result to `transformed_cell` argument and any exception that happen during thetransform in `preprocessing_exc_tuple` in IPython 7.17 and above.\n",
      "  and should_run_async(code)\n"
     ]
    }
   ],
   "source": [
    "# Data analyse\n",
    "import pandas as pd\n",
    "import numpy as np\n",
    "import re\n",
    "from pprint import pprint"
   ]
  },
  {
   "cell_type": "code",
   "execution_count": 43,
   "metadata": {
    "ExecuteTime": {
     "end_time": "2021-07-23T09:18:41.091173Z",
     "start_time": "2021-07-23T09:18:41.058204Z"
    }
   },
   "outputs": [
    {
     "name": "stderr",
     "output_type": "stream",
     "text": [
      "C:\\Users\\EliseAndro\\anaconda3\\lib\\site-packages\\ipykernel\\ipkernel.py:287: DeprecationWarning: `should_run_async` will not call `transform_cell` automatically in the future. Please pass the result to `transformed_cell` argument and any exception that happen during thetransform in `preprocessing_exc_tuple` in IPython 7.17 and above.\n",
      "  and should_run_async(code)\n"
     ]
    }
   ],
   "source": [
    "# Visualisation\n",
    "import matplotlib.pyplot as plt\n",
    "import pyLDAvis\n",
    "import pyLDAvis.gensim_models"
   ]
  },
  {
   "cell_type": "code",
   "execution_count": 3,
   "metadata": {
    "ExecuteTime": {
     "end_time": "2021-07-20T17:33:41.076984Z",
     "start_time": "2021-07-20T17:33:37.634343Z"
    }
   },
   "outputs": [],
   "source": [
    "# Preprocess and evaluation\n",
    "import nltk\n",
    "from nltk.corpus import stopwords"
   ]
  },
  {
   "cell_type": "code",
   "execution_count": 5,
   "metadata": {
    "ExecuteTime": {
     "end_time": "2021-07-20T17:37:41.038617Z",
     "start_time": "2021-07-20T17:37:40.498668Z"
    }
   },
   "outputs": [
    {
     "name": "stderr",
     "output_type": "stream",
     "text": [
      "C:\\Users\\EliseAndro\\anaconda3\\lib\\site-packages\\gensim\\similarities\\__init__.py:15: UserWarning: The gensim.similarities.levenshtein submodule is disabled, because the optional Levenshtein package <https://pypi.org/project/python-Levenshtein/> is unavailable. Install Levenhstein (e.g. `pip install python-Levenshtein`) to suppress this warning.\n",
      "  warnings.warn(msg)\n"
     ]
    }
   ],
   "source": [
    "# Modèles\n",
    "import gensim\n",
    "import gensim.corpora as corpora\n",
    "from gensim.models import CoherenceModel"
   ]
  },
  {
   "cell_type": "code",
   "execution_count": null,
   "metadata": {},
   "outputs": [],
   "source": [
    "# spacy for lemmatization\n",
    "import spacy"
   ]
  },
  {
   "cell_type": "markdown",
   "metadata": {},
   "source": [
    "# Chargement des données"
   ]
  },
  {
   "cell_type": "markdown",
   "metadata": {},
   "source": [
    "## Chargement"
   ]
  },
  {
   "cell_type": "code",
   "execution_count": 6,
   "metadata": {
    "ExecuteTime": {
     "end_time": "2021-07-20T17:38:24.504858Z",
     "start_time": "2021-07-20T17:38:21.506479Z"
    }
   },
   "outputs": [],
   "source": [
    "df = pd.read_csv(\"QueryResults.csv\")"
   ]
  },
  {
   "cell_type": "code",
   "execution_count": 7,
   "metadata": {
    "ExecuteTime": {
     "end_time": "2021-07-20T17:38:24.551738Z",
     "start_time": "2021-07-20T17:38:24.509283Z"
    }
   },
   "outputs": [
    {
     "data": {
      "text/html": [
       "<div>\n",
       "<style scoped>\n",
       "    .dataframe tbody tr th:only-of-type {\n",
       "        vertical-align: middle;\n",
       "    }\n",
       "\n",
       "    .dataframe tbody tr th {\n",
       "        vertical-align: top;\n",
       "    }\n",
       "\n",
       "    .dataframe thead th {\n",
       "        text-align: right;\n",
       "    }\n",
       "</style>\n",
       "<table border=\"1\" class=\"dataframe\">\n",
       "  <thead>\n",
       "    <tr style=\"text-align: right;\">\n",
       "      <th></th>\n",
       "      <th>Body</th>\n",
       "      <th>Title</th>\n",
       "      <th>Tags</th>\n",
       "    </tr>\n",
       "  </thead>\n",
       "  <tbody>\n",
       "    <tr>\n",
       "      <th>0</th>\n",
       "      <td>&lt;p&gt;Is there any way to tinker with the iPhone ...</td>\n",
       "      <td>How can I develop for iPhone using a Windows d...</td>\n",
       "      <td>&lt;ios&gt;&lt;iphone&gt;&lt;windows&gt;</td>\n",
       "    </tr>\n",
       "    <tr>\n",
       "      <th>1</th>\n",
       "      <td>&lt;p&gt;I have this gigantic ugly string:&lt;/p&gt;\\n&lt;pre...</td>\n",
       "      <td>My regex is matching too much. How do I make i...</td>\n",
       "      <td>&lt;regex&gt;</td>\n",
       "    </tr>\n",
       "    <tr>\n",
       "      <th>2</th>\n",
       "      <td>&lt;p&gt;I am Working with autolayout and constraint...</td>\n",
       "      <td>What is \"Constrain to margin\" in Storyboard in...</td>\n",
       "      <td>&lt;ios&gt;&lt;xcode&gt;&lt;storyboard&gt;&lt;autolayout&gt;&lt;xcode6&gt;</td>\n",
       "    </tr>\n",
       "    <tr>\n",
       "      <th>3</th>\n",
       "      <td>&lt;p&gt;I'm learning objective-c and keep bumping i...</td>\n",
       "      <td>What does the @ symbol represent in objective-c?</td>\n",
       "      <td>&lt;objective-c&gt;</td>\n",
       "    </tr>\n",
       "    <tr>\n",
       "      <th>4</th>\n",
       "      <td>&lt;p&gt;Is there a simple way, in a pretty standard...</td>\n",
       "      <td>Delete all but the most recent X files in bash</td>\n",
       "      <td>&lt;bash&gt;&lt;unix&gt;&lt;scripting&gt;</td>\n",
       "    </tr>\n",
       "    <tr>\n",
       "      <th>...</th>\n",
       "      <td>...</td>\n",
       "      <td>...</td>\n",
       "      <td>...</td>\n",
       "    </tr>\n",
       "    <tr>\n",
       "      <th>44990</th>\n",
       "      <td>&lt;p&gt;Recently, I upgraded the version of Django ...</td>\n",
       "      <td>ImportError: cannot import name 'six' from 'dj...</td>\n",
       "      <td>&lt;django&gt;</td>\n",
       "    </tr>\n",
       "    <tr>\n",
       "      <th>44991</th>\n",
       "      <td>&lt;p&gt;How can I reject a promise that returned by...</td>\n",
       "      <td>How to reject in async/await syntax?</td>\n",
       "      <td>&lt;javascript&gt;&lt;asynchronous&gt;&lt;typescript&gt;&lt;es6-pro...</td>\n",
       "    </tr>\n",
       "    <tr>\n",
       "      <th>44992</th>\n",
       "      <td>&lt;p&gt;I have 2 entities that are related as one t...</td>\n",
       "      <td>.Net Core 3.0 possible object cycle was detect...</td>\n",
       "      <td>&lt;c#&gt;&lt;asp.net-core&gt;&lt;entity-framework-core&gt;</td>\n",
       "    </tr>\n",
       "    <tr>\n",
       "      <th>44993</th>\n",
       "      <td>&lt;h2&gt;Problem&lt;/h2&gt;\\n\\n&lt;p&gt;I want to return a file...</td>\n",
       "      <td>Return file in ASP.Net Core Web API</td>\n",
       "      <td>&lt;c#&gt;&lt;asp.net-core&gt;&lt;.net-core&gt;&lt;asp.net-core-web...</td>\n",
       "    </tr>\n",
       "    <tr>\n",
       "      <th>44994</th>\n",
       "      <td>&lt;p&gt;Using suggested method:\\n&lt;a href=\"https://i...</td>\n",
       "      <td>Wrapping a react-router Link in an html button</td>\n",
       "      <td>&lt;html&gt;&lt;reactjs&gt;&lt;button&gt;&lt;hyperlink&gt;&lt;router&gt;</td>\n",
       "    </tr>\n",
       "  </tbody>\n",
       "</table>\n",
       "<p>44995 rows × 3 columns</p>\n",
       "</div>"
      ],
      "text/plain": [
       "                                                    Body  \\\n",
       "0      <p>Is there any way to tinker with the iPhone ...   \n",
       "1      <p>I have this gigantic ugly string:</p>\\n<pre...   \n",
       "2      <p>I am Working with autolayout and constraint...   \n",
       "3      <p>I'm learning objective-c and keep bumping i...   \n",
       "4      <p>Is there a simple way, in a pretty standard...   \n",
       "...                                                  ...   \n",
       "44990  <p>Recently, I upgraded the version of Django ...   \n",
       "44991  <p>How can I reject a promise that returned by...   \n",
       "44992  <p>I have 2 entities that are related as one t...   \n",
       "44993  <h2>Problem</h2>\\n\\n<p>I want to return a file...   \n",
       "44994  <p>Using suggested method:\\n<a href=\"https://i...   \n",
       "\n",
       "                                                   Title  \\\n",
       "0      How can I develop for iPhone using a Windows d...   \n",
       "1      My regex is matching too much. How do I make i...   \n",
       "2      What is \"Constrain to margin\" in Storyboard in...   \n",
       "3       What does the @ symbol represent in objective-c?   \n",
       "4         Delete all but the most recent X files in bash   \n",
       "...                                                  ...   \n",
       "44990  ImportError: cannot import name 'six' from 'dj...   \n",
       "44991               How to reject in async/await syntax?   \n",
       "44992  .Net Core 3.0 possible object cycle was detect...   \n",
       "44993                Return file in ASP.Net Core Web API   \n",
       "44994     Wrapping a react-router Link in an html button   \n",
       "\n",
       "                                                    Tags  \n",
       "0                                 <ios><iphone><windows>  \n",
       "1                                                <regex>  \n",
       "2           <ios><xcode><storyboard><autolayout><xcode6>  \n",
       "3                                          <objective-c>  \n",
       "4                                <bash><unix><scripting>  \n",
       "...                                                  ...  \n",
       "44990                                           <django>  \n",
       "44991  <javascript><asynchronous><typescript><es6-pro...  \n",
       "44992          <c#><asp.net-core><entity-framework-core>  \n",
       "44993  <c#><asp.net-core><.net-core><asp.net-core-web...  \n",
       "44994         <html><reactjs><button><hyperlink><router>  \n",
       "\n",
       "[44995 rows x 3 columns]"
      ]
     },
     "execution_count": 7,
     "metadata": {},
     "output_type": "execute_result"
    }
   ],
   "source": [
    "df"
   ]
  },
  {
   "cell_type": "markdown",
   "metadata": {},
   "source": [
    "## Nettoyage"
   ]
  },
  {
   "cell_type": "code",
   "execution_count": 8,
   "metadata": {
    "ExecuteTime": {
     "end_time": "2021-07-20T17:38:24.576243Z",
     "start_time": "2021-07-20T17:38:24.552735Z"
    }
   },
   "outputs": [],
   "source": [
    "def remove_punctuation_and_number(text):\n",
    "    \"\"\"remove all punctuation and number\"\"\"\n",
    "    return text.translate(str.maketrans(\" \", \" \", charac)) \n",
    "\n",
    "\n",
    "def remove_non_alphabetical_character(text):\n",
    "    \"\"\"remove all non-alphabetical character\"\"\"\n",
    "    text = re.sub(\"[^a-z]+\", \" \", text) # remove all non-alphabetical character\n",
    "    text = re.sub(\"\\s+\", \" \", text) # remove whitespaces left after the last operation\n",
    "    return text"
   ]
  },
  {
   "cell_type": "code",
   "execution_count": 10,
   "metadata": {
    "ExecuteTime": {
     "end_time": "2021-07-20T17:43:46.595004Z",
     "start_time": "2021-07-20T17:43:36.185948Z"
    }
   },
   "outputs": [],
   "source": [
    "# Nettoyage de la colonne Body\n",
    "df['Body'] = [re.sub('<[^>]+>', '', i) for i in df['Body']]\n",
    "df['Body'] = [re.sub('\\n', '', i) for i in df['Body']]\n",
    "\n",
    "df['Title'] = df['Title'].apply(lambda x: remove_non_alphabetical_character(x)) \n",
    "df['Body'] = df['Body'].apply(lambda x: remove_non_alphabetical_character(x)) \n",
    "\n",
    "# Nettoyage de la colonne Tags\n",
    "tags_nettoye = [re.sub('><', ',', i)[1:-1] for i in df['Tags']]"
   ]
  },
  {
   "cell_type": "code",
   "execution_count": 11,
   "metadata": {
    "ExecuteTime": {
     "end_time": "2021-07-20T17:44:21.012512Z",
     "start_time": "2021-07-20T17:44:20.988990Z"
    }
   },
   "outputs": [],
   "source": [
    "df['Tags'] = tags_nettoye"
   ]
  },
  {
   "cell_type": "code",
   "execution_count": 12,
   "metadata": {
    "ExecuteTime": {
     "end_time": "2021-07-20T17:44:21.021550Z",
     "start_time": "2021-07-20T17:44:21.015011Z"
    }
   },
   "outputs": [],
   "source": [
    "def remove_single_letter(text):\n",
    "    \"\"\"remove single alphabetical character\"\"\"\n",
    "    text = re.sub(r\"\\b\\w{1}\\b\", \"\", text) # remove all single letter\n",
    "    text = re.sub(\"\\s+\", \" \", text) # remove whitespaces left after the last operation\n",
    "    text = text.strip(\" \")\n",
    "    return text"
   ]
  },
  {
   "cell_type": "code",
   "execution_count": 13,
   "metadata": {
    "ExecuteTime": {
     "end_time": "2021-07-20T17:44:28.253891Z",
     "start_time": "2021-07-20T17:44:21.024821Z"
    }
   },
   "outputs": [],
   "source": [
    "df['Title'] = df['Title'].apply(lambda x: remove_single_letter(x)) \n",
    "df['Body'] = df['Body'].apply(lambda x: remove_single_letter(x)) "
   ]
  },
  {
   "cell_type": "code",
   "execution_count": 14,
   "metadata": {
    "ExecuteTime": {
     "end_time": "2021-07-20T17:44:28.285482Z",
     "start_time": "2021-07-20T17:44:28.253891Z"
    }
   },
   "outputs": [
    {
     "data": {
      "text/html": [
       "<div>\n",
       "<style scoped>\n",
       "    .dataframe tbody tr th:only-of-type {\n",
       "        vertical-align: middle;\n",
       "    }\n",
       "\n",
       "    .dataframe tbody tr th {\n",
       "        vertical-align: top;\n",
       "    }\n",
       "\n",
       "    .dataframe thead th {\n",
       "        text-align: right;\n",
       "    }\n",
       "</style>\n",
       "<table border=\"1\" class=\"dataframe\">\n",
       "  <thead>\n",
       "    <tr style=\"text-align: right;\">\n",
       "      <th></th>\n",
       "      <th>Body</th>\n",
       "      <th>Title</th>\n",
       "      <th>Tags</th>\n",
       "    </tr>\n",
       "  </thead>\n",
       "  <tbody>\n",
       "    <tr>\n",
       "      <th>0</th>\n",
       "      <td>there any way to tinker with the hone on indow...</td>\n",
       "      <td>ow can develop for hone using indows developme...</td>\n",
       "      <td>ios,iphone,windows</td>\n",
       "    </tr>\n",
       "    <tr>\n",
       "      <th>1</th>\n",
       "      <td>have this gigantic ugly string ransaction star...</td>\n",
       "      <td>regex is matching too much ow do make it stop</td>\n",
       "      <td>regex</td>\n",
       "    </tr>\n",
       "    <tr>\n",
       "      <th>2</th>\n",
       "      <td>am orking with autolayout and constraints and ...</td>\n",
       "      <td>hat is onstrain to margin in toryboard in code</td>\n",
       "      <td>ios,xcode,storyboard,autolayout,xcode6</td>\n",
       "    </tr>\n",
       "    <tr>\n",
       "      <th>3</th>\n",
       "      <td>learning objective and keep bumping into the s...</td>\n",
       "      <td>hat does the symbol represent in objective</td>\n",
       "      <td>objective-c</td>\n",
       "    </tr>\n",
       "    <tr>\n",
       "      <th>4</th>\n",
       "      <td>there simple way in pretty standard environmen...</td>\n",
       "      <td>elete all but the most recent files in bash</td>\n",
       "      <td>bash,unix,scripting</td>\n",
       "    </tr>\n",
       "    <tr>\n",
       "      <th>...</th>\n",
       "      <td>...</td>\n",
       "      <td>...</td>\n",
       "      <td>...</td>\n",
       "    </tr>\n",
       "    <tr>\n",
       "      <th>44990</th>\n",
       "      <td>ecently upgraded the version of jango framewor...</td>\n",
       "      <td>mport rror cannot import name six from django ...</td>\n",
       "      <td>django</td>\n",
       "    </tr>\n",
       "    <tr>\n",
       "      <th>44991</th>\n",
       "      <td>ow can reject promise that returned by an asyn...</td>\n",
       "      <td>ow to reject in async await syntax</td>\n",
       "      <td>javascript,asynchronous,typescript,es6-promise...</td>\n",
       "    </tr>\n",
       "    <tr>\n",
       "      <th>44992</th>\n",
       "      <td>have entities that are related as one to manyp...</td>\n",
       "      <td>et ore possible object cycle was detected whic...</td>\n",
       "      <td>c#,asp.net-core,entity-framework-core</td>\n",
       "    </tr>\n",
       "    <tr>\n",
       "      <th>44993</th>\n",
       "      <td>roblem want to return file in my et eb ontroll...</td>\n",
       "      <td>eturn file in et ore eb</td>\n",
       "      <td>c#,asp.net-core,.net-core,asp.net-core-webapi</td>\n",
       "    </tr>\n",
       "    <tr>\n",
       "      <th>44994</th>\n",
       "      <td>sing suggested method his is the result link i...</td>\n",
       "      <td>rapping react router ink in an html button</td>\n",
       "      <td>html,reactjs,button,hyperlink,router</td>\n",
       "    </tr>\n",
       "  </tbody>\n",
       "</table>\n",
       "<p>44995 rows × 3 columns</p>\n",
       "</div>"
      ],
      "text/plain": [
       "                                                    Body  \\\n",
       "0      there any way to tinker with the hone on indow...   \n",
       "1      have this gigantic ugly string ransaction star...   \n",
       "2      am orking with autolayout and constraints and ...   \n",
       "3      learning objective and keep bumping into the s...   \n",
       "4      there simple way in pretty standard environmen...   \n",
       "...                                                  ...   \n",
       "44990  ecently upgraded the version of jango framewor...   \n",
       "44991  ow can reject promise that returned by an asyn...   \n",
       "44992  have entities that are related as one to manyp...   \n",
       "44993  roblem want to return file in my et eb ontroll...   \n",
       "44994  sing suggested method his is the result link i...   \n",
       "\n",
       "                                                   Title  \\\n",
       "0      ow can develop for hone using indows developme...   \n",
       "1          regex is matching too much ow do make it stop   \n",
       "2         hat is onstrain to margin in toryboard in code   \n",
       "3             hat does the symbol represent in objective   \n",
       "4            elete all but the most recent files in bash   \n",
       "...                                                  ...   \n",
       "44990  mport rror cannot import name six from django ...   \n",
       "44991                 ow to reject in async await syntax   \n",
       "44992  et ore possible object cycle was detected whic...   \n",
       "44993                            eturn file in et ore eb   \n",
       "44994         rapping react router ink in an html button   \n",
       "\n",
       "                                                    Tags  \n",
       "0                                     ios,iphone,windows  \n",
       "1                                                  regex  \n",
       "2                 ios,xcode,storyboard,autolayout,xcode6  \n",
       "3                                            objective-c  \n",
       "4                                    bash,unix,scripting  \n",
       "...                                                  ...  \n",
       "44990                                             django  \n",
       "44991  javascript,asynchronous,typescript,es6-promise...  \n",
       "44992              c#,asp.net-core,entity-framework-core  \n",
       "44993      c#,asp.net-core,.net-core,asp.net-core-webapi  \n",
       "44994               html,reactjs,button,hyperlink,router  \n",
       "\n",
       "[44995 rows x 3 columns]"
      ]
     },
     "execution_count": 14,
     "metadata": {},
     "output_type": "execute_result"
    }
   ],
   "source": [
    "df"
   ]
  },
  {
   "cell_type": "code",
   "execution_count": 15,
   "metadata": {
    "ExecuteTime": {
     "end_time": "2021-07-20T17:44:28.301041Z",
     "start_time": "2021-07-20T17:44:28.288912Z"
    }
   },
   "outputs": [
    {
     "data": {
      "text/plain": [
       "(44995, 3)"
      ]
     },
     "execution_count": 15,
     "metadata": {},
     "output_type": "execute_result"
    }
   ],
   "source": [
    "df.shape"
   ]
  },
  {
   "cell_type": "code",
   "execution_count": 16,
   "metadata": {
    "ExecuteTime": {
     "end_time": "2021-07-20T17:44:28.358547Z",
     "start_time": "2021-07-20T17:44:28.303038Z"
    }
   },
   "outputs": [
    {
     "data": {
      "text/plain": [
       "(44995, 3)"
      ]
     },
     "execution_count": 16,
     "metadata": {},
     "output_type": "execute_result"
    }
   ],
   "source": [
    "# Vérification des Nan\n",
    "df.dropna().shape"
   ]
  },
  {
   "cell_type": "code",
   "execution_count": 17,
   "metadata": {
    "ExecuteTime": {
     "end_time": "2021-07-20T17:44:28.556867Z",
     "start_time": "2021-07-20T17:44:28.362035Z"
    }
   },
   "outputs": [
    {
     "data": {
      "text/plain": [
       "(44995, 3)"
      ]
     },
     "execution_count": 17,
     "metadata": {},
     "output_type": "execute_result"
    }
   ],
   "source": [
    "# Vérification des doublons\n",
    "df.drop_duplicates().shape"
   ]
  },
  {
   "cell_type": "markdown",
   "metadata": {},
   "source": [
    "# Preprocess : tokenisation et analyse des fréquences"
   ]
  },
  {
   "cell_type": "markdown",
   "metadata": {},
   "source": [
    "## Tokenisation et fusion du body et titre"
   ]
  },
  {
   "cell_type": "code",
   "execution_count": 18,
   "metadata": {
    "ExecuteTime": {
     "end_time": "2021-07-20T17:44:28.727008Z",
     "start_time": "2021-07-20T17:44:28.564708Z"
    }
   },
   "outputs": [],
   "source": [
    "df['Body'] = [i.lower() for i in df['Body']]\n",
    "df['Title'] = [i.lower() for i in df['Title']]"
   ]
  },
  {
   "cell_type": "code",
   "execution_count": 19,
   "metadata": {
    "ExecuteTime": {
     "end_time": "2021-07-20T17:44:32.441125Z",
     "start_time": "2021-07-20T17:44:28.732263Z"
    }
   },
   "outputs": [],
   "source": [
    "tokenizer = nltk.RegexpTokenizer(r'\\w+')\n",
    "df['Body'] = [tokenizer.tokenize(i) for i in df['Body']]\n",
    "df['Title'] = [tokenizer.tokenize(i) for i in df['Title']]"
   ]
  },
  {
   "cell_type": "code",
   "execution_count": 20,
   "metadata": {
    "ExecuteTime": {
     "end_time": "2021-07-20T17:44:32.741472Z",
     "start_time": "2021-07-20T17:44:32.444924Z"
    }
   },
   "outputs": [],
   "source": [
    "df['Title+Body'] = df['Body'] + df['Title']\n",
    "df = df[['Title+Body',\"Tags\"]]"
   ]
  },
  {
   "cell_type": "code",
   "execution_count": 21,
   "metadata": {
    "ExecuteTime": {
     "end_time": "2021-07-20T17:44:32.775040Z",
     "start_time": "2021-07-20T17:44:32.744434Z"
    }
   },
   "outputs": [
    {
     "data": {
      "text/html": [
       "<div>\n",
       "<style scoped>\n",
       "    .dataframe tbody tr th:only-of-type {\n",
       "        vertical-align: middle;\n",
       "    }\n",
       "\n",
       "    .dataframe tbody tr th {\n",
       "        vertical-align: top;\n",
       "    }\n",
       "\n",
       "    .dataframe thead th {\n",
       "        text-align: right;\n",
       "    }\n",
       "</style>\n",
       "<table border=\"1\" class=\"dataframe\">\n",
       "  <thead>\n",
       "    <tr style=\"text-align: right;\">\n",
       "      <th></th>\n",
       "      <th>Title+Body</th>\n",
       "      <th>Tags</th>\n",
       "    </tr>\n",
       "  </thead>\n",
       "  <tbody>\n",
       "    <tr>\n",
       "      <th>0</th>\n",
       "      <td>[there, any, way, to, tinker, with, the, hone,...</td>\n",
       "      <td>ios,iphone,windows</td>\n",
       "    </tr>\n",
       "    <tr>\n",
       "      <th>1</th>\n",
       "      <td>[have, this, gigantic, ugly, string, ransactio...</td>\n",
       "      <td>regex</td>\n",
       "    </tr>\n",
       "    <tr>\n",
       "      <th>2</th>\n",
       "      <td>[am, orking, with, autolayout, and, constraint...</td>\n",
       "      <td>ios,xcode,storyboard,autolayout,xcode6</td>\n",
       "    </tr>\n",
       "    <tr>\n",
       "      <th>3</th>\n",
       "      <td>[learning, objective, and, keep, bumping, into...</td>\n",
       "      <td>objective-c</td>\n",
       "    </tr>\n",
       "    <tr>\n",
       "      <th>4</th>\n",
       "      <td>[there, simple, way, in, pretty, standard, env...</td>\n",
       "      <td>bash,unix,scripting</td>\n",
       "    </tr>\n",
       "  </tbody>\n",
       "</table>\n",
       "</div>"
      ],
      "text/plain": [
       "                                          Title+Body  \\\n",
       "0  [there, any, way, to, tinker, with, the, hone,...   \n",
       "1  [have, this, gigantic, ugly, string, ransactio...   \n",
       "2  [am, orking, with, autolayout, and, constraint...   \n",
       "3  [learning, objective, and, keep, bumping, into...   \n",
       "4  [there, simple, way, in, pretty, standard, env...   \n",
       "\n",
       "                                     Tags  \n",
       "0                      ios,iphone,windows  \n",
       "1                                   regex  \n",
       "2  ios,xcode,storyboard,autolayout,xcode6  \n",
       "3                             objective-c  \n",
       "4                     bash,unix,scripting  "
      ]
     },
     "execution_count": 21,
     "metadata": {},
     "output_type": "execute_result"
    }
   ],
   "source": [
    "df.head()"
   ]
  },
  {
   "cell_type": "markdown",
   "metadata": {},
   "source": [
    "## Tokenization des tags"
   ]
  },
  {
   "cell_type": "code",
   "execution_count": 22,
   "metadata": {
    "ExecuteTime": {
     "end_time": "2021-07-20T17:44:33.250522Z",
     "start_time": "2021-07-20T17:44:32.777729Z"
    }
   },
   "outputs": [
    {
     "name": "stderr",
     "output_type": "stream",
     "text": [
      "<ipython-input-22-16c0181b6012>:1: SettingWithCopyWarning: \n",
      "A value is trying to be set on a copy of a slice from a DataFrame.\n",
      "Try using .loc[row_indexer,col_indexer] = value instead\n",
      "\n",
      "See the caveats in the documentation: https://pandas.pydata.org/pandas-docs/stable/user_guide/indexing.html#returning-a-view-versus-a-copy\n",
      "  df['Tags'] = [i.lower() for i in df['Tags']]\n",
      "<ipython-input-22-16c0181b6012>:2: SettingWithCopyWarning: \n",
      "A value is trying to be set on a copy of a slice from a DataFrame.\n",
      "Try using .loc[row_indexer,col_indexer] = value instead\n",
      "\n",
      "See the caveats in the documentation: https://pandas.pydata.org/pandas-docs/stable/user_guide/indexing.html#returning-a-view-versus-a-copy\n",
      "  df['Tags'] = [i.split(\",\") for i in df['Tags']]\n"
     ]
    }
   ],
   "source": [
    "df['Tags'] = [i.lower() for i in df['Tags']]\n",
    "df['Tags'] = [i.split(\",\") for i in df['Tags']]"
   ]
  },
  {
   "cell_type": "markdown",
   "metadata": {},
   "source": [
    "## Une colonne par tags"
   ]
  },
  {
   "cell_type": "code",
   "execution_count": 23,
   "metadata": {
    "ExecuteTime": {
     "end_time": "2021-07-20T17:45:23.579355Z",
     "start_time": "2021-07-20T17:44:33.253542Z"
    }
   },
   "outputs": [],
   "source": [
    "tags = []\n",
    "\n",
    "for i in df['Tags']:\n",
    "    tags = tags + i\n",
    "    \n",
    "tags = set(tags)"
   ]
  },
  {
   "cell_type": "code",
   "execution_count": 24,
   "metadata": {
    "ExecuteTime": {
     "end_time": "2021-07-20T17:45:23.594567Z",
     "start_time": "2021-07-20T17:45:23.579355Z"
    }
   },
   "outputs": [
    {
     "data": {
      "text/plain": [
       "9474"
      ]
     },
     "execution_count": 24,
     "metadata": {},
     "output_type": "execute_result"
    }
   ],
   "source": [
    "len(tags)"
   ]
  },
  {
   "cell_type": "code",
   "execution_count": 25,
   "metadata": {
    "ExecuteTime": {
     "end_time": "2021-07-20T17:56:42.607606Z",
     "start_time": "2021-07-20T17:45:23.598180Z"
    }
   },
   "outputs": [
    {
     "name": "stderr",
     "output_type": "stream",
     "text": [
      "<ipython-input-25-f5440efe87a5>:2: SettingWithCopyWarning: \n",
      "A value is trying to be set on a copy of a slice from a DataFrame.\n",
      "Try using .loc[row_indexer,col_indexer] = value instead\n",
      "\n",
      "See the caveats in the documentation: https://pandas.pydata.org/pandas-docs/stable/user_guide/indexing.html#returning-a-view-versus-a-copy\n",
      "  df[i] = [1 if i in y else 0 for y in df['Tags']]\n"
     ]
    }
   ],
   "source": [
    "for i in tags:\n",
    "    df[i] = [1 if i in y else 0 for y in df['Tags']]"
   ]
  },
  {
   "cell_type": "code",
   "execution_count": 26,
   "metadata": {
    "ExecuteTime": {
     "end_time": "2021-07-20T17:56:42.689163Z",
     "start_time": "2021-07-20T17:56:42.607606Z"
    }
   },
   "outputs": [
    {
     "data": {
      "text/html": [
       "<div>\n",
       "<style scoped>\n",
       "    .dataframe tbody tr th:only-of-type {\n",
       "        vertical-align: middle;\n",
       "    }\n",
       "\n",
       "    .dataframe tbody tr th {\n",
       "        vertical-align: top;\n",
       "    }\n",
       "\n",
       "    .dataframe thead th {\n",
       "        text-align: right;\n",
       "    }\n",
       "</style>\n",
       "<table border=\"1\" class=\"dataframe\">\n",
       "  <thead>\n",
       "    <tr style=\"text-align: right;\">\n",
       "      <th></th>\n",
       "      <th>Title+Body</th>\n",
       "      <th>Tags</th>\n",
       "      <th>mobilecoreservices</th>\n",
       "      <th>redis-cli</th>\n",
       "      <th>docker-swarm</th>\n",
       "      <th>video-processing</th>\n",
       "      <th>input-type-file</th>\n",
       "      <th>aix</th>\n",
       "      <th>libx264</th>\n",
       "      <th>sbatch</th>\n",
       "      <th>...</th>\n",
       "      <th>kruskals-algorithm</th>\n",
       "      <th>android-10.0</th>\n",
       "      <th>tortoisegit</th>\n",
       "      <th>event-loop</th>\n",
       "      <th>atlassian-sourcetree</th>\n",
       "      <th>chunked-encoding</th>\n",
       "      <th>integer-overflow</th>\n",
       "      <th>sidebar</th>\n",
       "      <th>chinese-locale</th>\n",
       "      <th>methodology</th>\n",
       "    </tr>\n",
       "  </thead>\n",
       "  <tbody>\n",
       "    <tr>\n",
       "      <th>0</th>\n",
       "      <td>[there, any, way, to, tinker, with, the, hone,...</td>\n",
       "      <td>[ios, iphone, windows]</td>\n",
       "      <td>0</td>\n",
       "      <td>0</td>\n",
       "      <td>0</td>\n",
       "      <td>0</td>\n",
       "      <td>0</td>\n",
       "      <td>0</td>\n",
       "      <td>0</td>\n",
       "      <td>0</td>\n",
       "      <td>...</td>\n",
       "      <td>0</td>\n",
       "      <td>0</td>\n",
       "      <td>0</td>\n",
       "      <td>0</td>\n",
       "      <td>0</td>\n",
       "      <td>0</td>\n",
       "      <td>0</td>\n",
       "      <td>0</td>\n",
       "      <td>0</td>\n",
       "      <td>0</td>\n",
       "    </tr>\n",
       "    <tr>\n",
       "      <th>1</th>\n",
       "      <td>[have, this, gigantic, ugly, string, ransactio...</td>\n",
       "      <td>[regex]</td>\n",
       "      <td>0</td>\n",
       "      <td>0</td>\n",
       "      <td>0</td>\n",
       "      <td>0</td>\n",
       "      <td>0</td>\n",
       "      <td>0</td>\n",
       "      <td>0</td>\n",
       "      <td>0</td>\n",
       "      <td>...</td>\n",
       "      <td>0</td>\n",
       "      <td>0</td>\n",
       "      <td>0</td>\n",
       "      <td>0</td>\n",
       "      <td>0</td>\n",
       "      <td>0</td>\n",
       "      <td>0</td>\n",
       "      <td>0</td>\n",
       "      <td>0</td>\n",
       "      <td>0</td>\n",
       "    </tr>\n",
       "    <tr>\n",
       "      <th>2</th>\n",
       "      <td>[am, orking, with, autolayout, and, constraint...</td>\n",
       "      <td>[ios, xcode, storyboard, autolayout, xcode6]</td>\n",
       "      <td>0</td>\n",
       "      <td>0</td>\n",
       "      <td>0</td>\n",
       "      <td>0</td>\n",
       "      <td>0</td>\n",
       "      <td>0</td>\n",
       "      <td>0</td>\n",
       "      <td>0</td>\n",
       "      <td>...</td>\n",
       "      <td>0</td>\n",
       "      <td>0</td>\n",
       "      <td>0</td>\n",
       "      <td>0</td>\n",
       "      <td>0</td>\n",
       "      <td>0</td>\n",
       "      <td>0</td>\n",
       "      <td>0</td>\n",
       "      <td>0</td>\n",
       "      <td>0</td>\n",
       "    </tr>\n",
       "    <tr>\n",
       "      <th>3</th>\n",
       "      <td>[learning, objective, and, keep, bumping, into...</td>\n",
       "      <td>[objective-c]</td>\n",
       "      <td>0</td>\n",
       "      <td>0</td>\n",
       "      <td>0</td>\n",
       "      <td>0</td>\n",
       "      <td>0</td>\n",
       "      <td>0</td>\n",
       "      <td>0</td>\n",
       "      <td>0</td>\n",
       "      <td>...</td>\n",
       "      <td>0</td>\n",
       "      <td>0</td>\n",
       "      <td>0</td>\n",
       "      <td>0</td>\n",
       "      <td>0</td>\n",
       "      <td>0</td>\n",
       "      <td>0</td>\n",
       "      <td>0</td>\n",
       "      <td>0</td>\n",
       "      <td>0</td>\n",
       "    </tr>\n",
       "    <tr>\n",
       "      <th>4</th>\n",
       "      <td>[there, simple, way, in, pretty, standard, env...</td>\n",
       "      <td>[bash, unix, scripting]</td>\n",
       "      <td>0</td>\n",
       "      <td>0</td>\n",
       "      <td>0</td>\n",
       "      <td>0</td>\n",
       "      <td>0</td>\n",
       "      <td>0</td>\n",
       "      <td>0</td>\n",
       "      <td>0</td>\n",
       "      <td>...</td>\n",
       "      <td>0</td>\n",
       "      <td>0</td>\n",
       "      <td>0</td>\n",
       "      <td>0</td>\n",
       "      <td>0</td>\n",
       "      <td>0</td>\n",
       "      <td>0</td>\n",
       "      <td>0</td>\n",
       "      <td>0</td>\n",
       "      <td>0</td>\n",
       "    </tr>\n",
       "  </tbody>\n",
       "</table>\n",
       "<p>5 rows × 9476 columns</p>\n",
       "</div>"
      ],
      "text/plain": [
       "                                          Title+Body  \\\n",
       "0  [there, any, way, to, tinker, with, the, hone,...   \n",
       "1  [have, this, gigantic, ugly, string, ransactio...   \n",
       "2  [am, orking, with, autolayout, and, constraint...   \n",
       "3  [learning, objective, and, keep, bumping, into...   \n",
       "4  [there, simple, way, in, pretty, standard, env...   \n",
       "\n",
       "                                           Tags  mobilecoreservices  \\\n",
       "0                        [ios, iphone, windows]                   0   \n",
       "1                                       [regex]                   0   \n",
       "2  [ios, xcode, storyboard, autolayout, xcode6]                   0   \n",
       "3                                 [objective-c]                   0   \n",
       "4                       [bash, unix, scripting]                   0   \n",
       "\n",
       "   redis-cli  docker-swarm  video-processing  input-type-file  aix  libx264  \\\n",
       "0          0             0                 0                0    0        0   \n",
       "1          0             0                 0                0    0        0   \n",
       "2          0             0                 0                0    0        0   \n",
       "3          0             0                 0                0    0        0   \n",
       "4          0             0                 0                0    0        0   \n",
       "\n",
       "   sbatch  ...  kruskals-algorithm  android-10.0  tortoisegit  event-loop  \\\n",
       "0       0  ...                   0             0            0           0   \n",
       "1       0  ...                   0             0            0           0   \n",
       "2       0  ...                   0             0            0           0   \n",
       "3       0  ...                   0             0            0           0   \n",
       "4       0  ...                   0             0            0           0   \n",
       "\n",
       "   atlassian-sourcetree  chunked-encoding  integer-overflow  sidebar  \\\n",
       "0                     0                 0                 0        0   \n",
       "1                     0                 0                 0        0   \n",
       "2                     0                 0                 0        0   \n",
       "3                     0                 0                 0        0   \n",
       "4                     0                 0                 0        0   \n",
       "\n",
       "   chinese-locale  methodology  \n",
       "0               0            0  \n",
       "1               0            0  \n",
       "2               0            0  \n",
       "3               0            0  \n",
       "4               0            0  \n",
       "\n",
       "[5 rows x 9476 columns]"
      ]
     },
     "execution_count": 26,
     "metadata": {},
     "output_type": "execute_result"
    }
   ],
   "source": [
    "df.head()"
   ]
  },
  {
   "cell_type": "markdown",
   "metadata": {},
   "source": [
    "## Distribution des tags"
   ]
  },
  {
   "cell_type": "markdown",
   "metadata": {},
   "source": [
    "histogramme du nbre d'individu par tags pour savoir si le tags est utile ou non (s'il n'a qu'un individu, sert à rien)"
   ]
  },
  {
   "cell_type": "code",
   "execution_count": 27,
   "metadata": {
    "ExecuteTime": {
     "end_time": "2021-07-20T17:56:45.235668Z",
     "start_time": "2021-07-20T17:56:42.692952Z"
    }
   },
   "outputs": [],
   "source": [
    "# Nbre d'occurence des tags\n",
    "sum_column = df.iloc[:,2:].sum(axis=0)"
   ]
  },
  {
   "cell_type": "code",
   "execution_count": 28,
   "metadata": {
    "ExecuteTime": {
     "end_time": "2021-07-20T17:56:45.261161Z",
     "start_time": "2021-07-20T17:56:45.237178Z"
    }
   },
   "outputs": [
    {
     "name": "stdout",
     "output_type": "stream",
     "text": [
      "mobilecoreservices          1\n",
      "business-logic-layer        1\n",
      "django-custom-manager       1\n",
      "thunk                       1\n",
      "dropzone.js                 1\n",
      "                         ... \n",
      "android                  2863\n",
      "c#                       3281\n",
      "java                     4000\n",
      "python                   4683\n",
      "javascript               4777\n",
      "Length: 9474, dtype: int64\n"
     ]
    }
   ],
   "source": [
    "print (sum_column.sort_values())"
   ]
  },
  {
   "cell_type": "code",
   "execution_count": 29,
   "metadata": {
    "ExecuteTime": {
     "end_time": "2021-07-20T17:56:45.744135Z",
     "start_time": "2021-07-20T17:56:45.263157Z"
    }
   },
   "outputs": [
    {
     "data": {
      "text/plain": [
       "<AxesSubplot:>"
      ]
     },
     "execution_count": 29,
     "metadata": {},
     "output_type": "execute_result"
    },
    {
     "data": {
      "image/png": "[encoded data removed]",
      "text/plain": [
       "<Figure size 1440x360 with 1 Axes>"
      ]
     },
     "metadata": {
      "needs_background": "light"
     },
     "output_type": "display_data"
    }
   ],
   "source": [
    "plt.figure(figsize=(20, 5))\n",
    "sum_column.sort_values().plot()"
   ]
  },
  {
   "cell_type": "markdown",
   "metadata": {
    "ExecuteTime": {
     "end_time": "2021-06-18T15:38:31.876639Z",
     "start_time": "2021-06-18T15:38:31.873333Z"
    }
   },
   "source": [
    "On ne va garder que les 100 tags les plus utilisés"
   ]
  },
  {
   "cell_type": "code",
   "execution_count": 30,
   "metadata": {
    "ExecuteTime": {
     "end_time": "2021-07-20T17:56:46.061793Z",
     "start_time": "2021-07-20T17:56:45.746132Z"
    }
   },
   "outputs": [
    {
     "data": {
      "text/plain": [
       "Text(0.5, 1.0, \"Nombre d'occurence du tag\")"
      ]
     },
     "execution_count": 30,
     "metadata": {},
     "output_type": "execute_result"
    },
    {
     "data": {
      "image/png": "[encoded data removed]",
      "text/plain": [
       "<Figure size 1440x360 with 1 Axes>"
      ]
     },
     "metadata": {
      "needs_background": "light"
     },
     "output_type": "display_data"
    }
   ],
   "source": [
    "plt.figure(figsize=(20, 5))\n",
    "sum_column.sort_values()[-100:].plot()\n",
    "plt.title(\"Nombre d'occurence du tag\")"
   ]
  },
  {
   "cell_type": "code",
   "execution_count": 45,
   "metadata": {
    "ExecuteTime": {
     "end_time": "2021-07-23T09:24:28.227490Z",
     "start_time": "2021-07-23T09:24:28.193052Z"
    }
   },
   "outputs": [
    {
     "name": "stderr",
     "output_type": "stream",
     "text": [
      "C:\\Users\\EliseAndro\\anaconda3\\lib\\site-packages\\ipykernel\\ipkernel.py:287: DeprecationWarning: `should_run_async` will not call `transform_cell` automatically in the future. Please pass the result to `transformed_cell` argument and any exception that happen during thetransform in `preprocessing_exc_tuple` in IPython 7.17 and above.\n",
      "  and should_run_async(code)\n"
     ]
    }
   ],
   "source": [
    "df2 = df.drop(columns = sum_column.sort_values()[0:-100].index)"
   ]
  },
  {
   "cell_type": "code",
   "execution_count": 46,
   "metadata": {
    "ExecuteTime": {
     "end_time": "2021-07-23T09:24:28.930319Z",
     "start_time": "2021-07-23T09:24:28.789143Z"
    },
    "scrolled": true
   },
   "outputs": [
    {
     "name": "stderr",
     "output_type": "stream",
     "text": [
      "C:\\Users\\EliseAndro\\anaconda3\\lib\\site-packages\\ipykernel\\ipkernel.py:287: DeprecationWarning: `should_run_async` will not call `transform_cell` automatically in the future. Please pass the result to `transformed_cell` argument and any exception that happen during thetransform in `preprocessing_exc_tuple` in IPython 7.17 and above.\n",
      "  and should_run_async(code)\n"
     ]
    },
    {
     "data": {
      "text/html": [
       "<div>\n",
       "<style scoped>\n",
       "    .dataframe tbody tr th:only-of-type {\n",
       "        vertical-align: middle;\n",
       "    }\n",
       "\n",
       "    .dataframe tbody tr th {\n",
       "        vertical-align: top;\n",
       "    }\n",
       "\n",
       "    .dataframe thead th {\n",
       "        text-align: right;\n",
       "    }\n",
       "</style>\n",
       "<table border=\"1\" class=\"dataframe\">\n",
       "  <thead>\n",
       "    <tr style=\"text-align: right;\">\n",
       "      <th></th>\n",
       "      <th>Title+Body</th>\n",
       "      <th>Tags</th>\n",
       "      <th>numpy</th>\n",
       "      <th>forms</th>\n",
       "      <th>string</th>\n",
       "      <th>angular</th>\n",
       "      <th>class</th>\n",
       "      <th>angularjs</th>\n",
       "      <th>windows</th>\n",
       "      <th>npm</th>\n",
       "      <th>...</th>\n",
       "      <th>reactjs</th>\n",
       "      <th>node.js</th>\n",
       "      <th>shell</th>\n",
       "      <th>arrays</th>\n",
       "      <th>android</th>\n",
       "      <th>language-agnostic</th>\n",
       "      <th>css</th>\n",
       "      <th>collections</th>\n",
       "      <th>eclipse</th>\n",
       "      <th>nbre_tags</th>\n",
       "    </tr>\n",
       "  </thead>\n",
       "  <tbody>\n",
       "    <tr>\n",
       "      <th>20165</th>\n",
       "      <td>[have, elenium, test, suite, that, runs, many,...</td>\n",
       "      <td>[selenium, selenium-webdriver, webdriver, sele...</td>\n",
       "      <td>0</td>\n",
       "      <td>0</td>\n",
       "      <td>0</td>\n",
       "      <td>0</td>\n",
       "      <td>0</td>\n",
       "      <td>0</td>\n",
       "      <td>0</td>\n",
       "      <td>0</td>\n",
       "      <td>...</td>\n",
       "      <td>0</td>\n",
       "      <td>0</td>\n",
       "      <td>0</td>\n",
       "      <td>0</td>\n",
       "      <td>0</td>\n",
       "      <td>0</td>\n",
       "      <td>0</td>\n",
       "      <td>0</td>\n",
       "      <td>0</td>\n",
       "      <td>0</td>\n",
       "    </tr>\n",
       "    <tr>\n",
       "      <th>41400</th>\n",
       "      <td>[here, is, slack, private, channel, with, slac...</td>\n",
       "      <td>[bots, slack]</td>\n",
       "      <td>0</td>\n",
       "      <td>0</td>\n",
       "      <td>0</td>\n",
       "      <td>0</td>\n",
       "      <td>0</td>\n",
       "      <td>0</td>\n",
       "      <td>0</td>\n",
       "      <td>0</td>\n",
       "      <td>...</td>\n",
       "      <td>0</td>\n",
       "      <td>0</td>\n",
       "      <td>0</td>\n",
       "      <td>0</td>\n",
       "      <td>0</td>\n",
       "      <td>0</td>\n",
       "      <td>0</td>\n",
       "      <td>0</td>\n",
       "      <td>0</td>\n",
       "      <td>0</td>\n",
       "    </tr>\n",
       "    <tr>\n",
       "      <th>18515</th>\n",
       "      <td>[there, shortcut, to, run, all, cells, in, an,...</td>\n",
       "      <td>[keyboard-shortcuts, jupyter-notebook]</td>\n",
       "      <td>0</td>\n",
       "      <td>0</td>\n",
       "      <td>0</td>\n",
       "      <td>0</td>\n",
       "      <td>0</td>\n",
       "      <td>0</td>\n",
       "      <td>0</td>\n",
       "      <td>0</td>\n",
       "      <td>...</td>\n",
       "      <td>0</td>\n",
       "      <td>0</td>\n",
       "      <td>0</td>\n",
       "      <td>0</td>\n",
       "      <td>0</td>\n",
       "      <td>0</td>\n",
       "      <td>0</td>\n",
       "      <td>0</td>\n",
       "      <td>0</td>\n",
       "      <td>0</td>\n",
       "    </tr>\n",
       "    <tr>\n",
       "      <th>7191</th>\n",
       "      <td>[usually, have, policy, in, my, project, to, n...</td>\n",
       "      <td>[cmake]</td>\n",
       "      <td>0</td>\n",
       "      <td>0</td>\n",
       "      <td>0</td>\n",
       "      <td>0</td>\n",
       "      <td>0</td>\n",
       "      <td>0</td>\n",
       "      <td>0</td>\n",
       "      <td>0</td>\n",
       "      <td>...</td>\n",
       "      <td>0</td>\n",
       "      <td>0</td>\n",
       "      <td>0</td>\n",
       "      <td>0</td>\n",
       "      <td>0</td>\n",
       "      <td>0</td>\n",
       "      <td>0</td>\n",
       "      <td>0</td>\n",
       "      <td>0</td>\n",
       "      <td>0</td>\n",
       "    </tr>\n",
       "    <tr>\n",
       "      <th>36415</th>\n",
       "      <td>[ow, do, we, achieve, recursive, directory, li...</td>\n",
       "      <td>[dos, directory-listing]</td>\n",
       "      <td>0</td>\n",
       "      <td>0</td>\n",
       "      <td>0</td>\n",
       "      <td>0</td>\n",
       "      <td>0</td>\n",
       "      <td>0</td>\n",
       "      <td>0</td>\n",
       "      <td>0</td>\n",
       "      <td>...</td>\n",
       "      <td>0</td>\n",
       "      <td>0</td>\n",
       "      <td>0</td>\n",
       "      <td>0</td>\n",
       "      <td>0</td>\n",
       "      <td>0</td>\n",
       "      <td>0</td>\n",
       "      <td>0</td>\n",
       "      <td>0</td>\n",
       "      <td>0</td>\n",
       "    </tr>\n",
       "    <tr>\n",
       "      <th>...</th>\n",
       "      <td>...</td>\n",
       "      <td>...</td>\n",
       "      <td>...</td>\n",
       "      <td>...</td>\n",
       "      <td>...</td>\n",
       "      <td>...</td>\n",
       "      <td>...</td>\n",
       "      <td>...</td>\n",
       "      <td>...</td>\n",
       "      <td>...</td>\n",
       "      <td>...</td>\n",
       "      <td>...</td>\n",
       "      <td>...</td>\n",
       "      <td>...</td>\n",
       "      <td>...</td>\n",
       "      <td>...</td>\n",
       "      <td>...</td>\n",
       "      <td>...</td>\n",
       "      <td>...</td>\n",
       "      <td>...</td>\n",
       "      <td>...</td>\n",
       "    </tr>\n",
       "    <tr>\n",
       "      <th>25519</th>\n",
       "      <td>[would, like, to, execute, single, statement, ...</td>\n",
       "      <td>[php, linux, function, shell, command-line]</td>\n",
       "      <td>0</td>\n",
       "      <td>0</td>\n",
       "      <td>0</td>\n",
       "      <td>0</td>\n",
       "      <td>0</td>\n",
       "      <td>0</td>\n",
       "      <td>0</td>\n",
       "      <td>0</td>\n",
       "      <td>...</td>\n",
       "      <td>0</td>\n",
       "      <td>0</td>\n",
       "      <td>1</td>\n",
       "      <td>0</td>\n",
       "      <td>0</td>\n",
       "      <td>0</td>\n",
       "      <td>0</td>\n",
       "      <td>0</td>\n",
       "      <td>0</td>\n",
       "      <td>5</td>\n",
       "    </tr>\n",
       "    <tr>\n",
       "      <th>40037</th>\n",
       "      <td>[ajax, url, test, html, error, function, do, s...</td>\n",
       "      <td>[javascript, jquery, html, css, ajax]</td>\n",
       "      <td>0</td>\n",
       "      <td>0</td>\n",
       "      <td>0</td>\n",
       "      <td>0</td>\n",
       "      <td>0</td>\n",
       "      <td>0</td>\n",
       "      <td>0</td>\n",
       "      <td>0</td>\n",
       "      <td>...</td>\n",
       "      <td>0</td>\n",
       "      <td>0</td>\n",
       "      <td>0</td>\n",
       "      <td>0</td>\n",
       "      <td>0</td>\n",
       "      <td>0</td>\n",
       "      <td>1</td>\n",
       "      <td>0</td>\n",
       "      <td>0</td>\n",
       "      <td>5</td>\n",
       "    </tr>\n",
       "    <tr>\n",
       "      <th>40036</th>\n",
       "      <td>[he, lt, video, gt, tags, autoplay, autoplay, ...</td>\n",
       "      <td>[jquery, ios, objective-c, html, cocoa-touch]</td>\n",
       "      <td>0</td>\n",
       "      <td>0</td>\n",
       "      <td>0</td>\n",
       "      <td>0</td>\n",
       "      <td>0</td>\n",
       "      <td>0</td>\n",
       "      <td>0</td>\n",
       "      <td>0</td>\n",
       "      <td>...</td>\n",
       "      <td>0</td>\n",
       "      <td>0</td>\n",
       "      <td>0</td>\n",
       "      <td>0</td>\n",
       "      <td>0</td>\n",
       "      <td>0</td>\n",
       "      <td>0</td>\n",
       "      <td>0</td>\n",
       "      <td>0</td>\n",
       "      <td>5</td>\n",
       "    </tr>\n",
       "    <tr>\n",
       "      <th>17480</th>\n",
       "      <td>[have, dataframe, in, pandas, and, trying, to,...</td>\n",
       "      <td>[python, pandas, numpy, dataframe, types]</td>\n",
       "      <td>1</td>\n",
       "      <td>0</td>\n",
       "      <td>0</td>\n",
       "      <td>0</td>\n",
       "      <td>0</td>\n",
       "      <td>0</td>\n",
       "      <td>0</td>\n",
       "      <td>0</td>\n",
       "      <td>...</td>\n",
       "      <td>0</td>\n",
       "      <td>0</td>\n",
       "      <td>0</td>\n",
       "      <td>0</td>\n",
       "      <td>0</td>\n",
       "      <td>0</td>\n",
       "      <td>0</td>\n",
       "      <td>0</td>\n",
       "      <td>0</td>\n",
       "      <td>5</td>\n",
       "    </tr>\n",
       "    <tr>\n",
       "      <th>39873</th>\n",
       "      <td>[am, getting, the, below, error, rror, annot, ...</td>\n",
       "      <td>[javascript, angularjs, windows, node.js, mong...</td>\n",
       "      <td>0</td>\n",
       "      <td>0</td>\n",
       "      <td>0</td>\n",
       "      <td>0</td>\n",
       "      <td>0</td>\n",
       "      <td>1</td>\n",
       "      <td>1</td>\n",
       "      <td>0</td>\n",
       "      <td>...</td>\n",
       "      <td>0</td>\n",
       "      <td>1</td>\n",
       "      <td>0</td>\n",
       "      <td>0</td>\n",
       "      <td>0</td>\n",
       "      <td>0</td>\n",
       "      <td>0</td>\n",
       "      <td>0</td>\n",
       "      <td>0</td>\n",
       "      <td>5</td>\n",
       "    </tr>\n",
       "  </tbody>\n",
       "</table>\n",
       "<p>44995 rows × 103 columns</p>\n",
       "</div>"
      ],
      "text/plain": [
       "                                              Title+Body  \\\n",
       "20165  [have, elenium, test, suite, that, runs, many,...   \n",
       "41400  [here, is, slack, private, channel, with, slac...   \n",
       "18515  [there, shortcut, to, run, all, cells, in, an,...   \n",
       "7191   [usually, have, policy, in, my, project, to, n...   \n",
       "36415  [ow, do, we, achieve, recursive, directory, li...   \n",
       "...                                                  ...   \n",
       "25519  [would, like, to, execute, single, statement, ...   \n",
       "40037  [ajax, url, test, html, error, function, do, s...   \n",
       "40036  [he, lt, video, gt, tags, autoplay, autoplay, ...   \n",
       "17480  [have, dataframe, in, pandas, and, trying, to,...   \n",
       "39873  [am, getting, the, below, error, rror, annot, ...   \n",
       "\n",
       "                                                    Tags  numpy  forms  \\\n",
       "20165  [selenium, selenium-webdriver, webdriver, sele...      0      0   \n",
       "41400                                      [bots, slack]      0      0   \n",
       "18515             [keyboard-shortcuts, jupyter-notebook]      0      0   \n",
       "7191                                             [cmake]      0      0   \n",
       "36415                           [dos, directory-listing]      0      0   \n",
       "...                                                  ...    ...    ...   \n",
       "25519        [php, linux, function, shell, command-line]      0      0   \n",
       "40037              [javascript, jquery, html, css, ajax]      0      0   \n",
       "40036      [jquery, ios, objective-c, html, cocoa-touch]      0      0   \n",
       "17480          [python, pandas, numpy, dataframe, types]      1      0   \n",
       "39873  [javascript, angularjs, windows, node.js, mong...      0      0   \n",
       "\n",
       "       string  angular  class  angularjs  windows  npm  ...  reactjs  node.js  \\\n",
       "20165       0        0      0          0        0    0  ...        0        0   \n",
       "41400       0        0      0          0        0    0  ...        0        0   \n",
       "18515       0        0      0          0        0    0  ...        0        0   \n",
       "7191        0        0      0          0        0    0  ...        0        0   \n",
       "36415       0        0      0          0        0    0  ...        0        0   \n",
       "...       ...      ...    ...        ...      ...  ...  ...      ...      ...   \n",
       "25519       0        0      0          0        0    0  ...        0        0   \n",
       "40037       0        0      0          0        0    0  ...        0        0   \n",
       "40036       0        0      0          0        0    0  ...        0        0   \n",
       "17480       0        0      0          0        0    0  ...        0        0   \n",
       "39873       0        0      0          1        1    0  ...        0        1   \n",
       "\n",
       "       shell  arrays  android  language-agnostic  css  collections  eclipse  \\\n",
       "20165      0       0        0                  0    0            0        0   \n",
       "41400      0       0        0                  0    0            0        0   \n",
       "18515      0       0        0                  0    0            0        0   \n",
       "7191       0       0        0                  0    0            0        0   \n",
       "36415      0       0        0                  0    0            0        0   \n",
       "...      ...     ...      ...                ...  ...          ...      ...   \n",
       "25519      1       0        0                  0    0            0        0   \n",
       "40037      0       0        0                  0    1            0        0   \n",
       "40036      0       0        0                  0    0            0        0   \n",
       "17480      0       0        0                  0    0            0        0   \n",
       "39873      0       0        0                  0    0            0        0   \n",
       "\n",
       "       nbre_tags  \n",
       "20165          0  \n",
       "41400          0  \n",
       "18515          0  \n",
       "7191           0  \n",
       "36415          0  \n",
       "...          ...  \n",
       "25519          5  \n",
       "40037          5  \n",
       "40036          5  \n",
       "17480          5  \n",
       "39873          5  \n",
       "\n",
       "[44995 rows x 103 columns]"
      ]
     },
     "execution_count": 46,
     "metadata": {},
     "output_type": "execute_result"
    }
   ],
   "source": [
    "df2['nbre_tags'] = df2.iloc[:,2:].sum(axis=1)\n",
    "df2.sort_values(by='nbre_tags')"
   ]
  },
  {
   "cell_type": "code",
   "execution_count": 47,
   "metadata": {
    "ExecuteTime": {
     "end_time": "2021-07-23T09:24:29.457451Z",
     "start_time": "2021-07-23T09:24:29.403844Z"
    }
   },
   "outputs": [
    {
     "name": "stderr",
     "output_type": "stream",
     "text": [
      "C:\\Users\\EliseAndro\\anaconda3\\lib\\site-packages\\ipykernel\\ipkernel.py:287: DeprecationWarning: `should_run_async` will not call `transform_cell` automatically in the future. Please pass the result to `transformed_cell` argument and any exception that happen during thetransform in `preprocessing_exc_tuple` in IPython 7.17 and above.\n",
      "  and should_run_async(code)\n"
     ]
    }
   ],
   "source": [
    "# On retire tous les individus qui n'ont pas de tags parmi les 100 premiers \n",
    "df2 = df2.loc[df2['nbre_tags']>0]\n",
    "df2.drop(columns = ['nbre_tags','Tags'], inplace=True)"
   ]
  },
  {
   "cell_type": "code",
   "execution_count": 48,
   "metadata": {
    "ExecuteTime": {
     "end_time": "2021-07-23T09:24:30.006190Z",
     "start_time": "2021-07-23T09:24:29.968287Z"
    }
   },
   "outputs": [
    {
     "name": "stdout",
     "output_type": "stream",
     "text": [
      "types           178\n",
      "java-8          178\n",
      "forms           182\n",
      "collections     185\n",
      "class           185\n",
      "               ... \n",
      "android        2863\n",
      "c#             3281\n",
      "java           4000\n",
      "python         4683\n",
      "javascript     4777\n",
      "Length: 98, dtype: int64\n"
     ]
    },
    {
     "name": "stderr",
     "output_type": "stream",
     "text": [
      "C:\\Users\\EliseAndro\\anaconda3\\lib\\site-packages\\ipykernel\\ipkernel.py:287: DeprecationWarning: `should_run_async` will not call `transform_cell` automatically in the future. Please pass the result to `transformed_cell` argument and any exception that happen during thetransform in `preprocessing_exc_tuple` in IPython 7.17 and above.\n",
      "  and should_run_async(code)\n"
     ]
    }
   ],
   "source": [
    "# Nbre d'occurence des 100 premiers tags\n",
    "sum_column2 = df2.iloc[:,2:-1].sum(axis=0)\n",
    "print (sum_column2.sort_values())"
   ]
  },
  {
   "cell_type": "code",
   "execution_count": 49,
   "metadata": {
    "ExecuteTime": {
     "end_time": "2021-07-23T09:24:30.412847Z",
     "start_time": "2021-07-23T09:24:30.403360Z"
    }
   },
   "outputs": [
    {
     "name": "stdout",
     "output_type": "stream",
     "text": [
      "df2 dimension: (40730, 101)\n",
      "df dimension: (44995, 9476)\n"
     ]
    },
    {
     "name": "stderr",
     "output_type": "stream",
     "text": [
      "C:\\Users\\EliseAndro\\anaconda3\\lib\\site-packages\\ipykernel\\ipkernel.py:287: DeprecationWarning: `should_run_async` will not call `transform_cell` automatically in the future. Please pass the result to `transformed_cell` argument and any exception that happen during thetransform in `preprocessing_exc_tuple` in IPython 7.17 and above.\n",
      "  and should_run_async(code)\n"
     ]
    }
   ],
   "source": [
    "# Regarde la différence de dataset, la perte des individus\n",
    "print('df2 dimension:',df2.shape)\n",
    "print('df dimension:',df.shape)"
   ]
  },
  {
   "cell_type": "code",
   "execution_count": 50,
   "metadata": {
    "ExecuteTime": {
     "end_time": "2021-07-23T09:24:32.055776Z",
     "start_time": "2021-07-23T09:24:32.000906Z"
    },
    "scrolled": true
   },
   "outputs": [
    {
     "name": "stderr",
     "output_type": "stream",
     "text": [
      "C:\\Users\\EliseAndro\\anaconda3\\lib\\site-packages\\ipykernel\\ipkernel.py:287: DeprecationWarning: `should_run_async` will not call `transform_cell` automatically in the future. Please pass the result to `transformed_cell` argument and any exception that happen during thetransform in `preprocessing_exc_tuple` in IPython 7.17 and above.\n",
      "  and should_run_async(code)\n"
     ]
    },
    {
     "data": {
      "text/html": [
       "<div>\n",
       "<style scoped>\n",
       "    .dataframe tbody tr th:only-of-type {\n",
       "        vertical-align: middle;\n",
       "    }\n",
       "\n",
       "    .dataframe tbody tr th {\n",
       "        vertical-align: top;\n",
       "    }\n",
       "\n",
       "    .dataframe thead th {\n",
       "        text-align: right;\n",
       "    }\n",
       "</style>\n",
       "<table border=\"1\" class=\"dataframe\">\n",
       "  <thead>\n",
       "    <tr style=\"text-align: right;\">\n",
       "      <th></th>\n",
       "      <th>Title+Body</th>\n",
       "      <th>numpy</th>\n",
       "      <th>forms</th>\n",
       "      <th>string</th>\n",
       "      <th>angular</th>\n",
       "      <th>class</th>\n",
       "      <th>angularjs</th>\n",
       "      <th>windows</th>\n",
       "      <th>npm</th>\n",
       "      <th>python</th>\n",
       "      <th>...</th>\n",
       "      <th>r</th>\n",
       "      <th>reactjs</th>\n",
       "      <th>node.js</th>\n",
       "      <th>shell</th>\n",
       "      <th>arrays</th>\n",
       "      <th>android</th>\n",
       "      <th>language-agnostic</th>\n",
       "      <th>css</th>\n",
       "      <th>collections</th>\n",
       "      <th>eclipse</th>\n",
       "    </tr>\n",
       "  </thead>\n",
       "  <tbody>\n",
       "    <tr>\n",
       "      <th>0</th>\n",
       "      <td>[there, any, way, to, tinker, with, the, hone,...</td>\n",
       "      <td>0</td>\n",
       "      <td>0</td>\n",
       "      <td>0</td>\n",
       "      <td>0</td>\n",
       "      <td>0</td>\n",
       "      <td>0</td>\n",
       "      <td>1</td>\n",
       "      <td>0</td>\n",
       "      <td>0</td>\n",
       "      <td>...</td>\n",
       "      <td>0</td>\n",
       "      <td>0</td>\n",
       "      <td>0</td>\n",
       "      <td>0</td>\n",
       "      <td>0</td>\n",
       "      <td>0</td>\n",
       "      <td>0</td>\n",
       "      <td>0</td>\n",
       "      <td>0</td>\n",
       "      <td>0</td>\n",
       "    </tr>\n",
       "    <tr>\n",
       "      <th>1</th>\n",
       "      <td>[have, this, gigantic, ugly, string, ransactio...</td>\n",
       "      <td>0</td>\n",
       "      <td>0</td>\n",
       "      <td>0</td>\n",
       "      <td>0</td>\n",
       "      <td>0</td>\n",
       "      <td>0</td>\n",
       "      <td>0</td>\n",
       "      <td>0</td>\n",
       "      <td>0</td>\n",
       "      <td>...</td>\n",
       "      <td>0</td>\n",
       "      <td>0</td>\n",
       "      <td>0</td>\n",
       "      <td>0</td>\n",
       "      <td>0</td>\n",
       "      <td>0</td>\n",
       "      <td>0</td>\n",
       "      <td>0</td>\n",
       "      <td>0</td>\n",
       "      <td>0</td>\n",
       "    </tr>\n",
       "    <tr>\n",
       "      <th>2</th>\n",
       "      <td>[am, orking, with, autolayout, and, constraint...</td>\n",
       "      <td>0</td>\n",
       "      <td>0</td>\n",
       "      <td>0</td>\n",
       "      <td>0</td>\n",
       "      <td>0</td>\n",
       "      <td>0</td>\n",
       "      <td>0</td>\n",
       "      <td>0</td>\n",
       "      <td>0</td>\n",
       "      <td>...</td>\n",
       "      <td>0</td>\n",
       "      <td>0</td>\n",
       "      <td>0</td>\n",
       "      <td>0</td>\n",
       "      <td>0</td>\n",
       "      <td>0</td>\n",
       "      <td>0</td>\n",
       "      <td>0</td>\n",
       "      <td>0</td>\n",
       "      <td>0</td>\n",
       "    </tr>\n",
       "    <tr>\n",
       "      <th>3</th>\n",
       "      <td>[learning, objective, and, keep, bumping, into...</td>\n",
       "      <td>0</td>\n",
       "      <td>0</td>\n",
       "      <td>0</td>\n",
       "      <td>0</td>\n",
       "      <td>0</td>\n",
       "      <td>0</td>\n",
       "      <td>0</td>\n",
       "      <td>0</td>\n",
       "      <td>0</td>\n",
       "      <td>...</td>\n",
       "      <td>0</td>\n",
       "      <td>0</td>\n",
       "      <td>0</td>\n",
       "      <td>0</td>\n",
       "      <td>0</td>\n",
       "      <td>0</td>\n",
       "      <td>0</td>\n",
       "      <td>0</td>\n",
       "      <td>0</td>\n",
       "      <td>0</td>\n",
       "    </tr>\n",
       "    <tr>\n",
       "      <th>4</th>\n",
       "      <td>[there, simple, way, in, pretty, standard, env...</td>\n",
       "      <td>0</td>\n",
       "      <td>0</td>\n",
       "      <td>0</td>\n",
       "      <td>0</td>\n",
       "      <td>0</td>\n",
       "      <td>0</td>\n",
       "      <td>0</td>\n",
       "      <td>0</td>\n",
       "      <td>0</td>\n",
       "      <td>...</td>\n",
       "      <td>0</td>\n",
       "      <td>0</td>\n",
       "      <td>0</td>\n",
       "      <td>0</td>\n",
       "      <td>0</td>\n",
       "      <td>0</td>\n",
       "      <td>0</td>\n",
       "      <td>0</td>\n",
       "      <td>0</td>\n",
       "      <td>0</td>\n",
       "    </tr>\n",
       "    <tr>\n",
       "      <th>...</th>\n",
       "      <td>...</td>\n",
       "      <td>...</td>\n",
       "      <td>...</td>\n",
       "      <td>...</td>\n",
       "      <td>...</td>\n",
       "      <td>...</td>\n",
       "      <td>...</td>\n",
       "      <td>...</td>\n",
       "      <td>...</td>\n",
       "      <td>...</td>\n",
       "      <td>...</td>\n",
       "      <td>...</td>\n",
       "      <td>...</td>\n",
       "      <td>...</td>\n",
       "      <td>...</td>\n",
       "      <td>...</td>\n",
       "      <td>...</td>\n",
       "      <td>...</td>\n",
       "      <td>...</td>\n",
       "      <td>...</td>\n",
       "      <td>...</td>\n",
       "    </tr>\n",
       "    <tr>\n",
       "      <th>44990</th>\n",
       "      <td>[ecently, upgraded, the, version, of, jango, f...</td>\n",
       "      <td>0</td>\n",
       "      <td>0</td>\n",
       "      <td>0</td>\n",
       "      <td>0</td>\n",
       "      <td>0</td>\n",
       "      <td>0</td>\n",
       "      <td>0</td>\n",
       "      <td>0</td>\n",
       "      <td>0</td>\n",
       "      <td>...</td>\n",
       "      <td>0</td>\n",
       "      <td>0</td>\n",
       "      <td>0</td>\n",
       "      <td>0</td>\n",
       "      <td>0</td>\n",
       "      <td>0</td>\n",
       "      <td>0</td>\n",
       "      <td>0</td>\n",
       "      <td>0</td>\n",
       "      <td>0</td>\n",
       "    </tr>\n",
       "    <tr>\n",
       "      <th>44991</th>\n",
       "      <td>[ow, can, reject, promise, that, returned, by,...</td>\n",
       "      <td>0</td>\n",
       "      <td>0</td>\n",
       "      <td>0</td>\n",
       "      <td>0</td>\n",
       "      <td>0</td>\n",
       "      <td>0</td>\n",
       "      <td>0</td>\n",
       "      <td>0</td>\n",
       "      <td>0</td>\n",
       "      <td>...</td>\n",
       "      <td>0</td>\n",
       "      <td>0</td>\n",
       "      <td>0</td>\n",
       "      <td>0</td>\n",
       "      <td>0</td>\n",
       "      <td>0</td>\n",
       "      <td>0</td>\n",
       "      <td>0</td>\n",
       "      <td>0</td>\n",
       "      <td>0</td>\n",
       "    </tr>\n",
       "    <tr>\n",
       "      <th>44992</th>\n",
       "      <td>[have, entities, that, are, related, as, one, ...</td>\n",
       "      <td>0</td>\n",
       "      <td>0</td>\n",
       "      <td>0</td>\n",
       "      <td>0</td>\n",
       "      <td>0</td>\n",
       "      <td>0</td>\n",
       "      <td>0</td>\n",
       "      <td>0</td>\n",
       "      <td>0</td>\n",
       "      <td>...</td>\n",
       "      <td>0</td>\n",
       "      <td>0</td>\n",
       "      <td>0</td>\n",
       "      <td>0</td>\n",
       "      <td>0</td>\n",
       "      <td>0</td>\n",
       "      <td>0</td>\n",
       "      <td>0</td>\n",
       "      <td>0</td>\n",
       "      <td>0</td>\n",
       "    </tr>\n",
       "    <tr>\n",
       "      <th>44993</th>\n",
       "      <td>[roblem, want, to, return, file, in, my, et, e...</td>\n",
       "      <td>0</td>\n",
       "      <td>0</td>\n",
       "      <td>0</td>\n",
       "      <td>0</td>\n",
       "      <td>0</td>\n",
       "      <td>0</td>\n",
       "      <td>0</td>\n",
       "      <td>0</td>\n",
       "      <td>0</td>\n",
       "      <td>...</td>\n",
       "      <td>0</td>\n",
       "      <td>0</td>\n",
       "      <td>0</td>\n",
       "      <td>0</td>\n",
       "      <td>0</td>\n",
       "      <td>0</td>\n",
       "      <td>0</td>\n",
       "      <td>0</td>\n",
       "      <td>0</td>\n",
       "      <td>0</td>\n",
       "    </tr>\n",
       "    <tr>\n",
       "      <th>44994</th>\n",
       "      <td>[sing, suggested, method, his, is, the, result...</td>\n",
       "      <td>0</td>\n",
       "      <td>0</td>\n",
       "      <td>0</td>\n",
       "      <td>0</td>\n",
       "      <td>0</td>\n",
       "      <td>0</td>\n",
       "      <td>0</td>\n",
       "      <td>0</td>\n",
       "      <td>0</td>\n",
       "      <td>...</td>\n",
       "      <td>0</td>\n",
       "      <td>1</td>\n",
       "      <td>0</td>\n",
       "      <td>0</td>\n",
       "      <td>0</td>\n",
       "      <td>0</td>\n",
       "      <td>0</td>\n",
       "      <td>0</td>\n",
       "      <td>0</td>\n",
       "      <td>0</td>\n",
       "    </tr>\n",
       "  </tbody>\n",
       "</table>\n",
       "<p>40730 rows × 101 columns</p>\n",
       "</div>"
      ],
      "text/plain": [
       "                                              Title+Body  numpy  forms  \\\n",
       "0      [there, any, way, to, tinker, with, the, hone,...      0      0   \n",
       "1      [have, this, gigantic, ugly, string, ransactio...      0      0   \n",
       "2      [am, orking, with, autolayout, and, constraint...      0      0   \n",
       "3      [learning, objective, and, keep, bumping, into...      0      0   \n",
       "4      [there, simple, way, in, pretty, standard, env...      0      0   \n",
       "...                                                  ...    ...    ...   \n",
       "44990  [ecently, upgraded, the, version, of, jango, f...      0      0   \n",
       "44991  [ow, can, reject, promise, that, returned, by,...      0      0   \n",
       "44992  [have, entities, that, are, related, as, one, ...      0      0   \n",
       "44993  [roblem, want, to, return, file, in, my, et, e...      0      0   \n",
       "44994  [sing, suggested, method, his, is, the, result...      0      0   \n",
       "\n",
       "       string  angular  class  angularjs  windows  npm  python  ...  r  \\\n",
       "0           0        0      0          0        1    0       0  ...  0   \n",
       "1           0        0      0          0        0    0       0  ...  0   \n",
       "2           0        0      0          0        0    0       0  ...  0   \n",
       "3           0        0      0          0        0    0       0  ...  0   \n",
       "4           0        0      0          0        0    0       0  ...  0   \n",
       "...       ...      ...    ...        ...      ...  ...     ...  ... ..   \n",
       "44990       0        0      0          0        0    0       0  ...  0   \n",
       "44991       0        0      0          0        0    0       0  ...  0   \n",
       "44992       0        0      0          0        0    0       0  ...  0   \n",
       "44993       0        0      0          0        0    0       0  ...  0   \n",
       "44994       0        0      0          0        0    0       0  ...  0   \n",
       "\n",
       "       reactjs  node.js  shell  arrays  android  language-agnostic  css  \\\n",
       "0            0        0      0       0        0                  0    0   \n",
       "1            0        0      0       0        0                  0    0   \n",
       "2            0        0      0       0        0                  0    0   \n",
       "3            0        0      0       0        0                  0    0   \n",
       "4            0        0      0       0        0                  0    0   \n",
       "...        ...      ...    ...     ...      ...                ...  ...   \n",
       "44990        0        0      0       0        0                  0    0   \n",
       "44991        0        0      0       0        0                  0    0   \n",
       "44992        0        0      0       0        0                  0    0   \n",
       "44993        0        0      0       0        0                  0    0   \n",
       "44994        1        0      0       0        0                  0    0   \n",
       "\n",
       "       collections  eclipse  \n",
       "0                0        0  \n",
       "1                0        0  \n",
       "2                0        0  \n",
       "3                0        0  \n",
       "4                0        0  \n",
       "...            ...      ...  \n",
       "44990            0        0  \n",
       "44991            0        0  \n",
       "44992            0        0  \n",
       "44993            0        0  \n",
       "44994            0        0  \n",
       "\n",
       "[40730 rows x 101 columns]"
      ]
     },
     "execution_count": 50,
     "metadata": {},
     "output_type": "execute_result"
    }
   ],
   "source": [
    "df2"
   ]
  },
  {
   "cell_type": "markdown",
   "metadata": {
    "ExecuteTime": {
     "end_time": "2021-06-17T09:32:06.926975Z",
     "start_time": "2021-06-17T09:32:06.923211Z"
    }
   },
   "source": [
    "# Normalisation et construction du dictionnaire"
   ]
  },
  {
   "cell_type": "code",
   "execution_count": null,
   "metadata": {
    "ExecuteTime": {
     "end_time": "2021-06-17T14:46:02.643693Z",
     "start_time": "2021-06-17T14:46:02.443123Z"
    }
   },
   "outputs": [],
   "source": []
  },
  {
   "cell_type": "code",
   "execution_count": null,
   "metadata": {},
   "outputs": [],
   "source": []
  },
  {
   "cell_type": "code",
   "execution_count": null,
   "metadata": {},
   "outputs": [],
   "source": []
  },
  {
   "cell_type": "code",
   "execution_count": null,
   "metadata": {},
   "outputs": [],
   "source": []
  },
  {
   "cell_type": "code",
   "execution_count": null,
   "metadata": {},
   "outputs": [],
   "source": []
  },
  {
   "cell_type": "code",
   "execution_count": null,
   "metadata": {},
   "outputs": [],
   "source": []
  },
  {
   "cell_type": "code",
   "execution_count": 37,
   "metadata": {
    "ExecuteTime": {
     "end_time": "2021-07-20T17:57:12.772695Z",
     "start_time": "2021-07-20T17:56:49.852644Z"
    },
    "scrolled": true
   },
   "outputs": [],
   "source": [
    "# Stopwords\n",
    "stop = stopwords.words('english')\n",
    "df2['Contenu_sw'] = df2['Title+Body'].apply(lambda x: [item for item in x if item not in stop])"
   ]
  },
  {
   "cell_type": "code",
   "execution_count": 38,
   "metadata": {
    "ExecuteTime": {
     "end_time": "2021-07-20T17:57:50.216312Z",
     "start_time": "2021-07-20T17:57:12.774059Z"
    }
   },
   "outputs": [],
   "source": [
    "# Lemmatisation\n",
    "w_tokenizer = nltk.tokenize.WhitespaceTokenizer()\n",
    "lemmatizer = nltk.stem.WordNetLemmatizer()\n",
    "\n",
    "def lemmatize_text(text):\n",
    "    return [lemmatizer.lemmatize(w) for w in text]\n",
    "\n",
    "df2['Contenu_sw_lemmatized'] = df2['Contenu_sw'].apply(lemmatize_text)"
   ]
  },
  {
   "cell_type": "code",
   "execution_count": 39,
   "metadata": {
    "ExecuteTime": {
     "end_time": "2021-07-20T17:57:50.287284Z",
     "start_time": "2021-07-20T17:57:50.219252Z"
    },
    "scrolled": true
   },
   "outputs": [
    {
     "data": {
      "text/html": [
       "<div>\n",
       "<style scoped>\n",
       "    .dataframe tbody tr th:only-of-type {\n",
       "        vertical-align: middle;\n",
       "    }\n",
       "\n",
       "    .dataframe tbody tr th {\n",
       "        vertical-align: top;\n",
       "    }\n",
       "\n",
       "    .dataframe thead th {\n",
       "        text-align: right;\n",
       "    }\n",
       "</style>\n",
       "<table border=\"1\" class=\"dataframe\">\n",
       "  <thead>\n",
       "    <tr style=\"text-align: right;\">\n",
       "      <th></th>\n",
       "      <th>Contenu_sw</th>\n",
       "      <th>Contenu_sw_lemmatized</th>\n",
       "    </tr>\n",
       "  </thead>\n",
       "  <tbody>\n",
       "    <tr>\n",
       "      <th>0</th>\n",
       "      <td>[way, tinker, hone, indows, machine, plans, ho...</td>\n",
       "      <td>[way, tinker, hone, indows, machine, plan, hon...</td>\n",
       "    </tr>\n",
       "    <tr>\n",
       "      <th>1</th>\n",
       "      <td>[gigantic, ugly, string, ransaction, started, ...</td>\n",
       "      <td>[gigantic, ugly, string, ransaction, started, ...</td>\n",
       "    </tr>\n",
       "    <tr>\n",
       "      <th>2</th>\n",
       "      <td>[orking, autolayout, constraints, found, onstr...</td>\n",
       "      <td>[orking, autolayout, constraint, found, onstra...</td>\n",
       "    </tr>\n",
       "    <tr>\n",
       "      <th>3</th>\n",
       "      <td>[learning, objective, keep, bumping, symbol, u...</td>\n",
       "      <td>[learning, objective, keep, bumping, symbol, u...</td>\n",
       "    </tr>\n",
       "    <tr>\n",
       "      <th>4</th>\n",
       "      <td>[simple, way, pretty, standard, environment, b...</td>\n",
       "      <td>[simple, way, pretty, standard, environment, b...</td>\n",
       "    </tr>\n",
       "    <tr>\n",
       "      <th>...</th>\n",
       "      <td>...</td>\n",
       "      <td>...</td>\n",
       "    </tr>\n",
       "    <tr>\n",
       "      <th>44990</th>\n",
       "      <td>[ecently, upgraded, version, jango, framework,...</td>\n",
       "      <td>[ecently, upgraded, version, jango, framework,...</td>\n",
       "    </tr>\n",
       "    <tr>\n",
       "      <th>44991</th>\n",
       "      <td>[ow, reject, promise, returned, async, await, ...</td>\n",
       "      <td>[ow, reject, promise, returned, async, await, ...</td>\n",
       "    </tr>\n",
       "    <tr>\n",
       "      <th>44992</th>\n",
       "      <td>[entities, related, one, manypublic, class, es...</td>\n",
       "      <td>[entity, related, one, manypublic, class, esta...</td>\n",
       "    </tr>\n",
       "    <tr>\n",
       "      <th>44993</th>\n",
       "      <td>[roblem, want, return, file, et, eb, ontroller...</td>\n",
       "      <td>[roblem, want, return, file, et, eb, ontroller...</td>\n",
       "    </tr>\n",
       "    <tr>\n",
       "      <th>44994</th>\n",
       "      <td>[sing, suggested, method, result, link, button...</td>\n",
       "      <td>[sing, suggested, method, result, link, button...</td>\n",
       "    </tr>\n",
       "  </tbody>\n",
       "</table>\n",
       "<p>40730 rows × 2 columns</p>\n",
       "</div>"
      ],
      "text/plain": [
       "                                              Contenu_sw  \\\n",
       "0      [way, tinker, hone, indows, machine, plans, ho...   \n",
       "1      [gigantic, ugly, string, ransaction, started, ...   \n",
       "2      [orking, autolayout, constraints, found, onstr...   \n",
       "3      [learning, objective, keep, bumping, symbol, u...   \n",
       "4      [simple, way, pretty, standard, environment, b...   \n",
       "...                                                  ...   \n",
       "44990  [ecently, upgraded, version, jango, framework,...   \n",
       "44991  [ow, reject, promise, returned, async, await, ...   \n",
       "44992  [entities, related, one, manypublic, class, es...   \n",
       "44993  [roblem, want, return, file, et, eb, ontroller...   \n",
       "44994  [sing, suggested, method, result, link, button...   \n",
       "\n",
       "                                   Contenu_sw_lemmatized  \n",
       "0      [way, tinker, hone, indows, machine, plan, hon...  \n",
       "1      [gigantic, ugly, string, ransaction, started, ...  \n",
       "2      [orking, autolayout, constraint, found, onstra...  \n",
       "3      [learning, objective, keep, bumping, symbol, u...  \n",
       "4      [simple, way, pretty, standard, environment, b...  \n",
       "...                                                  ...  \n",
       "44990  [ecently, upgraded, version, jango, framework,...  \n",
       "44991  [ow, reject, promise, returned, async, await, ...  \n",
       "44992  [entity, related, one, manypublic, class, esta...  \n",
       "44993  [roblem, want, return, file, et, eb, ontroller...  \n",
       "44994  [sing, suggested, method, result, link, button...  \n",
       "\n",
       "[40730 rows x 2 columns]"
      ]
     },
     "execution_count": 39,
     "metadata": {},
     "output_type": "execute_result"
    }
   ],
   "source": [
    "df2[['Contenu_sw','Contenu_sw_lemmatized']]"
   ]
  },
  {
   "cell_type": "code",
   "execution_count": null,
   "metadata": {},
   "outputs": [],
   "source": []
  },
  {
   "cell_type": "code",
   "execution_count": null,
   "metadata": {},
   "outputs": [],
   "source": []
  },
  {
   "cell_type": "code",
   "execution_count": null,
   "metadata": {},
   "outputs": [],
   "source": []
  },
  {
   "cell_type": "code",
   "execution_count": null,
   "metadata": {},
   "outputs": [],
   "source": []
  },
  {
   "cell_type": "code",
   "execution_count": null,
   "metadata": {},
   "outputs": [],
   "source": []
  },
  {
   "cell_type": "code",
   "execution_count": null,
   "metadata": {},
   "outputs": [],
   "source": []
  }
 ],
 "metadata": {
  "kernelspec": {
   "display_name": "Python 3",
   "language": "python",
   "name": "python3"
  },
  "language_info": {
   "codemirror_mode": {
    "name": "ipython",
    "version": 3
   },
   "file_extension": ".py",
   "mimetype": "text/x-python",
   "name": "python",
   "nbconvert_exporter": "python",
   "pygments_lexer": "ipython3",
   "version": "3.8.8"
  },
  "toc": {
   "base_numbering": 1,
   "nav_menu": {},
   "number_sections": true,
   "sideBar": true,
   "skip_h1_title": false,
   "title_cell": "Table of Contents",
   "title_sidebar": "Contents",
   "toc_cell": false,
   "toc_position": {
    "height": "calc(100% - 180px)",
    "left": "10px",
    "top": "150px",
    "width": "305.825px"
   },
   "toc_section_display": true,
   "toc_window_display": true
  }
 },
 "nbformat": 4,
 "nbformat_minor": 4
}
