{
 "cells": [
  {
   "cell_type": "markdown",
   "id": "f8c52dc4",
   "metadata": {},
   "source": [
    "<font size=\"6\">PROJET 5 : Catégorisez automatiquement des questions </font>"
   ]
  },
  {
   "cell_type": "markdown",
   "id": "84ddf4ce",
   "metadata": {},
   "source": [
    "<font size=\"6\"> Notebook 3 : Modèles supervisés </font>"
   ]
  },
  {
   "cell_type": "markdown",
   "id": "8fcd4f42",
   "metadata": {},
   "source": [
    "**Librairies**"
   ]
  },
  {
   "cell_type": "code",
   "execution_count": 1,
   "id": "54d0fc7a",
   "metadata": {
    "ExecuteTime": {
     "end_time": "2021-08-04T07:36:59.795659Z",
     "start_time": "2021-08-04T07:36:58.780342Z"
    }
   },
   "outputs": [],
   "source": [
    "# Data analyse\n",
    "import pandas as pd\n",
    "import numpy as np\n",
    "from pprint import pprint\n",
    "from operator import itemgetter"
   ]
  },
  {
   "cell_type": "code",
   "execution_count": 55,
   "id": "2e25580d",
   "metadata": {
    "ExecuteTime": {
     "end_time": "2021-08-04T08:39:09.770487Z",
     "start_time": "2021-08-04T08:39:09.591879Z"
    }
   },
   "outputs": [],
   "source": [
    "# Visualisation\n",
    "import matplotlib.pyplot as plt\n",
    "import pyLDAvis\n",
    "import pyLDAvis.gensim_models\n",
    "from wordcloud import WordCloud, STOPWORDS\n",
    "import matplotlib.colors as mcolors\n",
    "import seaborn as sn"
   ]
  },
  {
   "cell_type": "code",
   "execution_count": 50,
   "id": "2612fce6",
   "metadata": {
    "ExecuteTime": {
     "end_time": "2021-08-04T08:08:08.968661Z",
     "start_time": "2021-08-04T08:08:08.952937Z"
    }
   },
   "outputs": [],
   "source": [
    "# Modèles\n",
    "from sklearn.model_selection import GridSearchCV\n",
    "from sklearn.datasets import make_classification\n",
    "from sklearn.linear_model import LogisticRegression\n",
    "from sklearn.dummy import DummyClassifier\n",
    "from sklearn.multiclass import OneVsRestClassifier\n",
    "from sklearn import model_selection, preprocessing, linear_model, naive_bayes, metrics, svm\n",
    "from sklearn.feature_extraction.text import TfidfVectorizer, CountVectorizer\n",
    "from sklearn import decomposition, ensemble"
   ]
  },
  {
   "cell_type": "code",
   "execution_count": 4,
   "id": "8d5335e7",
   "metadata": {
    "ExecuteTime": {
     "end_time": "2021-08-04T07:37:03.045102Z",
     "start_time": "2021-08-04T07:37:03.033946Z"
    }
   },
   "outputs": [],
   "source": [
    "# Export du modèle\n",
    "import pickle"
   ]
  },
  {
   "cell_type": "markdown",
   "id": "87e8344b",
   "metadata": {},
   "source": [
    "**Chargement des données traités dans le Notebook 1**"
   ]
  },
  {
   "cell_type": "code",
   "execution_count": 5,
   "id": "f702772e",
   "metadata": {
    "ExecuteTime": {
     "end_time": "2021-08-04T07:37:03.770776Z",
     "start_time": "2021-08-04T07:37:03.049273Z"
    }
   },
   "outputs": [],
   "source": [
    "df = pd.read_pickle(\"./preprocess_data.pkl\")"
   ]
  },
  {
   "cell_type": "code",
   "execution_count": 6,
   "id": "15501949",
   "metadata": {
    "ExecuteTime": {
     "end_time": "2021-08-04T07:37:03.894194Z",
     "start_time": "2021-08-04T07:37:03.775443Z"
    },
    "scrolled": true
   },
   "outputs": [
    {
     "data": {
      "text/html": [
       "<div>\n",
       "<style scoped>\n",
       "    .dataframe tbody tr th:only-of-type {\n",
       "        vertical-align: middle;\n",
       "    }\n",
       "\n",
       "    .dataframe tbody tr th {\n",
       "        vertical-align: top;\n",
       "    }\n",
       "\n",
       "    .dataframe thead th {\n",
       "        text-align: right;\n",
       "    }\n",
       "</style>\n",
       "<table border=\"1\" class=\"dataframe\">\n",
       "  <thead>\n",
       "    <tr style=\"text-align: right;\">\n",
       "      <th></th>\n",
       "      <th>content</th>\n",
       "      <th>preprocess_content</th>\n",
       "      <th>word_count</th>\n",
       "      <th>scala</th>\n",
       "      <th>postgresql</th>\n",
       "      <th>rest</th>\n",
       "      <th>version-control</th>\n",
       "      <th>file</th>\n",
       "      <th>npm</th>\n",
       "      <th>macos</th>\n",
       "      <th>...</th>\n",
       "      <th>angularjs</th>\n",
       "      <th>python</th>\n",
       "      <th>.net</th>\n",
       "      <th>oop</th>\n",
       "      <th>multithreading</th>\n",
       "      <th>swift</th>\n",
       "      <th>asp.net</th>\n",
       "      <th>windows</th>\n",
       "      <th>matplotlib</th>\n",
       "      <th>linux</th>\n",
       "    </tr>\n",
       "  </thead>\n",
       "  <tbody>\n",
       "    <tr>\n",
       "      <th>0</th>\n",
       "      <td>is there any way to tinker with the iphone sdk...</td>\n",
       "      <td>[way, machine, plan, version, way, think, run,...</td>\n",
       "      <td>70</td>\n",
       "      <td>0</td>\n",
       "      <td>0</td>\n",
       "      <td>0</td>\n",
       "      <td>0</td>\n",
       "      <td>0</td>\n",
       "      <td>0</td>\n",
       "      <td>0</td>\n",
       "      <td>...</td>\n",
       "      <td>0</td>\n",
       "      <td>0</td>\n",
       "      <td>0</td>\n",
       "      <td>0</td>\n",
       "      <td>0</td>\n",
       "      <td>0</td>\n",
       "      <td>0</td>\n",
       "      <td>1</td>\n",
       "      <td>0</td>\n",
       "      <td>0</td>\n",
       "    </tr>\n",
       "    <tr>\n",
       "      <th>1</th>\n",
       "      <td>i have this gigantic ugly string j transaction...</td>\n",
       "      <td>[gigantic, ugly, string, transaction, start, p...</td>\n",
       "      <td>120</td>\n",
       "      <td>0</td>\n",
       "      <td>0</td>\n",
       "      <td>0</td>\n",
       "      <td>0</td>\n",
       "      <td>0</td>\n",
       "      <td>0</td>\n",
       "      <td>0</td>\n",
       "      <td>...</td>\n",
       "      <td>0</td>\n",
       "      <td>0</td>\n",
       "      <td>0</td>\n",
       "      <td>0</td>\n",
       "      <td>0</td>\n",
       "      <td>0</td>\n",
       "      <td>0</td>\n",
       "      <td>0</td>\n",
       "      <td>0</td>\n",
       "      <td>0</td>\n",
       "    </tr>\n",
       "    <tr>\n",
       "      <th>2</th>\n",
       "      <td>i am working with autolayout and constraints a...</td>\n",
       "      <td>[work, autolayout, constraint, find, constrain...</td>\n",
       "      <td>199</td>\n",
       "      <td>0</td>\n",
       "      <td>0</td>\n",
       "      <td>0</td>\n",
       "      <td>0</td>\n",
       "      <td>0</td>\n",
       "      <td>0</td>\n",
       "      <td>0</td>\n",
       "      <td>...</td>\n",
       "      <td>0</td>\n",
       "      <td>0</td>\n",
       "      <td>0</td>\n",
       "      <td>0</td>\n",
       "      <td>0</td>\n",
       "      <td>0</td>\n",
       "      <td>0</td>\n",
       "      <td>0</td>\n",
       "      <td>0</td>\n",
       "      <td>0</td>\n",
       "    </tr>\n",
       "    <tr>\n",
       "      <th>3</th>\n",
       "      <td>i m learning objective c and keep bumping into...</td>\n",
       "      <td>[learn, objective, keep, bump, symbol, use, di...</td>\n",
       "      <td>48</td>\n",
       "      <td>0</td>\n",
       "      <td>0</td>\n",
       "      <td>0</td>\n",
       "      <td>0</td>\n",
       "      <td>0</td>\n",
       "      <td>0</td>\n",
       "      <td>0</td>\n",
       "      <td>...</td>\n",
       "      <td>0</td>\n",
       "      <td>0</td>\n",
       "      <td>0</td>\n",
       "      <td>0</td>\n",
       "      <td>0</td>\n",
       "      <td>0</td>\n",
       "      <td>0</td>\n",
       "      <td>0</td>\n",
       "      <td>0</td>\n",
       "      <td>0</td>\n",
       "    </tr>\n",
       "    <tr>\n",
       "      <th>4</th>\n",
       "      <td>is there a simple way in a pretty standard uni...</td>\n",
       "      <td>[simple, way, pretty, standard, unix, environm...</td>\n",
       "      <td>113</td>\n",
       "      <td>0</td>\n",
       "      <td>0</td>\n",
       "      <td>0</td>\n",
       "      <td>0</td>\n",
       "      <td>0</td>\n",
       "      <td>0</td>\n",
       "      <td>0</td>\n",
       "      <td>...</td>\n",
       "      <td>0</td>\n",
       "      <td>0</td>\n",
       "      <td>0</td>\n",
       "      <td>0</td>\n",
       "      <td>0</td>\n",
       "      <td>0</td>\n",
       "      <td>0</td>\n",
       "      <td>0</td>\n",
       "      <td>0</td>\n",
       "      <td>0</td>\n",
       "    </tr>\n",
       "    <tr>\n",
       "      <th>...</th>\n",
       "      <td>...</td>\n",
       "      <td>...</td>\n",
       "      <td>...</td>\n",
       "      <td>...</td>\n",
       "      <td>...</td>\n",
       "      <td>...</td>\n",
       "      <td>...</td>\n",
       "      <td>...</td>\n",
       "      <td>...</td>\n",
       "      <td>...</td>\n",
       "      <td>...</td>\n",
       "      <td>...</td>\n",
       "      <td>...</td>\n",
       "      <td>...</td>\n",
       "      <td>...</td>\n",
       "      <td>...</td>\n",
       "      <td>...</td>\n",
       "      <td>...</td>\n",
       "      <td>...</td>\n",
       "      <td>...</td>\n",
       "      <td>...</td>\n",
       "    </tr>\n",
       "    <tr>\n",
       "      <th>44990</th>\n",
       "      <td>recently i upgraded the version of django fram...</td>\n",
       "      <td>[recently_upgrade, version, django, framework,...</td>\n",
       "      <td>331</td>\n",
       "      <td>0</td>\n",
       "      <td>0</td>\n",
       "      <td>0</td>\n",
       "      <td>0</td>\n",
       "      <td>0</td>\n",
       "      <td>0</td>\n",
       "      <td>0</td>\n",
       "      <td>...</td>\n",
       "      <td>0</td>\n",
       "      <td>0</td>\n",
       "      <td>0</td>\n",
       "      <td>0</td>\n",
       "      <td>0</td>\n",
       "      <td>0</td>\n",
       "      <td>0</td>\n",
       "      <td>0</td>\n",
       "      <td>0</td>\n",
       "      <td>0</td>\n",
       "    </tr>\n",
       "    <tr>\n",
       "      <th>44991</th>\n",
       "      <td>how can i reject a promise that returned by an...</td>\n",
       "      <td>[reject, promise, return, async_await, functio...</td>\n",
       "      <td>88</td>\n",
       "      <td>0</td>\n",
       "      <td>0</td>\n",
       "      <td>0</td>\n",
       "      <td>0</td>\n",
       "      <td>0</td>\n",
       "      <td>0</td>\n",
       "      <td>0</td>\n",
       "      <td>...</td>\n",
       "      <td>0</td>\n",
       "      <td>0</td>\n",
       "      <td>0</td>\n",
       "      <td>0</td>\n",
       "      <td>0</td>\n",
       "      <td>0</td>\n",
       "      <td>0</td>\n",
       "      <td>0</td>\n",
       "      <td>0</td>\n",
       "      <td>0</td>\n",
       "    </tr>\n",
       "    <tr>\n",
       "      <th>44992</th>\n",
       "      <td>i have entities that are related as one to man...</td>\n",
       "      <td>[entity, relate, manypublic, class, restaurant...</td>\n",
       "      <td>296</td>\n",
       "      <td>0</td>\n",
       "      <td>0</td>\n",
       "      <td>0</td>\n",
       "      <td>0</td>\n",
       "      <td>0</td>\n",
       "      <td>0</td>\n",
       "      <td>0</td>\n",
       "      <td>...</td>\n",
       "      <td>0</td>\n",
       "      <td>0</td>\n",
       "      <td>0</td>\n",
       "      <td>0</td>\n",
       "      <td>0</td>\n",
       "      <td>0</td>\n",
       "      <td>0</td>\n",
       "      <td>0</td>\n",
       "      <td>0</td>\n",
       "      <td>0</td>\n",
       "    </tr>\n",
       "    <tr>\n",
       "      <th>44993</th>\n",
       "      <td>problemi want to return a file in my asp net w...</td>\n",
       "      <td>[want, return, file, web, api, controller, app...</td>\n",
       "      <td>90</td>\n",
       "      <td>0</td>\n",
       "      <td>0</td>\n",
       "      <td>0</td>\n",
       "      <td>0</td>\n",
       "      <td>0</td>\n",
       "      <td>0</td>\n",
       "      <td>0</td>\n",
       "      <td>...</td>\n",
       "      <td>0</td>\n",
       "      <td>0</td>\n",
       "      <td>0</td>\n",
       "      <td>0</td>\n",
       "      <td>0</td>\n",
       "      <td>0</td>\n",
       "      <td>0</td>\n",
       "      <td>0</td>\n",
       "      <td>0</td>\n",
       "      <td>0</td>\n",
       "    </tr>\n",
       "    <tr>\n",
       "      <th>44994</th>\n",
       "      <td>using suggested method this is the result a li...</td>\n",
       "      <td>[use, suggest, method, result, link, button, c...</td>\n",
       "      <td>71</td>\n",
       "      <td>0</td>\n",
       "      <td>0</td>\n",
       "      <td>0</td>\n",
       "      <td>0</td>\n",
       "      <td>0</td>\n",
       "      <td>0</td>\n",
       "      <td>0</td>\n",
       "      <td>...</td>\n",
       "      <td>0</td>\n",
       "      <td>0</td>\n",
       "      <td>0</td>\n",
       "      <td>0</td>\n",
       "      <td>0</td>\n",
       "      <td>0</td>\n",
       "      <td>0</td>\n",
       "      <td>0</td>\n",
       "      <td>0</td>\n",
       "      <td>0</td>\n",
       "    </tr>\n",
       "  </tbody>\n",
       "</table>\n",
       "<p>40730 rows × 103 columns</p>\n",
       "</div>"
      ],
      "text/plain": [
       "                                                 content  \\\n",
       "0      is there any way to tinker with the iphone sdk...   \n",
       "1      i have this gigantic ugly string j transaction...   \n",
       "2      i am working with autolayout and constraints a...   \n",
       "3      i m learning objective c and keep bumping into...   \n",
       "4      is there a simple way in a pretty standard uni...   \n",
       "...                                                  ...   \n",
       "44990  recently i upgraded the version of django fram...   \n",
       "44991  how can i reject a promise that returned by an...   \n",
       "44992  i have entities that are related as one to man...   \n",
       "44993  problemi want to return a file in my asp net w...   \n",
       "44994  using suggested method this is the result a li...   \n",
       "\n",
       "                                      preprocess_content  word_count  scala  \\\n",
       "0      [way, machine, plan, version, way, think, run,...          70      0   \n",
       "1      [gigantic, ugly, string, transaction, start, p...         120      0   \n",
       "2      [work, autolayout, constraint, find, constrain...         199      0   \n",
       "3      [learn, objective, keep, bump, symbol, use, di...          48      0   \n",
       "4      [simple, way, pretty, standard, unix, environm...         113      0   \n",
       "...                                                  ...         ...    ...   \n",
       "44990  [recently_upgrade, version, django, framework,...         331      0   \n",
       "44991  [reject, promise, return, async_await, functio...          88      0   \n",
       "44992  [entity, relate, manypublic, class, restaurant...         296      0   \n",
       "44993  [want, return, file, web, api, controller, app...          90      0   \n",
       "44994  [use, suggest, method, result, link, button, c...          71      0   \n",
       "\n",
       "       postgresql  rest  version-control  file  npm  macos  ...  angularjs  \\\n",
       "0               0     0                0     0    0      0  ...          0   \n",
       "1               0     0                0     0    0      0  ...          0   \n",
       "2               0     0                0     0    0      0  ...          0   \n",
       "3               0     0                0     0    0      0  ...          0   \n",
       "4               0     0                0     0    0      0  ...          0   \n",
       "...           ...   ...              ...   ...  ...    ...  ...        ...   \n",
       "44990           0     0                0     0    0      0  ...          0   \n",
       "44991           0     0                0     0    0      0  ...          0   \n",
       "44992           0     0                0     0    0      0  ...          0   \n",
       "44993           0     0                0     0    0      0  ...          0   \n",
       "44994           0     0                0     0    0      0  ...          0   \n",
       "\n",
       "       python  .net  oop  multithreading  swift  asp.net  windows  matplotlib  \\\n",
       "0           0     0    0               0      0        0        1           0   \n",
       "1           0     0    0               0      0        0        0           0   \n",
       "2           0     0    0               0      0        0        0           0   \n",
       "3           0     0    0               0      0        0        0           0   \n",
       "4           0     0    0               0      0        0        0           0   \n",
       "...       ...   ...  ...             ...    ...      ...      ...         ...   \n",
       "44990       0     0    0               0      0        0        0           0   \n",
       "44991       0     0    0               0      0        0        0           0   \n",
       "44992       0     0    0               0      0        0        0           0   \n",
       "44993       0     0    0               0      0        0        0           0   \n",
       "44994       0     0    0               0      0        0        0           0   \n",
       "\n",
       "       linux  \n",
       "0          0  \n",
       "1          0  \n",
       "2          0  \n",
       "3          0  \n",
       "4          0  \n",
       "...      ...  \n",
       "44990      0  \n",
       "44991      0  \n",
       "44992      0  \n",
       "44993      0  \n",
       "44994      0  \n",
       "\n",
       "[40730 rows x 103 columns]"
      ]
     },
     "execution_count": 6,
     "metadata": {},
     "output_type": "execute_result"
    }
   ],
   "source": [
    "df"
   ]
  },
  {
   "cell_type": "markdown",
   "id": "063eb479",
   "metadata": {},
   "source": [
    "# Filtre sur les tags et sélection d'un tag par individu"
   ]
  },
  {
   "cell_type": "code",
   "execution_count": 7,
   "id": "d6f64d66",
   "metadata": {
    "ExecuteTime": {
     "end_time": "2021-08-04T07:37:08.560024Z",
     "start_time": "2021-08-04T07:37:08.528048Z"
    }
   },
   "outputs": [
    {
     "name": "stdout",
     "output_type": "stream",
     "text": [
      "types           178\n",
      "java-8          178\n",
      "forms           182\n",
      "class           185\n",
      "collections     185\n",
      "               ... \n",
      "android        2863\n",
      "c#             3281\n",
      "java           4000\n",
      "python         4683\n",
      "javascript     4777\n",
      "Length: 99, dtype: int64\n"
     ]
    }
   ],
   "source": [
    "# Nbre d'occurence des tags\n",
    "sum_column = df.iloc[:,4:].sum(axis=0)\n",
    "print (sum_column.sort_values())"
   ]
  },
  {
   "cell_type": "code",
   "execution_count": 58,
   "id": "7a99a4a8",
   "metadata": {
    "ExecuteTime": {
     "end_time": "2021-08-04T08:42:04.112886Z",
     "start_time": "2021-08-04T08:42:04.095490Z"
    },
    "scrolled": true
   },
   "outputs": [
    {
     "data": {
      "text/plain": [
       "bash            894\n",
       "ios            1437\n",
       "jquery         1569\n",
       "c#             3281\n",
       "json            611\n",
       "arrays          808\n",
       "javascript     4777\n",
       "node.js         928\n",
       "c++            1565\n",
       "html           2069\n",
       "sql            1161\n",
       "git            1971\n",
       "sql-server      705\n",
       "php            1351\n",
       "java           4000\n",
       "ruby            641\n",
       "android        2863\n",
       "c               754\n",
       "string         1197\n",
       "objective-c     688\n",
       "mysql           920\n",
       "css            1656\n",
       "python         4683\n",
       ".net           1377\n",
       "swift           617\n",
       "linux           782\n",
       "dtype: int64"
      ]
     },
     "execution_count": 58,
     "metadata": {},
     "output_type": "execute_result"
    }
   ],
   "source": [
    "sum_column[sum_column > 600]"
   ]
  },
  {
   "cell_type": "code",
   "execution_count": 59,
   "id": "f435fd54",
   "metadata": {
    "ExecuteTime": {
     "end_time": "2021-08-04T08:42:28.731923Z",
     "start_time": "2021-08-04T08:42:28.566243Z"
    },
    "scrolled": true
   },
   "outputs": [
    {
     "data": {
      "text/html": [
       "<div>\n",
       "<style scoped>\n",
       "    .dataframe tbody tr th:only-of-type {\n",
       "        vertical-align: middle;\n",
       "    }\n",
       "\n",
       "    .dataframe tbody tr th {\n",
       "        vertical-align: top;\n",
       "    }\n",
       "\n",
       "    .dataframe thead th {\n",
       "        text-align: right;\n",
       "    }\n",
       "</style>\n",
       "<table border=\"1\" class=\"dataframe\">\n",
       "  <thead>\n",
       "    <tr style=\"text-align: right;\">\n",
       "      <th></th>\n",
       "      <th>content</th>\n",
       "      <th>preprocess_content</th>\n",
       "      <th>word_count</th>\n",
       "      <th>scala</th>\n",
       "      <th>bash</th>\n",
       "      <th>ios</th>\n",
       "      <th>jquery</th>\n",
       "      <th>ruby-on-rails</th>\n",
       "      <th>c#</th>\n",
       "      <th>json</th>\n",
       "      <th>...</th>\n",
       "      <th>c</th>\n",
       "      <th>string</th>\n",
       "      <th>objective-c</th>\n",
       "      <th>mysql</th>\n",
       "      <th>css</th>\n",
       "      <th>python</th>\n",
       "      <th>.net</th>\n",
       "      <th>swift</th>\n",
       "      <th>linux</th>\n",
       "      <th>nbre_tags</th>\n",
       "    </tr>\n",
       "  </thead>\n",
       "  <tbody>\n",
       "    <tr>\n",
       "      <th>0</th>\n",
       "      <td>is there any way to tinker with the iphone sdk...</td>\n",
       "      <td>[way, machine, plan, version, way, think, run,...</td>\n",
       "      <td>70</td>\n",
       "      <td>0</td>\n",
       "      <td>0</td>\n",
       "      <td>1</td>\n",
       "      <td>0</td>\n",
       "      <td>0</td>\n",
       "      <td>0</td>\n",
       "      <td>0</td>\n",
       "      <td>...</td>\n",
       "      <td>0</td>\n",
       "      <td>0</td>\n",
       "      <td>0</td>\n",
       "      <td>0</td>\n",
       "      <td>0</td>\n",
       "      <td>0</td>\n",
       "      <td>0</td>\n",
       "      <td>0</td>\n",
       "      <td>0</td>\n",
       "      <td>1</td>\n",
       "    </tr>\n",
       "    <tr>\n",
       "      <th>2</th>\n",
       "      <td>i am working with autolayout and constraints a...</td>\n",
       "      <td>[work, autolayout, constraint, find, constrain...</td>\n",
       "      <td>199</td>\n",
       "      <td>0</td>\n",
       "      <td>0</td>\n",
       "      <td>1</td>\n",
       "      <td>0</td>\n",
       "      <td>0</td>\n",
       "      <td>0</td>\n",
       "      <td>0</td>\n",
       "      <td>...</td>\n",
       "      <td>0</td>\n",
       "      <td>0</td>\n",
       "      <td>0</td>\n",
       "      <td>0</td>\n",
       "      <td>0</td>\n",
       "      <td>0</td>\n",
       "      <td>0</td>\n",
       "      <td>0</td>\n",
       "      <td>0</td>\n",
       "      <td>1</td>\n",
       "    </tr>\n",
       "    <tr>\n",
       "      <th>3</th>\n",
       "      <td>i m learning objective c and keep bumping into...</td>\n",
       "      <td>[learn, objective, keep, bump, symbol, use, di...</td>\n",
       "      <td>48</td>\n",
       "      <td>0</td>\n",
       "      <td>0</td>\n",
       "      <td>0</td>\n",
       "      <td>0</td>\n",
       "      <td>0</td>\n",
       "      <td>0</td>\n",
       "      <td>0</td>\n",
       "      <td>...</td>\n",
       "      <td>0</td>\n",
       "      <td>0</td>\n",
       "      <td>1</td>\n",
       "      <td>0</td>\n",
       "      <td>0</td>\n",
       "      <td>0</td>\n",
       "      <td>0</td>\n",
       "      <td>0</td>\n",
       "      <td>0</td>\n",
       "      <td>1</td>\n",
       "    </tr>\n",
       "    <tr>\n",
       "      <th>4</th>\n",
       "      <td>is there a simple way in a pretty standard uni...</td>\n",
       "      <td>[simple, way, pretty, standard, unix, environm...</td>\n",
       "      <td>113</td>\n",
       "      <td>0</td>\n",
       "      <td>1</td>\n",
       "      <td>0</td>\n",
       "      <td>0</td>\n",
       "      <td>0</td>\n",
       "      <td>0</td>\n",
       "      <td>0</td>\n",
       "      <td>...</td>\n",
       "      <td>0</td>\n",
       "      <td>0</td>\n",
       "      <td>0</td>\n",
       "      <td>0</td>\n",
       "      <td>0</td>\n",
       "      <td>0</td>\n",
       "      <td>0</td>\n",
       "      <td>0</td>\n",
       "      <td>0</td>\n",
       "      <td>1</td>\n",
       "    </tr>\n",
       "    <tr>\n",
       "      <th>5</th>\n",
       "      <td>i am writing a java utility which helps me to ...</td>\n",
       "      <td>[write, java, utility, generate, load, datum, ...</td>\n",
       "      <td>77</td>\n",
       "      <td>0</td>\n",
       "      <td>0</td>\n",
       "      <td>0</td>\n",
       "      <td>0</td>\n",
       "      <td>0</td>\n",
       "      <td>0</td>\n",
       "      <td>0</td>\n",
       "      <td>...</td>\n",
       "      <td>0</td>\n",
       "      <td>0</td>\n",
       "      <td>0</td>\n",
       "      <td>0</td>\n",
       "      <td>0</td>\n",
       "      <td>0</td>\n",
       "      <td>0</td>\n",
       "      <td>0</td>\n",
       "      <td>0</td>\n",
       "      <td>1</td>\n",
       "    </tr>\n",
       "    <tr>\n",
       "      <th>...</th>\n",
       "      <td>...</td>\n",
       "      <td>...</td>\n",
       "      <td>...</td>\n",
       "      <td>...</td>\n",
       "      <td>...</td>\n",
       "      <td>...</td>\n",
       "      <td>...</td>\n",
       "      <td>...</td>\n",
       "      <td>...</td>\n",
       "      <td>...</td>\n",
       "      <td>...</td>\n",
       "      <td>...</td>\n",
       "      <td>...</td>\n",
       "      <td>...</td>\n",
       "      <td>...</td>\n",
       "      <td>...</td>\n",
       "      <td>...</td>\n",
       "      <td>...</td>\n",
       "      <td>...</td>\n",
       "      <td>...</td>\n",
       "      <td>...</td>\n",
       "    </tr>\n",
       "    <tr>\n",
       "      <th>44987</th>\n",
       "      <td>i m starting to play with the create react app...</td>\n",
       "      <td>[start, play, create, react, app, index, load,...</td>\n",
       "      <td>292</td>\n",
       "      <td>0</td>\n",
       "      <td>0</td>\n",
       "      <td>0</td>\n",
       "      <td>0</td>\n",
       "      <td>0</td>\n",
       "      <td>0</td>\n",
       "      <td>0</td>\n",
       "      <td>...</td>\n",
       "      <td>0</td>\n",
       "      <td>0</td>\n",
       "      <td>0</td>\n",
       "      <td>0</td>\n",
       "      <td>0</td>\n",
       "      <td>0</td>\n",
       "      <td>0</td>\n",
       "      <td>0</td>\n",
       "      <td>0</td>\n",
       "      <td>2</td>\n",
       "    </tr>\n",
       "    <tr>\n",
       "      <th>44991</th>\n",
       "      <td>how can i reject a promise that returned by an...</td>\n",
       "      <td>[reject, promise, return, async_await, functio...</td>\n",
       "      <td>88</td>\n",
       "      <td>0</td>\n",
       "      <td>0</td>\n",
       "      <td>0</td>\n",
       "      <td>0</td>\n",
       "      <td>0</td>\n",
       "      <td>0</td>\n",
       "      <td>0</td>\n",
       "      <td>...</td>\n",
       "      <td>0</td>\n",
       "      <td>0</td>\n",
       "      <td>0</td>\n",
       "      <td>0</td>\n",
       "      <td>0</td>\n",
       "      <td>0</td>\n",
       "      <td>0</td>\n",
       "      <td>0</td>\n",
       "      <td>0</td>\n",
       "      <td>1</td>\n",
       "    </tr>\n",
       "    <tr>\n",
       "      <th>44992</th>\n",
       "      <td>i have entities that are related as one to man...</td>\n",
       "      <td>[entity, relate, manypublic, class, restaurant...</td>\n",
       "      <td>296</td>\n",
       "      <td>0</td>\n",
       "      <td>0</td>\n",
       "      <td>0</td>\n",
       "      <td>0</td>\n",
       "      <td>0</td>\n",
       "      <td>1</td>\n",
       "      <td>0</td>\n",
       "      <td>...</td>\n",
       "      <td>0</td>\n",
       "      <td>0</td>\n",
       "      <td>0</td>\n",
       "      <td>0</td>\n",
       "      <td>0</td>\n",
       "      <td>0</td>\n",
       "      <td>0</td>\n",
       "      <td>0</td>\n",
       "      <td>0</td>\n",
       "      <td>1</td>\n",
       "    </tr>\n",
       "    <tr>\n",
       "      <th>44993</th>\n",
       "      <td>problemi want to return a file in my asp net w...</td>\n",
       "      <td>[want, return, file, web, api, controller, app...</td>\n",
       "      <td>90</td>\n",
       "      <td>0</td>\n",
       "      <td>0</td>\n",
       "      <td>0</td>\n",
       "      <td>0</td>\n",
       "      <td>0</td>\n",
       "      <td>1</td>\n",
       "      <td>0</td>\n",
       "      <td>...</td>\n",
       "      <td>0</td>\n",
       "      <td>0</td>\n",
       "      <td>0</td>\n",
       "      <td>0</td>\n",
       "      <td>0</td>\n",
       "      <td>0</td>\n",
       "      <td>0</td>\n",
       "      <td>0</td>\n",
       "      <td>0</td>\n",
       "      <td>1</td>\n",
       "    </tr>\n",
       "    <tr>\n",
       "      <th>44994</th>\n",
       "      <td>using suggested method this is the result a li...</td>\n",
       "      <td>[use, suggest, method, result, link, button, c...</td>\n",
       "      <td>71</td>\n",
       "      <td>0</td>\n",
       "      <td>0</td>\n",
       "      <td>0</td>\n",
       "      <td>0</td>\n",
       "      <td>0</td>\n",
       "      <td>0</td>\n",
       "      <td>0</td>\n",
       "      <td>...</td>\n",
       "      <td>0</td>\n",
       "      <td>0</td>\n",
       "      <td>0</td>\n",
       "      <td>0</td>\n",
       "      <td>0</td>\n",
       "      <td>0</td>\n",
       "      <td>0</td>\n",
       "      <td>0</td>\n",
       "      <td>0</td>\n",
       "      <td>1</td>\n",
       "    </tr>\n",
       "  </tbody>\n",
       "</table>\n",
       "<p>34589 rows × 33 columns</p>\n",
       "</div>"
      ],
      "text/plain": [
       "                                                 content  \\\n",
       "0      is there any way to tinker with the iphone sdk...   \n",
       "2      i am working with autolayout and constraints a...   \n",
       "3      i m learning objective c and keep bumping into...   \n",
       "4      is there a simple way in a pretty standard uni...   \n",
       "5      i am writing a java utility which helps me to ...   \n",
       "...                                                  ...   \n",
       "44987  i m starting to play with the create react app...   \n",
       "44991  how can i reject a promise that returned by an...   \n",
       "44992  i have entities that are related as one to man...   \n",
       "44993  problemi want to return a file in my asp net w...   \n",
       "44994  using suggested method this is the result a li...   \n",
       "\n",
       "                                      preprocess_content  word_count  scala  \\\n",
       "0      [way, machine, plan, version, way, think, run,...          70      0   \n",
       "2      [work, autolayout, constraint, find, constrain...         199      0   \n",
       "3      [learn, objective, keep, bump, symbol, use, di...          48      0   \n",
       "4      [simple, way, pretty, standard, unix, environm...         113      0   \n",
       "5      [write, java, utility, generate, load, datum, ...          77      0   \n",
       "...                                                  ...         ...    ...   \n",
       "44987  [start, play, create, react, app, index, load,...         292      0   \n",
       "44991  [reject, promise, return, async_await, functio...          88      0   \n",
       "44992  [entity, relate, manypublic, class, restaurant...         296      0   \n",
       "44993  [want, return, file, web, api, controller, app...          90      0   \n",
       "44994  [use, suggest, method, result, link, button, c...          71      0   \n",
       "\n",
       "       bash  ios  jquery  ruby-on-rails  c#  json  ...  c  string  \\\n",
       "0         0    1       0              0   0     0  ...  0       0   \n",
       "2         0    1       0              0   0     0  ...  0       0   \n",
       "3         0    0       0              0   0     0  ...  0       0   \n",
       "4         1    0       0              0   0     0  ...  0       0   \n",
       "5         0    0       0              0   0     0  ...  0       0   \n",
       "...     ...  ...     ...            ...  ..   ...  ... ..     ...   \n",
       "44987     0    0       0              0   0     0  ...  0       0   \n",
       "44991     0    0       0              0   0     0  ...  0       0   \n",
       "44992     0    0       0              0   1     0  ...  0       0   \n",
       "44993     0    0       0              0   1     0  ...  0       0   \n",
       "44994     0    0       0              0   0     0  ...  0       0   \n",
       "\n",
       "       objective-c  mysql  css  python  .net  swift  linux  nbre_tags  \n",
       "0                0      0    0       0     0      0      0          1  \n",
       "2                0      0    0       0     0      0      0          1  \n",
       "3                1      0    0       0     0      0      0          1  \n",
       "4                0      0    0       0     0      0      0          1  \n",
       "5                0      0    0       0     0      0      0          1  \n",
       "...            ...    ...  ...     ...   ...    ...    ...        ...  \n",
       "44987            0      0    0       0     0      0      0          2  \n",
       "44991            0      0    0       0     0      0      0          1  \n",
       "44992            0      0    0       0     0      0      0          1  \n",
       "44993            0      0    0       0     0      0      0          1  \n",
       "44994            0      0    0       0     0      0      0          1  \n",
       "\n",
       "[34589 rows x 33 columns]"
      ]
     },
     "execution_count": 59,
     "metadata": {},
     "output_type": "execute_result"
    }
   ],
   "source": [
    "df2 = df.drop(columns = sum_column[sum_column < 500].index)\n",
    "df2['nbre_tags'] = df2.iloc[:,3:].sum(axis=1)\n",
    "df2.sort_values(by='nbre_tags')\n",
    "\n",
    "df2 = df2.loc[df2['nbre_tags']>0]\n",
    "df2"
   ]
  },
  {
   "cell_type": "code",
   "execution_count": 60,
   "id": "ecc989f2",
   "metadata": {
    "ExecuteTime": {
     "end_time": "2021-08-04T08:42:31.031077Z",
     "start_time": "2021-08-04T08:42:30.938968Z"
    }
   },
   "outputs": [],
   "source": [
    "dftag = df2.drop(columns = ['preprocess_content', 'word_count', 'nbre_tags'])\n",
    "dftag.set_index('content',inplace=True)\n",
    "\n",
    "dftagstacked = dftag[dftag==1].stack().reset_index().drop(0,1)"
   ]
  },
  {
   "cell_type": "code",
   "execution_count": 61,
   "id": "a6e09d66",
   "metadata": {
    "ExecuteTime": {
     "end_time": "2021-08-04T08:42:31.442833Z",
     "start_time": "2021-08-04T08:42:31.275120Z"
    }
   },
   "outputs": [],
   "source": [
    "dftagstacked = dftagstacked.drop_duplicates(subset=['content'], keep='first')\n",
    "dftagstacked.reset_index().drop(columns = 'index')\n",
    "\n",
    "dftagstacked.rename(columns={\"level_1\": \"tag\"}, inplace=True)"
   ]
  },
  {
   "cell_type": "code",
   "execution_count": 62,
   "id": "77c586be",
   "metadata": {
    "ExecuteTime": {
     "end_time": "2021-08-04T08:42:31.531016Z",
     "start_time": "2021-08-04T08:42:31.477047Z"
    }
   },
   "outputs": [],
   "source": [
    "df2 = pd.merge(df2, dftagstacked, how = 'left', on = 'content')"
   ]
  },
  {
   "cell_type": "code",
   "execution_count": 63,
   "id": "f33b9f22",
   "metadata": {
    "ExecuteTime": {
     "end_time": "2021-08-04T08:42:31.828015Z",
     "start_time": "2021-08-04T08:42:31.734621Z"
    },
    "scrolled": true
   },
   "outputs": [
    {
     "data": {
      "text/html": [
       "<div>\n",
       "<style scoped>\n",
       "    .dataframe tbody tr th:only-of-type {\n",
       "        vertical-align: middle;\n",
       "    }\n",
       "\n",
       "    .dataframe tbody tr th {\n",
       "        vertical-align: top;\n",
       "    }\n",
       "\n",
       "    .dataframe thead th {\n",
       "        text-align: right;\n",
       "    }\n",
       "</style>\n",
       "<table border=\"1\" class=\"dataframe\">\n",
       "  <thead>\n",
       "    <tr style=\"text-align: right;\">\n",
       "      <th></th>\n",
       "      <th>content</th>\n",
       "      <th>preprocess_content</th>\n",
       "      <th>word_count</th>\n",
       "      <th>scala</th>\n",
       "      <th>bash</th>\n",
       "      <th>ios</th>\n",
       "      <th>jquery</th>\n",
       "      <th>ruby-on-rails</th>\n",
       "      <th>c#</th>\n",
       "      <th>json</th>\n",
       "      <th>...</th>\n",
       "      <th>string</th>\n",
       "      <th>objective-c</th>\n",
       "      <th>mysql</th>\n",
       "      <th>css</th>\n",
       "      <th>python</th>\n",
       "      <th>.net</th>\n",
       "      <th>swift</th>\n",
       "      <th>linux</th>\n",
       "      <th>nbre_tags</th>\n",
       "      <th>tag</th>\n",
       "    </tr>\n",
       "  </thead>\n",
       "  <tbody>\n",
       "    <tr>\n",
       "      <th>0</th>\n",
       "      <td>is there any way to tinker with the iphone sdk...</td>\n",
       "      <td>[way, machine, plan, version, way, think, run,...</td>\n",
       "      <td>70</td>\n",
       "      <td>0</td>\n",
       "      <td>0</td>\n",
       "      <td>1</td>\n",
       "      <td>0</td>\n",
       "      <td>0</td>\n",
       "      <td>0</td>\n",
       "      <td>0</td>\n",
       "      <td>...</td>\n",
       "      <td>0</td>\n",
       "      <td>0</td>\n",
       "      <td>0</td>\n",
       "      <td>0</td>\n",
       "      <td>0</td>\n",
       "      <td>0</td>\n",
       "      <td>0</td>\n",
       "      <td>0</td>\n",
       "      <td>1</td>\n",
       "      <td>ios</td>\n",
       "    </tr>\n",
       "    <tr>\n",
       "      <th>1</th>\n",
       "      <td>i am working with autolayout and constraints a...</td>\n",
       "      <td>[work, autolayout, constraint, find, constrain...</td>\n",
       "      <td>199</td>\n",
       "      <td>0</td>\n",
       "      <td>0</td>\n",
       "      <td>1</td>\n",
       "      <td>0</td>\n",
       "      <td>0</td>\n",
       "      <td>0</td>\n",
       "      <td>0</td>\n",
       "      <td>...</td>\n",
       "      <td>0</td>\n",
       "      <td>0</td>\n",
       "      <td>0</td>\n",
       "      <td>0</td>\n",
       "      <td>0</td>\n",
       "      <td>0</td>\n",
       "      <td>0</td>\n",
       "      <td>0</td>\n",
       "      <td>1</td>\n",
       "      <td>ios</td>\n",
       "    </tr>\n",
       "    <tr>\n",
       "      <th>2</th>\n",
       "      <td>i m learning objective c and keep bumping into...</td>\n",
       "      <td>[learn, objective, keep, bump, symbol, use, di...</td>\n",
       "      <td>48</td>\n",
       "      <td>0</td>\n",
       "      <td>0</td>\n",
       "      <td>0</td>\n",
       "      <td>0</td>\n",
       "      <td>0</td>\n",
       "      <td>0</td>\n",
       "      <td>0</td>\n",
       "      <td>...</td>\n",
       "      <td>0</td>\n",
       "      <td>1</td>\n",
       "      <td>0</td>\n",
       "      <td>0</td>\n",
       "      <td>0</td>\n",
       "      <td>0</td>\n",
       "      <td>0</td>\n",
       "      <td>0</td>\n",
       "      <td>1</td>\n",
       "      <td>objective-c</td>\n",
       "    </tr>\n",
       "    <tr>\n",
       "      <th>3</th>\n",
       "      <td>is there a simple way in a pretty standard uni...</td>\n",
       "      <td>[simple, way, pretty, standard, unix, environm...</td>\n",
       "      <td>113</td>\n",
       "      <td>0</td>\n",
       "      <td>1</td>\n",
       "      <td>0</td>\n",
       "      <td>0</td>\n",
       "      <td>0</td>\n",
       "      <td>0</td>\n",
       "      <td>0</td>\n",
       "      <td>...</td>\n",
       "      <td>0</td>\n",
       "      <td>0</td>\n",
       "      <td>0</td>\n",
       "      <td>0</td>\n",
       "      <td>0</td>\n",
       "      <td>0</td>\n",
       "      <td>0</td>\n",
       "      <td>0</td>\n",
       "      <td>1</td>\n",
       "      <td>bash</td>\n",
       "    </tr>\n",
       "    <tr>\n",
       "      <th>4</th>\n",
       "      <td>i am writing a java utility which helps me to ...</td>\n",
       "      <td>[write, java, utility, generate, load, datum, ...</td>\n",
       "      <td>77</td>\n",
       "      <td>0</td>\n",
       "      <td>0</td>\n",
       "      <td>0</td>\n",
       "      <td>0</td>\n",
       "      <td>0</td>\n",
       "      <td>0</td>\n",
       "      <td>0</td>\n",
       "      <td>...</td>\n",
       "      <td>0</td>\n",
       "      <td>0</td>\n",
       "      <td>0</td>\n",
       "      <td>0</td>\n",
       "      <td>0</td>\n",
       "      <td>0</td>\n",
       "      <td>0</td>\n",
       "      <td>0</td>\n",
       "      <td>1</td>\n",
       "      <td>java</td>\n",
       "    </tr>\n",
       "    <tr>\n",
       "      <th>...</th>\n",
       "      <td>...</td>\n",
       "      <td>...</td>\n",
       "      <td>...</td>\n",
       "      <td>...</td>\n",
       "      <td>...</td>\n",
       "      <td>...</td>\n",
       "      <td>...</td>\n",
       "      <td>...</td>\n",
       "      <td>...</td>\n",
       "      <td>...</td>\n",
       "      <td>...</td>\n",
       "      <td>...</td>\n",
       "      <td>...</td>\n",
       "      <td>...</td>\n",
       "      <td>...</td>\n",
       "      <td>...</td>\n",
       "      <td>...</td>\n",
       "      <td>...</td>\n",
       "      <td>...</td>\n",
       "      <td>...</td>\n",
       "      <td>...</td>\n",
       "    </tr>\n",
       "    <tr>\n",
       "      <th>34584</th>\n",
       "      <td>i m starting to play with the create react app...</td>\n",
       "      <td>[start, play, create, react, app, index, load,...</td>\n",
       "      <td>292</td>\n",
       "      <td>0</td>\n",
       "      <td>0</td>\n",
       "      <td>0</td>\n",
       "      <td>0</td>\n",
       "      <td>0</td>\n",
       "      <td>0</td>\n",
       "      <td>0</td>\n",
       "      <td>...</td>\n",
       "      <td>0</td>\n",
       "      <td>0</td>\n",
       "      <td>0</td>\n",
       "      <td>0</td>\n",
       "      <td>0</td>\n",
       "      <td>0</td>\n",
       "      <td>0</td>\n",
       "      <td>0</td>\n",
       "      <td>2</td>\n",
       "      <td>javascript</td>\n",
       "    </tr>\n",
       "    <tr>\n",
       "      <th>34585</th>\n",
       "      <td>how can i reject a promise that returned by an...</td>\n",
       "      <td>[reject, promise, return, async_await, functio...</td>\n",
       "      <td>88</td>\n",
       "      <td>0</td>\n",
       "      <td>0</td>\n",
       "      <td>0</td>\n",
       "      <td>0</td>\n",
       "      <td>0</td>\n",
       "      <td>0</td>\n",
       "      <td>0</td>\n",
       "      <td>...</td>\n",
       "      <td>0</td>\n",
       "      <td>0</td>\n",
       "      <td>0</td>\n",
       "      <td>0</td>\n",
       "      <td>0</td>\n",
       "      <td>0</td>\n",
       "      <td>0</td>\n",
       "      <td>0</td>\n",
       "      <td>1</td>\n",
       "      <td>javascript</td>\n",
       "    </tr>\n",
       "    <tr>\n",
       "      <th>34586</th>\n",
       "      <td>i have entities that are related as one to man...</td>\n",
       "      <td>[entity, relate, manypublic, class, restaurant...</td>\n",
       "      <td>296</td>\n",
       "      <td>0</td>\n",
       "      <td>0</td>\n",
       "      <td>0</td>\n",
       "      <td>0</td>\n",
       "      <td>0</td>\n",
       "      <td>1</td>\n",
       "      <td>0</td>\n",
       "      <td>...</td>\n",
       "      <td>0</td>\n",
       "      <td>0</td>\n",
       "      <td>0</td>\n",
       "      <td>0</td>\n",
       "      <td>0</td>\n",
       "      <td>0</td>\n",
       "      <td>0</td>\n",
       "      <td>0</td>\n",
       "      <td>1</td>\n",
       "      <td>c#</td>\n",
       "    </tr>\n",
       "    <tr>\n",
       "      <th>34587</th>\n",
       "      <td>problemi want to return a file in my asp net w...</td>\n",
       "      <td>[want, return, file, web, api, controller, app...</td>\n",
       "      <td>90</td>\n",
       "      <td>0</td>\n",
       "      <td>0</td>\n",
       "      <td>0</td>\n",
       "      <td>0</td>\n",
       "      <td>0</td>\n",
       "      <td>1</td>\n",
       "      <td>0</td>\n",
       "      <td>...</td>\n",
       "      <td>0</td>\n",
       "      <td>0</td>\n",
       "      <td>0</td>\n",
       "      <td>0</td>\n",
       "      <td>0</td>\n",
       "      <td>0</td>\n",
       "      <td>0</td>\n",
       "      <td>0</td>\n",
       "      <td>1</td>\n",
       "      <td>c#</td>\n",
       "    </tr>\n",
       "    <tr>\n",
       "      <th>34588</th>\n",
       "      <td>using suggested method this is the result a li...</td>\n",
       "      <td>[use, suggest, method, result, link, button, c...</td>\n",
       "      <td>71</td>\n",
       "      <td>0</td>\n",
       "      <td>0</td>\n",
       "      <td>0</td>\n",
       "      <td>0</td>\n",
       "      <td>0</td>\n",
       "      <td>0</td>\n",
       "      <td>0</td>\n",
       "      <td>...</td>\n",
       "      <td>0</td>\n",
       "      <td>0</td>\n",
       "      <td>0</td>\n",
       "      <td>0</td>\n",
       "      <td>0</td>\n",
       "      <td>0</td>\n",
       "      <td>0</td>\n",
       "      <td>0</td>\n",
       "      <td>1</td>\n",
       "      <td>html</td>\n",
       "    </tr>\n",
       "  </tbody>\n",
       "</table>\n",
       "<p>34589 rows × 34 columns</p>\n",
       "</div>"
      ],
      "text/plain": [
       "                                                 content  \\\n",
       "0      is there any way to tinker with the iphone sdk...   \n",
       "1      i am working with autolayout and constraints a...   \n",
       "2      i m learning objective c and keep bumping into...   \n",
       "3      is there a simple way in a pretty standard uni...   \n",
       "4      i am writing a java utility which helps me to ...   \n",
       "...                                                  ...   \n",
       "34584  i m starting to play with the create react app...   \n",
       "34585  how can i reject a promise that returned by an...   \n",
       "34586  i have entities that are related as one to man...   \n",
       "34587  problemi want to return a file in my asp net w...   \n",
       "34588  using suggested method this is the result a li...   \n",
       "\n",
       "                                      preprocess_content  word_count  scala  \\\n",
       "0      [way, machine, plan, version, way, think, run,...          70      0   \n",
       "1      [work, autolayout, constraint, find, constrain...         199      0   \n",
       "2      [learn, objective, keep, bump, symbol, use, di...          48      0   \n",
       "3      [simple, way, pretty, standard, unix, environm...         113      0   \n",
       "4      [write, java, utility, generate, load, datum, ...          77      0   \n",
       "...                                                  ...         ...    ...   \n",
       "34584  [start, play, create, react, app, index, load,...         292      0   \n",
       "34585  [reject, promise, return, async_await, functio...          88      0   \n",
       "34586  [entity, relate, manypublic, class, restaurant...         296      0   \n",
       "34587  [want, return, file, web, api, controller, app...          90      0   \n",
       "34588  [use, suggest, method, result, link, button, c...          71      0   \n",
       "\n",
       "       bash  ios  jquery  ruby-on-rails  c#  json  ...  string  objective-c  \\\n",
       "0         0    1       0              0   0     0  ...       0            0   \n",
       "1         0    1       0              0   0     0  ...       0            0   \n",
       "2         0    0       0              0   0     0  ...       0            1   \n",
       "3         1    0       0              0   0     0  ...       0            0   \n",
       "4         0    0       0              0   0     0  ...       0            0   \n",
       "...     ...  ...     ...            ...  ..   ...  ...     ...          ...   \n",
       "34584     0    0       0              0   0     0  ...       0            0   \n",
       "34585     0    0       0              0   0     0  ...       0            0   \n",
       "34586     0    0       0              0   1     0  ...       0            0   \n",
       "34587     0    0       0              0   1     0  ...       0            0   \n",
       "34588     0    0       0              0   0     0  ...       0            0   \n",
       "\n",
       "       mysql  css  python  .net  swift  linux  nbre_tags          tag  \n",
       "0          0    0       0     0      0      0          1          ios  \n",
       "1          0    0       0     0      0      0          1          ios  \n",
       "2          0    0       0     0      0      0          1  objective-c  \n",
       "3          0    0       0     0      0      0          1         bash  \n",
       "4          0    0       0     0      0      0          1         java  \n",
       "...      ...  ...     ...   ...    ...    ...        ...          ...  \n",
       "34584      0    0       0     0      0      0          2   javascript  \n",
       "34585      0    0       0     0      0      0          1   javascript  \n",
       "34586      0    0       0     0      0      0          1           c#  \n",
       "34587      0    0       0     0      0      0          1           c#  \n",
       "34588      0    0       0     0      0      0          1         html  \n",
       "\n",
       "[34589 rows x 34 columns]"
      ]
     },
     "execution_count": 63,
     "metadata": {},
     "output_type": "execute_result"
    }
   ],
   "source": [
    "df2"
   ]
  },
  {
   "cell_type": "code",
   "execution_count": 64,
   "id": "95d289d1",
   "metadata": {
    "ExecuteTime": {
     "end_time": "2021-08-04T08:42:32.052246Z",
     "start_time": "2021-08-04T08:42:32.019672Z"
    }
   },
   "outputs": [
    {
     "data": {
      "text/html": [
       "<div>\n",
       "<style scoped>\n",
       "    .dataframe tbody tr th:only-of-type {\n",
       "        vertical-align: middle;\n",
       "    }\n",
       "\n",
       "    .dataframe tbody tr th {\n",
       "        vertical-align: top;\n",
       "    }\n",
       "\n",
       "    .dataframe thead th {\n",
       "        text-align: right;\n",
       "    }\n",
       "</style>\n",
       "<table border=\"1\" class=\"dataframe\">\n",
       "  <thead>\n",
       "    <tr style=\"text-align: right;\">\n",
       "      <th></th>\n",
       "      <th>preprocess_content</th>\n",
       "      <th>tag</th>\n",
       "    </tr>\n",
       "  </thead>\n",
       "  <tbody>\n",
       "    <tr>\n",
       "      <th>0</th>\n",
       "      <td>[way, machine, plan, version, way, think, run,...</td>\n",
       "      <td>ios</td>\n",
       "    </tr>\n",
       "    <tr>\n",
       "      <th>1</th>\n",
       "      <td>[work, autolayout, constraint, find, constrain...</td>\n",
       "      <td>ios</td>\n",
       "    </tr>\n",
       "    <tr>\n",
       "      <th>2</th>\n",
       "      <td>[learn, objective, keep, bump, symbol, use, di...</td>\n",
       "      <td>objective-c</td>\n",
       "    </tr>\n",
       "    <tr>\n",
       "      <th>3</th>\n",
       "      <td>[simple, way, pretty, standard, unix, environm...</td>\n",
       "      <td>bash</td>\n",
       "    </tr>\n",
       "    <tr>\n",
       "      <th>4</th>\n",
       "      <td>[write, java, utility, generate, load, datum, ...</td>\n",
       "      <td>java</td>\n",
       "    </tr>\n",
       "  </tbody>\n",
       "</table>\n",
       "</div>"
      ],
      "text/plain": [
       "                                  preprocess_content          tag\n",
       "0  [way, machine, plan, version, way, think, run,...          ios\n",
       "1  [work, autolayout, constraint, find, constrain...          ios\n",
       "2  [learn, objective, keep, bump, symbol, use, di...  objective-c\n",
       "3  [simple, way, pretty, standard, unix, environm...         bash\n",
       "4  [write, java, utility, generate, load, datum, ...         java"
      ]
     },
     "execution_count": 64,
     "metadata": {},
     "output_type": "execute_result"
    }
   ],
   "source": [
    "data = df2[['preprocess_content','tag']]\n",
    "data.head()"
   ]
  },
  {
   "cell_type": "markdown",
   "id": "d89aa613",
   "metadata": {},
   "source": [
    "# Préparation des données"
   ]
  },
  {
   "cell_type": "markdown",
   "id": "2e2e3636",
   "metadata": {},
   "source": [
    "**Split des données**"
   ]
  },
  {
   "cell_type": "code",
   "execution_count": 79,
   "id": "8446d02f",
   "metadata": {
    "ExecuteTime": {
     "end_time": "2021-08-04T09:02:13.788325Z",
     "start_time": "2021-08-04T09:02:13.757234Z"
    }
   },
   "outputs": [],
   "source": [
    "# split the dataset into training and testingg set\n",
    "train_x, valid_x, train_y, valid_y = model_selection.train_test_split(data['preprocess_content'], data['tag'],train_size=0.8)\n",
    "\n",
    "# label encode the target variable \n",
    "encoder = preprocessing.LabelEncoder()\n",
    "train_y = encoder.fit_transform(train_y)\n",
    "valid_y = encoder.fit_transform(valid_y)"
   ]
  },
  {
   "cell_type": "markdown",
   "id": "bd162b65",
   "metadata": {
    "ExecuteTime": {
     "end_time": "2021-08-02T20:47:05.784757Z",
     "start_time": "2021-08-02T20:47:05.768878Z"
    }
   },
   "source": [
    "**Feature Engineering : TF-IDF Vectors as features**"
   ]
  },
  {
   "cell_type": "code",
   "execution_count": 80,
   "id": "904e3fa4",
   "metadata": {
    "ExecuteTime": {
     "end_time": "2021-08-04T09:03:08.842001Z",
     "start_time": "2021-08-04T09:02:15.264405Z"
    }
   },
   "outputs": [],
   "source": [
    "# word level tf-idf\n",
    "tfidf_vect = TfidfVectorizer(analyzer='word',\n",
    "                             min_df=3,\n",
    "                             max_df=0.85,\n",
    "                             ngram_range=(2,3),\n",
    "                             max_features=5000,\n",
    "                             preprocessor=' '.join)\n",
    "\n",
    "tfidf_vect.fit(data['preprocess_content'])\n",
    "xtrain_tfidf =  tfidf_vect.transform(train_x)\n",
    "xvalid_tfidf =  tfidf_vect.transform(valid_x)\n",
    "\n",
    "# ngram level tf-idf \n",
    "tfidf_vect_ngram = TfidfVectorizer(analyzer='word',\n",
    "                                   min_df=3,\n",
    "                                   max_df=0.85,\n",
    "                                   ngram_range=(2,3), \n",
    "                                   max_features=5000, \n",
    "                                   preprocessor=' '.join)\n",
    "tfidf_vect_ngram.fit(data['preprocess_content'])\n",
    "\n",
    "xtrain_tfidf_ngram =  tfidf_vect_ngram.transform(train_x)\n",
    "xvalid_tfidf_ngram =  tfidf_vect_ngram.transform(valid_x)"
   ]
  },
  {
   "cell_type": "code",
   "execution_count": 81,
   "id": "1802f5e9",
   "metadata": {
    "ExecuteTime": {
     "end_time": "2021-08-04T09:03:08.871449Z",
     "start_time": "2021-08-04T09:03:08.846377Z"
    }
   },
   "outputs": [
    {
     "data": {
      "text/plain": [
       "(27671, 5000)"
      ]
     },
     "execution_count": 81,
     "metadata": {},
     "output_type": "execute_result"
    }
   ],
   "source": [
    "xtrain_tfidf.shape"
   ]
  },
  {
   "cell_type": "code",
   "execution_count": 82,
   "id": "ef579703",
   "metadata": {
    "ExecuteTime": {
     "end_time": "2021-08-04T09:03:08.893294Z",
     "start_time": "2021-08-04T09:03:08.874067Z"
    }
   },
   "outputs": [
    {
     "data": {
      "text/plain": [
       "(27671, 5000)"
      ]
     },
     "execution_count": 82,
     "metadata": {},
     "output_type": "execute_result"
    }
   ],
   "source": [
    "xtrain_tfidf_ngram.shape"
   ]
  },
  {
   "cell_type": "markdown",
   "id": "6aeac338",
   "metadata": {
    "ExecuteTime": {
     "end_time": "2021-08-02T19:49:52.383846Z",
     "start_time": "2021-08-02T19:49:52.370324Z"
    }
   },
   "source": [
    "# Modèles"
   ]
  },
  {
   "cell_type": "markdown",
   "id": "e3da2a83",
   "metadata": {
    "ExecuteTime": {
     "end_time": "2021-08-02T21:31:41.815055Z",
     "start_time": "2021-08-02T21:31:41.809410Z"
    }
   },
   "source": [
    "## Fonction d'entrainement et évaluation de modèle"
   ]
  },
  {
   "cell_type": "code",
   "execution_count": 83,
   "id": "a1a2e58c",
   "metadata": {
    "ExecuteTime": {
     "end_time": "2021-08-04T09:03:08.908398Z",
     "start_time": "2021-08-04T09:03:08.898216Z"
    }
   },
   "outputs": [],
   "source": [
    "def train_model(classifier, \n",
    "                feature_vector_train, \n",
    "                label, \n",
    "                feature_vector_valid):\n",
    "    # fit the training dataset on the classifier\n",
    "    classifier.fit(feature_vector_train, label)\n",
    "    \n",
    "    # predict the labels on validation dataset\n",
    "    predictions = classifier.predict(feature_vector_valid)\n",
    "    \n",
    "    return metrics.accuracy_score(predictions, valid_y), metrics.f1_score(valid_y, predictions, average='weighted')"
   ]
  },
  {
   "cell_type": "markdown",
   "id": "e11a5173",
   "metadata": {
    "ExecuteTime": {
     "end_time": "2021-08-04T07:48:42.234920Z",
     "start_time": "2021-08-04T07:48:42.228975Z"
    }
   },
   "source": [
    "## Baseline"
   ]
  },
  {
   "cell_type": "code",
   "execution_count": 84,
   "id": "1e288ac3",
   "metadata": {
    "ExecuteTime": {
     "end_time": "2021-08-04T09:03:08.945077Z",
     "start_time": "2021-08-04T09:03:08.909394Z"
    }
   },
   "outputs": [
    {
     "name": "stdout",
     "output_type": "stream",
     "text": [
      "BL, WordLevel TF-IDF accuracy :  0.12243422954611159 and f1_score : 0.02671005600143117\n",
      "BL, N-Gram Vectors:  0.12243422954611159 and f1_score : 0.02671005600143117\n"
     ]
    }
   ],
   "source": [
    "# Baseline on Word Level TF IDF Vectors\n",
    "accuracy, f1score = train_model(DummyClassifier(strategy=\"most_frequent\"), \n",
    "                                xtrain_tfidf, \n",
    "                                train_y, \n",
    "                                xvalid_tfidf)\n",
    "print(\"BL, WordLevel TF-IDF accuracy : \", accuracy, 'and f1_score :', f1score)\n",
    "\n",
    "# Baseline on Ngram Level TF IDF Vectors\n",
    "accuracy, f1score = train_model(DummyClassifier(strategy=\"most_frequent\"), xtrain_tfidf_ngram, train_y, xvalid_tfidf_ngram)\n",
    "print(\"BL, N-Gram Vectors: \", accuracy, 'and f1_score :', f1score)"
   ]
  },
  {
   "cell_type": "markdown",
   "id": "1a420182",
   "metadata": {
    "ExecuteTime": {
     "end_time": "2021-08-02T21:36:10.878349Z",
     "start_time": "2021-08-02T21:36:10.873560Z"
    }
   },
   "source": [
    "## Naive Bayes"
   ]
  },
  {
   "cell_type": "code",
   "execution_count": 85,
   "id": "d07d9287",
   "metadata": {
    "ExecuteTime": {
     "end_time": "2021-08-04T09:03:09.078500Z",
     "start_time": "2021-08-04T09:03:08.948072Z"
    }
   },
   "outputs": [
    {
     "name": "stdout",
     "output_type": "stream",
     "text": [
      "NB, WordLevel TF-IDF accuracy :  0.4534547557097427 and f1_score : 0.42358950317153676\n",
      "NB, N-Gram Vectors:  0.4534547557097427 and f1_score : 0.42358950317153676\n"
     ]
    }
   ],
   "source": [
    "# Naive Bayes on Word Level TF IDF Vectors\n",
    "accuracy, f1score = train_model(naive_bayes.MultinomialNB(), xtrain_tfidf, train_y, xvalid_tfidf)\n",
    "print(\"NB, WordLevel TF-IDF accuracy : \", accuracy, 'and f1_score :', f1score)\n",
    "\n",
    "# Naive Bayes on Ngram Level TF IDF Vectors\n",
    "accuracy, f1score = train_model(naive_bayes.MultinomialNB(), xtrain_tfidf_ngram, train_y, xvalid_tfidf_ngram)\n",
    "print(\"NB, N-Gram Vectors: \", accuracy, 'and f1_score :', f1score)"
   ]
  },
  {
   "cell_type": "markdown",
   "id": "2cc92c6a",
   "metadata": {},
   "source": [
    "## Linear Classifier (Logistic Regression)"
   ]
  },
  {
   "cell_type": "code",
   "execution_count": 86,
   "id": "5893ae03",
   "metadata": {
    "ExecuteTime": {
     "end_time": "2021-08-04T09:03:46.745244Z",
     "start_time": "2021-08-04T09:03:09.081492Z"
    }
   },
   "outputs": [
    {
     "name": "stderr",
     "output_type": "stream",
     "text": [
      "C:\\Users\\EliseAndro\\Anaconda3\\lib\\site-packages\\sklearn\\linear_model\\_logistic.py:763: ConvergenceWarning: lbfgs failed to converge (status=1):\n",
      "STOP: TOTAL NO. of ITERATIONS REACHED LIMIT.\n",
      "\n",
      "Increase the number of iterations (max_iter) or scale the data as shown in:\n",
      "    https://scikit-learn.org/stable/modules/preprocessing.html\n",
      "Please also refer to the documentation for alternative solver options:\n",
      "    https://scikit-learn.org/stable/modules/linear_model.html#logistic-regression\n",
      "  n_iter_i = _check_optimize_result(\n"
     ]
    },
    {
     "name": "stdout",
     "output_type": "stream",
     "text": [
      "LR, WordLevel TF-IDF:  0.47311361665221163 and f1_score : 0.4559277845350418\n",
      "LR, N-Gram Vectors:  0.47311361665221163 and f1_score : 0.4559277845350418\n"
     ]
    },
    {
     "name": "stderr",
     "output_type": "stream",
     "text": [
      "C:\\Users\\EliseAndro\\Anaconda3\\lib\\site-packages\\sklearn\\linear_model\\_logistic.py:763: ConvergenceWarning: lbfgs failed to converge (status=1):\n",
      "STOP: TOTAL NO. of ITERATIONS REACHED LIMIT.\n",
      "\n",
      "Increase the number of iterations (max_iter) or scale the data as shown in:\n",
      "    https://scikit-learn.org/stable/modules/preprocessing.html\n",
      "Please also refer to the documentation for alternative solver options:\n",
      "    https://scikit-learn.org/stable/modules/linear_model.html#logistic-regression\n",
      "  n_iter_i = _check_optimize_result(\n"
     ]
    }
   ],
   "source": [
    "# Linear Classifier on Word Level TF IDF Vectors\n",
    "accuracy, f1score = train_model(linear_model.LogisticRegression(), xtrain_tfidf, train_y, xvalid_tfidf)\n",
    "print(\"LR, WordLevel TF-IDF: \", accuracy, 'and f1_score :', f1score)\n",
    "\n",
    "# Linear Classifier on Ngram Level TF IDF Vectors\n",
    "accuracy, f1score = train_model(linear_model.LogisticRegression(), xtrain_tfidf_ngram, train_y, xvalid_tfidf_ngram)\n",
    "print(\"LR, N-Gram Vectors: \", accuracy, 'and f1_score :', f1score)"
   ]
  },
  {
   "cell_type": "code",
   "execution_count": 87,
   "id": "fc31d8cb",
   "metadata": {
    "ExecuteTime": {
     "end_time": "2021-08-04T09:11:10.821614Z",
     "start_time": "2021-08-04T09:03:46.745244Z"
    }
   },
   "outputs": [
    {
     "name": "stderr",
     "output_type": "stream",
     "text": [
      "C:\\Users\\EliseAndro\\Anaconda3\\lib\\site-packages\\sklearn\\linear_model\\_logistic.py:763: ConvergenceWarning: lbfgs failed to converge (status=1):\n",
      "STOP: TOTAL NO. of ITERATIONS REACHED LIMIT.\n",
      "\n",
      "Increase the number of iterations (max_iter) or scale the data as shown in:\n",
      "    https://scikit-learn.org/stable/modules/preprocessing.html\n",
      "Please also refer to the documentation for alternative solver options:\n",
      "    https://scikit-learn.org/stable/modules/linear_model.html#logistic-regression\n",
      "  n_iter_i = _check_optimize_result(\n",
      "C:\\Users\\EliseAndro\\Anaconda3\\lib\\site-packages\\sklearn\\linear_model\\_logistic.py:763: ConvergenceWarning: lbfgs failed to converge (status=1):\n",
      "STOP: TOTAL NO. of ITERATIONS REACHED LIMIT.\n",
      "\n",
      "Increase the number of iterations (max_iter) or scale the data as shown in:\n",
      "    https://scikit-learn.org/stable/modules/preprocessing.html\n",
      "Please also refer to the documentation for alternative solver options:\n",
      "    https://scikit-learn.org/stable/modules/linear_model.html#logistic-regression\n",
      "  n_iter_i = _check_optimize_result(\n",
      "C:\\Users\\EliseAndro\\Anaconda3\\lib\\site-packages\\sklearn\\linear_model\\_logistic.py:763: ConvergenceWarning: lbfgs failed to converge (status=1):\n",
      "STOP: TOTAL NO. of ITERATIONS REACHED LIMIT.\n",
      "\n",
      "Increase the number of iterations (max_iter) or scale the data as shown in:\n",
      "    https://scikit-learn.org/stable/modules/preprocessing.html\n",
      "Please also refer to the documentation for alternative solver options:\n",
      "    https://scikit-learn.org/stable/modules/linear_model.html#logistic-regression\n",
      "  n_iter_i = _check_optimize_result(\n",
      "C:\\Users\\EliseAndro\\Anaconda3\\lib\\site-packages\\sklearn\\linear_model\\_logistic.py:763: ConvergenceWarning: lbfgs failed to converge (status=1):\n",
      "STOP: TOTAL NO. of ITERATIONS REACHED LIMIT.\n",
      "\n",
      "Increase the number of iterations (max_iter) or scale the data as shown in:\n",
      "    https://scikit-learn.org/stable/modules/preprocessing.html\n",
      "Please also refer to the documentation for alternative solver options:\n",
      "    https://scikit-learn.org/stable/modules/linear_model.html#logistic-regression\n",
      "  n_iter_i = _check_optimize_result(\n",
      "C:\\Users\\EliseAndro\\Anaconda3\\lib\\site-packages\\sklearn\\linear_model\\_logistic.py:763: ConvergenceWarning: lbfgs failed to converge (status=1):\n",
      "STOP: TOTAL NO. of ITERATIONS REACHED LIMIT.\n",
      "\n",
      "Increase the number of iterations (max_iter) or scale the data as shown in:\n",
      "    https://scikit-learn.org/stable/modules/preprocessing.html\n",
      "Please also refer to the documentation for alternative solver options:\n",
      "    https://scikit-learn.org/stable/modules/linear_model.html#logistic-regression\n",
      "  n_iter_i = _check_optimize_result(\n",
      "C:\\Users\\EliseAndro\\Anaconda3\\lib\\site-packages\\sklearn\\linear_model\\_logistic.py:763: ConvergenceWarning: lbfgs failed to converge (status=1):\n",
      "STOP: TOTAL NO. of ITERATIONS REACHED LIMIT.\n",
      "\n",
      "Increase the number of iterations (max_iter) or scale the data as shown in:\n",
      "    https://scikit-learn.org/stable/modules/preprocessing.html\n",
      "Please also refer to the documentation for alternative solver options:\n",
      "    https://scikit-learn.org/stable/modules/linear_model.html#logistic-regression\n",
      "  n_iter_i = _check_optimize_result(\n",
      "C:\\Users\\EliseAndro\\Anaconda3\\lib\\site-packages\\sklearn\\linear_model\\_logistic.py:763: ConvergenceWarning: lbfgs failed to converge (status=1):\n",
      "STOP: TOTAL NO. of ITERATIONS REACHED LIMIT.\n",
      "\n",
      "Increase the number of iterations (max_iter) or scale the data as shown in:\n",
      "    https://scikit-learn.org/stable/modules/preprocessing.html\n",
      "Please also refer to the documentation for alternative solver options:\n",
      "    https://scikit-learn.org/stable/modules/linear_model.html#logistic-regression\n",
      "  n_iter_i = _check_optimize_result(\n",
      "C:\\Users\\EliseAndro\\Anaconda3\\lib\\site-packages\\sklearn\\linear_model\\_logistic.py:763: ConvergenceWarning: lbfgs failed to converge (status=1):\n",
      "STOP: TOTAL NO. of ITERATIONS REACHED LIMIT.\n",
      "\n",
      "Increase the number of iterations (max_iter) or scale the data as shown in:\n",
      "    https://scikit-learn.org/stable/modules/preprocessing.html\n",
      "Please also refer to the documentation for alternative solver options:\n",
      "    https://scikit-learn.org/stable/modules/linear_model.html#logistic-regression\n",
      "  n_iter_i = _check_optimize_result(\n",
      "C:\\Users\\EliseAndro\\Anaconda3\\lib\\site-packages\\sklearn\\linear_model\\_logistic.py:763: ConvergenceWarning: lbfgs failed to converge (status=1):\n",
      "STOP: TOTAL NO. of ITERATIONS REACHED LIMIT.\n",
      "\n",
      "Increase the number of iterations (max_iter) or scale the data as shown in:\n",
      "    https://scikit-learn.org/stable/modules/preprocessing.html\n",
      "Please also refer to the documentation for alternative solver options:\n",
      "    https://scikit-learn.org/stable/modules/linear_model.html#logistic-regression\n",
      "  n_iter_i = _check_optimize_result(\n",
      "C:\\Users\\EliseAndro\\Anaconda3\\lib\\site-packages\\sklearn\\linear_model\\_logistic.py:763: ConvergenceWarning: lbfgs failed to converge (status=1):\n",
      "STOP: TOTAL NO. of ITERATIONS REACHED LIMIT.\n",
      "\n",
      "Increase the number of iterations (max_iter) or scale the data as shown in:\n",
      "    https://scikit-learn.org/stable/modules/preprocessing.html\n",
      "Please also refer to the documentation for alternative solver options:\n",
      "    https://scikit-learn.org/stable/modules/linear_model.html#logistic-regression\n",
      "  n_iter_i = _check_optimize_result(\n",
      "C:\\Users\\EliseAndro\\Anaconda3\\lib\\site-packages\\sklearn\\linear_model\\_logistic.py:763: ConvergenceWarning: lbfgs failed to converge (status=1):\n",
      "STOP: TOTAL NO. of ITERATIONS REACHED LIMIT.\n",
      "\n",
      "Increase the number of iterations (max_iter) or scale the data as shown in:\n",
      "    https://scikit-learn.org/stable/modules/preprocessing.html\n",
      "Please also refer to the documentation for alternative solver options:\n",
      "    https://scikit-learn.org/stable/modules/linear_model.html#logistic-regression\n",
      "  n_iter_i = _check_optimize_result(\n",
      "C:\\Users\\EliseAndro\\Anaconda3\\lib\\site-packages\\sklearn\\linear_model\\_logistic.py:763: ConvergenceWarning: lbfgs failed to converge (status=1):\n",
      "STOP: TOTAL NO. of ITERATIONS REACHED LIMIT.\n",
      "\n",
      "Increase the number of iterations (max_iter) or scale the data as shown in:\n",
      "    https://scikit-learn.org/stable/modules/preprocessing.html\n",
      "Please also refer to the documentation for alternative solver options:\n",
      "    https://scikit-learn.org/stable/modules/linear_model.html#logistic-regression\n",
      "  n_iter_i = _check_optimize_result(\n",
      "C:\\Users\\EliseAndro\\Anaconda3\\lib\\site-packages\\sklearn\\linear_model\\_logistic.py:763: ConvergenceWarning: lbfgs failed to converge (status=1):\n",
      "STOP: TOTAL NO. of ITERATIONS REACHED LIMIT.\n",
      "\n",
      "Increase the number of iterations (max_iter) or scale the data as shown in:\n",
      "    https://scikit-learn.org/stable/modules/preprocessing.html\n",
      "Please also refer to the documentation for alternative solver options:\n",
      "    https://scikit-learn.org/stable/modules/linear_model.html#logistic-regression\n",
      "  n_iter_i = _check_optimize_result(\n",
      "C:\\Users\\EliseAndro\\Anaconda3\\lib\\site-packages\\sklearn\\linear_model\\_logistic.py:763: ConvergenceWarning: lbfgs failed to converge (status=1):\n",
      "STOP: TOTAL NO. of ITERATIONS REACHED LIMIT.\n",
      "\n",
      "Increase the number of iterations (max_iter) or scale the data as shown in:\n",
      "    https://scikit-learn.org/stable/modules/preprocessing.html\n",
      "Please also refer to the documentation for alternative solver options:\n",
      "    https://scikit-learn.org/stable/modules/linear_model.html#logistic-regression\n",
      "  n_iter_i = _check_optimize_result(\n",
      "C:\\Users\\EliseAndro\\Anaconda3\\lib\\site-packages\\sklearn\\linear_model\\_logistic.py:763: ConvergenceWarning: lbfgs failed to converge (status=1):\n",
      "STOP: TOTAL NO. of ITERATIONS REACHED LIMIT.\n",
      "\n",
      "Increase the number of iterations (max_iter) or scale the data as shown in:\n",
      "    https://scikit-learn.org/stable/modules/preprocessing.html\n",
      "Please also refer to the documentation for alternative solver options:\n",
      "    https://scikit-learn.org/stable/modules/linear_model.html#logistic-regression\n",
      "  n_iter_i = _check_optimize_result(\n",
      "C:\\Users\\EliseAndro\\Anaconda3\\lib\\site-packages\\sklearn\\linear_model\\_logistic.py:763: ConvergenceWarning: lbfgs failed to converge (status=1):\n",
      "STOP: TOTAL NO. of ITERATIONS REACHED LIMIT.\n",
      "\n",
      "Increase the number of iterations (max_iter) or scale the data as shown in:\n",
      "    https://scikit-learn.org/stable/modules/preprocessing.html\n",
      "Please also refer to the documentation for alternative solver options:\n",
      "    https://scikit-learn.org/stable/modules/linear_model.html#logistic-regression\n",
      "  n_iter_i = _check_optimize_result(\n"
     ]
    },
    {
     "name": "stdout",
     "output_type": "stream",
     "text": [
      "LogisticRegression()\n",
      "accuracy : 0.47311361665221163\n",
      "F1_score : 0.4559277845350418\n"
     ]
    },
    {
     "name": "stderr",
     "output_type": "stream",
     "text": [
      "C:\\Users\\EliseAndro\\Anaconda3\\lib\\site-packages\\sklearn\\linear_model\\_logistic.py:763: ConvergenceWarning: lbfgs failed to converge (status=1):\n",
      "STOP: TOTAL NO. of ITERATIONS REACHED LIMIT.\n",
      "\n",
      "Increase the number of iterations (max_iter) or scale the data as shown in:\n",
      "    https://scikit-learn.org/stable/modules/preprocessing.html\n",
      "Please also refer to the documentation for alternative solver options:\n",
      "    https://scikit-learn.org/stable/modules/linear_model.html#logistic-regression\n",
      "  n_iter_i = _check_optimize_result(\n"
     ]
    }
   ],
   "source": [
    "param_grid_ = {'C': [1e-5, 1e-3, 1e-1, 1e0, 1e1, 1e2]}\n",
    "\n",
    "tfidf_search = GridSearchCV(LogisticRegression(), cv=5, param_grid=param_grid_, scoring='f1_weighted')\n",
    "tfidf_search.fit(xtrain_tfidf_ngram, train_y)\n",
    "\n",
    "print(tfidf_search.best_estimator_)\n",
    "\n",
    "best_logreg = tfidf_search.best_estimator_\n",
    "best_logreg.fit(xtrain_tfidf_ngram, train_y)\n",
    "predictions = best_logreg.predict(xvalid_tfidf)\n",
    "\n",
    "print('accuracy :', metrics.accuracy_score(predictions, valid_y))\n",
    "print('F1_score :', metrics.f1_score(valid_y, predictions, average='weighted'))"
   ]
  },
  {
   "cell_type": "code",
   "execution_count": 88,
   "id": "bff17043",
   "metadata": {
    "ExecuteTime": {
     "end_time": "2021-08-04T09:11:10.865713Z",
     "start_time": "2021-08-04T09:11:10.823983Z"
    },
    "scrolled": true
   },
   "outputs": [
    {
     "data": {
      "text/plain": [
       "array([[  2,   2,   0,   0,   0,  37,   1,   0,   0,   0,   1,  17,   4,\n",
       "          0,   0,   0,   0,   0,   0,   1,  19,   0,   0,   0,   0,   0,\n",
       "          0,   0,   0],\n",
       "       [  0, 301,   0,   1,   0,  28,   0,   0,   0,   4,  19,  47,  26,\n",
       "          4,   0,   1,   1,   1,   0,   0,  74,   0,   0,   0,   0,   1,\n",
       "          0,   0,   0],\n",
       "       [  0,   2,  52,   0,   0,   6,   4,   0,   0,   0,   0,  10,  27,\n",
       "          1,   1,   0,   0,   0,   0,   3,  27,   0,   0,   0,   0,   1,\n",
       "          0,   0,   0],\n",
       "       [  0,   4,   2,  59,   0,   8,   2,   0,   5,   0,   0,  10,  15,\n",
       "          0,   0,   3,   0,   0,   0,   6,  62,   0,   0,   0,   0,   0,\n",
       "          0,   0,   0],\n",
       "       [  0,   0,   0,   0,   4,   5,  19,   0,   0,   0,   1,  11,  14,\n",
       "          1,   0,   0,   0,   0,   0,   0,  32,   0,   0,   0,   0,   0,\n",
       "          0,   0,   0],\n",
       "       [  0,  11,   5,   3,   0, 318,   8,   1,   1,   2,   4,  97,  48,\n",
       "          0,   2,   0,   0,   0,   0,   2, 109,   0,   0,   0,   0,   6,\n",
       "          0,   1,   0],\n",
       "       [  0,   4,   1,   0,   0,  41, 127,   0,   0,   0,   0,  46,  20,\n",
       "          0,   0,   0,   0,   0,   0,   2,  78,   0,   0,   0,   0,   0,\n",
       "          0,   0,   0],\n",
       "       [  0,   5,   0,   0,   0,   4,   0,  35,   1,  43,   3,   7,  17,\n",
       "          4,   0,   0,   0,   0,   0,   0,  15,   0,   1,   0,   0,   0,\n",
       "          0,   0,   0],\n",
       "       [  0,   1,   0,   1,   0,   3,   0,   0, 353,   0,   0,  12,   3,\n",
       "          0,   0,   0,   0,   0,   0,   0,  22,   0,   0,   0,   0,   0,\n",
       "          0,   0,   0],\n",
       "       [  0,  12,   0,   1,   0,   9,   0,  26,   1, 114,   2,   7,  45,\n",
       "         10,   0,   0,   0,   0,   0,   1,  29,   0,   1,   0,   0,   2,\n",
       "          0,   0,   0],\n",
       "       [  0,  23,   1,   0,   0,  25,   4,   0,   1,   7,  83,  35,  30,\n",
       "          2,   3,   0,   0,   0,   0,   0,  70,   0,   1,   0,   0,   2,\n",
       "          0,   0,   0],\n",
       "       [  0,  41,   0,   1,   0,  91,  13,   0,   0,   1,   3, 420,  33,\n",
       "          1,   2,   0,   0,   0,   0,   1, 121,   0,   0,   0,   0,   6,\n",
       "          0,   4,   0],\n",
       "       [  0,  15,  13,   1,   0,  44,   6,   1,   1,  22,   9,  59, 356,\n",
       "         27,   3,   0,   0,   5,   0,   3, 111,   0,   0,   0,   0,   2,\n",
       "          0,   2,   0],\n",
       "       [  0,   7,   4,   0,   0,  13,   1,   7,   0,  12,   0,  19,  92,\n",
       "        127,   5,   0,   0,   0,   0,   0,  29,   0,   0,   0,   0,   0,\n",
       "          0,   0,   0],\n",
       "       [  0,   2,   3,   0,   0,   6,   1,   0,   0,   0,   2,  14,  14,\n",
       "          0,  43,   0,   0,   0,   0,   5,  14,   0,   1,   0,   0,   2,\n",
       "          0,   0,   0],\n",
       "       [  0,   3,   0,   9,   0,   7,   2,   0,   1,   0,   2,   7,   4,\n",
       "          2,   0,   2,   0,   0,   0,   0,  26,   0,   0,   0,   0,   0,\n",
       "          0,   0,   0],\n",
       "       [  0,   3,   0,   2,   0,   5,   0,   0,   0,   0,   1,   4,   6,\n",
       "          0,   0,   0,  31,   2,   0,   1,  20,   0,   0,   0,   0,  16,\n",
       "          0,   0,   0],\n",
       "       [  0,   2,   1,   3,   0,   5,   0,   0,   2,   0,   1,  10,  41,\n",
       "          1,   1,   0,   0,  47,   0,   1,  26,   0,   0,   0,   0,   2,\n",
       "          0,   0,   0],\n",
       "       [  0,   3,   1,   0,   0,   7,   3,   0,   0,   0,   7,   7,   3,\n",
       "          0,   0,   0,   0,   0,   0,   0,  14,   1,   0,   0,   0,   0,\n",
       "          0,   0,   0],\n",
       "       [  0,   1,   3,   0,   0,  20,   1,   1,   1,   4,   2,  23,  38,\n",
       "          2,   0,   0,   2,   0,   0,  69,  50,   0,   0,   0,   0,   6,\n",
       "          0,   2,   0],\n",
       "       [  0,  17,   4,   6,   1,  71,   8,   0,   3,   1,   3,  67,  56,\n",
       "          7,   1,   0,   1,   0,   0,   0, 594,   0,   0,   0,   0,   3,\n",
       "          0,   4,   0],\n",
       "       [  0,   1,   1,   1,   0,  10,   1,   0,   2,   0,   0,  12,   9,\n",
       "          0,   0,   0,   0,   0,   0,   0,  42,   1,   7,   0,   0,   1,\n",
       "          0,   0,   0],\n",
       "       [  0,   3,   0,   0,   0,   4,   1,   0,   2,   5,   3,  15,  11,\n",
       "          0,   2,   0,   2,   0,   0,   0,  32,   2,  27,   0,   0,   2,\n",
       "          0,   0,   0],\n",
       "       [  0,   0,   0,   0,   1,   9,   2,   0,   0,   0,   0,   8,   2,\n",
       "          0,   1,   0,   0,   0,   0,   0,  15,   0,   0,   1,   0,   0,\n",
       "          0,   0,   0],\n",
       "       [  0,   1,   0,   9,   0,   2,   0,   0,   1,   0,   1,   3,   7,\n",
       "          1,   0,   1,   1,   0,   0,   0,  17,   0,   0,   0,   0,   0,\n",
       "          0,   0,   0],\n",
       "       [  0,   4,   0,   0,   0,  12,   0,   0,   1,   0,   2,  17,  14,\n",
       "          0,   0,   1,  10,   1,   0,   1,  41,   0,   1,   0,   0,  99,\n",
       "          3,   0,   0],\n",
       "       [  0,   0,   0,   0,   0,   8,   1,   0,   0,   0,   2,   5,   2,\n",
       "          0,   0,   0,   0,   0,   0,   0,  14,   0,   0,   0,   0,  22,\n",
       "          2,   0,   0],\n",
       "       [  0,   0,   0,   2,   0,  15,   1,   0,   0,   0,   1,   6,   6,\n",
       "          2,   0,   0,   0,   0,   0,   0,  23,   0,   0,   0,   0,   1,\n",
       "          0,   5,   0],\n",
       "       [  0,   0,   2,   0,   0,   8,   3,   0,   0,   0,   9,   5,  10,\n",
       "          0,   0,   0,   0,   0,   0,   2,  10,   0,   0,   0,   0,   0,\n",
       "          0,   0,   1]], dtype=int64)"
      ]
     },
     "execution_count": 88,
     "metadata": {},
     "output_type": "execute_result"
    }
   ],
   "source": [
    "metrics.confusion_matrix(valid_y, predictions)"
   ]
  },
  {
   "cell_type": "code",
   "execution_count": 89,
   "id": "af8a9a44",
   "metadata": {
    "ExecuteTime": {
     "end_time": "2021-08-04T09:11:23.574910Z",
     "start_time": "2021-08-04T09:11:10.869510Z"
    }
   },
   "outputs": [
    {
     "data": {
      "text/plain": [
       "<AxesSubplot:>"
      ]
     },
     "execution_count": 89,
     "metadata": {},
     "output_type": "execute_result"
    },
    {
     "data": {
      "image/png": "[encoded data removed]",
      "text/plain": [
       "<Figure size 1584x1296 with 2 Axes>"
      ]
     },
     "metadata": {
      "needs_background": "light"
     },
     "output_type": "display_data"
    }
   ],
   "source": [
    "df_cm = pd.DataFrame(metrics.confusion_matrix(valid_y, predictions))\n",
    "plt.figure(figsize = (22,18))\n",
    "sn.heatmap(df_cm, annot=True)"
   ]
  },
  {
   "cell_type": "markdown",
   "id": "ca66f33c",
   "metadata": {},
   "source": [
    "## SVM Model"
   ]
  },
  {
   "cell_type": "code",
   "execution_count": 90,
   "id": "6193b871",
   "metadata": {
    "ExecuteTime": {
     "end_time": "2021-08-04T09:22:30.089985Z",
     "start_time": "2021-08-04T09:11:23.574910Z"
    }
   },
   "outputs": [
    {
     "name": "stdout",
     "output_type": "stream",
     "text": [
      "SVM, WordLevel TF-IDF:  0.44593813240821045 and f1_score : 0.4297972999702745\n",
      "SVM, N-Gram Vectors:  0.44593813240821045 and f1_score : 0.4297972999702745\n"
     ]
    }
   ],
   "source": [
    "# SVM on Ngram Level TF IDF Vectors\n",
    "accuracy, f1score = train_model(svm.SVC(), xtrain_tfidf, train_y, xvalid_tfidf)\n",
    "print(\"SVM, WordLevel TF-IDF: \", accuracy, 'and f1_score :', f1score)\n",
    "\n",
    "# SVM on Ngram Level TF IDF Vectors\n",
    "accuracy, f1score = train_model(svm.SVC(), xtrain_tfidf_ngram, train_y, xvalid_tfidf_ngram)\n",
    "print(\"SVM, N-Gram Vectors: \", accuracy, 'and f1_score :', f1score)"
   ]
  },
  {
   "cell_type": "markdown",
   "id": "9a9d1063",
   "metadata": {
    "ExecuteTime": {
     "end_time": "2021-08-02T20:37:53.061103Z",
     "start_time": "2021-08-02T20:37:53.048560Z"
    }
   },
   "source": [
    "## Bagging Model : random forest"
   ]
  },
  {
   "cell_type": "code",
   "execution_count": 91,
   "id": "7122991f",
   "metadata": {
    "ExecuteTime": {
     "end_time": "2021-08-04T09:29:09.709275Z",
     "start_time": "2021-08-04T09:22:30.092072Z"
    }
   },
   "outputs": [
    {
     "name": "stdout",
     "output_type": "stream",
     "text": [
      "RF, WordLevel TF-IDF:  0.4560566637756577 and f1_score : 0.44780883239467917\n",
      "RF, WordLevel TF-IDF:  0.45677941601618965 and f1_score : 0.44776285830950896\n"
     ]
    }
   ],
   "source": [
    "# RF on Word Level TF IDF Vectors\n",
    "accuracy, f1score = train_model(ensemble.RandomForestClassifier(), xtrain_tfidf, train_y, xvalid_tfidf)\n",
    "print(\"RF, WordLevel TF-IDF: \", accuracy, 'and f1_score :', f1score)\n",
    "\n",
    "# RF on Ngram Level TF IDF Vectors\n",
    "accuracy, f1score = train_model(ensemble.RandomForestClassifier(), xtrain_tfidf_ngram, train_y, xvalid_tfidf_ngram)\n",
    "print(\"RF, WordLevel TF-IDF: \", accuracy, 'and f1_score :', f1score)"
   ]
  },
  {
   "cell_type": "markdown",
   "id": "7e7d282b",
   "metadata": {},
   "source": [
    "# Enregistrement du modèle"
   ]
  },
  {
   "cell_type": "code",
   "execution_count": 93,
   "id": "515200b9",
   "metadata": {
    "ExecuteTime": {
     "end_time": "2021-08-04T09:30:28.621986Z",
     "start_time": "2021-08-04T09:30:28.607472Z"
    }
   },
   "outputs": [],
   "source": [
    "model = best_logreg"
   ]
  },
  {
   "cell_type": "code",
   "execution_count": 94,
   "id": "5a1379e8",
   "metadata": {
    "ExecuteTime": {
     "end_time": "2021-08-04T09:30:30.030694Z",
     "start_time": "2021-08-04T09:30:30.015241Z"
    }
   },
   "outputs": [],
   "source": [
    "# save the model to disk\n",
    "filename = 'modele_final.sav'\n",
    "pickle.dump(model, open(filename, 'wb'))"
   ]
  }
 ],
 "metadata": {
  "kernelspec": {
   "display_name": "Python 3 (ipykernel)",
   "language": "python",
   "name": "python3"
  },
  "language_info": {
   "codemirror_mode": {
    "name": "ipython",
    "version": 3
   },
   "file_extension": ".py",
   "mimetype": "text/x-python",
   "name": "python",
   "nbconvert_exporter": "python",
   "pygments_lexer": "ipython3",
   "version": "3.8.8"
  },
  "toc": {
   "base_numbering": 1,
   "nav_menu": {},
   "number_sections": true,
   "sideBar": true,
   "skip_h1_title": false,
   "title_cell": "Table of Contents",
   "title_sidebar": "Contents",
   "toc_cell": false,
   "toc_position": {
    "height": "calc(100% - 180px)",
    "left": "10px",
    "top": "150px",
    "width": "216.825px"
   },
   "toc_section_display": true,
   "toc_window_display": true
  }
 },
 "nbformat": 4,
 "nbformat_minor": 5
}
