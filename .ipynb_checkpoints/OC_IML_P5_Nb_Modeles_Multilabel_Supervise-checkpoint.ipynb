{
 "cells": [
  {
   "cell_type": "markdown",
   "id": "35bce379",
   "metadata": {},
   "source": [
    "<font size=\"6\">PROJET 5 : Catégorisez automatiquement des questions </font>"
   ]
  },
  {
   "cell_type": "markdown",
   "id": "9f8b5822",
   "metadata": {},
   "source": [
    "<font size=\"6\"> Notebook 4 : Modèles multi label supervisés </font>"
   ]
  },
  {
   "cell_type": "markdown",
   "id": "a0652920",
   "metadata": {},
   "source": [
    "**Librairies**"
   ]
  },
  {
   "cell_type": "code",
   "execution_count": 4,
   "id": "f92694e5",
   "metadata": {
    "ExecuteTime": {
     "end_time": "2021-09-01T13:52:30.472954Z",
     "start_time": "2021-09-01T13:52:29.959834Z"
    }
   },
   "outputs": [],
   "source": [
    "# Analyse données\n",
    "import pandas as pd\n",
    "import numpy as np"
   ]
  },
  {
   "cell_type": "code",
   "execution_count": 5,
   "id": "7425f176",
   "metadata": {
    "ExecuteTime": {
     "end_time": "2021-09-01T13:52:31.362952Z",
     "start_time": "2021-09-01T13:52:30.475930Z"
    }
   },
   "outputs": [],
   "source": [
    "# Data Viz\n",
    "import matplotlib.pyplot as plt\n",
    "import seaborn as sns"
   ]
  },
  {
   "cell_type": "code",
   "execution_count": 6,
   "id": "e520a469",
   "metadata": {
    "ExecuteTime": {
     "end_time": "2021-09-01T13:52:31.394410Z",
     "start_time": "2021-09-01T13:52:31.363925Z"
    }
   },
   "outputs": [],
   "source": [
    "# Preprocessing\n",
    "import neattext as nt\n",
    "import neattext.functions as nfx"
   ]
  },
  {
   "cell_type": "code",
   "execution_count": 34,
   "id": "b767fe7f",
   "metadata": {
    "ExecuteTime": {
     "end_time": "2021-09-01T14:15:14.934610Z",
     "start_time": "2021-09-01T14:15:14.913079Z"
    }
   },
   "outputs": [],
   "source": [
    "# Modèles\n",
    "from sklearn.linear_model import LogisticRegression\n",
    "from sklearn.neighbors import KNeighborsClassifier\n",
    "from sklearn.tree import DecisionTreeClassifier\n",
    "from sklearn.naive_bayes import GaussianNB,MultinomialNB\n",
    "from sklearn.metrics import accuracy_score,hamming_loss,classification_report\n",
    "from sklearn.linear_model import SGDClassifier\n",
    "from sklearn.svm import LinearSVC\n",
    "from sklearn.multiclass import OneVsRestClassifier"
   ]
  },
  {
   "cell_type": "code",
   "execution_count": 8,
   "id": "7573f6da",
   "metadata": {
    "ExecuteTime": {
     "end_time": "2021-09-01T13:52:32.201404Z",
     "start_time": "2021-09-01T13:52:32.172559Z"
    }
   },
   "outputs": [],
   "source": [
    "### Split Dataset into Train and Text\n",
    "from sklearn.model_selection import train_test_split\n",
    "# Feature engineering\n",
    "from sklearn.feature_extraction.text import TfidfVectorizer"
   ]
  },
  {
   "cell_type": "code",
   "execution_count": 9,
   "id": "6451b52a",
   "metadata": {
    "ExecuteTime": {
     "end_time": "2021-09-01T13:52:32.233473Z",
     "start_time": "2021-09-01T13:52:32.204397Z"
    }
   },
   "outputs": [],
   "source": [
    "# Multi Label packages\n",
    "from skmultilearn.problem_transform import BinaryRelevance\n",
    "from skmultilearn.problem_transform import ClassifierChain\n",
    "from skmultilearn.problem_transform import LabelPowerset\n",
    "from skmultilearn.adapt import MLkNN"
   ]
  },
  {
   "cell_type": "code",
   "execution_count": 53,
   "id": "07ea8afe",
   "metadata": {
    "ExecuteTime": {
     "end_time": "2021-09-01T15:21:49.055243Z",
     "start_time": "2021-09-01T15:21:49.036209Z"
    }
   },
   "outputs": [],
   "source": [
    "import joblib"
   ]
  },
  {
   "cell_type": "markdown",
   "id": "7216f19f",
   "metadata": {},
   "source": [
    "**Chargement des données du notebook 1**"
   ]
  },
  {
   "cell_type": "code",
   "execution_count": 10,
   "id": "e54deb10",
   "metadata": {
    "ExecuteTime": {
     "end_time": "2021-09-01T13:52:32.726108Z",
     "start_time": "2021-09-01T13:52:32.235424Z"
    }
   },
   "outputs": [],
   "source": [
    "df = pd.read_pickle(\"./Data/preprocess_data.pkl\")"
   ]
  },
  {
   "cell_type": "code",
   "execution_count": 11,
   "id": "23d80aea",
   "metadata": {
    "ExecuteTime": {
     "end_time": "2021-09-01T13:52:32.789450Z",
     "start_time": "2021-09-01T13:52:32.727111Z"
    },
    "scrolled": true
   },
   "outputs": [
    {
     "data": {
      "text/html": [
       "<div>\n",
       "<style scoped>\n",
       "    .dataframe tbody tr th:only-of-type {\n",
       "        vertical-align: middle;\n",
       "    }\n",
       "\n",
       "    .dataframe tbody tr th {\n",
       "        vertical-align: top;\n",
       "    }\n",
       "\n",
       "    .dataframe thead th {\n",
       "        text-align: right;\n",
       "    }\n",
       "</style>\n",
       "<table border=\"1\" class=\"dataframe\">\n",
       "  <thead>\n",
       "    <tr style=\"text-align: right;\">\n",
       "      <th></th>\n",
       "      <th>content</th>\n",
       "      <th>preprocess_content</th>\n",
       "      <th>word_count</th>\n",
       "      <th>version-control</th>\n",
       "      <th>forms</th>\n",
       "      <th>sql</th>\n",
       "      <th>syntax</th>\n",
       "      <th>asp.net-mvc</th>\n",
       "      <th>numpy</th>\n",
       "      <th>http</th>\n",
       "      <th>...</th>\n",
       "      <th>objective-c</th>\n",
       "      <th>exception</th>\n",
       "      <th>sorting</th>\n",
       "      <th>matplotlib</th>\n",
       "      <th>c</th>\n",
       "      <th>android</th>\n",
       "      <th>ios</th>\n",
       "      <th>linq</th>\n",
       "      <th>swift</th>\n",
       "      <th>java-8</th>\n",
       "    </tr>\n",
       "  </thead>\n",
       "  <tbody>\n",
       "    <tr>\n",
       "      <th>0</th>\n",
       "      <td>is there any way to tinker with the iphone sdk...</td>\n",
       "      <td>[way, machine, plan, version, way, think, run,...</td>\n",
       "      <td>70</td>\n",
       "      <td>0</td>\n",
       "      <td>0</td>\n",
       "      <td>0</td>\n",
       "      <td>0</td>\n",
       "      <td>0</td>\n",
       "      <td>0</td>\n",
       "      <td>0</td>\n",
       "      <td>...</td>\n",
       "      <td>0</td>\n",
       "      <td>0</td>\n",
       "      <td>0</td>\n",
       "      <td>0</td>\n",
       "      <td>0</td>\n",
       "      <td>0</td>\n",
       "      <td>1</td>\n",
       "      <td>0</td>\n",
       "      <td>0</td>\n",
       "      <td>0</td>\n",
       "    </tr>\n",
       "    <tr>\n",
       "      <th>1</th>\n",
       "      <td>i have this gigantic ugly string j transaction...</td>\n",
       "      <td>[gigantic, ugly, string, transaction, start, p...</td>\n",
       "      <td>120</td>\n",
       "      <td>0</td>\n",
       "      <td>0</td>\n",
       "      <td>0</td>\n",
       "      <td>0</td>\n",
       "      <td>0</td>\n",
       "      <td>0</td>\n",
       "      <td>0</td>\n",
       "      <td>...</td>\n",
       "      <td>0</td>\n",
       "      <td>0</td>\n",
       "      <td>0</td>\n",
       "      <td>0</td>\n",
       "      <td>0</td>\n",
       "      <td>0</td>\n",
       "      <td>0</td>\n",
       "      <td>0</td>\n",
       "      <td>0</td>\n",
       "      <td>0</td>\n",
       "    </tr>\n",
       "    <tr>\n",
       "      <th>2</th>\n",
       "      <td>i am working with autolayout and constraints a...</td>\n",
       "      <td>[work, autolayout, constraint, find, constrain...</td>\n",
       "      <td>199</td>\n",
       "      <td>0</td>\n",
       "      <td>0</td>\n",
       "      <td>0</td>\n",
       "      <td>0</td>\n",
       "      <td>0</td>\n",
       "      <td>0</td>\n",
       "      <td>0</td>\n",
       "      <td>...</td>\n",
       "      <td>0</td>\n",
       "      <td>0</td>\n",
       "      <td>0</td>\n",
       "      <td>0</td>\n",
       "      <td>0</td>\n",
       "      <td>0</td>\n",
       "      <td>1</td>\n",
       "      <td>0</td>\n",
       "      <td>0</td>\n",
       "      <td>0</td>\n",
       "    </tr>\n",
       "    <tr>\n",
       "      <th>3</th>\n",
       "      <td>i m learning objective c and keep bumping into...</td>\n",
       "      <td>[learn, objective, keep, bump, symbol, use, di...</td>\n",
       "      <td>48</td>\n",
       "      <td>0</td>\n",
       "      <td>0</td>\n",
       "      <td>0</td>\n",
       "      <td>0</td>\n",
       "      <td>0</td>\n",
       "      <td>0</td>\n",
       "      <td>0</td>\n",
       "      <td>...</td>\n",
       "      <td>1</td>\n",
       "      <td>0</td>\n",
       "      <td>0</td>\n",
       "      <td>0</td>\n",
       "      <td>0</td>\n",
       "      <td>0</td>\n",
       "      <td>0</td>\n",
       "      <td>0</td>\n",
       "      <td>0</td>\n",
       "      <td>0</td>\n",
       "    </tr>\n",
       "    <tr>\n",
       "      <th>4</th>\n",
       "      <td>is there a simple way in a pretty standard uni...</td>\n",
       "      <td>[simple, way, pretty, standard, unix, environm...</td>\n",
       "      <td>113</td>\n",
       "      <td>0</td>\n",
       "      <td>0</td>\n",
       "      <td>0</td>\n",
       "      <td>0</td>\n",
       "      <td>0</td>\n",
       "      <td>0</td>\n",
       "      <td>0</td>\n",
       "      <td>...</td>\n",
       "      <td>0</td>\n",
       "      <td>0</td>\n",
       "      <td>0</td>\n",
       "      <td>0</td>\n",
       "      <td>0</td>\n",
       "      <td>0</td>\n",
       "      <td>0</td>\n",
       "      <td>0</td>\n",
       "      <td>0</td>\n",
       "      <td>0</td>\n",
       "    </tr>\n",
       "    <tr>\n",
       "      <th>...</th>\n",
       "      <td>...</td>\n",
       "      <td>...</td>\n",
       "      <td>...</td>\n",
       "      <td>...</td>\n",
       "      <td>...</td>\n",
       "      <td>...</td>\n",
       "      <td>...</td>\n",
       "      <td>...</td>\n",
       "      <td>...</td>\n",
       "      <td>...</td>\n",
       "      <td>...</td>\n",
       "      <td>...</td>\n",
       "      <td>...</td>\n",
       "      <td>...</td>\n",
       "      <td>...</td>\n",
       "      <td>...</td>\n",
       "      <td>...</td>\n",
       "      <td>...</td>\n",
       "      <td>...</td>\n",
       "      <td>...</td>\n",
       "      <td>...</td>\n",
       "    </tr>\n",
       "    <tr>\n",
       "      <th>44990</th>\n",
       "      <td>recently i upgraded the version of django fram...</td>\n",
       "      <td>[recently_upgrade, version, django, framework,...</td>\n",
       "      <td>331</td>\n",
       "      <td>0</td>\n",
       "      <td>0</td>\n",
       "      <td>0</td>\n",
       "      <td>0</td>\n",
       "      <td>0</td>\n",
       "      <td>0</td>\n",
       "      <td>0</td>\n",
       "      <td>...</td>\n",
       "      <td>0</td>\n",
       "      <td>0</td>\n",
       "      <td>0</td>\n",
       "      <td>0</td>\n",
       "      <td>0</td>\n",
       "      <td>0</td>\n",
       "      <td>0</td>\n",
       "      <td>0</td>\n",
       "      <td>0</td>\n",
       "      <td>0</td>\n",
       "    </tr>\n",
       "    <tr>\n",
       "      <th>44991</th>\n",
       "      <td>how can i reject a promise that returned by an...</td>\n",
       "      <td>[reject, promise, return, async_await, functio...</td>\n",
       "      <td>88</td>\n",
       "      <td>0</td>\n",
       "      <td>0</td>\n",
       "      <td>0</td>\n",
       "      <td>0</td>\n",
       "      <td>0</td>\n",
       "      <td>0</td>\n",
       "      <td>0</td>\n",
       "      <td>...</td>\n",
       "      <td>0</td>\n",
       "      <td>0</td>\n",
       "      <td>0</td>\n",
       "      <td>0</td>\n",
       "      <td>0</td>\n",
       "      <td>0</td>\n",
       "      <td>0</td>\n",
       "      <td>0</td>\n",
       "      <td>0</td>\n",
       "      <td>0</td>\n",
       "    </tr>\n",
       "    <tr>\n",
       "      <th>44992</th>\n",
       "      <td>i have entities that are related as one to man...</td>\n",
       "      <td>[entity, relate, manypublic, class, restaurant...</td>\n",
       "      <td>296</td>\n",
       "      <td>0</td>\n",
       "      <td>0</td>\n",
       "      <td>0</td>\n",
       "      <td>0</td>\n",
       "      <td>0</td>\n",
       "      <td>0</td>\n",
       "      <td>0</td>\n",
       "      <td>...</td>\n",
       "      <td>0</td>\n",
       "      <td>0</td>\n",
       "      <td>0</td>\n",
       "      <td>0</td>\n",
       "      <td>0</td>\n",
       "      <td>0</td>\n",
       "      <td>0</td>\n",
       "      <td>0</td>\n",
       "      <td>0</td>\n",
       "      <td>0</td>\n",
       "    </tr>\n",
       "    <tr>\n",
       "      <th>44993</th>\n",
       "      <td>problemi want to return a file in my asp net w...</td>\n",
       "      <td>[want, return, file, web, api, controller, app...</td>\n",
       "      <td>90</td>\n",
       "      <td>0</td>\n",
       "      <td>0</td>\n",
       "      <td>0</td>\n",
       "      <td>0</td>\n",
       "      <td>0</td>\n",
       "      <td>0</td>\n",
       "      <td>0</td>\n",
       "      <td>...</td>\n",
       "      <td>0</td>\n",
       "      <td>0</td>\n",
       "      <td>0</td>\n",
       "      <td>0</td>\n",
       "      <td>0</td>\n",
       "      <td>0</td>\n",
       "      <td>0</td>\n",
       "      <td>0</td>\n",
       "      <td>0</td>\n",
       "      <td>0</td>\n",
       "    </tr>\n",
       "    <tr>\n",
       "      <th>44994</th>\n",
       "      <td>using suggested method this is the result a li...</td>\n",
       "      <td>[use, suggest, method, result, link, button, c...</td>\n",
       "      <td>71</td>\n",
       "      <td>0</td>\n",
       "      <td>0</td>\n",
       "      <td>0</td>\n",
       "      <td>0</td>\n",
       "      <td>0</td>\n",
       "      <td>0</td>\n",
       "      <td>0</td>\n",
       "      <td>...</td>\n",
       "      <td>0</td>\n",
       "      <td>0</td>\n",
       "      <td>0</td>\n",
       "      <td>0</td>\n",
       "      <td>0</td>\n",
       "      <td>0</td>\n",
       "      <td>0</td>\n",
       "      <td>0</td>\n",
       "      <td>0</td>\n",
       "      <td>0</td>\n",
       "    </tr>\n",
       "  </tbody>\n",
       "</table>\n",
       "<p>40730 rows × 103 columns</p>\n",
       "</div>"
      ],
      "text/plain": [
       "                                                 content  \\\n",
       "0      is there any way to tinker with the iphone sdk...   \n",
       "1      i have this gigantic ugly string j transaction...   \n",
       "2      i am working with autolayout and constraints a...   \n",
       "3      i m learning objective c and keep bumping into...   \n",
       "4      is there a simple way in a pretty standard uni...   \n",
       "...                                                  ...   \n",
       "44990  recently i upgraded the version of django fram...   \n",
       "44991  how can i reject a promise that returned by an...   \n",
       "44992  i have entities that are related as one to man...   \n",
       "44993  problemi want to return a file in my asp net w...   \n",
       "44994  using suggested method this is the result a li...   \n",
       "\n",
       "                                      preprocess_content  word_count  \\\n",
       "0      [way, machine, plan, version, way, think, run,...          70   \n",
       "1      [gigantic, ugly, string, transaction, start, p...         120   \n",
       "2      [work, autolayout, constraint, find, constrain...         199   \n",
       "3      [learn, objective, keep, bump, symbol, use, di...          48   \n",
       "4      [simple, way, pretty, standard, unix, environm...         113   \n",
       "...                                                  ...         ...   \n",
       "44990  [recently_upgrade, version, django, framework,...         331   \n",
       "44991  [reject, promise, return, async_await, functio...          88   \n",
       "44992  [entity, relate, manypublic, class, restaurant...         296   \n",
       "44993  [want, return, file, web, api, controller, app...          90   \n",
       "44994  [use, suggest, method, result, link, button, c...          71   \n",
       "\n",
       "       version-control  forms  sql  syntax  asp.net-mvc  numpy  http  ...  \\\n",
       "0                    0      0    0       0            0      0     0  ...   \n",
       "1                    0      0    0       0            0      0     0  ...   \n",
       "2                    0      0    0       0            0      0     0  ...   \n",
       "3                    0      0    0       0            0      0     0  ...   \n",
       "4                    0      0    0       0            0      0     0  ...   \n",
       "...                ...    ...  ...     ...          ...    ...   ...  ...   \n",
       "44990                0      0    0       0            0      0     0  ...   \n",
       "44991                0      0    0       0            0      0     0  ...   \n",
       "44992                0      0    0       0            0      0     0  ...   \n",
       "44993                0      0    0       0            0      0     0  ...   \n",
       "44994                0      0    0       0            0      0     0  ...   \n",
       "\n",
       "       objective-c  exception  sorting  matplotlib  c  android  ios  linq  \\\n",
       "0                0          0        0           0  0        0    1     0   \n",
       "1                0          0        0           0  0        0    0     0   \n",
       "2                0          0        0           0  0        0    1     0   \n",
       "3                1          0        0           0  0        0    0     0   \n",
       "4                0          0        0           0  0        0    0     0   \n",
       "...            ...        ...      ...         ... ..      ...  ...   ...   \n",
       "44990            0          0        0           0  0        0    0     0   \n",
       "44991            0          0        0           0  0        0    0     0   \n",
       "44992            0          0        0           0  0        0    0     0   \n",
       "44993            0          0        0           0  0        0    0     0   \n",
       "44994            0          0        0           0  0        0    0     0   \n",
       "\n",
       "       swift  java-8  \n",
       "0          0       0  \n",
       "1          0       0  \n",
       "2          0       0  \n",
       "3          0       0  \n",
       "4          0       0  \n",
       "...      ...     ...  \n",
       "44990      0       0  \n",
       "44991      0       0  \n",
       "44992      0       0  \n",
       "44993      0       0  \n",
       "44994      0       0  \n",
       "\n",
       "[40730 rows x 103 columns]"
      ]
     },
     "execution_count": 11,
     "metadata": {},
     "output_type": "execute_result"
    }
   ],
   "source": [
    "df"
   ]
  },
  {
   "cell_type": "markdown",
   "id": "12a5aac2",
   "metadata": {},
   "source": [
    "**Rapide exploration des données**"
   ]
  },
  {
   "cell_type": "code",
   "execution_count": 12,
   "id": "b0543bdb",
   "metadata": {
    "ExecuteTime": {
     "end_time": "2021-09-01T13:52:32.805443Z",
     "start_time": "2021-09-01T13:52:32.791446Z"
    }
   },
   "outputs": [
    {
     "data": {
      "text/plain": [
       "content               object\n",
       "preprocess_content    object\n",
       "word_count             int64\n",
       "version-control        int64\n",
       "forms                  int64\n",
       "                       ...  \n",
       "android                int64\n",
       "ios                    int64\n",
       "linq                   int64\n",
       "swift                  int64\n",
       "java-8                 int64\n",
       "Length: 103, dtype: object"
      ]
     },
     "execution_count": 12,
     "metadata": {},
     "output_type": "execute_result"
    }
   ],
   "source": [
    "df.dtypes"
   ]
  },
  {
   "cell_type": "code",
   "execution_count": 13,
   "id": "da91b069",
   "metadata": {
    "ExecuteTime": {
     "end_time": "2021-09-01T13:52:33.517440Z",
     "start_time": "2021-09-01T13:52:32.809432Z"
    }
   },
   "outputs": [],
   "source": [
    "for i in df.columns[3:]:\n",
    "    df[i] = df[i].astype(float)"
   ]
  },
  {
   "cell_type": "code",
   "execution_count": 14,
   "id": "aab3d245",
   "metadata": {
    "ExecuteTime": {
     "end_time": "2021-09-01T13:52:33.532910Z",
     "start_time": "2021-09-01T13:52:33.519433Z"
    }
   },
   "outputs": [
    {
     "data": {
      "text/plain": [
       "content                object\n",
       "preprocess_content     object\n",
       "word_count              int64\n",
       "version-control       float64\n",
       "forms                 float64\n",
       "                       ...   \n",
       "android               float64\n",
       "ios                   float64\n",
       "linq                  float64\n",
       "swift                 float64\n",
       "java-8                float64\n",
       "Length: 103, dtype: object"
      ]
     },
     "execution_count": 14,
     "metadata": {},
     "output_type": "execute_result"
    }
   ],
   "source": [
    "df.dtypes"
   ]
  },
  {
   "cell_type": "code",
   "execution_count": 15,
   "id": "dfda912a",
   "metadata": {
    "ExecuteTime": {
     "end_time": "2021-09-01T13:52:33.756463Z",
     "start_time": "2021-09-01T13:52:33.536027Z"
    }
   },
   "outputs": [
    {
     "name": "stderr",
     "output_type": "stream",
     "text": [
      "C:\\Users\\EliseAndro\\anaconda3\\lib\\site-packages\\seaborn\\_decorators.py:36: FutureWarning: Pass the following variable as a keyword arg: x. From version 0.12, the only valid positional argument will be `data`, and passing other arguments without an explicit keyword will result in an error or misinterpretation.\n",
      "  warnings.warn(\n"
     ]
    },
    {
     "data": {
      "text/plain": [
       "<AxesSubplot:xlabel='javascript', ylabel='count'>"
      ]
     },
     "execution_count": 15,
     "metadata": {},
     "output_type": "execute_result"
    },
    {
     "data": {
      "image/png": "[encoded data removed]",
      "text/plain": [
       "<Figure size 432x288 with 1 Axes>"
      ]
     },
     "metadata": {
      "needs_background": "light"
     },
     "output_type": "display_data"
    }
   ],
   "source": [
    "# Value Count, tags le plus fréquent\n",
    "sns.countplot(df['javascript'])"
   ]
  },
  {
   "cell_type": "code",
   "execution_count": 16,
   "id": "cf02c312",
   "metadata": {
    "ExecuteTime": {
     "end_time": "2021-09-01T13:52:33.916012Z",
     "start_time": "2021-09-01T13:52:33.758433Z"
    }
   },
   "outputs": [
    {
     "name": "stderr",
     "output_type": "stream",
     "text": [
      "C:\\Users\\EliseAndro\\anaconda3\\lib\\site-packages\\seaborn\\_decorators.py:36: FutureWarning: Pass the following variable as a keyword arg: x. From version 0.12, the only valid positional argument will be `data`, and passing other arguments without an explicit keyword will result in an error or misinterpretation.\n",
      "  warnings.warn(\n"
     ]
    },
    {
     "data": {
      "text/plain": [
       "<AxesSubplot:xlabel='java-8', ylabel='count'>"
      ]
     },
     "execution_count": 16,
     "metadata": {},
     "output_type": "execute_result"
    },
    {
     "data": {
      "image/png": "[encoded data removed]",
      "text/plain": [
       "<Figure size 432x288 with 1 Axes>"
      ]
     },
     "metadata": {
      "needs_background": "light"
     },
     "output_type": "display_data"
    }
   ],
   "source": [
    "# Value Count, tags le moins fréquent\n",
    "sns.countplot(df['java-8'])"
   ]
  },
  {
   "cell_type": "markdown",
   "id": "513c1573",
   "metadata": {},
   "source": [
    "# Text Preprocessing"
   ]
  },
  {
   "cell_type": "code",
   "execution_count": 17,
   "id": "98a0f524",
   "metadata": {
    "ExecuteTime": {
     "end_time": "2021-09-01T13:52:33.932004Z",
     "start_time": "2021-09-01T13:52:33.918005Z"
    }
   },
   "outputs": [],
   "source": [
    "tfidf = TfidfVectorizer(analyzer='word',\n",
    "                        min_df=1,\n",
    "                        max_df=0.9,\n",
    "                        ngram_range=(1,3), \n",
    "                        max_features=10000, \n",
    "                        preprocessor=' '.join)"
   ]
  },
  {
   "cell_type": "code",
   "execution_count": 185,
   "id": "b8e1347f",
   "metadata": {
    "ExecuteTime": {
     "end_time": "2021-09-01T20:42:15.357453Z",
     "start_time": "2021-09-01T20:42:03.019407Z"
    }
   },
   "outputs": [
    {
     "data": {
      "text/plain": [
       "['pkl_objects/tfidf.pkl']"
      ]
     },
     "execution_count": 185,
     "metadata": {},
     "output_type": "execute_result"
    }
   ],
   "source": [
    "#enregistrement des du tfidf pour l'api\n",
    "joblib.dump(tfidf, 'pkl_objects/tfidf.pkl')"
   ]
  },
  {
   "cell_type": "code",
   "execution_count": 18,
   "id": "dbd68109",
   "metadata": {
    "ExecuteTime": {
     "end_time": "2021-09-01T13:52:51.520703Z",
     "start_time": "2021-09-01T13:52:33.935970Z"
    }
   },
   "outputs": [],
   "source": [
    "# Build Features\n",
    "Xfeatures = tfidf.fit_transform(df['preprocess_content']).toarray()"
   ]
  },
  {
   "cell_type": "code",
   "execution_count": 19,
   "id": "788cc49f",
   "metadata": {
    "ExecuteTime": {
     "end_time": "2021-09-01T13:52:51.536415Z",
     "start_time": "2021-09-01T13:52:51.522702Z"
    }
   },
   "outputs": [
    {
     "name": "stdout",
     "output_type": "stream",
     "text": [
      "Xfeatures shape:  (40730, 10000)\n"
     ]
    },
    {
     "data": {
      "text/plain": [
       "array([[0., 0., 0., ..., 0., 0., 0.],\n",
       "       [0., 0., 0., ..., 0., 0., 0.],\n",
       "       [0., 0., 0., ..., 0., 0., 0.],\n",
       "       ...,\n",
       "       [0., 0., 0., ..., 0., 0., 0.],\n",
       "       [0., 0., 0., ..., 0., 0., 0.],\n",
       "       [0., 0., 0., ..., 0., 0., 0.]])"
      ]
     },
     "execution_count": 19,
     "metadata": {},
     "output_type": "execute_result"
    }
   ],
   "source": [
    "print('Xfeatures shape: ',Xfeatures.shape)\n",
    "Xfeatures"
   ]
  },
  {
   "cell_type": "code",
   "execution_count": 183,
   "id": "172b5055",
   "metadata": {
    "ExecuteTime": {
     "end_time": "2021-09-01T20:40:32.726033Z",
     "start_time": "2021-09-01T20:40:32.704655Z"
    }
   },
   "outputs": [
    {
     "data": {
      "text/plain": [
       "['pkl_objects/list_tags.pkl']"
      ]
     },
     "execution_count": 183,
     "metadata": {},
     "output_type": "execute_result"
    }
   ],
   "source": [
    "y = df[df.columns[3:]]\n",
    "\n",
    "#enregistrement des noms de tags pour l'api\n",
    "joblib.dump(list(y.columns), 'pkl_objects/list_tags.pkl')"
   ]
  },
  {
   "cell_type": "code",
   "execution_count": 21,
   "id": "bcea3af7",
   "metadata": {
    "ExecuteTime": {
     "end_time": "2021-09-01T13:52:53.121104Z",
     "start_time": "2021-09-01T13:52:51.585812Z"
    }
   },
   "outputs": [],
   "source": [
    "# Split Data \n",
    "X_train,X_test,y_train,y_test = train_test_split(Xfeatures,y,test_size=0.3,random_state=42)"
   ]
  },
  {
   "cell_type": "code",
   "execution_count": 22,
   "id": "a22e1bbd",
   "metadata": {
    "ExecuteTime": {
     "end_time": "2021-09-01T13:52:53.136497Z",
     "start_time": "2021-09-01T13:52:53.123102Z"
    }
   },
   "outputs": [
    {
     "name": "stdout",
     "output_type": "stream",
     "text": [
      "training set : (28511, 10000)\n",
      "testing set : (12219, 10000)\n"
     ]
    }
   ],
   "source": [
    "print('training set :', X_train.shape)\n",
    "print('testing set :', X_test.shape)"
   ]
  },
  {
   "cell_type": "markdown",
   "id": "69200cb8",
   "metadata": {},
   "source": [
    "**Fonction pour tester rapidement plusieurs types de modèles**"
   ]
  },
  {
   "cell_type": "code",
   "execution_count": 23,
   "id": "198c2421",
   "metadata": {
    "ExecuteTime": {
     "end_time": "2021-09-01T13:52:53.151943Z",
     "start_time": "2021-09-01T13:52:53.138498Z"
    }
   },
   "outputs": [],
   "source": [
    "def build_model(model,mlb_estimator,xtrain,ytrain,xtest,ytest):\n",
    "    # Create an Instance\n",
    "    clf = mlb_estimator(model)\n",
    "    clf.fit(xtrain,ytrain)\n",
    "    # Predict\n",
    "    clf_predictions = clf.predict(xtest)\n",
    "    # Check For Accuracy\n",
    "    acc = accuracy_score(ytest,clf_predictions)\n",
    "    ham = hamming_loss(ytest,clf_predictions)\n",
    "    result = {\"accuracy:\":acc, \"hamming_score\":ham}\n",
    "    return result"
   ]
  },
  {
   "cell_type": "markdown",
   "id": "6c44754b",
   "metadata": {
    "ExecuteTime": {
     "end_time": "2021-08-19T14:19:38.093228Z",
     "start_time": "2021-08-19T14:19:38.079878Z"
    }
   },
   "source": [
    "# From multilabel to multiclass problem"
   ]
  },
  {
   "cell_type": "markdown",
   "id": "c610f3c3",
   "metadata": {},
   "source": [
    "## Binary Relevance"
   ]
  },
  {
   "cell_type": "markdown",
   "id": "53b5d86a",
   "metadata": {},
   "source": [
    "Treats each label as a separate single classification problem. \n",
    "\n",
    "Label correlation may be lost"
   ]
  },
  {
   "cell_type": "code",
   "execution_count": 24,
   "id": "7a2f35f7",
   "metadata": {
    "ExecuteTime": {
     "end_time": "2021-09-01T13:56:42.575273Z",
     "start_time": "2021-09-01T13:52:53.153942Z"
    }
   },
   "outputs": [],
   "source": [
    "BN = build_model(MultinomialNB(), BinaryRelevance ,X_train, y_train, X_test, y_test)"
   ]
  },
  {
   "cell_type": "code",
   "execution_count": 25,
   "id": "fa738777",
   "metadata": {
    "ExecuteTime": {
     "end_time": "2021-09-01T13:56:42.590726Z",
     "start_time": "2021-09-01T13:56:42.577240Z"
    }
   },
   "outputs": [
    {
     "data": {
      "text/plain": [
       "{'accuracy:': 0.11154758981913414, 'hamming_score': 0.014762255503723709}"
      ]
     },
     "execution_count": 25,
     "metadata": {},
     "output_type": "execute_result"
    }
   ],
   "source": [
    "BN"
   ]
  },
  {
   "cell_type": "markdown",
   "id": "23683e49",
   "metadata": {},
   "source": [
    "## Classifier Chains"
   ]
  },
  {
   "cell_type": "markdown",
   "id": "a55404a0",
   "metadata": {},
   "source": [
    "Forms classifiers chains to preserve label correlation"
   ]
  },
  {
   "cell_type": "code",
   "execution_count": 26,
   "id": "1561faf0",
   "metadata": {
    "ExecuteTime": {
     "end_time": "2021-09-01T14:01:34.537352Z",
     "start_time": "2021-09-01T13:56:42.592712Z"
    }
   },
   "outputs": [],
   "source": [
    "chain_model = build_model(MultinomialNB(),ClassifierChain,X_train,y_train,X_test,y_test)"
   ]
  },
  {
   "cell_type": "code",
   "execution_count": 27,
   "id": "d1bb9e77",
   "metadata": {
    "ExecuteTime": {
     "end_time": "2021-09-01T14:01:34.552952Z",
     "start_time": "2021-09-01T14:01:34.540347Z"
    }
   },
   "outputs": [
    {
     "data": {
      "text/plain": [
       "{'accuracy:': 0.13986414600212782, 'hamming_score': 0.01368606268925444}"
      ]
     },
     "execution_count": 27,
     "metadata": {},
     "output_type": "execute_result"
    }
   ],
   "source": [
    "chain_model"
   ]
  },
  {
   "cell_type": "markdown",
   "id": "dc2b3b6b",
   "metadata": {},
   "source": [
    "## Powerset"
   ]
  },
  {
   "cell_type": "markdown",
   "id": "f24c1521",
   "metadata": {},
   "source": [
    "Gives a unique class to every possible label combination in the dataset. As data increases the number of classes/labels increases"
   ]
  },
  {
   "cell_type": "markdown",
   "id": "67bc0c08",
   "metadata": {},
   "source": [
    "**MultinomialNB**"
   ]
  },
  {
   "cell_type": "code",
   "execution_count": 28,
   "id": "97af03aa",
   "metadata": {
    "ExecuteTime": {
     "end_time": "2021-09-01T14:01:57.218658Z",
     "start_time": "2021-09-01T14:01:34.554966Z"
    }
   },
   "outputs": [],
   "source": [
    "labelP_model = build_model(MultinomialNB(), LabelPowerset, X_train, y_train, X_test, y_test)"
   ]
  },
  {
   "cell_type": "code",
   "execution_count": 29,
   "id": "42612824",
   "metadata": {
    "ExecuteTime": {
     "end_time": "2021-09-01T14:01:57.234622Z",
     "start_time": "2021-09-01T14:01:57.220662Z"
    }
   },
   "outputs": [
    {
     "data": {
      "text/plain": [
       "{'accuracy:': 0.232834110811032, 'hamming_score': 0.01704476634749161}"
      ]
     },
     "execution_count": 29,
     "metadata": {},
     "output_type": "execute_result"
    }
   ],
   "source": [
    "labelP_model"
   ]
  },
  {
   "cell_type": "markdown",
   "id": "e02bbe8a",
   "metadata": {},
   "source": [
    "## OneVsRestClassifier"
   ]
  },
  {
   "cell_type": "code",
   "execution_count": 40,
   "id": "22228eff",
   "metadata": {
    "ExecuteTime": {
     "end_time": "2021-09-01T14:18:13.639215Z",
     "start_time": "2021-09-01T14:18:13.633228Z"
    }
   },
   "outputs": [],
   "source": [
    "sgd = SGDClassifier()\n",
    "lr = LogisticRegression(solver='lbfgs')\n",
    "svc = LinearSVC(C=1.5, penalty = 'l1', dual=False)"
   ]
  },
  {
   "cell_type": "code",
   "execution_count": 41,
   "id": "14e26243",
   "metadata": {
    "ExecuteTime": {
     "end_time": "2021-09-01T14:22:39.189766Z",
     "start_time": "2021-09-01T14:18:30.255660Z"
    }
   },
   "outputs": [],
   "source": [
    "ovrSVC_model = build_model(svc, OneVsRestClassifier, X_train, y_train, X_test, y_test)"
   ]
  },
  {
   "cell_type": "code",
   "execution_count": 44,
   "id": "83837e3d",
   "metadata": {
    "ExecuteTime": {
     "end_time": "2021-09-01T14:51:18.404371Z",
     "start_time": "2021-09-01T14:51:18.384911Z"
    }
   },
   "outputs": [
    {
     "data": {
      "text/plain": [
       "{'accuracy:': 0.3605859726655209, 'hamming_score': 0.009715197643014976}"
      ]
     },
     "execution_count": 44,
     "metadata": {},
     "output_type": "execute_result"
    }
   ],
   "source": [
    "ovrSVC_model"
   ]
  },
  {
   "cell_type": "code",
   "execution_count": 174,
   "id": "eab50d00",
   "metadata": {
    "ExecuteTime": {
     "end_time": "2021-09-01T20:36:42.439784Z",
     "start_time": "2021-09-01T20:33:02.181960Z"
    }
   },
   "outputs": [
    {
     "data": {
      "text/plain": [
       "OneVsRestClassifier(estimator=LinearSVC(C=1.5, dual=False, penalty='l1'))"
      ]
     },
     "execution_count": 174,
     "metadata": {},
     "output_type": "execute_result"
    }
   ],
   "source": [
    "clfsvc = OneVsRestClassifier(svc)\n",
    "clfsvc.fit(X_train, y_train)"
   ]
  },
  {
   "cell_type": "code",
   "execution_count": 184,
   "id": "bf46c33d",
   "metadata": {
    "ExecuteTime": {
     "end_time": "2021-09-01T20:41:23.357650Z",
     "start_time": "2021-09-01T20:41:23.285390Z"
    }
   },
   "outputs": [
    {
     "data": {
      "text/plain": [
       "['pkl_objects/model_multilabelsvc.pkl']"
      ]
     },
     "execution_count": 184,
     "metadata": {},
     "output_type": "execute_result"
    }
   ],
   "source": [
    "# save the model\n",
    "joblib.dump(clfsvc, 'pkl_objects/model_multilabelsvc.pkl')"
   ]
  },
  {
   "cell_type": "code",
   "execution_count": 178,
   "id": "b4442bb0",
   "metadata": {
    "ExecuteTime": {
     "end_time": "2021-09-01T20:37:02.418026Z",
     "start_time": "2021-09-01T20:37:02.396114Z"
    }
   },
   "outputs": [
    {
     "data": {
      "text/plain": [
       "['numpy', 'python', 'css', 'java']"
      ]
     },
     "execution_count": 178,
     "metadata": {},
     "output_type": "execute_result"
    }
   ],
   "source": [
    "#test\n",
    "predictiontags(clfsvc, 'message for python css java java pandas numpy')"
   ]
  },
  {
   "cell_type": "code",
   "execution_count": 42,
   "id": "567c4129",
   "metadata": {
    "ExecuteTime": {
     "end_time": "2021-09-01T14:29:57.793648Z",
     "start_time": "2021-09-01T14:22:39.192719Z"
    }
   },
   "outputs": [],
   "source": [
    "ovrSGD_model = build_model(sgd,OneVsRestClassifier,X_train,y_train,X_test,y_test)"
   ]
  },
  {
   "cell_type": "code",
   "execution_count": 45,
   "id": "a9f8f676",
   "metadata": {
    "ExecuteTime": {
     "end_time": "2021-09-01T14:51:20.020095Z",
     "start_time": "2021-09-01T14:51:20.008840Z"
    }
   },
   "outputs": [
    {
     "data": {
      "text/plain": [
       "{'accuracy:': 0.29593256403961044, 'hamming_score': 0.010550781569686554}"
      ]
     },
     "execution_count": 45,
     "metadata": {},
     "output_type": "execute_result"
    }
   ],
   "source": [
    "ovrSGD_model"
   ]
  },
  {
   "cell_type": "code",
   "execution_count": 43,
   "id": "1c95a559",
   "metadata": {
    "ExecuteTime": {
     "end_time": "2021-09-01T14:46:24.843710Z",
     "start_time": "2021-09-01T14:29:57.794608Z"
    }
   },
   "outputs": [],
   "source": [
    "ovrLR_model = build_model(lr,OneVsRestClassifier,X_train,y_train,X_test,y_test)"
   ]
  },
  {
   "cell_type": "code",
   "execution_count": 46,
   "id": "c5adb37a",
   "metadata": {
    "ExecuteTime": {
     "end_time": "2021-09-01T14:51:22.353569Z",
     "start_time": "2021-09-01T14:51:22.342476Z"
    }
   },
   "outputs": [
    {
     "data": {
      "text/plain": [
       "{'accuracy:': 0.25435796710041736, 'hamming_score': 0.011320893690154677}"
      ]
     },
     "execution_count": 46,
     "metadata": {},
     "output_type": "execute_result"
    }
   ],
   "source": [
    "ovrLR_model"
   ]
  },
  {
   "cell_type": "markdown",
   "id": "27112f97",
   "metadata": {},
   "source": [
    "# Multilabel models"
   ]
  },
  {
   "cell_type": "markdown",
   "id": "8ab88e42",
   "metadata": {},
   "source": [
    "## MLPClassifier"
   ]
  },
  {
   "cell_type": "code",
   "execution_count": null,
   "id": "1ac40354",
   "metadata": {
    "ExecuteTime": {
     "end_time": "2021-09-01T14:01:57.563505Z",
     "start_time": "2021-09-01T14:01:57.563505Z"
    }
   },
   "outputs": [],
   "source": [
    "from sklearn.neural_network import MLPClassifier\n",
    "\n",
    "clf = MLPClassifier(random_state=1, max_iter=300, hidden_layer_sizes=(300,) ).fit(X_train, y_train)\n",
    "\n",
    "clf.score(X_test, y_test)"
   ]
  },
  {
   "cell_type": "code",
   "execution_count": null,
   "id": "2105f7ca",
   "metadata": {
    "ExecuteTime": {
     "end_time": "2021-09-01T14:01:57.567495Z",
     "start_time": "2021-09-01T14:01:57.567495Z"
    }
   },
   "outputs": [],
   "source": [
    "# save the model\n",
    "joblib.dump(clf, 'pkl_objects/model_multilabelMLP.pkl')"
   ]
  },
  {
   "cell_type": "code",
   "execution_count": 55,
   "id": "ec1eff7b",
   "metadata": {
    "ExecuteTime": {
     "end_time": "2021-09-01T15:22:00.597585Z",
     "start_time": "2021-09-01T15:21:59.667399Z"
    }
   },
   "outputs": [
    {
     "name": "stdout",
     "output_type": "stream",
     "text": [
      "0.3256403961044275\n"
     ]
    }
   ],
   "source": [
    "# load the model\n",
    "loaded_model = joblib.load('model_multilabelMLP.pkl')\n",
    "result = loaded_model.score(X_test, y_test)\n",
    "print(result)"
   ]
  },
  {
   "cell_type": "code",
   "execution_count": 121,
   "id": "9cfdeb0e",
   "metadata": {
    "ExecuteTime": {
     "end_time": "2021-09-01T20:11:58.090406Z",
     "start_time": "2021-09-01T20:11:57.827093Z"
    }
   },
   "outputs": [
    {
     "name": "stderr",
     "output_type": "stream",
     "text": [
      "C:\\Users\\EliseAndro\\anaconda3\\lib\\site-packages\\gensim\\similarities\\__init__.py:15: UserWarning: The gensim.similarities.levenshtein submodule is disabled, because the optional Levenshtein package <https://pypi.org/project/python-Levenshtein/> is unavailable. Install Levenhstein (e.g. `pip install python-Levenshtein`) to suppress this warning.\n",
      "  warnings.warn(msg)\n"
     ]
    }
   ],
   "source": [
    "import gensim\n",
    "from gensim.utils import simple_preprocess"
   ]
  },
  {
   "cell_type": "code",
   "execution_count": 171,
   "id": "1273e9a9",
   "metadata": {
    "ExecuteTime": {
     "end_time": "2021-09-01T20:29:34.900627Z",
     "start_time": "2021-09-01T20:29:34.878686Z"
    }
   },
   "outputs": [],
   "source": [
    "def predictiontags(model, message):\n",
    "    mess = [simple_preprocess(message)]\n",
    "    tfidf_new = tfidf.transform(mess)\n",
    "    prediction = model.predict(tfidf_new)\n",
    "    dfpredict = pd.DataFrame(list(zip(y.columns, prediction[0])), \n",
    "                             columns =['Tag', 'Prediction'])\n",
    "    \n",
    "    return list(dfpredict.loc[dfpredict['Prediction']==1]['Tag'])"
   ]
  },
  {
   "cell_type": "code",
   "execution_count": 172,
   "id": "6517338c",
   "metadata": {
    "ExecuteTime": {
     "end_time": "2021-09-01T20:29:36.432905Z",
     "start_time": "2021-09-01T20:29:36.417944Z"
    }
   },
   "outputs": [
    {
     "data": {
      "text/plain": [
       "['numpy', 'python']"
      ]
     },
     "execution_count": 172,
     "metadata": {},
     "output_type": "execute_result"
    }
   ],
   "source": [
    "#test\n",
    "predictiontags(loaded_model, 'message for python test pandas numpy')"
   ]
  },
  {
   "cell_type": "markdown",
   "id": "e245390b",
   "metadata": {
    "ExecuteTime": {
     "end_time": "2021-09-01T20:09:07.851118Z",
     "start_time": "2021-09-01T20:09:07.842632Z"
    }
   },
   "source": [
    "## Random Forest"
   ]
  },
  {
   "cell_type": "code",
   "execution_count": 50,
   "id": "f5679084",
   "metadata": {
    "ExecuteTime": {
     "end_time": "2021-09-01T15:19:35.742029Z",
     "start_time": "2021-09-01T15:18:56.585141Z"
    }
   },
   "outputs": [
    {
     "data": {
      "text/plain": [
       "RandomForestClassifier(max_depth=3, random_state=0)"
      ]
     },
     "execution_count": 50,
     "metadata": {},
     "output_type": "execute_result"
    }
   ],
   "source": [
    "from sklearn.ensemble import RandomForestClassifier\n",
    "\n",
    "clfrf = RandomForestClassifier(max_depth=3, random_state=0)\n",
    "clfrf.fit(X_train, y_train)"
   ]
  },
  {
   "cell_type": "code",
   "execution_count": 51,
   "id": "fe849a8e",
   "metadata": {
    "ExecuteTime": {
     "end_time": "2021-09-01T15:19:46.421427Z",
     "start_time": "2021-09-01T15:19:35.744984Z"
    }
   },
   "outputs": [
    {
     "data": {
      "text/plain": [
       "0.0"
      ]
     },
     "execution_count": 51,
     "metadata": {},
     "output_type": "execute_result"
    }
   ],
   "source": [
    "clfrf.score(X_test, y_test)"
   ]
  },
  {
   "cell_type": "code",
   "execution_count": null,
   "id": "38d8deb9",
   "metadata": {
    "ExecuteTime": {
     "end_time": "2021-09-01T14:53:18.682416Z",
     "start_time": "2021-09-01T14:53:18.528648Z"
    }
   },
   "outputs": [],
   "source": []
  },
  {
   "cell_type": "code",
   "execution_count": null,
   "id": "2222808a",
   "metadata": {},
   "outputs": [],
   "source": []
  },
  {
   "cell_type": "code",
   "execution_count": null,
   "id": "dd476b8c",
   "metadata": {},
   "outputs": [],
   "source": []
  }
 ],
 "metadata": {
  "kernelspec": {
   "display_name": "Python 3 (ipykernel)",
   "language": "python",
   "name": "python3"
  },
  "language_info": {
   "codemirror_mode": {
    "name": "ipython",
    "version": 3
   },
   "file_extension": ".py",
   "mimetype": "text/x-python",
   "name": "python",
   "nbconvert_exporter": "python",
   "pygments_lexer": "ipython3",
   "version": "3.8.8"
  },
  "toc": {
   "base_numbering": 1,
   "nav_menu": {},
   "number_sections": true,
   "sideBar": true,
   "skip_h1_title": false,
   "title_cell": "Table of Contents",
   "title_sidebar": "Contents",
   "toc_cell": false,
   "toc_position": {
    "height": "calc(100% - 180px)",
    "left": "10px",
    "top": "150px",
    "width": "211px"
   },
   "toc_section_display": true,
   "toc_window_display": true
  }
 },
 "nbformat": 4,
 "nbformat_minor": 5
}
