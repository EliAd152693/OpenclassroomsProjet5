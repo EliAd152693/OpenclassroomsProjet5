{
 "cells": [
  {
   "cell_type": "markdown",
   "id": "ad7fd71e",
   "metadata": {},
   "source": [
    "<font size=\"6\">PROJET 5 : Catégorisez automatiquement des questions </font>"
   ]
  },
  {
   "cell_type": "markdown",
   "id": "769f917f",
   "metadata": {},
   "source": [
    "<font size=\"6\"> Notebook 4 : Modèles multi label supervisés </font>"
   ]
  },
  {
   "cell_type": "markdown",
   "id": "d49a56be",
   "metadata": {},
   "source": [
    "**Librairies**"
   ]
  },
  {
   "cell_type": "code",
   "execution_count": 43,
   "id": "c4000519",
   "metadata": {
    "ExecuteTime": {
     "end_time": "2021-08-20T08:35:20.163221Z",
     "start_time": "2021-08-20T08:35:20.107413Z"
    }
   },
   "outputs": [],
   "source": [
    "# Analyse données\n",
    "import pandas as pd\n",
    "import numpy as np"
   ]
  },
  {
   "cell_type": "code",
   "execution_count": 44,
   "id": "a6bc972b",
   "metadata": {
    "ExecuteTime": {
     "end_time": "2021-08-20T08:35:20.207825Z",
     "start_time": "2021-08-20T08:35:20.176895Z"
    }
   },
   "outputs": [],
   "source": [
    "# Data Viz\n",
    "import matplotlib.pyplot as plt\n",
    "import seaborn as sns"
   ]
  },
  {
   "cell_type": "code",
   "execution_count": 45,
   "id": "6b825455",
   "metadata": {
    "ExecuteTime": {
     "end_time": "2021-08-20T08:35:20.244871Z",
     "start_time": "2021-08-20T08:35:20.214383Z"
    }
   },
   "outputs": [],
   "source": [
    "# Preprocessing\n",
    "import neattext as nt\n",
    "import neattext.functions as nfx"
   ]
  },
  {
   "cell_type": "code",
   "execution_count": 46,
   "id": "faae8d58",
   "metadata": {
    "ExecuteTime": {
     "end_time": "2021-08-20T08:35:20.285229Z",
     "start_time": "2021-08-20T08:35:20.251038Z"
    }
   },
   "outputs": [],
   "source": [
    "# Modèles\n",
    "from sklearn.linear_model import LogisticRegression\n",
    "from sklearn.neighbors import KNeighborsClassifier\n",
    "from sklearn.tree import DecisionTreeClassifier\n",
    "from sklearn.naive_bayes import GaussianNB,MultinomialNB\n",
    "from sklearn.metrics import accuracy_score,hamming_loss,classification_report"
   ]
  },
  {
   "cell_type": "code",
   "execution_count": 47,
   "id": "c1e6597d",
   "metadata": {
    "ExecuteTime": {
     "end_time": "2021-08-20T08:35:20.334136Z",
     "start_time": "2021-08-20T08:35:20.293483Z"
    }
   },
   "outputs": [],
   "source": [
    "### Split Dataset into Train and Text\n",
    "from sklearn.model_selection import train_test_split\n",
    "# Feature engineering\n",
    "from sklearn.feature_extraction.text import TfidfVectorizer"
   ]
  },
  {
   "cell_type": "code",
   "execution_count": 48,
   "id": "d8686d12",
   "metadata": {
    "ExecuteTime": {
     "end_time": "2021-08-20T08:35:20.352688Z",
     "start_time": "2021-08-20T08:35:20.337472Z"
    }
   },
   "outputs": [],
   "source": [
    "# Multi Label packages\n",
    "from skmultilearn.problem_transform import BinaryRelevance\n",
    "from skmultilearn.problem_transform import ClassifierChain\n",
    "from skmultilearn.problem_transform import LabelPowerset\n",
    "from skmultilearn.adapt import MLkNN"
   ]
  },
  {
   "cell_type": "markdown",
   "id": "45122119",
   "metadata": {},
   "source": [
    "**Chargement des données du notebook 1**"
   ]
  },
  {
   "cell_type": "code",
   "execution_count": 49,
   "id": "5e60b527",
   "metadata": {
    "ExecuteTime": {
     "end_time": "2021-08-20T08:35:21.981558Z",
     "start_time": "2021-08-20T08:35:20.357138Z"
    }
   },
   "outputs": [],
   "source": [
    "df = pd.read_pickle(\"./Data/preprocess_data.pkl\")"
   ]
  },
  {
   "cell_type": "code",
   "execution_count": 50,
   "id": "4846a740",
   "metadata": {
    "ExecuteTime": {
     "end_time": "2021-08-20T08:35:22.118571Z",
     "start_time": "2021-08-20T08:35:21.984792Z"
    },
    "scrolled": true
   },
   "outputs": [
    {
     "data": {
      "text/html": [
       "<div>\n",
       "<style scoped>\n",
       "    .dataframe tbody tr th:only-of-type {\n",
       "        vertical-align: middle;\n",
       "    }\n",
       "\n",
       "    .dataframe tbody tr th {\n",
       "        vertical-align: top;\n",
       "    }\n",
       "\n",
       "    .dataframe thead th {\n",
       "        text-align: right;\n",
       "    }\n",
       "</style>\n",
       "<table border=\"1\" class=\"dataframe\">\n",
       "  <thead>\n",
       "    <tr style=\"text-align: right;\">\n",
       "      <th></th>\n",
       "      <th>content</th>\n",
       "      <th>preprocess_content</th>\n",
       "      <th>word_count</th>\n",
       "      <th>version-control</th>\n",
       "      <th>forms</th>\n",
       "      <th>sql</th>\n",
       "      <th>syntax</th>\n",
       "      <th>asp.net-mvc</th>\n",
       "      <th>numpy</th>\n",
       "      <th>http</th>\n",
       "      <th>...</th>\n",
       "      <th>objective-c</th>\n",
       "      <th>exception</th>\n",
       "      <th>sorting</th>\n",
       "      <th>matplotlib</th>\n",
       "      <th>c</th>\n",
       "      <th>android</th>\n",
       "      <th>ios</th>\n",
       "      <th>linq</th>\n",
       "      <th>swift</th>\n",
       "      <th>java-8</th>\n",
       "    </tr>\n",
       "  </thead>\n",
       "  <tbody>\n",
       "    <tr>\n",
       "      <th>0</th>\n",
       "      <td>is there any way to tinker with the iphone sdk...</td>\n",
       "      <td>[way, machine, plan, version, way, think, run,...</td>\n",
       "      <td>70</td>\n",
       "      <td>0</td>\n",
       "      <td>0</td>\n",
       "      <td>0</td>\n",
       "      <td>0</td>\n",
       "      <td>0</td>\n",
       "      <td>0</td>\n",
       "      <td>0</td>\n",
       "      <td>...</td>\n",
       "      <td>0</td>\n",
       "      <td>0</td>\n",
       "      <td>0</td>\n",
       "      <td>0</td>\n",
       "      <td>0</td>\n",
       "      <td>0</td>\n",
       "      <td>1</td>\n",
       "      <td>0</td>\n",
       "      <td>0</td>\n",
       "      <td>0</td>\n",
       "    </tr>\n",
       "    <tr>\n",
       "      <th>1</th>\n",
       "      <td>i have this gigantic ugly string j transaction...</td>\n",
       "      <td>[gigantic, ugly, string, transaction, start, p...</td>\n",
       "      <td>120</td>\n",
       "      <td>0</td>\n",
       "      <td>0</td>\n",
       "      <td>0</td>\n",
       "      <td>0</td>\n",
       "      <td>0</td>\n",
       "      <td>0</td>\n",
       "      <td>0</td>\n",
       "      <td>...</td>\n",
       "      <td>0</td>\n",
       "      <td>0</td>\n",
       "      <td>0</td>\n",
       "      <td>0</td>\n",
       "      <td>0</td>\n",
       "      <td>0</td>\n",
       "      <td>0</td>\n",
       "      <td>0</td>\n",
       "      <td>0</td>\n",
       "      <td>0</td>\n",
       "    </tr>\n",
       "    <tr>\n",
       "      <th>2</th>\n",
       "      <td>i am working with autolayout and constraints a...</td>\n",
       "      <td>[work, autolayout, constraint, find, constrain...</td>\n",
       "      <td>199</td>\n",
       "      <td>0</td>\n",
       "      <td>0</td>\n",
       "      <td>0</td>\n",
       "      <td>0</td>\n",
       "      <td>0</td>\n",
       "      <td>0</td>\n",
       "      <td>0</td>\n",
       "      <td>...</td>\n",
       "      <td>0</td>\n",
       "      <td>0</td>\n",
       "      <td>0</td>\n",
       "      <td>0</td>\n",
       "      <td>0</td>\n",
       "      <td>0</td>\n",
       "      <td>1</td>\n",
       "      <td>0</td>\n",
       "      <td>0</td>\n",
       "      <td>0</td>\n",
       "    </tr>\n",
       "    <tr>\n",
       "      <th>3</th>\n",
       "      <td>i m learning objective c and keep bumping into...</td>\n",
       "      <td>[learn, objective, keep, bump, symbol, use, di...</td>\n",
       "      <td>48</td>\n",
       "      <td>0</td>\n",
       "      <td>0</td>\n",
       "      <td>0</td>\n",
       "      <td>0</td>\n",
       "      <td>0</td>\n",
       "      <td>0</td>\n",
       "      <td>0</td>\n",
       "      <td>...</td>\n",
       "      <td>1</td>\n",
       "      <td>0</td>\n",
       "      <td>0</td>\n",
       "      <td>0</td>\n",
       "      <td>0</td>\n",
       "      <td>0</td>\n",
       "      <td>0</td>\n",
       "      <td>0</td>\n",
       "      <td>0</td>\n",
       "      <td>0</td>\n",
       "    </tr>\n",
       "    <tr>\n",
       "      <th>4</th>\n",
       "      <td>is there a simple way in a pretty standard uni...</td>\n",
       "      <td>[simple, way, pretty, standard, unix, environm...</td>\n",
       "      <td>113</td>\n",
       "      <td>0</td>\n",
       "      <td>0</td>\n",
       "      <td>0</td>\n",
       "      <td>0</td>\n",
       "      <td>0</td>\n",
       "      <td>0</td>\n",
       "      <td>0</td>\n",
       "      <td>...</td>\n",
       "      <td>0</td>\n",
       "      <td>0</td>\n",
       "      <td>0</td>\n",
       "      <td>0</td>\n",
       "      <td>0</td>\n",
       "      <td>0</td>\n",
       "      <td>0</td>\n",
       "      <td>0</td>\n",
       "      <td>0</td>\n",
       "      <td>0</td>\n",
       "    </tr>\n",
       "    <tr>\n",
       "      <th>...</th>\n",
       "      <td>...</td>\n",
       "      <td>...</td>\n",
       "      <td>...</td>\n",
       "      <td>...</td>\n",
       "      <td>...</td>\n",
       "      <td>...</td>\n",
       "      <td>...</td>\n",
       "      <td>...</td>\n",
       "      <td>...</td>\n",
       "      <td>...</td>\n",
       "      <td>...</td>\n",
       "      <td>...</td>\n",
       "      <td>...</td>\n",
       "      <td>...</td>\n",
       "      <td>...</td>\n",
       "      <td>...</td>\n",
       "      <td>...</td>\n",
       "      <td>...</td>\n",
       "      <td>...</td>\n",
       "      <td>...</td>\n",
       "      <td>...</td>\n",
       "    </tr>\n",
       "    <tr>\n",
       "      <th>44990</th>\n",
       "      <td>recently i upgraded the version of django fram...</td>\n",
       "      <td>[recently_upgrade, version, django, framework,...</td>\n",
       "      <td>331</td>\n",
       "      <td>0</td>\n",
       "      <td>0</td>\n",
       "      <td>0</td>\n",
       "      <td>0</td>\n",
       "      <td>0</td>\n",
       "      <td>0</td>\n",
       "      <td>0</td>\n",
       "      <td>...</td>\n",
       "      <td>0</td>\n",
       "      <td>0</td>\n",
       "      <td>0</td>\n",
       "      <td>0</td>\n",
       "      <td>0</td>\n",
       "      <td>0</td>\n",
       "      <td>0</td>\n",
       "      <td>0</td>\n",
       "      <td>0</td>\n",
       "      <td>0</td>\n",
       "    </tr>\n",
       "    <tr>\n",
       "      <th>44991</th>\n",
       "      <td>how can i reject a promise that returned by an...</td>\n",
       "      <td>[reject, promise, return, async_await, functio...</td>\n",
       "      <td>88</td>\n",
       "      <td>0</td>\n",
       "      <td>0</td>\n",
       "      <td>0</td>\n",
       "      <td>0</td>\n",
       "      <td>0</td>\n",
       "      <td>0</td>\n",
       "      <td>0</td>\n",
       "      <td>...</td>\n",
       "      <td>0</td>\n",
       "      <td>0</td>\n",
       "      <td>0</td>\n",
       "      <td>0</td>\n",
       "      <td>0</td>\n",
       "      <td>0</td>\n",
       "      <td>0</td>\n",
       "      <td>0</td>\n",
       "      <td>0</td>\n",
       "      <td>0</td>\n",
       "    </tr>\n",
       "    <tr>\n",
       "      <th>44992</th>\n",
       "      <td>i have entities that are related as one to man...</td>\n",
       "      <td>[entity, relate, manypublic, class, restaurant...</td>\n",
       "      <td>296</td>\n",
       "      <td>0</td>\n",
       "      <td>0</td>\n",
       "      <td>0</td>\n",
       "      <td>0</td>\n",
       "      <td>0</td>\n",
       "      <td>0</td>\n",
       "      <td>0</td>\n",
       "      <td>...</td>\n",
       "      <td>0</td>\n",
       "      <td>0</td>\n",
       "      <td>0</td>\n",
       "      <td>0</td>\n",
       "      <td>0</td>\n",
       "      <td>0</td>\n",
       "      <td>0</td>\n",
       "      <td>0</td>\n",
       "      <td>0</td>\n",
       "      <td>0</td>\n",
       "    </tr>\n",
       "    <tr>\n",
       "      <th>44993</th>\n",
       "      <td>problemi want to return a file in my asp net w...</td>\n",
       "      <td>[want, return, file, web, api, controller, app...</td>\n",
       "      <td>90</td>\n",
       "      <td>0</td>\n",
       "      <td>0</td>\n",
       "      <td>0</td>\n",
       "      <td>0</td>\n",
       "      <td>0</td>\n",
       "      <td>0</td>\n",
       "      <td>0</td>\n",
       "      <td>...</td>\n",
       "      <td>0</td>\n",
       "      <td>0</td>\n",
       "      <td>0</td>\n",
       "      <td>0</td>\n",
       "      <td>0</td>\n",
       "      <td>0</td>\n",
       "      <td>0</td>\n",
       "      <td>0</td>\n",
       "      <td>0</td>\n",
       "      <td>0</td>\n",
       "    </tr>\n",
       "    <tr>\n",
       "      <th>44994</th>\n",
       "      <td>using suggested method this is the result a li...</td>\n",
       "      <td>[use, suggest, method, result, link, button, c...</td>\n",
       "      <td>71</td>\n",
       "      <td>0</td>\n",
       "      <td>0</td>\n",
       "      <td>0</td>\n",
       "      <td>0</td>\n",
       "      <td>0</td>\n",
       "      <td>0</td>\n",
       "      <td>0</td>\n",
       "      <td>...</td>\n",
       "      <td>0</td>\n",
       "      <td>0</td>\n",
       "      <td>0</td>\n",
       "      <td>0</td>\n",
       "      <td>0</td>\n",
       "      <td>0</td>\n",
       "      <td>0</td>\n",
       "      <td>0</td>\n",
       "      <td>0</td>\n",
       "      <td>0</td>\n",
       "    </tr>\n",
       "  </tbody>\n",
       "</table>\n",
       "<p>40730 rows × 103 columns</p>\n",
       "</div>"
      ],
      "text/plain": [
       "                                                 content  \\\n",
       "0      is there any way to tinker with the iphone sdk...   \n",
       "1      i have this gigantic ugly string j transaction...   \n",
       "2      i am working with autolayout and constraints a...   \n",
       "3      i m learning objective c and keep bumping into...   \n",
       "4      is there a simple way in a pretty standard uni...   \n",
       "...                                                  ...   \n",
       "44990  recently i upgraded the version of django fram...   \n",
       "44991  how can i reject a promise that returned by an...   \n",
       "44992  i have entities that are related as one to man...   \n",
       "44993  problemi want to return a file in my asp net w...   \n",
       "44994  using suggested method this is the result a li...   \n",
       "\n",
       "                                      preprocess_content  word_count  \\\n",
       "0      [way, machine, plan, version, way, think, run,...          70   \n",
       "1      [gigantic, ugly, string, transaction, start, p...         120   \n",
       "2      [work, autolayout, constraint, find, constrain...         199   \n",
       "3      [learn, objective, keep, bump, symbol, use, di...          48   \n",
       "4      [simple, way, pretty, standard, unix, environm...         113   \n",
       "...                                                  ...         ...   \n",
       "44990  [recently_upgrade, version, django, framework,...         331   \n",
       "44991  [reject, promise, return, async_await, functio...          88   \n",
       "44992  [entity, relate, manypublic, class, restaurant...         296   \n",
       "44993  [want, return, file, web, api, controller, app...          90   \n",
       "44994  [use, suggest, method, result, link, button, c...          71   \n",
       "\n",
       "       version-control  forms  sql  syntax  asp.net-mvc  numpy  http  ...  \\\n",
       "0                    0      0    0       0            0      0     0  ...   \n",
       "1                    0      0    0       0            0      0     0  ...   \n",
       "2                    0      0    0       0            0      0     0  ...   \n",
       "3                    0      0    0       0            0      0     0  ...   \n",
       "4                    0      0    0       0            0      0     0  ...   \n",
       "...                ...    ...  ...     ...          ...    ...   ...  ...   \n",
       "44990                0      0    0       0            0      0     0  ...   \n",
       "44991                0      0    0       0            0      0     0  ...   \n",
       "44992                0      0    0       0            0      0     0  ...   \n",
       "44993                0      0    0       0            0      0     0  ...   \n",
       "44994                0      0    0       0            0      0     0  ...   \n",
       "\n",
       "       objective-c  exception  sorting  matplotlib  c  android  ios  linq  \\\n",
       "0                0          0        0           0  0        0    1     0   \n",
       "1                0          0        0           0  0        0    0     0   \n",
       "2                0          0        0           0  0        0    1     0   \n",
       "3                1          0        0           0  0        0    0     0   \n",
       "4                0          0        0           0  0        0    0     0   \n",
       "...            ...        ...      ...         ... ..      ...  ...   ...   \n",
       "44990            0          0        0           0  0        0    0     0   \n",
       "44991            0          0        0           0  0        0    0     0   \n",
       "44992            0          0        0           0  0        0    0     0   \n",
       "44993            0          0        0           0  0        0    0     0   \n",
       "44994            0          0        0           0  0        0    0     0   \n",
       "\n",
       "       swift  java-8  \n",
       "0          0       0  \n",
       "1          0       0  \n",
       "2          0       0  \n",
       "3          0       0  \n",
       "4          0       0  \n",
       "...      ...     ...  \n",
       "44990      0       0  \n",
       "44991      0       0  \n",
       "44992      0       0  \n",
       "44993      0       0  \n",
       "44994      0       0  \n",
       "\n",
       "[40730 rows x 103 columns]"
      ]
     },
     "execution_count": 50,
     "metadata": {},
     "output_type": "execute_result"
    }
   ],
   "source": [
    "df"
   ]
  },
  {
   "cell_type": "markdown",
   "id": "935efa72",
   "metadata": {},
   "source": [
    "**Rapide exploration des données**"
   ]
  },
  {
   "cell_type": "code",
   "execution_count": 51,
   "id": "8f348536",
   "metadata": {
    "ExecuteTime": {
     "end_time": "2021-08-20T08:35:22.136602Z",
     "start_time": "2021-08-20T08:35:22.120708Z"
    }
   },
   "outputs": [
    {
     "data": {
      "text/plain": [
       "content               object\n",
       "preprocess_content    object\n",
       "word_count             int64\n",
       "version-control        int64\n",
       "forms                  int64\n",
       "                       ...  \n",
       "android                int64\n",
       "ios                    int64\n",
       "linq                   int64\n",
       "swift                  int64\n",
       "java-8                 int64\n",
       "Length: 103, dtype: object"
      ]
     },
     "execution_count": 51,
     "metadata": {},
     "output_type": "execute_result"
    }
   ],
   "source": [
    "df.dtypes"
   ]
  },
  {
   "cell_type": "code",
   "execution_count": 52,
   "id": "5c863fae",
   "metadata": {
    "ExecuteTime": {
     "end_time": "2021-08-20T08:35:22.936481Z",
     "start_time": "2021-08-20T08:35:22.138597Z"
    }
   },
   "outputs": [],
   "source": [
    "for i in df.columns[3:]:\n",
    "    df[i] = df[i].astype(float)"
   ]
  },
  {
   "cell_type": "code",
   "execution_count": 53,
   "id": "9051b1ea",
   "metadata": {
    "ExecuteTime": {
     "end_time": "2021-08-20T08:35:22.956353Z",
     "start_time": "2021-08-20T08:35:22.939478Z"
    }
   },
   "outputs": [
    {
     "data": {
      "text/plain": [
       "content                object\n",
       "preprocess_content     object\n",
       "word_count              int64\n",
       "version-control       float64\n",
       "forms                 float64\n",
       "                       ...   \n",
       "android               float64\n",
       "ios                   float64\n",
       "linq                  float64\n",
       "swift                 float64\n",
       "java-8                float64\n",
       "Length: 103, dtype: object"
      ]
     },
     "execution_count": 53,
     "metadata": {},
     "output_type": "execute_result"
    }
   ],
   "source": [
    "df.dtypes"
   ]
  },
  {
   "cell_type": "code",
   "execution_count": 54,
   "id": "b92a5038",
   "metadata": {
    "ExecuteTime": {
     "end_time": "2021-08-20T08:35:23.333189Z",
     "start_time": "2021-08-20T08:35:22.960344Z"
    }
   },
   "outputs": [
    {
     "name": "stderr",
     "output_type": "stream",
     "text": [
      "C:\\Users\\EliseAndro\\anaconda3\\lib\\site-packages\\seaborn\\_decorators.py:36: FutureWarning: Pass the following variable as a keyword arg: x. From version 0.12, the only valid positional argument will be `data`, and passing other arguments without an explicit keyword will result in an error or misinterpretation.\n",
      "  warnings.warn(\n"
     ]
    },
    {
     "data": {
      "text/plain": [
       "<AxesSubplot:xlabel='javascript', ylabel='count'>"
      ]
     },
     "execution_count": 54,
     "metadata": {},
     "output_type": "execute_result"
    },
    {
     "data": {
      "image/png": "[encoded data removed]",
      "text/plain": [
       "<Figure size 432x288 with 1 Axes>"
      ]
     },
     "metadata": {
      "needs_background": "light"
     },
     "output_type": "display_data"
    }
   ],
   "source": [
    "# Value Count, tags le plus fréquent\n",
    "sns.countplot(df['javascript'])"
   ]
  },
  {
   "cell_type": "code",
   "execution_count": 55,
   "id": "65823c3b",
   "metadata": {
    "ExecuteTime": {
     "end_time": "2021-08-20T08:35:26.608557Z",
     "start_time": "2021-08-20T08:35:23.335156Z"
    }
   },
   "outputs": [
    {
     "name": "stderr",
     "output_type": "stream",
     "text": [
      "C:\\Users\\EliseAndro\\anaconda3\\lib\\site-packages\\seaborn\\_decorators.py:36: FutureWarning: Pass the following variable as a keyword arg: x. From version 0.12, the only valid positional argument will be `data`, and passing other arguments without an explicit keyword will result in an error or misinterpretation.\n",
      "  warnings.warn(\n"
     ]
    },
    {
     "data": {
      "text/plain": [
       "<AxesSubplot:xlabel='java-8', ylabel='count'>"
      ]
     },
     "execution_count": 55,
     "metadata": {},
     "output_type": "execute_result"
    },
    {
     "data": {
      "image/png": "[encoded data removed]",
      "text/plain": [
       "<Figure size 432x288 with 1 Axes>"
      ]
     },
     "metadata": {
      "needs_background": "light"
     },
     "output_type": "display_data"
    }
   ],
   "source": [
    "# Value Count, tags le moins fréquent\n",
    "sns.countplot(df['java-8'])"
   ]
  },
  {
   "cell_type": "markdown",
   "id": "fd05d335",
   "metadata": {},
   "source": [
    "# Text Preprocessing"
   ]
  },
  {
   "cell_type": "code",
   "execution_count": 56,
   "id": "9d3cf058",
   "metadata": {
    "ExecuteTime": {
     "end_time": "2021-08-20T08:35:28.193985Z",
     "start_time": "2021-08-20T08:35:26.611664Z"
    }
   },
   "outputs": [],
   "source": [
    "tfidf = TfidfVectorizer(analyzer='word',\n",
    "                        min_df=1,\n",
    "                        max_df=0.9,\n",
    "                        ngram_range=(1,3), \n",
    "                        max_features=10000, \n",
    "                        preprocessor=' '.join)"
   ]
  },
  {
   "cell_type": "code",
   "execution_count": 57,
   "id": "1e93a248",
   "metadata": {
    "ExecuteTime": {
     "end_time": "2021-08-20T08:35:46.572524Z",
     "start_time": "2021-08-20T08:35:28.196980Z"
    }
   },
   "outputs": [],
   "source": [
    "# Build Features\n",
    "Xfeatures = tfidf.fit_transform(df['preprocess_content']).toarray()"
   ]
  },
  {
   "cell_type": "code",
   "execution_count": 58,
   "id": "ac830c0b",
   "metadata": {
    "ExecuteTime": {
     "end_time": "2021-08-20T08:35:46.587924Z",
     "start_time": "2021-08-20T08:35:46.574565Z"
    }
   },
   "outputs": [
    {
     "name": "stdout",
     "output_type": "stream",
     "text": [
      "Xfeatures shape:  (40730, 10000)\n"
     ]
    },
    {
     "data": {
      "text/plain": [
       "array([[0., 0., 0., ..., 0., 0., 0.],\n",
       "       [0., 0., 0., ..., 0., 0., 0.],\n",
       "       [0., 0., 0., ..., 0., 0., 0.],\n",
       "       ...,\n",
       "       [0., 0., 0., ..., 0., 0., 0.],\n",
       "       [0., 0., 0., ..., 0., 0., 0.],\n",
       "       [0., 0., 0., ..., 0., 0., 0.]])"
      ]
     },
     "execution_count": 58,
     "metadata": {},
     "output_type": "execute_result"
    }
   ],
   "source": [
    "print('Xfeatures shape: ',Xfeatures.shape)\n",
    "Xfeatures"
   ]
  },
  {
   "cell_type": "code",
   "execution_count": 59,
   "id": "53ace55e",
   "metadata": {
    "ExecuteTime": {
     "end_time": "2021-08-20T08:35:46.658973Z",
     "start_time": "2021-08-20T08:35:46.590620Z"
    }
   },
   "outputs": [],
   "source": [
    "y = df[df.columns[3:]]"
   ]
  },
  {
   "cell_type": "code",
   "execution_count": 60,
   "id": "3c5de013",
   "metadata": {
    "ExecuteTime": {
     "end_time": "2021-08-20T08:36:00.278031Z",
     "start_time": "2021-08-20T08:35:46.661902Z"
    }
   },
   "outputs": [],
   "source": [
    "# Split Data \n",
    "X_train,X_test,y_train,y_test = train_test_split(Xfeatures,y,test_size=0.3,random_state=42)"
   ]
  },
  {
   "cell_type": "code",
   "execution_count": 61,
   "id": "aa7448b5",
   "metadata": {
    "ExecuteTime": {
     "end_time": "2021-08-20T08:36:00.389655Z",
     "start_time": "2021-08-20T08:36:00.332440Z"
    }
   },
   "outputs": [
    {
     "name": "stdout",
     "output_type": "stream",
     "text": [
      "training set : (28511, 10000)\n",
      "testing set : (12219, 10000)\n"
     ]
    }
   ],
   "source": [
    "print('training set :', X_train.shape)\n",
    "print('testing set :', X_test.shape)"
   ]
  },
  {
   "cell_type": "markdown",
   "id": "d8465416",
   "metadata": {},
   "source": [
    "**Fonction pour tester rapidement plusieurs types de modèles**"
   ]
  },
  {
   "cell_type": "code",
   "execution_count": 62,
   "id": "ebc82250",
   "metadata": {
    "ExecuteTime": {
     "end_time": "2021-08-20T08:36:00.438227Z",
     "start_time": "2021-08-20T08:36:00.393640Z"
    }
   },
   "outputs": [],
   "source": [
    "def build_model(model,mlb_estimator,xtrain,ytrain,xtest,ytest):\n",
    "    # Create an Instance\n",
    "    clf = mlb_estimator(model)\n",
    "    clf.fit(xtrain,ytrain)\n",
    "    # Predict\n",
    "    clf_predictions = clf.predict(xtest)\n",
    "    # Check For Accuracy\n",
    "    acc = accuracy_score(ytest,clf_predictions)\n",
    "    ham = hamming_loss(ytest,clf_predictions)\n",
    "    result = {\"accuracy:\":acc,\"hamming_score\":ham}\n",
    "    return result"
   ]
  },
  {
   "cell_type": "markdown",
   "id": "dbd739c9",
   "metadata": {
    "ExecuteTime": {
     "end_time": "2021-08-19T14:19:38.093228Z",
     "start_time": "2021-08-19T14:19:38.079878Z"
    }
   },
   "source": [
    "# From multilabel to multiclass problem"
   ]
  },
  {
   "cell_type": "markdown",
   "id": "ddaf1ca3",
   "metadata": {},
   "source": [
    "## Binary Relevance"
   ]
  },
  {
   "cell_type": "markdown",
   "id": "7ea32984",
   "metadata": {},
   "source": [
    "Treats each label as a separate single classification problem. \n",
    "\n",
    "Label correlation may be lost"
   ]
  },
  {
   "cell_type": "code",
   "execution_count": 63,
   "id": "fa78a8c7",
   "metadata": {
    "ExecuteTime": {
     "end_time": "2021-08-20T08:40:22.973390Z",
     "start_time": "2021-08-20T08:36:00.441609Z"
    }
   },
   "outputs": [],
   "source": [
    "BN = build_model(MultinomialNB(), BinaryRelevance ,X_train, y_train, X_test, y_test)"
   ]
  },
  {
   "cell_type": "code",
   "execution_count": 64,
   "id": "66537776",
   "metadata": {
    "ExecuteTime": {
     "end_time": "2021-08-20T08:40:23.024078Z",
     "start_time": "2021-08-20T08:40:22.987655Z"
    }
   },
   "outputs": [
    {
     "data": {
      "text/plain": [
       "{'accuracy:': 0.11154758981913414, 'hamming_score': 0.014762255503723709}"
      ]
     },
     "execution_count": 64,
     "metadata": {},
     "output_type": "execute_result"
    }
   ],
   "source": [
    "BN"
   ]
  },
  {
   "cell_type": "markdown",
   "id": "8e81a4c5",
   "metadata": {},
   "source": [
    "## Classifier Chains"
   ]
  },
  {
   "cell_type": "markdown",
   "id": "3f561247",
   "metadata": {},
   "source": [
    "Forms classifiers chains to preserve label correlation"
   ]
  },
  {
   "cell_type": "code",
   "execution_count": 65,
   "id": "a606f4e4",
   "metadata": {
    "ExecuteTime": {
     "end_time": "2021-08-20T08:45:28.636724Z",
     "start_time": "2021-08-20T08:40:23.025831Z"
    }
   },
   "outputs": [],
   "source": [
    "chain_model = build_model(MultinomialNB(),ClassifierChain,X_train,y_train,X_test,y_test)"
   ]
  },
  {
   "cell_type": "code",
   "execution_count": 66,
   "id": "7ebd746d",
   "metadata": {
    "ExecuteTime": {
     "end_time": "2021-08-20T08:45:28.647447Z",
     "start_time": "2021-08-20T08:45:28.638541Z"
    }
   },
   "outputs": [
    {
     "data": {
      "text/plain": [
       "{'accuracy:': 0.13986414600212782, 'hamming_score': 0.01368606268925444}"
      ]
     },
     "execution_count": 66,
     "metadata": {},
     "output_type": "execute_result"
    }
   ],
   "source": [
    "chain_model"
   ]
  },
  {
   "cell_type": "markdown",
   "id": "8e8cb354",
   "metadata": {},
   "source": [
    "## Powerset"
   ]
  },
  {
   "cell_type": "markdown",
   "id": "cc7d4cc2",
   "metadata": {},
   "source": [
    "Gives a unique class to every possible label combination in the dataset. As data increases the number of classes/labels increases"
   ]
  },
  {
   "cell_type": "markdown",
   "id": "cc820ce6",
   "metadata": {},
   "source": [
    "**MultinomialNB**"
   ]
  },
  {
   "cell_type": "code",
   "execution_count": 67,
   "id": "4e76cdbf",
   "metadata": {
    "ExecuteTime": {
     "end_time": "2021-08-20T08:46:01.160369Z",
     "start_time": "2021-08-20T08:45:28.649441Z"
    }
   },
   "outputs": [],
   "source": [
    "labelP_model = build_model(MultinomialNB(),LabelPowerset,X_train,y_train,X_test,y_test)"
   ]
  },
  {
   "cell_type": "code",
   "execution_count": 68,
   "id": "89ed4762",
   "metadata": {
    "ExecuteTime": {
     "end_time": "2021-08-20T08:46:01.175632Z",
     "start_time": "2021-08-20T08:46:01.162455Z"
    }
   },
   "outputs": [
    {
     "data": {
      "text/plain": [
       "{'accuracy:': 0.232834110811032, 'hamming_score': 0.01704476634749161}"
      ]
     },
     "execution_count": 68,
     "metadata": {},
     "output_type": "execute_result"
    }
   ],
   "source": [
    "labelP_model"
   ]
  },
  {
   "cell_type": "markdown",
   "id": "d5367aa7",
   "metadata": {},
   "source": [
    "# Multilabel models"
   ]
  },
  {
   "cell_type": "code",
   "execution_count": 70,
   "id": "9000ccb2",
   "metadata": {
    "ExecuteTime": {
     "end_time": "2021-08-27T08:36:04.963279Z",
     "start_time": "2021-08-27T07:58:03.275012Z"
    }
   },
   "outputs": [
    {
     "data": {
      "text/plain": [
       "0.3154104263851379"
      ]
     },
     "execution_count": 70,
     "metadata": {},
     "output_type": "execute_result"
    }
   ],
   "source": [
    "from sklearn.neural_network import MLPClassifier\n",
    "\n",
    "clf = MLPClassifier(random_state=1, max_iter=300).fit(X_train, y_train)\n",
    "\n",
    "clf.score(X_test, y_test)"
   ]
  },
  {
   "cell_type": "code",
   "execution_count": 74,
   "id": "1c6fd9bf",
   "metadata": {
    "ExecuteTime": {
     "end_time": "2021-08-27T08:57:07.389503Z",
     "start_time": "2021-08-27T08:57:07.361580Z"
    }
   },
   "outputs": [
    {
     "ename": "AttributeError",
     "evalue": "'RidgeClassifierCV' object has no attribute 'predict_proba'",
     "output_type": "error",
     "traceback": [
      "\u001b[1;31m---------------------------------------------------------------------------\u001b[0m",
      "\u001b[1;31mAttributeError\u001b[0m                            Traceback (most recent call last)",
      "\u001b[1;32mC:\\Users\\ELISEA~1\\AppData\\Local\\Temp/ipykernel_16272/190293700.py\u001b[0m in \u001b[0;36m<module>\u001b[1;34m\u001b[0m\n\u001b[1;32m----> 1\u001b[1;33m \u001b[0mclf\u001b[0m\u001b[1;33m.\u001b[0m\u001b[0mpredict_proba\u001b[0m\u001b[1;33m(\u001b[0m\u001b[0mX_test\u001b[0m\u001b[1;33m[\u001b[0m\u001b[1;33m:\u001b[0m\u001b[1;36m1\u001b[0m\u001b[1;33m]\u001b[0m\u001b[1;33m)\u001b[0m\u001b[1;33m\u001b[0m\u001b[1;33m\u001b[0m\u001b[0m\n\u001b[0m",
      "\u001b[1;31mAttributeError\u001b[0m: 'RidgeClassifierCV' object has no attribute 'predict_proba'"
     ]
    }
   ],
   "source": [
    "print(clf.predict(X_test[:5, :]))\n",
    "print(clf.predict_proba(X_test[:1]))"
   ]
  },
  {
   "cell_type": "code",
   "execution_count": 75,
   "id": "7537aa0e",
   "metadata": {
    "ExecuteTime": {
     "end_time": "2021-08-27T09:06:36.935508Z",
     "start_time": "2021-08-27T08:57:13.980574Z"
    }
   },
   "outputs": [
    {
     "name": "stderr",
     "output_type": "stream",
     "text": [
      "\n",
      "KeyboardInterrupt\n",
      "\n"
     ]
    }
   ],
   "source": [
    "from sklearn.linear_model import RidgeClassifierCV\n",
    "\n",
    "clfridge = RidgeClassifierCV(alphas=[1e-3, 1e-2, 1e-1, 1]).fit(X_train, y_train)"
   ]
  },
  {
   "cell_type": "code",
   "execution_count": null,
   "id": "4cad7d86",
   "metadata": {
    "ExecuteTime": {
     "end_time": "2021-08-27T09:06:36.950468Z",
     "start_time": "2021-08-27T09:06:36.950468Z"
    }
   },
   "outputs": [],
   "source": [
    "clfridge.score(X_train, y_train) "
   ]
  },
  {
   "cell_type": "code",
   "execution_count": null,
   "id": "950c83c2",
   "metadata": {},
   "outputs": [],
   "source": [
    "from sklearn.ensemble import RandomForestClassifier\n",
    "\n",
    "clfrf = RandomForestClassifier(max_depth=2, random_state=0)\n",
    "clfrf.fit(X_train, y_train)"
   ]
  },
  {
   "cell_type": "code",
   "execution_count": null,
   "id": "dcf51186",
   "metadata": {},
   "outputs": [],
   "source": [
    "print(clfrf.predict(X_test[:5, :]))"
   ]
  },
  {
   "cell_type": "code",
   "execution_count": null,
   "id": "77cc4848",
   "metadata": {},
   "outputs": [],
   "source": []
  },
  {
   "cell_type": "code",
   "execution_count": null,
   "id": "45b3ee8e",
   "metadata": {},
   "outputs": [],
   "source": []
  }
 ],
 "metadata": {
  "kernelspec": {
   "display_name": "Python 3 (ipykernel)",
   "language": "python",
   "name": "python3"
  },
  "language_info": {
   "codemirror_mode": {
    "name": "ipython",
    "version": 3
   },
   "file_extension": ".py",
   "mimetype": "text/x-python",
   "name": "python",
   "nbconvert_exporter": "python",
   "pygments_lexer": "ipython3",
   "version": "3.8.8"
  },
  "toc": {
   "base_numbering": 1,
   "nav_menu": {},
   "number_sections": true,
   "sideBar": true,
   "skip_h1_title": false,
   "title_cell": "Table of Contents",
   "title_sidebar": "Contents",
   "toc_cell": false,
   "toc_position": {
    "height": "calc(100% - 180px)",
    "left": "10px",
    "top": "150px",
    "width": "211px"
   },
   "toc_section_display": true,
   "toc_window_display": true
  }
 },
 "nbformat": 4,
 "nbformat_minor": 5
}
