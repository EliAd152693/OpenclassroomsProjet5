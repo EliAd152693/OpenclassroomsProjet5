{
 "cells": [
  {
   "cell_type": "markdown",
   "id": "1047e067",
   "metadata": {},
   "source": [
    "<font size=\"6\">PROJET 5 : Catégorisez automatiquement des questions </font>"
   ]
  },
  {
   "cell_type": "markdown",
   "id": "4b67b6d3",
   "metadata": {},
   "source": [
    "<font size=\"6\"> Notebook 2 : Modèles non supervisés </font>"
   ]
  },
  {
   "cell_type": "markdown",
   "id": "445da9dc",
   "metadata": {},
   "source": [
    "**Librairies**"
   ]
  },
  {
   "cell_type": "code",
   "execution_count": 65,
   "id": "0ab35af1",
   "metadata": {
    "ExecuteTime": {
     "end_time": "2021-08-10T13:56:57.074595Z",
     "start_time": "2021-08-10T13:56:57.062193Z"
    }
   },
   "outputs": [],
   "source": [
    "# Data analyse\n",
    "import pandas as pd\n",
    "import numpy as np\n",
    "from pprint import pprint\n",
    "from operator import itemgetter"
   ]
  },
  {
   "cell_type": "code",
   "execution_count": 66,
   "id": "1dc98eb9",
   "metadata": {
    "ExecuteTime": {
     "end_time": "2021-08-10T13:56:57.090356Z",
     "start_time": "2021-08-10T13:56:57.079066Z"
    }
   },
   "outputs": [],
   "source": [
    "# Visualisation\n",
    "import matplotlib.pyplot as plt\n",
    "import pyLDAvis\n",
    "import pyLDAvis.gensim_models\n",
    "from wordcloud import WordCloud, STOPWORDS\n",
    "import matplotlib.colors as mcolors"
   ]
  },
  {
   "cell_type": "code",
   "execution_count": 67,
   "id": "52252ef0",
   "metadata": {
    "ExecuteTime": {
     "end_time": "2021-08-10T13:56:57.119790Z",
     "start_time": "2021-08-10T13:56:57.091323Z"
    }
   },
   "outputs": [],
   "source": [
    "# Modèles\n",
    "import gensim\n",
    "import gensim.corpora as corpora\n",
    "from gensim.corpora.dictionary import Dictionary\n",
    "from gensim.models.nmf import Nmf\n",
    "from sklearn.decomposition import NMF\n",
    "\n",
    "from sklearn.model_selection import train_test_split\n",
    "from sklearn.feature_extraction.text import TfidfVectorizer\n",
    "from nltk.tokenize import RegexpTokenizer\n",
    "\n",
    "# Evaluation\n",
    "from gensim.models import CoherenceModel"
   ]
  },
  {
   "cell_type": "markdown",
   "id": "a7a22ef2",
   "metadata": {},
   "source": [
    "**Chargement des données traités dans le Notebook 1**"
   ]
  },
  {
   "cell_type": "code",
   "execution_count": 68,
   "id": "7e2fb218",
   "metadata": {
    "ExecuteTime": {
     "end_time": "2021-08-10T13:56:58.128301Z",
     "start_time": "2021-08-10T13:56:57.121786Z"
    }
   },
   "outputs": [],
   "source": [
    "df = pd.read_pickle(\"./preprocess_data.pkl\")"
   ]
  },
  {
   "cell_type": "code",
   "execution_count": 69,
   "id": "ef3b0499",
   "metadata": {
    "ExecuteTime": {
     "end_time": "2021-08-10T13:56:58.224251Z",
     "start_time": "2021-08-10T13:56:58.136192Z"
    },
    "scrolled": true
   },
   "outputs": [
    {
     "data": {
      "text/html": [
       "<div>\n",
       "<style scoped>\n",
       "    .dataframe tbody tr th:only-of-type {\n",
       "        vertical-align: middle;\n",
       "    }\n",
       "\n",
       "    .dataframe tbody tr th {\n",
       "        vertical-align: top;\n",
       "    }\n",
       "\n",
       "    .dataframe thead th {\n",
       "        text-align: right;\n",
       "    }\n",
       "</style>\n",
       "<table border=\"1\" class=\"dataframe\">\n",
       "  <thead>\n",
       "    <tr style=\"text-align: right;\">\n",
       "      <th></th>\n",
       "      <th>content</th>\n",
       "      <th>preprocess_content</th>\n",
       "      <th>word_count</th>\n",
       "      <th>version-control</th>\n",
       "      <th>forms</th>\n",
       "      <th>sql</th>\n",
       "      <th>syntax</th>\n",
       "      <th>asp.net-mvc</th>\n",
       "      <th>numpy</th>\n",
       "      <th>http</th>\n",
       "      <th>...</th>\n",
       "      <th>objective-c</th>\n",
       "      <th>exception</th>\n",
       "      <th>sorting</th>\n",
       "      <th>matplotlib</th>\n",
       "      <th>c</th>\n",
       "      <th>android</th>\n",
       "      <th>ios</th>\n",
       "      <th>linq</th>\n",
       "      <th>swift</th>\n",
       "      <th>java-8</th>\n",
       "    </tr>\n",
       "  </thead>\n",
       "  <tbody>\n",
       "    <tr>\n",
       "      <th>0</th>\n",
       "      <td>is there any way to tinker with the iphone sdk...</td>\n",
       "      <td>[way, machine, plan, version, way, think, run,...</td>\n",
       "      <td>70</td>\n",
       "      <td>0</td>\n",
       "      <td>0</td>\n",
       "      <td>0</td>\n",
       "      <td>0</td>\n",
       "      <td>0</td>\n",
       "      <td>0</td>\n",
       "      <td>0</td>\n",
       "      <td>...</td>\n",
       "      <td>0</td>\n",
       "      <td>0</td>\n",
       "      <td>0</td>\n",
       "      <td>0</td>\n",
       "      <td>0</td>\n",
       "      <td>0</td>\n",
       "      <td>1</td>\n",
       "      <td>0</td>\n",
       "      <td>0</td>\n",
       "      <td>0</td>\n",
       "    </tr>\n",
       "    <tr>\n",
       "      <th>1</th>\n",
       "      <td>i have this gigantic ugly string j transaction...</td>\n",
       "      <td>[gigantic, ugly, string, transaction, start, p...</td>\n",
       "      <td>120</td>\n",
       "      <td>0</td>\n",
       "      <td>0</td>\n",
       "      <td>0</td>\n",
       "      <td>0</td>\n",
       "      <td>0</td>\n",
       "      <td>0</td>\n",
       "      <td>0</td>\n",
       "      <td>...</td>\n",
       "      <td>0</td>\n",
       "      <td>0</td>\n",
       "      <td>0</td>\n",
       "      <td>0</td>\n",
       "      <td>0</td>\n",
       "      <td>0</td>\n",
       "      <td>0</td>\n",
       "      <td>0</td>\n",
       "      <td>0</td>\n",
       "      <td>0</td>\n",
       "    </tr>\n",
       "    <tr>\n",
       "      <th>2</th>\n",
       "      <td>i am working with autolayout and constraints a...</td>\n",
       "      <td>[work, autolayout, constraint, find, constrain...</td>\n",
       "      <td>199</td>\n",
       "      <td>0</td>\n",
       "      <td>0</td>\n",
       "      <td>0</td>\n",
       "      <td>0</td>\n",
       "      <td>0</td>\n",
       "      <td>0</td>\n",
       "      <td>0</td>\n",
       "      <td>...</td>\n",
       "      <td>0</td>\n",
       "      <td>0</td>\n",
       "      <td>0</td>\n",
       "      <td>0</td>\n",
       "      <td>0</td>\n",
       "      <td>0</td>\n",
       "      <td>1</td>\n",
       "      <td>0</td>\n",
       "      <td>0</td>\n",
       "      <td>0</td>\n",
       "    </tr>\n",
       "    <tr>\n",
       "      <th>3</th>\n",
       "      <td>i m learning objective c and keep bumping into...</td>\n",
       "      <td>[learn, objective, keep, bump, symbol, use, di...</td>\n",
       "      <td>48</td>\n",
       "      <td>0</td>\n",
       "      <td>0</td>\n",
       "      <td>0</td>\n",
       "      <td>0</td>\n",
       "      <td>0</td>\n",
       "      <td>0</td>\n",
       "      <td>0</td>\n",
       "      <td>...</td>\n",
       "      <td>1</td>\n",
       "      <td>0</td>\n",
       "      <td>0</td>\n",
       "      <td>0</td>\n",
       "      <td>0</td>\n",
       "      <td>0</td>\n",
       "      <td>0</td>\n",
       "      <td>0</td>\n",
       "      <td>0</td>\n",
       "      <td>0</td>\n",
       "    </tr>\n",
       "    <tr>\n",
       "      <th>4</th>\n",
       "      <td>is there a simple way in a pretty standard uni...</td>\n",
       "      <td>[simple, way, pretty, standard, unix, environm...</td>\n",
       "      <td>113</td>\n",
       "      <td>0</td>\n",
       "      <td>0</td>\n",
       "      <td>0</td>\n",
       "      <td>0</td>\n",
       "      <td>0</td>\n",
       "      <td>0</td>\n",
       "      <td>0</td>\n",
       "      <td>...</td>\n",
       "      <td>0</td>\n",
       "      <td>0</td>\n",
       "      <td>0</td>\n",
       "      <td>0</td>\n",
       "      <td>0</td>\n",
       "      <td>0</td>\n",
       "      <td>0</td>\n",
       "      <td>0</td>\n",
       "      <td>0</td>\n",
       "      <td>0</td>\n",
       "    </tr>\n",
       "    <tr>\n",
       "      <th>...</th>\n",
       "      <td>...</td>\n",
       "      <td>...</td>\n",
       "      <td>...</td>\n",
       "      <td>...</td>\n",
       "      <td>...</td>\n",
       "      <td>...</td>\n",
       "      <td>...</td>\n",
       "      <td>...</td>\n",
       "      <td>...</td>\n",
       "      <td>...</td>\n",
       "      <td>...</td>\n",
       "      <td>...</td>\n",
       "      <td>...</td>\n",
       "      <td>...</td>\n",
       "      <td>...</td>\n",
       "      <td>...</td>\n",
       "      <td>...</td>\n",
       "      <td>...</td>\n",
       "      <td>...</td>\n",
       "      <td>...</td>\n",
       "      <td>...</td>\n",
       "    </tr>\n",
       "    <tr>\n",
       "      <th>44990</th>\n",
       "      <td>recently i upgraded the version of django fram...</td>\n",
       "      <td>[recently_upgrade, version, django, framework,...</td>\n",
       "      <td>331</td>\n",
       "      <td>0</td>\n",
       "      <td>0</td>\n",
       "      <td>0</td>\n",
       "      <td>0</td>\n",
       "      <td>0</td>\n",
       "      <td>0</td>\n",
       "      <td>0</td>\n",
       "      <td>...</td>\n",
       "      <td>0</td>\n",
       "      <td>0</td>\n",
       "      <td>0</td>\n",
       "      <td>0</td>\n",
       "      <td>0</td>\n",
       "      <td>0</td>\n",
       "      <td>0</td>\n",
       "      <td>0</td>\n",
       "      <td>0</td>\n",
       "      <td>0</td>\n",
       "    </tr>\n",
       "    <tr>\n",
       "      <th>44991</th>\n",
       "      <td>how can i reject a promise that returned by an...</td>\n",
       "      <td>[reject, promise, return, async_await, functio...</td>\n",
       "      <td>88</td>\n",
       "      <td>0</td>\n",
       "      <td>0</td>\n",
       "      <td>0</td>\n",
       "      <td>0</td>\n",
       "      <td>0</td>\n",
       "      <td>0</td>\n",
       "      <td>0</td>\n",
       "      <td>...</td>\n",
       "      <td>0</td>\n",
       "      <td>0</td>\n",
       "      <td>0</td>\n",
       "      <td>0</td>\n",
       "      <td>0</td>\n",
       "      <td>0</td>\n",
       "      <td>0</td>\n",
       "      <td>0</td>\n",
       "      <td>0</td>\n",
       "      <td>0</td>\n",
       "    </tr>\n",
       "    <tr>\n",
       "      <th>44992</th>\n",
       "      <td>i have entities that are related as one to man...</td>\n",
       "      <td>[entity, relate, manypublic, class, restaurant...</td>\n",
       "      <td>296</td>\n",
       "      <td>0</td>\n",
       "      <td>0</td>\n",
       "      <td>0</td>\n",
       "      <td>0</td>\n",
       "      <td>0</td>\n",
       "      <td>0</td>\n",
       "      <td>0</td>\n",
       "      <td>...</td>\n",
       "      <td>0</td>\n",
       "      <td>0</td>\n",
       "      <td>0</td>\n",
       "      <td>0</td>\n",
       "      <td>0</td>\n",
       "      <td>0</td>\n",
       "      <td>0</td>\n",
       "      <td>0</td>\n",
       "      <td>0</td>\n",
       "      <td>0</td>\n",
       "    </tr>\n",
       "    <tr>\n",
       "      <th>44993</th>\n",
       "      <td>problemi want to return a file in my asp net w...</td>\n",
       "      <td>[want, return, file, web, api, controller, app...</td>\n",
       "      <td>90</td>\n",
       "      <td>0</td>\n",
       "      <td>0</td>\n",
       "      <td>0</td>\n",
       "      <td>0</td>\n",
       "      <td>0</td>\n",
       "      <td>0</td>\n",
       "      <td>0</td>\n",
       "      <td>...</td>\n",
       "      <td>0</td>\n",
       "      <td>0</td>\n",
       "      <td>0</td>\n",
       "      <td>0</td>\n",
       "      <td>0</td>\n",
       "      <td>0</td>\n",
       "      <td>0</td>\n",
       "      <td>0</td>\n",
       "      <td>0</td>\n",
       "      <td>0</td>\n",
       "    </tr>\n",
       "    <tr>\n",
       "      <th>44994</th>\n",
       "      <td>using suggested method this is the result a li...</td>\n",
       "      <td>[use, suggest, method, result, link, button, c...</td>\n",
       "      <td>71</td>\n",
       "      <td>0</td>\n",
       "      <td>0</td>\n",
       "      <td>0</td>\n",
       "      <td>0</td>\n",
       "      <td>0</td>\n",
       "      <td>0</td>\n",
       "      <td>0</td>\n",
       "      <td>...</td>\n",
       "      <td>0</td>\n",
       "      <td>0</td>\n",
       "      <td>0</td>\n",
       "      <td>0</td>\n",
       "      <td>0</td>\n",
       "      <td>0</td>\n",
       "      <td>0</td>\n",
       "      <td>0</td>\n",
       "      <td>0</td>\n",
       "      <td>0</td>\n",
       "    </tr>\n",
       "  </tbody>\n",
       "</table>\n",
       "<p>40730 rows × 103 columns</p>\n",
       "</div>"
      ],
      "text/plain": [
       "                                                 content  \\\n",
       "0      is there any way to tinker with the iphone sdk...   \n",
       "1      i have this gigantic ugly string j transaction...   \n",
       "2      i am working with autolayout and constraints a...   \n",
       "3      i m learning objective c and keep bumping into...   \n",
       "4      is there a simple way in a pretty standard uni...   \n",
       "...                                                  ...   \n",
       "44990  recently i upgraded the version of django fram...   \n",
       "44991  how can i reject a promise that returned by an...   \n",
       "44992  i have entities that are related as one to man...   \n",
       "44993  problemi want to return a file in my asp net w...   \n",
       "44994  using suggested method this is the result a li...   \n",
       "\n",
       "                                      preprocess_content  word_count  \\\n",
       "0      [way, machine, plan, version, way, think, run,...          70   \n",
       "1      [gigantic, ugly, string, transaction, start, p...         120   \n",
       "2      [work, autolayout, constraint, find, constrain...         199   \n",
       "3      [learn, objective, keep, bump, symbol, use, di...          48   \n",
       "4      [simple, way, pretty, standard, unix, environm...         113   \n",
       "...                                                  ...         ...   \n",
       "44990  [recently_upgrade, version, django, framework,...         331   \n",
       "44991  [reject, promise, return, async_await, functio...          88   \n",
       "44992  [entity, relate, manypublic, class, restaurant...         296   \n",
       "44993  [want, return, file, web, api, controller, app...          90   \n",
       "44994  [use, suggest, method, result, link, button, c...          71   \n",
       "\n",
       "       version-control  forms  sql  syntax  asp.net-mvc  numpy  http  ...  \\\n",
       "0                    0      0    0       0            0      0     0  ...   \n",
       "1                    0      0    0       0            0      0     0  ...   \n",
       "2                    0      0    0       0            0      0     0  ...   \n",
       "3                    0      0    0       0            0      0     0  ...   \n",
       "4                    0      0    0       0            0      0     0  ...   \n",
       "...                ...    ...  ...     ...          ...    ...   ...  ...   \n",
       "44990                0      0    0       0            0      0     0  ...   \n",
       "44991                0      0    0       0            0      0     0  ...   \n",
       "44992                0      0    0       0            0      0     0  ...   \n",
       "44993                0      0    0       0            0      0     0  ...   \n",
       "44994                0      0    0       0            0      0     0  ...   \n",
       "\n",
       "       objective-c  exception  sorting  matplotlib  c  android  ios  linq  \\\n",
       "0                0          0        0           0  0        0    1     0   \n",
       "1                0          0        0           0  0        0    0     0   \n",
       "2                0          0        0           0  0        0    1     0   \n",
       "3                1          0        0           0  0        0    0     0   \n",
       "4                0          0        0           0  0        0    0     0   \n",
       "...            ...        ...      ...         ... ..      ...  ...   ...   \n",
       "44990            0          0        0           0  0        0    0     0   \n",
       "44991            0          0        0           0  0        0    0     0   \n",
       "44992            0          0        0           0  0        0    0     0   \n",
       "44993            0          0        0           0  0        0    0     0   \n",
       "44994            0          0        0           0  0        0    0     0   \n",
       "\n",
       "       swift  java-8  \n",
       "0          0       0  \n",
       "1          0       0  \n",
       "2          0       0  \n",
       "3          0       0  \n",
       "4          0       0  \n",
       "...      ...     ...  \n",
       "44990      0       0  \n",
       "44991      0       0  \n",
       "44992      0       0  \n",
       "44993      0       0  \n",
       "44994      0       0  \n",
       "\n",
       "[40730 rows x 103 columns]"
      ]
     },
     "execution_count": 69,
     "metadata": {},
     "output_type": "execute_result"
    }
   ],
   "source": [
    "df"
   ]
  },
  {
   "cell_type": "markdown",
   "id": "b5691e6d",
   "metadata": {},
   "source": [
    "# Latent Dirichlet Allocation"
   ]
  },
  {
   "cell_type": "markdown",
   "id": "7a6737f6",
   "metadata": {},
   "source": [
    "Principes du LDA : "
   ]
  },
  {
   "cell_type": "markdown",
   "id": "50b18dfa",
   "metadata": {},
   "source": [
    "## Create the dictionary and Corpus needed for topic modeling"
   ]
  },
  {
   "cell_type": "markdown",
   "id": "ff46d5e5",
   "metadata": {},
   "source": [
    "Convert document (a list of words) into the bag-of-words format = list of (token_id, token_count) 2-tuples."
   ]
  },
  {
   "cell_type": "code",
   "execution_count": 70,
   "id": "7c0f1716",
   "metadata": {
    "ExecuteTime": {
     "end_time": "2021-08-10T13:57:04.939420Z",
     "start_time": "2021-08-10T13:56:58.228391Z"
    }
   },
   "outputs": [
    {
     "name": "stdout",
     "output_type": "stream",
     "text": [
      "[(0, 1), (1, 1), (2, 1), (3, 1), (4, 1), (5, 2), (6, 1), (7, 2), (8, 1), (9, 1), (10, 1), (11, 1), (12, 1), (13, 1), (14, 2), (15, 2)]\n"
     ]
    }
   ],
   "source": [
    "# Create Dictionary\n",
    "id2word = corpora.Dictionary(df['preprocess_content'])\n",
    "# Create Corpus\n",
    "texts = df['preprocess_content']\n",
    "# Term Document Frequancy\n",
    "corpus = [id2word.doc2bow(text) for text in texts]\n",
    "\n",
    "print(corpus[0])"
   ]
  },
  {
   "cell_type": "code",
   "execution_count": 71,
   "id": "996ca474",
   "metadata": {
    "ExecuteTime": {
     "end_time": "2021-08-10T13:57:04.992327Z",
     "start_time": "2021-08-10T13:57:04.939420Z"
    }
   },
   "outputs": [
    {
     "data": {
      "text/plain": [
       "'develop'"
      ]
     },
     "execution_count": 71,
     "metadata": {},
     "output_type": "execute_result"
    }
   ],
   "source": [
    "#Exemple de mot du dictionnaire\n",
    "id2word[0]"
   ]
  },
  {
   "cell_type": "code",
   "execution_count": 72,
   "id": "78f31493",
   "metadata": {
    "ExecuteTime": {
     "end_time": "2021-08-10T13:57:05.016284Z",
     "start_time": "2021-08-10T13:57:04.995247Z"
    }
   },
   "outputs": [
    {
     "data": {
      "text/plain": [
       "[[('develop', 1),\n",
       "  ('development', 1),\n",
       "  ('image', 1),\n",
       "  ('iphone', 1),\n",
       "  ('legal', 1),\n",
       "  ('machine', 2),\n",
       "  ('plan', 1),\n",
       "  ('run', 2),\n",
       "  ('server', 1),\n",
       "  ('sure', 1),\n",
       "  ('think', 1),\n",
       "  ('use', 1),\n",
       "  ('version', 1),\n",
       "  ('vmware', 1),\n",
       "  ('way', 2),\n",
       "  ('window', 2)]]"
      ]
     },
     "execution_count": 72,
     "metadata": {},
     "output_type": "execute_result"
    }
   ],
   "source": [
    "# Human readable format of corpus (term-frequency)\n",
    "[[(id2word[id], freq) for id, freq in cp] for cp in corpus[:1]]"
   ]
  },
  {
   "cell_type": "markdown",
   "id": "69641d8e",
   "metadata": {},
   "source": [
    "## Find the optimal number of topics for LDA?"
   ]
  },
  {
   "cell_type": "code",
   "execution_count": 124,
   "id": "d5a06a2e",
   "metadata": {
    "ExecuteTime": {
     "end_time": "2021-08-11T13:47:21.314534Z",
     "start_time": "2021-08-11T13:47:21.301009Z"
    }
   },
   "outputs": [],
   "source": [
    "def compute_coherence_values(dictionary, corpus, texts, limit, start=2, step=3):\n",
    "    \"\"\"\n",
    "    Compute c_v coherence for various number of topics\n",
    "\n",
    "    Parameters:\n",
    "    ----------\n",
    "    dictionary : Gensim dictionary\n",
    "    corpus : Gensim corpus\n",
    "    texts : List of input texts\n",
    "    limit : Max num of topics\n",
    "\n",
    "    Returns:\n",
    "    -------\n",
    "    model_list : List of LDA topic models\n",
    "    coherence_values : Coherence values corresponding to the LDA model with respective number of topics\n",
    "    \"\"\"\n",
    "    coherence_values = []\n",
    "    model_list = []\n",
    "    for num_topics in range(start, limit, step):\n",
    "        model = gensim.models.ldamodel.LdaModel(corpus=corpus,\n",
    "                                                id2word=dictionary,\n",
    "                                                num_topics= num_topics, \n",
    "                                                random_state=100, \n",
    "                                                update_every=1,\n",
    "                                                chunksize=200,\n",
    "                                                passes=10,\n",
    "                                                alpha='auto',\n",
    "                                                per_word_topics=True)\n",
    "        \n",
    "        model_list.append(model)\n",
    "        coherencemodel = CoherenceModel(model=model, texts=texts, dictionary=dictionary, coherence='c_v')\n",
    "        coherence_values.append(coherencemodel.get_coherence())\n",
    "\n",
    "    return model_list, coherence_values"
   ]
  },
  {
   "cell_type": "code",
   "execution_count": 125,
   "id": "ac9042d1",
   "metadata": {
    "ExecuteTime": {
     "end_time": "2021-08-11T14:50:16.401998Z",
     "start_time": "2021-08-11T13:47:25.721141Z"
    }
   },
   "outputs": [],
   "source": [
    "# Can take a long time to run.\n",
    "model_list, coherence_values = compute_coherence_values(dictionary=id2word, \n",
    "                                                        corpus=corpus, \n",
    "                                                        texts=df['preprocess_content'], \n",
    "                                                        start=9, \n",
    "                                                        limit=33, \n",
    "                                                        step=3)"
   ]
  },
  {
   "cell_type": "code",
   "execution_count": 126,
   "id": "e4083b14",
   "metadata": {
    "ExecuteTime": {
     "end_time": "2021-08-11T14:50:16.575013Z",
     "start_time": "2021-08-11T14:50:16.404946Z"
    }
   },
   "outputs": [
    {
     "data": {
      "image/png": "[encoded data removed]",
      "text/plain": [
       "<Figure size 432x288 with 1 Axes>"
      ]
     },
     "metadata": {
      "needs_background": "light"
     },
     "output_type": "display_data"
    }
   ],
   "source": [
    "# Show graph\n",
    "limit=33; start=9; step=3;\n",
    "x = range(start, limit, step)\n",
    "plt.plot(x, coherence_values)\n",
    "plt.xlabel(\"Num Topics\")\n",
    "plt.ylabel(\"Coherence score\")\n",
    "plt.legend((\"coherence_values\"), loc='best')\n",
    "plt.show()"
   ]
  },
  {
   "cell_type": "code",
   "execution_count": 127,
   "id": "a9754035",
   "metadata": {
    "ExecuteTime": {
     "end_time": "2021-08-11T14:50:16.591002Z",
     "start_time": "2021-08-11T14:50:16.577008Z"
    }
   },
   "outputs": [
    {
     "name": "stdout",
     "output_type": "stream",
     "text": [
      "Num Topics = 9  has Coherence Value of 0.444\n",
      "Num Topics = 12  has Coherence Value of 0.4554\n",
      "Num Topics = 15  has Coherence Value of 0.4442\n",
      "Num Topics = 18  has Coherence Value of 0.4314\n",
      "Num Topics = 21  has Coherence Value of 0.4456\n",
      "Num Topics = 24  has Coherence Value of 0.4496\n",
      "Num Topics = 27  has Coherence Value of 0.4628\n",
      "Num Topics = 30  has Coherence Value of 0.4513\n"
     ]
    }
   ],
   "source": [
    "# Print the coherence scores\n",
    "for m, cv in zip(x, coherence_values):\n",
    "    print(\"Num Topics =\", m, \" has Coherence Value of\", round(cv, 4))"
   ]
  },
  {
   "cell_type": "code",
   "execution_count": 133,
   "id": "9d570c32",
   "metadata": {
    "ExecuteTime": {
     "end_time": "2021-08-11T15:08:47.725547Z",
     "start_time": "2021-08-11T15:08:47.670521Z"
    }
   },
   "outputs": [
    {
     "name": "stdout",
     "output_type": "stream",
     "text": [
      "[(10,\n",
      "  '0.271*\"image\" + 0.175*\"baked\" + 0.083*\"convert\" + 0.058*\"rail\" + '\n",
      "  '0.037*\"constructor\" + 0.031*\"lomaxxformat\" + 0.031*\"literal\" + '\n",
      "  '0.026*\"completely\" + 0.017*\"wise\" + 0.017*\"cstr\"'),\n",
      " (11,\n",
      "  '0.239*\"least\" + 0.168*\"way\" + 0.163*\"mysql\" + 0.089*\"odometer\" + '\n",
      "  '0.055*\"high\" + 0.026*\"monitor\" + 0.026*\"reference\" + 0.024*\"cycle\" + '\n",
      "  '0.018*\"connection\" + 0.017*\"django\"'),\n",
      " (26,\n",
      "  '0.163*\"readonly\" + 0.152*\"meaning\" + 0.147*\"initial\" + 0.082*\"dom\" + '\n",
      "  '0.073*\"revert\" + 0.069*\"inverse\" + 0.039*\"vwdtempjquery\" + '\n",
      "  '0.033*\"keithauto\" + 0.026*\"gravity_center\" + 0.024*\"hlumimplicit\"'),\n",
      " (25,\n",
      "  '0.181*\"unit_teste\" + 0.118*\"object_sender\" + 0.086*\"session\" + '\n",
      "  '0.066*\"notify\" + 0.066*\"public\" + 0.046*\"groovy\" + 0.045*\"selection\" + '\n",
      "  '0.027*\"piece\" + 0.024*\"curious\" + 0.021*\"include\"'),\n",
      " (12,\n",
      "  '0.164*\"server\" + 0.159*\"fully\" + 0.144*\"crash\" + 0.102*\"terribly\" + '\n",
      "  '0.088*\"modern\" + 0.053*\"arrive\" + 0.049*\"unchecked\" + 0.047*\"fall\" + '\n",
      "  '0.036*\"assignment\" + 0.019*\"python\"'),\n",
      " (16,\n",
      "  '0.212*\"sequence\" + 0.195*\"console\" + 0.169*\"distract\" + 0.151*\"color\" + '\n",
      "  '0.119*\"light\" + 0.040*\"someone_explain\" + 0.008*\"none\" + 0.007*\"oo\" + '\n",
      "  '0.006*\"rectangle\" + 0.006*\"apply\"'),\n",
      " (20,\n",
      "  '0.166*\"additional\" + 0.126*\"expression\" + 0.094*\"admit\" + 0.080*\"license\" + '\n",
      "  '0.077*\"clause\" + 0.054*\"analysis\" + 0.037*\"building\" + 0.028*\"dual\" + '\n",
      "  '0.026*\"join\" + 0.025*\"nhibernate\"'),\n",
      " (15,\n",
      "  '0.282*\"size\" + 0.136*\"copy\" + 0.088*\"spit\" + 0.068*\"inversion\" + '\n",
      "  '0.050*\"swing\" + 0.040*\"getter\" + 0.038*\"goughpass\" + 0.030*\"flash\" + '\n",
      "  '0.023*\"throw\" + 0.022*\"generics\"'),\n",
      " (5,\n",
      "  '0.124*\"dualhow\" + 0.096*\"classmanifest\" + 0.070*\"rounded_corner\" + '\n",
      "  '0.065*\"helper\" + 0.063*\"improve\" + 0.051*\"medium\" + 0.047*\"restriction\" + '\n",
      "  '0.040*\"width\" + 0.035*\"response\" + 0.032*\"healthy\"'),\n",
      " (24,\n",
      "  '0.202*\"design\" + 0.115*\"general\" + 0.106*\"first\" + 0.076*\"target\" + '\n",
      "  '0.060*\"catch_sqlexception\" + 0.054*\"leave\" + 0.050*\"simply\" + '\n",
      "  '0.047*\"jquery\" + 0.046*\"basic\" + 0.042*\"loadevent\"'),\n",
      " (17,\n",
      "  '0.426*\"default\" + 0.148*\"pfj\" + 0.104*\"cause\" + 0.060*\"like\" + 0.049*\"bash\" '\n",
      "  '+ 0.041*\"php\" + 0.034*\"need\" + 0.029*\"search\" + 0.016*\"integ\" + '\n",
      "  '0.011*\"approach\"'),\n",
      " (3,\n",
      "  '0.305*\"regex\" + 0.157*\"developer\" + 0.094*\"mbiek\" + 0.070*\"db\" + '\n",
      "  '0.054*\"specify\" + 0.044*\"thanksuse\" + 0.044*\"working\" + 0.031*\"none\" + '\n",
      "  '0.022*\"write\" + 0.019*\"contrast\"'),\n",
      " (22,\n",
      "  '0.255*\"match\" + 0.208*\"specifically\" + 0.129*\"else\" + 0.072*\"partyaop\" + '\n",
      "  '0.056*\"question\" + 0.051*\"well\" + 0.032*\"lazily\" + 0.018*\"lambdas\" + '\n",
      "  '0.016*\"multithreade\" + 0.015*\"bean\"'),\n",
      " (19,\n",
      "  '0.132*\"processworke\" + 0.093*\"window\" + 0.041*\"problematic\" + 0.038*\"good\" '\n",
      "  '+ 0.036*\"invariably\" + 0.034*\"top\" + 0.034*\"xml_sax\" + '\n",
      "  '0.032*\"comma_separate\" + 0.031*\"time\" + 0.031*\"void\"'),\n",
      " (14,\n",
      "  '0.142*\"writing\" + 0.129*\"say\" + 0.092*\"psql\" + 0.050*\"already\" + '\n",
      "  '0.044*\"function\" + 0.038*\"find\" + 0.033*\"retain\" + 0.032*\"map\" + '\n",
      "  '0.027*\"website\" + 0.025*\"refactor\"'),\n",
      " (21,\n",
      "  '0.257*\"framework\" + 0.095*\"bound\" + 0.081*\"lets_say\" + 0.055*\"preferably\" + '\n",
      "  '0.049*\"sql_server\" + 0.045*\"suspect\" + 0.043*\"team\" + 0.030*\"understanding\" '\n",
      "  '+ 0.026*\"database\" + 0.019*\"ever\"'),\n",
      " (6,\n",
      "  '0.208*\"object\" + 0.115*\"mysqldump\" + 0.111*\"bump\" + 0.082*\"change\" + '\n",
      "  '0.082*\"eye\" + 0.049*\"hashtable\" + 0.048*\"hopefully\" + 0.027*\"exit\" + '\n",
      "  '0.023*\"intercept\" + 0.022*\"comparison\"'),\n",
      " (7,\n",
      "  '0.201*\"thing\" + 0.162*\"format\" + 0.099*\"handle\" + 0.057*\"overload\" + '\n",
      "  '0.038*\"fulfill\" + 0.036*\"purpose\" + 0.033*\"quite\" + 0.030*\"artery\" + '\n",
      "  '0.029*\"caller\" + 0.028*\"master\"'),\n",
      " (4,\n",
      "  '0.127*\"int\" + 0.084*\"remove\" + 0.048*\"lose\" + 0.043*\"long\" + 0.041*\"com\" + '\n",
      "  '0.035*\"static\" + 0.033*\"basis\" + 0.031*\"slow\" + 0.031*\"contain\" + '\n",
      "  '0.027*\"eclipse\"'),\n",
      " (23,\n",
      "  '0.069*\"use\" + 0.035*\"unix\" + 0.026*\"really\" + 0.024*\"stop\" + '\n",
      "  '0.023*\"uncheck\" + 0.021*\"definitely\" + 0.021*\"vmware\" + '\n",
      "  '0.018*\"catch_exception\" + 0.018*\"hopefully\" + 0.017*\"autolayout\"')]\n"
     ]
    }
   ],
   "source": [
    "# Select the model and print the topics\n",
    "optimal_model = model_list[6]\n",
    "model_topics = optimal_model.show_topics(formatted=False)\n",
    "pprint(optimal_model.print_topics(num_words=10))"
   ]
  },
  {
   "cell_type": "markdown",
   "id": "b0799d27",
   "metadata": {},
   "source": [
    "**Compute Model Perplexity and Coherence Score**"
   ]
  },
  {
   "cell_type": "code",
   "execution_count": 134,
   "id": "bac5a24a",
   "metadata": {
    "ExecuteTime": {
     "end_time": "2021-08-11T15:09:22.130534Z",
     "start_time": "2021-08-11T15:08:53.916177Z"
    }
   },
   "outputs": [
    {
     "name": "stdout",
     "output_type": "stream",
     "text": [
      "\n",
      "Perplexity:  -12.41646826002498\n",
      "\n",
      "Coherence Score:  0.46282507112080706\n"
     ]
    }
   ],
   "source": [
    "# Compute Perplexity\n",
    "print('\\nPerplexity: ', optimal_model.log_perplexity(corpus))  # a measure of how good the model is. lower the better.\n",
    "\n",
    "# Compute Coherence Score\n",
    "coherence_model_lda = CoherenceModel(model=optimal_model, texts=df['preprocess_content'], dictionary=id2word, coherence='c_v')\n",
    "coherence_lda = coherence_model_lda.get_coherence()\n",
    "print('\\nCoherence Score: ', coherence_lda)"
   ]
  },
  {
   "cell_type": "markdown",
   "id": "d75ed8c3",
   "metadata": {},
   "source": [
    "## Visualize the topics-keywords"
   ]
  },
  {
   "cell_type": "code",
   "execution_count": 135,
   "id": "14cd5c0f",
   "metadata": {
    "ExecuteTime": {
     "end_time": "2021-08-11T15:09:36.905789Z",
     "start_time": "2021-08-11T15:09:22.133495Z"
    }
   },
   "outputs": [
    {
     "data": {
      "text/html": [
       "\n",
       "<link rel=\"stylesheet\" type=\"text/css\" href=\"https://cdn.jsdelivr.net/gh/bmabey/pyLDAvis@3.3.1/pyLDAvis/js/ldavis.v1.0.0.css\">\n",
       "\n",
       "\n",
       "<div id=\"ldavis_el1328828620277630405043574678\"></div>\n",
       "<script type=\"text/javascript\">\n",
       "\n",
       "var ldavis_el1328828620277630405043574678_data = {\"mdsDat\": {\"x\": [0.35520749160210424, 0.12333943665732912, 0.14041166063786603, 0.06111788582604271, 0.11298723437727644, 0.010865232181851422, 0.0848422602902669, 0.05232769418387442, 0.003962444782281936, 0.04141356585005761, -0.0009676475745573497, 0.08671285374199474, -0.027338152980022547, -0.0359815694840105, -0.021075850732323907, -0.037702987452193464, -0.057016222288694275, -0.05625052315498594, -0.037704331884479816, -0.07889710981152682, -0.08923335813117843, -0.07039782237989602, -0.0944452694673143, -0.10962818259611633, -0.10995589905987367, -0.12696613459449577, -0.11962669853927549], \"y\": [0.11824225619948081, 0.017657046468610382, -0.05622919038557226, -0.3032883756628883, 0.10484399924035244, 0.01791784554786906, -0.03609440764543291, 0.02207680063729854, 0.007670897740009757, -0.29780635677160594, 0.021535672864790727, 0.10566429714320341, -0.09316926325467402, 0.031398794964527715, 0.047702815058001724, 0.015614928078944159, 0.01735149968919264, 0.016869344981890966, 0.02959405205892344, 0.021556484827764334, 0.0195100671740947, 0.029570567371008463, 0.024314072816178135, 0.026601259735325428, 0.034309401963853695, 0.02870187914632904, 0.027883610012521865], \"topics\": [1, 2, 3, 4, 5, 6, 7, 8, 9, 10, 11, 12, 13, 14, 15, 16, 17, 18, 19, 20, 21, 22, 23, 24, 25, 26, 27], \"cluster\": [1, 1, 1, 1, 1, 1, 1, 1, 1, 1, 1, 1, 1, 1, 1, 1, 1, 1, 1, 1, 1, 1, 1, 1, 1, 1, 1], \"Freq\": [34.14019496295539, 6.221341040879059, 4.443006293020205, 4.007154093889242, 3.9293999233504198, 3.2792905889515604, 3.180639570451455, 3.0427046159051794, 2.9960047116628865, 2.924998595591928, 2.839867567342936, 2.726827205413051, 2.6930583836954853, 2.392080084205767, 2.2242665039434417, 2.1680753167959645, 2.1534226466276074, 2.0830928666274793, 1.9647313788376908, 1.665497418593373, 1.5584360433990407, 1.5458900964519657, 1.5115153434718465, 1.1524720409476017, 1.090546905112012, 1.0405187967856226, 1.024967005091787]}, \"tinfo\": {\"Term\": [\"default\", \"framework\", \"regex\", \"object\", \"match\", \"thing\", \"use\", \"run\", \"specifically\", \"int\", \"apple\", \"transaction\", \"format\", \"option\", \"matching\", \"size\", \"ampmhour\", \"design\", \"developer\", \"mysqldump\", \"writing\", \"net\", \"bump\", \"pfj\", \"hopefully\", \"say\", \"remove\", \"else\", \"sequence\", \"functionality\", \"use\", \"unix\", \"really\", \"uncheck\", \"definitely\", \"vmware\", \"wonder\", \"job\", \"sql\", \"open\", \"new\", \"code\", \"solution\", \"try\", \"part\", \"input\", \"clear\", \"performance\", \"first_occurrence\", \"loadxmlfrom\", \"loaddataobject\", \"practice\", \"complete\", \"exactly\", \"wide\", \"complicated\", \"normal\", \"accessor\", \"library\", \"sized\", \"duplicate\", \"stop\", \"catch_exception\", \"version\", \"autolayout\", \"add\", \"functionality\", \"hopefully\", \"problem\", \"int\", \"remove\", \"lose\", \"long\", \"com\", \"static\", \"basis\", \"slow\", \"contain\", \"eclipse\", \"place\", \"specific\", \"google_chrome\", \"figure\", \"ui\", \"oracle\", \"split\", \"config\", \"collection\", \"arterywindow\", \"tangle\", \"gobbledy\", \"trace\", \"tagging\", \"saxexception\", \"message\", \"pm\", \"handler\", \"embed\", \"firstrow\", \"boil\", \"layout_height\", \"lazily\", \"object\", \"mysqldump\", \"bump\", \"change\", \"eye\", \"hashtable\", \"exit\", \"comparison\", \"invalidate\", \"mongodb\", \"wait\", \"bar\", \"api\", \"photo\", \"reified\", \"unicode_character\", \"ease\", \"nuance\", \"beanpublic\", \"flexibility\", \"exist\", \"class\", \"industry\", \"want\", \"power\", \"speed\", \"cache\", \"blue\", \"facet\", \"configuration\", \"intercept\", \"hopefully\", \"lazily\", \"thing\", \"handle\", \"overload\", \"fulfill\", \"purpose\", \"quite\", \"artery\", \"caller\", \"master\", \"program\", \"factory\", \"test\", \"kokosnumber\", \"circumstance\", \"smart\", \"metadata\", \"isession\", \"experience\", \"mvc\", \"redesign\", \"identity\", \"redirect\", \"arena\", \"gui\", \"true\", \"eventargs\", \"special\", \"send\", \"differently\", \"composition\", \"format\", \"obfuscation\", \"beginner\", \"framework\", \"bound\", \"lets_say\", \"preferably\", \"sql_server\", \"suspect\", \"team\", \"understanding\", \"database\", \"catch\", \"project\", \"rss_feed\", \"structwe\", \"memory\", \"access\", \"attr\", \"willjavascript\", \"lassev\", \"strategy\", \"look\", \"outdated\", \"member\", \"programmer\", \"optimization\", \"diagram\", \"ternary_operator\", \"tricksnice\", \"obfuscator\", \"downside\", \"hashbyte\", \"ever\", \"branchbhowever\", \"development\", \"problem\", \"idea\", \"writing\", \"say\", \"psql\", \"already\", \"function\", \"find\", \"retain\", \"map\", \"website\", \"refactor\", \"often\", \"fireload\", \"script\", \"garbage\", \"critical\", \"mistaken\", \"readingideally\", \"testing\", \"command\", \"screen\", \"differ\", \"load\", \"hope\", \"select\", \"random\", \"bottom\", \"partial\", \"bg\", \"soap\", \"certain\", \"plain\", \"matching\", \"suggest\", \"minute\", \"toy\", \"overall\", \"omit\", \"exam\", \"explain\", \"doc\", \"execute\", \"cover\", \"batch\", \"rewriting\", \"replace\", \"postgre\", \"wire\", \"hqchannel\", \"umlaut\", \"enable\", \"rather\", \"setter\", \"quickly\", \"various\", \"entityname\", \"hqdata\", \"hand\", \"authenticated\", \"dump\", \"spring\", \"username_password\", \"drop\", \"notmyself\", \"builder\", \"match\", \"specifically\", \"else\", \"partyaop\", \"question\", \"well\", \"lambdas\", \"multithreade\", \"bean\", \"unit_test\", \"layout_width\", \"title\", \"lfoust\", \"kokosreadonly\", \"fine\", \"bucket\", \"gray\", \"multi_threade\", \"expect\", \"nightmare\", \"extension\", \"flv\", \"edge\", \"iphone\", \"authorizeurl\", \"graph\", \"ethis\", \"documentation\", \"lazily\", \"take_screenshot\", \"somevariable\", \"trial\", \"add\", \"regex\", \"developer\", \"mbiek\", \"db\", \"specify\", \"thanksuse\", \"working\", \"write\", \"contrast\", \"put\", \"stone\", \"linkelement\", \"build\", \"keep\", \"instead\", \"module\", \"matter\", \"substitute\", \"tar\", \"settle\", \"length\", \"parsing\", \"stored_procedure\", \"optparse\", \"rtmhow\", \"year\", \"getopt\", \"loc\", \"performance_wise\", \"dll\", \"none\", \"hopefully\", \"actual\", \"delete\", \"standing\", \"tired\", \"level\", \"hashmap\", \"feature\", \"mail\", \"show\", \"ip\", \"double\", \"computer\", \"typing\", \"running\", \"hello_world\", \"fire\", \"implementation\", \"efficient\", \"io_ioexception\", \"debug\", \"require\", \"card\", \"reflection\", \"slightly\", \"granularity\", \"scale\", \"hierarchy\", \"query\", \"network\", \"affiliate\", \"builder\", \"even\", \"good\", \"format\", \"intercept\", \"default\", \"pfj\", \"cause\", \"like\", \"bash\", \"php\", \"need\", \"search\", \"integ\", \"approach\", \"engine\", \"together\", \"callback\", \"init_py\", \"usually\", \"byte\", \"someone_explain\", \"callbacks\", \"source\", \"kindly\", \"backwards\", \"xpoylelp\", \"inif\", \"strange\", \"djvrv\", \"kjm\", \"mtest\", \"xro\", \"unaware\", \"truethanksrail\", \"position_ordinal\", \"utf\", \"grayed\", \"sum\", \"idiomc\", \"char\", \"mydict\", \"intention\", \"apple\", \"url\", \"always\", \"know\", \"overlap\", \"interested\", \"rename\", \"oruse\", \"suppose\", \"android\", \"page\", \"apologize\", \"tell\", \"rowtomap\", \"expert\", \"autocomplete\", \"bug\", \"drawable\", \"serialize\", \"registry\", \"deannullable\", \"actively\", \"major_browser\", \"account\", \"abstraction\", \"one\", \"full\", \"big\", \"str\", \"combine\", \"functionality\", \"autolayout\", \"processworke\", \"window\", \"problematic\", \"invariably\", \"top\", \"xml_sax\", \"comma_separate\", \"time\", \"void\", \"conditional\", \"make\", \"velocity\", \"datum\", \"cool\", \"param\", \"xcode\", \"inheritance\", \"java\", \"undirected\", \"instal\", \"serve\", \"valueof\", \"concern\", \"boolean\", \"probably\", \"begin\", \"readable\", \"thread\", \"attempt\", \"customize\", \"good\", \"net\", \"concatenate_string\", \"lambda\", \"fast\", \"composite\", \"diagramauto\", \"parenthese\", \"finish\", \"compressed\", \"methodinfo\", \"speak\", \"feel\", \"memory_leak\", \"idiom\", \"blog_post\", \"end\", \"potentially\", \"number\", \"subcategoryid\", \"consecutive\", \"due\", \"kokosa\", \"start\", \"go\", \"different\", \"addition\", \"name\", \"hit\", \"string\", \"lightweight\", \"python\", \"call\", \"run\", \"symbol\", \"column\", \"appreciate\", \"remember\", \"inputstream\", \"element\", \"objective\", \"machine\", \"realize\", \"bool\", \"ordner\", \"newbie\", \"unanswered\", \"balanced\", \"wrapper\", \"portion\", \"real\", \"tds\", \"manual\", \"establish\", \"ahead\", \"index\", \"alter\", \"loop\", \"absolutely\", \"capword\", \"physical\", \"problem\", \"grayed\", \"sum\", \"utf\", \"design\", \"general\", \"first\", \"target\", \"catch_sqlexception\", \"leave\", \"simply\", \"jquery\", \"basic\", \"loadevent\", \"incompatible\", \"example\", \"disable\", \"def\", \"naturally\", \"paragraph\", \"position\", \"mean\", \"structure\", \"friend\", \"moment\", \"programming\", \"web\", \"loadtype\", \"apart\", \"maintain\", \"hexadecimal\", \"procs\", \"port\", \"portadvantage\", \"boil\", \"automatic\", \"ampmhour\", \"less\", \"comment\", \"determine_whether\", \"complexity\", \"backup\", \"complex\", \"generator\", \"square_bracket\", \"discussion\", \"related\", \"set\", \"correctly\", \"margin\", \"debugger\", \"nicely\", \"orthogonality\", \"nested\", \"tableview\", \"obvious\", \"old\", \"method\", \"unit\", \"lock\", \"debate\", \"decryption\", \"numberofbucket\", \"cite\", \"proc\", \"conclusion\", \"automatic\", \"transaction\", \"option\", \"behave\", \"insert\", \"buildpath\", \"return\", \"entry\", \"day\", \"line\", \"frame\", \"modify\", \"keywordsyield\", \"advantages_disadvantage\", \"tool\", \"see\", \"acquisition\", \"feasible\", \"parameter\", \"orphan\", \"simple\", \"editi\", \"correct\", \"seem\", \"enter\", \"come\", \"information\", \"bullet\", \"logend\", \"second\", \"gvptjerdqgxflsh\", \"utf\", \"dualhow\", \"classmanifest\", \"rounded_corner\", \"helper\", \"improve\", \"medium\", \"restriction\", \"width\", \"response\", \"healthy\", \"procedure\", \"effort\", \"hafter\", \"install\", \"hard\", \"base\", \"gripe\", \"entityclass\", \"impact\", \"learn\", \"statement\", \"incredibly\", \"runtime\", \"situation\", \"convince\", \"ignore\", \"control\", \"sandboxe\", \"flag\", \"havoc\", \"size\", \"copy\", \"spit\", \"inversion\", \"swing\", \"getter\", \"goughpass\", \"flash\", \"throw\", \"generics\", \"explicit\", \"getbyte\", \"preference\", \"exithow\", \"principle\", \"last\", \"dependency\", \"mapping\", \"event_handler\", \"entity\", \"die\", \"silver\", \"underlie\", \"enterprise\", \"directive\", \"active\", \"struggle\", \"documentbuilder\", \"designer\", \"google\", \"server\", \"fully\", \"crash\", \"terribly\", \"modern\", \"arrive\", \"unchecked\", \"fall\", \"assignment\", \"studio\", \"swangrena\", \"reccommend\", \"hundred\", \"stumuse\", \"chriseasi\", \"wrong\", \"original\", \"inherit\", \"execution\", \"python\", \"obfuscation\", \"parser\", \"extremely\", \"addon\", \"already_exist\", \"qznrp\", \"idiomc\", \"backwards\", \"aka\", \"cyboherim\", \"utf\", \"mydict\", \"position_ordinal\", \"sum\", \"char\", \"sequence\", \"console\", \"distract\", \"color\", \"light\", \"oo\", \"rectangle\", \"apply\", \"mimic\", \"padding\", \"someone_explain\", \"none\", \"direct\", \"utf\", \"gedit\", \"initiate\", \"listgood\", \"greatly_appreciate\", \"reset_head\", \"price\", \"pity\", \"painting\", \"good_practice\", \"rearrange\", \"glance\", \"bakdgw\", \"underline\", \"seeing\", \"encoding\", \"iso\", \"immediately\", \"findfirstindex\", \"intention\", \"sum\", \"position_ordinal\", \"char\", \"backwards\", \"additional\", \"expression\", \"admit\", \"license\", \"clause\", \"analysis\", \"building\", \"dual\", \"join\", \"nhibernate\", \"battle\", \"large\", \"subversion\", \"pzycomanuse\", \"json\", \"requirejs\", \"svn\", \"logger_setlevel\", \"anti\", \"putty\", \"levelname\", \"persistence\", \"order\", \"paradigm\", \"unknown\", \"fix\", \"anyrequ\", \"detect\", \"import\", \"interfere\", \"readonly\", \"meaning\", \"initial\", \"dom\", \"revert\", \"inverse\", \"vwdtempjquery\", \"keithauto\", \"gravity_center\", \"hlumimplicit\", \"inline\", \"keithnamespace\", \"obfuscate\", \"focusable\", \"suddenly\", \"initializer\", \"jasonschecke\", \"basically\", \"himadrisnippet\", \"keithone\", \"character\", \"johnaccess\", \"persist\", \"hasvalue\", \"instantiate\", \"https_stackoverflow\", \"isseen\", \"weakly_type\", \"absolutely_positione\", \"intention\", \"utf\", \"idiomc\", \"position_ordinal\", \"unit_teste\", \"object_sender\", \"session\", \"notify\", \"public\", \"groovy\", \"selection\", \"piece\", \"curious\", \"include\", \"ipv\", \"rvm\", \"zealot\", \"dive\", \"nullable\", \"value\", \"kind\", \"small\", \"ch\", \"scheduler\", \"system\", \"actually\", \"dynamically_allocate\", \"patchwhat\", \"pop\", \"chch\", \"notifyall\", \"leak\", \"confused\", \"throrough\", \"float\", \"image\", \"baked\", \"convert\", \"rail\", \"constructor\", \"lomaxxformat\", \"literal\", \"completely\", \"wise\", \"cstr\", \"review\", \"suggestion\", \"vim\", \"nest\", \"report\", \"help\", \"assign\", \"afterward\", \"edit\", \"unclear\", \"deprecate\", \"fact\", \"linq\", \"merging\", \"theory\", \"arc\", \"submit\", \"trycast\", \"directcast\", \"findfirstindex\", \"utf\", \"least\", \"way\", \"mysql\", \"odometer\", \"high\", \"monitor\", \"reference\", \"cycle\", \"connection\", \"django\", \"cast\", \"efficiency\", \"persister\", \"determine\", \"couple\", \"describe\", \"evaluate\", \"arbitrary\", \"mydict\", \"https_stackoverflow\", \"pdo\", \"publish\", \"grayed\", \"gmexc\", \"heck\", \"bafhely\", \"somepath\", \"addon\", \"already_exist\", \"utf\", \"idiomc\", \"intention\", \"sum\", \"position_ordinal\", \"findfirstindex\"], \"Freq\": [22207.0, 18561.0, 16789.0, 17020.0, 14268.0, 14811.0, 43256.0, 11550.0, 11606.0, 14489.0, 10729.0, 9876.0, 12932.0, 9526.0, 10657.0, 8643.0, 8976.0, 8048.0, 8668.0, 9404.0, 8562.0, 7766.0, 9087.0, 7723.0, 15152.0, 7796.0, 9562.0, 7213.0, 6031.0, 10320.0, 43255.14113818837, 21681.3169413375, 16264.938648562707, 14678.489453065837, 13078.721672847192, 12925.051447408381, 9658.624437316399, 8259.085261692035, 7373.827596073, 6919.581952262849, 6677.276948598433, 6392.105707871784, 6064.571226023136, 5830.698560803938, 5811.118523715819, 5308.060658314169, 4983.156243507253, 4830.554811416478, 4672.875807647954, 4410.068607671658, 4388.827398741432, 4049.8782389877606, 3974.7662232784824, 3939.092068701982, 3834.6468019415183, 3737.490886916554, 3514.074519997323, 3400.1138085509992, 3371.444500456928, 3344.547946347339, 10536.910847935656, 14815.575417469394, 11310.294271330835, 8057.849496817891, 10816.538033525469, 4354.129441860786, 8330.660824527673, 11043.2986516176, 4187.431855249804, 14488.953087679327, 9561.987574536925, 5486.814142804883, 4958.331095706404, 4683.912801790387, 3965.7394562516693, 3721.1009427427866, 3577.6007517019443, 3546.676119227479, 3141.7370246415376, 2804.1168071967595, 2553.8117337250874, 2548.4319722995297, 2336.4380308224654, 2165.6834620842887, 2030.5706910710317, 1992.4545905984014, 1869.796157845586, 1847.5255168676106, 1736.8537512638572, 1589.5815313547205, 1384.8973329964101, 899.968167544743, 894.9472768946146, 886.1606916423264, 841.3356984385201, 800.0356444946509, 760.3977232760208, 700.6758136238597, 697.0641641157509, 1300.1866902160905, 755.608166412605, 786.7632277786207, 17019.597570198664, 9403.296008694111, 9086.828281742168, 6679.994620427488, 6677.396903536576, 4017.7797217605607, 2211.248722282601, 1801.0364724437109, 1774.4270565881843, 1676.6402891549956, 1113.8650112761036, 921.9378443506365, 900.1907846107234, 825.6622809282374, 822.429656118922, 683.7884534265949, 676.1795940715706, 674.0023867839025, 650.7491408661077, 482.27616125806895, 354.16415865933044, 339.7199084809399, 309.4888337101863, 261.1124578456004, 236.26903406954386, 233.78634719665897, 228.65015805564641, 223.19930897602868, 199.88915627139113, 195.38046234107694, 1894.3488534783994, 3889.580781405303, 354.7486981792256, 14810.9288300804, 7322.648840928412, 4229.238103204207, 2833.515915607917, 2635.7651389087, 2456.0528197262406, 2191.349899927699, 2131.293660532153, 2065.46262977032, 1630.5804798447718, 1446.661692316398, 1411.9842820417919, 972.7133373051682, 971.8007450054946, 885.9111974325623, 815.5959230294521, 798.9383879203224, 792.3495387148497, 766.5463325751492, 664.9268589268224, 611.632675450174, 574.9973984738938, 532.8578370531251, 451.82229448415575, 428.73584867274576, 379.36463268822865, 353.7861975725217, 339.0014000539348, 288.1411274626319, 284.18354948411843, 11922.751453931029, 363.9717945792627, 437.423989301365, 18560.329339440825, 6870.518324685587, 5874.116302011092, 3985.346665274588, 3540.9656716314385, 3248.544391327303, 3139.3828707332145, 2189.752465178623, 1879.4246191969364, 1359.4928884964422, 1081.84765821598, 995.6239996358976, 967.0007398145627, 869.5143387719297, 849.5984685863498, 756.5925415889103, 675.8487310426717, 597.9650679333718, 580.1445009997814, 530.5464232066018, 509.60720831132244, 500.28105132506266, 451.69223166076966, 437.6393712310496, 364.43618471886685, 357.06164113640006, 353.3102064824424, 332.81255042343207, 296.9058223118074, 246.83681902760927, 1398.1121743319538, 688.3276934276275, 749.0329897624973, 905.4445333117343, 511.350548760137, 8561.0956726271, 7795.714302075467, 5542.147192913655, 3027.541183571571, 2632.991256136407, 2267.6428747681834, 1992.3311347955648, 1915.5191140026739, 1656.1559055483515, 1523.1229739838066, 1333.7087563561745, 1145.4394993465955, 1135.6488627657577, 1012.7438160331043, 944.2735549754265, 906.9369750562822, 798.8560932518482, 782.023814195142, 609.846012380304, 600.6868324665388, 535.0038356148654, 486.0773632210756, 470.9525367073079, 468.0339084154939, 457.7911571659806, 422.52295836727524, 411.7390667668409, 401.2594280810842, 395.49178155659627, 363.79092293095374, 413.0138202642095, 10656.09005773031, 6732.469226214992, 4121.5653762644115, 2311.868321049393, 2128.79699364703, 1768.8704894161092, 1745.7560231648354, 1699.2499513185953, 1662.6587408707207, 1640.1636473082178, 1524.3270213438816, 1521.3537058792458, 1349.368278783121, 1333.6135710965536, 1249.7109954541916, 897.4990556366675, 827.252885811788, 589.2551747284093, 588.0162116451772, 571.7789592961632, 513.9301488556084, 512.4227546562939, 466.9945981089211, 451.1846476034518, 442.944215095248, 431.80173852275516, 412.8230000560139, 394.67238682178527, 391.6477744538835, 380.60364642696265, 921.4813511957138, 697.7526697421908, 445.7544689978839, 14267.433480803049, 11605.844802282747, 7212.7231040690185, 4042.939626330236, 3126.446147624479, 2858.7965645870845, 1008.972885315441, 916.6912257884505, 859.4811412117264, 784.29601342971, 650.9333606961594, 427.8734538973505, 351.95474066993904, 343.9458015894691, 334.10226108567394, 306.244185232768, 277.23789547395364, 225.55098375982274, 206.40339875910433, 187.7093746520442, 99.71248256409878, 93.14777274505826, 88.34317076362314, 80.47715315287242, 71.51271636138729, 61.95912551139279, 18.70547376988363, 10.859635844107787, 1781.5802134309201, 470.28494445808394, 476.3249255204708, 89.61116926198073, 84.39130751845832, 16788.343118780962, 8667.306499268481, 5187.840056395574, 3871.121641648659, 2953.312089620307, 2421.7439421776626, 2396.75066913622, 1233.474664366243, 1052.8172750503268, 1023.1980789278613, 843.9854446694226, 652.8010453383463, 586.603723078621, 480.20200664712496, 430.7669395803593, 381.63919248776233, 350.8340370755405, 214.3941963092311, 211.40148574252865, 140.23755843358575, 126.73631960177534, 107.63648189614742, 96.83607783773957, 68.12885739139273, 60.61967876824862, 50.027361015646754, 48.95838979387849, 39.768288313439704, 38.93143800343121, 31.351600650718662, 1696.104602439481, 147.9319775099228, 5884.82466893208, 4079.2386483146524, 3590.5117979353054, 3461.0518312288905, 3282.903130407498, 2727.420794402897, 1857.6334407179597, 1579.7197936994125, 1423.0065407636498, 1371.483264673024, 1121.2533506452066, 980.7533254444302, 968.529438252371, 929.6004337763887, 917.9042943345632, 864.9322145282446, 828.7094688826289, 757.2414921553263, 696.503752358088, 612.2027061674729, 581.7579074622239, 377.618781136649, 342.33736249583654, 336.3165134469831, 333.0939937886778, 312.35997391630434, 275.0799309000574, 270.59530129582146, 247.82894706036342, 247.67708944710384, 4630.257751923214, 626.2150996530735, 755.5411273439702, 1009.2077583458293, 370.2439517894793, 22206.17066119296, 7722.654357574059, 5429.629347337742, 3140.8257053772018, 2539.915087886201, 2125.7430144227696, 1759.1697499643876, 1501.2819942601259, 840.6103542149157, 597.0501658034289, 427.01175276675394, 374.5304863158798, 148.78839803479192, 148.72813998048008, 130.0467338828521, 68.49186792794237, 429.91089410723134, 108.63562577609504, 104.11905377819605, 0.036026401131092296, 0.03602640409710823, 0.036026401131092296, 0.036026401131092296, 0.036026395199060424, 0.036026395199060424, 0.036026395199060424, 0.036026395199060424, 0.036026395199060424, 0.036026395199060424, 0.036026395199060424, 0.036026412995156035, 0.03602646045141101, 0.036026398165076357, 0.036026401131092296, 0.036026398165076357, 0.036026398165076357, 0.036026398165076357, 0.036026398165076357, 10728.437370787648, 5062.552719497812, 4969.727425995297, 4676.803469784954, 2950.8198470405746, 2109.439583396906, 2053.4504437347214, 1266.5177375123478, 999.9586731457705, 812.056978518322, 718.9288558874285, 678.9346468486708, 608.5905199445687, 603.6997128690471, 548.9781627448492, 483.25150346572286, 440.9119784824821, 430.2749770307553, 423.94057556790267, 361.03333013139365, 341.1943360128639, 339.00916021762515, 335.2319617673554, 312.30065763404775, 299.6584747418927, 271.0447616589582, 244.35585664609252, 240.1078732203565, 227.20499597685298, 218.93150821384157, 1988.5653134741326, 540.3288215721168, 6520.74542586234, 4624.010723407876, 2009.9430304622367, 1762.316011133025, 1689.5390971764923, 1660.8361849116952, 1586.1750277052681, 1541.6174306147752, 1526.321364373388, 1162.6296981869882, 1124.837459711014, 1032.820693137484, 1001.3530751024331, 877.2526524444346, 830.7616875857441, 827.3620497205713, 799.7485404695557, 763.5820194013727, 747.0968264523874, 702.2412564394277, 698.9273791076157, 687.225697649178, 687.1852828250203, 642.6524323258302, 611.2597913932927, 591.4695229727167, 580.9069220428175, 578.0274695084216, 568.6826589356369, 544.8532583342263, 1896.1936875905985, 7765.751098855991, 5446.659314769821, 3083.977086673018, 2500.5850295964146, 2499.8303932024237, 1820.0795042848156, 1418.0989909261812, 1181.1956390134567, 1093.6063238963304, 1069.823898177872, 971.3720923675927, 906.4852329852484, 789.8540416037804, 744.8355354043007, 629.0241453733887, 552.7899058032497, 541.9606934453275, 534.40675694451, 465.58932912362235, 442.3411578103695, 419.74434953343575, 407.67114961585963, 377.5962532454672, 333.52642519663476, 270.620220285566, 201.7286018341669, 198.58445407904466, 197.58999263447905, 195.0931965050331, 175.45533570308424, 2062.368543380387, 263.0346018272227, 11549.462182173002, 5449.86041723045, 3905.026883669394, 3543.3178674893416, 2657.006241694586, 2349.995848756076, 1323.85341587425, 1159.8596262119802, 944.2087576567966, 868.9443131723821, 864.1912340571465, 471.04856192691983, 451.061879471823, 424.99134709603663, 419.9262424956417, 286.12424887505915, 245.06446588138311, 200.09610504896773, 156.0427633288169, 136.66400342255352, 122.64900461530353, 84.66659104806821, 82.60471271174633, 77.43985453811196, 65.30952600964343, 42.726134391892245, 14.774769968602655, 11.944438955557832, 444.4829298303536, 0.03814233040476137, 0.038142335050900485, 0.03814238383536121, 8047.092389625842, 4599.281856806208, 4234.771363319375, 3032.793776493622, 2375.9835290041915, 2159.940007640537, 1976.8228620583934, 1880.9177696328713, 1836.3959755384135, 1676.66792705884, 865.4701242817575, 621.1712944226078, 553.1017280648864, 486.0173055502931, 434.3085320766604, 350.5319055929944, 350.35905836978384, 312.74013461064015, 276.13124855312935, 221.80053221494194, 215.50214486554353, 171.76254103306465, 139.71691998235923, 112.0589156924213, 111.36717435299809, 100.78334265165853, 67.20063249974127, 56.022357902587146, 12.128850850622069, 5.194992461235252, 157.22003860975576, 27.522873488340675, 8975.231616097997, 3695.002898941859, 3331.0683563599, 2755.7006826969337, 2741.098492723053, 2272.679759437789, 1850.973353464497, 1633.134555830466, 1304.3243911583859, 1107.7541929153908, 1093.0400559628167, 909.4908611052501, 733.1577876556686, 679.2198319177714, 609.9197880510861, 499.87546580894184, 359.4388654122787, 343.77159463782374, 281.7066309416442, 240.69014969205577, 196.29589498118116, 179.6134368258857, 150.70408764998223, 139.81034401429548, 124.72457662496569, 113.8024316944048, 75.21357484566794, 63.693349128059715, 53.81574173256215, 46.67566264975979, 371.2960329270551, 9875.186081713493, 9525.473531140215, 4976.863478008498, 2480.6416422653188, 1415.0667381413148, 1156.6408726516684, 937.2520379816547, 629.2027315641669, 581.0384366664529, 539.0580193977736, 532.6491121146971, 530.8263826105918, 449.123579673831, 418.30799104593325, 273.14406314795, 232.22930191241315, 170.2623268020479, 157.20461843394654, 149.57202106558236, 120.58521275499659, 103.86503359310065, 83.26501775267302, 79.57441379644345, 71.76153962223178, 69.45646940968824, 60.56815452943161, 49.02269498364941, 48.950931804336996, 15.345235455241491, 0.03855698172302612, 0.03855702088427461, 4489.4716836837215, 3482.32327970668, 2536.2232605450645, 2363.3518591912734, 2273.4039378547036, 1825.2014404164106, 1703.6524088391964, 1455.0063630177358, 1272.9717464666062, 1164.9974201705825, 1049.5178856655084, 828.4073432009278, 721.6974002047571, 706.3222733517273, 682.7988537395624, 587.0296858702619, 549.5452328419722, 535.6748727336462, 504.83656808464076, 447.7473154159383, 421.4257988856481, 405.5899426999981, 403.6430721371422, 361.20329089858006, 346.9167816601334, 294.6592026128696, 285.97282075795306, 246.45316045333252, 202.90638823618585, 166.89409049224938, 8642.593149073724, 4154.89518666442, 2708.158191936583, 2069.5650503324923, 1515.475491970494, 1234.8050462457393, 1156.745800431322, 932.6842933671957, 704.428666043002, 683.4299641027235, 644.9428602441318, 605.8134316157499, 542.7579325559295, 387.6070035295614, 337.11856094603945, 320.05366360129443, 262.57654056485126, 235.65190955444834, 142.08071149715275, 129.1967248317315, 126.6619245605322, 95.62052842389832, 84.06611384745759, 81.748067548955, 79.87446593071176, 71.55466015871183, 61.999202844312435, 60.89633822549293, 57.48703734690957, 28.53960912993033, 4692.535732542214, 4559.9298011848505, 4122.337139953571, 2933.157404413051, 2527.8882496458837, 1516.2717919074237, 1394.668175323338, 1343.827951128855, 1033.8907502941067, 348.2416152327277, 311.17993875867285, 300.35421698838354, 173.58004154650814, 155.16847425569975, 82.30881998360597, 59.35216294408759, 21.156490781213723, 16.20375140565636, 12.711005249345607, 538.7433306112827, 53.54853803796678, 13.825724413171628, 0.03675384805909367, 0.0367538415484434, 0.0367538415484434, 0.0367538415484434, 0.03675384805909367, 0.03675384480376853, 0.036753838293118256, 0.036753838293118256, 0.03675392618689697, 0.03675384480376853, 0.03675384480376853, 0.0367538415484434, 0.0367538415484434, 6030.403080164651, 5550.082870338513, 4805.049571588944, 4278.581044054338, 3368.1461882314948, 210.2892863803709, 174.38106045225084, 168.85661524227325, 105.77072476017999, 78.80068271880282, 1136.9206953826726, 219.52062174787048, 71.37722724096449, 0.03344577723541058, 0.033445648070664635, 0.033445648070664635, 0.03344565129978328, 0.033445648070664635, 0.033445641612427336, 0.03344563838330869, 0.03344563838330869, 0.03344563838330869, 0.03344563515419004, 0.03344563515419004, 0.03344563515419004, 0.03344563515419004, 0.03344563515419004, 0.03344563838330869, 0.03344563192507139, 0.03344563192507139, 0.03344563838330869, 0.03344563838330869, 0.033445641612427336, 0.03344563838330869, 0.033445641612427336, 0.03344563515419004, 0.03344563515419004, 4618.1477560337735, 3496.3651825361912, 2603.1936850322045, 2210.507129594417, 2137.4562443060436, 1489.4784232094698, 1027.4937473902257, 783.3616628199883, 735.1542095044468, 693.7331431452973, 689.8522961124256, 670.6724633157544, 491.8044811833783, 399.82731501286, 363.9143232290299, 352.23176939841744, 352.074098025271, 303.77394552971697, 264.6734624380705, 195.8423814242161, 181.319156404311, 164.32440157266348, 155.43320783014553, 153.2920223061043, 130.8146567224415, 102.52010721626873, 77.54580619319405, 74.91856426134257, 66.90423001268412, 63.39542767291975, 3456.630047758918, 3216.1312291503427, 3120.028507437648, 1734.2683554460978, 1549.3211330901333, 1458.8787699291242, 830.1477939284796, 693.2684979466711, 556.0666871098183, 513.218555397065, 319.89718769703006, 208.50110106027336, 181.46939049637956, 181.38293427010376, 144.4921867595958, 130.7583963141968, 108.56899367464835, 103.97611511844546, 90.41299880860852, 78.5055862828589, 64.50287733482449, 50.73232721657463, 44.24144459705589, 42.127650013218464, 24.100718279674542, 0.034483652245097474, 0.03448364261577397, 0.03448364261577397, 0.03448364261577397, 0.034483657059759226, 0.03448372205769287, 0.0344836498377666, 0.034483652245097474, 3617.056256976936, 2371.298413540904, 1722.5876069965377, 1319.985547715995, 1314.6415757960954, 927.7886776988661, 909.6831288525822, 540.4449525908072, 474.05376004453933, 416.2998688559009, 376.90789414622736, 366.2536897648565, 365.32936296459786, 318.23344572071665, 313.8251839360543, 216.19869870598387, 189.5194085659015, 183.12910288821908, 177.7648835610216, 175.50960230610647, 160.24417687576707, 147.97875473420623, 134.35474089355733, 105.66134691046611, 97.19535541366135, 88.61378574441447, 69.85521135976045, 57.90428650409071, 49.418808044086994, 31.987978386849623, 334.01433095233085, 5188.257832816967, 3337.25541005553, 1589.4197831720944, 1104.8952783590228, 698.7067423491743, 598.2375668066741, 590.7015791904422, 489.27370397964256, 329.10430378044526, 325.00830378242125, 315.70245017502424, 196.7762228170103, 185.11854239350265, 156.96192983394846, 150.31545113289573, 140.75364871538426, 127.26488824789938, 126.72405728391834, 125.8798802414733, 125.70367172673953, 110.46463981873511, 107.68159044734355, 99.5337827954141, 97.58728986885167, 73.97552694587284, 70.04507908951453, 45.81787278594357, 44.8699496753709, 21.09608435555835, 0.038604126982063364, 0.03860414871684684, 4507.340136759208, 3156.8684809882775, 3065.436610007769, 1681.3437836547675, 1029.715891825364, 497.12898268204975, 483.1814312343328, 454.950456188422, 341.89441706056505, 315.18495162582263, 258.9484480416893, 251.96869151348028, 141.1539018141832, 101.21921175392973, 101.17185641156483, 90.33074526692226, 60.283342061003914, 17.164897524134496, 0.03453474152964495, 0.03453472226070681, 0.03453472011971368, 0.03453472011971368, 0.03453472226070681, 0.03453471583772743, 0.03453472011971368, 0.03453471583772743, 0.03453471583772743, 0.03453471583772743, 0.03453471583772743, 0.034534805759438736, 0.03453472011971368, 0.03453472226070681, 0.03453472011971368, 0.03453472226070681, 0.03453471583772743], \"Total\": [22207.0, 18561.0, 16789.0, 17020.0, 14268.0, 14811.0, 43256.0, 11550.0, 11606.0, 14489.0, 10729.0, 9876.0, 12932.0, 9526.0, 10657.0, 8643.0, 8976.0, 8048.0, 8668.0, 9404.0, 8562.0, 7766.0, 9087.0, 7723.0, 15152.0, 7796.0, 9562.0, 7213.0, 6031.0, 10320.0, 43256.11762122609, 21682.29342439473, 16265.915131600446, 14679.465936103576, 13079.698155884931, 12926.02793044612, 9659.600920354138, 8260.061744729774, 7374.804079110738, 6920.558435300587, 6678.253431636171, 6393.082190909522, 6065.547709060874, 5831.675043841676, 5812.095175684281, 5309.037141351907, 4984.132726544991, 4831.531294454216, 4673.852290685692, 4411.045090709396, 4389.80388177917, 4050.8547220254995, 3975.7427063162213, 3940.068551739721, 3835.6232849792573, 3738.4673699542927, 3515.051003035062, 3401.090291588738, 3372.420983494667, 3345.524429385078, 10542.634714323241, 14905.891219335266, 11362.359708558997, 8160.455788372754, 11357.806709701288, 4439.4595650371175, 10320.165994111658, 15152.05010922114, 5538.261547772195, 14489.929941233064, 9562.964428090661, 5487.790996358619, 4959.30794926014, 4684.889655344123, 3966.716309805406, 3722.0777962965235, 3578.577605255681, 3547.652972781216, 3142.7138781952744, 2805.0936607504964, 2554.7885872788243, 2549.4088258532665, 2337.4148843762023, 2166.6603156380256, 2031.5475446247685, 1993.4314441521383, 1870.773011399323, 1848.5023704213475, 1737.8306048175941, 1590.5583849084574, 1385.874186550147, 900.9450210984801, 895.9241304483517, 887.1375451960635, 842.3125519922572, 801.012498048388, 761.3745768297579, 701.6526671775968, 698.041017669488, 1458.3476814649975, 780.3235798701073, 2923.994350142361, 17020.578860044014, 9404.277298539459, 9087.809571587515, 6680.975910272835, 6678.378193381923, 4018.7610116059086, 2212.230012127949, 1802.0177622890587, 1775.4083464335322, 1677.6215790003434, 1114.8463011214515, 922.9191341959846, 901.1720744560715, 826.6435707735855, 823.4109459642701, 684.769743271943, 677.1608839169187, 674.9836766292506, 651.7304307114558, 483.25745110341677, 355.14544850467826, 340.70119832628774, 310.47012355553414, 262.0937476909482, 237.2503239148917, 234.7676370420068, 229.63144790099426, 224.18059882137652, 200.87044611673898, 196.36175218642478, 2265.5363456882865, 15152.05010922114, 2923.994350142361, 14811.908422192615, 7323.628433040628, 4230.217695316423, 2834.4955077201344, 2636.7447310209172, 2457.032411838458, 2192.329492039916, 2132.27325264437, 2066.442221882537, 1631.560071956989, 1447.6412844286153, 1412.963874154009, 973.6929294173856, 972.780337117712, 886.8907895447796, 816.5755151416695, 799.9179800325397, 793.329130827067, 767.5259246873666, 665.9064510390398, 612.6122675623914, 575.9769905861111, 533.8374291653424, 452.8018865963728, 429.7154407849628, 380.3442248004457, 354.76578968473876, 339.98099216615185, 289.120719574849, 285.1631415963355, 12932.901054964133, 418.4631709041747, 1864.2372814089836, 18561.31149335619, 6871.5004786009495, 5875.098455926454, 3986.328819189951, 3541.9478255468016, 3249.526545242666, 3140.3650246485777, 2190.734619093986, 1880.4067731123, 1360.4750424118058, 1082.8298121313435, 996.6061535512613, 967.9828937299264, 870.4964926872934, 850.5806225017135, 757.574695504274, 676.8308849580354, 598.9472218487355, 581.1266549151451, 531.5285771219656, 510.58936222668586, 501.2632052404261, 452.6743855761331, 438.62152514641303, 365.4183386342303, 358.0437950517635, 354.29236039780585, 333.7947043387955, 297.88797622717084, 247.81897294297272, 1404.139249811017, 694.0388182892584, 865.3959833385203, 5538.261547772195, 2857.333550223937, 8562.072721282893, 7796.69135073126, 5543.124241569449, 3028.5182322273663, 2633.9683047922026, 2268.619923423979, 1993.3081834513603, 1916.4961626584693, 1657.132954204147, 1524.100022639602, 1334.68580501197, 1146.416548002391, 1136.6259114215532, 1013.7208646888998, 945.250603631222, 907.9140237120778, 799.8331419076437, 783.0008628509376, 610.8230610360996, 601.6638811223344, 535.9808842706609, 487.054411876871, 471.9295853631033, 469.0109570712893, 458.768205821776, 423.5000070230706, 412.7161154226363, 402.2364767368796, 396.46883021239165, 364.7679715867491, 2406.680108419494, 10657.070884669656, 6733.45005315434, 4122.546203203759, 2312.849147988742, 2129.7778205863788, 1769.8513163554583, 1746.7368501041844, 1700.2307782579444, 1663.6395678100698, 1641.144474247567, 1525.3078482832307, 1522.3345328185949, 1350.34910572247, 1334.5943980359027, 1250.6918223935406, 898.4798825760168, 828.2337127511373, 590.2360016677586, 588.9970385845265, 572.7597862355125, 514.9109757949577, 513.4035815956432, 467.97542504827015, 452.1654745428009, 443.9250420345971, 432.78256546210423, 413.80382699536295, 395.65321376113434, 392.6286013932326, 381.5844733663117, 3547.7472412878387, 4775.318997127182, 5076.955298435506, 14268.414078688807, 11606.825400168505, 7213.703701954778, 4043.9202242159968, 3127.42674551024, 2859.7771624728452, 1009.9534832012021, 917.6718236742116, 860.4617390974875, 785.2766113154711, 651.9139585819205, 428.85405178311134, 352.9353385556999, 344.92639947522997, 335.0828589714348, 307.2247831185289, 278.2184933597145, 226.53158164558363, 207.38399664486522, 188.6899725378051, 100.69308044985965, 94.12837063081913, 89.32376864938401, 81.45775103863329, 72.49331424714816, 62.93972339715362, 19.686071655644483, 11.840233729868638, 2923.994350142361, 1871.179470125209, 1942.867259594582, 3107.1289270654697, 4439.4595650371175, 16789.32172383833, 8668.285104325845, 5188.818661452938, 3872.100246706024, 2954.2906946776716, 2422.7225472350274, 2397.729274193585, 1234.453269423608, 1053.7958801076918, 1024.1766839852262, 844.9640497267876, 653.7796503957113, 587.582328135986, 481.1806117044899, 431.7455446377242, 382.61779754512725, 351.8126421329054, 215.37280136659604, 212.3800907998936, 141.2161634909507, 127.71492465914027, 108.61508695351235, 97.8146828951045, 69.10746244875766, 61.59828382561351, 51.00596607301164, 49.93699485124338, 40.74689337080459, 39.9100430607961, 32.330205708083554, 1916.5703836160205, 15152.05010922114, 5885.805184772766, 4080.219164155338, 3591.492313775991, 3462.032347069576, 3283.8836462481836, 2728.401310243583, 1858.613956558646, 1580.7003095400987, 1423.987056604336, 1372.4637805137102, 1122.2338664858928, 981.7338412851163, 969.5099540930572, 930.5809496170749, 918.8848101752494, 865.9127303689307, 829.6899847233151, 758.2220079960125, 697.4842681987742, 613.1832220081591, 582.7384233029101, 378.5992969773349, 343.3178783365225, 337.29702928766903, 334.0745096293637, 313.3404897569903, 276.0604467407433, 271.5758171365074, 248.80946290104941, 248.65760528778983, 5076.955298435506, 1138.316958306657, 2652.673929303244, 12932.901054964133, 2265.5363456882865, 22207.152900072284, 7723.6365964533825, 5430.611586217065, 3141.807944256526, 2540.897326765525, 2126.7252533020937, 1760.1519888437122, 1502.2642331394504, 841.5925930942403, 598.0324046827535, 427.99399164607837, 375.5127251952042, 149.77063691411638, 149.71037885980454, 131.02897276217655, 69.47410680726679, 1567.7803827405323, 453.0129232542062, 2941.486556237592, 1.0182653494070757, 1.0182654878288153, 1.0182654085337723, 1.0182654108945606, 1.0182652892882726, 1.0182652951347313, 1.0182652977101148, 1.018265300855368, 1.0182653111465232, 1.018265312687846, 1.0182653249317608, 1.018265925994954, 1.0182679732181594, 1.0182654607685466, 1.018265619027681, 1.0182655649126662, 1.0182655821383293, 1.0182655955153557, 1.018265732718975, 10729.419007619237, 5063.534356329401, 4970.709062826886, 4677.785106616543, 2951.801483872164, 2110.4212202284957, 2054.432080566311, 1267.4993743439377, 1000.9403099773605, 813.038615349912, 719.9104927190185, 679.9162836802608, 609.5721567761586, 604.681349700637, 549.9597995764392, 484.23314029731273, 441.89361531407195, 431.25661386234515, 424.92221239949254, 362.0149669629835, 342.1759728444538, 339.990797049215, 336.2135985989453, 313.2822944656376, 300.64011157348256, 272.02639849054805, 245.3374934776824, 241.08951005194638, 228.18663280844285, 219.91314504543143, 10320.165994111658, 11357.806709701288, 6521.722289655955, 4624.987587201491, 2010.919894255852, 1763.2928749266403, 1690.5159609701075, 1661.8130487053104, 1587.1518914988833, 1542.5942944083904, 1527.2982281670031, 1163.6065619806034, 1125.814323504629, 1033.7975569310993, 1002.3299388960484, 878.2295162380499, 831.7385513793594, 828.3389135141866, 800.725404263171, 764.558883194988, 748.0736902460027, 703.218120233043, 699.904242901231, 688.2025614427932, 688.1621466186356, 643.6292961194455, 612.236655186908, 592.446386766332, 581.8837858364328, 579.0043333020369, 569.6595227292522, 545.8301221278416, 2652.673929303244, 7766.731225058413, 5447.639440972243, 3084.9572128754403, 2501.5651557988367, 2500.8105194048458, 1821.0596304872379, 1419.0791171286035, 1182.175765215879, 1094.5864500987527, 1070.8040243802943, 972.3522185700152, 907.465359187671, 790.8341678062029, 745.8156616067232, 630.0042715758112, 553.7700320056722, 542.94081964775, 535.3868831469325, 466.5694553260448, 443.321284012792, 420.7244757358582, 408.6512758182821, 378.5763794478897, 334.50655139905723, 271.6003464879885, 202.70872803658935, 199.5645802814671, 198.5701188369015, 196.07332270745553, 176.43546190550668, 2602.05524636882, 943.5854532738297, 11550.442305131453, 5450.840540188901, 3906.0070066278454, 3544.297990447793, 2657.9863646530375, 2350.9759717145275, 1324.8335388327014, 1160.8397491704316, 945.188880615248, 869.9244361308334, 865.1713570155979, 472.02868488537126, 452.0420024302744, 425.97147005448807, 420.90636545409313, 287.1043718335106, 246.04458883983452, 201.07622800741913, 157.0228862872683, 137.64412638100492, 123.6291275737549, 85.64671400651959, 83.5848356701977, 78.41997749656333, 66.28964896809481, 43.706257350343606, 15.754892927054026, 12.924561914009203, 5538.261547772195, 1.0182654607685466, 1.018265619027681, 1.0182679732181594, 8048.074753976881, 4600.264221157247, 4235.753727670414, 3033.7761408446618, 2376.9658933552314, 2160.9223719915767, 1977.8052264094333, 1881.9001339839112, 1837.3783398894534, 1677.6502914098799, 866.4524886327973, 622.1536587736476, 554.0840924159262, 486.99966990133294, 435.29089642770026, 351.51426994403425, 351.3414227208237, 313.72249896168, 277.1136129041692, 222.78289656598176, 216.48450921658335, 172.74490538410447, 140.69928433339905, 113.0412800434611, 112.3495387040379, 101.76570700269833, 68.18299685078108, 57.00472225362692, 13.111215201661864, 6.177356812275047, 1458.3476814649975, 399.7613257283606, 8976.209936325547, 3695.981219169409, 3332.0466765874503, 2756.679002924484, 2742.076812950603, 2273.6580796653393, 1851.9516736920473, 1634.1128760580164, 1305.3027113859362, 1108.7325131429411, 1094.018376190367, 910.4691813328005, 734.136107883219, 680.1981521453218, 610.8981082786365, 500.85378603649235, 360.4171856398292, 344.74991486537425, 282.68495116919473, 241.66846991960617, 197.27421520873156, 180.5917570534361, 151.68240787753263, 140.78866424184588, 125.7028968525161, 114.78075192195521, 76.19189507321835, 64.67166935561012, 54.79406196011254, 47.653982877310185, 399.7613257283606, 9876.165790006098, 9526.45323943282, 4977.843186301103, 2481.6213505579235, 1416.0464464339195, 1157.6205809442731, 938.2317462742595, 630.1824398567718, 582.0181449590577, 540.0377276903785, 533.628820407302, 531.8060909031967, 450.10328796643597, 419.28769933853823, 274.123771440555, 233.20901020501807, 171.24203509465283, 158.18432672655146, 150.5517293581873, 121.5649210476015, 104.84474188570556, 84.24472604527793, 80.55412208904836, 72.74124791483669, 70.43617770229315, 61.54786282203651, 50.002403276254306, 49.93064009694189, 16.3249437478464, 1.0182652839536386, 1.0182679732181594, 4490.455552693383, 3483.307148716341, 2537.2071295547257, 2364.3357282009347, 2274.387806864365, 1826.1853094260719, 1704.6362778488576, 1455.990232027397, 1273.9556154762674, 1165.9812891802437, 1050.5017546751696, 829.3912122105892, 722.6812692144184, 707.3061423613887, 683.7827227492238, 588.0135548799233, 550.5291018516335, 536.6587417433076, 505.8204370943022, 448.73118442559974, 422.4096678953095, 406.57381170965954, 404.62694114680363, 362.1871599082415, 347.9006506697948, 295.643071622531, 286.9566897676145, 247.43702946299385, 203.89025724584718, 167.8779595019107, 8643.574368435668, 4155.876406026364, 2709.1394112985267, 2070.546269694436, 1516.4567113324374, 1235.7862656076827, 1157.7270197932655, 933.6655127291393, 705.4098854049456, 684.4111834646671, 645.9240796060755, 606.7946509776935, 543.7391519178732, 388.588222891505, 338.09978030798305, 321.03488296323803, 263.55775992679486, 236.63312891639194, 143.06193085909635, 130.1779441936751, 127.64314392247579, 96.60174778584191, 85.04733320940117, 82.7292869108986, 80.85568529265535, 72.53587952065541, 62.98042220625601, 61.877557587436506, 58.46825670885314, 29.520828491873914, 4693.517243982567, 4560.911312625204, 4123.3186513939245, 2934.138915853405, 2528.8697610862373, 1517.2533033477773, 1395.6496867636915, 1344.8094625692086, 1034.8722617344604, 349.22312667308137, 312.1614501990265, 301.3357284287372, 174.56155298686176, 156.14998569605336, 83.29033142395959, 60.3336743844412, 22.13800222156734, 17.185262846009977, 13.692516689699229, 2602.05524636882, 418.4631709041747, 232.10187992439043, 1.0182654792349997, 1.0182653050704378, 1.018265314057761, 1.0182653283790286, 1.0182655649126662, 1.0182654878288153, 1.0182653256779026, 1.018265356212183, 1.0182679732181594, 1.0182655955153557, 1.018265925994954, 1.018265619027681, 1.0182655821383293, 6031.387899801581, 5551.067689975443, 4806.034391225873, 4279.565863691268, 3369.131007868424, 211.2741060173004, 175.36588008918034, 169.84143487920275, 106.75554439710946, 79.78550235573229, 1567.7803827405323, 1916.5703836160205, 1488.6763588394717, 1.0182679732181594, 1.0182653532053374, 1.0182654953879584, 1.0182656098438008, 1.01826552776407, 1.0182653768310224, 1.018265330990258, 1.0182653386039957, 1.018265365644985, 1.0182652909380554, 1.0182653051658241, 1.0182653171187734, 1.018265332769589, 1.0182653500835452, 1.0182654591298843, 1.0182652688545557, 1.0182652688545557, 1.0182654878929456, 1.0182655211471523, 1.018265732718975, 1.018265619027681, 1.018265925994954, 1.0182655821383293, 1.0182654878288153, 4619.127371501464, 3497.3447980038814, 2604.1733004998946, 2211.4867450621073, 2138.4358597737337, 1490.4580386771602, 1028.473362857916, 784.3412782876786, 736.1338249721372, 694.7127586129876, 690.831911580116, 671.6520787834447, 492.7840966510687, 400.8069304805504, 364.8939386967203, 353.21138486610784, 353.0537134929614, 304.75356099740736, 265.6530779057609, 196.82199689190645, 182.29877187200137, 165.30401704035384, 156.4128232978359, 154.27163777379465, 131.79427219013186, 103.49972268395908, 78.5254216608844, 75.89817972903292, 67.88384548037448, 64.3750431406101, 3457.613829391557, 3217.1150107829817, 3121.012289070287, 1735.2521370787367, 1550.3049147227723, 1459.8625515617632, 831.1315755611186, 694.2522795793101, 557.0504687424573, 514.2023370297039, 320.8809693296691, 209.48488269291235, 182.45317212901855, 182.36671590274275, 145.4759683922348, 131.7421779468358, 109.55277530728733, 104.95989675108444, 91.3967804412475, 79.48936791549788, 65.48665896746347, 51.71610884921362, 45.225226229694876, 43.11143164585745, 25.084499912313525, 1.0182653365251177, 1.0182652799008998, 1.0182652935870844, 1.0182652937916563, 1.018265732718975, 1.0182679732181594, 1.0182655649126662, 1.018265925994954, 3618.0375972330853, 2372.2797537970537, 1723.5689472526874, 1320.9668879721446, 1315.622916052245, 928.7700179550158, 910.6644691087319, 541.4262928469569, 475.035100300689, 417.2812091120506, 377.88923440237704, 367.2350300210062, 366.31070322074754, 319.2147859768663, 314.806524192204, 217.18003896213352, 190.50074882205115, 184.11044314436873, 178.74622381717126, 176.49094256225612, 161.22551713191672, 148.96009499035588, 135.33608114970698, 106.64268716661576, 98.176695669811, 89.59512600056412, 70.8365516159101, 58.88562676024037, 50.40014830023665, 32.969318642999276, 2444.5228056684055, 5189.237493981691, 3338.235071220255, 1590.3994443368197, 1105.874939523748, 699.6864035138994, 599.2172279713992, 591.6812403551673, 490.25336514436765, 330.08396494517035, 325.98796494714634, 316.6821113397493, 197.75588398173542, 186.09820355822777, 157.94159099867358, 151.29511229762085, 141.73330988010937, 128.24454941262448, 127.70371844864346, 126.85954140619842, 126.68333289146464, 111.44430098346022, 108.66125161206867, 100.51344396013921, 98.56695103357679, 74.95518811059796, 71.02474025423965, 46.79753395066869, 45.84961084009601, 22.075745520283462, 1.0182655211471523, 1.0182679732181594, 4508.323867315418, 3157.852211544488, 3066.4203405639796, 1682.3275142109783, 1030.6996223815747, 498.1127132382604, 484.1651617905435, 455.93418674463265, 342.8781476167757, 316.1686821820333, 259.93217859789996, 252.95242206969098, 142.1376323703939, 102.20294231014041, 102.15558696777552, 91.31447582313295, 61.2670726172146, 18.148628080345183, 1.0182655955153557, 1.0182653365251177, 1.0182652876640803, 1.0182653355009224, 1.0182654607685466, 1.0182652720484164, 1.0182653991241088, 1.0182652806906602, 1.018265296577212, 1.0182653050704378, 1.018265314057761, 1.0182679732181594, 1.0182655649126662, 1.018265732718975, 1.018265619027681, 1.018265925994954, 1.0182655211471523], \"Category\": [\"Default\", \"Default\", \"Default\", \"Default\", \"Default\", \"Default\", \"Default\", \"Default\", \"Default\", \"Default\", \"Default\", \"Default\", \"Default\", \"Default\", \"Default\", \"Default\", \"Default\", \"Default\", \"Default\", \"Default\", \"Default\", \"Default\", \"Default\", \"Default\", \"Default\", \"Default\", \"Default\", \"Default\", \"Default\", \"Default\", \"Topic1\", \"Topic1\", \"Topic1\", \"Topic1\", \"Topic1\", \"Topic1\", \"Topic1\", \"Topic1\", \"Topic1\", \"Topic1\", \"Topic1\", \"Topic1\", \"Topic1\", \"Topic1\", \"Topic1\", \"Topic1\", \"Topic1\", \"Topic1\", \"Topic1\", \"Topic1\", \"Topic1\", \"Topic1\", \"Topic1\", \"Topic1\", \"Topic1\", \"Topic1\", \"Topic1\", \"Topic1\", \"Topic1\", \"Topic1\", \"Topic1\", \"Topic1\", \"Topic1\", \"Topic1\", \"Topic1\", \"Topic1\", \"Topic1\", \"Topic1\", \"Topic1\", \"Topic2\", \"Topic2\", \"Topic2\", \"Topic2\", \"Topic2\", \"Topic2\", \"Topic2\", \"Topic2\", \"Topic2\", \"Topic2\", \"Topic2\", \"Topic2\", \"Topic2\", \"Topic2\", \"Topic2\", \"Topic2\", \"Topic2\", \"Topic2\", \"Topic2\", \"Topic2\", \"Topic2\", \"Topic2\", \"Topic2\", \"Topic2\", \"Topic2\", \"Topic2\", \"Topic2\", \"Topic2\", \"Topic2\", \"Topic2\", \"Topic2\", \"Topic2\", \"Topic2\", \"Topic3\", \"Topic3\", \"Topic3\", \"Topic3\", \"Topic3\", \"Topic3\", \"Topic3\", \"Topic3\", \"Topic3\", \"Topic3\", \"Topic3\", \"Topic3\", \"Topic3\", \"Topic3\", \"Topic3\", \"Topic3\", \"Topic3\", \"Topic3\", \"Topic3\", \"Topic3\", \"Topic3\", \"Topic3\", \"Topic3\", \"Topic3\", \"Topic3\", \"Topic3\", \"Topic3\", \"Topic3\", \"Topic3\", \"Topic3\", \"Topic3\", \"Topic3\", \"Topic3\", \"Topic4\", \"Topic4\", \"Topic4\", \"Topic4\", \"Topic4\", \"Topic4\", \"Topic4\", \"Topic4\", \"Topic4\", \"Topic4\", \"Topic4\", \"Topic4\", \"Topic4\", \"Topic4\", \"Topic4\", \"Topic4\", \"Topic4\", \"Topic4\", \"Topic4\", \"Topic4\", \"Topic4\", \"Topic4\", \"Topic4\", \"Topic4\", \"Topic4\", \"Topic4\", \"Topic4\", \"Topic4\", \"Topic4\", \"Topic4\", \"Topic4\", \"Topic4\", \"Topic4\", \"Topic5\", \"Topic5\", \"Topic5\", \"Topic5\", \"Topic5\", \"Topic5\", \"Topic5\", \"Topic5\", \"Topic5\", \"Topic5\", \"Topic5\", \"Topic5\", \"Topic5\", \"Topic5\", \"Topic5\", \"Topic5\", \"Topic5\", \"Topic5\", \"Topic5\", \"Topic5\", \"Topic5\", \"Topic5\", \"Topic5\", \"Topic5\", \"Topic5\", \"Topic5\", \"Topic5\", \"Topic5\", \"Topic5\", \"Topic5\", \"Topic5\", \"Topic5\", \"Topic5\", \"Topic5\", \"Topic5\", \"Topic6\", \"Topic6\", \"Topic6\", \"Topic6\", \"Topic6\", \"Topic6\", \"Topic6\", \"Topic6\", \"Topic6\", \"Topic6\", \"Topic6\", \"Topic6\", \"Topic6\", \"Topic6\", \"Topic6\", \"Topic6\", \"Topic6\", \"Topic6\", \"Topic6\", \"Topic6\", \"Topic6\", \"Topic6\", \"Topic6\", \"Topic6\", \"Topic6\", \"Topic6\", \"Topic6\", \"Topic6\", \"Topic6\", \"Topic6\", \"Topic6\", \"Topic7\", \"Topic7\", \"Topic7\", \"Topic7\", \"Topic7\", \"Topic7\", \"Topic7\", \"Topic7\", \"Topic7\", \"Topic7\", \"Topic7\", \"Topic7\", \"Topic7\", \"Topic7\", \"Topic7\", \"Topic7\", \"Topic7\", \"Topic7\", \"Topic7\", \"Topic7\", \"Topic7\", \"Topic7\", \"Topic7\", \"Topic7\", \"Topic7\", \"Topic7\", \"Topic7\", \"Topic7\", \"Topic7\", \"Topic7\", \"Topic7\", \"Topic7\", \"Topic7\", \"Topic8\", \"Topic8\", \"Topic8\", \"Topic8\", \"Topic8\", \"Topic8\", \"Topic8\", \"Topic8\", \"Topic8\", \"Topic8\", \"Topic8\", \"Topic8\", \"Topic8\", \"Topic8\", \"Topic8\", \"Topic8\", \"Topic8\", \"Topic8\", \"Topic8\", \"Topic8\", \"Topic8\", \"Topic8\", \"Topic8\", \"Topic8\", \"Topic8\", \"Topic8\", \"Topic8\", \"Topic8\", \"Topic8\", \"Topic8\", \"Topic8\", \"Topic8\", \"Topic8\", \"Topic9\", \"Topic9\", \"Topic9\", \"Topic9\", \"Topic9\", \"Topic9\", \"Topic9\", \"Topic9\", \"Topic9\", \"Topic9\", \"Topic9\", \"Topic9\", \"Topic9\", \"Topic9\", \"Topic9\", \"Topic9\", \"Topic9\", \"Topic9\", \"Topic9\", \"Topic9\", \"Topic9\", \"Topic9\", \"Topic9\", \"Topic9\", \"Topic9\", \"Topic9\", \"Topic9\", \"Topic9\", \"Topic9\", \"Topic9\", \"Topic9\", \"Topic9\", \"Topic10\", \"Topic10\", \"Topic10\", \"Topic10\", \"Topic10\", \"Topic10\", \"Topic10\", \"Topic10\", \"Topic10\", \"Topic10\", \"Topic10\", \"Topic10\", \"Topic10\", \"Topic10\", \"Topic10\", \"Topic10\", \"Topic10\", \"Topic10\", \"Topic10\", \"Topic10\", \"Topic10\", \"Topic10\", \"Topic10\", \"Topic10\", \"Topic10\", \"Topic10\", \"Topic10\", \"Topic10\", \"Topic10\", \"Topic10\", \"Topic10\", \"Topic10\", \"Topic10\", \"Topic10\", \"Topic10\", \"Topic11\", \"Topic11\", \"Topic11\", \"Topic11\", \"Topic11\", \"Topic11\", \"Topic11\", \"Topic11\", \"Topic11\", \"Topic11\", \"Topic11\", \"Topic11\", \"Topic11\", \"Topic11\", \"Topic11\", \"Topic11\", \"Topic11\", \"Topic11\", \"Topic11\", \"Topic11\", \"Topic11\", \"Topic11\", \"Topic11\", \"Topic11\", \"Topic11\", \"Topic11\", \"Topic11\", \"Topic11\", \"Topic11\", \"Topic11\", \"Topic11\", \"Topic11\", \"Topic11\", \"Topic11\", \"Topic11\", \"Topic11\", \"Topic11\", \"Topic11\", \"Topic12\", \"Topic12\", \"Topic12\", \"Topic12\", \"Topic12\", \"Topic12\", \"Topic12\", \"Topic12\", \"Topic12\", \"Topic12\", \"Topic12\", \"Topic12\", \"Topic12\", \"Topic12\", \"Topic12\", \"Topic12\", \"Topic12\", \"Topic12\", \"Topic12\", \"Topic12\", \"Topic12\", \"Topic12\", \"Topic12\", \"Topic12\", \"Topic12\", \"Topic12\", \"Topic12\", \"Topic12\", \"Topic12\", \"Topic12\", \"Topic12\", \"Topic12\", \"Topic13\", \"Topic13\", \"Topic13\", \"Topic13\", \"Topic13\", \"Topic13\", \"Topic13\", \"Topic13\", \"Topic13\", \"Topic13\", \"Topic13\", \"Topic13\", \"Topic13\", \"Topic13\", \"Topic13\", \"Topic13\", \"Topic13\", \"Topic13\", \"Topic13\", \"Topic13\", \"Topic13\", \"Topic13\", \"Topic13\", \"Topic13\", \"Topic13\", \"Topic13\", \"Topic13\", \"Topic13\", \"Topic13\", \"Topic13\", \"Topic13\", \"Topic14\", \"Topic14\", \"Topic14\", \"Topic14\", \"Topic14\", \"Topic14\", \"Topic14\", \"Topic14\", \"Topic14\", \"Topic14\", \"Topic14\", \"Topic14\", \"Topic14\", \"Topic14\", \"Topic14\", \"Topic14\", \"Topic14\", \"Topic14\", \"Topic14\", \"Topic14\", \"Topic14\", \"Topic14\", \"Topic14\", \"Topic14\", \"Topic14\", \"Topic14\", \"Topic14\", \"Topic14\", \"Topic14\", \"Topic14\", \"Topic14\", \"Topic14\", \"Topic15\", \"Topic15\", \"Topic15\", \"Topic15\", \"Topic15\", \"Topic15\", \"Topic15\", \"Topic15\", \"Topic15\", \"Topic15\", \"Topic15\", \"Topic15\", \"Topic15\", \"Topic15\", \"Topic15\", \"Topic15\", \"Topic15\", \"Topic15\", \"Topic15\", \"Topic15\", \"Topic15\", \"Topic15\", \"Topic15\", \"Topic15\", \"Topic15\", \"Topic15\", \"Topic15\", \"Topic15\", \"Topic15\", \"Topic15\", \"Topic15\", \"Topic15\", \"Topic16\", \"Topic16\", \"Topic16\", \"Topic16\", \"Topic16\", \"Topic16\", \"Topic16\", \"Topic16\", \"Topic16\", \"Topic16\", \"Topic16\", \"Topic16\", \"Topic16\", \"Topic16\", \"Topic16\", \"Topic16\", \"Topic16\", \"Topic16\", \"Topic16\", \"Topic16\", \"Topic16\", \"Topic16\", \"Topic16\", \"Topic16\", \"Topic16\", \"Topic16\", \"Topic16\", \"Topic16\", \"Topic16\", \"Topic16\", \"Topic16\", \"Topic16\", \"Topic17\", \"Topic17\", \"Topic17\", \"Topic17\", \"Topic17\", \"Topic17\", \"Topic17\", \"Topic17\", \"Topic17\", \"Topic17\", \"Topic17\", \"Topic17\", \"Topic17\", \"Topic17\", \"Topic17\", \"Topic17\", \"Topic17\", \"Topic17\", \"Topic17\", \"Topic17\", \"Topic17\", \"Topic17\", \"Topic17\", \"Topic17\", \"Topic17\", \"Topic17\", \"Topic17\", \"Topic17\", \"Topic17\", \"Topic17\", \"Topic17\", \"Topic18\", \"Topic18\", \"Topic18\", \"Topic18\", \"Topic18\", \"Topic18\", \"Topic18\", \"Topic18\", \"Topic18\", \"Topic18\", \"Topic18\", \"Topic18\", \"Topic18\", \"Topic18\", \"Topic18\", \"Topic18\", \"Topic18\", \"Topic18\", \"Topic18\", \"Topic18\", \"Topic18\", \"Topic18\", \"Topic18\", \"Topic18\", \"Topic18\", \"Topic18\", \"Topic18\", \"Topic18\", \"Topic18\", \"Topic18\", \"Topic18\", \"Topic19\", \"Topic19\", \"Topic19\", \"Topic19\", \"Topic19\", \"Topic19\", \"Topic19\", \"Topic19\", \"Topic19\", \"Topic19\", \"Topic19\", \"Topic19\", \"Topic19\", \"Topic19\", \"Topic19\", \"Topic19\", \"Topic19\", \"Topic19\", \"Topic19\", \"Topic19\", \"Topic19\", \"Topic19\", \"Topic19\", \"Topic19\", \"Topic19\", \"Topic19\", \"Topic19\", \"Topic19\", \"Topic19\", \"Topic19\", \"Topic20\", \"Topic20\", \"Topic20\", \"Topic20\", \"Topic20\", \"Topic20\", \"Topic20\", \"Topic20\", \"Topic20\", \"Topic20\", \"Topic20\", \"Topic20\", \"Topic20\", \"Topic20\", \"Topic20\", \"Topic20\", \"Topic20\", \"Topic20\", \"Topic20\", \"Topic20\", \"Topic20\", \"Topic20\", \"Topic20\", \"Topic20\", \"Topic20\", \"Topic20\", \"Topic20\", \"Topic20\", \"Topic20\", \"Topic20\", \"Topic21\", \"Topic21\", \"Topic21\", \"Topic21\", \"Topic21\", \"Topic21\", \"Topic21\", \"Topic21\", \"Topic21\", \"Topic21\", \"Topic21\", \"Topic21\", \"Topic21\", \"Topic21\", \"Topic21\", \"Topic21\", \"Topic21\", \"Topic21\", \"Topic21\", \"Topic21\", \"Topic21\", \"Topic21\", \"Topic21\", \"Topic21\", \"Topic21\", \"Topic21\", \"Topic21\", \"Topic21\", \"Topic21\", \"Topic21\", \"Topic21\", \"Topic21\", \"Topic21\", \"Topic21\", \"Topic21\", \"Topic22\", \"Topic22\", \"Topic22\", \"Topic22\", \"Topic22\", \"Topic22\", \"Topic22\", \"Topic22\", \"Topic22\", \"Topic22\", \"Topic22\", \"Topic22\", \"Topic22\", \"Topic22\", \"Topic22\", \"Topic22\", \"Topic22\", \"Topic22\", \"Topic22\", \"Topic22\", \"Topic22\", \"Topic22\", \"Topic22\", \"Topic22\", \"Topic22\", \"Topic22\", \"Topic22\", \"Topic22\", \"Topic22\", \"Topic22\", \"Topic22\", \"Topic22\", \"Topic22\", \"Topic22\", \"Topic22\", \"Topic22\", \"Topic22\", \"Topic23\", \"Topic23\", \"Topic23\", \"Topic23\", \"Topic23\", \"Topic23\", \"Topic23\", \"Topic23\", \"Topic23\", \"Topic23\", \"Topic23\", \"Topic23\", \"Topic23\", \"Topic23\", \"Topic23\", \"Topic23\", \"Topic23\", \"Topic23\", \"Topic23\", \"Topic23\", \"Topic23\", \"Topic23\", \"Topic23\", \"Topic23\", \"Topic23\", \"Topic23\", \"Topic23\", \"Topic23\", \"Topic23\", \"Topic23\", \"Topic24\", \"Topic24\", \"Topic24\", \"Topic24\", \"Topic24\", \"Topic24\", \"Topic24\", \"Topic24\", \"Topic24\", \"Topic24\", \"Topic24\", \"Topic24\", \"Topic24\", \"Topic24\", \"Topic24\", \"Topic24\", \"Topic24\", \"Topic24\", \"Topic24\", \"Topic24\", \"Topic24\", \"Topic24\", \"Topic24\", \"Topic24\", \"Topic24\", \"Topic24\", \"Topic24\", \"Topic24\", \"Topic24\", \"Topic24\", \"Topic24\", \"Topic24\", \"Topic24\", \"Topic25\", \"Topic25\", \"Topic25\", \"Topic25\", \"Topic25\", \"Topic25\", \"Topic25\", \"Topic25\", \"Topic25\", \"Topic25\", \"Topic25\", \"Topic25\", \"Topic25\", \"Topic25\", \"Topic25\", \"Topic25\", \"Topic25\", \"Topic25\", \"Topic25\", \"Topic25\", \"Topic25\", \"Topic25\", \"Topic25\", \"Topic25\", \"Topic25\", \"Topic25\", \"Topic25\", \"Topic25\", \"Topic25\", \"Topic25\", \"Topic25\", \"Topic26\", \"Topic26\", \"Topic26\", \"Topic26\", \"Topic26\", \"Topic26\", \"Topic26\", \"Topic26\", \"Topic26\", \"Topic26\", \"Topic26\", \"Topic26\", \"Topic26\", \"Topic26\", \"Topic26\", \"Topic26\", \"Topic26\", \"Topic26\", \"Topic26\", \"Topic26\", \"Topic26\", \"Topic26\", \"Topic26\", \"Topic26\", \"Topic26\", \"Topic26\", \"Topic26\", \"Topic26\", \"Topic26\", \"Topic26\", \"Topic26\", \"Topic27\", \"Topic27\", \"Topic27\", \"Topic27\", \"Topic27\", \"Topic27\", \"Topic27\", \"Topic27\", \"Topic27\", \"Topic27\", \"Topic27\", \"Topic27\", \"Topic27\", \"Topic27\", \"Topic27\", \"Topic27\", \"Topic27\", \"Topic27\", \"Topic27\", \"Topic27\", \"Topic27\", \"Topic27\", \"Topic27\", \"Topic27\", \"Topic27\", \"Topic27\", \"Topic27\", \"Topic27\", \"Topic27\", \"Topic27\", \"Topic27\", \"Topic27\", \"Topic27\", \"Topic27\", \"Topic27\"], \"logprob\": [30.0, 29.0, 28.0, 27.0, 26.0, 25.0, 24.0, 23.0, 22.0, 21.0, 20.0, 19.0, 18.0, 17.0, 16.0, 15.0, 14.0, 13.0, 12.0, 11.0, 10.0, 9.0, 8.0, 7.0, 6.0, 5.0, 4.0, 3.0, 2.0, 1.0, -2.6743, -3.3649, -3.6524, -3.755, -3.8704, -3.8822, -4.1735, -4.3301, -4.4435, -4.507, -4.5427, -4.5863, -4.6389, -4.6783, -4.6816, -4.7722, -4.8353, -4.8664, -4.8996, -4.9575, -4.9623, -5.0427, -5.0614, -5.0704, -5.0973, -5.123, -5.1846, -5.2176, -5.2261, -5.2341, -4.0865, -3.7457, -4.0157, -4.3547, -4.0603, -4.9703, -4.3214, -4.0396, -5.0093, -2.0655, -2.4811, -3.0366, -3.1378, -3.1948, -3.3612, -3.4249, -3.4642, -3.4729, -3.5941, -3.7078, -3.8013, -3.8034, -3.8903, -3.9662, -4.0306, -4.0495, -4.1131, -4.1251, -4.1868, -4.2754, -4.4133, -4.8443, -4.8499, -4.8598, -4.9117, -4.962, -5.0128, -5.0946, -5.0998, -4.4764, -5.0191, -4.9787, -1.5679, -2.1612, -2.1954, -2.5031, -2.5035, -3.0115, -3.6087, -3.8139, -3.8288, -3.8855, -4.2944, -4.4835, -4.5074, -4.5938, -4.5977, -4.7824, -4.7935, -4.7968, -4.8319, -5.1315, -5.4402, -5.4819, -5.5751, -5.7451, -5.845, -5.8556, -5.8778, -5.9019, -6.0122, -6.0351, -3.7634, -3.0439, -5.4386, -1.6036, -2.308, -2.857, -3.2575, -3.3298, -3.4004, -3.5145, -3.5423, -3.5736, -3.8101, -3.9297, -3.954, -4.3267, -4.3276, -4.4201, -4.5028, -4.5235, -4.5318, -4.5649, -4.7071, -4.7906, -4.8524, -4.9285, -5.0935, -5.1459, -5.2683, -5.3381, -5.3807, -5.5433, -5.5571, -1.8205, -5.3097, -5.1259, -1.3584, -2.3522, -2.5088, -2.8968, -3.015, -3.1012, -3.1354, -3.4956, -3.6484, -3.9723, -4.2007, -4.2838, -4.313, -4.4192, -4.4424, -4.5583, -4.6712, -4.7936, -4.8239, -4.9133, -4.9535, -4.972, -5.0742, -5.1058, -5.2888, -5.3093, -5.3198, -5.3796, -5.4937, -5.6784, -3.9443, -4.6529, -4.5684, -4.3787, -4.9501, -1.9513, -2.045, -2.3862, -2.9908, -3.1304, -3.2798, -3.4092, -3.4486, -3.594, -3.6778, -3.8106, -3.9628, -3.9713, -4.0859, -4.1559, -4.1962, -4.3231, -4.3444, -4.5931, -4.6082, -4.724, -4.8199, -4.8515, -4.8578, -4.8799, -4.9601, -4.9859, -5.0117, -5.0262, -5.1097, -4.9828, -1.7019, -2.1611, -2.6518, -3.2299, -3.3124, -3.4977, -3.5108, -3.5378, -3.5596, -3.5732, -3.6464, -3.6484, -3.7684, -3.7801, -3.8451, -4.1761, -4.2576, -4.5969, -4.599, -4.627, -4.7337, -4.7366, -4.8294, -4.8639, -4.8823, -4.9078, -4.9527, -4.9977, -5.0054, -5.034, -4.1498, -4.4279, -4.876, -1.3657, -1.5722, -2.0478, -2.6267, -2.8838, -2.9733, -4.0147, -4.1106, -4.1751, -4.2666, -4.453, -4.8726, -5.0679, -5.0909, -5.12, -5.207, -5.3065, -5.5129, -5.6016, -5.6965, -6.3291, -6.3972, -6.4502, -6.5434, -6.6615, -6.8049, -8.0026, -8.5464, -3.4462, -4.7781, -4.7653, -6.4359, -6.496, -1.1875, -1.8486, -2.3619, -2.6547, -2.9253, -3.1237, -3.1341, -3.7984, -3.9567, -3.9853, -4.1778, -4.4347, -4.5416, -4.7417, -4.8504, -4.9715, -5.0556, -5.5481, -5.5622, -5.9726, -6.0738, -6.2372, -6.3429, -6.6946, -6.8113, -7.0034, -7.025, -7.2329, -7.2541, -7.4707, -3.4799, -5.9192, -2.2118, -2.5783, -2.7059, -2.7426, -2.7955, -2.9809, -3.3649, -3.527, -3.6314, -3.6683, -3.8698, -4.0036, -4.0162, -4.0572, -4.0699, -4.1293, -4.1721, -4.2623, -4.3459, -4.4749, -4.5259, -4.9581, -5.0562, -5.0739, -5.0835, -5.1478, -5.2749, -5.2913, -5.3792, -5.3798, -2.4516, -4.4523, -4.2645, -3.975, -4.9778, -0.8543, -1.9105, -2.2628, -2.8102, -3.0225, -3.2006, -3.3898, -3.5484, -4.1283, -4.4704, -4.8056, -4.9368, -5.8599, -5.8603, -5.9945, -6.6357, -4.7989, -6.1744, -6.2169, -14.1859, -14.1859, -14.1859, -14.1859, -14.1859, -14.1859, -14.1859, -14.1859, -14.1859, -14.1859, -14.1859, -14.1859, -14.1859, -14.1859, -14.1859, -14.1859, -14.1859, -14.1859, -14.1859, -1.5412, -2.2922, -2.3107, -2.3714, -2.832, -3.1676, -3.1945, -3.6778, -3.9141, -4.1222, -4.244, -4.3013, -4.4107, -4.4187, -4.5138, -4.6413, -4.733, -4.7574, -4.7722, -4.9328, -4.9894, -4.9958, -5.007, -5.0778, -5.1192, -5.2195, -5.3232, -5.3407, -5.396, -5.4331, -3.2266, -4.5296, -2.0266, -2.3703, -3.2035, -3.335, -3.3771, -3.3943, -3.4403, -3.4688, -3.4787, -3.7509, -3.784, -3.8693, -3.9002, -4.0326, -4.087, -4.0911, -4.1251, -4.1713, -4.1932, -4.2551, -4.2598, -4.2767, -4.2767, -4.3437, -4.3938, -4.4267, -4.4448, -4.4497, -4.466, -4.5088, -3.2617, -1.7334, -2.0881, -2.6569, -2.8666, -2.8669, -3.1842, -3.4338, -3.6166, -3.6936, -3.7156, -3.8121, -3.8813, -4.019, -4.0777, -4.2467, -4.3759, -4.3956, -4.4097, -4.5475, -4.5988, -4.6512, -4.6804, -4.757, -4.8811, -5.0901, -5.3839, -5.3996, -5.4046, -5.4174, -5.5235, -3.0592, -5.1186, -1.2637, -2.0148, -2.3481, -2.4453, -2.7331, -2.8559, -3.4298, -3.562, -3.7678, -3.8508, -3.8563, -4.4631, -4.5065, -4.566, -4.578, -4.9617, -5.1166, -5.3193, -5.568, -5.7006, -5.8088, -6.1794, -6.204, -6.2686, -6.439, -6.8633, -7.9252, -8.1378, -4.5212, -13.8845, -13.8845, -13.8845, -1.5994, -2.1589, -2.2414, -2.5753, -2.8193, -2.9147, -3.0033, -3.053, -3.077, -3.1679, -3.8292, -4.1609, -4.277, -4.4063, -4.5188, -4.7331, -4.7336, -4.8471, -4.9716, -5.1907, -5.2195, -5.4464, -5.6529, -5.8735, -5.8797, -5.9795, -6.3848, -6.5668, -8.0969, -8.9448, -5.5349, -7.2775, -1.4835, -2.371, -2.4747, -2.6643, -2.6696, -2.857, -3.0623, -3.1875, -3.4123, -3.5756, -3.589, -3.7728, -3.9884, -4.0648, -4.1724, -4.3714, -4.7012, -4.7458, -4.9449, -5.1022, -5.3061, -5.3949, -5.5704, -5.6454, -5.7596, -5.8513, -6.2654, -6.4317, -6.6002, -6.7425, -4.6687, -1.3547, -1.3908, -2.04, -2.7363, -3.2976, -3.4993, -3.7096, -4.1081, -4.1877, -4.2627, -4.2747, -4.2781, -4.4452, -4.5163, -4.9425, -5.1048, -5.4152, -5.495, -5.5447, -5.7602, -5.9094, -6.1305, -6.1758, -6.2792, -6.3118, -6.4488, -6.6602, -6.6617, -7.8217, -13.8081, -13.8081, -2.0845, -2.3386, -2.6556, -2.7262, -2.765, -2.9846, -3.0535, -3.2113, -3.3449, -3.4336, -3.5379, -3.7745, -3.9124, -3.934, -3.9678, -4.119, -4.1849, -4.2105, -4.2698, -4.3898, -4.4504, -4.4887, -4.4935, -4.6046, -4.6449, -4.8082, -4.8381, -4.9869, -5.1813, -5.3767, -1.2643, -1.9968, -2.4248, -2.6937, -3.0053, -3.2101, -3.2754, -3.4907, -3.7714, -3.8017, -3.8596, -3.9222, -4.0321, -4.3688, -4.5084, -4.5603, -4.7583, -4.8664, -5.3724, -5.4675, -5.4873, -5.7684, -5.8972, -5.9252, -5.9483, -6.0583, -6.2017, -6.2196, -6.2772, -6.9775, -1.8086, -1.8373, -1.9382, -2.2785, -2.4272, -2.9383, -3.0219, -3.0591, -3.3213, -4.4095, -4.522, -4.5574, -5.1057, -5.2178, -5.8519, -6.1789, -7.2104, -7.4771, -7.7199, -3.9731, -6.2818, -7.6358, -13.5659, -13.5659, -13.5659, -13.5659, -13.5659, -13.5659, -13.5659, -13.5659, -13.5659, -13.5659, -13.5659, -13.5659, -13.5659, -1.5497, -1.6327, -1.7768, -1.8929, -2.1322, -4.9058, -5.093, -5.1252, -5.593, -5.8874, -3.2182, -4.8628, -5.9863, -13.6521, -13.6521, -13.6521, -13.6521, -13.6521, -13.6521, -13.6521, -13.6521, -13.6521, -13.6521, -13.6521, -13.6521, -13.6521, -13.6521, -13.6521, -13.6521, -13.6521, -13.6521, -13.6521, -13.6521, -13.6521, -13.6521, -13.6521, -13.6521, -1.794, -2.0723, -2.3673, -2.5308, -2.5644, -2.9256, -3.2969, -3.5682, -3.6317, -3.6897, -3.6953, -3.7235, -4.0337, -4.2408, -4.3349, -4.3675, -4.3679, -4.5155, -4.6533, -4.9545, -5.0315, -5.1299, -5.1856, -5.1994, -5.358, -5.6017, -5.8809, -5.9154, -6.0285, -6.0824, -1.8125, -1.8846, -1.915, -2.5022, -2.615, -2.6752, -3.239, -3.4192, -3.6397, -3.7199, -4.1926, -4.6206, -4.7595, -4.76, -4.9874, -5.0872, -5.2732, -5.3164, -5.4562, -5.5974, -5.7939, -6.034, -6.1709, -6.2199, -6.7783, -13.3279, -13.3279, -13.3279, -13.3279, -13.3279, -13.3278, -13.3279, -13.3279, -1.7119, -2.1342, -2.4538, -2.72, -2.724, -3.0725, -3.0923, -3.613, -3.744, -3.8739, -3.9734, -4.002, -4.0046, -4.1426, -4.1565, -4.5292, -4.6609, -4.6952, -4.7249, -4.7377, -4.8287, -4.9083, -5.0049, -5.2451, -5.3286, -5.4211, -5.6589, -5.8466, -6.005, -6.44, -4.0942, -1.3042, -1.7455, -2.4873, -2.8509, -3.3092, -3.4644, -3.4771, -3.6655, -4.062, -4.0745, -4.1036, -4.5763, -4.6374, -4.8024, -4.8457, -4.9114, -5.0121, -5.0164, -5.0231, -5.0245, -5.1537, -5.1792, -5.2579, -5.2776, -5.5547, -5.6093, -6.0337, -6.0546, -6.8093, -13.1128, -13.1128, -1.4299, -1.786, -1.8154, -2.416, -2.9063, -3.6345, -3.6629, -3.7231, -4.0088, -4.0902, -4.2867, -4.314, -4.8935, -5.226, -5.2265, -5.3399, -5.7443, -7.0005, -13.2091, -13.2091, -13.2091, -13.2091, -13.2091, -13.2091, -13.2091, -13.2091, -13.2091, -13.2091, -13.2091, -13.2091, -13.2091, -13.2091, -13.2091, -13.2091, -13.2091], \"loglift\": [30.0, 29.0, 28.0, 27.0, 26.0, 25.0, 24.0, 23.0, 22.0, 21.0, 20.0, 19.0, 18.0, 17.0, 16.0, 15.0, 14.0, 13.0, 12.0, 11.0, 10.0, 9.0, 8.0, 7.0, 6.0, 5.0, 4.0, 3.0, 2.0, 1.0, 1.0747, 1.0746, 1.0746, 1.0746, 1.0746, 1.0746, 1.0746, 1.0746, 1.0746, 1.0746, 1.0745, 1.0745, 1.0745, 1.0745, 1.0745, 1.0745, 1.0745, 1.0745, 1.0745, 1.0745, 1.0745, 1.0745, 1.0744, 1.0744, 1.0744, 1.0744, 1.0744, 1.0744, 1.0744, 1.0744, 1.0742, 1.0686, 1.0701, 1.062, 1.0259, 1.0553, 0.8605, 0.7584, 0.7951, 2.7771, 2.7771, 2.777, 2.777, 2.777, 2.7769, 2.7769, 2.7769, 2.7769, 2.7769, 2.7768, 2.7768, 2.7768, 2.7768, 2.7767, 2.7767, 2.7767, 2.7767, 2.7767, 2.7766, 2.7766, 2.7765, 2.7761, 2.7761, 2.7761, 2.776, 2.776, 2.7759, 2.7758, 2.7758, 2.6624, 2.745, 1.4644, 3.1138, 3.1137, 3.1137, 3.1137, 3.1137, 3.1136, 3.1134, 3.1133, 3.1133, 3.1133, 3.113, 3.1128, 3.1127, 3.1127, 3.1126, 3.1124, 3.1124, 3.1124, 3.1123, 3.1118, 3.1111, 3.111, 3.1107, 3.1101, 3.1097, 3.1097, 3.1096, 3.1095, 3.1089, 3.1088, 2.9349, 1.754, 1.0045, 3.217, 3.217, 3.2169, 3.2167, 3.2167, 3.2167, 3.2166, 3.2166, 3.2166, 3.2165, 3.2164, 3.2164, 3.2161, 3.2161, 3.216, 3.2159, 3.2159, 3.2159, 3.2158, 3.2156, 3.2155, 3.2154, 3.2153, 3.2149, 3.2148, 3.2145, 3.2143, 3.2142, 3.2137, 3.2136, 3.1358, 3.0776, 1.7674, 3.2366, 3.2365, 3.2365, 3.2364, 3.2364, 3.2364, 3.2364, 3.2362, 3.2362, 3.236, 3.2358, 3.2357, 3.2357, 3.2356, 3.2355, 3.2354, 3.2352, 3.235, 3.235, 3.2348, 3.2348, 3.2347, 3.2345, 3.2344, 3.234, 3.2339, 3.2339, 3.2337, 3.2334, 3.2327, 3.2324, 3.2284, 3.0923, 1.4257, 1.5161, 3.4174, 3.4174, 3.4174, 3.4172, 3.4172, 3.4171, 3.4171, 3.417, 3.417, 3.4169, 3.4168, 3.4167, 3.4167, 3.4166, 3.4165, 3.4165, 3.4163, 3.4163, 3.4159, 3.4159, 3.4157, 3.4155, 3.4155, 3.4155, 3.4154, 3.4152, 3.4152, 3.4151, 3.4151, 3.4149, 1.655, 3.448, 3.4479, 3.4478, 3.4477, 3.4476, 3.4475, 3.4475, 3.4475, 3.4475, 3.4475, 3.4474, 3.4474, 3.4474, 3.4474, 3.4473, 3.447, 3.4469, 3.4464, 3.4464, 3.4464, 3.4462, 3.4462, 3.446, 3.4459, 3.4459, 3.4458, 3.4457, 3.4456, 3.4456, 3.4455, 2.1, 1.5247, 1.0154, 3.4924, 3.4923, 3.4923, 3.4922, 3.4921, 3.4921, 3.4915, 3.4914, 3.4913, 3.4912, 3.4909, 3.4901, 3.4896, 3.4896, 3.4895, 3.4892, 3.4889, 3.4881, 3.4877, 3.4872, 3.4826, 3.482, 3.4814, 3.4803, 3.4788, 3.4767, 3.4413, 3.406, 2.997, 2.1114, 2.0866, -0.0536, -0.4704, 3.5078, 3.5078, 3.5077, 3.5076, 3.5076, 3.5075, 3.5075, 3.5071, 3.507, 3.5069, 3.5067, 3.5064, 3.5062, 3.5059, 3.5056, 3.5053, 3.5051, 3.5033, 3.5033, 3.5009, 3.5002, 3.4988, 3.4978, 3.4936, 3.4919, 3.4885, 3.4881, 3.4836, 3.4831, 3.4772, 3.3857, -1.1212, 3.5317, 3.5316, 3.5316, 3.5316, 3.5316, 3.5315, 3.5313, 3.5313, 3.5312, 3.5312, 3.531, 3.5309, 3.5309, 3.5308, 3.5308, 3.5307, 3.5307, 3.5306, 3.5305, 3.5303, 3.5302, 3.5293, 3.529, 3.529, 3.5289, 3.5287, 3.5283, 3.5283, 3.5279, 3.5279, 3.4398, 2.9343, 2.276, 0.9813, 1.7205, 3.5614, 3.5613, 3.5612, 3.5611, 3.561, 3.561, 3.5609, 3.5608, 3.5602, 3.5598, 3.5591, 3.5588, 3.5548, 3.5548, 3.5539, 3.5472, 2.2676, 2.1335, 0.2203, 0.2198, 0.2198, 0.2198, 0.2198, 0.2198, 0.2198, 0.2198, 0.2198, 0.2198, 0.2198, 0.2198, 0.2198, 0.2198, 0.2198, 0.2198, 0.2198, 0.2198, 0.2198, 0.2198, 3.6019, 3.6018, 3.6018, 3.6018, 3.6017, 3.6016, 3.6016, 3.6013, 3.6011, 3.6008, 3.6007, 3.6006, 3.6004, 3.6004, 3.6002, 3.6, 3.5998, 3.5998, 3.5997, 3.5993, 3.5992, 3.5991, 3.5991, 3.5989, 3.5988, 3.5984, 3.598, 3.598, 3.5977, 3.5976, 1.9553, 0.5565, 3.6143, 3.6143, 3.614, 3.6139, 3.6139, 3.6139, 3.6139, 3.6139, 3.6139, 3.6137, 3.6136, 3.6135, 3.6135, 3.6134, 3.6133, 3.6133, 3.6133, 3.6132, 3.6132, 3.6131, 3.6131, 3.6131, 3.6131, 3.613, 3.6129, 3.6128, 3.6128, 3.6128, 3.6128, 3.6127, 3.2788, 3.7329, 3.7328, 3.7327, 3.7326, 3.7326, 3.7325, 3.7323, 3.7322, 3.7321, 3.7321, 3.732, 3.7319, 3.7318, 3.7317, 3.7314, 3.7312, 3.7312, 3.7312, 3.7309, 3.7308, 3.7307, 3.7306, 3.7304, 3.7301, 3.7294, 3.7282, 3.7281, 3.7281, 3.728, 3.7274, 3.5006, 2.4556, 3.8057, 3.8056, 3.8055, 3.8055, 3.8054, 3.8053, 3.805, 3.8049, 3.8047, 3.8046, 3.8046, 3.8037, 3.8036, 3.8034, 3.8034, 3.8023, 3.8018, 3.8009, 3.7995, 3.7986, 3.7978, 3.7942, 3.7939, 3.7932, 3.7908, 3.7831, 3.7415, 3.7269, 1.2832, 0.5212, 0.5212, 0.5212, 3.8312, 3.8311, 3.8311, 3.831, 3.8309, 3.8309, 3.8308, 3.8308, 3.8308, 3.8307, 3.8302, 3.8298, 3.8296, 3.8293, 3.8291, 3.8285, 3.8285, 3.8282, 3.8278, 3.8269, 3.8268, 3.8256, 3.8243, 3.8226, 3.8225, 3.8216, 3.8168, 3.8139, 3.7534, 3.6581, 1.6039, 1.1555, 3.838, 3.8378, 3.8378, 3.8378, 3.8378, 3.8377, 3.8376, 3.8375, 3.8374, 3.8372, 3.8372, 3.837, 3.8368, 3.8367, 3.8365, 3.8362, 3.8354, 3.8353, 3.8346, 3.8341, 3.8331, 3.8327, 3.8316, 3.8311, 3.8303, 3.8296, 3.8252, 3.8229, 3.8201, 3.8174, 3.7642, 3.8712, 3.8712, 3.8711, 3.8709, 3.8706, 3.8705, 3.8703, 3.8698, 3.8696, 3.8695, 3.8695, 3.8695, 3.8691, 3.869, 3.8677, 3.8671, 3.8656, 3.8651, 3.8648, 3.8632, 3.8619, 3.8596, 3.8591, 3.8578, 3.8573, 3.8553, 3.8515, 3.8515, 3.8094, 0.5976, 0.5976, 3.9296, 3.9295, 3.9294, 3.9294, 3.9294, 3.9293, 3.9292, 3.9291, 3.929, 3.929, 3.9289, 3.9286, 3.9285, 3.9284, 3.9284, 3.9281, 3.928, 3.928, 3.9279, 3.9276, 3.9275, 3.9274, 3.9274, 3.9271, 3.927, 3.9265, 3.9264, 3.9258, 3.925, 3.9239, 4.0949, 4.0948, 4.0947, 4.0946, 4.0944, 4.0943, 4.0942, 4.094, 4.0937, 4.0936, 4.0935, 4.0934, 4.0932, 4.0925, 4.0921, 4.092, 4.0913, 4.0909, 4.0882, 4.0875, 4.0873, 4.0848, 4.0834, 4.0831, 4.0828, 4.0814, 4.0793, 4.0791, 4.0781, 4.0612, 4.1613, 4.1613, 4.1612, 4.1612, 4.1611, 4.1608, 4.1608, 4.1608, 4.1605, 4.1587, 4.1583, 4.1582, 4.1558, 4.1552, 4.1496, 4.1451, 4.1161, 4.1027, 4.0871, 2.5867, 2.1055, 1.3408, 0.8399, 0.8399, 0.8399, 0.8399, 0.8399, 0.8399, 0.8399, 0.8399, 0.8399, 0.8399, 0.8399, 0.8399, 0.8399, 4.1694, 4.1694, 4.1694, 4.1693, 4.1693, 4.1649, 4.1639, 4.1638, 4.1603, 4.1572, 3.8482, 2.0027, 1.1319, 0.7536, 0.7536, 0.7536, 0.7536, 0.7536, 0.7536, 0.7536, 0.7536, 0.7536, 0.7536, 0.7536, 0.7536, 0.7536, 0.7536, 0.7536, 0.7536, 0.7536, 0.7536, 0.7536, 0.7536, 0.7536, 0.7536, 0.7536, 0.7536, 4.1918, 4.1918, 4.1917, 4.1916, 4.1916, 4.1914, 4.1911, 4.1908, 4.1907, 4.1906, 4.1906, 4.1906, 4.1901, 4.1896, 4.1894, 4.1893, 4.1893, 4.1888, 4.1884, 4.1871, 4.1867, 4.1861, 4.1858, 4.1857, 4.1846, 4.1825, 4.1795, 4.1791, 4.1775, 4.1767, 4.463, 4.463, 4.4629, 4.4627, 4.4626, 4.4626, 4.4621, 4.4618, 4.4615, 4.4613, 4.4602, 4.4586, 4.4579, 4.4579, 4.4565, 4.4558, 4.4542, 4.4538, 4.4524, 4.4508, 4.4481, 4.4441, 4.4413, 4.4402, 4.4233, 1.0779, 1.0779, 1.0779, 1.0779, 1.0779, 1.0779, 1.0779, 1.0779, 4.5182, 4.5181, 4.5179, 4.5177, 4.5177, 4.5174, 4.5174, 4.5167, 4.5164, 4.5161, 4.5159, 4.5158, 4.5158, 4.5154, 4.5154, 4.514, 4.5133, 4.5131, 4.513, 4.5129, 4.5124, 4.5119, 4.5112, 4.5092, 4.5084, 4.5075, 4.5045, 4.5017, 4.4988, 4.4883, 2.5281, 4.5653, 4.5652, 4.5648, 4.5646, 4.564, 4.5638, 4.5638, 4.5635, 4.5625, 4.5624, 4.5624, 4.5605, 4.5602, 4.5592, 4.559, 4.5585, 4.5578, 4.5577, 4.5577, 4.5577, 4.5566, 4.5564, 4.5557, 4.5555, 4.5523, 4.5516, 4.5443, 4.5439, 4.5201, 1.293, 1.293, 4.5803, 4.5802, 4.5802, 4.5799, 4.5796, 4.5785, 4.5785, 4.5783, 4.5776, 4.5774, 4.5767, 4.5766, 4.5736, 4.5708, 4.5708, 4.5697, 4.5643, 4.5248, 1.1966, 1.1966, 1.1966, 1.1966, 1.1966, 1.1966, 1.1966, 1.1966, 1.1966, 1.1966, 1.1966, 1.1966, 1.1966, 1.1966, 1.1966, 1.1966, 1.1966]}, \"token.table\": {\"Topic\": [15, 12, 5, 1, 12, 18, 20, 12, 10, 25, 1, 8, 14, 23, 23, 18, 10, 26, 15, 6, 15, 12, 17, 23, 12, 23, 23, 16, 3, 12, 12, 22, 15, 11, 27, 26, 4, 21, 4, 2, 26, 21, 13, 5, 7, 8, 12, 1, 12, 16, 17, 17, 26, 15, 3, 19, 11, 16, 24, 2, 7, 23, 8, 3, 13, 1, 4, 18, 6, 12, 14, 3, 2, 16, 15, 13, 6, 5, 5, 14, 8, 12, 9, 7, 10, 23, 18, 18, 3, 11, 3, 1, 14, 11, 2, 11, 12, 4, 15, 10, 27, 5, 1, 2, 16, 11, 6, 25, 3, 24, 25, 21, 4, 17, 3, 19, 23, 1, 1, 2, 22, 15, 2, 12, 18, 13, 6, 17, 3, 1, 26, 17, 17, 1, 14, 4, 14, 10, 14, 13, 17, 13, 2, 3, 25, 27, 14, 22, 26, 2, 9, 19, 26, 19, 13, 20, 18, 17, 27, 7, 21, 6, 26, 25, 13, 27, 5, 13, 18, 9, 12, 17, 10, 17, 17, 16, 11, 1, 10, 20, 26, 27, 16, 20, 23, 27, 17, 9, 1, 5, 19, 5, 14, 20, 6, 14, 4, 1, 22, 26, 20, 16, 17, 22, 25, 27, 9, 7, 8, 20, 24, 10, 5, 12, 1, 7, 23, 19, 14, 7, 1, 5, 25, 3, 2, 8, 26, 18, 27, 10, 19, 15, 8, 2, 7, 14, 11, 18, 20, 20, 19, 7, 18, 15, 8, 27, 1, 10, 20, 4, 1, 5, 1, 7, 16, 7, 21, 3, 3, 20, 8, 4, 12, 7, 20, 23, 8, 3, 3, 26, 4, 21, 14, 18, 10, 14, 2, 6, 8, 14, 10, 6, 16, 1, 2, 23, 19, 20, 3, 1, 25, 8, 24, 4, 10, 18, 5, 16, 4, 12, 21, 6, 1, 12, 6, 16, 17, 20, 20, 9, 20, 14, 2, 10, 13, 20, 2, 20, 10, 8, 24, 8, 19, 25, 4, 19, 7, 4, 2, 19, 5, 10, 3, 24, 19, 19, 10, 26, 19, 16, 10, 27, 24, 14, 24, 6, 1, 3, 7, 9, 10, 7, 7, 21, 1, 5, 12, 4, 14, 19, 26, 19, 10, 23, 19, 25, 16, 19, 15, 3, 18, 21, 13, 11, 24, 24, 24, 1, 15, 18, 13, 19, 24, 9, 2, 11, 3, 10, 12, 23, 3, 13, 24, 20, 10, 10, 8, 25, 4, 24, 13, 1, 24, 23, 16, 23, 9, 24, 24, 24, 18, 25, 12, 14, 4, 8, 14, 8, 23, 5, 20, 2, 3, 8, 2, 3, 8, 25, 19, 27, 16, 9, 17, 5, 10, 23, 8, 1, 23, 22, 14, 11, 18, 9, 26, 26, 6, 1, 16, 16, 1, 9, 17, 18, 23, 26, 2, 5, 15, 2, 15, 10, 16, 12, 13, 15, 6, 20, 17, 4, 8, 7, 9, 9, 16, 24, 19, 5, 5, 14, 26, 2, 4, 17, 14, 22, 7, 6, 21, 18, 9, 16, 3, 27, 8, 8, 4, 27, 3, 14, 16, 11, 26, 17, 14, 10, 1, 15, 23, 17, 8, 9, 22, 1, 25, 25, 1, 7, 3, 25, 14, 17, 24, 4, 21, 5, 3, 25, 15, 17, 27, 6, 17, 7, 12, 22, 1, 5, 18, 9, 2, 23, 15, 21, 18, 17, 12, 5, 7, 12, 4, 22, 12, 23, 16, 13, 18, 14, 4, 14, 21, 9, 1, 6, 8, 25, 1, 9, 24, 23, 27, 11, 3, 11, 15, 25, 2, 1, 6, 2, 25, 16, 16, 15, 16, 7, 14, 3, 1, 5, 20, 20, 13, 1, 5, 15, 13, 17, 19, 13, 16, 4, 5, 16, 5, 6, 25, 4, 9, 23, 14, 21, 23, 10, 8, 7, 4, 26, 6, 7, 13, 6, 24, 15, 15, 1, 21, 22, 4, 4, 6, 27, 10, 9, 12, 3, 17, 15, 2, 12, 7, 26, 10, 23, 19, 19, 6, 18, 24, 26, 7, 19, 12, 5, 9, 15, 10, 19, 25, 19, 2, 6, 10, 25, 6, 6, 11, 18, 18, 18, 6, 25, 4, 22, 12, 13, 21, 25, 17, 7, 9, 10, 20, 18, 16, 19, 20, 1, 10, 2, 25, 4, 6, 1, 11, 22, 1, 7, 8, 1, 2, 11, 14, 4, 2, 8, 9, 3, 20, 2, 7, 1, 5, 17, 10, 14, 19, 2, 9, 1, 5, 9, 12, 5, 14, 16, 5, 20, 21, 21, 14, 26, 9, 23, 24, 7, 26, 12, 5, 23, 21, 20, 15, 25, 17, 2, 1, 8, 2, 9, 16, 15, 5, 12, 5, 21, 4, 6, 9, 26, 4, 13, 25, 20, 13, 10, 8, 11, 18, 13, 7, 2, 18, 1, 7, 8, 5, 4, 1, 26, 10, 2, 7, 15, 1, 21, 26, 20, 5, 13, 3, 17, 8, 25, 1, 23, 12, 1, 7, 11, 25, 13, 7, 13, 1, 5, 7, 26, 1, 13, 24, 3, 3, 27, 16, 6, 8, 1, 19, 5, 13, 7, 26, 1, 9, 15, 9, 6, 21, 13, 13, 9, 25], \"Freq\": [0.983840818382541, 0.9978708377596976, 0.9993173809908745, 0.9996794288021595, 0.9959069041299483, 0.994815765463113, 0.9926122144765224, 0.9970858121519343, 0.9998631988746673, 0.9935546832833448, 0.9807500071156965, 0.018921222002232087, 0.9965037122799102, 0.999755934095167, 0.9995494537557583, 0.9975488115818468, 0.9973553783443352, 0.9944894443388783, 0.9924490505675401, 0.9998288825796551, 0.9818926561586228, 0.999857351774581, 0.9998652063249266, 0.9990217512742229, 0.9987225510199599, 0.9975416136304186, 0.9933088973001194, 0.9879880352015242, 0.9986993888411612, 0.9986523580884089, 0.9998677460896783, 0.9950457620674177, 0.9996337806664983, 0.9982736643120514, 0.936709922355556, 0.9855720661480564, 0.9984313030155046, 0.9991739656489711, 0.9993935710645944, 0.9995220450052545, 0.9902954985742111, 0.9991571310134466, 0.9988422510237476, 0.9992414008708521, 0.9980574684357089, 0.993195038021488, 0.9974534161446372, 0.9523845823824985, 0.04754439072631498, 0.07004179293478256, 0.9280537563858691, 0.9997105634874369, 0.9996300226934577, 0.9978466340058428, 0.9990041010507542, 0.9982763069464781, 0.9996468465073056, 0.9992498333851392, 0.990854633238056, 0.9997104315504647, 0.9991233642870047, 0.9987957829304481, 0.998301215462502, 0.9988792441214407, 0.9975586199888455, 0.7649240867676643, 0.2344122201384778, 0.9998306121206423, 0.9969259955066472, 0.9954808898499499, 0.9984059289418796, 0.9947337154616256, 0.8914198009997673, 0.10765608365920265, 0.9986460982485152, 0.9990222693043346, 0.9988193458919037, 0.9999271660385518, 0.9912990194062292, 0.007204207989870852, 0.9960133974020697, 0.9979777591639635, 0.9990089420527105, 0.08784792730742332, 0.9119639090434305, 0.9985674273042698, 0.9992610083966138, 0.9799528980493956, 0.9999109167526963, 0.978781925021991, 0.9972501680115412, 0.7206554505908255, 0.27872409339027515, 0.9948545527348042, 0.6997592866067461, 0.24061123735058465, 0.05960094870152097, 0.9994028660994593, 0.9520851756626199, 0.998417067907628, 0.9964137622247148, 0.9989157887018707, 0.9953918279387374, 0.004488504263914731, 0.9995936444195807, 0.999887381705107, 0.9978946298837356, 0.9958252331085073, 0.9998539269882213, 0.9925685784687036, 0.9933576074153814, 0.9845080287003348, 0.9991978280317384, 0.9896141639406768, 0.9979418965071669, 0.9996247391744301, 0.9993285467192429, 0.9997727334709692, 0.9998307246994164, 0.9997282284137764, 0.9998677754451524, 0.9997421902658811, 0.999810101110256, 0.9958477013948266, 0.9796102266031055, 0.9992742399104628, 0.9986525377173817, 0.9996858757727481, 0.999435209624257, 0.9998131905480098, 0.9974434338783201, 0.9994861239061654, 0.9996073002238605, 0.9996074942458811, 0.999675897314668, 0.9959211362666849, 0.9994642267874778, 0.9992525048498321, 0.9998826205406631, 0.9983112314091295, 0.9862764277438483, 0.999478722447585, 0.9995867957284968, 0.993065084359545, 0.9722193615007662, 0.9974388930210939, 0.9970195791169055, 0.9998076604294754, 0.9990189840613563, 0.9998159423184213, 0.9992447492700289, 0.9966660830650464, 0.9991200673882257, 0.9974111842905128, 0.9986000057896977, 0.9997891164364049, 0.9852248787109956, 0.998452456062276, 0.988687970946317, 0.9991425676562914, 0.9996801965830415, 0.9986769607695379, 0.9969693207928504, 0.9978210024900606, 0.9984791566200021, 0.9979510491386866, 0.99925187829973, 0.9986731525773708, 0.998123654703802, 0.999715852732129, 0.9965632512573045, 0.9944082684638462, 0.9980703614096224, 0.9985298558524478, 0.9931978845853346, 0.9979472883389521, 0.9999480842916932, 0.9999466229360486, 0.9997012013065257, 0.9978837279276096, 0.9870401539539059, 0.9856049568123354, 0.9998664582512297, 0.974887968420806, 0.9881659911708087, 0.9882298661569838, 0.9997536880704051, 0.9998517464169234, 0.11555403760278676, 0.8654997416448729, 0.01848864601644588, 0.9961185893419269, 0.9994181242231182, 0.994961390775, 0.9981699267652135, 0.9977895960157951, 0.996123696784869, 0.9511805514960094, 0.04769337511032251, 0.9512702518111992, 0.9894171289309067, 0.9980434514710587, 0.9993393238366712, 0.9997847724045085, 0.9961944558014478, 0.9963036118126322, 0.9588556373536787, 0.9996155610731766, 0.9290357142402492, 0.9858178373282354, 0.9992784120232552, 0.9989005264207927, 0.9970190934242553, 0.9970861574710915, 0.7399061493025417, 0.25960135752672037, 0.9982899302576466, 0.9996758563410099, 0.9982780280738573, 0.9983490245032391, 0.9994655307258644, 0.00047426474837518475, 0.9901276796375608, 0.9982856601075305, 0.999772846583258, 0.9851801074965825, 0.9932244638702721, 0.9919429256011099, 0.9962347778214649, 0.9983883242861252, 0.9983226103796288, 0.9993708350458611, 0.9999024492848816, 0.9990698144422052, 0.9983072264897586, 0.9986094733171399, 0.9976775570090238, 0.9898097993080278, 0.9911846585637315, 0.9909512767237851, 0.998772512786864, 0.9974224601204252, 0.9986871620160469, 0.9949111703196355, 0.9651493874631016, 0.9793188647165985, 0.44890836095436537, 0.5499347044176766, 0.9925771247967968, 0.996465767815586, 0.003560900388385945, 0.9956277485927103, 0.9997287986932996, 0.9995781562035858, 0.9981457012148387, 0.9993026365042653, 0.9494237103818757, 0.9967747059423087, 0.9994439944665763, 0.9984862565130564, 0.9933264057629517, 0.9983246161329266, 0.9982547823001274, 0.9992761110587556, 0.9985693680801635, 0.9996154802910342, 0.9931169009155026, 0.9997936335226885, 0.9956666292450354, 0.9939145592172138, 0.9995570142717584, 0.9993980838239626, 0.9997740791210148, 0.9927469029787791, 0.9996696696715962, 0.9983852174930592, 0.9993946798295589, 0.9997267398484964, 0.9967683844683708, 0.999005422670237, 0.9989459326131609, 0.9987643688458098, 0.9998220558325923, 0.999817647064416, 0.9985086583121381, 0.9951717485709116, 0.995633644991807, 0.9992872043359575, 0.9973979685144106, 0.8631541481663793, 0.13663198364339843, 0.9880124278869682, 0.9925056724524686, 0.9219122569118786, 0.07801807156119143, 0.9980784163084002, 0.9999293426352627, 0.9964858318208019, 0.9998251866271142, 0.9945483527253691, 0.9998001906718331, 0.999632377963531, 0.807254457414095, 0.19272945814387646, 0.9992888923233112, 0.9997251850988399, 0.999318972346206, 0.9979381057779866, 0.9986904120258588, 0.9812364589812708, 0.9993637527543681, 0.9984856757007042, 0.9993692165142904, 0.2849954499302416, 0.7147504934758441, 0.9823572535568478, 0.9994473911602644, 0.9993720283099246, 0.9967836228194847, 0.9850694704960188, 0.998114230574424, 0.9956203725172967, 0.9990389211944402, 0.999170927204658, 0.9982290564149358, 0.9990573033459702, 0.9981917814520355, 0.9999141910261595, 0.9981946115990878, 0.9988553048750972, 0.9966952774711032, 0.9994863987792698, 0.9998106352670112, 0.974219560719129, 0.9947702515296494, 0.999158400576965, 0.9990370825968049, 0.9948261288702728, 0.9994350513825078, 0.9826496794593809, 0.996158642959311, 0.9993212160299835, 0.9847173999510257, 0.9971288790063637, 0.997661743358365, 0.9980302456299958, 0.7288122676732385, 0.2567309355473058, 0.00039598601883903203, 0.00976765513136279, 0.004223850867616342, 0.9985104292035647, 0.9979162202015965, 0.9967830660460266, 0.767848751794501, 0.17883806388650408, 0.05284647289014113, 0.9990005626808167, 0.9989063495864836, 0.9978248378390816, 0.9997615268171622, 0.9983780072252216, 0.9991683824850011, 0.9869800322282862, 0.9993898108052741, 0.9969296266304996, 0.9983236373005412, 0.9985886653465292, 0.9930030888317434, 0.9952648469401881, 0.9910985890181007, 0.931030275380096, 0.9990940661313994, 0.9952549792124314, 0.9996756536096215, 0.9943664363349504, 0.9972545292059249, 0.9998046460545871, 0.9995848652958305, 0.9997496191118022, 0.9982677917448439, 0.9981533563994962, 0.9567661338234945, 0.9982731851040877, 0.9999358215507711, 0.9992958670274633, 0.8360051268233302, 0.16331673544067168, 0.9993265703477233, 0.9786401208678542, 0.9992067478806432, 0.9992667837855954, 0.9994091556353436, 0.9997361712208843, 0.9993056930158084, 0.9989334651052414, 0.9821042071497663, 0.9976468384875178, 0.9988524073024307, 0.9949542555564034, 0.9992690122274789, 0.9998714604366667, 0.986153079472751, 0.9984597569984234, 0.9995216887614511, 0.9975501410083348, 0.997546427109131, 0.998196218267992, 0.997685357116565, 0.9938436053986729, 0.9984842390544499, 0.9973714075921092, 0.9998321627439806, 0.9984062797381998, 0.9992883491330268, 0.9973142111573965, 0.9996897159962397, 0.9990559137454729, 0.9990291420155718, 0.9984185220096493, 0.9967764158409025, 0.9688288544680962, 0.03075647157041575, 0.99859803802344, 0.26915236685107935, 0.12140926331910186, 0.609440302069407, 0.9849602218917308, 0.9983705513434826, 0.9997063504410106, 0.9995731582015477, 0.9944021839182199, 0.9997345172739731, 0.9998130319117723, 0.9997309142639103, 0.9928755862770525, 0.9973498302563649, 0.9995786458743966, 0.9997799014336423, 0.9996643027932773, 0.99186409642368, 0.9997428409785509, 0.9982506645748487, 0.9988074722190582, 0.9948917882035478, 0.9988486362103378, 0.9978351250883699, 0.9998168752407125, 0.9996123796400183, 0.9907884974138584, 0.9997630741269008, 0.9816699309071806, 0.994398240468486, 0.9813613425516872, 0.9975273102800142, 0.9979686365568626, 0.9997362637542331, 0.9990055527685311, 0.9805452436666919, 0.9998558625211594, 0.998742176680629, 0.9995569624831019, 0.992475785554381, 0.9963903940709045, 0.9992766804546471, 0.9953203496731713, 0.9997411094954758, 0.9973244282434535, 0.9982385248452338, 0.9993020749057173, 0.9999008944735548, 0.9998995141647039, 0.9976901281091587, 0.999842225850169, 0.9976970126016743, 0.9996534128312963, 0.9993509369394477, 0.9974799561842561, 0.9994296442415744, 0.9989452051515213, 0.9942480615700119, 0.9984417280863822, 0.9992952089169982, 0.9967232333131295, 0.9992491395605656, 0.9929226683131418, 0.9998675082881218, 0.9989932706311323, 0.9996560672678281, 0.9988216146069059, 0.9983853402818922, 0.9977619220038575, 0.9996294879559705, 0.9977661416609374, 0.997653388363238, 0.9992679042149057, 0.9993147792531167, 0.9995368082629799, 0.9998641789795313, 0.9971709394489202, 0.9970344051798596, 0.9993455174036028, 0.9940383594167955, 0.9978247569236758, 0.9999058516334319, 0.9967466554864461, 0.9998123114600245, 0.9976948990919596, 0.9989740240061077, 0.9982953387589444, 0.996343353446263, 0.8849140185502254, 0.11478837504778869, 0.9997009992076489, 0.9992680452621875, 0.9881903961044568, 0.8537649531796119, 0.1461682456020037, 0.9985426660476252, 0.9974380321555484, 0.9974095683129541, 0.9843566684872063, 0.9920353693385447, 0.8698495478431328, 0.12904361424046476, 0.9976191823043756, 0.9999659905783009, 0.9994605384145756, 0.999276601984872, 0.9972339382136671, 0.9992109062000327, 0.9994861674490021, 0.9935408932820574, 0.999518989901812, 0.996226842334996, 0.9939694170699931, 0.9999193077689023, 0.998583003544558, 0.9998474522053177, 0.9839747776938153, 0.9997304790497189, 0.9909673435460873, 0.9978207153117801, 0.9485950805236313, 0.9963352838221164, 0.9960679298982003, 0.99960601610222, 0.9988457216889212, 0.9996347879206646, 0.9997284763638262, 0.9997121435812226, 0.9901548234636658, 0.9987352695533306, 0.991757151268082, 0.998536987007338, 0.9991120390197923, 0.9925129957495804, 0.9992395652112851, 0.8703074704341196, 0.06893524518290056, 0.06031833953503799, 0.994337002613867, 0.9998115695543214, 0.9982648716735887, 0.9997724425396707, 0.993973452998126, 0.9998900360109795, 0.9771976427234167, 0.972908344925196, 0.9921114013821243, 0.9919962619932393, 0.9999175781452904, 0.9992214652162803, 0.9996589811961053, 0.9284647386765928, 0.9973656749481871, 0.9996101161377251, 0.8281117183076049, 0.17160568974462662, 0.9987359772152683, 0.9880145113686809, 0.9152469710419355, 0.8094076725606141, 0.9957544734279261, 0.9961819966731063, 0.999446848231392, 0.9982671782748618, 0.9947299380069962, 0.9997890020540968, 0.9996666559006487, 0.9986406130305937, 0.9967471723673371, 0.9979801026671125, 0.7560134103244457, 0.16340867837201417, 0.080169561543839, 0.9995425505220374, 0.9855082479431698, 0.9995223666472363, 0.9998892486334322, 0.9823747539869296, 0.9996567261196107, 0.9985102192710225, 0.9956878300842034, 0.9992336633863911, 0.9997971826860712, 0.9995265238658854, 0.9997175566477272, 0.9988510927815233, 0.9958236533269302, 0.79245050729708, 0.20714394928861599, 0.9979867352104342, 0.9978797186635437, 0.9995437957060743, 0.9972661242617729, 0.999579813504501, 0.9992088259779855, 0.9983255033543574, 0.9986734644195149, 0.99848116435284, 0.9989583553568978, 0.9998224702289368, 0.9946476616451179, 0.9989373374370939, 0.9999437393105126, 0.9955673081459603, 0.9922112551855257, 0.998638771200331, 0.9983037680287941, 0.9992782477375095, 0.9975934621437146, 0.9961613466129174, 0.9999212759240623, 0.9971963397770587, 0.9982864619772357, 0.9990691416044462, 0.9996289052998335, 0.9998991496728955, 0.9993029311701965, 0.9995546227102575, 0.9914398272491899, 0.9987328391721199, 0.9965703685724427, 0.9992498832261827, 0.9996267368839172, 0.999343712396196, 0.9994639168009894, 0.9991582851151538, 0.9978460692431802, 0.9990009207865189, 0.9995242290072953, 0.9988732086726764, 0.9993917822510915, 0.9902873296388051, 0.9998751298787223, 0.9993757129701463, 0.9984505699372693, 0.9966369493102671, 0.9941923427301379, 0.9987177352573754, 0.9999113276773236, 0.9957219389105126, 0.9972183129902944, 0.9988965913641085, 0.9994493250459421, 0.9991584482199857, 0.9188393069947829, 0.9959004962077916, 0.9931211206245186, 0.9978444915709387, 0.9992703469485504, 0.9971145676118492, 0.9997698871595332, 0.9978296912409335, 0.998708047693092, 0.9998897960834744, 0.9996699016574914, 0.9983863469923827, 0.9982308091344309, 0.9913879299586791, 0.999306835971747, 0.9937708395589702, 0.995352927121301, 0.9995928687017906, 0.9967222473912597, 0.9999335496623057, 0.999843244490917, 0.9961546376782262, 0.9998385936203164, 0.993968603163385, 0.9989956040188027, 0.9962952189416636, 0.9999097016317166, 0.2742731091253647, 0.7252291280826503, 0.649555441200518, 0.10448475005047951, 0.2449987242562968, 0.946460215531622, 0.017678136209642367, 0.03535627241928473, 0.9986093325605778, 0.9978414218422265, 0.9996913297316455, 0.9999288866559074, 0.9995631118224091, 0.9967302263136487, 0.9995794194666487, 0.9992819195481553, 0.9983989923530736, 0.9998909694275112, 0.9997323999128487, 0.9990019852295006, 0.9998629222248081, 0.9984775081616812, 0.9966627944328706, 0.9998194199560893, 0.9988590642085905, 0.9939694166546269, 0.005970793607064106, 0.9916711594722629, 0.9947997268996953, 0.9980612575492521, 0.9945259115690259, 0.9959813850626158, 0.9989845959713822, 0.9844329051487587, 0.9964975782539558, 0.9926353775126703, 0.998779484341411, 0.9829577782558072, 0.993625929746536, 0.9984088434338743, 0.9898542116024602, 0.9997846493041616, 0.9961776915734895, 0.9990605733748681, 0.9998379624738143, 0.9970154300813426, 0.9962793285388507, 0.9990393980114622, 0.999845796224875, 0.9923987396429687, 0.9975769804287008, 0.9989685170686393, 0.7481911929625434, 0.2511784719231396, 0.9996489378109251, 0.993501788257573, 0.9997441667385367, 0.9934857503166961, 0.9995653293047579, 0.9990613797402024, 0.997084727996438, 0.9996118398323777, 0.9993178352457268, 0.9987217602196587, 0.9997017622856352, 0.9872565444143965, 0.999938669470083, 0.9982654131510394, 0.9705993729049932, 0.9980013245715486, 0.9996147435456331, 0.9997018089474381, 0.9980085257920257, 0.9986345996798439, 0.9969288406491064, 0.9996947908318999, 0.9996328563021586, 0.9989510779499865, 0.9998819592511015, 0.9275443882922191, 0.04344847065213379, 0.028965647101422524, 0.9963522769828997, 0.9983350824358186, 0.99988424529203, 0.9814696172000436, 0.9994740083988779, 0.9996952380429642, 0.9979059195571497, 0.9977194011271135, 0.9999001369593447, 0.9995344915204344, 0.9946059763674667, 0.9876852904156035, 0.9996646699752753, 0.9985647266305414, 0.9988759093410509, 0.9955010743362962, 0.9983743163910962, 0.9997132154641293, 0.9999403465136545, 0.9939733937072317, 0.9998944696941311, 0.9999741627014269, 0.9984682988771646, 0.9921469829116024, 0.9945665404252954, 0.9982526053953183, 0.9979156489933856, 0.9992285172993958, 0.9874448448677664, 0.0012254217484087445, 0.01127388008536045, 0.9940987954895322, 0.999920475922561, 0.9991499838452892, 0.99863851212685, 0.9992408808993669, 0.9958268836987371, 0.9997301293767414, 0.9950299368137365, 0.9993163166532458, 0.9997282436956825, 0.9998375009918993, 0.9993198910228827, 0.9987723891203828, 0.9997864670590201, 0.9983529040497001, 0.9967160932965937, 0.9999377903539605, 0.999695847983576, 0.9961534133860177, 0.9988227424564345, 0.9998747124302942, 0.9778950246599745, 0.9983836163044588, 0.9995107459855705, 0.980277482215087, 0.9964218811811303], \"Term\": [\"absolutely\", \"abstraction\", \"access\", \"accessor\", \"account\", \"acquisition\", \"active\", \"actively\", \"actual\", \"actually\", \"add\", \"add\", \"addition\", \"additional\", \"admit\", \"advantages_disadvantage\", \"affiliate\", \"afterward\", \"ahead\", \"already\", \"alter\", \"always\", \"ampmhour\", \"analysis\", \"android\", \"anti\", \"anyrequ\", \"apart\", \"api\", \"apologize\", \"apple\", \"apply\", \"appreciate\", \"approach\", \"arbitrary\", \"arc\", \"arena\", \"arrive\", \"artery\", \"arterywindow\", \"assign\", \"assignment\", \"attempt\", \"attr\", \"authenticated\", \"authorizeurl\", \"autocomplete\", \"autolayout\", \"autolayout\", \"automatic\", \"automatic\", \"backup\", \"baked\", \"balanced\", \"bar\", \"base\", \"bash\", \"basic\", \"basically\", \"basis\", \"batch\", \"battle\", \"bean\", \"beanpublic\", \"begin\", \"beginner\", \"beginner\", \"behave\", \"bg\", \"big\", \"blog_post\", \"blue\", \"boil\", \"boil\", \"bool\", \"boolean\", \"bottom\", \"bound\", \"branchbhowever\", \"branchbhowever\", \"bucket\", \"bug\", \"build\", \"builder\", \"builder\", \"building\", \"buildpath\", \"bullet\", \"bump\", \"byte\", \"cache\", \"call\", \"call\", \"callback\", \"callbacks\", \"callbacks\", \"callbacks\", \"caller\", \"capword\", \"card\", \"cast\", \"catch\", \"catch_exception\", \"catch_exception\", \"catch_sqlexception\", \"cause\", \"certain\", \"ch\", \"change\", \"character\", \"chch\", \"chriseasi\", \"circumstance\", \"cite\", \"class\", \"classmanifest\", \"clause\", \"clear\", \"code\", \"collection\", \"color\", \"column\", \"com\", \"combine\", \"come\", \"comma_separate\", \"command\", \"comment\", \"comparison\", \"complete\", \"completely\", \"complex\", \"complexity\", \"complicated\", \"composite\", \"composition\", \"compressed\", \"computer\", \"concatenate_string\", \"concern\", \"conclusion\", \"conditional\", \"config\", \"configuration\", \"confused\", \"connection\", \"consecutive\", \"console\", \"constructor\", \"contain\", \"contrast\", \"control\", \"convert\", \"convince\", \"cool\", \"copy\", \"correct\", \"correctly\", \"couple\", \"cover\", \"crash\", \"critical\", \"cstr\", \"curious\", \"customize\", \"cycle\", \"database\", \"datum\", \"day\", \"db\", \"deannullable\", \"debate\", \"debug\", \"debugger\", \"decryption\", \"def\", \"default\", \"definitely\", \"delete\", \"dependency\", \"deprecate\", \"describe\", \"design\", \"designer\", \"detect\", \"determine\", \"determine_whether\", \"developer\", \"development\", \"development\", \"development\", \"diagram\", \"diagramauto\", \"die\", \"differ\", \"different\", \"differently\", \"direct\", \"direct\", \"directcast\", \"directive\", \"disable\", \"discussion\", \"distract\", \"dive\", \"django\", \"dll\", \"doc\", \"documentation\", \"documentbuilder\", \"dom\", \"double\", \"downside\", \"drawable\", \"drop\", \"drop\", \"dual\", \"dualhow\", \"due\", \"dump\", \"duplicate\", \"duplicate\", \"dynamically_allocate\", \"ease\", \"eclipse\", \"edge\", \"edit\", \"editi\", \"efficiency\", \"efficient\", \"effort\", \"element\", \"else\", \"embed\", \"enable\", \"end\", \"engine\", \"enter\", \"enterprise\", \"entity\", \"entityclass\", \"entityname\", \"entry\", \"establish\", \"ethis\", \"evaluate\", \"even\", \"even\", \"event_handler\", \"eventargs\", \"ever\", \"ever\", \"exactly\", \"exam\", \"example\", \"execute\", \"execution\", \"exist\", \"exit\", \"exithow\", \"expect\", \"experience\", \"expert\", \"explain\", \"explicit\", \"expression\", \"extension\", \"eye\", \"facet\", \"fact\", \"factory\", \"fall\", \"fast\", \"feasible\", \"feature\", \"feel\", \"figure\", \"find\", \"fine\", \"finish\", \"fire\", \"fireload\", \"first\", \"first_occurrence\", \"firstrow\", \"fix\", \"flag\", \"flash\", \"flexibility\", \"float\", \"float\", \"flv\", \"focusable\", \"format\", \"format\", \"frame\", \"framework\", \"friend\", \"fulfill\", \"full\", \"fully\", \"function\", \"functionality\", \"functionality\", \"garbage\", \"general\", \"generator\", \"generics\", \"getbyte\", \"getopt\", \"getter\", \"go\", \"gobbledy\", \"good\", \"good\", \"google\", \"google_chrome\", \"goughpass\", \"granularity\", \"graph\", \"gravity_center\", \"gray\", \"gripe\", \"groovy\", \"gui\", \"hafter\", \"hand\", \"handle\", \"handler\", \"hard\", \"hashbyte\", \"hashmap\", \"hashtable\", \"hasvalue\", \"havoc\", \"healthy\", \"hello_world\", \"help\", \"helper\", \"hexadecimal\", \"hierarchy\", \"high\", \"himadrisnippet\", \"hit\", \"hlumimplicit\", \"hope\", \"hopefully\", \"hopefully\", \"hopefully\", \"hopefully\", \"hopefully\", \"hqchannel\", \"hqdata\", \"hundred\", \"idea\", \"idea\", \"idea\", \"identity\", \"idiom\", \"ignore\", \"image\", \"impact\", \"implementation\", \"import\", \"improve\", \"include\", \"incompatible\", \"incredibly\", \"index\", \"industry\", \"information\", \"inherit\", \"inheritance\", \"init_py\", \"initial\", \"initializer\", \"inline\", \"input\", \"inputstream\", \"insert\", \"instal\", \"install\", \"instantiate\", \"instead\", \"int\", \"integ\", \"intercept\", \"intercept\", \"interested\", \"interfere\", \"invalidate\", \"invariably\", \"inverse\", \"inversion\", \"io_ioexception\", \"ip\", \"iphone\", \"ipv\", \"isession\", \"jasonschecke\", \"java\", \"job\", \"johnaccess\", \"join\", \"jquery\", \"json\", \"keep\", \"keithauto\", \"keithnamespace\", \"keithone\", \"keywordsyield\", \"kind\", \"know\", \"kokosa\", \"kokosnumber\", \"kokosreadonly\", \"lambda\", \"lambdas\", \"large\", \"lassev\", \"last\", \"layout_height\", \"layout_height\", \"layout_width\", \"lazily\", \"lazily\", \"lazily\", \"leak\", \"learn\", \"least\", \"leave\", \"length\", \"less\", \"lets_say\", \"level\", \"levelname\", \"lfoust\", \"library\", \"license\", \"light\", \"lightweight\", \"like\", \"line\", \"linkelement\", \"linq\", \"literal\", \"load\", \"loaddataobject\", \"loadevent\", \"loadtype\", \"loadxmlfrom\", \"loc\", \"lock\", \"logend\", \"logger_setlevel\", \"lomaxxformat\", \"long\", \"look\", \"loop\", \"lose\", \"machine\", \"mail\", \"maintain\", \"major_browser\", \"make\", \"manual\", \"map\", \"mapping\", \"margin\", \"master\", \"match\", \"matching\", \"matter\", \"mbiek\", \"mean\", \"meaning\", \"medium\", \"member\", \"memory\", \"memory_leak\", \"merging\", \"message\", \"metadata\", \"method\", \"methodinfo\", \"mimic\", \"minute\", \"mistaken\", \"modern\", \"modify\", \"module\", \"moment\", \"mongodb\", \"monitor\", \"multi_threade\", \"multithreade\", \"mvc\", \"mysql\", \"mysqldump\", \"name\", \"naturally\", \"need\", \"nest\", \"nested\", \"net\", \"network\", \"new\", \"newbie\", \"nhibernate\", \"nicely\", \"nightmare\", \"none\", \"none\", \"normal\", \"notify\", \"notifyall\", \"notmyself\", \"notmyself\", \"nuance\", \"nullable\", \"number\", \"numberofbucket\", \"obfuscate\", \"obfuscation\", \"obfuscation\", \"obfuscator\", \"object\", \"object_sender\", \"objective\", \"obvious\", \"odometer\", \"often\", \"old\", \"omit\", \"one\", \"oo\", \"open\", \"optimization\", \"option\", \"optparse\", \"oracle\", \"order\", \"ordner\", \"original\", \"orphan\", \"orthogonality\", \"oruse\", \"outdated\", \"overall\", \"overlap\", \"overload\", \"padding\", \"page\", \"paradigm\", \"paragraph\", \"param\", \"parameter\", \"parenthese\", \"parser\", \"parser\", \"parser\", \"parsing\", \"part\", \"partial\", \"partyaop\", \"patchwhat\", \"performance\", \"performance_wise\", \"persist\", \"persistence\", \"persister\", \"pfj\", \"photo\", \"php\", \"physical\", \"piece\", \"place\", \"plain\", \"plain\", \"pm\", \"pop\", \"port\", \"portadvantage\", \"portion\", \"position\", \"postgre\", \"potentially\", \"power\", \"practice\", \"preferably\", \"preference\", \"principle\", \"probably\", \"problem\", \"problem\", \"problem\", \"problematic\", \"proc\", \"procedure\", \"processworke\", \"procs\", \"program\", \"programmer\", \"programming\", \"project\", \"psql\", \"public\", \"purpose\", \"put\", \"putty\", \"python\", \"python\", \"pzycomanuse\", \"query\", \"question\", \"quickly\", \"quite\", \"rail\", \"random\", \"rather\", \"readable\", \"readingideally\", \"readonly\", \"real\", \"realize\", \"really\", \"reccommend\", \"rectangle\", \"redesign\", \"redirect\", \"refactor\", \"reference\", \"reflection\", \"regex\", \"registry\", \"reified\", \"related\", \"remember\", \"remove\", \"rename\", \"replace\", \"report\", \"require\", \"requirejs\", \"response\", \"restriction\", \"retain\", \"return\", \"revert\", \"review\", \"rewriting\", \"rounded_corner\", \"rowtomap\", \"rss_feed\", \"rtmhow\", \"run\", \"running\", \"runtime\", \"rvm\", \"sandboxe\", \"saxexception\", \"say\", \"scale\", \"scheduler\", \"screen\", \"script\", \"search\", \"second\", \"see\", \"seem\", \"select\", \"selection\", \"send\", \"sequence\", \"serialize\", \"serve\", \"server\", \"session\", \"set\", \"setter\", \"settle\", \"show\", \"silver\", \"simple\", \"simply\", \"situation\", \"size\", \"sized\", \"slightly\", \"slow\", \"small\", \"smart\", \"soap\", \"solution\", \"someone_explain\", \"someone_explain\", \"somevariable\", \"somevariable\", \"somevariable\", \"source\", \"source\", \"source\", \"speak\", \"special\", \"specific\", \"specifically\", \"specify\", \"speed\", \"spit\", \"split\", \"spring\", \"sql\", \"sql_server\", \"square_bracket\", \"standing\", \"start\", \"statement\", \"static\", \"stone\", \"stop\", \"stop\", \"stored_procedure\", \"str\", \"strategy\", \"string\", \"structure\", \"structwe\", \"struggle\", \"studio\", \"stumuse\", \"subcategoryid\", \"submit\", \"substitute\", \"subversion\", \"suddenly\", \"suggest\", \"suggestion\", \"suppose\", \"suspect\", \"svn\", \"swangrena\", \"swing\", \"symbol\", \"system\", \"tableview\", \"tagging\", \"take_screenshot\", \"take_screenshot\", \"tangle\", \"tar\", \"target\", \"tds\", \"team\", \"tell\", \"ternary_operator\", \"terribly\", \"test\", \"testing\", \"thanksuse\", \"theory\", \"thing\", \"thread\", \"throrough\", \"throw\", \"time\", \"tired\", \"title\", \"together\", \"tool\", \"top\", \"toy\", \"trace\", \"transaction\", \"trial\", \"trial\", \"trial\", \"tricksnice\", \"true\", \"try\", \"trycast\", \"typing\", \"ui\", \"umlaut\", \"unanswered\", \"uncheck\", \"unchecked\", \"unclear\", \"underlie\", \"understanding\", \"undirected\", \"unicode_character\", \"unit\", \"unit_test\", \"unit_teste\", \"unix\", \"unknown\", \"url\", \"use\", \"username_password\", \"usually\", \"value\", \"valueof\", \"various\", \"velocity\", \"version\", \"version\", \"version\", \"vim\", \"vmware\", \"void\", \"vwdtempjquery\", \"wait\", \"want\", \"way\", \"web\", \"website\", \"well\", \"wide\", \"width\", \"willjavascript\", \"window\", \"wire\", \"wise\", \"wonder\", \"working\", \"wrapper\", \"write\", \"writing\", \"wrong\", \"xcode\", \"xml_sax\", \"year\", \"zealot\"]}, \"R\": 30, \"lambda.step\": 0.01, \"plot.opts\": {\"xlab\": \"PC1\", \"ylab\": \"PC2\"}, \"topic.order\": [24, 5, 7, 8, 22, 15, 1, 23, 4, 3, 18, 19, 20, 2, 10, 25, 14, 9, 6, 16, 13, 17, 21, 27, 26, 11, 12]};\n",
       "\n",
       "function LDAvis_load_lib(url, callback){\n",
       "  var s = document.createElement('script');\n",
       "  s.src = url;\n",
       "  s.async = true;\n",
       "  s.onreadystatechange = s.onload = callback;\n",
       "  s.onerror = function(){console.warn(\"failed to load library \" + url);};\n",
       "  document.getElementsByTagName(\"head\")[0].appendChild(s);\n",
       "}\n",
       "\n",
       "if(typeof(LDAvis) !== \"undefined\"){\n",
       "   // already loaded: just create the visualization\n",
       "   !function(LDAvis){\n",
       "       new LDAvis(\"#\" + \"ldavis_el1328828620277630405043574678\", ldavis_el1328828620277630405043574678_data);\n",
       "   }(LDAvis);\n",
       "}else if(typeof define === \"function\" && define.amd){\n",
       "   // require.js is available: use it to load d3/LDAvis\n",
       "   require.config({paths: {d3: \"https://d3js.org/d3.v5\"}});\n",
       "   require([\"d3\"], function(d3){\n",
       "      window.d3 = d3;\n",
       "      LDAvis_load_lib(\"https://cdn.jsdelivr.net/gh/bmabey/pyLDAvis@3.3.1/pyLDAvis/js/ldavis.v3.0.0.js\", function(){\n",
       "        new LDAvis(\"#\" + \"ldavis_el1328828620277630405043574678\", ldavis_el1328828620277630405043574678_data);\n",
       "      });\n",
       "    });\n",
       "}else{\n",
       "    // require.js not available: dynamically load d3 & LDAvis\n",
       "    LDAvis_load_lib(\"https://d3js.org/d3.v5.js\", function(){\n",
       "         LDAvis_load_lib(\"https://cdn.jsdelivr.net/gh/bmabey/pyLDAvis@3.3.1/pyLDAvis/js/ldavis.v3.0.0.js\", function(){\n",
       "                 new LDAvis(\"#\" + \"ldavis_el1328828620277630405043574678\", ldavis_el1328828620277630405043574678_data);\n",
       "            })\n",
       "         });\n",
       "}\n",
       "</script>"
      ],
      "text/plain": [
       "PreparedData(topic_coordinates=              x         y  topics  cluster       Freq\n",
       "topic                                                \n",
       "23     0.355207  0.118242       1        1  34.140195\n",
       "4      0.123339  0.017657       2        1   6.221341\n",
       "6      0.140412 -0.056229       3        1   4.443006\n",
       "7      0.061118 -0.303288       4        1   4.007154\n",
       "21     0.112987  0.104844       5        1   3.929400\n",
       "14     0.010865  0.017918       6        1   3.279291\n",
       "0      0.084842 -0.036094       7        1   3.180640\n",
       "22     0.052328  0.022077       8        1   3.042705\n",
       "3      0.003962  0.007671       9        1   2.996005\n",
       "2      0.041414 -0.297806      10        1   2.924999\n",
       "17    -0.000968  0.021536      11        1   2.839868\n",
       "18     0.086713  0.105664      12        1   2.726827\n",
       "19    -0.027338 -0.093169      13        1   2.693058\n",
       "1     -0.035982  0.031399      14        1   2.392080\n",
       "9     -0.021076  0.047703      15        1   2.224267\n",
       "24    -0.037703  0.015615      16        1   2.168075\n",
       "13    -0.057016  0.017351      17        1   2.153423\n",
       "8     -0.056251  0.016869      18        1   2.083093\n",
       "5     -0.037704  0.029594      19        1   1.964731\n",
       "15    -0.078897  0.021556      20        1   1.665497\n",
       "12    -0.089233  0.019510      21        1   1.558436\n",
       "16    -0.070398  0.029571      22        1   1.545890\n",
       "20    -0.094445  0.024314      23        1   1.511515\n",
       "26    -0.109628  0.026601      24        1   1.152472\n",
       "25    -0.109956  0.034309      25        1   1.090547\n",
       "10    -0.126966  0.028702      26        1   1.040519\n",
       "11    -0.119627  0.027884      27        1   1.024967, topic_info=                  Term          Freq         Total Category  logprob  loglift\n",
       "63             default  22207.000000  22207.000000  Default  30.0000  30.0000\n",
       "291          framework  18561.000000  18561.000000  Default  29.0000  29.0000\n",
       "42               regex  16789.000000  16789.000000  Default  28.0000  28.0000\n",
       "199             object  17020.000000  17020.000000  Default  27.0000  27.0000\n",
       "31               match  14268.000000  14268.000000  Default  26.0000  26.0000\n",
       "...                ...           ...           ...      ...      ...      ...\n",
       "2304            idiomc      0.034535      1.018266  Topic27 -13.2091   1.1966\n",
       "1713         intention      0.034535      1.018266  Topic27 -13.2091   1.1966\n",
       "1513               sum      0.034535      1.018266  Topic27 -13.2091   1.1966\n",
       "1595  position_ordinal      0.034535      1.018266  Topic27 -13.2091   1.1966\n",
       "1538    findfirstindex      0.034535      1.018266  Topic27 -13.2091   1.1966\n",
       "\n",
       "[918 rows x 6 columns], token_table=      Topic      Freq         Term\n",
       "term                              \n",
       "1049     15  0.983841   absolutely\n",
       "1313     12  0.997871  abstraction\n",
       "177       5  0.999317       access\n",
       "99        1  0.999679     accessor\n",
       "1314     12  0.995907      account\n",
       "...     ...       ...          ...\n",
       "620      21  0.977895        wrong\n",
       "98       13  0.998384        xcode\n",
       "353      13  0.999511      xml_sax\n",
       "1138      9  0.980277         year\n",
       "1404     25  0.996422       zealot\n",
       "\n",
       "[833 rows x 3 columns], R=30, lambda_step=0.01, plot_opts={'xlab': 'PC1', 'ylab': 'PC2'}, topic_order=[24, 5, 7, 8, 22, 15, 1, 23, 4, 3, 18, 19, 20, 2, 10, 25, 14, 9, 6, 16, 13, 17, 21, 27, 26, 11, 12])"
      ]
     },
     "execution_count": 135,
     "metadata": {},
     "output_type": "execute_result"
    }
   ],
   "source": [
    "# Visualize the topics\n",
    "pyLDAvis.enable_notebook()\n",
    "vis = pyLDAvis.gensim_models.prepare(optimal_model, corpus, id2word)\n",
    "vis"
   ]
  },
  {
   "cell_type": "markdown",
   "id": "ce56d399",
   "metadata": {},
   "source": [
    "**Word Cloud of Top N words in each topic**"
   ]
  },
  {
   "cell_type": "code",
   "execution_count": 141,
   "id": "6785eb4a",
   "metadata": {
    "ExecuteTime": {
     "end_time": "2021-08-11T15:12:04.772179Z",
     "start_time": "2021-08-11T15:11:55.542598Z"
    }
   },
   "outputs": [
    {
     "ename": "IndexError",
     "evalue": "list index out of range",
     "output_type": "error",
     "traceback": [
      "\u001b[1;31m---------------------------------------------------------------------------\u001b[0m",
      "\u001b[1;31mIndexError\u001b[0m                                Traceback (most recent call last)",
      "\u001b[1;32mC:\\Users\\ELISEA~1\\AppData\\Local\\Temp/ipykernel_13288/2001013033.py\u001b[0m in \u001b[0;36m<module>\u001b[1;34m\u001b[0m\n\u001b[0;32m     20\u001b[0m \u001b[1;32mfor\u001b[0m \u001b[0mi\u001b[0m\u001b[1;33m,\u001b[0m \u001b[0max\u001b[0m \u001b[1;32min\u001b[0m \u001b[0menumerate\u001b[0m\u001b[1;33m(\u001b[0m\u001b[0maxes\u001b[0m\u001b[1;33m.\u001b[0m\u001b[0mflatten\u001b[0m\u001b[1;33m(\u001b[0m\u001b[1;33m)\u001b[0m\u001b[1;33m)\u001b[0m\u001b[1;33m:\u001b[0m\u001b[1;33m\u001b[0m\u001b[1;33m\u001b[0m\u001b[0m\n\u001b[0;32m     21\u001b[0m     \u001b[0mfig\u001b[0m\u001b[1;33m.\u001b[0m\u001b[0madd_subplot\u001b[0m\u001b[1;33m(\u001b[0m\u001b[0max\u001b[0m\u001b[1;33m)\u001b[0m\u001b[1;33m\u001b[0m\u001b[1;33m\u001b[0m\u001b[0m\n\u001b[1;32m---> 22\u001b[1;33m     \u001b[0mtopic_words\u001b[0m \u001b[1;33m=\u001b[0m \u001b[0mdict\u001b[0m\u001b[1;33m(\u001b[0m\u001b[0mtopics\u001b[0m\u001b[1;33m[\u001b[0m\u001b[0mi\u001b[0m\u001b[1;33m]\u001b[0m\u001b[1;33m[\u001b[0m\u001b[1;36m1\u001b[0m\u001b[1;33m]\u001b[0m\u001b[1;33m)\u001b[0m\u001b[1;33m\u001b[0m\u001b[1;33m\u001b[0m\u001b[0m\n\u001b[0m\u001b[0;32m     23\u001b[0m     \u001b[0mcloud\u001b[0m\u001b[1;33m.\u001b[0m\u001b[0mgenerate_from_frequencies\u001b[0m\u001b[1;33m(\u001b[0m\u001b[0mtopic_words\u001b[0m\u001b[1;33m,\u001b[0m \u001b[0mmax_font_size\u001b[0m\u001b[1;33m=\u001b[0m\u001b[1;36m300\u001b[0m\u001b[1;33m)\u001b[0m\u001b[1;33m\u001b[0m\u001b[1;33m\u001b[0m\u001b[0m\n\u001b[0;32m     24\u001b[0m     \u001b[0mplt\u001b[0m\u001b[1;33m.\u001b[0m\u001b[0mgca\u001b[0m\u001b[1;33m(\u001b[0m\u001b[1;33m)\u001b[0m\u001b[1;33m.\u001b[0m\u001b[0mimshow\u001b[0m\u001b[1;33m(\u001b[0m\u001b[0mcloud\u001b[0m\u001b[1;33m)\u001b[0m\u001b[1;33m\u001b[0m\u001b[1;33m\u001b[0m\u001b[0m\n",
      "\u001b[1;31mIndexError\u001b[0m: list index out of range"
     ]
    },
    {
     "data": {
      "image/png": "[encoded data removed]",
      "text/plain": [
       "<Figure size 360x360 with 30 Axes>"
      ]
     },
     "metadata": {
      "needs_background": "light"
     },
     "output_type": "display_data"
    }
   ],
   "source": [
    "#Wordcloud of Top N words in each topic\n",
    "from nltk.corpus import stopwords\n",
    "stop_words = stopwords.words('english')\n",
    "\n",
    "cols = [color for name, color in mcolors.TABLEAU_COLORS.items()]\n",
    "\n",
    "cloud = WordCloud(stopwords=stop_words,\n",
    "                  background_color='white',\n",
    "                  width=2500,\n",
    "                  height=1800,\n",
    "                  max_words=10,\n",
    "                  colormap='tab10',\n",
    "                  color_func=lambda *args, **kwargs: cols[i],\n",
    "                  prefer_horizontal=1.0)\n",
    "\n",
    "topics = optimal_model.show_topics(formatted=False)\n",
    "\n",
    "fig, axes = plt.subplots(10, 3, figsize=(5,5), sharex=True, sharey=True)\n",
    "\n",
    "for i, ax in enumerate(axes.flatten()):\n",
    "    fig.add_subplot(ax)\n",
    "    topic_words = dict(topics[i][1])\n",
    "    cloud.generate_from_frequencies(topic_words, max_font_size=300)\n",
    "    plt.gca().imshow(cloud)\n",
    "    plt.gca().set_title('Topic ' + str(i), fontdict=dict(size=16))\n",
    "    plt.gca().axis('off')\n",
    "\n",
    "\n",
    "plt.subplots_adjust(wspace=0, hspace=0)\n",
    "plt.axis('off')\n",
    "plt.margins(x=0, y=0)\n",
    "plt.tight_layout()\n",
    "plt.show()"
   ]
  },
  {
   "cell_type": "markdown",
   "id": "74df9e9e",
   "metadata": {},
   "source": [
    "## Finding the dominant topic in each sentence"
   ]
  },
  {
   "cell_type": "code",
   "execution_count": 119,
   "id": "93a8431f",
   "metadata": {
    "ExecuteTime": {
     "end_time": "2021-08-11T13:34:27.180065Z",
     "start_time": "2021-08-11T13:34:27.104423Z"
    }
   },
   "outputs": [],
   "source": [
    "def format_topics_sentences(ldamodel=optimal_model, corpus=corpus, texts=df['preprocess_content']):\n",
    "    # Init output\n",
    "    sent_topics_df = pd.DataFrame()\n",
    "\n",
    "    # Get main topic in each document\n",
    "    for i, row in enumerate(ldamodel[corpus]):\n",
    "        row = sorted(row[0], key=lambda x: (x[1]), reverse=True)\n",
    "        # Get the Dominant topic, Perc Contribution and Keywords for each document\n",
    "        for j, (topic_num, prop_topic) in enumerate(row):\n",
    "            if j == 0:  # => dominant topic\n",
    "                wp = ldamodel.show_topic(topic_num)\n",
    "                topic_keywords = \", \".join([word for word, prop in wp])\n",
    "                sent_topics_df = sent_topics_df.append(pd.Series([int(topic_num), round(prop_topic,4), topic_keywords]), ignore_index=True)\n",
    "            else:\n",
    "                break\n",
    "    sent_topics_df.columns = ['Dominant_Topic', 'Perc_Contribution', 'Topic_Keywords']\n",
    "\n",
    "    # Add original text to the end of the output\n",
    "    contents = pd.Series(texts)\n",
    "    sent_topics_df = pd.concat([sent_topics_df, contents], axis=1)\n",
    "    return(sent_topics_df)"
   ]
  },
  {
   "cell_type": "code",
   "execution_count": 120,
   "id": "db88dd63",
   "metadata": {
    "ExecuteTime": {
     "end_time": "2021-08-11T13:40:24.819032Z",
     "start_time": "2021-08-11T13:34:27.181104Z"
    }
   },
   "outputs": [],
   "source": [
    "df_topic_sents_keywords = format_topics_sentences(ldamodel=optimal_model, corpus=corpus, texts=df['preprocess_content'])"
   ]
  },
  {
   "cell_type": "code",
   "execution_count": 121,
   "id": "1db0e650",
   "metadata": {
    "ExecuteTime": {
     "end_time": "2021-08-11T13:40:24.866110Z",
     "start_time": "2021-08-11T13:40:24.824982Z"
    }
   },
   "outputs": [
    {
     "data": {
      "text/html": [
       "<div>\n",
       "<style scoped>\n",
       "    .dataframe tbody tr th:only-of-type {\n",
       "        vertical-align: middle;\n",
       "    }\n",
       "\n",
       "    .dataframe tbody tr th {\n",
       "        vertical-align: top;\n",
       "    }\n",
       "\n",
       "    .dataframe thead th {\n",
       "        text-align: right;\n",
       "    }\n",
       "</style>\n",
       "<table border=\"1\" class=\"dataframe\">\n",
       "  <thead>\n",
       "    <tr style=\"text-align: right;\">\n",
       "      <th></th>\n",
       "      <th>Document_No</th>\n",
       "      <th>Dominant_Topic</th>\n",
       "      <th>Topic_Perc_Contrib</th>\n",
       "      <th>Keywords</th>\n",
       "      <th>Text</th>\n",
       "    </tr>\n",
       "  </thead>\n",
       "  <tbody>\n",
       "    <tr>\n",
       "      <th>0</th>\n",
       "      <td>0</td>\n",
       "      <td>4.0</td>\n",
       "      <td>0.3113</td>\n",
       "      <td>use, really, uncheck, unix, vmware, catch_exce...</td>\n",
       "      <td>[way, machine, plan, version, way, think, run,...</td>\n",
       "    </tr>\n",
       "    <tr>\n",
       "      <th>1</th>\n",
       "      <td>1</td>\n",
       "      <td>4.0</td>\n",
       "      <td>0.4269</td>\n",
       "      <td>use, really, uncheck, unix, vmware, catch_exce...</td>\n",
       "      <td>[gigantic, ugly, string, transaction, start, p...</td>\n",
       "    </tr>\n",
       "    <tr>\n",
       "      <th>2</th>\n",
       "      <td>2</td>\n",
       "      <td>4.0</td>\n",
       "      <td>0.3306</td>\n",
       "      <td>use, really, uncheck, unix, vmware, catch_exce...</td>\n",
       "      <td>[work, autolayout, constraint, find, constrain...</td>\n",
       "    </tr>\n",
       "    <tr>\n",
       "      <th>3</th>\n",
       "      <td>3</td>\n",
       "      <td>4.0</td>\n",
       "      <td>0.3577</td>\n",
       "      <td>use, really, uncheck, unix, vmware, catch_exce...</td>\n",
       "      <td>[learn, objective, keep, bump, symbol, use, di...</td>\n",
       "    </tr>\n",
       "    <tr>\n",
       "      <th>4</th>\n",
       "      <td>4</td>\n",
       "      <td>4.0</td>\n",
       "      <td>0.3457</td>\n",
       "      <td>use, really, uncheck, unix, vmware, catch_exce...</td>\n",
       "      <td>[simple, way, pretty, standard, unix, environm...</td>\n",
       "    </tr>\n",
       "    <tr>\n",
       "      <th>5</th>\n",
       "      <td>5</td>\n",
       "      <td>4.0</td>\n",
       "      <td>0.7069</td>\n",
       "      <td>use, really, uncheck, unix, vmware, catch_exce...</td>\n",
       "      <td>[write, java, utility, generate, load, datum, ...</td>\n",
       "    </tr>\n",
       "    <tr>\n",
       "      <th>6</th>\n",
       "      <td>6</td>\n",
       "      <td>4.0</td>\n",
       "      <td>0.3414</td>\n",
       "      <td>use, really, uncheck, unix, vmware, catch_exce...</td>\n",
       "      <td>[need, find, format, number, string, code, ret...</td>\n",
       "    </tr>\n",
       "    <tr>\n",
       "      <th>7</th>\n",
       "      <td>7</td>\n",
       "      <td>4.0</td>\n",
       "      <td>0.3161</td>\n",
       "      <td>use, really, uncheck, unix, vmware, catch_exce...</td>\n",
       "      <td>[local, access, server, way, duplicate, clone,...</td>\n",
       "    </tr>\n",
       "    <tr>\n",
       "      <th>8</th>\n",
       "      <td>8</td>\n",
       "      <td>11.0</td>\n",
       "      <td>0.3536</td>\n",
       "      <td>least, fully, sql_server, standing, way, mysql...</td>\n",
       "      <td>[best_practice, consider, catch, exception, th...</td>\n",
       "    </tr>\n",
       "    <tr>\n",
       "      <th>9</th>\n",
       "      <td>9</td>\n",
       "      <td>6.0</td>\n",
       "      <td>0.4204</td>\n",
       "      <td>object, thing, specifically, match, bump, size...</td>\n",
       "      <td>[give, class, like, trace, functionality, log,...</td>\n",
       "    </tr>\n",
       "  </tbody>\n",
       "</table>\n",
       "</div>"
      ],
      "text/plain": [
       "   Document_No  Dominant_Topic  Topic_Perc_Contrib  \\\n",
       "0            0             4.0              0.3113   \n",
       "1            1             4.0              0.4269   \n",
       "2            2             4.0              0.3306   \n",
       "3            3             4.0              0.3577   \n",
       "4            4             4.0              0.3457   \n",
       "5            5             4.0              0.7069   \n",
       "6            6             4.0              0.3414   \n",
       "7            7             4.0              0.3161   \n",
       "8            8            11.0              0.3536   \n",
       "9            9             6.0              0.4204   \n",
       "\n",
       "                                            Keywords  \\\n",
       "0  use, really, uncheck, unix, vmware, catch_exce...   \n",
       "1  use, really, uncheck, unix, vmware, catch_exce...   \n",
       "2  use, really, uncheck, unix, vmware, catch_exce...   \n",
       "3  use, really, uncheck, unix, vmware, catch_exce...   \n",
       "4  use, really, uncheck, unix, vmware, catch_exce...   \n",
       "5  use, really, uncheck, unix, vmware, catch_exce...   \n",
       "6  use, really, uncheck, unix, vmware, catch_exce...   \n",
       "7  use, really, uncheck, unix, vmware, catch_exce...   \n",
       "8  least, fully, sql_server, standing, way, mysql...   \n",
       "9  object, thing, specifically, match, bump, size...   \n",
       "\n",
       "                                                Text  \n",
       "0  [way, machine, plan, version, way, think, run,...  \n",
       "1  [gigantic, ugly, string, transaction, start, p...  \n",
       "2  [work, autolayout, constraint, find, constrain...  \n",
       "3  [learn, objective, keep, bump, symbol, use, di...  \n",
       "4  [simple, way, pretty, standard, unix, environm...  \n",
       "5  [write, java, utility, generate, load, datum, ...  \n",
       "6  [need, find, format, number, string, code, ret...  \n",
       "7  [local, access, server, way, duplicate, clone,...  \n",
       "8  [best_practice, consider, catch, exception, th...  \n",
       "9  [give, class, like, trace, functionality, log,...  "
      ]
     },
     "execution_count": 121,
     "metadata": {},
     "output_type": "execute_result"
    }
   ],
   "source": [
    "# Format\n",
    "df_dominant_topic = df_topic_sents_keywords.reset_index()\n",
    "df_dominant_topic.columns = ['Document_No', 'Dominant_Topic', 'Topic_Perc_Contrib', 'Keywords', 'Text']\n",
    "\n",
    "# Show\n",
    "df_dominant_topic.head(10)"
   ]
  },
  {
   "cell_type": "markdown",
   "id": "e0aee0fe",
   "metadata": {},
   "source": [
    "## Find the most representative document for each topic"
   ]
  },
  {
   "cell_type": "code",
   "execution_count": 122,
   "id": "258508a9",
   "metadata": {
    "ExecuteTime": {
     "end_time": "2021-08-11T13:40:24.948905Z",
     "start_time": "2021-08-11T13:40:24.868116Z"
    }
   },
   "outputs": [
    {
     "data": {
      "text/html": [
       "<div>\n",
       "<style scoped>\n",
       "    .dataframe tbody tr th:only-of-type {\n",
       "        vertical-align: middle;\n",
       "    }\n",
       "\n",
       "    .dataframe tbody tr th {\n",
       "        vertical-align: top;\n",
       "    }\n",
       "\n",
       "    .dataframe thead th {\n",
       "        text-align: right;\n",
       "    }\n",
       "</style>\n",
       "<table border=\"1\" class=\"dataframe\">\n",
       "  <thead>\n",
       "    <tr style=\"text-align: right;\">\n",
       "      <th></th>\n",
       "      <th>Topic_Num</th>\n",
       "      <th>Topic_Perc_Contrib</th>\n",
       "      <th>Keywords</th>\n",
       "      <th>Text</th>\n",
       "    </tr>\n",
       "  </thead>\n",
       "  <tbody>\n",
       "    <tr>\n",
       "      <th>0</th>\n",
       "      <td>0.0</td>\n",
       "      <td>0.7752</td>\n",
       "      <td>matching, else, suggest, image, color, partyao...</td>\n",
       "      <td>NaN</td>\n",
       "    </tr>\n",
       "    <tr>\n",
       "      <th>1</th>\n",
       "      <td>1.0</td>\n",
       "      <td>0.7040</td>\n",
       "      <td>default, ampmhour, pfj, symbol, concatenate_st...</td>\n",
       "      <td>[consider, somevar, hasownproperty, someproper...</td>\n",
       "    </tr>\n",
       "    <tr>\n",
       "      <th>2</th>\n",
       "      <td>2.0</td>\n",
       "      <td>0.6720</td>\n",
       "      <td>regex, format, int, hopefully, change, actual,...</td>\n",
       "      <td>[shortcut, tell, git, push, current, tracking,...</td>\n",
       "    </tr>\n",
       "    <tr>\n",
       "      <th>3</th>\n",
       "      <td>3.0</td>\n",
       "      <td>0.6837</td>\n",
       "      <td>apple, url, always, know, additional, static, ...</td>\n",
       "      <td>[program, thing, annoy, time, take, compile, p...</td>\n",
       "    </tr>\n",
       "    <tr>\n",
       "      <th>4</th>\n",
       "      <td>4.0</td>\n",
       "      <td>0.7746</td>\n",
       "      <td>use, really, uncheck, unix, vmware, catch_exce...</td>\n",
       "      <td>[small, clone, way, want, expose, value, mini,...</td>\n",
       "    </tr>\n",
       "    <tr>\n",
       "      <th>5</th>\n",
       "      <td>5.0</td>\n",
       "      <td>0.5657</td>\n",
       "      <td>version, processworke, dualhow, classmanifest,...</td>\n",
       "      <td>[css, reason, safari, iphone, ignore, setting,...</td>\n",
       "    </tr>\n",
       "    <tr>\n",
       "      <th>6</th>\n",
       "      <td>6.0</td>\n",
       "      <td>0.6792</td>\n",
       "      <td>object, thing, specifically, match, bump, size...</td>\n",
       "      <td>[finish, read, scope, curious, assignment, man...</td>\n",
       "    </tr>\n",
       "    <tr>\n",
       "      <th>7</th>\n",
       "      <td>7.0</td>\n",
       "      <td>0.6769</td>\n",
       "      <td>framework, run, design, functionality, unix, l...</td>\n",
       "      <td>NaN</td>\n",
       "    </tr>\n",
       "    <tr>\n",
       "      <th>8</th>\n",
       "      <td>8.0</td>\n",
       "      <td>0.5214</td>\n",
       "      <td>developer, distract, crash, readonly, listgood...</td>\n",
       "      <td>[come, background, understand, python, version...</td>\n",
       "    </tr>\n",
       "    <tr>\n",
       "      <th>9</th>\n",
       "      <td>9.0</td>\n",
       "      <td>0.5487</td>\n",
       "      <td>writing, copy, window, comment, drop, fulfill,...</td>\n",
       "      <td>[trouble, write, regular_expression, match, va...</td>\n",
       "    </tr>\n",
       "    <tr>\n",
       "      <th>10</th>\n",
       "      <td>10.0</td>\n",
       "      <td>0.6320</td>\n",
       "      <td>utf, spit, license, swing, methodinfo, kokosnu...</td>\n",
       "      <td>[people, always, use, value, bit, operation, r...</td>\n",
       "    </tr>\n",
       "    <tr>\n",
       "      <th>11</th>\n",
       "      <td>11.0</td>\n",
       "      <td>0.4792</td>\n",
       "      <td>least, fully, sql_server, standing, way, mysql...</td>\n",
       "      <td>NaN</td>\n",
       "    </tr>\n",
       "  </tbody>\n",
       "</table>\n",
       "</div>"
      ],
      "text/plain": [
       "    Topic_Num  Topic_Perc_Contrib  \\\n",
       "0         0.0              0.7752   \n",
       "1         1.0              0.7040   \n",
       "2         2.0              0.6720   \n",
       "3         3.0              0.6837   \n",
       "4         4.0              0.7746   \n",
       "5         5.0              0.5657   \n",
       "6         6.0              0.6792   \n",
       "7         7.0              0.6769   \n",
       "8         8.0              0.5214   \n",
       "9         9.0              0.5487   \n",
       "10       10.0              0.6320   \n",
       "11       11.0              0.4792   \n",
       "\n",
       "                                             Keywords  \\\n",
       "0   matching, else, suggest, image, color, partyao...   \n",
       "1   default, ampmhour, pfj, symbol, concatenate_st...   \n",
       "2   regex, format, int, hopefully, change, actual,...   \n",
       "3   apple, url, always, know, additional, static, ...   \n",
       "4   use, really, uncheck, unix, vmware, catch_exce...   \n",
       "5   version, processworke, dualhow, classmanifest,...   \n",
       "6   object, thing, specifically, match, bump, size...   \n",
       "7   framework, run, design, functionality, unix, l...   \n",
       "8   developer, distract, crash, readonly, listgood...   \n",
       "9   writing, copy, window, comment, drop, fulfill,...   \n",
       "10  utf, spit, license, swing, methodinfo, kokosnu...   \n",
       "11  least, fully, sql_server, standing, way, mysql...   \n",
       "\n",
       "                                                 Text  \n",
       "0                                                 NaN  \n",
       "1   [consider, somevar, hasownproperty, someproper...  \n",
       "2   [shortcut, tell, git, push, current, tracking,...  \n",
       "3   [program, thing, annoy, time, take, compile, p...  \n",
       "4   [small, clone, way, want, expose, value, mini,...  \n",
       "5   [css, reason, safari, iphone, ignore, setting,...  \n",
       "6   [finish, read, scope, curious, assignment, man...  \n",
       "7                                                 NaN  \n",
       "8   [come, background, understand, python, version...  \n",
       "9   [trouble, write, regular_expression, match, va...  \n",
       "10  [people, always, use, value, bit, operation, r...  \n",
       "11                                                NaN  "
      ]
     },
     "execution_count": 122,
     "metadata": {},
     "output_type": "execute_result"
    }
   ],
   "source": [
    "# Group top 5 sentences under each topic\n",
    "sent_topics_sorteddf = pd.DataFrame()\n",
    "\n",
    "sent_topics_outdf_grpd = df_topic_sents_keywords.groupby('Dominant_Topic')\n",
    "\n",
    "for i, grp in sent_topics_outdf_grpd:\n",
    "    sent_topics_sorteddf = pd.concat([sent_topics_sorteddf, \n",
    "                                    grp.sort_values(['Perc_Contribution'], ascending=[0]).head(1)],\n",
    "                                   axis=0)\n",
    "\n",
    "# Reset Index    \n",
    "sent_topics_sorteddf.reset_index(drop=True, inplace=True)\n",
    "\n",
    "# Format\n",
    "sent_topics_sorteddf.columns = ['Topic_Num', \"Topic_Perc_Contrib\", \"Keywords\", \"Text\"]\n",
    "\n",
    "# Show\n",
    "sent_topics_sorteddf"
   ]
  },
  {
   "cell_type": "markdown",
   "id": "2996f906",
   "metadata": {},
   "source": [
    "**Topic distribution across documents**"
   ]
  },
  {
   "cell_type": "code",
   "execution_count": 123,
   "id": "2871bd36",
   "metadata": {
    "ExecuteTime": {
     "end_time": "2021-08-11T13:40:24.995319Z",
     "start_time": "2021-08-11T13:40:24.951229Z"
    }
   },
   "outputs": [
    {
     "data": {
      "text/html": [
       "<div>\n",
       "<style scoped>\n",
       "    .dataframe tbody tr th:only-of-type {\n",
       "        vertical-align: middle;\n",
       "    }\n",
       "\n",
       "    .dataframe tbody tr th {\n",
       "        vertical-align: top;\n",
       "    }\n",
       "\n",
       "    .dataframe thead th {\n",
       "        text-align: right;\n",
       "    }\n",
       "</style>\n",
       "<table border=\"1\" class=\"dataframe\">\n",
       "  <thead>\n",
       "    <tr style=\"text-align: right;\">\n",
       "      <th></th>\n",
       "      <th>Dominant_Topic</th>\n",
       "      <th>Topic_Keywords</th>\n",
       "      <th>Num_Documents</th>\n",
       "      <th>Perc_Documents</th>\n",
       "    </tr>\n",
       "  </thead>\n",
       "  <tbody>\n",
       "    <tr>\n",
       "      <th>0</th>\n",
       "      <td>0.0</td>\n",
       "      <td>matching, else, suggest, image, color, partyao...</td>\n",
       "      <td>2680</td>\n",
       "      <td>0.065799</td>\n",
       "    </tr>\n",
       "    <tr>\n",
       "      <th>1</th>\n",
       "      <td>1.0</td>\n",
       "      <td>default, ampmhour, pfj, symbol, concatenate_st...</td>\n",
       "      <td>1874</td>\n",
       "      <td>0.046010</td>\n",
       "    </tr>\n",
       "    <tr>\n",
       "      <th>2</th>\n",
       "      <td>2.0</td>\n",
       "      <td>regex, format, int, hopefully, change, actual,...</td>\n",
       "      <td>1766</td>\n",
       "      <td>0.043359</td>\n",
       "    </tr>\n",
       "    <tr>\n",
       "      <th>3</th>\n",
       "      <td>3.0</td>\n",
       "      <td>apple, url, always, know, additional, static, ...</td>\n",
       "      <td>994</td>\n",
       "      <td>0.024405</td>\n",
       "    </tr>\n",
       "    <tr>\n",
       "      <th>4</th>\n",
       "      <td>4.0</td>\n",
       "      <td>use, really, uncheck, unix, vmware, catch_exce...</td>\n",
       "      <td>28053</td>\n",
       "      <td>0.688755</td>\n",
       "    </tr>\n",
       "    <tr>\n",
       "      <th>5</th>\n",
       "      <td>5.0</td>\n",
       "      <td>version, processworke, dualhow, classmanifest,...</td>\n",
       "      <td>303</td>\n",
       "      <td>0.007439</td>\n",
       "    </tr>\n",
       "    <tr>\n",
       "      <th>6</th>\n",
       "      <td>6.0</td>\n",
       "      <td>object, thing, specifically, match, bump, size...</td>\n",
       "      <td>1628</td>\n",
       "      <td>0.039971</td>\n",
       "    </tr>\n",
       "    <tr>\n",
       "      <th>7</th>\n",
       "      <td>7.0</td>\n",
       "      <td>framework, run, design, functionality, unix, l...</td>\n",
       "      <td>2671</td>\n",
       "      <td>0.065578</td>\n",
       "    </tr>\n",
       "    <tr>\n",
       "      <th>8</th>\n",
       "      <td>8.0</td>\n",
       "      <td>developer, distract, crash, readonly, listgood...</td>\n",
       "      <td>220</td>\n",
       "      <td>0.005401</td>\n",
       "    </tr>\n",
       "    <tr>\n",
       "      <th>9</th>\n",
       "      <td>9.0</td>\n",
       "      <td>writing, copy, window, comment, drop, fulfill,...</td>\n",
       "      <td>277</td>\n",
       "      <td>0.006801</td>\n",
       "    </tr>\n",
       "    <tr>\n",
       "      <th>10</th>\n",
       "      <td>10.0</td>\n",
       "      <td>utf, spit, license, swing, methodinfo, kokosnu...</td>\n",
       "      <td>107</td>\n",
       "      <td>0.002627</td>\n",
       "    </tr>\n",
       "    <tr>\n",
       "      <th>11</th>\n",
       "      <td>11.0</td>\n",
       "      <td>least, fully, sql_server, standing, way, mysql...</td>\n",
       "      <td>157</td>\n",
       "      <td>0.003855</td>\n",
       "    </tr>\n",
       "  </tbody>\n",
       "</table>\n",
       "</div>"
      ],
      "text/plain": [
       "    Dominant_Topic                                     Topic_Keywords  \\\n",
       "0              0.0  matching, else, suggest, image, color, partyao...   \n",
       "1              1.0  default, ampmhour, pfj, symbol, concatenate_st...   \n",
       "2              2.0  regex, format, int, hopefully, change, actual,...   \n",
       "3              3.0  apple, url, always, know, additional, static, ...   \n",
       "4              4.0  use, really, uncheck, unix, vmware, catch_exce...   \n",
       "5              5.0  version, processworke, dualhow, classmanifest,...   \n",
       "6              6.0  object, thing, specifically, match, bump, size...   \n",
       "7              7.0  framework, run, design, functionality, unix, l...   \n",
       "8              8.0  developer, distract, crash, readonly, listgood...   \n",
       "9              9.0  writing, copy, window, comment, drop, fulfill,...   \n",
       "10            10.0  utf, spit, license, swing, methodinfo, kokosnu...   \n",
       "11            11.0  least, fully, sql_server, standing, way, mysql...   \n",
       "\n",
       "    Num_Documents  Perc_Documents  \n",
       "0            2680        0.065799  \n",
       "1            1874        0.046010  \n",
       "2            1766        0.043359  \n",
       "3             994        0.024405  \n",
       "4           28053        0.688755  \n",
       "5             303        0.007439  \n",
       "6            1628        0.039971  \n",
       "7            2671        0.065578  \n",
       "8             220        0.005401  \n",
       "9             277        0.006801  \n",
       "10            107        0.002627  \n",
       "11            157        0.003855  "
      ]
     },
     "execution_count": 123,
     "metadata": {},
     "output_type": "execute_result"
    }
   ],
   "source": [
    "df_dominant_topics = df_topic_sents_keywords[['Dominant_Topic', 'Topic_Keywords']].groupby(['Dominant_Topic', 'Topic_Keywords'])['Topic_Keywords'].count().reset_index(name='Num_Documents')\n",
    "\n",
    "df_dominant_topics['Perc_Documents'] = (df_dominant_topics['Num_Documents'])/(df_dominant_topics['Num_Documents'].sum())\n",
    "\n",
    "df_dominant_topics"
   ]
  },
  {
   "cell_type": "markdown",
   "id": "f61e08f6",
   "metadata": {},
   "source": [
    "# Non-Negative Matrix Factorization"
   ]
  },
  {
   "cell_type": "markdown",
   "id": "ffa1b0d9",
   "metadata": {},
   "source": [
    "Principes de la NMF : "
   ]
  },
  {
   "cell_type": "code",
   "execution_count": null,
   "id": "7faa5b44",
   "metadata": {
    "ExecuteTime": {
     "end_time": "2021-08-10T17:13:57.487300Z",
     "start_time": "2021-08-10T17:13:57.487300Z"
    }
   },
   "outputs": [],
   "source": [
    "def top_words(topic, n_top_words):\n",
    "    return topic.argsort()[:-n_top_words - 1:-1]  \n",
    "\n",
    "\n",
    "def topic_table(model, feature_names, n_top_words):\n",
    "    topics = {}\n",
    "    for topic_idx, topic in enumerate(model.components_):\n",
    "        t = (topic_idx)\n",
    "        topics[t] = [feature_names[i] for i in top_words(topic, n_top_words)]\n",
    "    return pd.DataFrame(topics)\n",
    "\n",
    "\n",
    "def whitespace_tokenizer(text): \n",
    "    pattern = r\"(?u)\\b\\w\\w+\\b\" \n",
    "    tokenizer_regex = RegexpTokenizer(pattern)\n",
    "    tokens = tokenizer_regex.tokenize(text)\n",
    "    return tokens\n"
   ]
  },
  {
   "cell_type": "code",
   "execution_count": null,
   "id": "f4072362",
   "metadata": {
    "ExecuteTime": {
     "end_time": "2021-08-10T17:13:57.487300Z",
     "start_time": "2021-08-10T17:13:57.487300Z"
    }
   },
   "outputs": [],
   "source": [
    "# Use Gensim's NMF to get the best num of topics via coherence score\n",
    "texts = df['preprocess_content']\n",
    "\n",
    "# Create a dictionary\n",
    "# In gensim a dictionary is a mapping between words and their integer id\n",
    "dictionary = Dictionary(texts)\n",
    "\n",
    "# Filter out extremes to limit the number of features\n",
    "dictionary.filter_extremes(\n",
    "    no_below=3,\n",
    "    no_above=0.85,\n",
    "    keep_n=5000\n",
    ")\n",
    "\n",
    "# Create the bag-of-words format (list of (token_id, token_count))\n",
    "corpus = [dictionary.doc2bow(text) for text in texts]\n",
    "\n",
    "# Create a list of the topic numbers we want to try\n",
    "topic_nums = list(np.arange(9, 33, 3))\n",
    "\n",
    "# Run the nmf model and calculate the coherence score\n",
    "# for each number of topics\n",
    "coherence_scores = []\n",
    "\n",
    "for num in topic_nums:\n",
    "    nmf = Nmf(\n",
    "        corpus=corpus,\n",
    "        num_topics=num,\n",
    "        id2word=dictionary,\n",
    "        chunksize=2000,\n",
    "        passes=5,\n",
    "        kappa=.1,\n",
    "        minimum_probability=0.01,\n",
    "        w_max_iter=300,\n",
    "        w_stop_condition=0.0001,\n",
    "        h_max_iter=100,\n",
    "        h_stop_condition=0.001,\n",
    "        eval_every=10,\n",
    "        normalize=True,\n",
    "        random_state=42\n",
    "    )\n",
    "    \n",
    "    # Run the coherence model to get the score\n",
    "    cm = CoherenceModel(\n",
    "        model=nmf,\n",
    "        texts=texts,\n",
    "        dictionary=dictionary,\n",
    "        coherence='c_v'\n",
    "    )\n",
    "    \n",
    "    coherence_scores.append(round(cm.get_coherence(), 5))"
   ]
  },
  {
   "cell_type": "code",
   "execution_count": null,
   "id": "666bf799",
   "metadata": {
    "ExecuteTime": {
     "end_time": "2021-08-10T17:13:57.487300Z",
     "start_time": "2021-08-10T17:13:57.487300Z"
    }
   },
   "outputs": [],
   "source": [
    "# Get the number of topics with the highest coherence score\n",
    "scores = list(zip(topic_nums, coherence_scores))\n",
    "best_num_topics = sorted(scores, key=itemgetter(1), reverse=True)[0][0]"
   ]
  },
  {
   "cell_type": "code",
   "execution_count": null,
   "id": "18c85e4c",
   "metadata": {
    "ExecuteTime": {
     "end_time": "2021-08-10T17:13:57.487300Z",
     "start_time": "2021-08-10T17:13:57.487300Z"
    }
   },
   "outputs": [],
   "source": [
    "# Plot the results\n",
    "fig = plt.figure(figsize=(15, 7))\n",
    "\n",
    "plt.plot(\n",
    "    topic_nums,\n",
    "    coherence_scores,\n",
    "    linewidth=3,\n",
    "    color='#4287f5'\n",
    ")\n",
    "\n",
    "plt.xlabel(\"Topic Num\", fontsize=14)\n",
    "plt.ylabel(\"Coherence Score\", fontsize=14)\n",
    "plt.title('Coherence Score by Topic Number - Best Number of Topics: {}'.format(best_num_topics), fontsize=18)\n",
    "plt.xticks(fontsize=12)\n",
    "plt.yticks(fontsize=12)\n",
    "\n",
    "plt.show()"
   ]
  },
  {
   "cell_type": "code",
   "execution_count": null,
   "id": "7f4527bc",
   "metadata": {
    "ExecuteTime": {
     "end_time": "2021-08-10T17:13:57.487300Z",
     "start_time": "2021-08-10T17:13:57.487300Z"
    }
   },
   "outputs": [],
   "source": [
    "texts"
   ]
  },
  {
   "cell_type": "code",
   "execution_count": null,
   "id": "1a62f3cb",
   "metadata": {
    "ExecuteTime": {
     "end_time": "2021-08-10T17:13:57.487300Z",
     "start_time": "2021-08-10T17:13:57.487300Z"
    }
   },
   "outputs": [],
   "source": [
    "# Now use the number of topics with the highest coherence score to run the sklearn nmf model\n",
    "\n",
    "# Create the tfidf weights\n",
    "tfidf_vectorizer = TfidfVectorizer(\n",
    "    min_df=3,\n",
    "    max_df=0.85,\n",
    "    max_features=5000,\n",
    "    ngram_range=(1, 2),\n",
    "    preprocessor=' '.join)\n",
    "\n",
    "tfidf = tfidf_vectorizer.fit_transform(texts)\n",
    "\n",
    "# Save the feature names for later to create topic summaries\n",
    "tfidf_fn = tfidf_vectorizer.get_feature_names()\n",
    "\n",
    "# Run the nmf model\n",
    "nmf = NMF(\n",
    "    n_components=best_num_topics,\n",
    "    init='nndsvd',\n",
    "    max_iter=500,\n",
    "    l1_ratio=0.0,\n",
    "    solver='cd',\n",
    "    alpha=0.0,\n",
    "    tol=1e-4,\n",
    "    random_state=42).fit(tfidf)"
   ]
  },
  {
   "cell_type": "code",
   "execution_count": null,
   "id": "63e50227",
   "metadata": {
    "ExecuteTime": {
     "end_time": "2021-08-10T17:13:57.487300Z",
     "start_time": "2021-08-10T17:13:57.487300Z"
    }
   },
   "outputs": [],
   "source": [
    "# Use the top words for each cluster by tfidf weight to create 'topics'\n",
    "\n",
    "# Funtion to remove duplicate words\n",
    "def unique_words(text): \n",
    "    ulist = []\n",
    "    [ulist.append(x) for x in text if x not in ulist]\n",
    "    return ulist\n",
    "\n",
    "\n",
    "# Getting a df with each topic by document\n",
    "docweights = nmf.transform(tfidf_vectorizer.transform(texts))\n",
    "\n",
    "n_top_words = 10\n",
    "\n",
    "topic_df = topic_table(\n",
    "    nmf,\n",
    "    tfidf_fn,\n",
    "    n_top_words).T\n",
    "\n",
    "# Cleaning up the top words to create topic summaries\n",
    "topic_df['topics'] = topic_df.apply(lambda x: [' '.join(x)], axis=1) # Joining each word into a list\n",
    "topic_df['topics'] = topic_df['topics'].str[0]  # Removing the list brackets\n",
    "topic_df['topics'] = topic_df['topics'].apply(lambda x: whitespace_tokenizer(x)) # tokenize\n",
    "topic_df['topics'] = topic_df['topics'].apply(lambda x: unique_words(x))  # Removing duplicate words\n",
    "topic_df['topics'] = topic_df['topics'].apply(lambda x: [' '.join(x)])  # Joining each word into a list\n",
    "topic_df['topics'] = topic_df['topics'].str[0]  # Removing the list brackets\n",
    "\n",
    "topic_df"
   ]
  },
  {
   "cell_type": "code",
   "execution_count": null,
   "id": "804c8809",
   "metadata": {
    "ExecuteTime": {
     "end_time": "2021-08-10T17:13:57.504280Z",
     "start_time": "2021-08-10T17:13:57.504280Z"
    }
   },
   "outputs": [],
   "source": [
    "# Create a df with only the created topics and topic num\n",
    "topic_df = topic_df['topics'].reset_index()\n",
    "topic_df.columns = ['topic_num', 'topics']\n",
    "\n",
    "topic_df"
   ]
  },
  {
   "cell_type": "markdown",
   "id": "5bd2fc0e",
   "metadata": {},
   "source": [
    "# Prédiction à partir d'un modèle non supervisé"
   ]
  },
  {
   "cell_type": "code",
   "execution_count": null,
   "id": "a9542e1a",
   "metadata": {
    "ExecuteTime": {
     "end_time": "2021-08-10T17:13:57.505262Z",
     "start_time": "2021-08-10T17:13:57.505262Z"
    }
   },
   "outputs": [],
   "source": [
    "df.head()"
   ]
  },
  {
   "cell_type": "markdown",
   "id": "6830a43d",
   "metadata": {},
   "source": [
    "## Split en train et test test"
   ]
  },
  {
   "cell_type": "code",
   "execution_count": null,
   "id": "cf1eec09",
   "metadata": {
    "ExecuteTime": {
     "end_time": "2021-08-10T17:13:57.507258Z",
     "start_time": "2021-08-10T17:13:57.507258Z"
    }
   },
   "outputs": [],
   "source": [
    "# 75% random du dataset pour le train\n",
    "dftrain = df.sample(frac = 0.75)\n",
    "\n",
    "# 25% restant pour la prédiction sur data inconnue\n",
    "dftest = df.drop(dftrain.index).reset_index().drop(columns = 'index')\n",
    "\n",
    "dftrain = dftrain.reset_index().drop(columns = 'index')"
   ]
  },
  {
   "cell_type": "code",
   "execution_count": null,
   "id": "b12ef2bf",
   "metadata": {
    "ExecuteTime": {
     "end_time": "2021-08-10T17:13:57.509253Z",
     "start_time": "2021-08-10T17:13:57.508256Z"
    }
   },
   "outputs": [],
   "source": [
    "dftrain"
   ]
  },
  {
   "cell_type": "code",
   "execution_count": null,
   "id": "9b8f5a65",
   "metadata": {
    "ExecuteTime": {
     "end_time": "2021-08-10T17:13:57.510250Z",
     "start_time": "2021-08-10T17:13:57.510250Z"
    }
   },
   "outputs": [],
   "source": [
    "dftest.head()"
   ]
  },
  {
   "cell_type": "markdown",
   "id": "1c2de619",
   "metadata": {},
   "source": [
    "## Entrainement du modèle"
   ]
  },
  {
   "cell_type": "code",
   "execution_count": null,
   "id": "0d7a02e7",
   "metadata": {
    "ExecuteTime": {
     "end_time": "2021-08-10T17:13:57.512245Z",
     "start_time": "2021-08-10T17:13:57.512245Z"
    }
   },
   "outputs": [],
   "source": [
    "# Create the tfidf weights\n",
    "tfidf_vectorizer = TfidfVectorizer(\n",
    "    min_df=3,\n",
    "    max_df=0.85,\n",
    "    max_features=5000,\n",
    "    ngram_range=(1, 2),\n",
    "    preprocessor=' '.join)\n",
    "\n",
    "tfidf = tfidf_vectorizer.fit_transform(dftrain['preprocess_content'])\n",
    "\n",
    "# Save the feature names for later to create topic summaries\n",
    "tfidf_fn = tfidf_vectorizer.get_feature_names()\n",
    "\n",
    "# Run the nmf model\n",
    "nmf = NMF(\n",
    "    n_components=best_num_topics,\n",
    "    init='nndsvd',\n",
    "    max_iter=500,\n",
    "    l1_ratio=0.0,\n",
    "    solver='cd',\n",
    "    alpha=0.0,\n",
    "    tol=1e-4,\n",
    "    random_state=42).fit(tfidf)\n",
    "\n",
    "nmf"
   ]
  },
  {
   "cell_type": "markdown",
   "id": "6153937c",
   "metadata": {
    "ExecuteTime": {
     "end_time": "2021-07-31T14:52:20.050943Z",
     "start_time": "2021-07-31T14:52:20.033955Z"
    }
   },
   "source": [
    "## Prédiction sur le test set (données inconnue du modèle)"
   ]
  },
  {
   "cell_type": "code",
   "execution_count": null,
   "id": "32d16a07",
   "metadata": {
    "ExecuteTime": {
     "end_time": "2021-08-10T17:13:57.514240Z",
     "start_time": "2021-08-10T17:13:57.514240Z"
    }
   },
   "outputs": [],
   "source": [
    "# Transform the new data with the fitted models\n",
    "tfidf_new = tfidf_vectorizer.transform(dftest['preprocess_content'])\n",
    "X_new = nmf.transform(tfidf_new)\n",
    "\n",
    "# Get the top predicted topic\n",
    "predicted_topics = [np.argsort(each)[::-1][0] for each in X_new]\n",
    "\n",
    "# Add to the df\n",
    "dftest['topic_num'] = predicted_topics\n",
    "\n",
    "dftest"
   ]
  },
  {
   "cell_type": "code",
   "execution_count": null,
   "id": "b7424b11",
   "metadata": {
    "ExecuteTime": {
     "end_time": "2021-08-10T17:13:57.516238Z",
     "start_time": "2021-08-10T17:13:57.516238Z"
    }
   },
   "outputs": [],
   "source": [
    "# Getting a df with each topic by document\n",
    "docweights = nmf.transform(tfidf_vectorizer.transform(dftrain['preprocess_content']))\n",
    "\n",
    "n_top_words = 10\n",
    "\n",
    "topic_df = topic_table(\n",
    "    nmf,\n",
    "    tfidf_fn,\n",
    "    n_top_words).T\n",
    "\n",
    "# Cleaning up the top words to create topic summaries\n",
    "topic_df['topics'] = topic_df.apply(lambda x: [' '.join(x)], axis=1) # Joining each word into a list\n",
    "topic_df['topics'] = topic_df['topics'].str[0]  # Removing the list brackets\n",
    "topic_df['topics'] = topic_df['topics'].apply(lambda x: whitespace_tokenizer(x)) # tokenize\n",
    "topic_df['topics'] = topic_df['topics'].apply(lambda x: unique_words(x))  # Removing duplicate words\n",
    "topic_df['topics'] = topic_df['topics'].apply(lambda x: [' '.join(x)])  # Joining each word into a list\n",
    "topic_df['topics'] = topic_df['topics'].str[0]  # Removing the list brackets\n",
    "\n",
    "# Create a df with only the created topics and topic num\n",
    "topic_df = topic_df['topics'].reset_index()\n",
    "topic_df.columns = ['topic_num', 'topics']\n",
    "\n",
    "topic_df"
   ]
  },
  {
   "cell_type": "code",
   "execution_count": null,
   "id": "9518f5e3",
   "metadata": {
    "ExecuteTime": {
     "end_time": "2021-08-10T17:13:57.518229Z",
     "start_time": "2021-08-10T17:13:57.518229Z"
    }
   },
   "outputs": [],
   "source": [
    "# Join with the original df to get the topic summary\n",
    "dfpred = pd.merge(dftest, topic_df, on='topic_num', how='left')\n",
    "\n",
    "dfpred"
   ]
  },
  {
   "cell_type": "markdown",
   "id": "e9da0567",
   "metadata": {},
   "source": [
    "# Extraire des tags à partir des résultats précédents"
   ]
  },
  {
   "cell_type": "code",
   "execution_count": null,
   "id": "61fffa67",
   "metadata": {
    "ExecuteTime": {
     "end_time": "2021-08-10T17:13:57.519328Z",
     "start_time": "2021-08-10T17:13:57.519328Z"
    }
   },
   "outputs": [],
   "source": [
    "test = dfpred.loc[dfpred['topic_num']==1]"
   ]
  },
  {
   "cell_type": "code",
   "execution_count": null,
   "id": "26c4473e",
   "metadata": {
    "ExecuteTime": {
     "end_time": "2021-08-10T17:13:57.519328Z",
     "start_time": "2021-08-10T17:13:57.519328Z"
    },
    "scrolled": true
   },
   "outputs": [],
   "source": [
    "test.iloc[:,3:-2]"
   ]
  },
  {
   "cell_type": "code",
   "execution_count": null,
   "id": "4dfe8247",
   "metadata": {
    "ExecuteTime": {
     "end_time": "2021-08-10T17:13:57.519328Z",
     "start_time": "2021-08-10T17:13:57.519328Z"
    }
   },
   "outputs": [],
   "source": [
    "# Nbre d'occurence des tags\n",
    "sum_column1 = test.iloc[:,3:-2].sum(axis=0)\n",
    "print (sum_column1.sort_values()[-5:])"
   ]
  },
  {
   "cell_type": "code",
   "execution_count": null,
   "id": "695a6f23",
   "metadata": {
    "ExecuteTime": {
     "end_time": "2021-08-10T13:53:01.866804Z",
     "start_time": "2021-08-10T13:53:01.853338Z"
    }
   },
   "outputs": [],
   "source": []
  },
  {
   "cell_type": "code",
   "execution_count": null,
   "id": "5612b54a",
   "metadata": {},
   "outputs": [],
   "source": []
  },
  {
   "cell_type": "code",
   "execution_count": null,
   "id": "89778af8",
   "metadata": {},
   "outputs": [],
   "source": []
  },
  {
   "cell_type": "code",
   "execution_count": null,
   "id": "b25eb797",
   "metadata": {},
   "outputs": [],
   "source": []
  },
  {
   "cell_type": "code",
   "execution_count": null,
   "id": "6f6cf469",
   "metadata": {},
   "outputs": [],
   "source": []
  }
 ],
 "metadata": {
  "kernelspec": {
   "display_name": "Python 3 (ipykernel)",
   "language": "python",
   "name": "python3"
  },
  "language_info": {
   "codemirror_mode": {
    "name": "ipython",
    "version": 3
   },
   "file_extension": ".py",
   "mimetype": "text/x-python",
   "name": "python",
   "nbconvert_exporter": "python",
   "pygments_lexer": "ipython3",
   "version": "3.8.8"
  },
  "toc": {
   "base_numbering": 1,
   "nav_menu": {},
   "number_sections": true,
   "sideBar": true,
   "skip_h1_title": false,
   "title_cell": "Table of Contents",
   "title_sidebar": "Contents",
   "toc_cell": false,
   "toc_position": {
    "height": "calc(100% - 180px)",
    "left": "10px",
    "top": "150px",
    "width": "295px"
   },
   "toc_section_display": true,
   "toc_window_display": true
  }
 },
 "nbformat": 4,
 "nbformat_minor": 5
}
