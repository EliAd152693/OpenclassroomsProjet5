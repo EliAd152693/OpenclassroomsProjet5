{
 "cells": [
  {
   "cell_type": "markdown",
   "id": "9aeebeb6",
   "metadata": {},
   "source": [
    "<font size=\"6\">PROJET 5 : Catégorisez automatiquement des questions </font>"
   ]
  },
  {
   "cell_type": "markdown",
   "id": "61164ba2",
   "metadata": {
    "ExecuteTime": {
     "end_time": "2021-07-29T16:09:06.706931Z",
     "start_time": "2021-07-29T16:09:06.682810Z"
    }
   },
   "source": [
    "<font size=\"6\"> Notebook 1 : Exploration </font>"
   ]
  },
  {
   "cell_type": "markdown",
   "id": "ded8af83",
   "metadata": {},
   "source": [
    "**Librairies**"
   ]
  },
  {
   "cell_type": "code",
   "execution_count": 1,
   "id": "dd62d923",
   "metadata": {
    "ExecuteTime": {
     "end_time": "2021-08-09T18:04:32.520362Z",
     "start_time": "2021-08-09T18:04:31.500590Z"
    }
   },
   "outputs": [],
   "source": [
    "# Data analyse\n",
    "import pandas as pd\n",
    "import numpy as np\n",
    "import re\n",
    "from pprint import pprint\n",
    "import string"
   ]
  },
  {
   "cell_type": "code",
   "execution_count": 2,
   "id": "cb2dd85b",
   "metadata": {
    "ExecuteTime": {
     "end_time": "2021-08-09T18:04:34.056338Z",
     "start_time": "2021-08-09T18:04:32.525754Z"
    }
   },
   "outputs": [],
   "source": [
    "# Visualisation\n",
    "import matplotlib.pyplot as plt\n",
    "import seaborn as sns\n",
    "from collections import Counter"
   ]
  },
  {
   "cell_type": "code",
   "execution_count": 3,
   "id": "e00ba040",
   "metadata": {
    "ExecuteTime": {
     "end_time": "2021-08-09T18:04:38.843745Z",
     "start_time": "2021-08-09T18:04:34.058940Z"
    }
   },
   "outputs": [
    {
     "name": "stderr",
     "output_type": "stream",
     "text": [
      "C:\\Users\\EliseAndro\\anaconda3\\lib\\site-packages\\gensim\\similarities\\__init__.py:15: UserWarning: The gensim.similarities.levenshtein submodule is disabled, because the optional Levenshtein package <https://pypi.org/project/python-Levenshtein/> is unavailable. Install Levenhstein (e.g. `pip install python-Levenshtein`) to suppress this warning.\n",
      "  warnings.warn(msg)\n"
     ]
    }
   ],
   "source": [
    "# Preprocessing\n",
    "import gensim\n",
    "from gensim.utils import simple_preprocess\n",
    "from nltk.corpus import stopwords\n",
    "import spacy # for lemmatization\n",
    "nlp = spacy.load(\"en_core_web_md\")"
   ]
  },
  {
   "cell_type": "markdown",
   "id": "6e8f3267",
   "metadata": {},
   "source": [
    "# Chargement des données"
   ]
  },
  {
   "cell_type": "code",
   "execution_count": 4,
   "id": "d7a4ff79",
   "metadata": {
    "ExecuteTime": {
     "end_time": "2021-08-09T18:04:41.546279Z",
     "start_time": "2021-08-09T18:04:38.846738Z"
    }
   },
   "outputs": [],
   "source": [
    "df = pd.read_csv(\"QueryResults.csv\")"
   ]
  },
  {
   "cell_type": "code",
   "execution_count": 5,
   "id": "e8729870",
   "metadata": {
    "ExecuteTime": {
     "end_time": "2021-08-09T18:04:41.592181Z",
     "start_time": "2021-08-09T18:04:41.549242Z"
    }
   },
   "outputs": [
    {
     "data": {
      "text/html": [
       "<div>\n",
       "<style scoped>\n",
       "    .dataframe tbody tr th:only-of-type {\n",
       "        vertical-align: middle;\n",
       "    }\n",
       "\n",
       "    .dataframe tbody tr th {\n",
       "        vertical-align: top;\n",
       "    }\n",
       "\n",
       "    .dataframe thead th {\n",
       "        text-align: right;\n",
       "    }\n",
       "</style>\n",
       "<table border=\"1\" class=\"dataframe\">\n",
       "  <thead>\n",
       "    <tr style=\"text-align: right;\">\n",
       "      <th></th>\n",
       "      <th>Body</th>\n",
       "      <th>Title</th>\n",
       "      <th>Tags</th>\n",
       "    </tr>\n",
       "  </thead>\n",
       "  <tbody>\n",
       "    <tr>\n",
       "      <th>0</th>\n",
       "      <td>&lt;p&gt;Is there any way to tinker with the iPhone ...</td>\n",
       "      <td>How can I develop for iPhone using a Windows d...</td>\n",
       "      <td>&lt;ios&gt;&lt;iphone&gt;&lt;windows&gt;</td>\n",
       "    </tr>\n",
       "    <tr>\n",
       "      <th>1</th>\n",
       "      <td>&lt;p&gt;I have this gigantic ugly string:&lt;/p&gt;\\n&lt;pre...</td>\n",
       "      <td>My regex is matching too much. How do I make i...</td>\n",
       "      <td>&lt;regex&gt;</td>\n",
       "    </tr>\n",
       "    <tr>\n",
       "      <th>2</th>\n",
       "      <td>&lt;p&gt;I am Working with autolayout and constraint...</td>\n",
       "      <td>What is \"Constrain to margin\" in Storyboard in...</td>\n",
       "      <td>&lt;ios&gt;&lt;xcode&gt;&lt;storyboard&gt;&lt;autolayout&gt;&lt;xcode6&gt;</td>\n",
       "    </tr>\n",
       "    <tr>\n",
       "      <th>3</th>\n",
       "      <td>&lt;p&gt;I'm learning objective-c and keep bumping i...</td>\n",
       "      <td>What does the @ symbol represent in objective-c?</td>\n",
       "      <td>&lt;objective-c&gt;</td>\n",
       "    </tr>\n",
       "    <tr>\n",
       "      <th>4</th>\n",
       "      <td>&lt;p&gt;Is there a simple way, in a pretty standard...</td>\n",
       "      <td>Delete all but the most recent X files in bash</td>\n",
       "      <td>&lt;bash&gt;&lt;unix&gt;&lt;scripting&gt;</td>\n",
       "    </tr>\n",
       "    <tr>\n",
       "      <th>...</th>\n",
       "      <td>...</td>\n",
       "      <td>...</td>\n",
       "      <td>...</td>\n",
       "    </tr>\n",
       "    <tr>\n",
       "      <th>44990</th>\n",
       "      <td>&lt;p&gt;Recently, I upgraded the version of Django ...</td>\n",
       "      <td>ImportError: cannot import name 'six' from 'dj...</td>\n",
       "      <td>&lt;django&gt;</td>\n",
       "    </tr>\n",
       "    <tr>\n",
       "      <th>44991</th>\n",
       "      <td>&lt;p&gt;How can I reject a promise that returned by...</td>\n",
       "      <td>How to reject in async/await syntax?</td>\n",
       "      <td>&lt;javascript&gt;&lt;asynchronous&gt;&lt;typescript&gt;&lt;es6-pro...</td>\n",
       "    </tr>\n",
       "    <tr>\n",
       "      <th>44992</th>\n",
       "      <td>&lt;p&gt;I have 2 entities that are related as one t...</td>\n",
       "      <td>.Net Core 3.0 possible object cycle was detect...</td>\n",
       "      <td>&lt;c#&gt;&lt;asp.net-core&gt;&lt;entity-framework-core&gt;</td>\n",
       "    </tr>\n",
       "    <tr>\n",
       "      <th>44993</th>\n",
       "      <td>&lt;h2&gt;Problem&lt;/h2&gt;\\n\\n&lt;p&gt;I want to return a file...</td>\n",
       "      <td>Return file in ASP.Net Core Web API</td>\n",
       "      <td>&lt;c#&gt;&lt;asp.net-core&gt;&lt;.net-core&gt;&lt;asp.net-core-web...</td>\n",
       "    </tr>\n",
       "    <tr>\n",
       "      <th>44994</th>\n",
       "      <td>&lt;p&gt;Using suggested method:\\n&lt;a href=\"https://i...</td>\n",
       "      <td>Wrapping a react-router Link in an html button</td>\n",
       "      <td>&lt;html&gt;&lt;reactjs&gt;&lt;button&gt;&lt;hyperlink&gt;&lt;router&gt;</td>\n",
       "    </tr>\n",
       "  </tbody>\n",
       "</table>\n",
       "<p>44995 rows × 3 columns</p>\n",
       "</div>"
      ],
      "text/plain": [
       "                                                    Body  \\\n",
       "0      <p>Is there any way to tinker with the iPhone ...   \n",
       "1      <p>I have this gigantic ugly string:</p>\\n<pre...   \n",
       "2      <p>I am Working with autolayout and constraint...   \n",
       "3      <p>I'm learning objective-c and keep bumping i...   \n",
       "4      <p>Is there a simple way, in a pretty standard...   \n",
       "...                                                  ...   \n",
       "44990  <p>Recently, I upgraded the version of Django ...   \n",
       "44991  <p>How can I reject a promise that returned by...   \n",
       "44992  <p>I have 2 entities that are related as one t...   \n",
       "44993  <h2>Problem</h2>\\n\\n<p>I want to return a file...   \n",
       "44994  <p>Using suggested method:\\n<a href=\"https://i...   \n",
       "\n",
       "                                                   Title  \\\n",
       "0      How can I develop for iPhone using a Windows d...   \n",
       "1      My regex is matching too much. How do I make i...   \n",
       "2      What is \"Constrain to margin\" in Storyboard in...   \n",
       "3       What does the @ symbol represent in objective-c?   \n",
       "4         Delete all but the most recent X files in bash   \n",
       "...                                                  ...   \n",
       "44990  ImportError: cannot import name 'six' from 'dj...   \n",
       "44991               How to reject in async/await syntax?   \n",
       "44992  .Net Core 3.0 possible object cycle was detect...   \n",
       "44993                Return file in ASP.Net Core Web API   \n",
       "44994     Wrapping a react-router Link in an html button   \n",
       "\n",
       "                                                    Tags  \n",
       "0                                 <ios><iphone><windows>  \n",
       "1                                                <regex>  \n",
       "2           <ios><xcode><storyboard><autolayout><xcode6>  \n",
       "3                                          <objective-c>  \n",
       "4                                <bash><unix><scripting>  \n",
       "...                                                  ...  \n",
       "44990                                           <django>  \n",
       "44991  <javascript><asynchronous><typescript><es6-pro...  \n",
       "44992          <c#><asp.net-core><entity-framework-core>  \n",
       "44993  <c#><asp.net-core><.net-core><asp.net-core-web...  \n",
       "44994         <html><reactjs><button><hyperlink><router>  \n",
       "\n",
       "[44995 rows x 3 columns]"
      ]
     },
     "execution_count": 5,
     "metadata": {},
     "output_type": "execute_result"
    }
   ],
   "source": [
    "df"
   ]
  },
  {
   "cell_type": "markdown",
   "id": "1648f04e",
   "metadata": {},
   "source": [
    "# Preprocess et Analyse :  Body+Titre"
   ]
  },
  {
   "cell_type": "markdown",
   "id": "4ef3fa3a",
   "metadata": {},
   "source": [
    "## Nettoyage"
   ]
  },
  {
   "cell_type": "markdown",
   "id": "1678b9e8",
   "metadata": {},
   "source": [
    "**Liste de fonctions utiles pour le nettoyage et pre-processing**"
   ]
  },
  {
   "cell_type": "code",
   "execution_count": 6,
   "id": "9b2a444e",
   "metadata": {
    "ExecuteTime": {
     "end_time": "2021-08-09T18:04:41.624071Z",
     "start_time": "2021-08-09T18:04:41.594151Z"
    }
   },
   "outputs": [],
   "source": [
    "# NLTK Stop words\n",
    "stop_words = stopwords.words('english')\n",
    "#stop_words.extend([liste de mots à retirer si besoin])\n",
    "\n",
    "def remove_stopwords(texts):\n",
    "    return [[word for word in simple_preprocess(str(doc)) if word not in stop_words] for doc in texts]\n",
    "\n",
    "def make_bigrams(texts):\n",
    "    return [bigram_mod[doc] for doc in texts]\n",
    "\n",
    "def lemmatization(texts, allowed_postags=['NOUN', 'ADJ', 'VERB', 'ADV']):\n",
    "    \"\"\"https://spacy.io/api/annotation\"\"\"\n",
    "    texts_out = []\n",
    "    for sent in texts:\n",
    "        doc = nlp(\" \".join(sent)) \n",
    "        texts_out.append([token.lemma_ for token in doc if token.pos_ in allowed_postags])\n",
    "    return texts_out\n",
    "\n",
    "def remove_non_alphabetical_character(text):\n",
    "    \"\"\"remove all non-alphabetical character\"\"\"\n",
    "    text = re.sub(\"[^a-z]+\", \" \", text.lower()) # remove all non-alphabetical character\n",
    "    text = re.sub(\"\\s+\", \" \", text.lower()) # remove whitespaces left after the last operation\n",
    "    return text\n",
    "\n",
    "def sent_to_words(sentences):\n",
    "    for sentence in sentences:\n",
    "        yield(gensim.utils.simple_preprocess(str(sentence), deacc=True))  # deacc=True removes punctuations\n",
    "\n",
    "# Funtion to remove duplicate words\n",
    "def unique_words(text): \n",
    "    ulist = []\n",
    "    [ulist.append(x) for x in text if x not in ulist]\n",
    "    return ulist\n",
    "\n",
    "def word_count(text):\n",
    "    return len(str(text).split(' '))"
   ]
  },
  {
   "cell_type": "markdown",
   "id": "24f13751",
   "metadata": {},
   "source": [
    "**Nettoyage**"
   ]
  },
  {
   "cell_type": "code",
   "execution_count": 7,
   "id": "ec2e3245",
   "metadata": {
    "ExecuteTime": {
     "end_time": "2021-08-09T18:04:46.243364Z",
     "start_time": "2021-08-09T18:04:41.627063Z"
    }
   },
   "outputs": [],
   "source": [
    "# Nettoyage de la colonne Body\n",
    "df['Body'] = [re.sub('<[^>]+>', '', i) for i in df['Body']]\n",
    "df['Body'] = [re.sub('\\n', '', i) for i in df['Body']]\n",
    "\n",
    "df['Title'] = df['Title'].apply(lambda x: remove_non_alphabetical_character(x)) \n",
    "df['Body'] = df['Body'].apply(lambda x: remove_non_alphabetical_character(x)) \n",
    "\n",
    "# Nettoyage de la colonne Tags\n",
    "tags_nettoye = [re.sub('><', ',', i)[1:-1] for i in df['Tags']]\n",
    "df['Tags'] = tags_nettoye\n",
    "\n",
    "df['content'] = df['Body'] + df['Title']\n",
    "df = df[['content',\"Tags\"]]"
   ]
  },
  {
   "cell_type": "code",
   "execution_count": 8,
   "id": "6b631eb8",
   "metadata": {
    "ExecuteTime": {
     "end_time": "2021-08-09T18:04:59.236722Z",
     "start_time": "2021-08-09T18:04:46.245327Z"
    }
   },
   "outputs": [
    {
     "name": "stdout",
     "output_type": "stream",
     "text": [
      "[['is', 'there', 'any', 'way', 'to', 'tinker', 'with', 'the', 'iphone', 'sdk', 'on', 'windows', 'machine', 'are', 'there', 'plans', 'for', 'an', 'iphone', 'sdk', 'version', 'for', 'windows', 'the', 'only', 'other', 'way', 'can', 'think', 'of', 'doing', 'this', 'is', 'to', 'run', 'mac', 'vm', 'image', 'on', 'vmware', 'server', 'running', 'on', 'windows', 'although', 'not', 'too', 'sure', 'how', 'legal', 'this', 'is', 'how', 'can', 'develop', 'for', 'iphone', 'using', 'windows', 'development', 'machine']]\n"
     ]
    }
   ],
   "source": [
    "data_words = list(sent_to_words(df['content'].values.tolist()))\n",
    "\n",
    "print(data_words[:1])"
   ]
  },
  {
   "cell_type": "markdown",
   "id": "1a3cfbb1",
   "metadata": {},
   "source": [
    "**Creating Bigram and Trigram Models**"
   ]
  },
  {
   "cell_type": "code",
   "execution_count": 9,
   "id": "a8f4f21f",
   "metadata": {
    "ExecuteTime": {
     "end_time": "2021-08-09T18:05:29.206558Z",
     "start_time": "2021-08-09T18:04:59.239488Z"
    }
   },
   "outputs": [
    {
     "name": "stdout",
     "output_type": "stream",
     "text": [
      "['is', 'there', 'any', 'way', 'to', 'tinker', 'with', 'the', 'iphone', 'sdk', 'on', 'windows', 'machine', 'are', 'there', 'plans', 'for', 'an', 'iphone', 'sdk', 'version', 'for', 'windows', 'the', 'only', 'other', 'way', 'can', 'think', 'of', 'doing', 'this', 'is', 'to', 'run', 'mac', 'vm', 'image', 'on', 'vmware', 'server', 'running', 'on', 'windows', 'although', 'not', 'too', 'sure', 'how', 'legal', 'this', 'is', 'how', 'can', 'develop', 'for', 'iphone', 'using', 'windows', 'development', 'machine']\n"
     ]
    }
   ],
   "source": [
    "# Build the bigram and trigram models\n",
    "bigram = gensim.models.Phrases(data_words, min_count=5, threshold=50) # higher threshold fewer phrases.\n",
    "trigram = gensim.models.Phrases(bigram[data_words], threshold=50)  \n",
    "\n",
    "# Faster way to get a sentence clubbed as a trigram/bigram\n",
    "bigram_mod = gensim.models.phrases.Phraser(bigram)\n",
    "trigram_mod = gensim.models.phrases.Phraser(trigram)\n",
    "\n",
    "# See trigram example\n",
    "print(trigram_mod[bigram_mod[data_words[0]]])"
   ]
  },
  {
   "cell_type": "markdown",
   "id": "e4ec74db",
   "metadata": {},
   "source": [
    "**Stopwords, bigrams et lemmatization**"
   ]
  },
  {
   "cell_type": "code",
   "execution_count": 10,
   "id": "59f01281",
   "metadata": {
    "ExecuteTime": {
     "end_time": "2021-08-09T18:16:17.332607Z",
     "start_time": "2021-08-09T18:05:29.210548Z"
    }
   },
   "outputs": [
    {
     "name": "stderr",
     "output_type": "stream",
     "text": [
      "C:\\Users\\ELISEA~1\\AppData\\Local\\Temp/ipykernel_12132/4034995695.py:8: SettingWithCopyWarning: \n",
      "A value is trying to be set on a copy of a slice from a DataFrame.\n",
      "Try using .loc[row_indexer,col_indexer] = value instead\n",
      "\n",
      "See the caveats in the documentation: https://pandas.pydata.org/pandas-docs/stable/user_guide/indexing.html#returning-a-view-versus-a-copy\n",
      "  df['preprocess_content'] = lemmatization(data_words_bigrams, allowed_postags=['NOUN', 'ADJ', 'VERB', 'ADV'])\n"
     ]
    }
   ],
   "source": [
    "# Remove Stop Words\n",
    "data_words_nostops = remove_stopwords(data_words)\n",
    "\n",
    "# Form Bigrams\n",
    "data_words_bigrams = make_bigrams(data_words_nostops)\n",
    "\n",
    "# Do lemmatization keeping only noun, adj, vb, adv\n",
    "df['preprocess_content'] = lemmatization(data_words_bigrams, allowed_postags=['NOUN', 'ADJ', 'VERB', 'ADV'])"
   ]
  },
  {
   "cell_type": "code",
   "execution_count": 11,
   "id": "f3fff1f6",
   "metadata": {
    "ExecuteTime": {
     "end_time": "2021-08-09T18:16:17.364253Z",
     "start_time": "2021-08-09T18:16:17.335601Z"
    }
   },
   "outputs": [
    {
     "data": {
      "text/html": [
       "<div>\n",
       "<style scoped>\n",
       "    .dataframe tbody tr th:only-of-type {\n",
       "        vertical-align: middle;\n",
       "    }\n",
       "\n",
       "    .dataframe tbody tr th {\n",
       "        vertical-align: top;\n",
       "    }\n",
       "\n",
       "    .dataframe thead th {\n",
       "        text-align: right;\n",
       "    }\n",
       "</style>\n",
       "<table border=\"1\" class=\"dataframe\">\n",
       "  <thead>\n",
       "    <tr style=\"text-align: right;\">\n",
       "      <th></th>\n",
       "      <th>content</th>\n",
       "      <th>Tags</th>\n",
       "      <th>preprocess_content</th>\n",
       "    </tr>\n",
       "  </thead>\n",
       "  <tbody>\n",
       "    <tr>\n",
       "      <th>0</th>\n",
       "      <td>is there any way to tinker with the iphone sdk...</td>\n",
       "      <td>ios,iphone,windows</td>\n",
       "      <td>[way, machine, plan, version, way, think, run,...</td>\n",
       "    </tr>\n",
       "    <tr>\n",
       "      <th>1</th>\n",
       "      <td>i have this gigantic ugly string j transaction...</td>\n",
       "      <td>regex</td>\n",
       "      <td>[gigantic, ugly, string, transaction, start, p...</td>\n",
       "    </tr>\n",
       "    <tr>\n",
       "      <th>2</th>\n",
       "      <td>i am working with autolayout and constraints a...</td>\n",
       "      <td>ios,xcode,storyboard,autolayout,xcode6</td>\n",
       "      <td>[work, autolayout, constraint, find, constrain...</td>\n",
       "    </tr>\n",
       "    <tr>\n",
       "      <th>3</th>\n",
       "      <td>i m learning objective c and keep bumping into...</td>\n",
       "      <td>objective-c</td>\n",
       "      <td>[learn, objective, keep, bump, symbol, use, di...</td>\n",
       "    </tr>\n",
       "    <tr>\n",
       "      <th>4</th>\n",
       "      <td>is there a simple way in a pretty standard uni...</td>\n",
       "      <td>bash,unix,scripting</td>\n",
       "      <td>[simple, way, pretty, standard, unix, environm...</td>\n",
       "    </tr>\n",
       "    <tr>\n",
       "      <th>...</th>\n",
       "      <td>...</td>\n",
       "      <td>...</td>\n",
       "      <td>...</td>\n",
       "    </tr>\n",
       "    <tr>\n",
       "      <th>44990</th>\n",
       "      <td>recently i upgraded the version of django fram...</td>\n",
       "      <td>django</td>\n",
       "      <td>[recently_upgrade, version, django, framework,...</td>\n",
       "    </tr>\n",
       "    <tr>\n",
       "      <th>44991</th>\n",
       "      <td>how can i reject a promise that returned by an...</td>\n",
       "      <td>javascript,asynchronous,typescript,es6-promise...</td>\n",
       "      <td>[reject, promise, return, async_await, functio...</td>\n",
       "    </tr>\n",
       "    <tr>\n",
       "      <th>44992</th>\n",
       "      <td>i have entities that are related as one to man...</td>\n",
       "      <td>c#,asp.net-core,entity-framework-core</td>\n",
       "      <td>[entity, relate, manypublic, class, restaurant...</td>\n",
       "    </tr>\n",
       "    <tr>\n",
       "      <th>44993</th>\n",
       "      <td>problemi want to return a file in my asp net w...</td>\n",
       "      <td>c#,asp.net-core,.net-core,asp.net-core-webapi</td>\n",
       "      <td>[want, return, file, web, api, controller, app...</td>\n",
       "    </tr>\n",
       "    <tr>\n",
       "      <th>44994</th>\n",
       "      <td>using suggested method this is the result a li...</td>\n",
       "      <td>html,reactjs,button,hyperlink,router</td>\n",
       "      <td>[use, suggest, method, result, link, button, c...</td>\n",
       "    </tr>\n",
       "  </tbody>\n",
       "</table>\n",
       "<p>44995 rows × 3 columns</p>\n",
       "</div>"
      ],
      "text/plain": [
       "                                                 content  \\\n",
       "0      is there any way to tinker with the iphone sdk...   \n",
       "1      i have this gigantic ugly string j transaction...   \n",
       "2      i am working with autolayout and constraints a...   \n",
       "3      i m learning objective c and keep bumping into...   \n",
       "4      is there a simple way in a pretty standard uni...   \n",
       "...                                                  ...   \n",
       "44990  recently i upgraded the version of django fram...   \n",
       "44991  how can i reject a promise that returned by an...   \n",
       "44992  i have entities that are related as one to man...   \n",
       "44993  problemi want to return a file in my asp net w...   \n",
       "44994  using suggested method this is the result a li...   \n",
       "\n",
       "                                                    Tags  \\\n",
       "0                                     ios,iphone,windows   \n",
       "1                                                  regex   \n",
       "2                 ios,xcode,storyboard,autolayout,xcode6   \n",
       "3                                            objective-c   \n",
       "4                                    bash,unix,scripting   \n",
       "...                                                  ...   \n",
       "44990                                             django   \n",
       "44991  javascript,asynchronous,typescript,es6-promise...   \n",
       "44992              c#,asp.net-core,entity-framework-core   \n",
       "44993      c#,asp.net-core,.net-core,asp.net-core-webapi   \n",
       "44994               html,reactjs,button,hyperlink,router   \n",
       "\n",
       "                                      preprocess_content  \n",
       "0      [way, machine, plan, version, way, think, run,...  \n",
       "1      [gigantic, ugly, string, transaction, start, p...  \n",
       "2      [work, autolayout, constraint, find, constrain...  \n",
       "3      [learn, objective, keep, bump, symbol, use, di...  \n",
       "4      [simple, way, pretty, standard, unix, environm...  \n",
       "...                                                  ...  \n",
       "44990  [recently_upgrade, version, django, framework,...  \n",
       "44991  [reject, promise, return, async_await, functio...  \n",
       "44992  [entity, relate, manypublic, class, restaurant...  \n",
       "44993  [want, return, file, web, api, controller, app...  \n",
       "44994  [use, suggest, method, result, link, button, c...  \n",
       "\n",
       "[44995 rows x 3 columns]"
      ]
     },
     "execution_count": 11,
     "metadata": {},
     "output_type": "execute_result"
    }
   ],
   "source": [
    "df"
   ]
  },
  {
   "cell_type": "markdown",
   "id": "6d2b6e4c",
   "metadata": {},
   "source": [
    "## Analyse descriptive"
   ]
  },
  {
   "cell_type": "code",
   "execution_count": 12,
   "id": "b1356e89",
   "metadata": {
    "ExecuteTime": {
     "end_time": "2021-08-09T18:16:17.770699Z",
     "start_time": "2021-08-09T18:16:17.366249Z"
    }
   },
   "outputs": [
    {
     "data": {
      "text/plain": [
       "112.89189909989999"
      ]
     },
     "execution_count": 12,
     "metadata": {},
     "output_type": "execute_result"
    }
   ],
   "source": [
    "# Compte du nombre de mots\n",
    "df['word_count'] = df['content'].apply(word_count)\n",
    "df['word_count'].mean()"
   ]
  },
  {
   "cell_type": "code",
   "execution_count": 13,
   "id": "5d9965a4",
   "metadata": {
    "ExecuteTime": {
     "end_time": "2021-08-09T18:16:17.801649Z",
     "start_time": "2021-08-09T18:16:17.772694Z"
    }
   },
   "outputs": [
    {
     "data": {
      "text/plain": [
       "count    44995.000000\n",
       "mean       112.891899\n",
       "std        128.669178\n",
       "min          7.000000\n",
       "25%         51.000000\n",
       "50%         81.000000\n",
       "75%        132.000000\n",
       "max       4118.000000\n",
       "Name: word_count, dtype: float64"
      ]
     },
     "execution_count": 13,
     "metadata": {},
     "output_type": "execute_result"
    }
   ],
   "source": [
    "df['word_count'].describe()"
   ]
  },
  {
   "cell_type": "code",
   "execution_count": 14,
   "id": "7df537cb",
   "metadata": {
    "ExecuteTime": {
     "end_time": "2021-08-09T18:16:18.117216Z",
     "start_time": "2021-08-09T18:16:17.804617Z"
    }
   },
   "outputs": [
    {
     "data": {
      "image/png": "[encoded data removed]",
      "text/plain": [
       "<Figure size 720x360 with 1 Axes>"
      ]
     },
     "metadata": {
      "needs_background": "light"
     },
     "output_type": "display_data"
    }
   ],
   "source": [
    "# Plot a hist of the word counts\n",
    "fig = plt.figure(figsize=(10,5))\n",
    "\n",
    "plt.hist(\n",
    "    df['word_count'],\n",
    "    bins=50,\n",
    "    color='#60505C')\n",
    "\n",
    "plt.title('Distribution - Nombre de mots', fontsize=16)\n",
    "plt.ylabel('Frequence', fontsize=12)\n",
    "plt.xlabel('Nbre mot', fontsize=12)\n",
    "\n",
    "plt.show()"
   ]
  },
  {
   "cell_type": "code",
   "execution_count": 15,
   "id": "05c2c18b",
   "metadata": {
    "ExecuteTime": {
     "end_time": "2021-08-09T18:16:18.245436Z",
     "start_time": "2021-08-09T18:16:18.119173Z"
    }
   },
   "outputs": [
    {
     "name": "stderr",
     "output_type": "stream",
     "text": [
      "C:\\Users\\EliseAndro\\anaconda3\\lib\\site-packages\\seaborn\\_decorators.py:36: FutureWarning: Pass the following variable as a keyword arg: x. From version 0.12, the only valid positional argument will be `data`, and passing other arguments without an explicit keyword will result in an error or misinterpretation.\n",
      "  warnings.warn(\n",
      "C:\\Users\\EliseAndro\\anaconda3\\lib\\site-packages\\seaborn\\_core.py:1319: UserWarning: Vertical orientation ignored with only `x` specified.\n",
      "  warnings.warn(single_var_warning.format(\"Vertical\", \"x\"))\n"
     ]
    },
    {
     "data": {
      "image/png": "[encoded data removed]",
      "text/plain": [
       "<Figure size 288x648 with 1 Axes>"
      ]
     },
     "metadata": {
      "needs_background": "light"
     },
     "output_type": "display_data"
    }
   ],
   "source": [
    "# Plot a boxplot of the word counts\n",
    "fig = plt.figure(figsize=(4,9))\n",
    "\n",
    "sns.boxplot(\n",
    "    df['word_count'],\n",
    "    orient='v',\n",
    "    width=.5,\n",
    "    color='#ff8080')\n",
    "\n",
    "plt.ylabel(\"Word Count\", fontsize=12)\n",
    "plt.title('Distribution - Article Word Count', fontsize=16)\n",
    "#plt.yticks(np.arange(0, 2700, 100))\n",
    "\n",
    "plt.show()"
   ]
  },
  {
   "cell_type": "code",
   "execution_count": 16,
   "id": "8b780fca",
   "metadata": {
    "ExecuteTime": {
     "end_time": "2021-08-09T18:16:18.738076Z",
     "start_time": "2021-08-09T18:16:18.247400Z"
    }
   },
   "outputs": [
    {
     "data": {
      "text/html": [
       "<div>\n",
       "<style scoped>\n",
       "    .dataframe tbody tr th:only-of-type {\n",
       "        vertical-align: middle;\n",
       "    }\n",
       "\n",
       "    .dataframe tbody tr th {\n",
       "        vertical-align: top;\n",
       "    }\n",
       "\n",
       "    .dataframe thead th {\n",
       "        text-align: right;\n",
       "    }\n",
       "</style>\n",
       "<table border=\"1\" class=\"dataframe\">\n",
       "  <thead>\n",
       "    <tr style=\"text-align: right;\">\n",
       "      <th></th>\n",
       "      <th>word</th>\n",
       "      <th>frequency</th>\n",
       "    </tr>\n",
       "  </thead>\n",
       "  <tbody>\n",
       "    <tr>\n",
       "      <th>0</th>\n",
       "      <td>use</td>\n",
       "      <td>40140</td>\n",
       "    </tr>\n",
       "    <tr>\n",
       "      <th>1</th>\n",
       "      <td>file</td>\n",
       "      <td>22931</td>\n",
       "    </tr>\n",
       "    <tr>\n",
       "      <th>2</th>\n",
       "      <td>get</td>\n",
       "      <td>18286</td>\n",
       "    </tr>\n",
       "    <tr>\n",
       "      <th>3</th>\n",
       "      <td>string</td>\n",
       "      <td>15976</td>\n",
       "    </tr>\n",
       "    <tr>\n",
       "      <th>4</th>\n",
       "      <td>error</td>\n",
       "      <td>14732</td>\n",
       "    </tr>\n",
       "    <tr>\n",
       "      <th>5</th>\n",
       "      <td>class</td>\n",
       "      <td>13832</td>\n",
       "    </tr>\n",
       "    <tr>\n",
       "      <th>6</th>\n",
       "      <td>way</td>\n",
       "      <td>13772</td>\n",
       "    </tr>\n",
       "    <tr>\n",
       "      <th>7</th>\n",
       "      <td>code</td>\n",
       "      <td>13439</td>\n",
       "    </tr>\n",
       "    <tr>\n",
       "      <th>8</th>\n",
       "      <td>value</td>\n",
       "      <td>12881</td>\n",
       "    </tr>\n",
       "    <tr>\n",
       "      <th>9</th>\n",
       "      <td>function</td>\n",
       "      <td>12729</td>\n",
       "    </tr>\n",
       "    <tr>\n",
       "      <th>10</th>\n",
       "      <td>new</td>\n",
       "      <td>12705</td>\n",
       "    </tr>\n",
       "    <tr>\n",
       "      <th>11</th>\n",
       "      <td>name</td>\n",
       "      <td>12620</td>\n",
       "    </tr>\n",
       "    <tr>\n",
       "      <th>12</th>\n",
       "      <td>try</td>\n",
       "      <td>12185</td>\n",
       "    </tr>\n",
       "    <tr>\n",
       "      <th>13</th>\n",
       "      <td>work</td>\n",
       "      <td>11862</td>\n",
       "    </tr>\n",
       "    <tr>\n",
       "      <th>14</th>\n",
       "      <td>find</td>\n",
       "      <td>11237</td>\n",
       "    </tr>\n",
       "    <tr>\n",
       "      <th>15</th>\n",
       "      <td>want</td>\n",
       "      <td>10933</td>\n",
       "    </tr>\n",
       "    <tr>\n",
       "      <th>16</th>\n",
       "      <td>return</td>\n",
       "      <td>10887</td>\n",
       "    </tr>\n",
       "    <tr>\n",
       "      <th>17</th>\n",
       "      <td>quot</td>\n",
       "      <td>10688</td>\n",
       "    </tr>\n",
       "    <tr>\n",
       "      <th>18</th>\n",
       "      <td>type</td>\n",
       "      <td>10015</td>\n",
       "    </tr>\n",
       "    <tr>\n",
       "      <th>19</th>\n",
       "      <td>run</td>\n",
       "      <td>9624</td>\n",
       "    </tr>\n",
       "  </tbody>\n",
       "</table>\n",
       "</div>"
      ],
      "text/plain": [
       "        word  frequency\n",
       "0        use      40140\n",
       "1       file      22931\n",
       "2        get      18286\n",
       "3     string      15976\n",
       "4      error      14732\n",
       "5      class      13832\n",
       "6        way      13772\n",
       "7       code      13439\n",
       "8      value      12881\n",
       "9   function      12729\n",
       "10       new      12705\n",
       "11      name      12620\n",
       "12       try      12185\n",
       "13      work      11862\n",
       "14      find      11237\n",
       "15      want      10933\n",
       "16    return      10887\n",
       "17      quot      10688\n",
       "18      type      10015\n",
       "19       run       9624"
      ]
     },
     "execution_count": 16,
     "metadata": {},
     "output_type": "execute_result"
    }
   ],
   "source": [
    "# Get the top 20 most common words among all the articles\n",
    "p_text = df['preprocess_content']\n",
    "\n",
    "# Flaten the list of lists\n",
    "p_text = [item for sublist in p_text for item in sublist]\n",
    "\n",
    "# Top 20\n",
    "top_20 = pd.DataFrame(\n",
    "    Counter(p_text).most_common(20),\n",
    "    columns=['word', 'frequency'])\n",
    "\n",
    "top_20"
   ]
  },
  {
   "cell_type": "code",
   "execution_count": 17,
   "id": "03d0a47d",
   "metadata": {
    "ExecuteTime": {
     "end_time": "2021-08-09T18:16:19.182327Z",
     "start_time": "2021-08-09T18:16:18.741084Z"
    }
   },
   "outputs": [
    {
     "data": {
      "image/png": "[encoded data removed]",
      "text/plain": [
       "<Figure size 1440x504 with 1 Axes>"
      ]
     },
     "metadata": {
      "needs_background": "light"
     },
     "output_type": "display_data"
    }
   ],
   "source": [
    "# Plot a bar chart for the top 20 most frequently occuring words\n",
    "fig = plt.figure(figsize=(20,7))\n",
    "\n",
    "g = sns.barplot(\n",
    "    x='word',\n",
    "    y='frequency',\n",
    "    data=top_20,\n",
    "    palette='GnBu_d')\n",
    "\n",
    "g.set_xticklabels(\n",
    "    g.get_xticklabels(),\n",
    "    rotation=45,\n",
    "    fontsize=14)\n",
    "\n",
    "plt.yticks(fontsize=14)\n",
    "plt.xlabel('Words', fontsize=14)\n",
    "plt.ylabel('Frequency', fontsize=14)\n",
    "plt.title('Top 20 Words', fontsize=17)\n",
    "\n",
    "plt.show()"
   ]
  },
  {
   "cell_type": "code",
   "execution_count": 18,
   "id": "7901cd9e",
   "metadata": {
    "ExecuteTime": {
     "end_time": "2021-08-09T18:16:19.337400Z",
     "start_time": "2021-08-09T18:16:19.184290Z"
    }
   },
   "outputs": [
    {
     "data": {
      "text/plain": [
       "70962"
      ]
     },
     "execution_count": 18,
     "metadata": {},
     "output_type": "execute_result"
    }
   ],
   "source": [
    "# Get the number of unique words after processing\n",
    "num_unique_words = len(set(p_text))\n",
    "num_unique_words"
   ]
  },
  {
   "cell_type": "markdown",
   "id": "5a9f7495",
   "metadata": {},
   "source": [
    "# Preprocess et Analyse : Tags"
   ]
  },
  {
   "cell_type": "markdown",
   "id": "4762d300",
   "metadata": {},
   "source": [
    "## Tokenization des tags"
   ]
  },
  {
   "cell_type": "code",
   "execution_count": 19,
   "id": "cea72ce9",
   "metadata": {
    "ExecuteTime": {
     "end_time": "2021-08-09T18:16:19.797362Z",
     "start_time": "2021-08-09T18:16:19.339397Z"
    }
   },
   "outputs": [],
   "source": [
    "df['Tags'] = [i.lower() for i in df['Tags']]\n",
    "df['Tags'] = [i.split(\",\") for i in df['Tags']]"
   ]
  },
  {
   "cell_type": "markdown",
   "id": "10e3abcb",
   "metadata": {},
   "source": [
    "## Une colonne par tags"
   ]
  },
  {
   "cell_type": "code",
   "execution_count": 20,
   "id": "65ff18f7",
   "metadata": {
    "ExecuteTime": {
     "end_time": "2021-08-09T18:16:58.922480Z",
     "start_time": "2021-08-09T18:16:19.799324Z"
    }
   },
   "outputs": [
    {
     "data": {
      "text/plain": [
       "9474"
      ]
     },
     "execution_count": 20,
     "metadata": {},
     "output_type": "execute_result"
    }
   ],
   "source": [
    "tags = []\n",
    "\n",
    "for i in df['Tags']:\n",
    "    tags = tags + i\n",
    "    \n",
    "tags = set(tags)\n",
    "len(tags)"
   ]
  },
  {
   "cell_type": "code",
   "execution_count": 21,
   "id": "e17d8f44",
   "metadata": {
    "ExecuteTime": {
     "end_time": "2021-08-09T18:22:06.307802Z",
     "start_time": "2021-08-09T18:16:58.924964Z"
    }
   },
   "outputs": [],
   "source": [
    "for i in tags:\n",
    "    df[i] = [1 if i in y else 0 for y in df['Tags']]"
   ]
  },
  {
   "cell_type": "code",
   "execution_count": 22,
   "id": "9b3c1e7e",
   "metadata": {
    "ExecuteTime": {
     "end_time": "2021-08-09T18:22:06.400293Z",
     "start_time": "2021-08-09T18:22:06.317745Z"
    }
   },
   "outputs": [
    {
     "data": {
      "text/html": [
       "<div>\n",
       "<style scoped>\n",
       "    .dataframe tbody tr th:only-of-type {\n",
       "        vertical-align: middle;\n",
       "    }\n",
       "\n",
       "    .dataframe tbody tr th {\n",
       "        vertical-align: top;\n",
       "    }\n",
       "\n",
       "    .dataframe thead th {\n",
       "        text-align: right;\n",
       "    }\n",
       "</style>\n",
       "<table border=\"1\" class=\"dataframe\">\n",
       "  <thead>\n",
       "    <tr style=\"text-align: right;\">\n",
       "      <th></th>\n",
       "      <th>content</th>\n",
       "      <th>Tags</th>\n",
       "      <th>preprocess_content</th>\n",
       "      <th>word_count</th>\n",
       "      <th>winston</th>\n",
       "      <th>orchestration</th>\n",
       "      <th>conv-neural-network</th>\n",
       "      <th>sbatch</th>\n",
       "      <th>cornerradius</th>\n",
       "      <th>fatjar</th>\n",
       "      <th>...</th>\n",
       "      <th>sendmail</th>\n",
       "      <th>android-constraintlayout</th>\n",
       "      <th>assembly-binding-redirect</th>\n",
       "      <th>ghostscript</th>\n",
       "      <th>title-case</th>\n",
       "      <th>launch-screen</th>\n",
       "      <th>sqlconnection</th>\n",
       "      <th>python-2.5</th>\n",
       "      <th>android-layout</th>\n",
       "      <th>cabal</th>\n",
       "    </tr>\n",
       "  </thead>\n",
       "  <tbody>\n",
       "    <tr>\n",
       "      <th>0</th>\n",
       "      <td>is there any way to tinker with the iphone sdk...</td>\n",
       "      <td>[ios, iphone, windows]</td>\n",
       "      <td>[way, machine, plan, version, way, think, run,...</td>\n",
       "      <td>70</td>\n",
       "      <td>0</td>\n",
       "      <td>0</td>\n",
       "      <td>0</td>\n",
       "      <td>0</td>\n",
       "      <td>0</td>\n",
       "      <td>0</td>\n",
       "      <td>...</td>\n",
       "      <td>0</td>\n",
       "      <td>0</td>\n",
       "      <td>0</td>\n",
       "      <td>0</td>\n",
       "      <td>0</td>\n",
       "      <td>0</td>\n",
       "      <td>0</td>\n",
       "      <td>0</td>\n",
       "      <td>0</td>\n",
       "      <td>0</td>\n",
       "    </tr>\n",
       "    <tr>\n",
       "      <th>1</th>\n",
       "      <td>i have this gigantic ugly string j transaction...</td>\n",
       "      <td>[regex]</td>\n",
       "      <td>[gigantic, ugly, string, transaction, start, p...</td>\n",
       "      <td>120</td>\n",
       "      <td>0</td>\n",
       "      <td>0</td>\n",
       "      <td>0</td>\n",
       "      <td>0</td>\n",
       "      <td>0</td>\n",
       "      <td>0</td>\n",
       "      <td>...</td>\n",
       "      <td>0</td>\n",
       "      <td>0</td>\n",
       "      <td>0</td>\n",
       "      <td>0</td>\n",
       "      <td>0</td>\n",
       "      <td>0</td>\n",
       "      <td>0</td>\n",
       "      <td>0</td>\n",
       "      <td>0</td>\n",
       "      <td>0</td>\n",
       "    </tr>\n",
       "    <tr>\n",
       "      <th>2</th>\n",
       "      <td>i am working with autolayout and constraints a...</td>\n",
       "      <td>[ios, xcode, storyboard, autolayout, xcode6]</td>\n",
       "      <td>[work, autolayout, constraint, find, constrain...</td>\n",
       "      <td>199</td>\n",
       "      <td>0</td>\n",
       "      <td>0</td>\n",
       "      <td>0</td>\n",
       "      <td>0</td>\n",
       "      <td>0</td>\n",
       "      <td>0</td>\n",
       "      <td>...</td>\n",
       "      <td>0</td>\n",
       "      <td>0</td>\n",
       "      <td>0</td>\n",
       "      <td>0</td>\n",
       "      <td>0</td>\n",
       "      <td>0</td>\n",
       "      <td>0</td>\n",
       "      <td>0</td>\n",
       "      <td>0</td>\n",
       "      <td>0</td>\n",
       "    </tr>\n",
       "    <tr>\n",
       "      <th>3</th>\n",
       "      <td>i m learning objective c and keep bumping into...</td>\n",
       "      <td>[objective-c]</td>\n",
       "      <td>[learn, objective, keep, bump, symbol, use, di...</td>\n",
       "      <td>48</td>\n",
       "      <td>0</td>\n",
       "      <td>0</td>\n",
       "      <td>0</td>\n",
       "      <td>0</td>\n",
       "      <td>0</td>\n",
       "      <td>0</td>\n",
       "      <td>...</td>\n",
       "      <td>0</td>\n",
       "      <td>0</td>\n",
       "      <td>0</td>\n",
       "      <td>0</td>\n",
       "      <td>0</td>\n",
       "      <td>0</td>\n",
       "      <td>0</td>\n",
       "      <td>0</td>\n",
       "      <td>0</td>\n",
       "      <td>0</td>\n",
       "    </tr>\n",
       "    <tr>\n",
       "      <th>4</th>\n",
       "      <td>is there a simple way in a pretty standard uni...</td>\n",
       "      <td>[bash, unix, scripting]</td>\n",
       "      <td>[simple, way, pretty, standard, unix, environm...</td>\n",
       "      <td>113</td>\n",
       "      <td>0</td>\n",
       "      <td>0</td>\n",
       "      <td>0</td>\n",
       "      <td>0</td>\n",
       "      <td>0</td>\n",
       "      <td>0</td>\n",
       "      <td>...</td>\n",
       "      <td>0</td>\n",
       "      <td>0</td>\n",
       "      <td>0</td>\n",
       "      <td>0</td>\n",
       "      <td>0</td>\n",
       "      <td>0</td>\n",
       "      <td>0</td>\n",
       "      <td>0</td>\n",
       "      <td>0</td>\n",
       "      <td>0</td>\n",
       "    </tr>\n",
       "  </tbody>\n",
       "</table>\n",
       "<p>5 rows × 9478 columns</p>\n",
       "</div>"
      ],
      "text/plain": [
       "                                             content  \\\n",
       "0  is there any way to tinker with the iphone sdk...   \n",
       "1  i have this gigantic ugly string j transaction...   \n",
       "2  i am working with autolayout and constraints a...   \n",
       "3  i m learning objective c and keep bumping into...   \n",
       "4  is there a simple way in a pretty standard uni...   \n",
       "\n",
       "                                           Tags  \\\n",
       "0                        [ios, iphone, windows]   \n",
       "1                                       [regex]   \n",
       "2  [ios, xcode, storyboard, autolayout, xcode6]   \n",
       "3                                 [objective-c]   \n",
       "4                       [bash, unix, scripting]   \n",
       "\n",
       "                                  preprocess_content  word_count  winston  \\\n",
       "0  [way, machine, plan, version, way, think, run,...          70        0   \n",
       "1  [gigantic, ugly, string, transaction, start, p...         120        0   \n",
       "2  [work, autolayout, constraint, find, constrain...         199        0   \n",
       "3  [learn, objective, keep, bump, symbol, use, di...          48        0   \n",
       "4  [simple, way, pretty, standard, unix, environm...         113        0   \n",
       "\n",
       "   orchestration  conv-neural-network  sbatch  cornerradius  fatjar  ...  \\\n",
       "0              0                    0       0             0       0  ...   \n",
       "1              0                    0       0             0       0  ...   \n",
       "2              0                    0       0             0       0  ...   \n",
       "3              0                    0       0             0       0  ...   \n",
       "4              0                    0       0             0       0  ...   \n",
       "\n",
       "   sendmail  android-constraintlayout  assembly-binding-redirect  ghostscript  \\\n",
       "0         0                         0                          0            0   \n",
       "1         0                         0                          0            0   \n",
       "2         0                         0                          0            0   \n",
       "3         0                         0                          0            0   \n",
       "4         0                         0                          0            0   \n",
       "\n",
       "   title-case  launch-screen  sqlconnection  python-2.5  android-layout  cabal  \n",
       "0           0              0              0           0               0      0  \n",
       "1           0              0              0           0               0      0  \n",
       "2           0              0              0           0               0      0  \n",
       "3           0              0              0           0               0      0  \n",
       "4           0              0              0           0               0      0  \n",
       "\n",
       "[5 rows x 9478 columns]"
      ]
     },
     "execution_count": 22,
     "metadata": {},
     "output_type": "execute_result"
    }
   ],
   "source": [
    "df.head()"
   ]
  },
  {
   "cell_type": "markdown",
   "id": "a9fbc8b1",
   "metadata": {},
   "source": [
    "## Distribution des tags"
   ]
  },
  {
   "cell_type": "markdown",
   "id": "f405f85e",
   "metadata": {},
   "source": [
    "histogramme du nbre d'individu par tags pour savoir si le tags est utile ou non (s'il n'a qu'un individu, sert à rien)"
   ]
  },
  {
   "cell_type": "code",
   "execution_count": 23,
   "id": "14298ba7",
   "metadata": {
    "ExecuteTime": {
     "end_time": "2021-08-09T18:22:07.938896Z",
     "start_time": "2021-08-09T18:22:06.403303Z"
    }
   },
   "outputs": [
    {
     "name": "stdout",
     "output_type": "stream",
     "text": [
      "dot42                     1\n",
      "mysql-error-1267          1\n",
      "codeigniter-helpers       1\n",
      "doctrine-query            1\n",
      "mysql-error-1052          1\n",
      "                       ... \n",
      "android                2863\n",
      "c#                     3281\n",
      "java                   4000\n",
      "python                 4683\n",
      "javascript             4777\n",
      "Length: 9474, dtype: int64\n"
     ]
    }
   ],
   "source": [
    "# Nbre d'occurence des tags\n",
    "sum_column = df.iloc[:,4:].sum(axis=0)\n",
    "print (sum_column.sort_values())"
   ]
  },
  {
   "cell_type": "code",
   "execution_count": 24,
   "id": "ee144ca0",
   "metadata": {
    "ExecuteTime": {
     "end_time": "2021-08-09T18:22:08.252297Z",
     "start_time": "2021-08-09T18:22:07.941888Z"
    }
   },
   "outputs": [
    {
     "data": {
      "text/plain": [
       "<AxesSubplot:>"
      ]
     },
     "execution_count": 24,
     "metadata": {},
     "output_type": "execute_result"
    },
    {
     "data": {
      "image/png": "[encoded data removed]",
      "text/plain": [
       "<Figure size 1440x360 with 1 Axes>"
      ]
     },
     "metadata": {
      "needs_background": "light"
     },
     "output_type": "display_data"
    }
   ],
   "source": [
    "plt.figure(figsize=(20, 5))\n",
    "sum_column.sort_values().plot()"
   ]
  },
  {
   "cell_type": "markdown",
   "id": "e0fc43e7",
   "metadata": {},
   "source": [
    "On ne va garder que les 100 tags les plus utilisés"
   ]
  },
  {
   "cell_type": "code",
   "execution_count": 25,
   "id": "7859e192",
   "metadata": {
    "ExecuteTime": {
     "end_time": "2021-08-09T18:22:08.455909Z",
     "start_time": "2021-08-09T18:22:08.254291Z"
    }
   },
   "outputs": [
    {
     "data": {
      "text/plain": [
       "Text(0.5, 1.0, \"Nombre d'occurence du tag\")"
      ]
     },
     "execution_count": 25,
     "metadata": {},
     "output_type": "execute_result"
    },
    {
     "data": {
      "image/png": "[encoded data removed]",
      "text/plain": [
       "<Figure size 1440x360 with 1 Axes>"
      ]
     },
     "metadata": {
      "needs_background": "light"
     },
     "output_type": "display_data"
    }
   ],
   "source": [
    "plt.figure(figsize=(20, 5))\n",
    "sum_column.sort_values()[-100:].plot()\n",
    "plt.title(\"Nombre d'occurence du tag\")"
   ]
  },
  {
   "cell_type": "code",
   "execution_count": 26,
   "id": "ff506cb2",
   "metadata": {
    "ExecuteTime": {
     "end_time": "2021-08-09T18:22:14.989198Z",
     "start_time": "2021-08-09T18:22:08.457903Z"
    }
   },
   "outputs": [],
   "source": [
    "df2 = df.drop(columns = sum_column.sort_values()[0:-100].index)\n",
    "df2['nbre_tags'] = df2.iloc[:,4:].sum(axis=1)\n",
    "df2.sort_values(by='nbre_tags')\n",
    "\n",
    "# On retire tous les individus qui n'ont pas de tags parmi les 100 premiers \n",
    "df2 = df2.loc[df2['nbre_tags']>0]\n",
    "df2.drop(columns = ['nbre_tags','Tags'], inplace=True)"
   ]
  },
  {
   "cell_type": "code",
   "execution_count": 27,
   "id": "9687693d",
   "metadata": {
    "ExecuteTime": {
     "end_time": "2021-08-09T18:22:15.020675Z",
     "start_time": "2021-08-09T18:22:14.990174Z"
    }
   },
   "outputs": [
    {
     "name": "stdout",
     "output_type": "stream",
     "text": [
      "types           178\n",
      "forms           182\n",
      "class           185\n",
      "collections     185\n",
      "image           186\n",
      "               ... \n",
      "android        2863\n",
      "c#             3281\n",
      "java           4000\n",
      "python         4683\n",
      "javascript     4777\n",
      "Length: 98, dtype: int64\n"
     ]
    }
   ],
   "source": [
    "# Nbre d'occurence des 100 premiers tags\n",
    "sum_column2 = df2.iloc[:,4:-1].sum(axis=0)\n",
    "print (sum_column2.sort_values())"
   ]
  },
  {
   "cell_type": "code",
   "execution_count": 28,
   "id": "ea347c4d",
   "metadata": {
    "ExecuteTime": {
     "end_time": "2021-08-09T18:22:15.036595Z",
     "start_time": "2021-08-09T18:22:15.030606Z"
    }
   },
   "outputs": [
    {
     "name": "stdout",
     "output_type": "stream",
     "text": [
      "df2 dimension: (40730, 103)\n",
      "df dimension: (44995, 9478)\n"
     ]
    }
   ],
   "source": [
    "# Regarde la différence de dataset, la perte des individus\n",
    "print('df2 dimension:',df2.shape)\n",
    "print('df dimension:',df.shape)"
   ]
  },
  {
   "cell_type": "code",
   "execution_count": 29,
   "id": "e4fb57b4",
   "metadata": {
    "ExecuteTime": {
     "end_time": "2021-08-09T18:22:15.084465Z",
     "start_time": "2021-08-09T18:22:15.038584Z"
    }
   },
   "outputs": [
    {
     "data": {
      "text/html": [
       "<div>\n",
       "<style scoped>\n",
       "    .dataframe tbody tr th:only-of-type {\n",
       "        vertical-align: middle;\n",
       "    }\n",
       "\n",
       "    .dataframe tbody tr th {\n",
       "        vertical-align: top;\n",
       "    }\n",
       "\n",
       "    .dataframe thead th {\n",
       "        text-align: right;\n",
       "    }\n",
       "</style>\n",
       "<table border=\"1\" class=\"dataframe\">\n",
       "  <thead>\n",
       "    <tr style=\"text-align: right;\">\n",
       "      <th></th>\n",
       "      <th>content</th>\n",
       "      <th>preprocess_content</th>\n",
       "      <th>word_count</th>\n",
       "      <th>version-control</th>\n",
       "      <th>forms</th>\n",
       "      <th>sql</th>\n",
       "      <th>syntax</th>\n",
       "      <th>asp.net-mvc</th>\n",
       "      <th>numpy</th>\n",
       "      <th>http</th>\n",
       "      <th>...</th>\n",
       "      <th>objective-c</th>\n",
       "      <th>exception</th>\n",
       "      <th>sorting</th>\n",
       "      <th>matplotlib</th>\n",
       "      <th>c</th>\n",
       "      <th>android</th>\n",
       "      <th>ios</th>\n",
       "      <th>linq</th>\n",
       "      <th>swift</th>\n",
       "      <th>java-8</th>\n",
       "    </tr>\n",
       "  </thead>\n",
       "  <tbody>\n",
       "    <tr>\n",
       "      <th>0</th>\n",
       "      <td>is there any way to tinker with the iphone sdk...</td>\n",
       "      <td>[way, machine, plan, version, way, think, run,...</td>\n",
       "      <td>70</td>\n",
       "      <td>0</td>\n",
       "      <td>0</td>\n",
       "      <td>0</td>\n",
       "      <td>0</td>\n",
       "      <td>0</td>\n",
       "      <td>0</td>\n",
       "      <td>0</td>\n",
       "      <td>...</td>\n",
       "      <td>0</td>\n",
       "      <td>0</td>\n",
       "      <td>0</td>\n",
       "      <td>0</td>\n",
       "      <td>0</td>\n",
       "      <td>0</td>\n",
       "      <td>1</td>\n",
       "      <td>0</td>\n",
       "      <td>0</td>\n",
       "      <td>0</td>\n",
       "    </tr>\n",
       "    <tr>\n",
       "      <th>1</th>\n",
       "      <td>i have this gigantic ugly string j transaction...</td>\n",
       "      <td>[gigantic, ugly, string, transaction, start, p...</td>\n",
       "      <td>120</td>\n",
       "      <td>0</td>\n",
       "      <td>0</td>\n",
       "      <td>0</td>\n",
       "      <td>0</td>\n",
       "      <td>0</td>\n",
       "      <td>0</td>\n",
       "      <td>0</td>\n",
       "      <td>...</td>\n",
       "      <td>0</td>\n",
       "      <td>0</td>\n",
       "      <td>0</td>\n",
       "      <td>0</td>\n",
       "      <td>0</td>\n",
       "      <td>0</td>\n",
       "      <td>0</td>\n",
       "      <td>0</td>\n",
       "      <td>0</td>\n",
       "      <td>0</td>\n",
       "    </tr>\n",
       "    <tr>\n",
       "      <th>2</th>\n",
       "      <td>i am working with autolayout and constraints a...</td>\n",
       "      <td>[work, autolayout, constraint, find, constrain...</td>\n",
       "      <td>199</td>\n",
       "      <td>0</td>\n",
       "      <td>0</td>\n",
       "      <td>0</td>\n",
       "      <td>0</td>\n",
       "      <td>0</td>\n",
       "      <td>0</td>\n",
       "      <td>0</td>\n",
       "      <td>...</td>\n",
       "      <td>0</td>\n",
       "      <td>0</td>\n",
       "      <td>0</td>\n",
       "      <td>0</td>\n",
       "      <td>0</td>\n",
       "      <td>0</td>\n",
       "      <td>1</td>\n",
       "      <td>0</td>\n",
       "      <td>0</td>\n",
       "      <td>0</td>\n",
       "    </tr>\n",
       "    <tr>\n",
       "      <th>3</th>\n",
       "      <td>i m learning objective c and keep bumping into...</td>\n",
       "      <td>[learn, objective, keep, bump, symbol, use, di...</td>\n",
       "      <td>48</td>\n",
       "      <td>0</td>\n",
       "      <td>0</td>\n",
       "      <td>0</td>\n",
       "      <td>0</td>\n",
       "      <td>0</td>\n",
       "      <td>0</td>\n",
       "      <td>0</td>\n",
       "      <td>...</td>\n",
       "      <td>1</td>\n",
       "      <td>0</td>\n",
       "      <td>0</td>\n",
       "      <td>0</td>\n",
       "      <td>0</td>\n",
       "      <td>0</td>\n",
       "      <td>0</td>\n",
       "      <td>0</td>\n",
       "      <td>0</td>\n",
       "      <td>0</td>\n",
       "    </tr>\n",
       "    <tr>\n",
       "      <th>4</th>\n",
       "      <td>is there a simple way in a pretty standard uni...</td>\n",
       "      <td>[simple, way, pretty, standard, unix, environm...</td>\n",
       "      <td>113</td>\n",
       "      <td>0</td>\n",
       "      <td>0</td>\n",
       "      <td>0</td>\n",
       "      <td>0</td>\n",
       "      <td>0</td>\n",
       "      <td>0</td>\n",
       "      <td>0</td>\n",
       "      <td>...</td>\n",
       "      <td>0</td>\n",
       "      <td>0</td>\n",
       "      <td>0</td>\n",
       "      <td>0</td>\n",
       "      <td>0</td>\n",
       "      <td>0</td>\n",
       "      <td>0</td>\n",
       "      <td>0</td>\n",
       "      <td>0</td>\n",
       "      <td>0</td>\n",
       "    </tr>\n",
       "  </tbody>\n",
       "</table>\n",
       "<p>5 rows × 103 columns</p>\n",
       "</div>"
      ],
      "text/plain": [
       "                                             content  \\\n",
       "0  is there any way to tinker with the iphone sdk...   \n",
       "1  i have this gigantic ugly string j transaction...   \n",
       "2  i am working with autolayout and constraints a...   \n",
       "3  i m learning objective c and keep bumping into...   \n",
       "4  is there a simple way in a pretty standard uni...   \n",
       "\n",
       "                                  preprocess_content  word_count  \\\n",
       "0  [way, machine, plan, version, way, think, run,...          70   \n",
       "1  [gigantic, ugly, string, transaction, start, p...         120   \n",
       "2  [work, autolayout, constraint, find, constrain...         199   \n",
       "3  [learn, objective, keep, bump, symbol, use, di...          48   \n",
       "4  [simple, way, pretty, standard, unix, environm...         113   \n",
       "\n",
       "   version-control  forms  sql  syntax  asp.net-mvc  numpy  http  ...  \\\n",
       "0                0      0    0       0            0      0     0  ...   \n",
       "1                0      0    0       0            0      0     0  ...   \n",
       "2                0      0    0       0            0      0     0  ...   \n",
       "3                0      0    0       0            0      0     0  ...   \n",
       "4                0      0    0       0            0      0     0  ...   \n",
       "\n",
       "   objective-c  exception  sorting  matplotlib  c  android  ios  linq  swift  \\\n",
       "0            0          0        0           0  0        0    1     0      0   \n",
       "1            0          0        0           0  0        0    0     0      0   \n",
       "2            0          0        0           0  0        0    1     0      0   \n",
       "3            1          0        0           0  0        0    0     0      0   \n",
       "4            0          0        0           0  0        0    0     0      0   \n",
       "\n",
       "   java-8  \n",
       "0       0  \n",
       "1       0  \n",
       "2       0  \n",
       "3       0  \n",
       "4       0  \n",
       "\n",
       "[5 rows x 103 columns]"
      ]
     },
     "execution_count": 29,
     "metadata": {},
     "output_type": "execute_result"
    }
   ],
   "source": [
    "df2.head()"
   ]
  },
  {
   "cell_type": "markdown",
   "id": "354d8440",
   "metadata": {
    "ExecuteTime": {
     "end_time": "2021-08-10T13:57:39.876662Z",
     "start_time": "2021-08-10T13:57:39.864605Z"
    }
   },
   "source": [
    "## Nombre de tags par individu"
   ]
  },
  {
   "cell_type": "code",
   "execution_count": 47,
   "id": "ccba50b3",
   "metadata": {
    "ExecuteTime": {
     "end_time": "2021-08-10T14:06:05.672302Z",
     "start_time": "2021-08-10T14:05:58.730752Z"
    }
   },
   "outputs": [
    {
     "name": "stdout",
     "output_type": "stream",
     "text": [
      "11319    1\n",
      "16311    1\n",
      "5581     1\n",
      "28853    1\n",
      "5576     1\n",
      "        ..\n",
      "10772    5\n",
      "10769    5\n",
      "10767    5\n",
      "34356    5\n",
      "44994    5\n",
      "Length: 44995, dtype: int64\n"
     ]
    }
   ],
   "source": [
    "# Nbre de tags par individu sur df\n",
    "sum_row = df.iloc[:,4:].sum(axis=1)\n",
    "print (sum_row.sort_values())"
   ]
  },
  {
   "cell_type": "code",
   "execution_count": 48,
   "id": "55128c23",
   "metadata": {
    "ExecuteTime": {
     "end_time": "2021-08-10T14:06:13.206838Z",
     "start_time": "2021-08-10T14:06:12.745608Z"
    }
   },
   "outputs": [
    {
     "data": {
      "text/plain": [
       "Text(0.5, 1.0, 'Nombre de tags par individu')"
      ]
     },
     "execution_count": 48,
     "metadata": {},
     "output_type": "execute_result"
    },
    {
     "data": {
      "text/plain": [
       "<Figure size 1440x360 with 0 Axes>"
      ]
     },
     "metadata": {},
     "output_type": "display_data"
    },
    {
     "data": {
      "image/png": "[encoded data removed]",
      "text/plain": [
       "<Figure size 432x288 with 1 Axes>"
      ]
     },
     "metadata": {
      "needs_background": "light"
     },
     "output_type": "display_data"
    }
   ],
   "source": [
    "plt.figure(figsize=(20, 5))\n",
    "sum_row.sort_values().reset_index().drop(columns ='index').plot()\n",
    "plt.title(\"Nombre de tags par individu\")"
   ]
  },
  {
   "cell_type": "code",
   "execution_count": 45,
   "id": "f42ae370",
   "metadata": {
    "ExecuteTime": {
     "end_time": "2021-08-10T14:05:11.042465Z",
     "start_time": "2021-08-10T14:05:11.002861Z"
    }
   },
   "outputs": [
    {
     "name": "stdout",
     "output_type": "stream",
     "text": [
      "22489    1\n",
      "34818    1\n",
      "18181    1\n",
      "18180    1\n",
      "34821    1\n",
      "        ..\n",
      "37840    5\n",
      "29832    5\n",
      "40467    5\n",
      "6087     5\n",
      "11371    5\n",
      "Length: 40730, dtype: int64\n"
     ]
    }
   ],
   "source": [
    "# Nbre de tags par individu sur df2\n",
    "sum_row2 = df2.iloc[:,3:].sum(axis=1)\n",
    "print (sum_row2.sort_values())"
   ]
  },
  {
   "cell_type": "code",
   "execution_count": 46,
   "id": "704db3a7",
   "metadata": {
    "ExecuteTime": {
     "end_time": "2021-08-10T14:05:11.880340Z",
     "start_time": "2021-08-10T14:05:11.353249Z"
    }
   },
   "outputs": [
    {
     "data": {
      "text/plain": [
       "Text(0.5, 1.0, 'Nombre de tags par individu')"
      ]
     },
     "execution_count": 46,
     "metadata": {},
     "output_type": "execute_result"
    },
    {
     "data": {
      "text/plain": [
       "<Figure size 1440x360 with 0 Axes>"
      ]
     },
     "metadata": {},
     "output_type": "display_data"
    },
    {
     "data": {
      "image/png": "[encoded data removed]",
      "text/plain": [
       "<Figure size 432x288 with 1 Axes>"
      ]
     },
     "metadata": {
      "needs_background": "light"
     },
     "output_type": "display_data"
    }
   ],
   "source": [
    "plt.figure(figsize=(20, 5))\n",
    "sum_row2.sort_values().reset_index().drop(columns ='index').plot()\n",
    "plt.title(\"Nombre de tags par individu\")"
   ]
  },
  {
   "cell_type": "markdown",
   "id": "64507513",
   "metadata": {},
   "source": [
    "# Export des datasets"
   ]
  },
  {
   "cell_type": "code",
   "execution_count": 30,
   "id": "bdbb7521",
   "metadata": {
    "ExecuteTime": {
     "end_time": "2021-08-09T18:22:15.909436Z",
     "start_time": "2021-08-09T18:22:15.086456Z"
    }
   },
   "outputs": [],
   "source": [
    "df2.to_pickle(\"./preprocess_data.pkl\")"
   ]
  }
 ],
 "metadata": {
  "kernelspec": {
   "display_name": "Python 3 (ipykernel)",
   "language": "python",
   "name": "python3"
  },
  "language_info": {
   "codemirror_mode": {
    "name": "ipython",
    "version": 3
   },
   "file_extension": ".py",
   "mimetype": "text/x-python",
   "name": "python",
   "nbconvert_exporter": "python",
   "pygments_lexer": "ipython3",
   "version": "3.8.8"
  },
  "toc": {
   "base_numbering": 1,
   "nav_menu": {},
   "number_sections": true,
   "sideBar": true,
   "skip_h1_title": false,
   "title_cell": "Table of Contents",
   "title_sidebar": "Contents",
   "toc_cell": false,
   "toc_position": {
    "height": "calc(100% - 180px)",
    "left": "10px",
    "top": "150px",
    "width": "285px"
   },
   "toc_section_display": true,
   "toc_window_display": true
  }
 },
 "nbformat": 4,
 "nbformat_minor": 5
}
